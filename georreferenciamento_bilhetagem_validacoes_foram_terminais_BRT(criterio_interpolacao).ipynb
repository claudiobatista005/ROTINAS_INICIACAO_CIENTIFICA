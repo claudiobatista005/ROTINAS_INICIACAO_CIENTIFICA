{
 "cells": [
  {
   "cell_type": "markdown",
   "id": "4c29b47f",
   "metadata": {},
   "source": [
    "# Algoritmo - Localização base Bilhetagem\n",
    "### Autor: Antônio Claudio Dutra Batista\n",
    "### Orientador: Francisco Moraes de Oliveria Neto\n",
    "### Metodologia: Mesclagem por informações coincidentes e critério de interpolação"
   ]
  },
  {
   "cell_type": "markdown",
   "id": "0d3152ac",
   "metadata": {},
   "source": [
    "# 1.0  Leitura das Bases"
   ]
  },
  {
   "cell_type": "markdown",
   "id": "53c75e45",
   "metadata": {},
   "source": [
    "## 1.1 leitura da base - Bilhetagem (Tratamento Inicial)"
   ]
  },
  {
   "cell_type": "code",
   "execution_count": null,
   "id": "493f58a7",
   "metadata": {},
   "outputs": [],
   "source": [
    "import pandas as pd \n",
    "# Arquivos são do mês de novembro de 2018.\n",
    "# Definindo tipos de variaveis com tamanhos menores\n",
    "tipos_specification = {'id': 'int32', 'linha': 'int32'}\n",
    "\n",
    "# df's abaixo (leitura somente das colunas necessárias):\n",
    "dia_01 = pd.read_csv('2018-11-01.csv', usecols=['id', 'linha', 'prefixo_carro', 'tipo_cartao','dia', 'momento'], dtype=tipos_specification, sep= ',')\n",
    "# dia_02 = pd.read_csv('2018-11-02.csv', usecols=['id', 'linha', 'prefixo_carro', 'tipo_cartao','dia', 'momento'], dtype=tipos_specification,  sep= ',')\n",
    "# dia_03 = pd.read_csv('2018-11-03.csv', usecols=['id', 'linha', 'prefixo_carro', 'tipo_cartao','dia', 'momento'], dtype=tipos_specification,  sep= ',')\n",
    "# dia_04 = pd.read_csv('2018-11-04.csv', usecols=['id', 'linha', 'prefixo_carro', 'tipo_cartao','dia', 'momento'], dtype=tipos_specification,  sep= ',')\n",
    "# dia_05 = pd.read_csv('2018-11-05.csv', usecols=['id', 'linha', 'prefixo_carro', 'tipo_cartao','dia', 'momento'], dtype=tipos_specification, sep= ',') \n",
    "# dia_06 = pd.read_csv('2018-11-06.csv', usecols=['id', 'linha', 'prefixo_carro', 'tipo_cartao','dia', 'momento'], dtype=tipos_specification,  sep= ',')\n",
    "# dia_07 = pd.read_csv('2018-11-07.csv', usecols=['id', 'linha', 'prefixo_carro', 'tipo_cartao','dia', 'momento'], dtype=tipos_specification,  sep= ',')\n",
    "# dia_08 = pd.read_csv('2018-11-08.csv', usecols=['id', 'linha', 'prefixo_carro', 'tipo_cartao','dia', 'momento'], dtype=tipos_specification, sep= ',')\n",
    "# dia_09 = pd.read_csv('2018-11-09.csv', usecols=['id', 'linha', 'prefixo_carro', 'tipo_cartao','dia', 'momento'], dtype=tipos_specification,  sep= ',')\n",
    "# dia_10 = pd.read_csv('2018-11-10.csv', usecols=['id', 'linha', 'prefixo_carro', 'tipo_cartao','dia', 'momento'], dtype=tipos_specification,  sep= ',')"
   ]
  },
  {
   "cell_type": "code",
   "execution_count": null,
   "id": "54b24fda",
   "metadata": {},
   "outputs": [],
   "source": [
    "# Continuando...\n",
    "# dia_11 = pd.read_csv('2018-11-11.csv', usecols=['id', 'linha', 'prefixo_carro', 'tipo_cartao','dia', 'momento'], dtype=tipos_specification,  sep= ',')\n",
    "# dia_12 = pd.read_csv('2018-11-12.csv', usecols=['id', 'linha', 'prefixo_carro', 'tipo_cartao','dia', 'momento'], dtype=tipos_specification,  sep= ',')\n",
    "# dia_13 = pd.read_csv('2018-11-13.csv', usecols=['id', 'linha', 'prefixo_carro', 'tipo_cartao','dia', 'momento'], dtype=tipos_specification,  sep= ',')\n",
    "# dia_14 = pd.read_csv('2018-11-14.csv', usecols=['id', 'linha', 'prefixo_carro', 'tipo_cartao','dia', 'momento'], dtype=tipos_specification,  sep= ',')\n",
    "# dia_15 = pd.read_csv('2018-11-15.csv', usecols=['id', 'linha', 'prefixo_carro', 'tipo_cartao','dia', 'momento'], dtype=tipos_specification,  sep= ',')\n",
    "# dia_16 = pd.read_csv('2018-11-16.csv', usecols=['id', 'linha', 'prefixo_carro', 'tipo_cartao','dia', 'momento'], dtype=tipos_specification,  sep= ',')\n",
    "# dia_17 = pd.read_csv('2018-11-17.csv', usecols=['id', 'linha', 'prefixo_carro', 'tipo_cartao','dia', 'momento'], dtype=tipos_specification,  sep= ',')\n",
    "# dia_18 = pd.read_csv('2018-11-18.csv', usecols=['id', 'linha', 'prefixo_carro', 'tipo_cartao','dia', 'momento'], dtype=tipos_specification,  sep= ',')\n",
    "# dia_19 = pd.read_csv('2018-11-19.csv', usecols=['id', 'linha', 'prefixo_carro', 'tipo_cartao','dia', 'momento'], dtype=tipos_specification, sep= ',')\n",
    "# dia_20 = pd.read_csv('2018-11-20.csv', usecols=['id', 'linha', 'prefixo_carro', 'tipo_cartao','dia', 'momento'], dtype=tipos_specification, sep= ',')"
   ]
  },
  {
   "cell_type": "code",
   "execution_count": null,
   "id": "ddae68f7",
   "metadata": {},
   "outputs": [],
   "source": [
    "# Continuando...\n",
    "# dia_21 = pd.read_csv('2018-11-21.csv', usecols=['id', 'linha', 'prefixo_carro', 'tipo_cartao','dia', 'momento'], dtype=tipos_specification,  sep= ',')\n",
    "# dia_22 = pd.read_csv('2018-11-22.csv', usecols=['id', 'linha', 'prefixo_carro', 'tipo_cartao','dia', 'momento'], dtype=tipos_specification,  sep= ',')\n",
    "# dia_23 = pd.read_csv('2018-11-23.csv', usecols=['id', 'linha', 'prefixo_carro', 'tipo_cartao','dia', 'momento'], dtype=tipos_specification,  sep= ',')\n",
    "# dia_24 = pd.read_csv('2018-11-24.csv', usecols=['id', 'linha', 'prefixo_carro', 'tipo_cartao','dia', 'momento'], dtype=tipos_specification,  sep= ',')\n",
    "# dia_25 = pd.read_csv('2018-11-25.csv', usecols=['id', 'linha', 'prefixo_carro', 'tipo_cartao','dia', 'momento'], dtype=tipos_specification,  sep= ',')\n",
    "# dia_26 = pd.read_csv('2018-11-26.csv', usecols=['id', 'linha', 'prefixo_carro', 'tipo_cartao','dia', 'momento'], dtype=tipos_specification,  sep= ',')\n",
    "# dia_27 = pd.read_csv('2018-11-27.csv', usecols=['id', 'linha', 'prefixo_carro', 'tipo_cartao','dia', 'momento'], dtype=tipos_specification,  sep= ',')\n",
    "# dia_28 = pd.read_csv('2018-11-28.csv', usecols=['id', 'linha', 'prefixo_carro', 'tipo_cartao','dia', 'momento'], dtype=tipos_specification,  sep= ',')\n",
    "# dia_29 = pd.read_csv('2018-11-29.csv', usecols=['id', 'linha', 'prefixo_carro', 'tipo_cartao','dia', 'momento'], dtype=tipos_specification,  sep= ',')\n",
    "# dia_30 = pd.read_csv('2018-11-30.csv', usecols=['id', 'linha', 'prefixo_carro', 'tipo_cartao','dia', 'momento'], dtype=tipos_specification,  sep= ',')"
   ]
  },
  {
   "cell_type": "code",
   "execution_count": null,
   "id": "f4b4ee7b",
   "metadata": {},
   "outputs": [],
   "source": [
    "# Agrupando (10 dias)\n",
    "# dia_01_10 = pd.concat([dia_01, dia_02, dia_03, dia_04, dia_05, dia_06 ,dia_07, dia_08, dia_09, dia_10])"
   ]
  },
  {
   "cell_type": "code",
   "execution_count": null,
   "id": "626596ba",
   "metadata": {},
   "outputs": [],
   "source": [
    "# Continuando...\n",
    "# dia_11_20 = pd.concat([dia_11, dia_12, dia_13, dia_14, dia_15,dia_16, dia_17, dia_18, dia_19, dia_20])"
   ]
  },
  {
   "cell_type": "code",
   "execution_count": null,
   "id": "2cf982ac",
   "metadata": {},
   "outputs": [],
   "source": [
    "# Continuando...\n",
    "#  dia_21_30 = pd.concat([dia_21, dia_22, dia_23, dia_24, dia_25, dia_26, dia_27, dia_28, dia_29, dia_30])"
   ]
  },
  {
   "cell_type": "code",
   "execution_count": null,
   "id": "7a52414b",
   "metadata": {},
   "outputs": [],
   "source": [
    "# Jutando em uma so variavel\n",
    "mes_tudo = dia_01"
   ]
  },
  {
   "cell_type": "code",
   "execution_count": null,
   "id": "43fce2a3",
   "metadata": {},
   "outputs": [],
   "source": [
    "# Caso necessite exportar arquivo da bilhetagem completa\n",
    "# mes_tudo.to_csv(\"mes_tudo\")"
   ]
  },
  {
   "cell_type": "code",
   "execution_count": null,
   "id": "e831ad21",
   "metadata": {},
   "outputs": [],
   "source": [
    "# BUSCAR DADOS NULOS\n",
    "mes_tudo.info()"
   ]
  },
  {
   "cell_type": "code",
   "execution_count": null,
   "id": "ab0b81d4",
   "metadata": {},
   "outputs": [],
   "source": [
    "# Momentos em ordem do df mes_c_R!\n",
    "mes_tudo.sort_values('momento', inplace = True) # Mostrando DF em ORDEM!"
   ]
  },
  {
   "cell_type": "code",
   "execution_count": null,
   "id": "a460db48",
   "metadata": {},
   "outputs": [],
   "source": [
    "# Memoria liberou 0.2 gb\n",
    "mes_tudo.info()"
   ]
  },
  {
   "cell_type": "code",
   "execution_count": null,
   "id": "2682773d",
   "metadata": {},
   "outputs": [],
   "source": [
    "# Juntando colunas de interesse (dia, momento) em uma só:\n",
    "mes_tudo[\"momento\"] = mes_tudo['dia'].astype(str) + '-' + mes_tudo['momento'].astype(str)"
   ]
  },
  {
   "cell_type": "code",
   "execution_count": null,
   "id": "448748f2",
   "metadata": {},
   "outputs": [],
   "source": [
    "# REMOVENDO COLUNAS DESNECESSÁRIAS!\n",
    "mes1 = mes_tudo.drop(['dia'], axis=1)"
   ]
  },
  {
   "cell_type": "code",
   "execution_count": null,
   "id": "32e3a30a",
   "metadata": {},
   "outputs": [],
   "source": [
    "# Excluindo explicitamente variavel da bilhetagem não mais necessária \n",
    "del mes_tudo"
   ]
  },
  {
   "cell_type": "code",
   "execution_count": null,
   "id": "8ad42a07",
   "metadata": {},
   "outputs": [],
   "source": [
    "mes1.info()"
   ]
  },
  {
   "cell_type": "code",
   "execution_count": null,
   "id": "f4280e23",
   "metadata": {
    "scrolled": true
   },
   "outputs": [],
   "source": [
    "mes1[\"momento\"] = pd.to_datetime(mes1[\"momento\"], format= '%Y-%m-%d-%H:%M:%S')"
   ]
  },
  {
   "cell_type": "code",
   "execution_count": null,
   "id": "68b152d3",
   "metadata": {},
   "outputs": [],
   "source": [
    "# Removendo dados nulos na coluna prefixo_carro\n",
    "mes_ = mes1.dropna(subset = ['prefixo_carro'])"
   ]
  },
  {
   "cell_type": "code",
   "execution_count": null,
   "id": "382fabf5",
   "metadata": {},
   "outputs": [],
   "source": [
    "# Excluindo explicitamente variavel da bilhetagem não mais necessária \n",
    "del mes1"
   ]
  },
  {
   "cell_type": "code",
   "execution_count": null,
   "id": "77287750",
   "metadata": {},
   "outputs": [],
   "source": [
    "# Removendo identificação de veiculos com caracteris da coluna de prefixo_carro\n",
    "mes = mes_[pd.to_numeric(mes_['prefixo_carro'], errors='coerce').notnull()]"
   ]
  },
  {
   "cell_type": "code",
   "execution_count": null,
   "id": "2326b142",
   "metadata": {},
   "outputs": [],
   "source": [
    "# Excluindo explicitamente variavel da bilhetagem não mais necessária \n",
    "del mes_"
   ]
  },
  {
   "cell_type": "code",
   "execution_count": null,
   "id": "c410eb02",
   "metadata": {},
   "outputs": [],
   "source": [
    "# Trasnformando coluna de prefixo carro em inteiro\n",
    "mes['prefixo_carro'] = mes['prefixo_carro'].astype('int32')"
   ]
  },
  {
   "cell_type": "code",
   "execution_count": null,
   "id": "e068fbac",
   "metadata": {},
   "outputs": [],
   "source": [
    "mes.info()"
   ]
  },
  {
   "cell_type": "code",
   "execution_count": null,
   "id": "1a630ae6",
   "metadata": {},
   "outputs": [],
   "source": [
    "# Última versão do df MES\n",
    "mes"
   ]
  },
  {
   "cell_type": "markdown",
   "id": "839393cf",
   "metadata": {},
   "source": [
    "## 1.2 leitura da base - Dicionário"
   ]
  },
  {
   "cell_type": "code",
   "execution_count": null,
   "id": "5818c54c",
   "metadata": {},
   "outputs": [],
   "source": [
    "# df', abaixo:\n",
    "d1 = pd.read_csv('veiculos2018.csv', sep= ';')"
   ]
  },
  {
   "cell_type": "code",
   "execution_count": null,
   "id": "bc24ee0d",
   "metadata": {},
   "outputs": [],
   "source": [
    "# Mostrando Df\n",
    "display(d1)"
   ]
  },
  {
   "cell_type": "code",
   "execution_count": null,
   "id": "433246ec",
   "metadata": {},
   "outputs": [],
   "source": [
    "d1.info()"
   ]
  },
  {
   "cell_type": "code",
   "execution_count": null,
   "id": "b94313d8",
   "metadata": {},
   "outputs": [],
   "source": [
    "# Removenfdo identificação de veiculos com caracters da coluna de cod_veiculo\n",
    "d01 = d1[pd.to_numeric(d1['cod_veiculo'], errors='coerce').notnull()]"
   ]
  },
  {
   "cell_type": "code",
   "execution_count": null,
   "id": "c7d282e5",
   "metadata": {},
   "outputs": [],
   "source": [
    "d01.info()"
   ]
  },
  {
   "cell_type": "code",
   "execution_count": null,
   "id": "063ec36d",
   "metadata": {},
   "outputs": [],
   "source": [
    "# Trasnformando coluna de prefixo carro em inteiro\n",
    "d01['cod_veiculo'] = d01['cod_veiculo'].astype('int32')\n",
    "d01['id_veiculo'] = d01['id_veiculo'].astype('int32')"
   ]
  },
  {
   "cell_type": "code",
   "execution_count": null,
   "id": "162541bc",
   "metadata": {},
   "outputs": [],
   "source": [
    "d01[d01.cod_veiculo ==36981]"
   ]
  },
  {
   "cell_type": "code",
   "execution_count": null,
   "id": "11429eb1",
   "metadata": {},
   "outputs": [],
   "source": [
    "d01['cod_veiculo'].sort_index()"
   ]
  },
  {
   "cell_type": "code",
   "execution_count": null,
   "id": "8754fad7",
   "metadata": {
    "scrolled": true
   },
   "outputs": [],
   "source": [
    "d1.isnull().sum()"
   ]
  },
  {
   "cell_type": "markdown",
   "id": "40a0e798",
   "metadata": {},
   "source": [
    "## 1.3 leitura do base - GPS (Tratamento inicial)"
   ]
  },
  {
   "cell_type": "code",
   "execution_count": null,
   "id": "e8bd351c",
   "metadata": {},
   "outputs": [],
   "source": [
    "import pandas as pd\n",
    "\n",
    "# Definindo o número de linhas que você deseja ler\n",
    "numero_de_linhas_para_ler = 45000000  # Substitua pelo número desejado\n",
    "dtype_specification = {'longitude': 'float32', 'latitude': 'float32', 'vehicle_vehicleid': 'int32'}\n",
    "\n",
    "# Usando o pandas para ler o CSV, limitando o número de linhas com a opção nrows\n",
    "mes_ate_45_milhoes = pd.read_csv('Paint112018.csv',usecols=['latitude', 'longitude', 'metrictimestamp', 'vehicle_vehicleid'], dtype=dtype_specification, nrows=numero_de_linhas_para_ler)"
   ]
  },
  {
   "cell_type": "code",
   "execution_count": null,
   "id": "ec503c87",
   "metadata": {
    "scrolled": true
   },
   "outputs": [],
   "source": [
    "# Lendo restante do arquivo\n",
    "mes_resto = pd.read_csv('Paint112018.csv', usecols=['latitude', 'longitude','metrictimestamp', 'vehicle_vehicleid'],dtype=dtype_specification, skiprows=range(1, numero_de_linhas_para_ler + 1))"
   ]
  },
  {
   "cell_type": "code",
   "execution_count": null,
   "id": "21e55def",
   "metadata": {},
   "outputs": [],
   "source": [
    "# Juntando em um mesmo df\n",
    "GPS_I_H =  pd.concat([mes_ate_45_milhoes, mes_resto]) "
   ]
  },
  {
   "cell_type": "code",
   "execution_count": null,
   "id": "ce9b9960",
   "metadata": {},
   "outputs": [],
   "source": [
    "# Deletando explicitamente variaveis com dados do GPS separados\n",
    "del mes_ate_45_milhoes\n",
    "del mes_resto"
   ]
  },
  {
   "cell_type": "code",
   "execution_count": null,
   "id": "7fcd8558",
   "metadata": {
    "scrolled": true
   },
   "outputs": [],
   "source": [
    "display(GPS_I_H.iloc[275])"
   ]
  },
  {
   "cell_type": "code",
   "execution_count": null,
   "id": "c0dbb0de",
   "metadata": {},
   "outputs": [],
   "source": [
    "GPS_I_H.info()"
   ]
  },
  {
   "cell_type": "code",
   "execution_count": null,
   "id": "592f0147",
   "metadata": {},
   "outputs": [],
   "source": [
    "# FORMATANDO metrictimestamp do (GPS)\n",
    "GPS_I_H['momento_gps'] = pd.to_datetime(GPS_I_H['metrictimestamp'],format= '%Y%m%d%H%M%S')"
   ]
  },
  {
   "cell_type": "code",
   "execution_count": null,
   "id": "16a1318f",
   "metadata": {},
   "outputs": [],
   "source": [
    "GPS_I_H.drop(\"metrictimestamp\", axis= 1, inplace= True)"
   ]
  },
  {
   "cell_type": "code",
   "execution_count": null,
   "id": "6eb3cb11",
   "metadata": {},
   "outputs": [],
   "source": [
    "# Renomear coluna de momento de vehicle_vehicleid para id_veiculo:\n",
    "GPS_I_H.columns=['latitude', 'longitude','id_veiculo', 'momento_gps']"
   ]
  },
  {
   "cell_type": "code",
   "execution_count": null,
   "id": "2420faca",
   "metadata": {},
   "outputs": [],
   "source": [
    "# Colocando valores em ordem\n",
    "GPS_I_H.sort_values('momento_gps', inplace= True)"
   ]
  },
  {
   "cell_type": "code",
   "execution_count": null,
   "id": "c01857f4",
   "metadata": {
    "scrolled": true
   },
   "outputs": [],
   "source": [
    "GPS_I_H.info()"
   ]
  },
  {
   "cell_type": "markdown",
   "id": "77b94302",
   "metadata": {},
   "source": [
    "## 1.3.1 Separando base do GPS Bruto caso queria localizar somente um dia especifico\n",
    "''' Em casos que a integração será dos mes completo basta comentar esse topico e substituir o nome desse arquivo final \"dia_especifico_gps_bruto\" na função \"identificação_momentos\" pelo nome da base completa do GPS no topico 3.1 '''"
   ]
  },
  {
   "cell_type": "code",
   "execution_count": null,
   "id": "f2640adb",
   "metadata": {},
   "outputs": [],
   "source": [
    "# Filtrando dia 01\n",
    "dia_especifico_gps_bruto_ = GPS_I_H[(GPS_I_H.momento_gps<='2018-11-01 23:59:59')]"
   ]
  },
  {
   "cell_type": "code",
   "execution_count": null,
   "id": "9ae4eb96",
   "metadata": {},
   "outputs": [],
   "source": [
    "# Colocando df em ordem na coluna momento\n",
    "dia_especifico_gps_bruto = dia_especifico_gps_bruto_.sort_values('momento_gps')"
   ]
  },
  {
   "cell_type": "code",
   "execution_count": null,
   "id": "6d842b6e",
   "metadata": {},
   "outputs": [],
   "source": [
    "# Reordenar a colunas\n",
    "dia_especifico_gps_bruto = dia_especifico_gps_bruto.reset_index()"
   ]
  },
  {
   "cell_type": "code",
   "execution_count": null,
   "id": "1914df19",
   "metadata": {},
   "outputs": [],
   "source": [
    "dia_especifico_gps_bruto"
   ]
  },
  {
   "cell_type": "code",
   "execution_count": null,
   "id": "1450ee5d",
   "metadata": {},
   "outputs": [],
   "source": [
    "# Deletando explicitamente dados do GPS \n",
    "del GPS_I_H"
   ]
  },
  {
   "cell_type": "markdown",
   "id": "40214ab6",
   "metadata": {},
   "source": [
    "# 2.0 Junção da bilhetagem com o dicionário "
   ]
  },
  {
   "cell_type": "code",
   "execution_count": null,
   "id": "9160a394",
   "metadata": {},
   "outputs": [],
   "source": [
    "# Acrescentando dicionário\n",
    "mes_d1_T = mes.merge(d01, left_on= 'prefixo_carro', right_on='cod_veiculo')"
   ]
  },
  {
   "cell_type": "code",
   "execution_count": null,
   "id": "eca24aa2",
   "metadata": {},
   "outputs": [],
   "source": [
    "mes_d1 = mes_d1_T"
   ]
  },
  {
   "cell_type": "code",
   "execution_count": null,
   "id": "3fe027b4",
   "metadata": {},
   "outputs": [],
   "source": [
    "# Deletando explicitamente variavel com mes da bilhetagem sem dicionario\n",
    "del mes_d1_T"
   ]
  },
  {
   "cell_type": "code",
   "execution_count": null,
   "id": "64d86cfe",
   "metadata": {},
   "outputs": [],
   "source": [
    "# Base da Bilhetagem adicionado o dicionario\n",
    "mes_d1"
   ]
  },
  {
   "cell_type": "code",
   "execution_count": null,
   "id": "be3e33ef",
   "metadata": {},
   "outputs": [],
   "source": [
    "mes_d1.info()"
   ]
  },
  {
   "cell_type": "code",
   "execution_count": null,
   "id": "0ce9467f",
   "metadata": {},
   "outputs": [],
   "source": [
    "# Criando df somente colunas necessátrias para a integração no tópico 03!\n",
    "mes_geo = mes_d1.sort_values('momento')"
   ]
  },
  {
   "cell_type": "code",
   "execution_count": null,
   "id": "6a7dfa1b",
   "metadata": {},
   "outputs": [],
   "source": [
    "# Reiniciando a contagem dos index\n",
    "mes_geo.reset_index(inplace=True)"
   ]
  },
  {
   "cell_type": "code",
   "execution_count": null,
   "id": "5f9d6992",
   "metadata": {},
   "outputs": [],
   "source": [
    "# REMOVENDO COLUNA DESNECESSÁRIA!\n",
    "mes_georr = mes_geo.drop(['index', \"prefixo_carro\"], axis=1)"
   ]
  },
  {
   "cell_type": "code",
   "execution_count": null,
   "id": "06d050ab",
   "metadata": {
    "scrolled": false
   },
   "outputs": [],
   "source": [
    "mes_georr.info()"
   ]
  },
  {
   "cell_type": "code",
   "execution_count": null,
   "id": "83b38245",
   "metadata": {},
   "outputs": [],
   "source": [
    "mes_georr"
   ]
  },
  {
   "cell_type": "code",
   "execution_count": null,
   "id": "ee6ab82f",
   "metadata": {},
   "outputs": [],
   "source": [
    "# Deletando explicitamente variavel com mes da bilhetagem sem dicionario\n",
    "del mes\n",
    "del mes_d1\n",
    "del mes_geo"
   ]
  },
  {
   "cell_type": "markdown",
   "id": "f11b85d5",
   "metadata": {},
   "source": [
    "# 3.0 Integração das coordenadas do ônibus na bilhetagem e estimação do possivel local de validação\n",
    "''' Método: Assumindo velocidade constante entre dois registros do GPS para determinação do local de validação da bilhetagem mais provável nesse trecho '''"
   ]
  },
  {
   "cell_type": "markdown",
   "id": "07abddf3",
   "metadata": {},
   "source": [
    "## 3.1 Adicioando informações geometricas  pelo momento (GPS) na base da bilhetagem\n",
    "''' Trazendo latitude e longitude para a base da bilhetagem pela momento anterior e posterior do GPS, isso para um mesmo veiculo '''"
   ]
  },
  {
   "cell_type": "code",
   "execution_count": null,
   "id": "62ec5833",
   "metadata": {},
   "outputs": [],
   "source": [
    "# Criando função para identificar o momento anterior e posterior do GPS ao momento da bilhetagem, para um mesmo veiculo\n",
    "def identificação_momentos(mes_georr, GPS_I_H):\n",
    "    \n",
    "    # Encontrando o momento anterior na bilhetagem\n",
    "    df2_anterior = pd.merge_asof(mes_georr[['momento', 'id_veiculo']], GPS_I_H[['momento_gps', 'id_veiculo', 'longitude', 'latitude']], left_on='momento', by='id_veiculo', right_on='momento_gps', direction='backward')\n",
    "\n",
    "    # Encontrando o momento posterior na bilhetagem\n",
    "    df2_proximo = pd.merge_asof(mes_georr[['momento', 'id_veiculo']], GPS_I_H[['momento_gps', 'id_veiculo', 'longitude', 'latitude']], left_on='momento',  by='id_veiculo', right_on='momento_gps', direction='forward')\n",
    "\n",
    "    # Atribuindo valores para o momento anterior, longitude e latitude\n",
    "    if not df2_anterior.empty:\n",
    "        mes_georr['momento_anterior_gps'] = df2_anterior['momento_gps'].values\n",
    "        mes_georr['longitude_anterior_gps'] = df2_anterior['longitude'].values\n",
    "        mes_georr['latitude_anterior_gps'] = df2_anterior['latitude'].values\n",
    "    else:\n",
    "        mes_georr['momento_anterior_gps'] = pd.NaT\n",
    "        mes_georr['longitude_anterior_gps'] = pd.NaT\n",
    "        mes_georr['latitude_anterior_gps'] = pd.NaT\n",
    "\n",
    "    # Atribuindo valores para o momento posterior, longitude e latitude\n",
    "    if not df2_proximo.empty:\n",
    "        mes_georr['momento_posterior_gps'] = df2_proximo['momento_gps'].values\n",
    "        mes_georr['longitude_posterior_gps'] = df2_proximo['longitude'].values\n",
    "        mes_georr['latitude_posterior_gps'] = df2_proximo['latitude'].values\n",
    "    else:\n",
    "        mes_georr['momento_posterior_gps'] = pd.NaT\n",
    "        mes_georr['longitude_posterior_gps'] = pd.NaT\n",
    "        mes_georr['latitude_posterior_gps'] = pd.NaT\n",
    "\n",
    "    return mes_georr"
   ]
  },
  {
   "cell_type": "code",
   "execution_count": null,
   "id": "a32d69b6",
   "metadata": {},
   "outputs": [],
   "source": [
    "# Aplicando a função\n",
    "mes_momentos_geometry = identificação_momentos(mes_georr, dia_especifico_gps_bruto_)"
   ]
  },
  {
   "cell_type": "code",
   "execution_count": null,
   "id": "1f2ffdce",
   "metadata": {},
   "outputs": [],
   "source": [
    "# Geometricas com dados nulos, ou seja, não se teve um momento anterior ou posterior para associar \n",
    "longitude_anterior_gps = mes_momentos_geometry['longitude_anterior_gps'].isnull().sum()\n",
    "print(\"Dados nulos da coluna: longitude_anterior_gps -\", longitude_anterior_gps)\n",
    "longitude_posterior_gps = mes_momentos_geometry['longitude_posterior_gps'].isnull().sum()\n",
    "print(\"Dados nulos da coluna: longitude_posterior_gps -\", longitude_posterior_gps)"
   ]
  },
  {
   "cell_type": "markdown",
   "id": "09a9cef2",
   "metadata": {},
   "source": [
    "## 3.2 Estimando local de validação\n",
    "''' Ja se tendo o momento anterior, posterior e dados geometricos da validação é possivel relacionar no trecho, adimitindo velocidade constante e \n",
    "determinar o possivel local de validação '''"
   ]
  },
  {
   "cell_type": "markdown",
   "id": "44453e62",
   "metadata": {},
   "source": [
    "### 3.2.1 Determinação da distancia estimada entre local de validação e registro imediatamente anterior do GPS"
   ]
  },
  {
   "cell_type": "code",
   "execution_count": null,
   "id": "5f5e614a",
   "metadata": {},
   "outputs": [],
   "source": [
    "# importando os objetos geométricos da biblioteca shapely e importando geopandas\n",
    "!pip install -q shapely\n",
    "!pip install -q geopandas\n",
    "import geopandas as gpd\n",
    "from shapely.geometry import Point, LineString, Polygon"
   ]
  },
  {
   "cell_type": "code",
   "execution_count": null,
   "id": "a616a109",
   "metadata": {},
   "outputs": [],
   "source": [
    "# Funçao para criar uma so coluna de informação geometrica para dados de localização anterior e posterior a bilhetagem\n",
    "def criar_ponto_anterior(row):\n",
    "    if pd.notnull(row['longitude_anterior_gps']) and pd.notnull(row['latitude_anterior_gps']):\n",
    "        return Point(row['longitude_anterior_gps'], row['latitude_anterior_gps'])\n",
    "    else:\n",
    "        return None\n",
    "    \n",
    "def criar_ponto_posterior(row):\n",
    "    if pd.notnull(row['longitude_posterior_gps']) and pd.notnull(row['latitude_posterior_gps']):\n",
    "        return Point(row['longitude_posterior_gps'], row['latitude_posterior_gps'])\n",
    "    else:\n",
    "        return None"
   ]
  },
  {
   "cell_type": "code",
   "execution_count": null,
   "id": "a04e02b8",
   "metadata": {},
   "outputs": [],
   "source": [
    "print(\"\\n\", ''' Essas funções para retornarem None nos dados de longitude e latitude nulos é devido não ser possivel a criação diretamente de pontos geometricos nulos com a função Point ''', \"\\n\") "
   ]
  },
  {
   "cell_type": "code",
   "execution_count": null,
   "id": "e0c1587f",
   "metadata": {},
   "outputs": [],
   "source": [
    "# Aplicando funções para criar geometrias \n",
    "mes_momentos_geometry['geometry_anterior_gps'] = mes_momentos_geometry.apply(criar_ponto_anterior, axis=1)\n",
    "mes_momentos_geometry['geometry_posterior_gps'] = mes_momentos_geometry.apply(criar_ponto_posterior, axis=1)"
   ]
  },
  {
   "cell_type": "code",
   "execution_count": null,
   "id": "68cb69c1",
   "metadata": {},
   "outputs": [],
   "source": [
    "# Eliminando colunas desnecessárias \n",
    "mes_geometry_ = mes_momentos_geometry.drop(['longitude_anterior_gps', \"latitude_anterior_gps\", \"longitude_posterior_gps\", \"latitude_posterior_gps\"], axis=1)"
   ]
  },
  {
   "cell_type": "code",
   "execution_count": null,
   "id": "93d1573f",
   "metadata": {},
   "outputs": [],
   "source": [
    "# Substituindo geometrias nulas pela coordenada 0,0  ## Dados nulos foram deixados!\n",
    "# mes_geometry_['geometry_anterior'].fillna(Point(0,0), inplace= True)\n",
    "# mes_geometry_['geometry_posterior'].fillna(Point(0,0), inplace= True)"
   ]
  },
  {
   "cell_type": "code",
   "execution_count": null,
   "id": "01b65447",
   "metadata": {},
   "outputs": [],
   "source": [
    "# Deletando explicitamente variavel com mes da bilhetagem \n",
    "del mes_momentos_geometry"
   ]
  },
  {
   "cell_type": "code",
   "execution_count": null,
   "id": "62b5005e",
   "metadata": {},
   "outputs": [],
   "source": [
    "# Criando um GeoDataFrame\n",
    "mes_geometry = gpd.GeoDataFrame(mes_geometry_, geometry='geometry_anterior_gps')\n",
    "mes_geometry = gpd.GeoDataFrame(mes_geometry_, geometry='geometry_posterior_gps')"
   ]
  },
  {
   "cell_type": "code",
   "execution_count": null,
   "id": "c4285b88",
   "metadata": {},
   "outputs": [],
   "source": [
    "# Deletando explicitamente variavel com mes da bilhetagem \n",
    "del mes_geometry_"
   ]
  },
  {
   "cell_type": "code",
   "execution_count": null,
   "id": "8aa3c55e",
   "metadata": {},
   "outputs": [],
   "source": [
    "# Importando modulo e biblioteca para calculo de distancia entre pontos geometricos\n",
    "!pip install geopy\n",
    "from geopy.distance import geodesic "
   ]
  },
  {
   "cell_type": "code",
   "execution_count": null,
   "id": "c2a71a72",
   "metadata": {},
   "outputs": [],
   "source": [
    "# Criando função para calcular distancia entre dois pontos geometericos\n",
    "def calcular_distancia_gps(row):\n",
    "    posterior_geometry_gps = row['geometry_posterior_gps']\n",
    "    anterior_geometry_gps = row['geometry_anterior_gps']\n",
    "    \n",
    "    if posterior_geometry_gps is None or anterior_geometry_gps is None:\n",
    "        return None\n",
    "    return geodesic((posterior_geometry_gps.x, posterior_geometry_gps.y), (anterior_geometry_gps.x, anterior_geometry_gps.y)).meters"
   ]
  },
  {
   "cell_type": "code",
   "execution_count": null,
   "id": "c52ad98f",
   "metadata": {},
   "outputs": [],
   "source": [
    "# Criando coluna de distancia entre cada par de registros do GPS\n",
    "mes_geometry['distancia_gps'] = mes_geometry.apply(calcular_distancia_gps, axis=1)"
   ]
  },
  {
   "cell_type": "code",
   "execution_count": null,
   "id": "879260ea",
   "metadata": {},
   "outputs": [],
   "source": [
    "# Calculando diferença de tempos\n",
    "mes_geometry['deltaT_gps'] = mes_geometry['momento_posterior_gps'] - mes_geometry['momento_anterior_gps']"
   ]
  },
  {
   "cell_type": "code",
   "execution_count": null,
   "id": "cc85d632",
   "metadata": {},
   "outputs": [],
   "source": [
    "print(\"\\n\", '''A coluna \"deltaT_gps\" é a diferenca do tempo de registro para cada trecho do GPS que cada validação da Bilhetagem se encontra''', \"\\n\") "
   ]
  },
  {
   "cell_type": "code",
   "execution_count": null,
   "id": "51ab008a",
   "metadata": {},
   "outputs": [],
   "source": [
    "# Criando coluna de diferença entre o tempo da validação e o tempo do registro do GPS imediatamente anterior\n",
    "mes_geometry['deltaT_validação_gps'] = (mes_geometry['momento'] - mes_geometry['momento_anterior_gps'])"
   ]
  },
  {
   "cell_type": "code",
   "execution_count": null,
   "id": "8dd600ed",
   "metadata": {},
   "outputs": [],
   "source": [
    "# Transformando colunas de deltatT em segundos \n",
    "mes_geometry['deltaT_gps'] = mes_geometry['deltaT_gps'].dt.total_seconds().astype('float')\n",
    "mes_geometry['deltaT_validação_gps'] = mes_geometry['deltaT_validação_gps'].dt.total_seconds().astype('float')"
   ]
  },
  {
   "cell_type": "code",
   "execution_count": null,
   "id": "88fcb729",
   "metadata": {},
   "outputs": [],
   "source": [
    "# Remover colunas agora desnecessárias \n",
    "mes_geometry_dist = mes_geometry.drop(['momento_anterior_gps'], axis=1)"
   ]
  },
  {
   "cell_type": "code",
   "execution_count": null,
   "id": "9b527a5c",
   "metadata": {},
   "outputs": [],
   "source": [
    "# Deletando explicitamente variavel com mes da bilhetagem \n",
    "del mes_geometry"
   ]
  },
  {
   "cell_type": "code",
   "execution_count": null,
   "id": "c96da862",
   "metadata": {},
   "outputs": [],
   "source": [
    "# REALIZANDO CALCULO DA DISTANCIA ESTIMADA PARA CADA VALIDAÇÃO EM RELAÇÃO AO REGISTRO DO GPS IMEDIATAMENTE ANTERIOR\n",
    "mes_geometry_dist['distancia_validação_gps'] = (mes_geometry_dist['distancia_gps']/mes_geometry_dist['deltaT_gps'])* mes_geometry_dist['deltaT_validação_gps']"
   ]
  },
  {
   "cell_type": "code",
   "execution_count": null,
   "id": "8e89976f",
   "metadata": {},
   "outputs": [],
   "source": [
    "# Remover colunas agora desnecessárias \n",
    "mes_geometry_dist = mes_geometry_dist.drop(['deltaT_gps', 'deltaT_validação_gps'], axis=1)"
   ]
  },
  {
   "cell_type": "code",
   "execution_count": null,
   "id": "0c451cb2",
   "metadata": {
    "scrolled": true
   },
   "outputs": [],
   "source": [
    "# Df com distancias entre a validação e o registro do GPS anterior e a coordenada desse registro \n",
    "mes_geometry_dist"
   ]
  },
  {
   "cell_type": "code",
   "execution_count": null,
   "id": "b2623a21",
   "metadata": {},
   "outputs": [],
   "source": [
    "print(\"\\n\", '''Ou seja, a operação faz a mutiplicação do cociente entre a diferenca de distancia no trecho e do tempo pela variação do tempo entre a validação e o registro do GPS anterior, o que é basicamente a multiplicação em cada trecho da velocidade pela variação no tempo da validação e o registro do ponto anteiror do GPS (adimitindo que nesse trecho a velocidade seja constante, isto é, a mesma do trecho total)''', \"\\n\")"
   ]
  },
  {
   "cell_type": "markdown",
   "id": "f04f6752",
   "metadata": {},
   "source": [
    "#### 3.2.1.1 Avaliando dados das distancias das validações em relação ao  registro anterior mais proximo do gps"
   ]
  },
  {
   "cell_type": "code",
   "execution_count": null,
   "id": "ec9d9071",
   "metadata": {},
   "outputs": [],
   "source": [
    "# Avaliando distancias \n",
    "import numpy as np\n",
    "import matplotlib.pyplot as plt\n",
    "\n",
    "# Criando variavel da distancia sem dados nulos\n",
    "dist_sem_nulos = mes_geometry_dist[\"distancia_validação_gps\"].dropna()"
   ]
  },
  {
   "cell_type": "code",
   "execution_count": null,
   "id": "053e2cee",
   "metadata": {
    "scrolled": false
   },
   "outputs": [],
   "source": [
    "# Identificando tamnhos dessas distancias e se fazem sentido para o contexto\n",
    "plt.boxplot(dist_sem_nulos)\n",
    "plt.ylabel(\"distância (m)\")"
   ]
  },
  {
   "cell_type": "code",
   "execution_count": null,
   "id": "b9d2f346",
   "metadata": {},
   "outputs": [],
   "source": [
    "print(\"\\n\", ''' Ou seja, devido intervalos muito grande entre a contagem dos registros do GPS, ocasiona distancias muito grande, mas elas não fazem parte do objeto de estudo do metodo aplicado ''', \"\\n\") "
   ]
  },
  {
   "cell_type": "code",
   "execution_count": null,
   "id": "9e6d6689",
   "metadata": {},
   "outputs": [],
   "source": [
    "# Quartis \n",
    "Qurtil_Q1 = np.percentile(dist_sem_nulos, 25)\n",
    "Qurtil_Q2 = np.percentile(dist_sem_nulos, 50)\n",
    "Qurtil_Q3 = np.percentile(dist_sem_nulos, 75)\n",
    "print(\"\\n\", \"Primeiro quartil é:\", Qurtil_Q1,\"\\n\", \"Segundo quartil é:\", Qurtil_Q2,\"\\n\", \"Terceiro quartil é:\", Qurtil_Q3, \"\\n\")"
   ]
  },
  {
   "cell_type": "code",
   "execution_count": null,
   "id": "183c3fec",
   "metadata": {},
   "outputs": [],
   "source": [
    "print(\"\\n\", ''' Assim identificamos que 75% dos valores possuem distancias de até \"valor do Terceiro quartil (metros)\", então vamos adotar um criterio de que para analisar melhor as distancias, so faz sentido olhar para aquelas que seja de até 500 metros, supondo que onibus esteja no maximo a 60 km/h para cumprir um intervalo maximo de 30 segundos, ou seja, a essa velocidade esse seria o limite supeior de distancia que o local de validaçao poderia estar, que é exatamente a proxima localização do registro do GPS se ele contar efetivamente a cada 30 segundos ''', \"\\n\") "
   ]
  },
  {
   "cell_type": "code",
   "execution_count": null,
   "id": "dbbc0445",
   "metadata": {},
   "outputs": [],
   "source": [
    "# Filtrando valores de distancias a partir desse criterio\n",
    "dist_ate_500_metros = dist_sem_nulos[dist_sem_nulos<= 500]"
   ]
  },
  {
   "cell_type": "code",
   "execution_count": null,
   "id": "fdaa3744",
   "metadata": {},
   "outputs": [],
   "source": [
    "# Nova visulização desses valores \n",
    "plt.boxplot(dist_ate_500_metros)\n",
    "plt.ylabel(\"distância (m)\")"
   ]
  },
  {
   "cell_type": "code",
   "execution_count": null,
   "id": "9d3439c5",
   "metadata": {},
   "outputs": [],
   "source": [
    "# Média das distancias\n",
    "média = dist_ate_500_metros.mean()\n",
    "print(\"A média das distancias é de:\", média, \"(m)\")"
   ]
  },
  {
   "cell_type": "code",
   "execution_count": null,
   "id": "a2bd9bbb",
   "metadata": {},
   "outputs": [],
   "source": [
    "# E 90% dos dados?\n",
    "Qurtil_Q_90 = np.percentile(dist_ate_500_metros, 90)\n",
    "print(\"90% das distancias entre validação e primerio registro do gps de até:\", Qurtil_Q_90, \"metros\")"
   ]
  },
  {
   "cell_type": "code",
   "execution_count": null,
   "id": "0a0b7863",
   "metadata": {},
   "outputs": [],
   "source": [
    "# Desvio padrão \n",
    "desvio = dist_ate_500_metros.std()\n",
    "desvio"
   ]
  },
  {
   "cell_type": "code",
   "execution_count": null,
   "id": "c24f0645",
   "metadata": {},
   "outputs": [],
   "source": [
    "# Coeficiente de variação\n",
    "coef = desvio/média *100\n",
    "print(\"coeficinte de variação é de: \", coef, \"%\")"
   ]
  },
  {
   "cell_type": "code",
   "execution_count": null,
   "id": "881e2b92",
   "metadata": {},
   "outputs": [],
   "source": [
    "# Quartis da base sem grandes distancais\n",
    "Qurtil_Q1 = np.percentile(dist_ate_500_metros, 25)\n",
    "Qurtil_Q2 = np.percentile(dist_ate_500_metros, 50)\n",
    "Qurtil_Q3 = np.percentile(dist_ate_500_metros, 75)\n",
    "print(\"\\n\", \"Primeiro quartil é:\", Qurtil_Q1,\"\\n\", \"Segundo quartil é:\", Qurtil_Q2,\"\\n\", \"Terceiro quartil é:\", Qurtil_Q3, \"\\n\")"
   ]
  },
  {
   "cell_type": "code",
   "execution_count": null,
   "id": "28b2bde0",
   "metadata": {
    "scrolled": true
   },
   "outputs": [],
   "source": [
    "print(\"\\n\", ''' Percebemos que ha uma leve mudanca nos valores dos quartis, isso pode ser devido essas quandes distancias serem um valor pequeno em comparação as demais distancias ''', \"\\n\")"
   ]
  },
  {
   "cell_type": "code",
   "execution_count": null,
   "id": "d8d16cca",
   "metadata": {},
   "outputs": [],
   "source": [
    "# Maxima distancia \n",
    "dist_ate_500_metros.max()"
   ]
  },
  {
   "cell_type": "markdown",
   "id": "61616db4",
   "metadata": {},
   "source": [
    "#### 3.2.1.2 Avaliando dados das distancias entres os registros anteriores e posteriores mais proximo das validações"
   ]
  },
  {
   "cell_type": "code",
   "execution_count": null,
   "id": "278095f4",
   "metadata": {},
   "outputs": [],
   "source": [
    "# Criando variavel da distancia sem dados nulos\n",
    "dist_gps_sem_nulos = mes_geometry_dist[\"distancia_gps\"].dropna()"
   ]
  },
  {
   "cell_type": "code",
   "execution_count": null,
   "id": "97963ab8",
   "metadata": {},
   "outputs": [],
   "source": [
    "# Identificando tamnhos dessas distancias \n",
    "plt.boxplot(dist_gps_sem_nulos)\n",
    "plt.ylabel(\"distância (m)\")"
   ]
  },
  {
   "cell_type": "code",
   "execution_count": null,
   "id": "904b1809",
   "metadata": {},
   "outputs": [],
   "source": [
    "# Quartis \n",
    "Qurtil_Q1_gps = np.percentile(dist_gps_sem_nulos, 25)\n",
    "Qurtil_Q2_gps = np.percentile(dist_gps_sem_nulos, 50)\n",
    "Qurtil_Q3_gps = np.percentile(dist_gps_sem_nulos, 75)\n",
    "print(\"\\n\", \"Primeiro quartil é:\", Qurtil_Q1_gps,\"\\n\", \"Segundo quartil é:\", Qurtil_Q2_gps,\"\\n\", \"Terceiro quartil é:\", Qurtil_Q3_gps, \"\\n\")"
   ]
  },
  {
   "cell_type": "code",
   "execution_count": null,
   "id": "869a8c10",
   "metadata": {},
   "outputs": [],
   "source": [
    "# E 90% dos dados?\n",
    "Qurtil_Q_90_gps = np.percentile(dist_gps_sem_nulos, 90)\n",
    "print(\"90% das distancias entre os registros apresetam valores até:\", Qurtil_Q_90_gps, \"metros\")"
   ]
  },
  {
   "cell_type": "code",
   "execution_count": null,
   "id": "e6da593a",
   "metadata": {},
   "outputs": [],
   "source": [
    "# Média das distancias entre os registros do gps\n",
    "média_gps = dist_gps_sem_nulos.mean()\n",
    "print(\"A média das distancias entre os registros do gps é de:\", média_gps, \"(m)\")"
   ]
  },
  {
   "cell_type": "code",
   "execution_count": null,
   "id": "ba4bdc48",
   "metadata": {},
   "outputs": [],
   "source": [
    "# Desvio padrão \n",
    "desvio_gps = dist_gps_sem_nulos.std()\n",
    "desvio_gps"
   ]
  },
  {
   "cell_type": "markdown",
   "id": "3e6a49fe",
   "metadata": {},
   "source": [
    "### 3.2.2 Realizando operação de adição da distancia estimada ao registro anterior do GPS\n",
    "''' Ja se tendo a distancia estimada entre a validação e o registro do GPS imediatamente anterior, basta adcionar ela a\n",
    "essa coordenada e a nova coordenada é exatamente a possivel coordenada onde ocorreu a validação '''"
   ]
  },
  {
   "cell_type": "code",
   "execution_count": null,
   "id": "1c14d71d",
   "metadata": {},
   "outputs": [],
   "source": [
    "# Instalando biblioteca para adicionar as distancias aos seus repectivos pontos geometricos\n",
    "!pip install -q pyproj\n",
    "!pip install -q shapely\n",
    "\n",
    "import geopandas as gpd\n",
    "from shapely.geometry import Point\n",
    "from shapely.ops import transform\n",
    "from functools import partial\n",
    "import math\n",
    "import pyproj\n",
    "! pip install --upgrade pyproj shapely"
   ]
  },
  {
   "cell_type": "code",
   "execution_count": null,
   "id": "174e9440",
   "metadata": {},
   "outputs": [],
   "source": [
    "# Atualizando sitaxe de projeção \n",
    "import pyproj\n",
    "\n",
    "# Sintaxe obsoleta\n",
    "old_projection = pyproj.Proj(init='epsg:4326')\n",
    "\n",
    "# Atualização para a nova sintaxe\n",
    "new_projection = pyproj.Proj('epsg:4326')"
   ]
  },
  {
   "cell_type": "code",
   "execution_count": null,
   "id": "46836ab6",
   "metadata": {},
   "outputs": [],
   "source": [
    "# Criando função para calcular o ângulo entre dois pontos geometricos\n",
    "def calcular_angulo(ponto_inicial, ponto_final):\n",
    "    # Verifica se ambos os pontos são não nulos\n",
    "    if ponto_inicial is None or ponto_final is None:\n",
    "        return None\n",
    "    \n",
    "    # Calcula as diferenças nas coordenadas x e y\n",
    "    delta_x = ponto_final.x - ponto_inicial.x\n",
    "    delta_y = ponto_final.y - ponto_inicial.y\n",
    "\n",
    "    # Calcula o ângulo em radianos usando a função atan2\n",
    "    angulo_rad = math.atan2(delta_y, delta_x)\n",
    "\n",
    "    # Converte o ângulo para graus\n",
    "    angulo_graus = math.degrees(angulo_rad)\n",
    "\n",
    "    return angulo_graus"
   ]
  },
  {
   "cell_type": "code",
   "execution_count": null,
   "id": "a24026f9",
   "metadata": {},
   "outputs": [],
   "source": [
    "# Aplicando função nas duas colunas geometricas\n",
    "mes_geometry_dist['angulo'] = mes_geometry_dist.apply(lambda row: calcular_angulo(row['geometry_anterior_gps'], row['geometry_posterior_gps']), axis=1)"
   ]
  },
  {
   "cell_type": "code",
   "execution_count": null,
   "id": "0cceb66d",
   "metadata": {},
   "outputs": [],
   "source": [
    "# Df com angulo\n",
    "mes_geometry_dist"
   ]
  },
  {
   "cell_type": "code",
   "execution_count": null,
   "id": "8398cb77",
   "metadata": {},
   "outputs": [],
   "source": [
    "# Criando função para criar um ponto deslocado\n",
    "def offset_distancia(row):\n",
    "    # Função para calcular as coordenadas do novo ponto deslocado\n",
    "    def calcular_coordenadas(geometry_anterior_gps, distancia_validação_gps, angulo):\n",
    "        # Verificando se o ponto não é None\n",
    "        if geometry_anterior_gps is None:\n",
    "            return None\n",
    "\n",
    "        # Convertendo a distância de metros para graus (aproximadamente)\n",
    "        distancia_graus_latitude = (distancia_validação_gps / 111000)\n",
    "        distancia_graus_longitude = (distancia_validação_gps / (111000 * math.cos(math.radians(geometry_anterior_gps.y))))\n",
    "\n",
    "        # Calculando as novas coordenadas\n",
    "        new_latitude = geometry_anterior_gps.y + distancia_graus_latitude * math.sin(math.radians(angulo))\n",
    "        new_longitude = geometry_anterior_gps.x + distancia_graus_longitude * math.cos(math.radians(angulo))\n",
    "\n",
    "        return Point(new_longitude, new_latitude)\n",
    "\n",
    "    # Aplica a função para calcular as novas coordenadas a cada linha do DataFrame\n",
    "    new_point = calcular_coordenadas(row['geometry_anterior_gps'], row['distancia_validação_gps'], row['angulo'])\n",
    "\n",
    "    return new_point"
   ]
  },
  {
   "cell_type": "code",
   "execution_count": null,
   "id": "b31f5753",
   "metadata": {},
   "outputs": [],
   "source": [
    "# Aplicando a função ao DataFrame\n",
    "mes_geometry_dist['geometry_estimada'] = mes_geometry_dist.apply(offset_distancia, axis=1)"
   ]
  },
  {
   "cell_type": "code",
   "execution_count": null,
   "id": "c1e0b785",
   "metadata": {},
   "outputs": [],
   "source": [
    "# Bilhetagem com local de validação estimado\n",
    "mes_geometry_dist"
   ]
  },
  {
   "cell_type": "code",
   "execution_count": null,
   "id": "dc67b4c0",
   "metadata": {},
   "outputs": [],
   "source": [
    "# Caso necessite exportar \n",
    "# mes_geometry_dist.to_csv(\"NOME_ARQUIVO\")"
   ]
  },
  {
   "cell_type": "markdown",
   "id": "49a34923",
   "metadata": {},
   "source": [
    "# 4.0 Testes"
   ]
  },
  {
   "cell_type": "markdown",
   "id": "ea839d71",
   "metadata": {},
   "source": [
    "## 4.1 Motivo do não georreferenciamento da base completa da bilhetagem"
   ]
  },
  {
   "cell_type": "code",
   "execution_count": null,
   "id": "38036f6b",
   "metadata": {
    "scrolled": true
   },
   "outputs": [],
   "source": [
    "# Inspeção na base da bilhetagem e do dicionario para um veiculo especifico\n",
    "veiculo_12994 = mes[mes.prefixo_carro==12994]"
   ]
  },
  {
   "cell_type": "code",
   "execution_count": null,
   "id": "1dd7dbf1",
   "metadata": {},
   "outputs": [],
   "source": [
    "# NOTAMOS QUE ESSE VEICULO ESPECIFICO POSSUI REGISTROS NA BILHETAGEM"
   ]
  },
  {
   "cell_type": "code",
   "execution_count": null,
   "id": "be428117",
   "metadata": {},
   "outputs": [],
   "source": [
    "### Verificando dados que estão presentes na base da bilhetagem e não na base do dicionario\n",
    "lista = d01.cod_veiculo.unique()\n",
    "mes.isin({'prefixo_carro':lista}).prefixo_carro.value_counts(1)"
   ]
  },
  {
   "cell_type": "code",
   "execution_count": null,
   "id": "dde8ec7b",
   "metadata": {},
   "outputs": [],
   "source": [
    "# OU SEJA, DOS 100% DE DADOS NA BILHETAGEM APENAS 86,78% POSSUI UM CODIGO CORRESPONDENTE NA BASE DO DICIONARIO!"
   ]
  },
  {
   "cell_type": "code",
   "execution_count": null,
   "id": "98b4e235",
   "metadata": {},
   "outputs": [],
   "source": [
    "# VERIFICAÇÃO DO VEICULO 12994 NA BASE DO DICIONARIO \n",
    "d01[d01.cod_veiculo == 12993]"
   ]
  },
  {
   "cell_type": "code",
   "execution_count": null,
   "id": "733b7b94",
   "metadata": {},
   "outputs": [],
   "source": [
    "''' CONCLUSÃO, APÓS INSPEÇÃO NOTAMOS QUE NÃO FOI POSSIVEL GEORREFERENCIAR A BASE DA BILHETAGEM COMPLETA POIS PARA ALGUNS VEICULOS NÃO TEM UM CODIGO DE VEICULO CORRESPONDENTE NA BASE DO DICIONARIO E CONSEQUENTIMENTE NÃO VAI SER LOCALIZADO NA BASE DO GPS, ASSIM UMA PERCENTAGEM DOS DADOS DA BILHETAGEM TIVERAM COORDENADA APROXIMADA DE VALIDAÇÃO GEORREFERENCIADA e o metodo aplicado não considerou os dados com caracters do dicionario, uma abordagem tratando esses dados sem removelos pode aumentar a quantidade de validações localizadas! ''' "
   ]
  },
  {
   "cell_type": "markdown",
   "id": "f5fcb3d4",
   "metadata": {},
   "source": [
    "# -------------------------------------------------------------------"
   ]
  }
 ],
 "metadata": {
  "kernelspec": {
   "display_name": "Python 3 (ipykernel)",
   "language": "python",
   "name": "python3"
  },
  "language_info": {
   "codemirror_mode": {
    "name": "ipython",
    "version": 3
   },
   "file_extension": ".py",
   "mimetype": "text/x-python",
   "name": "python",
   "nbconvert_exporter": "python",
   "pygments_lexer": "ipython3",
   "version": "3.10.9"
  }
 },
 "nbformat": 4,
 "nbformat_minor": 5
}
