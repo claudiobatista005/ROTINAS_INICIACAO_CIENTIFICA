{
 "cells": [
  {
   "cell_type": "markdown",
   "id": "4c29b47f",
   "metadata": {},
   "source": [
    "# Algoritmo - Localização base Bilhetagem\n",
    "### Autor: Antônio Claudio Dutra Batista\n",
    "### Orientador: Francisco Moraes de Oliveria Neto\n",
    "### Metodologia: Mesclagem por informações coincidentes e critério de tempo"
   ]
  },
  {
   "cell_type": "markdown",
   "id": "0d3152ac",
   "metadata": {},
   "source": [
    "# 1.0  Leitura das Bases"
   ]
  },
  {
   "cell_type": "markdown",
   "id": "53c75e45",
   "metadata": {},
   "source": [
    "## 1.1 leitura da base - Bilhetagem (Tratamento Inicial)"
   ]
  },
  {
   "cell_type": "code",
   "execution_count": null,
   "id": "493f58a7",
   "metadata": {},
   "outputs": [],
   "source": [
    "import pandas as pd \n",
    "# Arquivos são do mês de novembro de 2018.\n",
    "# Definindo tipos de variaveis com tamanhos menores\n",
    "tipos_specification = {'id': 'int32', 'linha': 'int32'}\n",
    "\n",
    "# df's abaixo (leitura somente das colunas necessárias):\n",
    "dia_01= pd.read_csv('2018-11-01.csv', usecols=['id', 'linha', 'prefixo_carro', 'tipo_cartao','dia', 'momento'], dtype=tipos_specification, sep= ',')\n",
    "dia_02 = pd.read_csv('2018-11-02.csv', usecols=['id', 'linha', 'prefixo_carro', 'tipo_cartao','dia', 'momento'], dtype=tipos_specification,  sep= ',')\n",
    "dia_03 = pd.read_csv('2018-11-03.csv', usecols=['id', 'linha', 'prefixo_carro', 'tipo_cartao','dia', 'momento'], dtype=tipos_specification,  sep= ',')\n",
    "dia_04 = pd.read_csv('2018-11-04.csv', usecols=['id', 'linha', 'prefixo_carro', 'tipo_cartao','dia', 'momento'], dtype=tipos_specification,  sep= ',')\n",
    "dia_05 = pd.read_csv('2018-11-05.csv', usecols=['id', 'linha', 'prefixo_carro', 'tipo_cartao','dia', 'momento'], dtype=tipos_specification, sep= ',') \n",
    "dia_06 = pd.read_csv('2018-11-06.csv', usecols=['id', 'linha', 'prefixo_carro', 'tipo_cartao','dia', 'momento'], dtype=tipos_specification,  sep= ',')\n",
    "dia_07 = pd.read_csv('2018-11-07.csv', usecols=['id', 'linha', 'prefixo_carro', 'tipo_cartao','dia', 'momento'], dtype=tipos_specification,  sep= ',')\n",
    "dia_08 = pd.read_csv('2018-11-08.csv', usecols=['id', 'linha', 'prefixo_carro', 'tipo_cartao','dia', 'momento'], dtype=tipos_specification, sep= ',')\n",
    "dia_09 = pd.read_csv('2018-11-09.csv', usecols=['id', 'linha', 'prefixo_carro', 'tipo_cartao','dia', 'momento'], dtype=tipos_specification,  sep= ',')\n",
    "dia_10 = pd.read_csv('2018-11-10.csv', usecols=['id', 'linha', 'prefixo_carro', 'tipo_cartao','dia', 'momento'], dtype=tipos_specification,  sep= ',')"
   ]
  },
  {
   "cell_type": "code",
   "execution_count": null,
   "id": "54b24fda",
   "metadata": {},
   "outputs": [],
   "source": [
    "# Continuando...\n",
    "dia_11 = pd.read_csv('2018-11-11.csv', usecols=['id', 'linha', 'prefixo_carro', 'tipo_cartao','dia', 'momento'], dtype=tipos_specification,  sep= ',')\n",
    "dia_12 = pd.read_csv('2018-11-12.csv', usecols=['id', 'linha', 'prefixo_carro', 'tipo_cartao','dia', 'momento'], dtype=tipos_specification,  sep= ',')\n",
    "dia_13 = pd.read_csv('2018-11-13.csv', usecols=['id', 'linha', 'prefixo_carro', 'tipo_cartao','dia', 'momento'], dtype=tipos_specification,  sep= ',')\n",
    "dia_14 = pd.read_csv('2018-11-14.csv', usecols=['id', 'linha', 'prefixo_carro', 'tipo_cartao','dia', 'momento'], dtype=tipos_specification,  sep= ',')\n",
    "dia_15 = pd.read_csv('2018-11-15.csv', usecols=['id', 'linha', 'prefixo_carro', 'tipo_cartao','dia', 'momento'], dtype=tipos_specification,  sep= ',')\n",
    "dia_16 = pd.read_csv('2018-11-16.csv', usecols=['id', 'linha', 'prefixo_carro', 'tipo_cartao','dia', 'momento'], dtype=tipos_specification,  sep= ',')\n",
    "dia_17 = pd.read_csv('2018-11-17.csv', usecols=['id', 'linha', 'prefixo_carro', 'tipo_cartao','dia', 'momento'], dtype=tipos_specification,  sep= ',')\n",
    "dia_18 = pd.read_csv('2018-11-18.csv', usecols=['id', 'linha', 'prefixo_carro', 'tipo_cartao','dia', 'momento'], dtype=tipos_specification,  sep= ',')\n",
    "dia_19 = pd.read_csv('2018-11-19.csv', usecols=['id', 'linha', 'prefixo_carro', 'tipo_cartao','dia', 'momento'], dtype=tipos_specification, sep= ',')\n",
    "dia_20 = pd.read_csv('2018-11-20.csv', usecols=['id', 'linha', 'prefixo_carro', 'tipo_cartao','dia', 'momento'], dtype=tipos_specification, sep= ',')"
   ]
  },
  {
   "cell_type": "code",
   "execution_count": null,
   "id": "ddae68f7",
   "metadata": {},
   "outputs": [],
   "source": [
    "# Continuando...\n",
    "dia_21 = pd.read_csv('2018-11-21.csv', usecols=['id', 'linha', 'prefixo_carro', 'tipo_cartao','dia', 'momento'], dtype=tipos_specification,  sep= ',')\n",
    "dia_22 = pd.read_csv('2018-11-22.csv', usecols=['id', 'linha', 'prefixo_carro', 'tipo_cartao','dia', 'momento'], dtype=tipos_specification,  sep= ',')\n",
    "dia_23 = pd.read_csv('2018-11-23.csv', usecols=['id', 'linha', 'prefixo_carro', 'tipo_cartao','dia', 'momento'], dtype=tipos_specification,  sep= ',')\n",
    "dia_24 = pd.read_csv('2018-11-24.csv', usecols=['id', 'linha', 'prefixo_carro', 'tipo_cartao','dia', 'momento'], dtype=tipos_specification,  sep= ',')\n",
    "dia_25 = pd.read_csv('2018-11-25.csv', usecols=['id', 'linha', 'prefixo_carro', 'tipo_cartao','dia', 'momento'], dtype=tipos_specification,  sep= ',')\n",
    "dia_26 = pd.read_csv('2018-11-26.csv', usecols=['id', 'linha', 'prefixo_carro', 'tipo_cartao','dia', 'momento'], dtype=tipos_specification,  sep= ',')\n",
    "dia_27 = pd.read_csv('2018-11-27.csv', usecols=['id', 'linha', 'prefixo_carro', 'tipo_cartao','dia', 'momento'], dtype=tipos_specification,  sep= ',')\n",
    "dia_28 = pd.read_csv('2018-11-28.csv', usecols=['id', 'linha', 'prefixo_carro', 'tipo_cartao','dia', 'momento'], dtype=tipos_specification,  sep= ',')\n",
    "dia_29 = pd.read_csv('2018-11-29.csv', usecols=['id', 'linha', 'prefixo_carro', 'tipo_cartao','dia', 'momento'], dtype=tipos_specification,  sep= ',')\n",
    "dia_30 = pd.read_csv('2018-11-30.csv', usecols=['id', 'linha', 'prefixo_carro', 'tipo_cartao','dia', 'momento'], dtype=tipos_specification,  sep= ',')"
   ]
  },
  {
   "cell_type": "code",
   "execution_count": null,
   "id": "f4b4ee7b",
   "metadata": {},
   "outputs": [],
   "source": [
    "# Agrupando (10 dias)\n",
    "dia_01_10 = pd.concat([dia_01, dia_02, dia_03, dia_04, dia_05, dia_06 ,dia_07, dia_08, dia_09, dia_10])"
   ]
  },
  {
   "cell_type": "code",
   "execution_count": null,
   "id": "626596ba",
   "metadata": {},
   "outputs": [],
   "source": [
    "# Continuando...\n",
    "dia_11_20 = pd.concat([dia_11, dia_12, dia_13, dia_14, dia_15,dia_16, dia_17, dia_18, dia_19, dia_20])"
   ]
  },
  {
   "cell_type": "code",
   "execution_count": null,
   "id": "2cf982ac",
   "metadata": {},
   "outputs": [],
   "source": [
    "# Continuando...\n",
    "dia_21_30 = pd.concat([dia_21, dia_22, dia_23, dia_24, dia_25, dia_26, dia_27, dia_28, dia_29, dia_30])"
   ]
  },
  {
   "cell_type": "code",
   "execution_count": null,
   "id": "7a52414b",
   "metadata": {},
   "outputs": [],
   "source": [
    "mes_tudo = pd.concat([dia_01_10, dia_11_20, dia_21_30])"
   ]
  },
  {
   "cell_type": "code",
   "execution_count": null,
   "id": "43fce2a3",
   "metadata": {},
   "outputs": [],
   "source": [
    "# Caso necessite exportar arquivo da bilhetagem completa\n",
    "# mes_tudo.to_csv(\"mes_tudo\")"
   ]
  },
  {
   "cell_type": "code",
   "execution_count": null,
   "id": "e831ad21",
   "metadata": {},
   "outputs": [],
   "source": [
    "# BUSCAR DADOS NULOS\n",
    "mes_tudo.info()"
   ]
  },
  {
   "cell_type": "code",
   "execution_count": null,
   "id": "ab0b81d4",
   "metadata": {},
   "outputs": [],
   "source": [
    "# Momentos em ordem do df mes_c_R!\n",
    "mes_tudo.sort_values('momento', inplace = True) # Mostrando DF em ORDEM!"
   ]
  },
  {
   "cell_type": "code",
   "execution_count": null,
   "id": "a460db48",
   "metadata": {},
   "outputs": [],
   "source": [
    "# Memoria liberou 0.2 gb\n",
    "mes_tudo.info()"
   ]
  },
  {
   "cell_type": "code",
   "execution_count": null,
   "id": "2682773d",
   "metadata": {},
   "outputs": [],
   "source": [
    "# Juntando colunas de interesse (dia, momento) em uma só:\n",
    "mes_tudo[\"momento\"] = mes_tudo['dia'].astype(str) + '-' + mes_tudo['momento'].astype(str)"
   ]
  },
  {
   "cell_type": "code",
   "execution_count": null,
   "id": "448748f2",
   "metadata": {},
   "outputs": [],
   "source": [
    "# REMOVENDO COLUNAS DESNECESSÁRIAS!\n",
    "mes1 = mes_tudo.drop(['dia'], axis=1)"
   ]
  },
  {
   "cell_type": "code",
   "execution_count": null,
   "id": "8ad42a07",
   "metadata": {},
   "outputs": [],
   "source": [
    "mes1.info()"
   ]
  },
  {
   "cell_type": "code",
   "execution_count": null,
   "id": "f4280e23",
   "metadata": {
    "scrolled": true
   },
   "outputs": [],
   "source": [
    "mes1[\"momento\"] = pd.to_datetime(mes1[\"momento\"], format= '%Y-%m-%d-%H:%M:%S')"
   ]
  },
  {
   "cell_type": "code",
   "execution_count": null,
   "id": "68b152d3",
   "metadata": {},
   "outputs": [],
   "source": [
    "# Removendo dados nulos na coluna prefixo_carro\n",
    "mes_ = mes1.dropna(subset = ['prefixo_carro'])"
   ]
  },
  {
   "cell_type": "code",
   "execution_count": null,
   "id": "77287750",
   "metadata": {},
   "outputs": [],
   "source": [
    "# Removendo identificação de veiculos com caracteris da coluna de prefixo_carro\n",
    "mes = mes_[pd.to_numeric(mes_['prefixo_carro'], errors='coerce').notnull()]"
   ]
  },
  {
   "cell_type": "code",
   "execution_count": null,
   "id": "c410eb02",
   "metadata": {},
   "outputs": [],
   "source": [
    "# Trasnformando coluna de prefixo carro em inteiro\n",
    "mes['prefixo_carro'] = mes['prefixo_carro'].astype('int32')"
   ]
  },
  {
   "cell_type": "code",
   "execution_count": null,
   "id": "e068fbac",
   "metadata": {},
   "outputs": [],
   "source": [
    "mes.info()"
   ]
  },
  {
   "cell_type": "code",
   "execution_count": null,
   "id": "1a630ae6",
   "metadata": {},
   "outputs": [],
   "source": [
    "# Última versão do df MES\n",
    "mes"
   ]
  },
  {
   "cell_type": "markdown",
   "id": "839393cf",
   "metadata": {},
   "source": [
    "## 1.2 leitura da base - Dicionário"
   ]
  },
  {
   "cell_type": "code",
   "execution_count": null,
   "id": "5818c54c",
   "metadata": {},
   "outputs": [],
   "source": [
    "# df', abaixo:\n",
    "d1 = pd.read_csv('veiculos2018.csv', sep= ';')"
   ]
  },
  {
   "cell_type": "code",
   "execution_count": null,
   "id": "bc24ee0d",
   "metadata": {},
   "outputs": [],
   "source": [
    "# Mostrando Df\n",
    "display(d1)"
   ]
  },
  {
   "cell_type": "code",
   "execution_count": null,
   "id": "433246ec",
   "metadata": {},
   "outputs": [],
   "source": [
    "d1.info()"
   ]
  },
  {
   "cell_type": "code",
   "execution_count": null,
   "id": "b94313d8",
   "metadata": {},
   "outputs": [],
   "source": [
    "# Removenfdo identificação de veiculos com caracters da coluna de cod_veiculo\n",
    "d01 = d1[pd.to_numeric(d1['cod_veiculo'], errors='coerce').notnull()]"
   ]
  },
  {
   "cell_type": "code",
   "execution_count": null,
   "id": "c7d282e5",
   "metadata": {},
   "outputs": [],
   "source": [
    "d01.info()"
   ]
  },
  {
   "cell_type": "code",
   "execution_count": null,
   "id": "063ec36d",
   "metadata": {},
   "outputs": [],
   "source": [
    "# Trasnformando coluna de prefixo carro em inteiro\n",
    "d01['cod_veiculo'] = d01['cod_veiculo'].astype('int32')\n",
    "d01['id_veiculo'] = d01['id_veiculo'].astype('int32')"
   ]
  },
  {
   "cell_type": "code",
   "execution_count": null,
   "id": "162541bc",
   "metadata": {},
   "outputs": [],
   "source": [
    "d01[d01.cod_veiculo ==36981]"
   ]
  },
  {
   "cell_type": "code",
   "execution_count": null,
   "id": "11429eb1",
   "metadata": {},
   "outputs": [],
   "source": [
    "d01['cod_veiculo'].sort_index()"
   ]
  },
  {
   "cell_type": "code",
   "execution_count": null,
   "id": "8754fad7",
   "metadata": {
    "scrolled": true
   },
   "outputs": [],
   "source": [
    "d1.isnull().sum()"
   ]
  },
  {
   "cell_type": "markdown",
   "id": "40a0e798",
   "metadata": {},
   "source": [
    "## 1.3 leitura do base - GPS (Tratamento INICIAL)"
   ]
  },
  {
   "cell_type": "code",
   "execution_count": null,
   "id": "e8bd351c",
   "metadata": {},
   "outputs": [],
   "source": [
    "import pandas as pd\n",
    "\n",
    "# Definindo o número de linhas que você deseja ler\n",
    "numero_de_linhas_para_ler = 45000000  # Substitua pelo número desejado\n",
    "dtype_specification = {'longitude': 'float32', 'latitude': 'float32', 'vehicle_vehicleid': 'int32'}\n",
    "\n",
    "# Usando o pandas para ler o CSV, limitando o número de linhas com a opção nrows\n",
    "mes_ate_45_milhoes = pd.read_csv('Paint112018.csv',usecols=['latitude', 'longitude', 'metrictimestamp', 'vehicle_vehicleid'], dtype=dtype_specification, nrows=numero_de_linhas_para_ler)"
   ]
  },
  {
   "cell_type": "code",
   "execution_count": null,
   "id": "ec503c87",
   "metadata": {
    "scrolled": true
   },
   "outputs": [],
   "source": [
    "# Lendo restante do arquivo\n",
    "mes_resto = pd.read_csv('Paint112018.csv', usecols=['latitude', 'longitude','metrictimestamp', 'vehicle_vehicleid'],dtype=dtype_specification, skiprows=range(1, numero_de_linhas_para_ler + 1))"
   ]
  },
  {
   "cell_type": "code",
   "execution_count": null,
   "id": "21e55def",
   "metadata": {},
   "outputs": [],
   "source": [
    "# Juntando em um mesmo df\n",
    "GPS_I_H =  pd.concat([mes_ate_50_milhoes, mes_resto]) "
   ]
  },
  {
   "cell_type": "code",
   "execution_count": null,
   "id": "7fcd8558",
   "metadata": {},
   "outputs": [],
   "source": [
    "display(GPS_I_H.iloc[275])"
   ]
  },
  {
   "cell_type": "code",
   "execution_count": null,
   "id": "c0dbb0de",
   "metadata": {},
   "outputs": [],
   "source": [
    "GPS_I_H.info()"
   ]
  },
  {
   "cell_type": "code",
   "execution_count": null,
   "id": "592f0147",
   "metadata": {},
   "outputs": [],
   "source": [
    "# FORMATANDO metrictimestamp do (GPS)\n",
    "GPS_I_H['momento'] = pd.to_datetime(GPS_I_H['metrictimestamp'],format= '%Y%m%d%H%M%S')"
   ]
  },
  {
   "cell_type": "code",
   "execution_count": null,
   "id": "16a1318f",
   "metadata": {},
   "outputs": [],
   "source": [
    "GPS_I_H.drop(\"metrictimestamp\", axis= 1, inplace= True)"
   ]
  },
  {
   "cell_type": "code",
   "execution_count": null,
   "id": "6eb3cb11",
   "metadata": {},
   "outputs": [],
   "source": [
    "# Renomear coluna de momento de vehicle_vehicleid para id_veiculo:\n",
    "GPS_I_H.columns=['latitude', 'longitude','id_veiculo', 'momento']"
   ]
  },
  {
   "cell_type": "code",
   "execution_count": null,
   "id": "2420faca",
   "metadata": {},
   "outputs": [],
   "source": [
    "# Colocando valores em ordem\n",
    "GPS_I_H.sort_values('momento', inplace= True)"
   ]
  },
  {
   "cell_type": "markdown",
   "id": "40214ab6",
   "metadata": {},
   "source": [
    "# 2.0 Junção da bilhetagem com o dicionário "
   ]
  },
  {
   "cell_type": "code",
   "execution_count": null,
   "id": "9160a394",
   "metadata": {},
   "outputs": [],
   "source": [
    "# Acrescentando dicionário\n",
    "mes_d1_T = mes.merge(d01, left_on= 'prefixo_carro', right_on='cod_veiculo')"
   ]
  },
  {
   "cell_type": "code",
   "execution_count": null,
   "id": "eca24aa2",
   "metadata": {},
   "outputs": [],
   "source": [
    "mes_d1 = mes_d1_T"
   ]
  },
  {
   "cell_type": "code",
   "execution_count": null,
   "id": "64d86cfe",
   "metadata": {},
   "outputs": [],
   "source": [
    "# Base da Bilhetagem adicionado o dicionario\n",
    "mes_d1"
   ]
  },
  {
   "cell_type": "code",
   "execution_count": null,
   "id": "be3e33ef",
   "metadata": {},
   "outputs": [],
   "source": [
    "mes_d1.info()"
   ]
  },
  {
   "cell_type": "code",
   "execution_count": null,
   "id": "0ce9467f",
   "metadata": {},
   "outputs": [],
   "source": [
    "# Criando df somente colunas necessátrias para a integração no tópico 03!\n",
    "mes_geo = mes_d1.sort_values('momento')"
   ]
  },
  {
   "cell_type": "code",
   "execution_count": null,
   "id": "6a7dfa1b",
   "metadata": {},
   "outputs": [],
   "source": [
    "# Reiniciando a contagem dos index\n",
    "mes_geo.reset_index(inplace=True)"
   ]
  },
  {
   "cell_type": "code",
   "execution_count": null,
   "id": "5f9d6992",
   "metadata": {},
   "outputs": [],
   "source": [
    "# REMOVENDO COLUNA DESNECESSÁRIA!\n",
    "mes_georr = mes_geo.drop(['index', \"prefixo_carro\"], axis=1)"
   ]
  },
  {
   "cell_type": "code",
   "execution_count": null,
   "id": "06d050ab",
   "metadata": {},
   "outputs": [],
   "source": [
    "mes_georr.info()"
   ]
  },
  {
   "cell_type": "markdown",
   "id": "f11b85d5",
   "metadata": {},
   "source": [
    "# 3.0 Integração da coordenada aproximada do ônibus na bilhetagem"
   ]
  },
  {
   "cell_type": "code",
   "execution_count": null,
   "id": "1da441f5",
   "metadata": {},
   "outputs": [],
   "source": [
    "# Coordenada mais proxima do ônibus é extraída da base de GPS e integrada na base da bilhetagem (SOMENTE COLUMAS MOMENTO E ID)\n",
    "mes_d1_GPS_ = pd.merge_asof(mes_georr, GPS_I_H, left_on='momento', right_on='momento', by='id_veiculo', direction ='nearest')"
   ]
  },
  {
   "cell_type": "code",
   "execution_count": null,
   "id": "8df17618",
   "metadata": {
    "scrolled": true
   },
   "outputs": [],
   "source": [
    "# Colocando df em ordem desejada \n",
    "# Df da junção\n",
    "mes_d1_GPS = mes_d1_GPS_.reindex(columns=['id', 'linha', 'cod_veiculo', 'id_veiculo', \n",
    "                        'tipo_cartao', 'momento', 'latitude', 'longitude'])"
   ]
  },
  {
   "cell_type": "code",
   "execution_count": null,
   "id": "50082f48",
   "metadata": {},
   "outputs": [],
   "source": [
    "mes_d1_GPS.isnull().sum()"
   ]
  },
  {
   "cell_type": "code",
   "execution_count": null,
   "id": "2b1aa461",
   "metadata": {},
   "outputs": [],
   "source": [
    "# Base da bilhetagem localizada \n",
    "mes_d1_GPS"
   ]
  },
  {
   "cell_type": "markdown",
   "id": "a24ca827",
   "metadata": {},
   "source": [
    "# 4.0 Plotagem da bilhetagem georreferenciada"
   ]
  },
  {
   "cell_type": "markdown",
   "id": "39ac1188",
   "metadata": {},
   "source": [
    "\n",
    "## 4.1 Intalação das bibliotecas e importação\n",
    "''' OBS: Os codigos abaixo serão deixados no arquivo, contudo o objetivo do procedimento não é visualização dos dados de bilhetagem localizados mas serão deixados em caso que se deseja utilizar essas bibliotecas para esse fim! '''"
   ]
  },
  {
   "cell_type": "code",
   "execution_count": null,
   "id": "3f868dec",
   "metadata": {},
   "outputs": [],
   "source": [
    "# INSTALANDO A BIBLIOTECA GEOPANDAS COM CONDA\n",
    "# !conda install geopandas -y\n",
    "\n",
    "# instalando com pip\n",
    "!pip install-q geopandas"
   ]
  },
  {
   "cell_type": "code",
   "execution_count": null,
   "id": "4bff46e4",
   "metadata": {},
   "outputs": [],
   "source": [
    "# mostrar a versão da biblioteca \n",
    "# !pip list geopandas"
   ]
  },
  {
   "cell_type": "code",
   "execution_count": null,
   "id": "a569b574",
   "metadata": {},
   "outputs": [],
   "source": [
    "# instalando a biblioteca matplotlib com conda\n",
    "# !conda install matplotlib -y\n",
    "\n",
    "# instalando com pip\n",
    "!pip install -q matplotlib"
   ]
  },
  {
   "cell_type": "code",
   "execution_count": null,
   "id": "1a9abb87",
   "metadata": {},
   "outputs": [],
   "source": [
    "# mostrar a versão da biblioteca \n",
    "# !pip list matplotlib"
   ]
  },
  {
   "cell_type": "code",
   "execution_count": null,
   "id": "d06196c2",
   "metadata": {},
   "outputs": [],
   "source": [
    "# importando as bibliotecas\n",
    "import geopandas as gpd\n",
    "import matplotlib.pyplot as plt"
   ]
  },
  {
   "cell_type": "markdown",
   "id": "efe98a5c",
   "metadata": {},
   "source": [
    "## 4.2 Leitura de dados espaciais "
   ]
  },
  {
   "cell_type": "code",
   "execution_count": null,
   "id": "84d7abdd",
   "metadata": {},
   "outputs": [],
   "source": [
    "# Ler os dados com geopandas\n",
    "ceara_muni = gpd.read_file('CE_Municipios_2022.shp')"
   ]
  },
  {
   "cell_type": "markdown",
   "id": "2d770a23",
   "metadata": {},
   "source": [
    "### 4.2.1 Visualização dos dados "
   ]
  },
  {
   "cell_type": "code",
   "execution_count": null,
   "id": "9a671f9e",
   "metadata": {},
   "outputs": [],
   "source": [
    "# Visualização\n",
    "# ceara_muni.plot(figsize=(16,14), facecolor='white', edgecolor='black') \n",
    "#plt.show()"
   ]
  },
  {
   "cell_type": "markdown",
   "id": "fb87a0a6",
   "metadata": {},
   "source": [
    "### 4.2.2 Filtro somente da capital "
   ]
  },
  {
   "cell_type": "code",
   "execution_count": null,
   "id": "5abfa764",
   "metadata": {},
   "outputs": [],
   "source": [
    "# Salvando somente a capital 'Fortaleza'\n",
    "fortal = ceara_muni[ceara_muni.NM_MUN=='Fortaleza']\n",
    "fortal_p = fortal.iloc[0].geometry"
   ]
  },
  {
   "cell_type": "code",
   "execution_count": null,
   "id": "9bde65e2",
   "metadata": {},
   "outputs": [],
   "source": [
    "# Mostrar capital \n",
    "fortal_p"
   ]
  },
  {
   "cell_type": "code",
   "execution_count": null,
   "id": "227be858",
   "metadata": {},
   "outputs": [],
   "source": [
    "# Salvar o geodataframe com formato geojson\n",
    "filename =  'fortal.json'\n",
    "fortal.to_file(filename, driver='GeoJSON')"
   ]
  },
  {
   "cell_type": "code",
   "execution_count": null,
   "id": "07c1c892",
   "metadata": {},
   "outputs": [],
   "source": [
    "fortall = gpd.read_file(filename, driver='GeoJSON')"
   ]
  },
  {
   "cell_type": "code",
   "execution_count": null,
   "id": "45b71344",
   "metadata": {},
   "outputs": [],
   "source": [
    "fortall"
   ]
  },
  {
   "cell_type": "markdown",
   "id": "86768fd6",
   "metadata": {},
   "source": [
    "### 4.2.3 Modelo de dados espaciais e criação de coluna geometrica "
   ]
  },
  {
   "cell_type": "code",
   "execution_count": null,
   "id": "3f54168b",
   "metadata": {},
   "outputs": [],
   "source": [
    "# Instalando biblioteca shapely com pip\n",
    "!pip install -q shapely\n",
    "# Mostrar versão da biblioteca \n",
    "# !pip list shapely"
   ]
  },
  {
   "cell_type": "code",
   "execution_count": null,
   "id": "dd8a9594",
   "metadata": {},
   "outputs": [],
   "source": [
    "# importando os objetos geométricos da biblioteca shapely\n",
    "from shapely.geometry import Point, LineString, Polygon"
   ]
  },
  {
   "cell_type": "code",
   "execution_count": null,
   "id": "9d53b654",
   "metadata": {},
   "outputs": [],
   "source": [
    "# Criando coluna geometerica no df (mes_d1_GPS)\n",
    "# mes_d1_GPS['geometry'] = None \n",
    "# for index, row in mes_d1_GPS.iterrows():\n",
    "    #mes_d1_GPS.loc[index, 'geometry'] = Point(row.latitude, row.longitude)"
   ]
  },
  {
   "cell_type": "code",
   "execution_count": null,
   "id": "8807fca5",
   "metadata": {},
   "outputs": [],
   "source": [
    "# mes_d1_GPS"
   ]
  },
  {
   "cell_type": "code",
   "execution_count": null,
   "id": "346e1d11",
   "metadata": {},
   "outputs": [],
   "source": [
    "# Criando coluna geometerica no df (mes_d1_GPS)\n",
    "# mes_d1_GPS['geometry'] = mes_d1_GPS.apply(lambda x: Point((float(x.longitude), float(x.latitude))), axis=1)"
   ]
  },
  {
   "cell_type": "code",
   "execution_count": null,
   "id": "2cdb88be",
   "metadata": {},
   "outputs": [],
   "source": [
    "# tipos de dados \n",
    "# type(mes_d1_GPS)"
   ]
  },
  {
   "cell_type": "code",
   "execution_count": null,
   "id": "3b0d618c",
   "metadata": {},
   "outputs": [],
   "source": [
    "# Criando um GeoDataFrame \n",
    "# mes_d1_GPS_geodat_ = gpd.GeoDataFrame(mes_d1_GPS, geometry='geometry')"
   ]
  },
  {
   "cell_type": "code",
   "execution_count": null,
   "id": "e655b160",
   "metadata": {
    "scrolled": true
   },
   "outputs": [],
   "source": [
    "# mostar dados\n",
    "# mes_d1_GPS_geodat_= mes_d1_GPS"
   ]
  },
  {
   "cell_type": "code",
   "execution_count": null,
   "id": "ee751f8e",
   "metadata": {},
   "outputs": [],
   "source": [
    "# Salvar o geodataframe com formato geojson\n",
    "# filename2 =  'mes_d1_GPS_geodat_.json'\n",
    "# mes_d1_GPS_geodat_.to_file(filename2, driver='GeoJSON')"
   ]
  },
  {
   "cell_type": "code",
   "execution_count": null,
   "id": "66ef5791",
   "metadata": {},
   "outputs": [],
   "source": [
    "# mes_d1_GPS_geodat = gpd.read_file(filename2, driver='GeoJSON')"
   ]
  },
  {
   "cell_type": "code",
   "execution_count": null,
   "id": "5ab93530",
   "metadata": {
    "scrolled": false
   },
   "outputs": [],
   "source": [
    "# plotando dados (visualização)\n",
    "# mes_d1_GPS_geodat.plot(figsize=(8,8), facecolor='white', edgecolor='black')"
   ]
  },
  {
   "cell_type": "code",
   "execution_count": null,
   "id": "700fcbe1",
   "metadata": {},
   "outputs": [],
   "source": [
    "# type(mes_d1_GPS_geodat)"
   ]
  },
  {
   "cell_type": "markdown",
   "id": "52849dd7",
   "metadata": {},
   "source": [
    "### 4.2.4 Operação de interseção entre geometrias "
   ]
  },
  {
   "cell_type": "code",
   "execution_count": null,
   "id": "6f35c01c",
   "metadata": {},
   "outputs": [],
   "source": [
    "# Mostrar os dados simultaneamente\n",
    "# fig, ax = plt.subplots(figsize=(15,15))\n",
    "\n",
    "# mes_d1_GPS_geodat.plot(ax=ax)\n",
    "# fortall.plot(ax=ax, facecolor='None', edgecolor='black')"
   ]
  },
  {
   "cell_type": "code",
   "execution_count": null,
   "id": "1abda072",
   "metadata": {},
   "outputs": [],
   "source": [
    "# VERIFICAMOS QUE EXISTEM DADOS GEORREFERENCIADOS FORA DA MALHA DA CIDADE, PODENDO SER NA SUA MAIORIA REGISTRO DOS VEICULOS\n",
    "# QUANDO SE DESLOCARAM PARA OUTRAS ZONAS, OU ATÉ MESMO ERROS DO APARELHO DE GPS, COMO MOSTRA NA FIGURA ACIMA UM REGISTRO \n",
    "# PRATICAMENTE NO MAR."
   ]
  },
  {
   "cell_type": "code",
   "execution_count": null,
   "id": "54c2bd00",
   "metadata": {},
   "outputs": [],
   "source": [
    "# Realizar operação de interseção entre geometrias\n",
    "mes_geo_fortal = mes_d1_GPS_geodat[mes_d1_GPS_geodat.intersects(fortal_p)]"
   ]
  },
  {
   "cell_type": "code",
   "execution_count": null,
   "id": "663eb362",
   "metadata": {},
   "outputs": [],
   "source": [
    "# mes_geo_fortal.info()"
   ]
  },
  {
   "cell_type": "code",
   "execution_count": null,
   "id": "a7effc8f",
   "metadata": {},
   "outputs": [],
   "source": [
    "# NOTAMOS QUE DOS 891038 DADOS DE VALIDAÇÕES APENAS 825386 foram localizadas dentro da malha da cidade, seguimos com estas!"
   ]
  },
  {
   "cell_type": "code",
   "execution_count": null,
   "id": "2bfab847",
   "metadata": {},
   "outputs": [],
   "source": [
    "# Mostrar os dados simultaneamente após interseção\n",
    "# fig, ax = plt.subplots(figsize=(10,10))\n",
    "\n",
    "# mes_geo_fortal.plot(ax=ax)\n",
    "# fortall.plot(ax=ax, facecolor='None', edgecolor='black')"
   ]
  },
  {
   "cell_type": "code",
   "execution_count": null,
   "id": "6fc46c7e",
   "metadata": {},
   "outputs": [],
   "source": [
    "# Salvando os dados georreferenciados em fortaleza \n",
    "# filename3 = 'mes_geo_fortal.json'\n",
    "\n",
    "# mes_geo_fortal.to_file(filename3, driver='GeoJSON')"
   ]
  },
  {
   "cell_type": "markdown",
   "id": "6194b85f",
   "metadata": {},
   "source": [
    "### 4.2.5 Mostrando dados no mapa de agrupamento (clusters)"
   ]
  },
  {
   "cell_type": "code",
   "execution_count": null,
   "id": "0d0a5597",
   "metadata": {
    "scrolled": true
   },
   "outputs": [],
   "source": [
    "# Instalando biblioteca folium com pip!\n",
    "!pip install -q folium"
   ]
  },
  {
   "cell_type": "code",
   "execution_count": null,
   "id": "0ddf5ba0",
   "metadata": {},
   "outputs": [],
   "source": [
    "# importando biblioteca folium e pluging\n",
    "import folium \n",
    "from folium.plugins import FastMarkerCluster"
   ]
  },
  {
   "cell_type": "code",
   "execution_count": null,
   "id": "e8ed3d1a",
   "metadata": {},
   "outputs": [],
   "source": [
    "# Criar mapa de agrupamentos (clusters)\n",
    "media_long = mes_geo_fortal['longitude'].mean()\n",
    "media_lat = mes_geo_fortal['latitude'].mean()\n",
    "\n",
    "mapa = folium.Map(location=[media_lat, media_long])"
   ]
  },
  {
   "cell_type": "code",
   "execution_count": null,
   "id": "31e70fc1",
   "metadata": {},
   "outputs": [],
   "source": [
    "# Transformando dados em uma feat geojson\n",
    "mc = FastMarkerCluster(mes_geo_fortal[['latitude', 'longitude']])"
   ]
  },
  {
   "cell_type": "code",
   "execution_count": null,
   "id": "819e1e47",
   "metadata": {},
   "outputs": [],
   "source": [
    "# Poligonal da cidade no mapa\n",
    "limites = folium.features.GeoJson(fortall, style_function=lambda feature:{'color': 'black', 'weight': 2, 'fillOpacity':0.0})"
   ]
  },
  {
   "cell_type": "code",
   "execution_count": null,
   "id": "dfed19eb",
   "metadata": {},
   "outputs": [],
   "source": [
    "# Adicionando dados no mapa\n",
    "mapa.add_child(mc)\n",
    "mapa.add_child(limites)       "
   ]
  },
  {
   "cell_type": "code",
   "execution_count": null,
   "id": "5e172a7c",
   "metadata": {},
   "outputs": [],
   "source": [
    "# Salvar o nosso mapa em um arquivo html\n",
    "# mapa.save('validações_georreferenciadas.html')"
   ]
  },
  {
   "cell_type": "markdown",
   "id": "94a834fb",
   "metadata": {},
   "source": [
    "### 4.2.6 Mostrando dados no mapa de calor (Heatmap)"
   ]
  },
  {
   "cell_type": "code",
   "execution_count": null,
   "id": "bb213b8b",
   "metadata": {},
   "outputs": [],
   "source": [
    "# Importando a plugin HeatMap\n",
    "from folium.plugins import HeatMap"
   ]
  },
  {
   "cell_type": "code",
   "execution_count": null,
   "id": "c2033d24",
   "metadata": {},
   "outputs": [],
   "source": [
    "# Criando mapa II\n",
    "mapa_2 = folium.Map(location=[media_lat, media_long]) \n",
    "\n",
    "# Criando heat_map\n",
    "heat_map = HeatMap(mes_geo_fortal[['latitude', 'longitude']])     "
   ]
  },
  {
   "cell_type": "code",
   "execution_count": null,
   "id": "791b81af",
   "metadata": {},
   "outputs": [],
   "source": [
    "# Adicionando no map\n",
    "mapa_2.add_child(heat_map)\n",
    "mapa_2.add_child(limites)"
   ]
  },
  {
   "cell_type": "code",
   "execution_count": null,
   "id": "02d1a01c",
   "metadata": {},
   "outputs": [],
   "source": [
    "# Salvar o nosso mapa em um arquivo html\n",
    "# mapa_2.save('validações_georreferenciadas_Heatmap_calor.html')"
   ]
  },
  {
   "cell_type": "markdown",
   "id": "49a34923",
   "metadata": {
    "heading_collapsed": true
   },
   "source": [
    "# 5.0 Testes"
   ]
  },
  {
   "cell_type": "markdown",
   "id": "ea839d71",
   "metadata": {
    "hidden": true
   },
   "source": [
    "## 5.1.0 Motivo do não georreferenciamento da base completa da bilhetagem"
   ]
  },
  {
   "cell_type": "code",
   "execution_count": null,
   "id": "38036f6b",
   "metadata": {
    "hidden": true,
    "scrolled": true
   },
   "outputs": [],
   "source": [
    "# Inspeção na base da bilhetagem e do dicionario para um veiculo especifico\n",
    "veiculo_12994 = mes[mes.prefixo_carro==12994]"
   ]
  },
  {
   "cell_type": "code",
   "execution_count": null,
   "id": "1dd7dbf1",
   "metadata": {
    "hidden": true
   },
   "outputs": [],
   "source": [
    "# NOTAMOS QUE ESSE VEICULO ESPECIFICO POSSUI REGISTROS NA BILHETAGEM"
   ]
  },
  {
   "cell_type": "code",
   "execution_count": null,
   "id": "be428117",
   "metadata": {
    "hidden": true
   },
   "outputs": [],
   "source": [
    "### Verificando dados que estão presentes na base da bilhetagem e não na base do dicionario\n",
    "lista = d01.cod_veiculo.unique()\n",
    "mes.isin({'prefixo_carro':lista}).prefixo_carro.value_counts(1)"
   ]
  },
  {
   "cell_type": "code",
   "execution_count": null,
   "id": "dde8ec7b",
   "metadata": {
    "hidden": true
   },
   "outputs": [],
   "source": [
    "# OU SEJA, DOS 100% DE DADOS NA BILHETAGEM APENAS 86,78% POSSUI UM CODIGO CORRESPONDENTE NA BASE DO DICIONARIO!"
   ]
  },
  {
   "cell_type": "code",
   "execution_count": null,
   "id": "98b4e235",
   "metadata": {
    "hidden": true
   },
   "outputs": [],
   "source": [
    "# VERIFICAÇÃO DO VEICULO 12994 NA BASE DO DICIONARIO \n",
    "d01[d01.cod_veiculo == 12993]"
   ]
  },
  {
   "cell_type": "code",
   "execution_count": null,
   "id": "733b7b94",
   "metadata": {
    "hidden": true
   },
   "outputs": [],
   "source": [
    "''' CONCLUSÃO, APÓS INSPEÇÃO NOTAMOS QUE NÃO FOI POSSIVEL GEORREFERENCIAR A BASE DA BILHETAGEM COMPLETA POIS PARA ALGUNS VEICULOS NÃO TEM UM CODIGO DE VEICULO CORRESPONDENTE NA BASE DO DICIONARIO E CONSEQUENTIMENTE NÃO VAI SER LOCALIZADO NA BASE DO GPS, ASSIM UMA PERCENTAGEM DOS DADOS DA BILHETAGEM TIVERAM COORDENADA APROXIMADA DE VALIDAÇÃO GEORREFERENCIADA e o metodo aplicado não considerou os dados com caracters do dicionario, uma abordagem tratando esses dados sem removelos pode aumentar a quantidade de validações localizadas! '''"
   ]
  },
  {
   "cell_type": "markdown",
   "id": "f5fcb3d4",
   "metadata": {},
   "source": [
    "# ------------------------------------------------------------------------"
   ]
  }
 ],
 "metadata": {
  "kernelspec": {
   "display_name": "Python 3 (ipykernel)",
   "language": "python",
   "name": "python3"
  },
  "language_info": {
   "codemirror_mode": {
    "name": "ipython",
    "version": 3
   },
   "file_extension": ".py",
   "mimetype": "text/x-python",
   "name": "python",
   "nbconvert_exporter": "python",
   "pygments_lexer": "ipython3",
   "version": "3.9.12"
  }
 },
 "nbformat": 4,
 "nbformat_minor": 5
}
