{
 "cells": [
  {
   "cell_type": "markdown",
   "id": "4c29b47f",
   "metadata": {},
   "source": [
    "# Algoritmo - Identificação da programação em trecho de interesse \n",
    "### _Autor: Antônio Claudio Dutra Batista_\n",
    "### _Orientador: Francisco Moraes de Oliveria Neto_\n",
    "### _Metodologia: Integração dos dados do GTFS com infomações das paradas programadas_"
   ]
  },
  {
   "cell_type": "markdown",
   "id": "8c0b4022",
   "metadata": {},
   "source": [
    "# 1.0 Integração dos dados do formato GTFS\n",
    "    ''' Mesclagem dos dados de localização das paradas, horarios previstos e viagens programadas em uma unica base '''"
   ]
  },
  {
   "cell_type": "code",
   "execution_count": null,
   "id": "769f6df2",
   "metadata": {},
   "outputs": [],
   "source": [
    "# Importando base com locais previstos de parada\n",
    "import pandas as pd \n",
    "stops_paradas = pd.read_csv('stops_2024', sep= ',')"
   ]
  },
  {
   "cell_type": "code",
   "execution_count": null,
   "id": "9ea34925",
   "metadata": {},
   "outputs": [],
   "source": [
    "# Removendo colunas desnecessárias do df com paradas \n",
    "stops_paradas.drop(columns= ['stop_code', 'stop_desc', 'zone_id', 'stop_url', 'location_type', 'parent_station', \n",
    "                             'stop_timezone', 'wheelchair_boarding'], inplace=True)"
   ]
  },
  {
   "cell_type": "code",
   "execution_count": null,
   "id": "82987888",
   "metadata": {},
   "outputs": [],
   "source": [
    "stops_paradas"
   ]
  },
  {
   "cell_type": "code",
   "execution_count": null,
   "id": "bfaac04a",
   "metadata": {},
   "outputs": [],
   "source": [
    "# Importando base com horarios previstos de parada  \n",
    "stop_times = pd.read_csv('stop_times_2024', sep= ',')\n",
    "\n",
    "# Importando dados com viagens programadas de cada linha \n",
    "trips = pd.read_csv('trips_2024', sep=\",\")"
   ]
  },
  {
   "cell_type": "code",
   "execution_count": null,
   "id": "74570097",
   "metadata": {},
   "outputs": [],
   "source": [
    "# Removendo colunas desnecessárias do df com paradas \n",
    "stop_times.drop(columns= ['stop_headsign', 'pickup_type', 'drop_off_type', 'shape_dist_traveled'], inplace=True)"
   ]
  },
  {
   "cell_type": "code",
   "execution_count": null,
   "id": "57f54f1d",
   "metadata": {},
   "outputs": [],
   "source": [
    "# Removendo informações desnecessárias do df de dados das viagens\n",
    "trips_tratado = trips.drop(columns=['service_id', 'trip_headsign', 'trip_short_name', 'direction_id', 'block_id',\n",
    "                                    'wheelchair_accessible'])"
   ]
  },
  {
   "cell_type": "code",
   "execution_count": null,
   "id": "0286d898",
   "metadata": {},
   "outputs": [],
   "source": [
    "stop_times"
   ]
  },
  {
   "cell_type": "code",
   "execution_count": null,
   "id": "807a0dce",
   "metadata": {},
   "outputs": [],
   "source": [
    "# Juunção dos dados das paradas pela mesmo stop_id no df de tempos previstos de passagem\n",
    "merge_pardas_time = pd.merge(stop_times, stops_paradas, left_on='stop_id', right_on='stop_id')"
   ]
  },
  {
   "cell_type": "code",
   "execution_count": null,
   "id": "52fd45b5",
   "metadata": {},
   "outputs": [],
   "source": [
    "merge_pardas_time"
   ]
  },
  {
   "cell_type": "code",
   "execution_count": null,
   "id": "01b9c253",
   "metadata": {},
   "outputs": [],
   "source": [
    "# MESCLANDO BASE COM INFORMAÇÕES DAS PARADAS E TEMPOS DE PASSAGENS COM OS DADOS DAS VIAGENS PROGRAMADAS E AS RESPECTIVAS LINHAS\n",
    "merge_paradas_time_trips = pd.merge(merge_pardas_time, trips_tratado, left_on='trip_id', right_on='trip_id')"
   ]
  },
  {
   "cell_type": "code",
   "execution_count": null,
   "id": "1117eb63",
   "metadata": {},
   "outputs": [],
   "source": [
    "merge_paradas_time_trips"
   ]
  },
  {
   "cell_type": "markdown",
   "id": "3a1b2a64",
   "metadata": {},
   "source": [
    "# 2.0 Filtragem em trecho de interesse \n",
    "    '''A partir da base integrada é possivel verificar para uma determinada linha, os locais programados de passagem '''"
   ]
  },
  {
   "cell_type": "markdown",
   "id": "6e0f36e8",
   "metadata": {},
   "source": [
    "## 2.1 Identificando paradas programadas "
   ]
  },
  {
   "cell_type": "code",
   "execution_count": null,
   "id": "d7d2f0c1",
   "metadata": {},
   "outputs": [],
   "source": [
    "# Filtrando no trecho de interesse\n",
    "''' (A PARTIR DA ESTAÇÃO DO NORTHSHOPING E 120 METROS APOS A ULTIMA ESTAÇÃO) '''\n",
    "trecho = merge_paradas_time_trips[(merge_paradas_time_trips.stop_lat>=-3.736013)\n",
    "    & (merge_paradas_time_trips.stop_lon>=-38.566300) & (merge_paradas_time_trips.stop_lon<=-38.542240) \n",
    "                                & (merge_paradas_time_trips.stop_lat<=-3.731021)]"
   ]
  },
  {
   "cell_type": "code",
   "execution_count": null,
   "id": "16a05a5d",
   "metadata": {},
   "outputs": [],
   "source": [
    "# TODAS AS LINHAS QUE POSSUEM VIAGENS PROGRAMDAS NESSA REGIÃO \n",
    "trecho['route_id'].unique()"
   ]
  },
  {
   "cell_type": "code",
   "execution_count": null,
   "id": "1b0755f5",
   "metadata": {},
   "outputs": [],
   "source": [
    "# Filtrando linha no trecho de interesse \n",
    "linha = trecho[trecho.route_id==28]"
   ]
  },
  {
   "cell_type": "code",
   "execution_count": null,
   "id": "f83a624a",
   "metadata": {
    "scrolled": false
   },
   "outputs": [],
   "source": [
    "linha"
   ]
  },
  {
   "cell_type": "code",
   "execution_count": null,
   "id": "6a563734",
   "metadata": {},
   "outputs": [],
   "source": [
    "# Verificando as paradas programadas presentes \n",
    "linha['stop_name'].unique()"
   ]
  },
  {
   "cell_type": "code",
   "execution_count": null,
   "id": "b0faa7ec",
   "metadata": {},
   "outputs": [],
   "source": [
    "# Quantidade de passagens progamadas por paradas \n",
    "linha['stop_name'].value_counts()"
   ]
  },
  {
   "cell_type": "markdown",
   "id": "38b08f05",
   "metadata": {},
   "source": [
    "## 2.1 Visualizando lat lon das paradas por linha"
   ]
  },
  {
   "cell_type": "code",
   "execution_count": null,
   "id": "d1efdbed",
   "metadata": {},
   "outputs": [],
   "source": [
    "# Atribuindo valores de lat,lon das paradas a um df\n",
    "df_geometry = linha.drop_duplicates(subset='stop_name')"
   ]
  },
  {
   "cell_type": "code",
   "execution_count": null,
   "id": "d3d08aab",
   "metadata": {
    "scrolled": false
   },
   "outputs": [],
   "source": [
    "df_geometry"
   ]
  },
  {
   "cell_type": "code",
   "execution_count": null,
   "id": "a3e85500",
   "metadata": {},
   "outputs": [],
   "source": [
    "lat = df_geometry['stop_lat'].mean()\n",
    "lon = df_geometry['stop_lon'].mean()"
   ]
  },
  {
   "cell_type": "code",
   "execution_count": null,
   "id": "c3e9ded5",
   "metadata": {},
   "outputs": [],
   "source": [
    "# Criando um mapa centrado em FORTALEZA\n",
    "import folium\n",
    "from folium.plugins import MarkerCluster\n",
    "\n",
    "mapa = folium.Map(location=[lat, lon], zoom_start=5)\n",
    "\n",
    "# Adicionando marcadores circulares ao mapa\n",
    "marker_cluster = MarkerCluster().add_to(mapa)\n",
    "\n",
    "def popup_content(id_veiculo, id_veiculo_clicado):\n",
    "    cor_popup = 'blue' if id_veiculo != id_veiculo_clicado else 'red'\n",
    "    return f'<div style=\"color: {cor_popup};\">{id_veiculo}</div>'\n",
    "\n",
    "for index, row in df_geometry.iterrows():\n",
    "    folium.CircleMarker(location=[row['stop_lat'], row['stop_lon']],\n",
    "                        radius=10,\n",
    "                        color='black',\n",
    "                        fill=True,\n",
    "                        fill_color='red',\n",
    "                        fill_opacity=0.6,\n",
    "                        popup=folium.Popup(popup_content(row['stop_name'], ''), max_width=3)).add_to(marker_cluster)"
   ]
  },
  {
   "cell_type": "code",
   "execution_count": null,
   "id": "35b487ec",
   "metadata": {
    "scrolled": false
   },
   "outputs": [],
   "source": [
    "mapa"
   ]
  },
  {
   "cell_type": "markdown",
   "id": "28bdefef",
   "metadata": {},
   "source": [
    "# ----------------------------------------------------------------"
   ]
  }
 ],
 "metadata": {
  "kernelspec": {
   "display_name": "Python 3 (ipykernel)",
   "language": "python",
   "name": "python3"
  },
  "language_info": {
   "codemirror_mode": {
    "name": "ipython",
    "version": 3
   },
   "file_extension": ".py",
   "mimetype": "text/x-python",
   "name": "python",
   "nbconvert_exporter": "python",
   "pygments_lexer": "ipython3",
   "version": "3.9.12"
  }
 },
 "nbformat": 4,
 "nbformat_minor": 5
}
