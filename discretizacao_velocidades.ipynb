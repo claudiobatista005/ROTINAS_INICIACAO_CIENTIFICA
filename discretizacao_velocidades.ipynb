{
 "cells": [
  {
   "cell_type": "markdown",
   "id": "4c29b47f",
   "metadata": {},
   "source": [
    "# Algoritmo - Discretização perfis de velocidades veicular\n",
    "### _Autor: Antônio Claudio Dutra Batista_\n",
    "### _Orientador: Francisco Moraes de Oliveria Neto_\n",
    "### _Metodologia: Discretização das velocidade entre cada registro do gps no trecho especifico_"
   ]
  },
  {
   "cell_type": "markdown",
   "id": "63f4aea9",
   "metadata": {},
   "source": [
    "# 1.0 Importando dados necessarios"
   ]
  },
  {
   "cell_type": "code",
   "execution_count": null,
   "id": "3fdfaa0e",
   "metadata": {},
   "outputs": [],
   "source": [
    "import pandas as pd \n",
    "import numpy as np "
   ]
  },
  {
   "cell_type": "code",
   "execution_count": null,
   "id": "564cb2ac",
   "metadata": {},
   "outputs": [],
   "source": [
    "velocidades = pd.read_excel('velocidades_linha_222_dia01_IDA.xlsx')"
   ]
  },
  {
   "cell_type": "code",
   "execution_count": null,
   "id": "84cb9b08",
   "metadata": {
    "scrolled": true
   },
   "outputs": [],
   "source": [
    "velocidades"
   ]
  },
  {
   "cell_type": "markdown",
   "id": "c15d20f6",
   "metadata": {},
   "source": [
    "# 2.0 Discretização\n",
    "  ''' Assumindo que a componente de velocidade a cada trecho discretizado seja proporcional a velocidade no trecho completo '''"
   ]
  },
  {
   "cell_type": "code",
   "execution_count": null,
   "id": "961df725",
   "metadata": {},
   "outputs": [],
   "source": [
    "# Função para discretizar a velocidade em intervalos de 5 metros\n",
    "def discretizar_velocidade(distancia, velocidade):\n",
    "    tamanho_total_trecho = distancia.sum()  # Tamanho total do trecho\n",
    "    intervalo = 5  # Intervalo de discretização em metros\n",
    "    velocidades_discretizadas = []\n",
    "    distancia_acumulada = 0\n",
    "    for i in range(0, int(tamanho_total_trecho), intervalo):\n",
    "        velocidade_intervalo = velocidade[(distancia_acumulada <= distancia) & (distancia < distancia_acumulada + intervalo)].mean()\n",
    "        if pd.isnull(velocidade_intervalo):  # Se a velocidade para este intervalo é NaN\n",
    "            # Preencher os valores NaN utilizando interpolação linear\n",
    "            velocidade_intervalo = velocidade.interpolate(method='linear', limit_direction='both').mean()\n",
    "        velocidades_discretizadas.append((distancia_acumulada + intervalo, velocidade_intervalo))  # Adiciondo a distância e velocidade\n",
    "        distancia_acumulada += intervalo  # Atualizando a distância acumulada\n",
    "    return velocidades_discretizadas"
   ]
  },
  {
   "cell_type": "code",
   "execution_count": null,
   "id": "adec886b",
   "metadata": {},
   "outputs": [],
   "source": [
    "# Aplicando a função de discretização à coluna de velocidade\n",
    "velocidades_discretizadas = discretizar_velocidade(velocidades['distancia'], velocidades['velocidade'])"
   ]
  },
  {
   "cell_type": "code",
   "execution_count": null,
   "id": "1937432a",
   "metadata": {},
   "outputs": [],
   "source": [
    "# Discretizando a velocidade\n",
    "distancias_discretizadas = np.arange(0, velocidades['distancia'].max() + 5, 5)"
   ]
  },
  {
   "cell_type": "code",
   "execution_count": null,
   "id": "6d26d285",
   "metadata": {},
   "outputs": [],
   "source": [
    "# Criando um novo DataFrame com as distâncias e velocidades discretizadas\n",
    "novo_data = {'distancia (m)': [t[0] for t in velocidades_discretizadas], 'velocidade (m/s)': [t[1] for t in velocidades_discretizadas]}\n",
    "df_discretizado = pd.DataFrame(novo_data)"
   ]
  },
  {
   "cell_type": "code",
   "execution_count": null,
   "id": "de1828f7",
   "metadata": {},
   "outputs": [],
   "source": [
    "df_discretizado"
   ]
  },
  {
   "cell_type": "code",
   "execution_count": null,
   "id": "d0cc47e2",
   "metadata": {},
   "outputs": [],
   "source": [
    "# Salvar arquivo formato xlsx (descomentar a linha abaixo caso exortação!)\n",
    "# df_discretizado.to_excel('nome_do_aquivo')"
   ]
  },
  {
   "cell_type": "markdown",
   "id": "8ed81cd0",
   "metadata": {},
   "source": [
    "### ------------------------------------------------------------------------------------------------------------------------"
   ]
  }
 ],
 "metadata": {
  "kernelspec": {
   "display_name": "Python 3 (ipykernel)",
   "language": "python",
   "name": "python3"
  },
  "language_info": {
   "codemirror_mode": {
    "name": "ipython",
    "version": 3
   },
   "file_extension": ".py",
   "mimetype": "text/x-python",
   "name": "python",
   "nbconvert_exporter": "python",
   "pygments_lexer": "ipython3",
   "version": "3.9.12"
  }
 },
 "nbformat": 4,
 "nbformat_minor": 5
}
