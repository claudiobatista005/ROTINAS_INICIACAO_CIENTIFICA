{
 "cells": [
  {
   "cell_type": "markdown",
   "id": "4c29b47f",
   "metadata": {},
   "source": [
    "# Algoritmo - Discretização perfis de velocidades veicular\n",
    "### _Autor: Antônio Claudio Dutra Batista_\n",
    "### _Orientador: Francisco Moraes de Oliveria Neto_\n",
    "### _Metodologia: Discretização das velocidade entre cada registro do gps no trecho especifico_\n",
    "    ''' ASSUMINDO QUE A CADA TRECHO DISCRETIZADO A VELOCIDADE SEJA A MESMA DA VELICIDADE DO TRECHO ENTRE OS REGISTRO DO GPS, OU SEJA, A VELOCIDADE A CADA INTERVALO SEJA A VELOCIDADE MÉDIA DOS TRECHOS ENTRE CADA REGISTRO '''"
   ]
  },
  {
   "cell_type": "markdown",
   "id": "63f4aea9",
   "metadata": {},
   "source": [
    "# 1.0 Importando dados necessarios"
   ]
  },
  {
   "cell_type": "code",
   "execution_count": null,
   "id": "3fdfaa0e",
   "metadata": {},
   "outputs": [],
   "source": [
    "import pandas as pd \n",
    "import numpy as np "
   ]
  },
  {
   "cell_type": "code",
   "execution_count": null,
   "id": "564cb2ac",
   "metadata": {},
   "outputs": [],
   "source": [
    "velocidades = pd.read_excel('velocidades_linha_222_dia01_IDA.xlsx')"
   ]
  },
  {
   "cell_type": "code",
   "execution_count": null,
   "id": "84cb9b08",
   "metadata": {
    "scrolled": true
   },
   "outputs": [],
   "source": [
    "velocidades"
   ]
  },
  {
   "cell_type": "markdown",
   "id": "c15d20f6",
   "metadata": {},
   "source": [
    "# 2.0 Discretização\n",
    "  ''' Assumindo que a componente de velocidade a cada trecho discretizado seja proporcional a velocidade no trecho completo '''"
   ]
  },
  {
   "cell_type": "code",
   "execution_count": null,
   "id": "92d696bb",
   "metadata": {},
   "outputs": [],
   "source": [
    "# Calculando o tamanho total do trecho (soma das distâncias dos trechos)\n",
    "tamanho_total_trecho = int(velocidades['distancia'].sum())\n",
    "\n",
    "# Criando um novo DataFrame com a coluna 'distancia' incrementada a cada 5 metros\n",
    "velocidades_discretizadas = pd.DataFrame(columns=['distancia', 'velocidade'])\n",
    "\n",
    "# Inicializando a distância acumulada\n",
    "distancia_acumulada = 0"
   ]
  },
  {
   "cell_type": "code",
   "execution_count": null,
   "id": "961df725",
   "metadata": {},
   "outputs": [],
   "source": [
    "# Iteramdo sobre os dados originais\n",
    "for index, row in velocidades.iterrows():\n",
    "    # Obtendo a distância e a velocidade do trecho atual\n",
    "    distancia_trecho_atual = row['distancia']\n",
    "    velocidade_trecho_atual = row['velocidade']\n",
    "    \n",
    "    # Replicando a velocidade do trecho atual a cada 5 metros\n",
    "    for distancia in range(0, int(distancia_trecho_atual) + 1, 5):\n",
    "        if distancia_acumulada > tamanho_total_trecho:\n",
    "            break  # Se a distância acumulada ultrapassar o tamanho total do trecho, interrompendo o loop\n",
    "        velocidades_discretizadas = novo_df.append({'distancia': distancia_acumulada, 'velocidade': velocidade_trecho_atual}, ignore_index=True)\n",
    "        distancia_acumulada += 5  # Incrementar a distância acumulada em 5 metros"
   ]
  },
  {
   "cell_type": "code",
   "execution_count": null,
   "id": "90fcd7d0",
   "metadata": {},
   "outputs": [],
   "source": [
    "velocidades_discretizadas"
   ]
  },
  {
   "cell_type": "code",
   "execution_count": null,
   "id": "d0cc47e2",
   "metadata": {},
   "outputs": [],
   "source": [
    "# Salvar arquivo formato xlsx (descomentar a linha abaixo caso exortação!)\n",
    "# velocidades_discretizadas.to_excel('nome_do_aquivo')"
   ]
  },
  {
   "cell_type": "markdown",
   "id": "8ed81cd0",
   "metadata": {},
   "source": [
    "### ------------------------------------------------------------------------------------------------------------------------"
   ]
  }
 ],
 "metadata": {
  "kernelspec": {
   "display_name": "Python 3 (ipykernel)",
   "language": "python",
   "name": "python3"
  },
  "language_info": {
   "codemirror_mode": {
    "name": "ipython",
    "version": 3
   },
   "file_extension": ".py",
   "mimetype": "text/x-python",
   "name": "python",
   "nbconvert_exporter": "python",
   "pygments_lexer": "ipython3",
   "version": "3.9.12"
  }
 },
 "nbformat": 4,
 "nbformat_minor": 5
}
