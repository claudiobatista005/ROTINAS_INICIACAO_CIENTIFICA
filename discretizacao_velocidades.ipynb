{
 "cells": [
  {
   "cell_type": "markdown",
   "id": "4c29b47f",
   "metadata": {},
   "source": [
    "# Algoritmo - Discretização perfis de velocidades veicular\n",
    "### _Autor: Antônio Claudio Dutra Batista_\n",
    "### _Orientador: Francisco Moraes de Oliveria Neto_\n",
    "### _Metodologia: Discretização das velocidade entre cada registro do gps no trecho especifico_"
   ]
  },
  {
   "cell_type": "markdown",
   "id": "63f4aea9",
   "metadata": {},
   "source": [
    "# 1.0 Importando dados necessarios"
   ]
  },
  {
   "cell_type": "code",
   "execution_count": null,
   "id": "3fdfaa0e",
   "metadata": {},
   "outputs": [],
   "source": [
    "import pandas as pd \n",
    "import numpy as np "
   ]
  },
  {
   "cell_type": "code",
   "execution_count": null,
   "id": "564cb2ac",
   "metadata": {},
   "outputs": [],
   "source": [
    "velocidades = pd.read_excel('velocidades_linha_222_dia01_IDA.xlsx')"
   ]
  },
  {
   "cell_type": "code",
   "execution_count": null,
   "id": "84cb9b08",
   "metadata": {
    "scrolled": true
   },
   "outputs": [],
   "source": [
    "velocidades"
   ]
  },
  {
   "cell_type": "code",
   "execution_count": null,
   "id": "c97cc917",
   "metadata": {},
   "outputs": [],
   "source": [
    "75.258082/5"
   ]
  },
  {
   "cell_type": "code",
   "execution_count": null,
   "id": "13a91e3a",
   "metadata": {},
   "outputs": [],
   "source": [
    "2.508603/75.258082"
   ]
  },
  {
   "cell_type": "code",
   "execution_count": null,
   "id": "8b0495a0",
   "metadata": {},
   "outputs": [],
   "source": [
    "(0.033333336876695846\n",
    "*5)/ 15.0516164"
   ]
  },
  {
   "cell_type": "markdown",
   "id": "c15d20f6",
   "metadata": {},
   "source": [
    "# 2.0 Discretização\n",
    "  ''' Assumindo que a componente de velocidade a cada trecho discretizado seja proporcional a velocidade no trecho completo '''"
   ]
  },
  {
   "cell_type": "code",
   "execution_count": null,
   "id": "961df725",
   "metadata": {},
   "outputs": [],
   "source": [
    "# Função para discretizar a velocidade em intervalos de 5 metros\n",
    "def discretizar_velocidade(distancia, velocidade):\n",
    "    velocidades_discretizadas = []\n",
    "    for i in range(len(distancia)):\n",
    "        # Calculando o número de intervalos de 5 metros no trecho\n",
    "        num_intervalos_5m = distancia[i] / 5\n",
    "        \n",
    "        # Calculando a velocidade discretizada para o trecho atual\n",
    "        velocidade_discretizada = (velocidade[i] / distancia[i]) / num_intervalos_5m * 5\n",
    "        \n",
    "        # Adiciondo a velocidade discretizada à lista\n",
    "        velocidades_discretizadas.append(velocidade_discretizada)\n",
    "        \n",
    "    return velocidades_discretizadas"
   ]
  },
  {
   "cell_type": "code",
   "execution_count": null,
   "id": "adec886b",
   "metadata": {},
   "outputs": [],
   "source": [
    "# Aplicando a função de discretização à coluna de velocidade\n",
    "df = pd.DataFrame() # Criando df para velocidades discretizadas\n",
    "df['velocidade_discretizada'] = discretizar_velocidade(velocidades['distancia'], velocidades['velocidade'])"
   ]
  },
  {
   "cell_type": "code",
   "execution_count": null,
   "id": "23beb633",
   "metadata": {},
   "outputs": [],
   "source": [
    "df['distancia'] = velocidades['distancia']"
   ]
  },
  {
   "cell_type": "code",
   "execution_count": null,
   "id": "3dafbab8",
   "metadata": {},
   "outputs": [],
   "source": [
    "df"
   ]
  },
  {
   "cell_type": "code",
   "execution_count": null,
   "id": "c3e6937c",
   "metadata": {},
   "outputs": [],
   "source": [
    "df['distancia'].sum()"
   ]
  },
  {
   "cell_type": "code",
   "execution_count": null,
   "id": "6d26d285",
   "metadata": {},
   "outputs": [],
   "source": [
    "# Lista para armazenar os novos dados\n",
    "novo_df = []\n",
    "\n",
    "# Distância acumulada\n",
    "distancia_acumulada = 0\n",
    "\n",
    "# Iterando sobre as linhas do DataFrame original\n",
    "for index, row in df.iterrows():\n",
    "    distancia_atual = 0\n",
    "    while distancia_atual < row['distancia'] and distancia_acumulada < sum(df['distancia']):\n",
    "        novo_df.append([row['velocidade_discretizada'], distancia_acumulada])\n",
    "        distancia_atual += 5\n",
    "        distancia_acumulada += 5\n",
    "\n",
    "# Criando o DataFrame com os novos dados\n",
    "novo_df = pd.DataFrame(novo_df, columns=['velocidade_discretizada', 'distancia'])"
   ]
  },
  {
   "cell_type": "code",
   "execution_count": null,
   "id": "7e93027e",
   "metadata": {
    "scrolled": true
   },
   "outputs": [],
   "source": [
    "novo_df"
   ]
  },
  {
   "cell_type": "code",
   "execution_count": null,
   "id": "d0cc47e2",
   "metadata": {},
   "outputs": [],
   "source": [
    "# Salvar arquivo formato xlsx (descomentar a linha abaixo caso exortação!)\n",
    "# df_discretizado.to_excel('nome_do_aquivo')"
   ]
  },
  {
   "cell_type": "markdown",
   "id": "8ed81cd0",
   "metadata": {},
   "source": [
    "### ------------------------------------------------------------------------------------------------------------------------"
   ]
  }
 ],
 "metadata": {
  "kernelspec": {
   "display_name": "Python 3 (ipykernel)",
   "language": "python",
   "name": "python3"
  },
  "language_info": {
   "codemirror_mode": {
    "name": "ipython",
    "version": 3
   },
   "file_extension": ".py",
   "mimetype": "text/x-python",
   "name": "python",
   "nbconvert_exporter": "python",
   "pygments_lexer": "ipython3",
   "version": "3.9.12"
  }
 },
 "nbformat": 4,
 "nbformat_minor": 5
}
