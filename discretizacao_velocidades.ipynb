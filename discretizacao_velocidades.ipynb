{
 "cells": [
  {
   "cell_type": "markdown",
   "id": "4c29b47f",
   "metadata": {},
   "source": [
    "# Algoritmo - Discretização perfis de velocidades veicular\n",
    "### _Autor: Antônio Claudio Dutra Batista_\n",
    "### _Orientador: Francisco Moraes de Oliveria Neto_\n",
    "### _Metodologia: Discretização das velocidade entre cada registro do gps no trecho especifico_"
   ]
  },
  {
   "cell_type": "markdown",
   "id": "63f4aea9",
   "metadata": {},
   "source": [
    "# 1.0 Importando dados necessarios"
   ]
  },
  {
   "cell_type": "code",
   "execution_count": null,
   "id": "3fdfaa0e",
   "metadata": {},
   "outputs": [],
   "source": [
    "import pandas as pd \n",
    "import numpy as np "
   ]
  },
  {
   "cell_type": "code",
   "execution_count": null,
   "id": "564cb2ac",
   "metadata": {},
   "outputs": [],
   "source": [
    "velocidades = pd.read_excel('velocidades_linha_222_dia01_IDA.xlsx')"
   ]
  },
  {
   "cell_type": "code",
   "execution_count": null,
   "id": "84cb9b08",
   "metadata": {
    "scrolled": true
   },
   "outputs": [],
   "source": [
    "velocidades"
   ]
  },
  {
   "cell_type": "markdown",
   "id": "c15d20f6",
   "metadata": {},
   "source": [
    "# 2.0 Discretização\n",
    "  ''' Assumindo que a componente de velocidade a cada trecho discretizado seja proporcional a velocidade no trecho completo '''"
   ]
  },
  {
   "cell_type": "code",
   "execution_count": null,
   "id": "961df725",
   "metadata": {},
   "outputs": [],
   "source": [
    "# Função para discretizar a velocidade em intervalos de 5 metros\n",
    "def discretizar_velocidade(distancia, velocidade):\n",
    "    velocidades_discretizadas = []\n",
    "    for i in range(len(distancia)):\n",
    "        # Calculando o número de intervalos de 5 metros no trecho\n",
    "        num_intervalos_5m = distancia[i] / 5\n",
    "        \n",
    "        # Calculando a velocidade discretizada para o trecho atual\n",
    "        velocidade_discretizada = (velocidade[i] / distancia[i]) / num_intervalos_5m * 5\n",
    "        \n",
    "        # Adiciondo a velocidade discretizada à lista\n",
    "        velocidades_discretizadas.append(velocidade_discretizada)\n",
    "        \n",
    "    return velocidades_discretizadas"
   ]
  },
  {
   "cell_type": "code",
   "execution_count": null,
   "id": "adec886b",
   "metadata": {},
   "outputs": [],
   "source": [
    "# Aplicando a função de discretização à coluna de velocidade\n",
    "# Discretizando as velocidades\n",
    "df['velocidade_discretizada'] = discretizar_velocidade(velocidades['distancia'], velocidades['velocidade'])"
   ]
  },
  {
   "cell_type": "code",
   "execution_count": null,
   "id": "ffac2635",
   "metadata": {},
   "outputs": [],
   "source": [
    "df['distancia'] = velocidades['distancia']"
   ]
  },
  {
   "cell_type": "code",
   "execution_count": null,
   "id": "6d26d285",
   "metadata": {},
   "outputs": [],
   "source": [
    "# Criando um novo DataFrame com as distâncias e velocidades discretizadas\n",
    "distancia_total = df['distancia'].sum()\n",
    "df_discretizado = pd.DataFrame({'distancia (m)': range(0, int(distancia_total) + 5, 5)})\n",
    "\n",
    "# Encontrando a velocidade correspondente para cada distância no novo DataFrame\n",
    "velocidades_discretizadas = []\n",
    "for distancia in df_discretizado['distancia (m)']:\n",
    "    velocidade = df[df['distancia'] >= distancia]['velocidade_discretizada'].iloc[0] if not df[df['distancia'] >= distancia].empty else 0\n",
    "    velocidades_discretizadas.append(velocidade)"
   ]
  },
  {
   "cell_type": "code",
   "execution_count": null,
   "id": "60e166f9",
   "metadata": {},
   "outputs": [],
   "source": [
    "# Adicionando a coluna de velocidades discretizadas ao DataFrame\n",
    "df_discretizado['velocidade (m/s)'] = velocidades_discretizadas"
   ]
  },
  {
   "cell_type": "code",
   "execution_count": null,
   "id": "10f63db3",
   "metadata": {},
   "outputs": [],
   "source": [
    "df_discretizado"
   ]
  },
  {
   "cell_type": "code",
   "execution_count": null,
   "id": "d0cc47e2",
   "metadata": {},
   "outputs": [],
   "source": [
    "# Salvar arquivo formato xlsx (descomentar a linha abaixo caso exortação!)\n",
    "# df_discretizado.to_excel('nome_do_aquivo')"
   ]
  },
  {
   "cell_type": "markdown",
   "id": "8ed81cd0",
   "metadata": {},
   "source": [
    "### ------------------------------------------------------------------------------------------------------------------------"
   ]
  }
 ],
 "metadata": {
  "kernelspec": {
   "display_name": "Python 3 (ipykernel)",
   "language": "python",
   "name": "python3"
  },
  "language_info": {
   "codemirror_mode": {
    "name": "ipython",
    "version": 3
   },
   "file_extension": ".py",
   "mimetype": "text/x-python",
   "name": "python",
   "nbconvert_exporter": "python",
   "pygments_lexer": "ipython3",
   "version": "3.9.12"
  }
 },
 "nbformat": 4,
 "nbformat_minor": 5
}
