{
 "cells": [
  {
   "cell_type": "markdown",
   "id": "4c29b47f",
   "metadata": {},
   "source": [
    "# Algoritmo - Tratamento BD (Billhetagem, GPS e GTFS)\n",
    "### Autor: Antônio Claudio Dutra Batista\n",
    "### Orientador: Francisco Moraes de Oliveria Neto\n",
    "### Metodologia: Adequação de formatos e conscistência"
   ]
  },
  {
   "cell_type": "markdown",
   "id": "0d3152ac",
   "metadata": {},
   "source": [
    "# 1.0  Leitura das Bases e tratamento"
   ]
  },
  {
   "cell_type": "markdown",
   "id": "53c75e45",
   "metadata": {},
   "source": [
    "# 1.1 Bilhetagem (Tratamento Inicial)"
   ]
  },
  {
   "cell_type": "code",
   "execution_count": 1,
   "id": "569415da",
   "metadata": {},
   "outputs": [
    {
     "name": "stderr",
     "output_type": "stream",
     "text": [
      "C:\\Users\\Bolsista\\AppData\\Local\\Temp\\ipykernel_6492\\2908415636.py:16: DtypeWarning: Columns (3) have mixed types. Specify dtype option on import or set low_memory=False.\n",
      "  dia_10 = pd.read_csv('2018-11-10.csv', dtype=tipos_specification, sep= ',')\n"
     ]
    }
   ],
   "source": [
    "import pandas as pd \n",
    "# Arquivos são do mês de novembro de 2018.\n",
    "# Definindo tipos de variaveis com tamanhos menores\n",
    "tipos_specification = {'id': 'int32', 'linha': 'int32'}\n",
    "\n",
    "# df's abaixo (leitura somente das colunas necessárias):\n",
    "dia_01 = pd.read_csv('2018-11-01.csv', dtype=tipos_specification, sep= ',')\n",
    "dia_02 = pd.read_csv('2018-11-02.csv', dtype=tipos_specification, sep= ',')\n",
    "dia_03 = pd.read_csv('2018-11-03.csv', dtype=tipos_specification, sep= ',')\n",
    "dia_04 = pd.read_csv('2018-11-04.csv', dtype=tipos_specification, sep= ',')\n",
    "dia_05 = pd.read_csv('2018-11-05.csv', dtype=tipos_specification, sep= ',') \n",
    "dia_06 = pd.read_csv('2018-11-06.csv', dtype=tipos_specification, sep= ',')\n",
    "dia_07 = pd.read_csv('2018-11-07.csv', dtype=tipos_specification, sep= ',')\n",
    "dia_08 = pd.read_csv('2018-11-08.csv', dtype=tipos_specification, sep= ',')\n",
    "dia_09 = pd.read_csv('2018-11-09.csv', dtype=tipos_specification, sep= ',')\n",
    "dia_10 = pd.read_csv('2018-11-10.csv', dtype=tipos_specification, sep= ',')\n",
    "\n",
    "# Continuando...\n",
    "dia_11 = pd.read_csv('2018-11-11.csv', dtype=tipos_specification, sep= ',')\n",
    "dia_12 = pd.read_csv('2018-11-12.csv', dtype=tipos_specification, sep= ',')\n",
    "dia_13 = pd.read_csv('2018-11-13.csv', dtype=tipos_specification, sep= ',')\n",
    "dia_14 = pd.read_csv('2018-11-14.csv', dtype=tipos_specification, sep= ',')\n",
    "dia_15 = pd.read_csv('2018-11-15.csv', dtype=tipos_specification, sep= ',')\n",
    "dia_16 = pd.read_csv('2018-11-16.csv', dtype=tipos_specification, sep= ',')\n",
    "dia_17 = pd.read_csv('2018-11-17.csv', dtype=tipos_specification, sep= ',')\n",
    "dia_18 = pd.read_csv('2018-11-18.csv', dtype=tipos_specification, sep= ',')\n",
    "dia_19 = pd.read_csv('2018-11-19.csv', dtype=tipos_specification, sep= ',')\n",
    "dia_20 = pd.read_csv('2018-11-20.csv', dtype=tipos_specification, sep= ',')\n",
    "\n",
    "# Continuando...\n",
    "dia_21 = pd.read_csv('2018-11-21.csv', dtype=tipos_specification,  sep= ',')\n",
    "dia_22 = pd.read_csv('2018-11-22.csv', dtype=tipos_specification,  sep= ',')\n",
    "dia_23 = pd.read_csv('2018-11-23.csv', dtype=tipos_specification,  sep= ',')\n",
    "dia_24 = pd.read_csv('2018-11-24.csv', dtype=tipos_specification,  sep= ',')\n",
    "dia_25 = pd.read_csv('2018-11-25.csv', dtype=tipos_specification,  sep= ',')\n",
    "dia_26 = pd.read_csv('2018-11-26.csv', dtype=tipos_specification,  sep= ',')\n",
    "dia_27 = pd.read_csv('2018-11-27.csv', dtype=tipos_specification,  sep= ',')\n",
    "dia_28 = pd.read_csv('2018-11-28.csv', dtype=tipos_specification,  sep= ',')\n",
    "dia_29 = pd.read_csv('2018-11-29.csv', dtype=tipos_specification,  sep= ',')\n",
    "dia_30 = pd.read_csv('2018-11-30.csv', dtype=tipos_specification,  sep= ',')"
   ]
  },
  {
   "cell_type": "code",
   "execution_count": 2,
   "id": "1a00173e",
   "metadata": {},
   "outputs": [],
   "source": [
    "# Agrupando (10 dias)\n",
    "dia_01_10 = pd.concat([dia_01, dia_02, dia_03, dia_04, dia_05, dia_06 ,dia_07, dia_08, dia_09, dia_10])\n",
    "\n",
    "# Continuando...\n",
    "dia_11_20 = pd.concat([dia_11, dia_12, dia_13, dia_14, dia_15,dia_16, dia_17, dia_18, dia_19, dia_20])\n",
    "\n",
    "# Continuando...\n",
    "dia_21_30 = pd.concat([dia_21, dia_22, dia_23, dia_24, dia_25, dia_26, dia_27, dia_28, dia_29, dia_30])\n",
    "\n",
    "mes_tudo = pd.concat([dia_01_10, dia_11_20,dia_21_30])"
   ]
  },
  {
   "cell_type": "code",
   "execution_count": 3,
   "id": "28817437",
   "metadata": {},
   "outputs": [],
   "source": [
    "# DELETANDO EXPLICITAMENTE VARAIVEIS COM DIAS 01-10\n",
    "del dia_01\n",
    "del dia_02\n",
    "del dia_03\n",
    "del dia_04\n",
    "del dia_05\n",
    "del dia_06\n",
    "del dia_07\n",
    "del dia_08\n",
    "del dia_09\n",
    "del dia_10\n",
    "\n",
    "# DELETANDO EXPLICITAMENTE VARAIVEIS COM DIAS 11-20\n",
    "del dia_11\n",
    "del dia_12\n",
    "del dia_13\n",
    "del dia_14\n",
    "del dia_15\n",
    "del dia_16\n",
    "del dia_17\n",
    "del dia_18\n",
    "del dia_19\n",
    "del dia_20\n",
    "\n",
    "# DELETANDO EXPLICITAMENTE VARAIVEIS COM DIAS 21-30\n",
    "del dia_21\n",
    "del dia_22\n",
    "del dia_23\n",
    "del dia_24\n",
    "del dia_25\n",
    "del dia_26\n",
    "del dia_27\n",
    "del dia_28\n",
    "del dia_29\n",
    "del dia_30\n",
    "\n",
    "# DELETANDO EXPLICITAMENTE VARAIVEIS COM DIAS 1agrupados\n",
    "del dia_01_10\n",
    "del dia_11_20\n",
    "del dia_21_30"
   ]
  },
  {
   "cell_type": "code",
   "execution_count": 4,
   "id": "dc2bb13e",
   "metadata": {},
   "outputs": [
    {
     "data": {
      "text/html": [
       "<div>\n",
       "<style scoped>\n",
       "    .dataframe tbody tr th:only-of-type {\n",
       "        vertical-align: middle;\n",
       "    }\n",
       "\n",
       "    .dataframe tbody tr th {\n",
       "        vertical-align: top;\n",
       "    }\n",
       "\n",
       "    .dataframe thead th {\n",
       "        text-align: right;\n",
       "    }\n",
       "</style>\n",
       "<table border=\"1\" class=\"dataframe\">\n",
       "  <thead>\n",
       "    <tr style=\"text-align: right;\">\n",
       "      <th></th>\n",
       "      <th>id</th>\n",
       "      <th>linha</th>\n",
       "      <th>nome_linha</th>\n",
       "      <th>prefixo_carro</th>\n",
       "      <th>hora</th>\n",
       "      <th>tipo_cartao</th>\n",
       "      <th>nome_cartao</th>\n",
       "      <th>sentido_viagem</th>\n",
       "      <th>integracao</th>\n",
       "      <th>dia</th>\n",
       "      <th>momento</th>\n",
       "    </tr>\n",
       "  </thead>\n",
       "  <tbody>\n",
       "    <tr>\n",
       "      <th>0</th>\n",
       "      <td>7407715</td>\n",
       "      <td>21</td>\n",
       "      <td>Luc. Cavalca./Papicu</td>\n",
       "      <td>2018.0</td>\n",
       "      <td>2018-11-01T23:57:37Z</td>\n",
       "      <td>Vale transporte</td>\n",
       "      <td>04-VALE TRANSPORTE</td>\n",
       "      <td>Volta</td>\n",
       "      <td>N</td>\n",
       "      <td>2018-11-01</td>\n",
       "      <td>23:57:37</td>\n",
       "    </tr>\n",
       "    <tr>\n",
       "      <th>1</th>\n",
       "      <td>4526990</td>\n",
       "      <td>21</td>\n",
       "      <td>Luc. Cavalca./Papicu</td>\n",
       "      <td>2018.0</td>\n",
       "      <td>2018-11-02T00:01:25Z</td>\n",
       "      <td>Vale transporte</td>\n",
       "      <td>04-VALE TRANSPORTE</td>\n",
       "      <td>Volta</td>\n",
       "      <td>N</td>\n",
       "      <td>2018-11-02</td>\n",
       "      <td>00:01:25</td>\n",
       "    </tr>\n",
       "    <tr>\n",
       "      <th>2</th>\n",
       "      <td>6084812</td>\n",
       "      <td>21</td>\n",
       "      <td>Luc. Cavalca./Papicu</td>\n",
       "      <td>2018.0</td>\n",
       "      <td>2018-11-01T22:45:20Z</td>\n",
       "      <td>Vale transporte</td>\n",
       "      <td>04-VALE TRANSPORTE</td>\n",
       "      <td>Ida</td>\n",
       "      <td>N</td>\n",
       "      <td>2018-11-01</td>\n",
       "      <td>22:45:20</td>\n",
       "    </tr>\n",
       "    <tr>\n",
       "      <th>3</th>\n",
       "      <td>7341826</td>\n",
       "      <td>21</td>\n",
       "      <td>Luc. Cavalca./Papicu</td>\n",
       "      <td>2018.0</td>\n",
       "      <td>2018-11-01T22:45:36Z</td>\n",
       "      <td>Vale transporte</td>\n",
       "      <td>04-VALE TRANSPORTE</td>\n",
       "      <td>Ida</td>\n",
       "      <td>N</td>\n",
       "      <td>2018-11-01</td>\n",
       "      <td>22:45:36</td>\n",
       "    </tr>\n",
       "    <tr>\n",
       "      <th>4</th>\n",
       "      <td>7261888</td>\n",
       "      <td>21</td>\n",
       "      <td>Luc. Cavalca./Papicu</td>\n",
       "      <td>2018.0</td>\n",
       "      <td>2018-11-01T22:52:44Z</td>\n",
       "      <td>Vale transporte</td>\n",
       "      <td>04-VALE TRANSPORTE</td>\n",
       "      <td>Ida</td>\n",
       "      <td>N</td>\n",
       "      <td>2018-11-01</td>\n",
       "      <td>22:52:44</td>\n",
       "    </tr>\n",
       "    <tr>\n",
       "      <th>...</th>\n",
       "      <td>...</td>\n",
       "      <td>...</td>\n",
       "      <td>...</td>\n",
       "      <td>...</td>\n",
       "      <td>...</td>\n",
       "      <td>...</td>\n",
       "      <td>...</td>\n",
       "      <td>...</td>\n",
       "      <td>...</td>\n",
       "      <td>...</td>\n",
       "      <td>...</td>\n",
       "    </tr>\n",
       "    <tr>\n",
       "      <th>929953</th>\n",
       "      <td>0</td>\n",
       "      <td>114</td>\n",
       "      <td>Cj Nova Assuncao/Fra</td>\n",
       "      <td>21710.0</td>\n",
       "      <td>2018-11-30T05:54:09Z</td>\n",
       "      <td>Inteira</td>\n",
       "      <td>Inteira</td>\n",
       "      <td>Ida</td>\n",
       "      <td>N</td>\n",
       "      <td>2018-11-30</td>\n",
       "      <td>05:54:09</td>\n",
       "    </tr>\n",
       "    <tr>\n",
       "      <th>929954</th>\n",
       "      <td>0</td>\n",
       "      <td>114</td>\n",
       "      <td>Cj Nova Assuncao/Fra</td>\n",
       "      <td>21710.0</td>\n",
       "      <td>2018-11-30T05:54:35Z</td>\n",
       "      <td>Inteira</td>\n",
       "      <td>Inteira</td>\n",
       "      <td>Ida</td>\n",
       "      <td>N</td>\n",
       "      <td>2018-11-30</td>\n",
       "      <td>05:54:35</td>\n",
       "    </tr>\n",
       "    <tr>\n",
       "      <th>929955</th>\n",
       "      <td>0</td>\n",
       "      <td>114</td>\n",
       "      <td>Cj Nova Assuncao/Fra</td>\n",
       "      <td>21710.0</td>\n",
       "      <td>2018-11-30T05:59:20Z</td>\n",
       "      <td>Inteira</td>\n",
       "      <td>Inteira</td>\n",
       "      <td>Ida</td>\n",
       "      <td>N</td>\n",
       "      <td>2018-11-30</td>\n",
       "      <td>05:59:20</td>\n",
       "    </tr>\n",
       "    <tr>\n",
       "      <th>929956</th>\n",
       "      <td>0</td>\n",
       "      <td>114</td>\n",
       "      <td>Cj Nova Assuncao/Fra</td>\n",
       "      <td>21710.0</td>\n",
       "      <td>2018-11-30T06:04:11Z</td>\n",
       "      <td>Inteira</td>\n",
       "      <td>Inteira</td>\n",
       "      <td>Ida</td>\n",
       "      <td>N</td>\n",
       "      <td>2018-11-30</td>\n",
       "      <td>06:04:11</td>\n",
       "    </tr>\n",
       "    <tr>\n",
       "      <th>929957</th>\n",
       "      <td>0</td>\n",
       "      <td>114</td>\n",
       "      <td>Cj Nova Assuncao/Fra</td>\n",
       "      <td>21710.0</td>\n",
       "      <td>2018-11-30T05:17:14Z</td>\n",
       "      <td>Inteira</td>\n",
       "      <td>Inteira</td>\n",
       "      <td>Volta</td>\n",
       "      <td>N</td>\n",
       "      <td>2018-11-30</td>\n",
       "      <td>05:17:14</td>\n",
       "    </tr>\n",
       "  </tbody>\n",
       "</table>\n",
       "<p>24919015 rows × 11 columns</p>\n",
       "</div>"
      ],
      "text/plain": [
       "             id  linha            nome_linha prefixo_carro  \\\n",
       "0       7407715     21  Luc. Cavalca./Papicu        2018.0   \n",
       "1       4526990     21  Luc. Cavalca./Papicu        2018.0   \n",
       "2       6084812     21  Luc. Cavalca./Papicu        2018.0   \n",
       "3       7341826     21  Luc. Cavalca./Papicu        2018.0   \n",
       "4       7261888     21  Luc. Cavalca./Papicu        2018.0   \n",
       "...         ...    ...                   ...           ...   \n",
       "929953        0    114  Cj Nova Assuncao/Fra       21710.0   \n",
       "929954        0    114  Cj Nova Assuncao/Fra       21710.0   \n",
       "929955        0    114  Cj Nova Assuncao/Fra       21710.0   \n",
       "929956        0    114  Cj Nova Assuncao/Fra       21710.0   \n",
       "929957        0    114  Cj Nova Assuncao/Fra       21710.0   \n",
       "\n",
       "                        hora      tipo_cartao         nome_cartao  \\\n",
       "0       2018-11-01T23:57:37Z  Vale transporte  04-VALE TRANSPORTE   \n",
       "1       2018-11-02T00:01:25Z  Vale transporte  04-VALE TRANSPORTE   \n",
       "2       2018-11-01T22:45:20Z  Vale transporte  04-VALE TRANSPORTE   \n",
       "3       2018-11-01T22:45:36Z  Vale transporte  04-VALE TRANSPORTE   \n",
       "4       2018-11-01T22:52:44Z  Vale transporte  04-VALE TRANSPORTE   \n",
       "...                      ...              ...                 ...   \n",
       "929953  2018-11-30T05:54:09Z          Inteira             Inteira   \n",
       "929954  2018-11-30T05:54:35Z          Inteira             Inteira   \n",
       "929955  2018-11-30T05:59:20Z          Inteira             Inteira   \n",
       "929956  2018-11-30T06:04:11Z          Inteira             Inteira   \n",
       "929957  2018-11-30T05:17:14Z          Inteira             Inteira   \n",
       "\n",
       "       sentido_viagem integracao         dia   momento  \n",
       "0               Volta          N  2018-11-01  23:57:37  \n",
       "1               Volta          N  2018-11-02  00:01:25  \n",
       "2                 Ida          N  2018-11-01  22:45:20  \n",
       "3                 Ida          N  2018-11-01  22:45:36  \n",
       "4                 Ida          N  2018-11-01  22:52:44  \n",
       "...               ...        ...         ...       ...  \n",
       "929953            Ida          N  2018-11-30  05:54:09  \n",
       "929954            Ida          N  2018-11-30  05:54:35  \n",
       "929955            Ida          N  2018-11-30  05:59:20  \n",
       "929956            Ida          N  2018-11-30  06:04:11  \n",
       "929957          Volta          N  2018-11-30  05:17:14  \n",
       "\n",
       "[24919015 rows x 11 columns]"
      ]
     },
     "execution_count": 4,
     "metadata": {},
     "output_type": "execute_result"
    }
   ],
   "source": [
    "# Base com dados do mes em um unico arquivo\n",
    "mes_tudo"
   ]
  },
  {
   "cell_type": "code",
   "execution_count": 5,
   "id": "acd28c49",
   "metadata": {},
   "outputs": [
    {
     "name": "stdout",
     "output_type": "stream",
     "text": [
      "<class 'pandas.core.frame.DataFrame'>\n",
      "Int64Index: 24919015 entries, 0 to 929957\n",
      "Data columns (total 11 columns):\n",
      " #   Column          Dtype \n",
      "---  ------          ----- \n",
      " 0   id              int32 \n",
      " 1   linha           int32 \n",
      " 2   nome_linha      object\n",
      " 3   prefixo_carro   object\n",
      " 4   hora            object\n",
      " 5   tipo_cartao     object\n",
      " 6   nome_cartao     object\n",
      " 7   sentido_viagem  object\n",
      " 8   integracao      object\n",
      " 9   dia             object\n",
      " 10  momento         object\n",
      "dtypes: int32(2), object(9)\n",
      "memory usage: 2.0+ GB\n"
     ]
    }
   ],
   "source": [
    "# Info da base \n",
    "mes_tudo.info()"
   ]
  },
  {
   "cell_type": "code",
   "execution_count": 6,
   "id": "727c3969",
   "metadata": {},
   "outputs": [],
   "source": [
    "# Juntando colunas de interesse (dia, momento) em uma só:\n",
    "mes_tudo[\"momento\"] = mes_tudo['dia'].astype(str) + '-' + mes_tudo['momento'].astype(str)"
   ]
  },
  {
   "cell_type": "code",
   "execution_count": 7,
   "id": "fa78ce1a",
   "metadata": {},
   "outputs": [
    {
     "data": {
      "text/plain": [
       "array(['Vale transporte', 'Estudante', 'Gratuidade', 'Inteira'],\n",
       "      dtype=object)"
      ]
     },
     "execution_count": 7,
     "metadata": {},
     "output_type": "execute_result"
    }
   ],
   "source": [
    "# Dados da coluna tipo_cartao\n",
    "mes_tudo[\"tipo_cartao\"].unique()"
   ]
  },
  {
   "cell_type": "code",
   "execution_count": 8,
   "id": "44ba8f6a",
   "metadata": {},
   "outputs": [
    {
     "data": {
      "text/plain": [
       "array(['04-VALE TRANSPORTE', '11-ESTUDANTE COM DEBITO',\n",
       "       '12-VALE-TRANPORTE AVULSO', '03-GRATUIDADE IDOSO',\n",
       "       '02-ESTUDANTE ETUFOR', 'GRAT. DEFICIENTE - C/ACOMP',\n",
       "       'GRAT. DEFICIENTE - S/ACOMP', 'GRATUIDADE IDENTIFIC. ETUFOR',\n",
       "       'Inteira', 'PAGANTE EM HORARIO DIFERENCIADO'], dtype=object)"
      ]
     },
     "execution_count": 8,
     "metadata": {},
     "output_type": "execute_result"
    }
   ],
   "source": [
    "# Dados da coluna nome_cartao\n",
    "mes_tudo[\"nome_cartao\"].unique()"
   ]
  },
  {
   "cell_type": "code",
   "execution_count": 9,
   "id": "6f7dfc5a",
   "metadata": {},
   "outputs": [],
   "source": [
    "# REMOVENDO COLUNAS DESNECESSÁRIAS!\n",
    "mes_tudo.drop(['tipo_cartao', 'hora', 'dia'], inplace= True, axis=1)"
   ]
  },
  {
   "cell_type": "code",
   "execution_count": 10,
   "id": "248a1798",
   "metadata": {},
   "outputs": [
    {
     "data": {
      "text/plain": [
       "id                    0\n",
       "linha                 0\n",
       "nome_linha          906\n",
       "prefixo_carro     27239\n",
       "nome_cartao           0\n",
       "sentido_viagem        0\n",
       "integracao            0\n",
       "momento               0\n",
       "dtype: int64"
      ]
     },
     "execution_count": 10,
     "metadata": {},
     "output_type": "execute_result"
    }
   ],
   "source": [
    "# Verificando dados nulos \n",
    "mes_tudo.isnull().sum()"
   ]
  },
  {
   "cell_type": "code",
   "execution_count": 58,
   "id": "5f3f275f",
   "metadata": {},
   "outputs": [
    {
     "data": {
      "text/html": [
       "<div>\n",
       "<style scoped>\n",
       "    .dataframe tbody tr th:only-of-type {\n",
       "        vertical-align: middle;\n",
       "    }\n",
       "\n",
       "    .dataframe tbody tr th {\n",
       "        vertical-align: top;\n",
       "    }\n",
       "\n",
       "    .dataframe thead th {\n",
       "        text-align: right;\n",
       "    }\n",
       "</style>\n",
       "<table border=\"1\" class=\"dataframe\">\n",
       "  <thead>\n",
       "    <tr style=\"text-align: right;\">\n",
       "      <th></th>\n",
       "      <th>id</th>\n",
       "      <th>linha</th>\n",
       "      <th>nome_linha</th>\n",
       "      <th>prefixo_carro</th>\n",
       "      <th>nome_cartao</th>\n",
       "      <th>sentido_viagem</th>\n",
       "      <th>integracao</th>\n",
       "      <th>momento</th>\n",
       "    </tr>\n",
       "  </thead>\n",
       "  <tbody>\n",
       "    <tr>\n",
       "      <th>0</th>\n",
       "      <td>7407715</td>\n",
       "      <td>21</td>\n",
       "      <td>Luc. Cavalca./Papicu</td>\n",
       "      <td>2018.0</td>\n",
       "      <td>04-VALE TRANSPORTE</td>\n",
       "      <td>Volta</td>\n",
       "      <td>N</td>\n",
       "      <td>2018-11-01-23:57:37</td>\n",
       "    </tr>\n",
       "    <tr>\n",
       "      <th>1</th>\n",
       "      <td>4526990</td>\n",
       "      <td>21</td>\n",
       "      <td>Luc. Cavalca./Papicu</td>\n",
       "      <td>2018.0</td>\n",
       "      <td>04-VALE TRANSPORTE</td>\n",
       "      <td>Volta</td>\n",
       "      <td>N</td>\n",
       "      <td>2018-11-02-00:01:25</td>\n",
       "    </tr>\n",
       "    <tr>\n",
       "      <th>2</th>\n",
       "      <td>6084812</td>\n",
       "      <td>21</td>\n",
       "      <td>Luc. Cavalca./Papicu</td>\n",
       "      <td>2018.0</td>\n",
       "      <td>04-VALE TRANSPORTE</td>\n",
       "      <td>Ida</td>\n",
       "      <td>N</td>\n",
       "      <td>2018-11-01-22:45:20</td>\n",
       "    </tr>\n",
       "    <tr>\n",
       "      <th>3</th>\n",
       "      <td>7341826</td>\n",
       "      <td>21</td>\n",
       "      <td>Luc. Cavalca./Papicu</td>\n",
       "      <td>2018.0</td>\n",
       "      <td>04-VALE TRANSPORTE</td>\n",
       "      <td>Ida</td>\n",
       "      <td>N</td>\n",
       "      <td>2018-11-01-22:45:36</td>\n",
       "    </tr>\n",
       "    <tr>\n",
       "      <th>4</th>\n",
       "      <td>7261888</td>\n",
       "      <td>21</td>\n",
       "      <td>Luc. Cavalca./Papicu</td>\n",
       "      <td>2018.0</td>\n",
       "      <td>04-VALE TRANSPORTE</td>\n",
       "      <td>Ida</td>\n",
       "      <td>N</td>\n",
       "      <td>2018-11-01-22:52:44</td>\n",
       "    </tr>\n",
       "    <tr>\n",
       "      <th>...</th>\n",
       "      <td>...</td>\n",
       "      <td>...</td>\n",
       "      <td>...</td>\n",
       "      <td>...</td>\n",
       "      <td>...</td>\n",
       "      <td>...</td>\n",
       "      <td>...</td>\n",
       "      <td>...</td>\n",
       "    </tr>\n",
       "    <tr>\n",
       "      <th>929953</th>\n",
       "      <td>0</td>\n",
       "      <td>114</td>\n",
       "      <td>Cj Nova Assuncao/Fra</td>\n",
       "      <td>21710.0</td>\n",
       "      <td>Inteira</td>\n",
       "      <td>Ida</td>\n",
       "      <td>N</td>\n",
       "      <td>2018-11-30-05:54:09</td>\n",
       "    </tr>\n",
       "    <tr>\n",
       "      <th>929954</th>\n",
       "      <td>0</td>\n",
       "      <td>114</td>\n",
       "      <td>Cj Nova Assuncao/Fra</td>\n",
       "      <td>21710.0</td>\n",
       "      <td>Inteira</td>\n",
       "      <td>Ida</td>\n",
       "      <td>N</td>\n",
       "      <td>2018-11-30-05:54:35</td>\n",
       "    </tr>\n",
       "    <tr>\n",
       "      <th>929955</th>\n",
       "      <td>0</td>\n",
       "      <td>114</td>\n",
       "      <td>Cj Nova Assuncao/Fra</td>\n",
       "      <td>21710.0</td>\n",
       "      <td>Inteira</td>\n",
       "      <td>Ida</td>\n",
       "      <td>N</td>\n",
       "      <td>2018-11-30-05:59:20</td>\n",
       "    </tr>\n",
       "    <tr>\n",
       "      <th>929956</th>\n",
       "      <td>0</td>\n",
       "      <td>114</td>\n",
       "      <td>Cj Nova Assuncao/Fra</td>\n",
       "      <td>21710.0</td>\n",
       "      <td>Inteira</td>\n",
       "      <td>Ida</td>\n",
       "      <td>N</td>\n",
       "      <td>2018-11-30-06:04:11</td>\n",
       "    </tr>\n",
       "    <tr>\n",
       "      <th>929957</th>\n",
       "      <td>0</td>\n",
       "      <td>114</td>\n",
       "      <td>Cj Nova Assuncao/Fra</td>\n",
       "      <td>21710.0</td>\n",
       "      <td>Inteira</td>\n",
       "      <td>Volta</td>\n",
       "      <td>N</td>\n",
       "      <td>2018-11-30-05:17:14</td>\n",
       "    </tr>\n",
       "  </tbody>\n",
       "</table>\n",
       "<p>24919015 rows × 8 columns</p>\n",
       "</div>"
      ],
      "text/plain": [
       "             id  linha            nome_linha prefixo_carro  \\\n",
       "0       7407715     21  Luc. Cavalca./Papicu        2018.0   \n",
       "1       4526990     21  Luc. Cavalca./Papicu        2018.0   \n",
       "2       6084812     21  Luc. Cavalca./Papicu        2018.0   \n",
       "3       7341826     21  Luc. Cavalca./Papicu        2018.0   \n",
       "4       7261888     21  Luc. Cavalca./Papicu        2018.0   \n",
       "...         ...    ...                   ...           ...   \n",
       "929953        0    114  Cj Nova Assuncao/Fra       21710.0   \n",
       "929954        0    114  Cj Nova Assuncao/Fra       21710.0   \n",
       "929955        0    114  Cj Nova Assuncao/Fra       21710.0   \n",
       "929956        0    114  Cj Nova Assuncao/Fra       21710.0   \n",
       "929957        0    114  Cj Nova Assuncao/Fra       21710.0   \n",
       "\n",
       "               nome_cartao sentido_viagem integracao              momento  \n",
       "0       04-VALE TRANSPORTE          Volta          N  2018-11-01-23:57:37  \n",
       "1       04-VALE TRANSPORTE          Volta          N  2018-11-02-00:01:25  \n",
       "2       04-VALE TRANSPORTE            Ida          N  2018-11-01-22:45:20  \n",
       "3       04-VALE TRANSPORTE            Ida          N  2018-11-01-22:45:36  \n",
       "4       04-VALE TRANSPORTE            Ida          N  2018-11-01-22:52:44  \n",
       "...                    ...            ...        ...                  ...  \n",
       "929953             Inteira            Ida          N  2018-11-30-05:54:09  \n",
       "929954             Inteira            Ida          N  2018-11-30-05:54:35  \n",
       "929955             Inteira            Ida          N  2018-11-30-05:59:20  \n",
       "929956             Inteira            Ida          N  2018-11-30-06:04:11  \n",
       "929957             Inteira          Volta          N  2018-11-30-05:17:14  \n",
       "\n",
       "[24919015 rows x 8 columns]"
      ]
     },
     "execution_count": 58,
     "metadata": {},
     "output_type": "execute_result"
    }
   ],
   "source": [
    "# Base 'PREVIAMENTE' tratrada do mes \n",
    "mes_tudo"
   ]
  },
  {
   "cell_type": "code",
   "execution_count": 12,
   "id": "80b8f68e",
   "metadata": {},
   "outputs": [],
   "source": [
    "# mes_tudo.to_csv('bilhetagem_tratada_112018')"
   ]
  },
  {
   "cell_type": "markdown",
   "id": "fdfcff1e",
   "metadata": {},
   "source": [
    "# 1.2 Dicionário"
   ]
  },
  {
   "cell_type": "markdown",
   "id": "6e68af20",
   "metadata": {},
   "source": [
    "## 1.2.1 Tratamento inicial"
   ]
  },
  {
   "cell_type": "code",
   "execution_count": 13,
   "id": "bb3644bb",
   "metadata": {},
   "outputs": [],
   "source": [
    "# df', abaixo:\n",
    "d1 = pd.read_csv('veiculos2018.csv', sep= ';')"
   ]
  },
  {
   "cell_type": "code",
   "execution_count": 14,
   "id": "f55c6e12",
   "metadata": {},
   "outputs": [
    {
     "data": {
      "text/html": [
       "<div>\n",
       "<style scoped>\n",
       "    .dataframe tbody tr th:only-of-type {\n",
       "        vertical-align: middle;\n",
       "    }\n",
       "\n",
       "    .dataframe tbody tr th {\n",
       "        vertical-align: top;\n",
       "    }\n",
       "\n",
       "    .dataframe thead th {\n",
       "        text-align: right;\n",
       "    }\n",
       "</style>\n",
       "<table border=\"1\" class=\"dataframe\">\n",
       "  <thead>\n",
       "    <tr style=\"text-align: right;\">\n",
       "      <th></th>\n",
       "      <th>id_veiculo</th>\n",
       "      <th>cod_veiculo</th>\n",
       "    </tr>\n",
       "  </thead>\n",
       "  <tbody>\n",
       "    <tr>\n",
       "      <th>0</th>\n",
       "      <td>42095</td>\n",
       "      <td>20274M</td>\n",
       "    </tr>\n",
       "    <tr>\n",
       "      <th>1</th>\n",
       "      <td>42080</td>\n",
       "      <td>20957</td>\n",
       "    </tr>\n",
       "    <tr>\n",
       "      <th>2</th>\n",
       "      <td>41971</td>\n",
       "      <td>26815</td>\n",
       "    </tr>\n",
       "    <tr>\n",
       "      <th>3</th>\n",
       "      <td>41970</td>\n",
       "      <td>26821</td>\n",
       "    </tr>\n",
       "    <tr>\n",
       "      <th>4</th>\n",
       "      <td>41969</td>\n",
       "      <td>26819</td>\n",
       "    </tr>\n",
       "    <tr>\n",
       "      <th>...</th>\n",
       "      <td>...</td>\n",
       "      <td>...</td>\n",
       "    </tr>\n",
       "    <tr>\n",
       "      <th>2036</th>\n",
       "      <td>32033</td>\n",
       "      <td>36006</td>\n",
       "    </tr>\n",
       "    <tr>\n",
       "      <th>2037</th>\n",
       "      <td>32032</td>\n",
       "      <td>36004</td>\n",
       "    </tr>\n",
       "    <tr>\n",
       "      <th>2038</th>\n",
       "      <td>32031</td>\n",
       "      <td>36003</td>\n",
       "    </tr>\n",
       "    <tr>\n",
       "      <th>2039</th>\n",
       "      <td>32030</td>\n",
       "      <td>36002</td>\n",
       "    </tr>\n",
       "    <tr>\n",
       "      <th>2040</th>\n",
       "      <td>32029</td>\n",
       "      <td>36001</td>\n",
       "    </tr>\n",
       "  </tbody>\n",
       "</table>\n",
       "<p>2041 rows × 2 columns</p>\n",
       "</div>"
      ],
      "text/plain": [
       "      id_veiculo cod_veiculo\n",
       "0          42095      20274M\n",
       "1          42080       20957\n",
       "2          41971       26815\n",
       "3          41970       26821\n",
       "4          41969       26819\n",
       "...          ...         ...\n",
       "2036       32033       36006\n",
       "2037       32032       36004\n",
       "2038       32031       36003\n",
       "2039       32030       36002\n",
       "2040       32029       36001\n",
       "\n",
       "[2041 rows x 2 columns]"
      ]
     },
     "execution_count": 14,
     "metadata": {},
     "output_type": "execute_result"
    }
   ],
   "source": [
    "# Base bruta\n",
    "d1"
   ]
  },
  {
   "cell_type": "code",
   "execution_count": 15,
   "id": "78cd30dc",
   "metadata": {},
   "outputs": [
    {
     "name": "stdout",
     "output_type": "stream",
     "text": [
      "<class 'pandas.core.frame.DataFrame'>\n",
      "RangeIndex: 2041 entries, 0 to 2040\n",
      "Data columns (total 2 columns):\n",
      " #   Column       Non-Null Count  Dtype \n",
      "---  ------       --------------  ----- \n",
      " 0   id_veiculo   2041 non-null   int64 \n",
      " 1   cod_veiculo  2041 non-null   object\n",
      "dtypes: int64(1), object(1)\n",
      "memory usage: 32.0+ KB\n"
     ]
    }
   ],
   "source": [
    "d1.info()"
   ]
  },
  {
   "cell_type": "code",
   "execution_count": 16,
   "id": "67329c90",
   "metadata": {},
   "outputs": [
    {
     "data": {
      "text/plain": [
       "id_veiculo     0\n",
       "cod_veiculo    0\n",
       "dtype: int64"
      ]
     },
     "execution_count": 16,
     "metadata": {},
     "output_type": "execute_result"
    }
   ],
   "source": [
    "# Dados nulos\n",
    "d1.isnull().sum()"
   ]
  },
  {
   "cell_type": "code",
   "execution_count": 17,
   "id": "10cba2eb",
   "metadata": {
    "scrolled": false
   },
   "outputs": [
    {
     "data": {
      "text/html": [
       "<div>\n",
       "<style scoped>\n",
       "    .dataframe tbody tr th:only-of-type {\n",
       "        vertical-align: middle;\n",
       "    }\n",
       "\n",
       "    .dataframe tbody tr th {\n",
       "        vertical-align: top;\n",
       "    }\n",
       "\n",
       "    .dataframe thead th {\n",
       "        text-align: right;\n",
       "    }\n",
       "</style>\n",
       "<table border=\"1\" class=\"dataframe\">\n",
       "  <thead>\n",
       "    <tr style=\"text-align: right;\">\n",
       "      <th></th>\n",
       "      <th>id_veiculo</th>\n",
       "      <th>cod_veiculo</th>\n",
       "    </tr>\n",
       "  </thead>\n",
       "  <tbody>\n",
       "    <tr>\n",
       "      <th>143</th>\n",
       "      <td>40957</td>\n",
       "      <td>20181V</td>\n",
       "    </tr>\n",
       "    <tr>\n",
       "      <th>281</th>\n",
       "      <td>39094</td>\n",
       "      <td>20180V</td>\n",
       "    </tr>\n",
       "    <tr>\n",
       "      <th>1374</th>\n",
       "      <td>32965</td>\n",
       "      <td>20181</td>\n",
       "    </tr>\n",
       "    <tr>\n",
       "      <th>1378</th>\n",
       "      <td>32961</td>\n",
       "      <td>20180</td>\n",
       "    </tr>\n",
       "    <tr>\n",
       "      <th>1934</th>\n",
       "      <td>32174</td>\n",
       "      <td>02018</td>\n",
       "    </tr>\n",
       "  </tbody>\n",
       "</table>\n",
       "</div>"
      ],
      "text/plain": [
       "      id_veiculo cod_veiculo\n",
       "143        40957      20181V\n",
       "281        39094      20180V\n",
       "1374       32965       20181\n",
       "1378       32961       20180\n",
       "1934       32174       02018"
      ]
     },
     "execution_count": 17,
     "metadata": {},
     "output_type": "execute_result"
    }
   ],
   "source": [
    "d1[d1['cod_veiculo'].str.contains('2018')]"
   ]
  },
  {
   "cell_type": "code",
   "execution_count": 18,
   "id": "74e95333",
   "metadata": {},
   "outputs": [
    {
     "data": {
      "text/plain": [
       "' SERÃO REMOVIDOS OS CARACTERS DE CADA LINHADOS DADOS DA COLUNA COD_VEICULO PARA COMPARAÇÃO NO TOPICO 1.1.2 ! '"
      ]
     },
     "execution_count": 18,
     "metadata": {},
     "output_type": "execute_result"
    }
   ],
   "source": [
    "''' SERÃO REMOVIDOS OS CARACTERS DE CADA LINHADOS DADOS DA COLUNA COD_VEICULO PARA COMPARAÇÃO NO TOPICO 1.1.2 ! '''"
   ]
  },
  {
   "cell_type": "code",
   "execution_count": 19,
   "id": "3437f23a",
   "metadata": {},
   "outputs": [],
   "source": [
    "# Convertendo dados para tipo caracters\n",
    "d1['cod_veiculo'] = d1['cod_veiculo'].astype('str')"
   ]
  },
  {
   "cell_type": "code",
   "execution_count": 20,
   "id": "6d3c20c3",
   "metadata": {},
   "outputs": [],
   "source": [
    "# Removendo caracteres da coluna de cod_veiculo\n",
    "d1['cod_veiculo'] = d1['cod_veiculo'].replace({'\\D': ''}, regex=True)"
   ]
  },
  {
   "cell_type": "code",
   "execution_count": 21,
   "id": "6e32129f",
   "metadata": {},
   "outputs": [
    {
     "data": {
      "text/plain": [
       "id_veiculo     0\n",
       "cod_veiculo    0\n",
       "dtype: int64"
      ]
     },
     "execution_count": 21,
     "metadata": {},
     "output_type": "execute_result"
    }
   ],
   "source": [
    "# Dados nulos apos remoção dos caracters\n",
    "d1.isnull().sum()"
   ]
  },
  {
   "cell_type": "code",
   "execution_count": 22,
   "id": "9743033d",
   "metadata": {},
   "outputs": [],
   "source": [
    "# Dropando linhas que estão com cod_veiculo vazias, ou seja, todas informação contida era catacters\n",
    "d1 = d1[d1['cod_veiculo']!=\"\"]"
   ]
  },
  {
   "cell_type": "code",
   "execution_count": 23,
   "id": "1c41e52b",
   "metadata": {},
   "outputs": [
    {
     "data": {
      "text/html": [
       "<div>\n",
       "<style scoped>\n",
       "    .dataframe tbody tr th:only-of-type {\n",
       "        vertical-align: middle;\n",
       "    }\n",
       "\n",
       "    .dataframe tbody tr th {\n",
       "        vertical-align: top;\n",
       "    }\n",
       "\n",
       "    .dataframe thead th {\n",
       "        text-align: right;\n",
       "    }\n",
       "</style>\n",
       "<table border=\"1\" class=\"dataframe\">\n",
       "  <thead>\n",
       "    <tr style=\"text-align: right;\">\n",
       "      <th></th>\n",
       "      <th>id_veiculo</th>\n",
       "      <th>cod_veiculo</th>\n",
       "    </tr>\n",
       "  </thead>\n",
       "  <tbody>\n",
       "    <tr>\n",
       "      <th>0</th>\n",
       "      <td>42095</td>\n",
       "      <td>20274</td>\n",
       "    </tr>\n",
       "    <tr>\n",
       "      <th>1</th>\n",
       "      <td>42080</td>\n",
       "      <td>20957</td>\n",
       "    </tr>\n",
       "    <tr>\n",
       "      <th>2</th>\n",
       "      <td>41971</td>\n",
       "      <td>26815</td>\n",
       "    </tr>\n",
       "    <tr>\n",
       "      <th>3</th>\n",
       "      <td>41970</td>\n",
       "      <td>26821</td>\n",
       "    </tr>\n",
       "    <tr>\n",
       "      <th>4</th>\n",
       "      <td>41969</td>\n",
       "      <td>26819</td>\n",
       "    </tr>\n",
       "    <tr>\n",
       "      <th>...</th>\n",
       "      <td>...</td>\n",
       "      <td>...</td>\n",
       "    </tr>\n",
       "    <tr>\n",
       "      <th>2036</th>\n",
       "      <td>32033</td>\n",
       "      <td>36006</td>\n",
       "    </tr>\n",
       "    <tr>\n",
       "      <th>2037</th>\n",
       "      <td>32032</td>\n",
       "      <td>36004</td>\n",
       "    </tr>\n",
       "    <tr>\n",
       "      <th>2038</th>\n",
       "      <td>32031</td>\n",
       "      <td>36003</td>\n",
       "    </tr>\n",
       "    <tr>\n",
       "      <th>2039</th>\n",
       "      <td>32030</td>\n",
       "      <td>36002</td>\n",
       "    </tr>\n",
       "    <tr>\n",
       "      <th>2040</th>\n",
       "      <td>32029</td>\n",
       "      <td>36001</td>\n",
       "    </tr>\n",
       "  </tbody>\n",
       "</table>\n",
       "<p>1989 rows × 2 columns</p>\n",
       "</div>"
      ],
      "text/plain": [
       "      id_veiculo cod_veiculo\n",
       "0          42095       20274\n",
       "1          42080       20957\n",
       "2          41971       26815\n",
       "3          41970       26821\n",
       "4          41969       26819\n",
       "...          ...         ...\n",
       "2036       32033       36006\n",
       "2037       32032       36004\n",
       "2038       32031       36003\n",
       "2039       32030       36002\n",
       "2040       32029       36001\n",
       "\n",
       "[1989 rows x 2 columns]"
      ]
     },
     "execution_count": 23,
     "metadata": {},
     "output_type": "execute_result"
    }
   ],
   "source": [
    "d1"
   ]
  },
  {
   "cell_type": "markdown",
   "id": "63e67fe4",
   "metadata": {},
   "source": [
    "## 1.2.2 Verificação de dados do dicionario presentes no GPS e Bilhetagem"
   ]
  },
  {
   "cell_type": "markdown",
   "id": "40a0e798",
   "metadata": {},
   "source": [
    "### 1.2.2.1 GPS (Tratamento inicial)"
   ]
  },
  {
   "cell_type": "code",
   "execution_count": 24,
   "id": "4f0b8442",
   "metadata": {},
   "outputs": [],
   "source": [
    "# leitura do base - GPS\n",
    "\n",
    "import pandas as pd\n",
    "\n",
    "# Definindo o número de linhas que você deseja ler\n",
    "numero_de_linhas_para_ler = 45000000  # Substitua pelo número desejado\n",
    "dtype_specification = {'longitude': 'float32', 'latitude': 'float32', 'vehicle_vehicleid': 'int32'}\n",
    "\n",
    "# Usando o pandas para ler o CSV, limitando o número de linhas com a opção nrows\n",
    "mes_ate_45_milhoes = pd.read_csv('Paint112018.csv',usecols=['latitude', 'longitude', 'metrictimestamp', 'vehicle_vehicleid'], dtype=dtype_specification, nrows=numero_de_linhas_para_ler)"
   ]
  },
  {
   "cell_type": "code",
   "execution_count": 25,
   "id": "0fcc8e22",
   "metadata": {},
   "outputs": [],
   "source": [
    "# Lendo restante do arquivo\n",
    "mes_resto = pd.read_csv('Paint112018.csv', usecols=['latitude', 'longitude','metrictimestamp', 'vehicle_vehicleid'],dtype=dtype_specification, skiprows=range(1, numero_de_linhas_para_ler + 1))"
   ]
  },
  {
   "cell_type": "code",
   "execution_count": 26,
   "id": "d80dc033",
   "metadata": {},
   "outputs": [],
   "source": [
    "# Juntando em um mesmo df\n",
    "GPS_I_H =  pd.concat([mes_ate_45_milhoes, mes_resto]) "
   ]
  },
  {
   "cell_type": "code",
   "execution_count": 27,
   "id": "e3f4912f",
   "metadata": {},
   "outputs": [],
   "source": [
    "# Excluindo explicitamente variavel com dados do GPS separados\n",
    "del mes_ate_45_milhoes\n",
    "del mes_resto"
   ]
  },
  {
   "cell_type": "code",
   "execution_count": 28,
   "id": "5aa808bf",
   "metadata": {},
   "outputs": [
    {
     "data": {
      "text/plain": [
       "latitude            -3.725625e+00\n",
       "longitude           -3.855716e+01\n",
       "metrictimestamp      2.018120e+13\n",
       "vehicle_vehicleid    3.909400e+04\n",
       "Name: 275, dtype: float64"
      ]
     },
     "metadata": {},
     "output_type": "display_data"
    }
   ],
   "source": [
    "display(GPS_I_H.iloc[275])"
   ]
  },
  {
   "cell_type": "code",
   "execution_count": 29,
   "id": "606a56d3",
   "metadata": {},
   "outputs": [
    {
     "name": "stdout",
     "output_type": "stream",
     "text": [
      "<class 'pandas.core.frame.DataFrame'>\n",
      "Int64Index: 109792980 entries, 0 to 64792979\n",
      "Data columns (total 4 columns):\n",
      " #   Column             Dtype  \n",
      "---  ------             -----  \n",
      " 0   latitude           float32\n",
      " 1   longitude          float32\n",
      " 2   metrictimestamp    int64  \n",
      " 3   vehicle_vehicleid  int32  \n",
      "dtypes: float32(2), int32(1), int64(1)\n",
      "memory usage: 2.9 GB\n"
     ]
    }
   ],
   "source": [
    "GPS_I_H.info()"
   ]
  },
  {
   "cell_type": "code",
   "execution_count": 30,
   "id": "6490efbe",
   "metadata": {},
   "outputs": [],
   "source": [
    "# FORMATANDO metrictimestamp do (GPS)\n",
    "GPS_I_H['momento'] = pd.to_datetime(GPS_I_H['metrictimestamp'],format= '%Y%m%d%H%M%S')"
   ]
  },
  {
   "cell_type": "code",
   "execution_count": 31,
   "id": "fafcf8f5",
   "metadata": {},
   "outputs": [],
   "source": [
    "GPS_I_H.drop(\"metrictimestamp\", axis= 1, inplace= True)"
   ]
  },
  {
   "cell_type": "code",
   "execution_count": 32,
   "id": "7780e89a",
   "metadata": {},
   "outputs": [],
   "source": [
    "# Renomear coluna de momento de vehicle_vehicleid para id_veiculo:\n",
    "GPS_I_H.columns=['latitude', 'longitude','id_veiculo', 'momento']"
   ]
  },
  {
   "cell_type": "code",
   "execution_count": 33,
   "id": "0a256100",
   "metadata": {},
   "outputs": [],
   "source": [
    "# Colocando valores em ordem\n",
    "GPS_I_H.sort_values('momento', inplace= True)"
   ]
  },
  {
   "cell_type": "code",
   "execution_count": 45,
   "id": "87fb8fe1",
   "metadata": {},
   "outputs": [
    {
     "data": {
      "text/html": [
       "<div>\n",
       "<style scoped>\n",
       "    .dataframe tbody tr th:only-of-type {\n",
       "        vertical-align: middle;\n",
       "    }\n",
       "\n",
       "    .dataframe tbody tr th {\n",
       "        vertical-align: top;\n",
       "    }\n",
       "\n",
       "    .dataframe thead th {\n",
       "        text-align: right;\n",
       "    }\n",
       "</style>\n",
       "<table border=\"1\" class=\"dataframe\">\n",
       "  <thead>\n",
       "    <tr style=\"text-align: right;\">\n",
       "      <th></th>\n",
       "      <th>latitude</th>\n",
       "      <th>longitude</th>\n",
       "      <th>id_veiculo</th>\n",
       "      <th>momento</th>\n",
       "    </tr>\n",
       "  </thead>\n",
       "  <tbody>\n",
       "    <tr>\n",
       "      <th>30704433</th>\n",
       "      <td>-3.721691</td>\n",
       "      <td>-38.559261</td>\n",
       "      <td>39100</td>\n",
       "      <td>2018-11-01 03:00:01</td>\n",
       "    </tr>\n",
       "    <tr>\n",
       "      <th>30699594</th>\n",
       "      <td>-3.721691</td>\n",
       "      <td>-38.559261</td>\n",
       "      <td>39100</td>\n",
       "      <td>2018-11-01 03:00:06</td>\n",
       "    </tr>\n",
       "    <tr>\n",
       "      <th>30696693</th>\n",
       "      <td>-3.721691</td>\n",
       "      <td>-38.559261</td>\n",
       "      <td>39100</td>\n",
       "      <td>2018-11-01 03:00:10</td>\n",
       "    </tr>\n",
       "    <tr>\n",
       "      <th>30695619</th>\n",
       "      <td>-3.721600</td>\n",
       "      <td>-38.559254</td>\n",
       "      <td>39100</td>\n",
       "      <td>2018-11-01 03:00:15</td>\n",
       "    </tr>\n",
       "    <tr>\n",
       "      <th>30695016</th>\n",
       "      <td>-3.721600</td>\n",
       "      <td>-38.559254</td>\n",
       "      <td>39100</td>\n",
       "      <td>2018-11-01 03:00:20</td>\n",
       "    </tr>\n",
       "    <tr>\n",
       "      <th>...</th>\n",
       "      <td>...</td>\n",
       "      <td>...</td>\n",
       "      <td>...</td>\n",
       "      <td>...</td>\n",
       "    </tr>\n",
       "    <tr>\n",
       "      <th>64792452</th>\n",
       "      <td>-3.725433</td>\n",
       "      <td>-38.560394</td>\n",
       "      <td>39100</td>\n",
       "      <td>2018-12-01 02:59:35</td>\n",
       "    </tr>\n",
       "    <tr>\n",
       "      <th>64792585</th>\n",
       "      <td>-3.725430</td>\n",
       "      <td>-38.560364</td>\n",
       "      <td>39100</td>\n",
       "      <td>2018-12-01 02:59:41</td>\n",
       "    </tr>\n",
       "    <tr>\n",
       "      <th>64792669</th>\n",
       "      <td>-3.725436</td>\n",
       "      <td>-38.560341</td>\n",
       "      <td>39100</td>\n",
       "      <td>2018-12-01 02:59:45</td>\n",
       "    </tr>\n",
       "    <tr>\n",
       "      <th>64792798</th>\n",
       "      <td>-3.725408</td>\n",
       "      <td>-38.560356</td>\n",
       "      <td>39100</td>\n",
       "      <td>2018-12-01 02:59:51</td>\n",
       "    </tr>\n",
       "    <tr>\n",
       "      <th>64792892</th>\n",
       "      <td>-3.725386</td>\n",
       "      <td>-38.560368</td>\n",
       "      <td>39100</td>\n",
       "      <td>2018-12-01 02:59:56</td>\n",
       "    </tr>\n",
       "  </tbody>\n",
       "</table>\n",
       "<p>372936 rows × 4 columns</p>\n",
       "</div>"
      ],
      "text/plain": [
       "          latitude  longitude  id_veiculo             momento\n",
       "30704433 -3.721691 -38.559261       39100 2018-11-01 03:00:01\n",
       "30699594 -3.721691 -38.559261       39100 2018-11-01 03:00:06\n",
       "30696693 -3.721691 -38.559261       39100 2018-11-01 03:00:10\n",
       "30695619 -3.721600 -38.559254       39100 2018-11-01 03:00:15\n",
       "30695016 -3.721600 -38.559254       39100 2018-11-01 03:00:20\n",
       "...            ...        ...         ...                 ...\n",
       "64792452 -3.725433 -38.560394       39100 2018-12-01 02:59:35\n",
       "64792585 -3.725430 -38.560364       39100 2018-12-01 02:59:41\n",
       "64792669 -3.725436 -38.560341       39100 2018-12-01 02:59:45\n",
       "64792798 -3.725408 -38.560356       39100 2018-12-01 02:59:51\n",
       "64792892 -3.725386 -38.560368       39100 2018-12-01 02:59:56\n",
       "\n",
       "[372936 rows x 4 columns]"
      ]
     },
     "execution_count": 45,
     "metadata": {},
     "output_type": "execute_result"
    }
   ],
   "source": [
    "GPS_I_H[GPS_I_H.id_veiculo==39100]"
   ]
  },
  {
   "cell_type": "code",
   "execution_count": 46,
   "id": "b6d81a34",
   "metadata": {},
   "outputs": [
    {
     "data": {
      "text/html": [
       "<div>\n",
       "<style scoped>\n",
       "    .dataframe tbody tr th:only-of-type {\n",
       "        vertical-align: middle;\n",
       "    }\n",
       "\n",
       "    .dataframe tbody tr th {\n",
       "        vertical-align: top;\n",
       "    }\n",
       "\n",
       "    .dataframe thead th {\n",
       "        text-align: right;\n",
       "    }\n",
       "</style>\n",
       "<table border=\"1\" class=\"dataframe\">\n",
       "  <thead>\n",
       "    <tr style=\"text-align: right;\">\n",
       "      <th></th>\n",
       "      <th>latitude</th>\n",
       "      <th>longitude</th>\n",
       "      <th>id_veiculo</th>\n",
       "      <th>momento</th>\n",
       "    </tr>\n",
       "  </thead>\n",
       "  <tbody>\n",
       "    <tr>\n",
       "      <th>49058505</th>\n",
       "      <td>-3.725156</td>\n",
       "      <td>-38.557289</td>\n",
       "      <td>33263</td>\n",
       "      <td>2018-11-01 03:00:29</td>\n",
       "    </tr>\n",
       "    <tr>\n",
       "      <th>49057565</th>\n",
       "      <td>-3.725156</td>\n",
       "      <td>-38.557289</td>\n",
       "      <td>33263</td>\n",
       "      <td>2018-11-01 03:01:12</td>\n",
       "    </tr>\n",
       "    <tr>\n",
       "      <th>49055791</th>\n",
       "      <td>-3.725156</td>\n",
       "      <td>-38.557289</td>\n",
       "      <td>33263</td>\n",
       "      <td>2018-11-01 03:02:01</td>\n",
       "    </tr>\n",
       "    <tr>\n",
       "      <th>49055793</th>\n",
       "      <td>-3.725156</td>\n",
       "      <td>-38.557289</td>\n",
       "      <td>33263</td>\n",
       "      <td>2018-11-01 03:02:01</td>\n",
       "    </tr>\n",
       "    <tr>\n",
       "      <th>49050447</th>\n",
       "      <td>-3.725156</td>\n",
       "      <td>-38.557289</td>\n",
       "      <td>33263</td>\n",
       "      <td>2018-11-01 03:02:13</td>\n",
       "    </tr>\n",
       "    <tr>\n",
       "      <th>...</th>\n",
       "      <td>...</td>\n",
       "      <td>...</td>\n",
       "      <td>...</td>\n",
       "      <td>...</td>\n",
       "    </tr>\n",
       "    <tr>\n",
       "      <th>64789899</th>\n",
       "      <td>-3.725328</td>\n",
       "      <td>-38.560478</td>\n",
       "      <td>33263</td>\n",
       "      <td>2018-12-01 02:54:04</td>\n",
       "    </tr>\n",
       "    <tr>\n",
       "      <th>64789898</th>\n",
       "      <td>-3.725328</td>\n",
       "      <td>-38.560478</td>\n",
       "      <td>33263</td>\n",
       "      <td>2018-12-01 02:54:04</td>\n",
       "    </tr>\n",
       "    <tr>\n",
       "      <th>64789950</th>\n",
       "      <td>-3.725328</td>\n",
       "      <td>-38.560467</td>\n",
       "      <td>33263</td>\n",
       "      <td>2018-12-01 02:55:02</td>\n",
       "    </tr>\n",
       "    <tr>\n",
       "      <th>64789949</th>\n",
       "      <td>-3.725328</td>\n",
       "      <td>-38.560467</td>\n",
       "      <td>33263</td>\n",
       "      <td>2018-12-01 02:55:02</td>\n",
       "    </tr>\n",
       "    <tr>\n",
       "      <th>64789951</th>\n",
       "      <td>-3.725328</td>\n",
       "      <td>-38.560467</td>\n",
       "      <td>33263</td>\n",
       "      <td>2018-12-01 02:55:02</td>\n",
       "    </tr>\n",
       "  </tbody>\n",
       "</table>\n",
       "<p>46210 rows × 4 columns</p>\n",
       "</div>"
      ],
      "text/plain": [
       "          latitude  longitude  id_veiculo             momento\n",
       "49058505 -3.725156 -38.557289       33263 2018-11-01 03:00:29\n",
       "49057565 -3.725156 -38.557289       33263 2018-11-01 03:01:12\n",
       "49055791 -3.725156 -38.557289       33263 2018-11-01 03:02:01\n",
       "49055793 -3.725156 -38.557289       33263 2018-11-01 03:02:01\n",
       "49050447 -3.725156 -38.557289       33263 2018-11-01 03:02:13\n",
       "...            ...        ...         ...                 ...\n",
       "64789899 -3.725328 -38.560478       33263 2018-12-01 02:54:04\n",
       "64789898 -3.725328 -38.560478       33263 2018-12-01 02:54:04\n",
       "64789950 -3.725328 -38.560467       33263 2018-12-01 02:55:02\n",
       "64789949 -3.725328 -38.560467       33263 2018-12-01 02:55:02\n",
       "64789951 -3.725328 -38.560467       33263 2018-12-01 02:55:02\n",
       "\n",
       "[46210 rows x 4 columns]"
      ]
     },
     "execution_count": 46,
     "metadata": {},
     "output_type": "execute_result"
    }
   ],
   "source": [
    "GPS_I_H[GPS_I_H.id_veiculo==33263]"
   ]
  },
  {
   "cell_type": "code",
   "execution_count": 34,
   "id": "89e1c685",
   "metadata": {},
   "outputs": [
    {
     "data": {
      "text/plain": [
       "' APOS TRATAMENTO INICIAL DA BASE É POSSIVEL COMPARAÇÃO COM OS DADOS DO DICIONARIO'"
      ]
     },
     "execution_count": 34,
     "metadata": {},
     "output_type": "execute_result"
    }
   ],
   "source": [
    "''' APOS TRATAMENTO INICIAL DA BASE É POSSIVEL COMPARAÇÃO COM OS DADOS DO DICIONARIO'''"
   ]
  },
  {
   "cell_type": "markdown",
   "id": "0cab1130",
   "metadata": {},
   "source": [
    "### 1.2.2.2 Verificação dados do dicionario presentes no GPS\n",
    "''' Identificando somente os dados do dicinario que estão presentes no GPS! '''"
   ]
  },
  {
   "cell_type": "code",
   "execution_count": 35,
   "id": "31533120",
   "metadata": {},
   "outputs": [],
   "source": [
    "# Filtrando que estão no dicionario e estão no GPS\n",
    "dados_em_d1_GPS = d1[d1['id_veiculo'].isin(GPS_I_H['id_veiculo'])]"
   ]
  },
  {
   "cell_type": "code",
   "execution_count": 36,
   "id": "38351d73",
   "metadata": {},
   "outputs": [
    {
     "name": "stderr",
     "output_type": "stream",
     "text": [
      "C:\\Users\\Bolsista\\AppData\\Local\\Temp\\ipykernel_6492\\1036990158.py:2: SettingWithCopyWarning: \n",
      "A value is trying to be set on a copy of a slice from a DataFrame\n",
      "\n",
      "See the caveats in the documentation: https://pandas.pydata.org/pandas-docs/stable/user_guide/indexing.html#returning-a-view-versus-a-copy\n",
      "  dados_em_d1_GPS.drop(columns=['index'], inplace=True)\n"
     ]
    }
   ],
   "source": [
    "dados_em_d1_GPS.reset_index(inplace=True)\n",
    "dados_em_d1_GPS.drop(columns=['index'], inplace=True)"
   ]
  },
  {
   "cell_type": "code",
   "execution_count": 37,
   "id": "149b9a47",
   "metadata": {},
   "outputs": [
    {
     "data": {
      "text/html": [
       "<div>\n",
       "<style scoped>\n",
       "    .dataframe tbody tr th:only-of-type {\n",
       "        vertical-align: middle;\n",
       "    }\n",
       "\n",
       "    .dataframe tbody tr th {\n",
       "        vertical-align: top;\n",
       "    }\n",
       "\n",
       "    .dataframe thead th {\n",
       "        text-align: right;\n",
       "    }\n",
       "</style>\n",
       "<table border=\"1\" class=\"dataframe\">\n",
       "  <thead>\n",
       "    <tr style=\"text-align: right;\">\n",
       "      <th></th>\n",
       "      <th>id_veiculo</th>\n",
       "      <th>cod_veiculo</th>\n",
       "    </tr>\n",
       "  </thead>\n",
       "  <tbody>\n",
       "    <tr>\n",
       "      <th>0</th>\n",
       "      <td>39632</td>\n",
       "      <td>35861</td>\n",
       "    </tr>\n",
       "    <tr>\n",
       "      <th>1</th>\n",
       "      <td>39620</td>\n",
       "      <td>12820</td>\n",
       "    </tr>\n",
       "    <tr>\n",
       "      <th>2</th>\n",
       "      <td>39592</td>\n",
       "      <td>30119</td>\n",
       "    </tr>\n",
       "    <tr>\n",
       "      <th>3</th>\n",
       "      <td>39576</td>\n",
       "      <td>36212</td>\n",
       "    </tr>\n",
       "    <tr>\n",
       "      <th>4</th>\n",
       "      <td>39512</td>\n",
       "      <td>21727</td>\n",
       "    </tr>\n",
       "    <tr>\n",
       "      <th>...</th>\n",
       "      <td>...</td>\n",
       "      <td>...</td>\n",
       "    </tr>\n",
       "    <tr>\n",
       "      <th>1761</th>\n",
       "      <td>32033</td>\n",
       "      <td>36006</td>\n",
       "    </tr>\n",
       "    <tr>\n",
       "      <th>1762</th>\n",
       "      <td>32032</td>\n",
       "      <td>36004</td>\n",
       "    </tr>\n",
       "    <tr>\n",
       "      <th>1763</th>\n",
       "      <td>32031</td>\n",
       "      <td>36003</td>\n",
       "    </tr>\n",
       "    <tr>\n",
       "      <th>1764</th>\n",
       "      <td>32030</td>\n",
       "      <td>36002</td>\n",
       "    </tr>\n",
       "    <tr>\n",
       "      <th>1765</th>\n",
       "      <td>32029</td>\n",
       "      <td>36001</td>\n",
       "    </tr>\n",
       "  </tbody>\n",
       "</table>\n",
       "<p>1766 rows × 2 columns</p>\n",
       "</div>"
      ],
      "text/plain": [
       "      id_veiculo cod_veiculo\n",
       "0          39632       35861\n",
       "1          39620       12820\n",
       "2          39592       30119\n",
       "3          39576       36212\n",
       "4          39512       21727\n",
       "...          ...         ...\n",
       "1761       32033       36006\n",
       "1762       32032       36004\n",
       "1763       32031       36003\n",
       "1764       32030       36002\n",
       "1765       32029       36001\n",
       "\n",
       "[1766 rows x 2 columns]"
      ]
     },
     "execution_count": 37,
     "metadata": {},
     "output_type": "execute_result"
    }
   ],
   "source": [
    "# Base dos dados do dicionario que possuem correspondentes no GPS\n",
    "dados_em_d1_GPS"
   ]
  },
  {
   "cell_type": "code",
   "execution_count": 38,
   "id": "665aa625",
   "metadata": {
    "scrolled": true
   },
   "outputs": [
    {
     "data": {
      "text/html": [
       "<div>\n",
       "<style scoped>\n",
       "    .dataframe tbody tr th:only-of-type {\n",
       "        vertical-align: middle;\n",
       "    }\n",
       "\n",
       "    .dataframe tbody tr th {\n",
       "        vertical-align: top;\n",
       "    }\n",
       "\n",
       "    .dataframe thead th {\n",
       "        text-align: right;\n",
       "    }\n",
       "</style>\n",
       "<table border=\"1\" class=\"dataframe\">\n",
       "  <thead>\n",
       "    <tr style=\"text-align: right;\">\n",
       "      <th></th>\n",
       "      <th>id_veiculo</th>\n",
       "      <th>cod_veiculo</th>\n",
       "    </tr>\n",
       "  </thead>\n",
       "  <tbody>\n",
       "    <tr>\n",
       "      <th>21</th>\n",
       "      <td>39377</td>\n",
       "      <td>20961</td>\n",
       "    </tr>\n",
       "    <tr>\n",
       "      <th>36</th>\n",
       "      <td>39241</td>\n",
       "      <td>01</td>\n",
       "    </tr>\n",
       "    <tr>\n",
       "      <th>37</th>\n",
       "      <td>39240</td>\n",
       "      <td>02</td>\n",
       "    </tr>\n",
       "    <tr>\n",
       "      <th>56</th>\n",
       "      <td>39108</td>\n",
       "      <td>20287</td>\n",
       "    </tr>\n",
       "    <tr>\n",
       "      <th>59</th>\n",
       "      <td>39100</td>\n",
       "      <td>20964</td>\n",
       "    </tr>\n",
       "    <tr>\n",
       "      <th>61</th>\n",
       "      <td>39098</td>\n",
       "      <td>20066</td>\n",
       "    </tr>\n",
       "    <tr>\n",
       "      <th>62</th>\n",
       "      <td>39097</td>\n",
       "      <td>20173</td>\n",
       "    </tr>\n",
       "    <tr>\n",
       "      <th>63</th>\n",
       "      <td>39096</td>\n",
       "      <td>20961</td>\n",
       "    </tr>\n",
       "    <tr>\n",
       "      <th>64</th>\n",
       "      <td>39095</td>\n",
       "      <td>20224</td>\n",
       "    </tr>\n",
       "    <tr>\n",
       "      <th>65</th>\n",
       "      <td>39094</td>\n",
       "      <td>20180</td>\n",
       "    </tr>\n",
       "    <tr>\n",
       "      <th>122</th>\n",
       "      <td>37400</td>\n",
       "      <td>2</td>\n",
       "    </tr>\n",
       "    <tr>\n",
       "      <th>123</th>\n",
       "      <td>37399</td>\n",
       "      <td>1</td>\n",
       "    </tr>\n",
       "    <tr>\n",
       "      <th>124</th>\n",
       "      <td>37398</td>\n",
       "      <td>02</td>\n",
       "    </tr>\n",
       "    <tr>\n",
       "      <th>174</th>\n",
       "      <td>35601</td>\n",
       "      <td>01</td>\n",
       "    </tr>\n",
       "    <tr>\n",
       "      <th>899</th>\n",
       "      <td>33263</td>\n",
       "      <td>20964</td>\n",
       "    </tr>\n",
       "    <tr>\n",
       "      <th>1096</th>\n",
       "      <td>33022</td>\n",
       "      <td>1</td>\n",
       "    </tr>\n",
       "    <tr>\n",
       "      <th>1097</th>\n",
       "      <td>33021</td>\n",
       "      <td>2</td>\n",
       "    </tr>\n",
       "    <tr>\n",
       "      <th>1104</th>\n",
       "      <td>32988</td>\n",
       "      <td>20287</td>\n",
       "    </tr>\n",
       "    <tr>\n",
       "      <th>1110</th>\n",
       "      <td>32972</td>\n",
       "      <td>20224</td>\n",
       "    </tr>\n",
       "    <tr>\n",
       "      <th>1118</th>\n",
       "      <td>32961</td>\n",
       "      <td>20180</td>\n",
       "    </tr>\n",
       "    <tr>\n",
       "      <th>1129</th>\n",
       "      <td>32949</td>\n",
       "      <td>20173</td>\n",
       "    </tr>\n",
       "    <tr>\n",
       "      <th>1147</th>\n",
       "      <td>32930</td>\n",
       "      <td>20066</td>\n",
       "    </tr>\n",
       "  </tbody>\n",
       "</table>\n",
       "</div>"
      ],
      "text/plain": [
       "      id_veiculo cod_veiculo\n",
       "21         39377       20961\n",
       "36         39241          01\n",
       "37         39240          02\n",
       "56         39108       20287\n",
       "59         39100       20964\n",
       "61         39098       20066\n",
       "62         39097       20173\n",
       "63         39096       20961\n",
       "64         39095       20224\n",
       "65         39094       20180\n",
       "122        37400           2\n",
       "123        37399           1\n",
       "124        37398          02\n",
       "174        35601          01\n",
       "899        33263       20964\n",
       "1096       33022           1\n",
       "1097       33021           2\n",
       "1104       32988       20287\n",
       "1110       32972       20224\n",
       "1118       32961       20180\n",
       "1129       32949       20173\n",
       "1147       32930       20066"
      ]
     },
     "execution_count": 38,
     "metadata": {},
     "output_type": "execute_result"
    }
   ],
   "source": [
    "# visualizando DUPLICADOS \n",
    "dados_em_d1_GPS[dados_em_d1_GPS['cod_veiculo'].duplicated(keep=False)]"
   ]
  },
  {
   "cell_type": "code",
   "execution_count": 39,
   "id": "d6b1c0bb",
   "metadata": {},
   "outputs": [
    {
     "data": {
      "text/plain": [
       "' Para um banco de dados e uma possivel mesclagem não é necessário dados que não serão relacionados, portanto não serão mesclados! ou seja, é necessário outra abordagem! '"
      ]
     },
     "execution_count": 39,
     "metadata": {},
     "output_type": "execute_result"
    }
   ],
   "source": [
    "''' Para um banco de dados e uma possivel mesclagem não é necessário dados que não serão relacionados, portanto não serão mesclados! ou seja, é necessário outra abordagem! '''"
   ]
  },
  {
   "cell_type": "markdown",
   "id": "52b2658d",
   "metadata": {},
   "source": [
    "### 1.2.2.3 Verificação dados do dicionario presentes na Bilhetagem\n",
    "''' Identificando somente os dados do dicinario que estão presentes no Bilhetagem! isso apos identificação dos dados que tambem posssuem correspondentes no GPS! '''"
   ]
  },
  {
   "cell_type": "code",
   "execution_count": 40,
   "id": "3063f2ad",
   "metadata": {},
   "outputs": [],
   "source": [
    "# Filtrando que estão no dicionario e estão na bilhetagem\n",
    "dados_em_d1_GPS_bilhetagem = dados_em_d1_GPS[dados_em_d1_GPS['cod_veiculo'].isin(mes_tudo['prefixo_carro'])]"
   ]
  },
  {
   "cell_type": "code",
   "execution_count": 41,
   "id": "ca5ddfba",
   "metadata": {},
   "outputs": [
    {
     "data": {
      "text/html": [
       "<div>\n",
       "<style scoped>\n",
       "    .dataframe tbody tr th:only-of-type {\n",
       "        vertical-align: middle;\n",
       "    }\n",
       "\n",
       "    .dataframe tbody tr th {\n",
       "        vertical-align: top;\n",
       "    }\n",
       "\n",
       "    .dataframe thead th {\n",
       "        text-align: right;\n",
       "    }\n",
       "</style>\n",
       "<table border=\"1\" class=\"dataframe\">\n",
       "  <thead>\n",
       "    <tr style=\"text-align: right;\">\n",
       "      <th></th>\n",
       "      <th>id_veiculo</th>\n",
       "      <th>cod_veiculo</th>\n",
       "    </tr>\n",
       "  </thead>\n",
       "  <tbody>\n",
       "    <tr>\n",
       "      <th>0</th>\n",
       "      <td>39632</td>\n",
       "      <td>35861</td>\n",
       "    </tr>\n",
       "    <tr>\n",
       "      <th>1</th>\n",
       "      <td>39620</td>\n",
       "      <td>12820</td>\n",
       "    </tr>\n",
       "    <tr>\n",
       "      <th>2</th>\n",
       "      <td>39592</td>\n",
       "      <td>30119</td>\n",
       "    </tr>\n",
       "    <tr>\n",
       "      <th>4</th>\n",
       "      <td>39512</td>\n",
       "      <td>21727</td>\n",
       "    </tr>\n",
       "    <tr>\n",
       "      <th>6</th>\n",
       "      <td>39510</td>\n",
       "      <td>35735</td>\n",
       "    </tr>\n",
       "    <tr>\n",
       "      <th>...</th>\n",
       "      <td>...</td>\n",
       "      <td>...</td>\n",
       "    </tr>\n",
       "    <tr>\n",
       "      <th>1759</th>\n",
       "      <td>32035</td>\n",
       "      <td>36008</td>\n",
       "    </tr>\n",
       "    <tr>\n",
       "      <th>1761</th>\n",
       "      <td>32033</td>\n",
       "      <td>36006</td>\n",
       "    </tr>\n",
       "    <tr>\n",
       "      <th>1762</th>\n",
       "      <td>32032</td>\n",
       "      <td>36004</td>\n",
       "    </tr>\n",
       "    <tr>\n",
       "      <th>1763</th>\n",
       "      <td>32031</td>\n",
       "      <td>36003</td>\n",
       "    </tr>\n",
       "    <tr>\n",
       "      <th>1765</th>\n",
       "      <td>32029</td>\n",
       "      <td>36001</td>\n",
       "    </tr>\n",
       "  </tbody>\n",
       "</table>\n",
       "<p>1134 rows × 2 columns</p>\n",
       "</div>"
      ],
      "text/plain": [
       "      id_veiculo cod_veiculo\n",
       "0          39632       35861\n",
       "1          39620       12820\n",
       "2          39592       30119\n",
       "4          39512       21727\n",
       "6          39510       35735\n",
       "...          ...         ...\n",
       "1759       32035       36008\n",
       "1761       32033       36006\n",
       "1762       32032       36004\n",
       "1763       32031       36003\n",
       "1765       32029       36001\n",
       "\n",
       "[1134 rows x 2 columns]"
      ]
     },
     "execution_count": 41,
     "metadata": {},
     "output_type": "execute_result"
    }
   ],
   "source": [
    "dados_em_d1_GPS_bilhetagem"
   ]
  },
  {
   "cell_type": "code",
   "execution_count": 42,
   "id": "165f9bbd",
   "metadata": {},
   "outputs": [
    {
     "data": {
      "text/html": [
       "<div>\n",
       "<style scoped>\n",
       "    .dataframe tbody tr th:only-of-type {\n",
       "        vertical-align: middle;\n",
       "    }\n",
       "\n",
       "    .dataframe tbody tr th {\n",
       "        vertical-align: top;\n",
       "    }\n",
       "\n",
       "    .dataframe thead th {\n",
       "        text-align: right;\n",
       "    }\n",
       "</style>\n",
       "<table border=\"1\" class=\"dataframe\">\n",
       "  <thead>\n",
       "    <tr style=\"text-align: right;\">\n",
       "      <th></th>\n",
       "      <th>id_veiculo</th>\n",
       "      <th>cod_veiculo</th>\n",
       "    </tr>\n",
       "  </thead>\n",
       "  <tbody>\n",
       "    <tr>\n",
       "      <th>59</th>\n",
       "      <td>39100</td>\n",
       "      <td>20964</td>\n",
       "    </tr>\n",
       "    <tr>\n",
       "      <th>64</th>\n",
       "      <td>39095</td>\n",
       "      <td>20224</td>\n",
       "    </tr>\n",
       "    <tr>\n",
       "      <th>899</th>\n",
       "      <td>33263</td>\n",
       "      <td>20964</td>\n",
       "    </tr>\n",
       "    <tr>\n",
       "      <th>1110</th>\n",
       "      <td>32972</td>\n",
       "      <td>20224</td>\n",
       "    </tr>\n",
       "  </tbody>\n",
       "</table>\n",
       "</div>"
      ],
      "text/plain": [
       "      id_veiculo cod_veiculo\n",
       "59         39100       20964\n",
       "64         39095       20224\n",
       "899        33263       20964\n",
       "1110       32972       20224"
      ]
     },
     "execution_count": 42,
     "metadata": {},
     "output_type": "execute_result"
    }
   ],
   "source": [
    "# visualizando DUPLICADOS \n",
    "dados_em_d1_GPS_bilhetagem[dados_em_d1_GPS_bilhetagem['cod_veiculo'].duplicated(keep=False)]"
   ]
  },
  {
   "cell_type": "code",
   "execution_count": 43,
   "id": "f06d2e98",
   "metadata": {},
   "outputs": [
    {
     "data": {
      "text/plain": [
       "' APOS, ESSE TRATAMENTO, A BASE \"dados_em_d1_GPS_bilhetagem\" POSSUI DADOS QUE ESTÃO NA BILHETAGEM E QUE ESTÃO NA BASE DO DICIONARIO E POSSUEM UM CORRESPONDENTE NA BASE DO GPS! '"
      ]
     },
     "execution_count": 43,
     "metadata": {},
     "output_type": "execute_result"
    }
   ],
   "source": [
    "''' APOS, ESSE TRATAMENTO, A BASE \"dados_em_d1_GPS_bilhetagem\" POSSUI DADOS QUE ESTÃO NA BILHETAGEM E QUE ESTÃO NA BASE DO DICIONARIO E POSSUEM UM CORRESPONDENTE NA BASE DO GPS! '''"
   ]
  },
  {
   "cell_type": "code",
   "execution_count": 57,
   "id": "63315dc6",
   "metadata": {
    "scrolled": true
   },
   "outputs": [
    {
     "data": {
      "text/plain": [
       "\" CONTUDO, APRESENTA AINDA DOIS ID'S DE VEICULOS COM DADOS DUPLICADOS DE IDENTIFICAÇÃO NA BILHETAGEM E QUE POSSUE REGISTROS NO GPS (COM IDENTIFICAÇÃO PROPRIA), EM UMA POSSIVEL MESCLAGEM, ISSO NÃO LEVA A ACORRENCIA DE ERRO DA LOCALIZAÇÃO DO USUARIO, POIS MESMO TENDO UMA IDENTIFAÇÃO IGUAL DA BILHETAGEM, ELA POSSUE IDENTIFICAÇÃO DIFERENTE NO GPS E ESSA JUNÇÃO LEVA EM CONSIDERAÇÃO O CRITERIO DE TEMPO! MAS NA PRIMERIA MESCLAGEM TERÃO DUAS ASSOCIAÇÕES DE UM USUARIO COM ESSES DOIS VEICULO NO DICIONARIO, QUE LEVA A OCORRENCIA DE DADOS DUPLICADOS DO USUARIO E DE LOCALIZAÇÃO EM DOIS VEICULOS DIFERENTES! \""
      ]
     },
     "execution_count": 57,
     "metadata": {},
     "output_type": "execute_result"
    }
   ],
   "source": [
    "''' CONTUDO, APRESENTA AINDA DOIS ID'S DE VEICULOS COM DADOS DUPLICADOS DE IDENTIFICAÇÃO NA BILHETAGEM E QUE POSSUE REGISTROS NO GPS (COM IDENTIFICAÇÃO PROPRIA), EM UMA POSSIVEL MESCLAGEM, ISSO NÃO LEVA A ACORRENCIA DE ERRO DA LOCALIZAÇÃO DO USUARIO, POIS MESMO TENDO UMA IDENTIFAÇÃO IGUAL DA BILHETAGEM, ELA POSSUE IDENTIFICAÇÃO DIFERENTE NO GPS E ESSA JUNÇÃO LEVA EM CONSIDERAÇÃO O CRITERIO DE TEMPO! MAS NA PRIMERIA MESCLAGEM TERÃO DUAS ASSOCIAÇÕES DE UM USUARIO COM ESSES DOIS VEICULO NO DICIONARIO, QUE LEVA A OCORRENCIA DE DADOS DUPLICADOS DO USUARIO E DE LOCALIZAÇÃO EM DOIS VEICULOS DIFERENTES! '''"
   ]
  },
  {
   "cell_type": "code",
   "execution_count": 55,
   "id": "2a66e16c",
   "metadata": {
    "scrolled": true
   },
   "outputs": [
    {
     "data": {
      "text/plain": [
       "' MAS PARA UM RELACIONAMENTO EM UM BANCO DE DADOS RELACIONAL DE MUITOS PARA MUITOS É NECESSÁRIO QUE A TERCEIRA TABELA QUE RELACIONA AS DEMAIS SEJA COM DADOS UNICOS! '"
      ]
     },
     "execution_count": 55,
     "metadata": {},
     "output_type": "execute_result"
    }
   ],
   "source": [
    "''' MAS PARA UM RELACIONAMENTO EM UM BANCO DE DADOS RELACIONAL DE MUITOS PARA MUITOS É NECESSÁRIO QUE A TERCEIRA TABELA QUE RELACIONA AS DEMAIS SEJA COM DADOS UNICOS! '''"
   ]
  },
  {
   "cell_type": "markdown",
   "id": "27871cd0",
   "metadata": {},
   "source": [
    "### 1.2.2.4 Adequação...\n",
    "''' ! '''"
   ]
  },
  {
   "cell_type": "code",
   "execution_count": null,
   "id": "b071616d",
   "metadata": {},
   "outputs": [],
   "source": []
  },
  {
   "cell_type": "code",
   "execution_count": null,
   "id": "a1f1ffbf",
   "metadata": {},
   "outputs": [],
   "source": []
  },
  {
   "cell_type": "code",
   "execution_count": null,
   "id": "be12b238",
   "metadata": {},
   "outputs": [],
   "source": []
  },
  {
   "cell_type": "markdown",
   "id": "622f830b",
   "metadata": {},
   "source": [
    "# 1.3 GPS\n",
    "''' Base ja teve adequação do formato dos dados '''"
   ]
  },
  {
   "cell_type": "markdown",
   "id": "aafa5d89",
   "metadata": {},
   "source": [
    "## 1.3.1 Inspeção inicial"
   ]
  },
  {
   "cell_type": "code",
   "execution_count": null,
   "id": "a9ba3b65",
   "metadata": {},
   "outputs": [],
   "source": []
  },
  {
   "cell_type": "code",
   "execution_count": null,
   "id": "eb20e2fe",
   "metadata": {},
   "outputs": [],
   "source": []
  },
  {
   "cell_type": "markdown",
   "id": "f5fcb3d4",
   "metadata": {},
   "source": [
    "# ------------------------------------------------------------------------"
   ]
  }
 ],
 "metadata": {
  "kernelspec": {
   "display_name": "Python 3 (ipykernel)",
   "language": "python",
   "name": "python3"
  },
  "language_info": {
   "codemirror_mode": {
    "name": "ipython",
    "version": 3
   },
   "file_extension": ".py",
   "mimetype": "text/x-python",
   "name": "python",
   "nbconvert_exporter": "python",
   "pygments_lexer": "ipython3",
   "version": "3.10.9"
  }
 },
 "nbformat": 4,
 "nbformat_minor": 5
}
