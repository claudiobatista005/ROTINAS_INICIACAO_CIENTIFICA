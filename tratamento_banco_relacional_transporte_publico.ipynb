{
 "cells": [
  {
   "cell_type": "markdown",
   "id": "4c29b47f",
   "metadata": {},
   "source": [
    "# Algoritmo - Tratamento BD (billhetagem, GPS e GTFS)\n",
    "### Autor: Antônio Claudio Dutra Batista\n",
    "### Orientador: Francisco Moraes de Oliveria Neto\n",
    "### Metodologia: Adequação de formatos e conscistência"
   ]
  },
  {
   "cell_type": "markdown",
   "id": "0d3152ac",
   "metadata": {},
   "source": [
    "# 1.0  Leitura das Bases"
   ]
  },
  {
   "cell_type": "markdown",
   "id": "53c75e45",
   "metadata": {},
   "source": [
    "# 1.1 Bilhetagem (Tratamento Inicial)"
   ]
  },
  {
   "cell_type": "code",
   "execution_count": null,
   "id": "569415da",
   "metadata": {},
   "outputs": [],
   "source": [
    "import pandas as pd \n",
    "# Arquivos são do mês de novembro de 2018.\n",
    "# Definindo tipos de variaveis com tamanhos menores\n",
    "tipos_specification = {'id': 'int32', 'linha': 'int32'}\n",
    "\n",
    "# df's abaixo (leitura somente das colunas necessárias):\n",
    "dia_01 = pd.read_csv('2018-11-01.csv', dtype=tipos_specification, sep= ',')\n",
    "dia_02 = pd.read_csv('2018-11-02.csv', dtype=tipos_specification, sep= ',')\n",
    "dia_03 = pd.read_csv('2018-11-03.csv', dtype=tipos_specification, sep= ',')\n",
    "dia_04 = pd.read_csv('2018-11-04.csv', dtype=tipos_specification, sep= ',')\n",
    "dia_05 = pd.read_csv('2018-11-05.csv', dtype=tipos_specification, sep= ',') \n",
    "dia_06 = pd.read_csv('2018-11-06.csv', dtype=tipos_specification, sep= ',')\n",
    "dia_07 = pd.read_csv('2018-11-07.csv', dtype=tipos_specification, sep= ',')\n",
    "dia_08 = pd.read_csv('2018-11-08.csv', dtype=tipos_specification, sep= ',')\n",
    "dia_09 = pd.read_csv('2018-11-09.csv', dtype=tipos_specification, sep= ',')\n",
    "dia_10 = pd.read_csv('2018-11-10.csv', dtype=tipos_specification, sep= ',')\n",
    "\n",
    "# Continuando...\n",
    "dia_11 = pd.read_csv('2018-11-11.csv', dtype=tipos_specification, sep= ',')\n",
    "dia_12 = pd.read_csv('2018-11-12.csv', dtype=tipos_specification, sep= ',')\n",
    "dia_13 = pd.read_csv('2018-11-13.csv', dtype=tipos_specification, sep= ',')\n",
    "dia_14 = pd.read_csv('2018-11-14.csv', dtype=tipos_specification, sep= ',')\n",
    "dia_15 = pd.read_csv('2018-11-15.csv', dtype=tipos_specification, sep= ',')\n",
    "dia_16 = pd.read_csv('2018-11-16.csv', dtype=tipos_specification, sep= ',')\n",
    "dia_17 = pd.read_csv('2018-11-17.csv', dtype=tipos_specification, sep= ',')\n",
    "dia_18 = pd.read_csv('2018-11-18.csv', dtype=tipos_specification, sep= ',')\n",
    "dia_19 = pd.read_csv('2018-11-19.csv', dtype=tipos_specification, sep= ',')\n",
    "dia_20 = pd.read_csv('2018-11-20.csv', dtype=tipos_specification, sep= ',')\n",
    "\n",
    "# Continuando...\n",
    "dia_21 = pd.read_csv('2018-11-21.csv', dtype=tipos_specification,  sep= ',')\n",
    "dia_22 = pd.read_csv('2018-11-22.csv', dtype=tipos_specification,  sep= ',')\n",
    "dia_23 = pd.read_csv('2018-11-23.csv', dtype=tipos_specification,  sep= ',')\n",
    "dia_24 = pd.read_csv('2018-11-24.csv', dtype=tipos_specification,  sep= ',')\n",
    "dia_25 = pd.read_csv('2018-11-25.csv', dtype=tipos_specification,  sep= ',')\n",
    "dia_26 = pd.read_csv('2018-11-26.csv', dtype=tipos_specification,  sep= ',')\n",
    "dia_27 = pd.read_csv('2018-11-27.csv', dtype=tipos_specification,  sep= ',')\n",
    "dia_28 = pd.read_csv('2018-11-28.csv', dtype=tipos_specification,  sep= ',')\n",
    "dia_29 = pd.read_csv('2018-11-29.csv', dtype=tipos_specification,  sep= ',')\n",
    "dia_30 = pd.read_csv('2018-11-30.csv', dtype=tipos_specification,  sep= ',')"
   ]
  },
  {
   "cell_type": "code",
   "execution_count": null,
   "id": "1a00173e",
   "metadata": {},
   "outputs": [],
   "source": [
    "# Agrupando (10 dias)\n",
    "dia_01_10 = pd.concat([dia_01, dia_02, dia_03, dia_04, dia_05, dia_06 ,dia_07, dia_08, dia_09, dia_10])\n",
    "\n",
    "# Continuando...\n",
    "dia_11_20 = pd.concat([dia_11, dia_12, dia_13, dia_14, dia_15,dia_16, dia_17, dia_18, dia_19, dia_20])\n",
    "\n",
    "# Continuando...\n",
    "dia_21_30 = pd.concat([dia_21, dia_22, dia_23, dia_24, dia_25, dia_26, dia_27, dia_28, dia_29, dia_30])\n",
    "\n",
    "mes_tudo = pd.concat([dia_01_10, dia_11_20,dia_21_30])"
   ]
  },
  {
   "cell_type": "code",
   "execution_count": null,
   "id": "28817437",
   "metadata": {},
   "outputs": [],
   "source": [
    "# DELETANDO EXPLICITAMENTE VARAIVEIS COM DIAS 01-10\n",
    "del dia_01\n",
    "del dia_02\n",
    "del dia_03\n",
    "del dia_04\n",
    "del dia_05\n",
    "del dia_06\n",
    "del dia_07\n",
    "del dia_08\n",
    "del dia_09\n",
    "del dia_10\n",
    "\n",
    "# DELETANDO EXPLICITAMENTE VARAIVEIS COM DIAS 11-20\n",
    "del dia_11\n",
    "del dia_12\n",
    "del dia_13\n",
    "del dia_14\n",
    "del dia_15\n",
    "del dia_16\n",
    "del dia_17\n",
    "del dia_18\n",
    "del dia_19\n",
    "del dia_20\n",
    "\n",
    "# DELETANDO EXPLICITAMENTE VARAIVEIS COM DIAS 21-30\n",
    "del dia_21\n",
    "del dia_22\n",
    "del dia_23\n",
    "del dia_24\n",
    "del dia_25\n",
    "del dia_26\n",
    "del dia_27\n",
    "del dia_28\n",
    "del dia_29\n",
    "del dia_30\n",
    "\n",
    "# DELETANDO EXPLICITAMENTE VARAIVEIS COM DIAS 1agrupados\n",
    "del dia_01_10\n",
    "del dia_11_20\n",
    "del dia_21_30"
   ]
  },
  {
   "cell_type": "code",
   "execution_count": null,
   "id": "dc2bb13e",
   "metadata": {},
   "outputs": [],
   "source": [
    "# Base com dados do mes em um unico arquivo\n",
    "mes_tudo"
   ]
  },
  {
   "cell_type": "code",
   "execution_count": null,
   "id": "acd28c49",
   "metadata": {},
   "outputs": [],
   "source": [
    "# Info da base \n",
    "mes_tudo.info()"
   ]
  },
  {
   "cell_type": "code",
   "execution_count": null,
   "id": "727c3969",
   "metadata": {},
   "outputs": [],
   "source": [
    "# Juntando colunas de interesse (dia, momento) em uma só:\n",
    "mes_tudo[\"momento\"] = mes_tudo['dia'].astype(str) + '-' + mes_tudo['momento'].astype(str)"
   ]
  },
  {
   "cell_type": "code",
   "execution_count": null,
   "id": "fa78ce1a",
   "metadata": {},
   "outputs": [],
   "source": [
    "# Dados da coluna tipo_cartao\n",
    "mes_tudo[\"tipo_cartao\"].unique()"
   ]
  },
  {
   "cell_type": "code",
   "execution_count": null,
   "id": "44ba8f6a",
   "metadata": {},
   "outputs": [],
   "source": [
    "# Dados da coluna nome_cartao\n",
    "mes_tudo[\"nome_cartao\"].unique()"
   ]
  },
  {
   "cell_type": "code",
   "execution_count": null,
   "id": "6f7dfc5a",
   "metadata": {},
   "outputs": [],
   "source": [
    "# REMOVENDO COLUNAS DESNECESSÁRIAS!\n",
    "mes_tudo.drop(['tipo_cartao', 'hora', 'dia'], inplace= True, axis=1)"
   ]
  },
  {
   "cell_type": "code",
   "execution_count": null,
   "id": "248a1798",
   "metadata": {},
   "outputs": [],
   "source": [
    "# Verificando dados nulos \n",
    "mes_tudo.isnull().sum()"
   ]
  },
  {
   "cell_type": "code",
   "execution_count": null,
   "id": "5f3f275f",
   "metadata": {},
   "outputs": [],
   "source": [
    "# Base tratrada do mes \n",
    "mes_tudo"
   ]
  },
  {
   "cell_type": "code",
   "execution_count": null,
   "id": "80b8f68e",
   "metadata": {},
   "outputs": [],
   "source": [
    "mes_tudo.to_csv('bilhetagem_tratada_112018')"
   ]
  },
  {
   "cell_type": "markdown",
   "id": "fdfcff1e",
   "metadata": {},
   "source": [
    "# 1.2 Dicionario (Tratamento Inicial)"
   ]
  },
  {
   "cell_type": "code",
   "execution_count": null,
   "id": "bb3644bb",
   "metadata": {},
   "outputs": [],
   "source": [
    "# df', abaixo:\n",
    "d1 = pd.read_csv('veiculos2018.csv', sep= ';')"
   ]
  },
  {
   "cell_type": "code",
   "execution_count": null,
   "id": "f55c6e12",
   "metadata": {},
   "outputs": [],
   "source": [
    "# Base bruta\n",
    "d1"
   ]
  },
  {
   "cell_type": "code",
   "execution_count": null,
   "id": "78cd30dc",
   "metadata": {},
   "outputs": [],
   "source": [
    "d1.info()"
   ]
  },
  {
   "cell_type": "code",
   "execution_count": null,
   "id": "67329c90",
   "metadata": {},
   "outputs": [],
   "source": [
    "# Dados nulos\n",
    "d1.isnull().sum()"
   ]
  },
  {
   "cell_type": "code",
   "execution_count": null,
   "id": "10cba2eb",
   "metadata": {
    "scrolled": false
   },
   "outputs": [],
   "source": [
    "d1[d1['cod_veiculo'].str.contains('2018')]"
   ]
  },
  {
   "cell_type": "code",
   "execution_count": null,
   "id": "74e95333",
   "metadata": {},
   "outputs": [],
   "source": [
    "''' SERÃO REMOVIDOS OS CARACTERS DE CADA LINHADOS DADOS DA COLUNA COD_VEICULO PARA COMPARAÇÃO NO TOPICO 1.1.2 ! '''"
   ]
  },
  {
   "cell_type": "code",
   "execution_count": null,
   "id": "3437f23a",
   "metadata": {},
   "outputs": [],
   "source": [
    "# Convertendo dados para tipo caracters\n",
    "d1['cod_veiculo'] = d1['cod_veiculo'].astype('str')"
   ]
  },
  {
   "cell_type": "code",
   "execution_count": null,
   "id": "6d3c20c3",
   "metadata": {},
   "outputs": [],
   "source": [
    "# Removendo caracteres da coluna de cod_veiculo\n",
    "d1['cod_veiculo'] = d1['cod_veiculo'].replace({'\\D': ''}, regex=True)"
   ]
  },
  {
   "cell_type": "code",
   "execution_count": null,
   "id": "6e32129f",
   "metadata": {},
   "outputs": [],
   "source": [
    "# Dados nulos apos remoção dos caracters\n",
    "d1.isnull().sum()"
   ]
  },
  {
   "cell_type": "code",
   "execution_count": null,
   "id": "9743033d",
   "metadata": {},
   "outputs": [],
   "source": [
    "# Dropando linhas que estão com cod_veiculo vazias, ou seja, todas informação contida era catacters\n",
    "d1 = d1[d1['cod_veiculo']!=\"\"]"
   ]
  },
  {
   "cell_type": "code",
   "execution_count": null,
   "id": "1c41e52b",
   "metadata": {},
   "outputs": [],
   "source": [
    "d1"
   ]
  },
  {
   "cell_type": "markdown",
   "id": "63e67fe4",
   "metadata": {},
   "source": [
    "## 1.2.0 Verificação de dados do dicionario presentes no GPS e Bilhetagem"
   ]
  },
  {
   "cell_type": "markdown",
   "id": "40a0e798",
   "metadata": {},
   "source": [
    "### 1.2.1 GPS (Tratamento inicial)"
   ]
  },
  {
   "cell_type": "code",
   "execution_count": null,
   "id": "4f0b8442",
   "metadata": {},
   "outputs": [],
   "source": [
    "# leitura do base - GPS\n",
    "\n",
    "import pandas as pd\n",
    "\n",
    "# Definindo o número de linhas que você deseja ler\n",
    "numero_de_linhas_para_ler = 45000000  # Substitua pelo número desejado\n",
    "dtype_specification = {'longitude': 'float32', 'latitude': 'float32', 'vehicle_vehicleid': 'int32'}\n",
    "\n",
    "# Usando o pandas para ler o CSV, limitando o número de linhas com a opção nrows\n",
    "mes_ate_45_milhoes = pd.read_csv('Paint112018.csv',usecols=['latitude', 'longitude', 'metrictimestamp', 'vehicle_vehicleid'], dtype=dtype_specification, nrows=numero_de_linhas_para_ler)"
   ]
  },
  {
   "cell_type": "code",
   "execution_count": null,
   "id": "0fcc8e22",
   "metadata": {},
   "outputs": [],
   "source": [
    "# Lendo restante do arquivo\n",
    "mes_resto = pd.read_csv('Paint112018.csv', usecols=['latitude', 'longitude','metrictimestamp', 'vehicle_vehicleid'],dtype=dtype_specification, skiprows=range(1, numero_de_linhas_para_ler + 1))"
   ]
  },
  {
   "cell_type": "code",
   "execution_count": null,
   "id": "d80dc033",
   "metadata": {},
   "outputs": [],
   "source": [
    "# Juntando em um mesmo df\n",
    "GPS_I_H =  pd.concat([mes_ate_45_milhoes, mes_resto]) "
   ]
  },
  {
   "cell_type": "code",
   "execution_count": null,
   "id": "e3f4912f",
   "metadata": {},
   "outputs": [],
   "source": [
    "# Excluindo explicitamente variavel com dados do GPS separados\n",
    "del mes_ate_45_milhoes\n",
    "del mes_resto"
   ]
  },
  {
   "cell_type": "code",
   "execution_count": null,
   "id": "5aa808bf",
   "metadata": {},
   "outputs": [],
   "source": [
    "display(GPS_I_H.iloc[275])"
   ]
  },
  {
   "cell_type": "code",
   "execution_count": null,
   "id": "606a56d3",
   "metadata": {},
   "outputs": [],
   "source": [
    "GPS_I_H.info()"
   ]
  },
  {
   "cell_type": "code",
   "execution_count": null,
   "id": "6490efbe",
   "metadata": {},
   "outputs": [],
   "source": [
    "# FORMATANDO metrictimestamp do (GPS)\n",
    "GPS_I_H['momento'] = pd.to_datetime(GPS_I_H['metrictimestamp'],format= '%Y%m%d%H%M%S')"
   ]
  },
  {
   "cell_type": "code",
   "execution_count": null,
   "id": "fafcf8f5",
   "metadata": {},
   "outputs": [],
   "source": [
    "GPS_I_H.drop(\"metrictimestamp\", axis= 1, inplace= True)"
   ]
  },
  {
   "cell_type": "code",
   "execution_count": null,
   "id": "7780e89a",
   "metadata": {},
   "outputs": [],
   "source": [
    "# Renomear coluna de momento de vehicle_vehicleid para id_veiculo:\n",
    "GPS_I_H.columns=['latitude', 'longitude','id_veiculo', 'momento']"
   ]
  },
  {
   "cell_type": "code",
   "execution_count": null,
   "id": "0a256100",
   "metadata": {},
   "outputs": [],
   "source": [
    "# Colocando valores em ordem\n",
    "GPS_I_H.sort_values('momento', inplace= True)"
   ]
  },
  {
   "cell_type": "code",
   "execution_count": null,
   "id": "89e1c685",
   "metadata": {},
   "outputs": [],
   "source": [
    "''' APOS TRATAMENTO INICIAL DA BASE É POSSIVEL COMPARAÇÃO COM OS DADOS DO DICIONARIO'''"
   ]
  },
  {
   "cell_type": "markdown",
   "id": "0cab1130",
   "metadata": {},
   "source": [
    "### 1.2.2 Verificação dados do dicionario presentes no GPS\n",
    "''' Identificando somente os dados do dicinario que estão presentes no GPS! '''"
   ]
  },
  {
   "cell_type": "code",
   "execution_count": null,
   "id": "31533120",
   "metadata": {},
   "outputs": [],
   "source": [
    "# Filtrando que estão no dicionario e estão no GPS\n",
    "dados_em_d1_GPS = d1[d1['id_veiculo'].isin(GPS_I_H['id_veiculo'])]"
   ]
  },
  {
   "cell_type": "code",
   "execution_count": null,
   "id": "38351d73",
   "metadata": {},
   "outputs": [],
   "source": [
    "dados_em_d1_GPS.reset_index(inplace=True)\n",
    "dados_em_d1_GPS.drop(columns=['index'], inplace=True)"
   ]
  },
  {
   "cell_type": "code",
   "execution_count": null,
   "id": "149b9a47",
   "metadata": {},
   "outputs": [],
   "source": [
    "# Base dos dados do dicionario que possuem correspondentes no GPS\n",
    "dados_em_d1_GPS"
   ]
  },
  {
   "cell_type": "code",
   "execution_count": null,
   "id": "665aa625",
   "metadata": {
    "scrolled": true
   },
   "outputs": [],
   "source": [
    "# visualizando DUPLICADOS \n",
    "dados_em_d1_GPS[dados_em_d1_GPS['cod_veiculo'].duplicated(keep=False)]"
   ]
  },
  {
   "cell_type": "code",
   "execution_count": null,
   "id": "d6b1c0bb",
   "metadata": {},
   "outputs": [],
   "source": [
    "''' Para um banco de dados e uma possivel mesclagem não é necessário dados que não serão relacionados, portanto não serão mesclados! ou seja, é necessário outra abordagem! '''"
   ]
  },
  {
   "cell_type": "markdown",
   "id": "52b2658d",
   "metadata": {},
   "source": [
    "### 1.2.3 Verificação dados do dicionario presentes na Bilhetagem\n",
    "''' Identificando somente os dados do dicinario que estão presentes no Bilhetagem! isso apos identificação dos dados que tambem posssuem correspondentes no GPS! '''"
   ]
  },
  {
   "cell_type": "code",
   "execution_count": null,
   "id": "3063f2ad",
   "metadata": {},
   "outputs": [],
   "source": [
    "# Filtrando que estão no dicionario e estão na bilhetagem\n",
    "dados_em_d1_GPS_bilhetagem = dados_em_d1_GPS[dados_em_d1_GPS['cod_veiculo'].isin(mes_tudo['prefixo_carro'])]"
   ]
  },
  {
   "cell_type": "code",
   "execution_count": null,
   "id": "ca5ddfba",
   "metadata": {},
   "outputs": [],
   "source": [
    "dados_em_d1_GPS_bilhetagem"
   ]
  },
  {
   "cell_type": "code",
   "execution_count": null,
   "id": "165f9bbd",
   "metadata": {},
   "outputs": [],
   "source": [
    "# visualizando DUPLICADOS \n",
    "dados_em_d1_GPS_bilhetagem[dados_em_d1_GPS_bilhetagem['cod_veiculo'].duplicated(keep=False)]"
   ]
  },
  {
   "cell_type": "code",
   "execution_count": null,
   "id": "f06d2e98",
   "metadata": {},
   "outputs": [],
   "source": [
    "''' APOS, ESSE TRATAMENTO, A BASE \"dados_em_d1_GPS_bilhetagem\" POSSUI DADOS QUE ESTÃO NA BILHETAGEM E QUE ESTÃO NA BASE DO DICIONARIO E POSSUEM UM CORRESPONDENTE NA BASE DO GPS! '''"
   ]
  },
  {
   "cell_type": "code",
   "execution_count": null,
   "id": "63315dc6",
   "metadata": {},
   "outputs": [],
   "source": [
    "''' CONTUDO APRESENTA AINDA DOIS ID'S DE VEICULOS COM DADOS DUPLICADOS E QUE POSSUE REGISTROS NO GPS'''"
   ]
  },
  {
   "cell_type": "code",
   "execution_count": null,
   "id": "2a66e16c",
   "metadata": {},
   "outputs": [],
   "source": []
  },
  {
   "cell_type": "code",
   "execution_count": null,
   "id": "a9ba3b65",
   "metadata": {},
   "outputs": [],
   "source": []
  },
  {
   "cell_type": "code",
   "execution_count": null,
   "id": "eb20e2fe",
   "metadata": {},
   "outputs": [],
   "source": []
  },
  {
   "cell_type": "markdown",
   "id": "f5fcb3d4",
   "metadata": {},
   "source": [
    "# ------------------------------------------------------------------------"
   ]
  }
 ],
 "metadata": {
  "kernelspec": {
   "display_name": "Python 3 (ipykernel)",
   "language": "python",
   "name": "python3"
  },
  "language_info": {
   "codemirror_mode": {
    "name": "ipython",
    "version": 3
   },
   "file_extension": ".py",
   "mimetype": "text/x-python",
   "name": "python",
   "nbconvert_exporter": "python",
   "pygments_lexer": "ipython3",
   "version": "3.10.9"
  }
 },
 "nbformat": 4,
 "nbformat_minor": 5
}
