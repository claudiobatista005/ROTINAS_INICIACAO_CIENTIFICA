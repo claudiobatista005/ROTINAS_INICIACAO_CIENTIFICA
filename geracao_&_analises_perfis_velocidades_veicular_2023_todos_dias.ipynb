{
 "cells": [
  {
   "cell_type": "markdown",
   "id": "7154d001",
   "metadata": {},
   "source": [
    "# --------------------------------------------------------------------------------------"
   ]
  },
  {
   "cell_type": "markdown",
   "id": "0d3152ac",
   "metadata": {},
   "source": [
    "# Algoritmo - Determinação das velocidades GPS\n",
    "### _Autor: Antônio Claudio Dutra Batista_\n",
    "### _Orientador: Francisco Moraes de Oliveira Neto_\n",
    "### _Metodologia: Velocidades médias entre os registros do GPS_\n",
    "''' As informações dos veículos no trecho foram obtidos pela propria base do gps pelo, dado que o fornecimento dessas informações nor ultimos anos ja vem com dados das linhas que cada veiculo da frota fazer parte naquele momento da operação, assim é possivel saber os veculos das linhas de interesse.'''"
   ]
  },
  {
   "cell_type": "markdown",
   "id": "001b066f",
   "metadata": {},
   "source": [
    "# 1.0  Leitura das Bases"
   ]
  },
  {
   "cell_type": "code",
   "execution_count": null,
   "id": "b2cbbee3",
   "metadata": {},
   "outputs": [],
   "source": [
    "# Importando bibliotecas e funções necessárias \n",
    "import folium \n",
    "import numpy as np \n",
    "import pandas as pd\n",
    "import geopandas as gpd\n",
    "from shapely import Point\n",
    "from shapely.geometry import Point, Polygon\n",
    "import plotly.graph_objs as go\n",
    "from folium.plugins import FastMarkerCluster\n",
    "from folium.plugins import MarkerCluster\n",
    "# !pip install geopy\n",
    "from geopy.distance import geodesic "
   ]
  },
  {
   "cell_type": "markdown",
   "id": "40a0e798",
   "metadata": {},
   "source": [
    "## 1.1.0 leitura do base - GPS (Tratamento INICIAL)"
   ]
  },
  {
   "cell_type": "code",
   "execution_count": null,
   "id": "e8bd351c",
   "metadata": {},
   "outputs": [],
   "source": [
    "# Lista para armazenar os dataframes\n",
    "grupos_dias = []\n",
    "\n",
    "# Loop para ler os arquivos CSV e concatená-los \n",
    "for i in range(1, 31):  # Início, fim (não inclusivo)\n",
    "    # Lendo do arquivo CSV\n",
    "    df = pd.read_csv(f'arquivo_paitt_diario_2023-11-{str(i).zfill(2)}.csv', sep=',')\n",
    "    \n",
    "    # Selecionando as primeiras 4 colunas e a última coluna\n",
    "    df = df.iloc[:, [1, 2, 3, 5, -1]]\n",
    "    \n",
    "    # Renomeando as colunas pela posição\n",
    "    df.columns = ['latitude', 'longitude', 'momento', 'linha', 'id_veiculo']\n",
    "    \n",
    "    # Armazenando o dataframe na lista\n",
    "    grupos_dias.append(df)"
   ]
  },
  {
   "cell_type": "code",
   "execution_count": null,
   "id": "21e55def",
   "metadata": {},
   "outputs": [],
   "source": [
    "# Juntando em um mesmo df\n",
    "GPS_I_H =  pd.concat(grupos_dias) "
   ]
  },
  {
   "cell_type": "code",
   "execution_count": null,
   "id": "0dd1a456",
   "metadata": {},
   "outputs": [],
   "source": [
    "GPS_I_H"
   ]
  },
  {
   "cell_type": "code",
   "execution_count": null,
   "id": "c0dbb0de",
   "metadata": {},
   "outputs": [],
   "source": [
    "# Informações da base\n",
    "GPS_I_H.info()"
   ]
  },
  {
   "cell_type": "code",
   "execution_count": null,
   "id": "bb1c426c",
   "metadata": {},
   "outputs": [],
   "source": [
    "# Formatando coluna com informaçãoes de data\n",
    "GPS_I_H['momento'] = pd.to_datetime(GPS_I_H['momento'],format= '%Y%m%d%H%M%S')"
   ]
  },
  {
   "cell_type": "code",
   "execution_count": null,
   "id": "edaf2f52",
   "metadata": {},
   "outputs": [],
   "source": [
    "GPS_I_H.info()"
   ]
  },
  {
   "cell_type": "code",
   "execution_count": null,
   "id": "5faf0671",
   "metadata": {},
   "outputs": [],
   "source": [
    "GPS_I_H.sort_values(\"momento\", inplace = True)"
   ]
  },
  {
   "cell_type": "code",
   "execution_count": null,
   "id": "3e56f7c5",
   "metadata": {},
   "outputs": [],
   "source": [
    "GPS_I_H"
   ]
  },
  {
   "cell_type": "markdown",
   "id": "53c75e45",
   "metadata": {},
   "source": [
    "## 1.1.1 lnspeção inicial"
   ]
  },
  {
   "cell_type": "code",
   "execution_count": null,
   "id": "2b063dcd",
   "metadata": {},
   "outputs": [],
   "source": [
    "GPS_I_H['linha'].unique()"
   ]
  },
  {
   "cell_type": "code",
   "execution_count": null,
   "id": "872455a3",
   "metadata": {},
   "outputs": [],
   "source": [
    "GPS_I_H.isnull().sum()"
   ]
  },
  {
   "cell_type": "code",
   "execution_count": 1,
   "id": "46b5e8be",
   "metadata": {},
   "outputs": [
    {
     "data": {
      "text/plain": [
       "' NENHUM VALOR NULO DOS REGISTROS DE 11_2023! '"
      ]
     },
     "execution_count": 1,
     "metadata": {},
     "output_type": "execute_result"
    }
   ],
   "source": [
    "''' NENHUM VALOR NULO DOS REGISTROS DE 11_2023! '''"
   ]
  },
  {
   "cell_type": "code",
   "execution_count": 2,
   "id": "86935d33",
   "metadata": {},
   "outputs": [
    {
     "data": {
      "text/plain": [
       "' VERIFICANDO REGISTROS ENTRE 6-7HORAS DA MANHÃ NO DIA 01 e 06 e 07 (dias uteis do mes) na região de interesse: '"
      ]
     },
     "execution_count": 2,
     "metadata": {},
     "output_type": "execute_result"
    }
   ],
   "source": [
    "''' VERIFICANDO REGISTROS ENTRE 6-7HORAS DA MANHÃ NO DIA 01 e 06 e 07 (dias uteis do mes) na região de interesse: '''"
   ]
  },
  {
   "cell_type": "code",
   "execution_count": null,
   "id": "c6097ea8",
   "metadata": {},
   "outputs": [],
   "source": [
    "# FILTRANDO DADOS DO VECIULO EM TRECHO DE INTERESSE\n",
    "registro_regiao = GPS_I_H[(GPS_I_H.latitude>=-3.73667)\n",
    "    & (GPS_I_H.longitude>=-38.56944) & (GPS_I_H.longitude<=-38.54167)\n",
    "                                & (GPS_I_H.latitude<=-3.73083)]"
   ]
  },
  {
   "cell_type": "code",
   "execution_count": null,
   "id": "eedff21b",
   "metadata": {},
   "outputs": [],
   "source": [
    "# FILTRO DIA 01\n",
    "dia_01_registros = registro_regiao[(registro_regiao.momento>=\n",
    "                '2023-11-01 06:00:00') & (registro_regiao.momento<='2023-11-01 07:00:00')]"
   ]
  },
  {
   "cell_type": "code",
   "execution_count": null,
   "id": "4e54c3d9",
   "metadata": {
    "scrolled": true
   },
   "outputs": [],
   "source": [
    "dia_01_registros"
   ]
  },
  {
   "cell_type": "code",
   "execution_count": null,
   "id": "271906c2",
   "metadata": {},
   "outputs": [],
   "source": [
    "dia_01_registros['id_veiculo'].unique()"
   ]
  },
  {
   "cell_type": "code",
   "execution_count": 3,
   "id": "1dca1c93",
   "metadata": {},
   "outputs": [
    {
     "data": {
      "text/plain": [
       "' OU SEJA SOMENTE REGISTRO DE 3 VEIUCLO NO DIA 01 NO TRECHO DE INTERESSE DE 6-7hs! '"
      ]
     },
     "execution_count": 3,
     "metadata": {},
     "output_type": "execute_result"
    }
   ],
   "source": [
    "''' OU SEJA SOMENTE REGISTRO DE 3 VEIUCLO NO DIA 01 NO TRECHO DE INTERESSE DE 6-7hs! '''"
   ]
  },
  {
   "cell_type": "code",
   "execution_count": null,
   "id": "dcad5207",
   "metadata": {},
   "outputs": [],
   "source": [
    "# FILTRO DIA 06\n",
    "dia_06_registros = registro_regiao[(registro_regiao.momento>=\n",
    "                '2023-11-06 06:00:00') & (registro_regiao.momento<='2023-11-06 07:00:00')]"
   ]
  },
  {
   "cell_type": "code",
   "execution_count": null,
   "id": "41da8769",
   "metadata": {
    "scrolled": true
   },
   "outputs": [],
   "source": [
    "dia_06_registros"
   ]
  },
  {
   "cell_type": "code",
   "execution_count": null,
   "id": "00693998",
   "metadata": {},
   "outputs": [],
   "source": [
    "dia_06_registros['id_veiculo'].unique()"
   ]
  },
  {
   "cell_type": "code",
   "execution_count": 4,
   "id": "d66e3d10",
   "metadata": {},
   "outputs": [
    {
     "data": {
      "text/plain": [
       "' MESMA SITUAÇÃO, POUCOS REGISTROS DE VECIULOS NESSE HORARIO! '"
      ]
     },
     "execution_count": 4,
     "metadata": {},
     "output_type": "execute_result"
    }
   ],
   "source": [
    "''' MESMA SITUAÇÃO, POUCOS REGISTROS DE VECIULOS NESSE HORARIO! '''"
   ]
  },
  {
   "cell_type": "code",
   "execution_count": null,
   "id": "df8b164c",
   "metadata": {},
   "outputs": [],
   "source": [
    "# FILTRO DIA 07\n",
    "dia_07_registros = registro_regiao[(registro_regiao.momento>=\n",
    "                '2023-11-07 06:00:00') & (registro_regiao.momento<='2023-11-07 07:00:00')]"
   ]
  },
  {
   "cell_type": "code",
   "execution_count": null,
   "id": "8445d881",
   "metadata": {
    "scrolled": true
   },
   "outputs": [],
   "source": [
    "dia_07_registros"
   ]
  },
  {
   "cell_type": "code",
   "execution_count": 5,
   "id": "2f0a2dbe",
   "metadata": {},
   "outputs": [
    {
     "data": {
      "text/plain": [
       "' O MESMO ACONTECE NO DIA 07, OU SEJA, NESSE HORARIO DE 6-7hs POSSIVELMENTE O GPS NÃO ATUALIZA O LAT LON CORRETAMENTE! '"
      ]
     },
     "execution_count": 5,
     "metadata": {},
     "output_type": "execute_result"
    }
   ],
   "source": [
    "''' O MESMO ACONTECE NO DIA 07, OU SEJA, NESSE HORARIO DE 6-7hs POSSIVELMENTE O GPS NÃO ATUALIZA O LAT LON CORRETAMENTE! '''"
   ]
  },
  {
   "cell_type": "markdown",
   "id": "a24ca827",
   "metadata": {},
   "source": [
    "# 2.0 Separando dias para geração e analises dos perfis veiculares"
   ]
  },
  {
   "cell_type": "code",
   "execution_count": null,
   "id": "319e26bc",
   "metadata": {},
   "outputs": [],
   "source": [
    "# Criando coluna de dias da semana de 0 = segunda e 6 = domingo\n",
    "GPS_I_H['dia_semana'] = GPS_I_H['momento'].dt.dayofweek"
   ]
  },
  {
   "cell_type": "code",
   "execution_count": null,
   "id": "944ac434",
   "metadata": {},
   "outputs": [],
   "source": [
    "# Reatribuindo dados do gps a variavel GPS_I_H para dias de segunda a sexta\n",
    "filtro_semana = GPS_I_H[GPS_I_H['dia_semana'] < 5]"
   ]
  },
  {
   "cell_type": "code",
   "execution_count": null,
   "id": "c916905f",
   "metadata": {},
   "outputs": [],
   "source": [
    "del GPS_I_H # Excluindo explicitamente base GPS completo"
   ]
  },
  {
   "cell_type": "code",
   "execution_count": null,
   "id": "8882ea39",
   "metadata": {},
   "outputs": [],
   "source": [
    "# Removendo dia 2,3 e 15 (feriados)\n",
    "filtro_uteis = filtro_semana[((filtro_semana.momento< '2023-11-01 23:59:59') | (filtro_semana.momento> '2023-11-03 23:59:59'))\n",
    "                             & ((filtro_semana.momento< '2023-11-14 23:59:59') | (filtro_semana.momento> '2023-11-15 23:59:59'))]"
   ]
  },
  {
   "cell_type": "code",
   "execution_count": null,
   "id": "545c8e72",
   "metadata": {},
   "outputs": [],
   "source": [
    "del filtro_semana # Excluindo explicitamente base GPS com feriados"
   ]
  },
  {
   "cell_type": "code",
   "execution_count": 6,
   "id": "b5725824",
   "metadata": {},
   "outputs": [
    {
     "data": {
      "text/plain": [
       "' o metodo será aplocado para extração das velcoidade filtrado intervalos dos dias, assim será criada uma coluna de momento curto '"
      ]
     },
     "execution_count": 6,
     "metadata": {},
     "output_type": "execute_result"
    }
   ],
   "source": [
    "''' o metodo será aplocado para extração das velcoidade filtrado intervalos dos dias, assim será criada uma coluna de momento curto '''"
   ]
  },
  {
   "cell_type": "code",
   "execution_count": null,
   "id": "b23722cd",
   "metadata": {},
   "outputs": [],
   "source": [
    "#  Criando coluna com dados de horario, minuto e segundos de registros do GPS \n",
    "filtro_uteis['momento_curto'] = filtro_uteis['momento'].dt.strftime('%H:%M:%S')"
   ]
  },
  {
   "cell_type": "code",
   "execution_count": null,
   "id": "4a090c4d",
   "metadata": {},
   "outputs": [],
   "source": [
    "filtro_uteis.info()"
   ]
  },
  {
   "cell_type": "code",
   "execution_count": null,
   "id": "eabc70d8",
   "metadata": {},
   "outputs": [],
   "source": [
    "filtro_uteis"
   ]
  },
  {
   "cell_type": "code",
   "execution_count": 7,
   "id": "0030e427",
   "metadata": {},
   "outputs": [
    {
     "data": {
      "text/plain": [
       "' BASE COM COLUNA DE MOMENTO CURTO CRIADA PARA FILTRAGEM DE INTERVALOS DE INTERESSE E DEIXADO NA BASE SOMENTE OS DIAS A SEREM GERADOS E ANALISADOS OS PERFIS VEICULARES '"
      ]
     },
     "execution_count": 7,
     "metadata": {},
     "output_type": "execute_result"
    }
   ],
   "source": [
    "''' BASE COM COLUNA DE MOMENTO CURTO CRIADA PARA FILTRAGEM DE INTERVALOS DE INTERESSE E DEIXADO NA BASE SOMENTE OS DIAS A SEREM GERADOS E ANALISADOS OS PERFIS VEICULARES '''"
   ]
  },
  {
   "cell_type": "markdown",
   "id": "6cf62f62",
   "metadata": {},
   "source": [
    "# 3.0 Extraindo velocidades veiculares a partir do GPS\n",
    "''' Esse algoritimo é aplicado por dia que se deseja fazer a analise '''"
   ]
  },
  {
   "cell_type": "markdown",
   "id": "dfccb228",
   "metadata": {},
   "source": [
    "## 3.1 Identificando linhas operando no trecho de interesse\n",
    "''' OBS: É NECESSÁRIO DEFINIR O HORARIO PARA GERAÇÃO E ANALISES DOS PERFIS '''"
   ]
  },
  {
   "cell_type": "code",
   "execution_count": 8,
   "id": "07eef3f4",
   "metadata": {},
   "outputs": [
    {
     "data": {
      "text/plain": [
       "' SERÁ IDENTIFICADAS AS LINHAS NESSA REGIÃO, POIS NÃO TEM NUMHUMA RUA OU AVENIDA QUE CORTA O TRECHO DE INTERESSE NA TRANSVERSAL E ASSIM POSSIVELMENTE NÃO TEM OUTRA LINHAS NESSES SENTIDOS: -3.734498870509772, -38.55723488359994; -3.733084073193523, -38.55346122624892 '"
      ]
     },
     "execution_count": 8,
     "metadata": {},
     "output_type": "execute_result"
    }
   ],
   "source": [
    "''' SERÁ IDENTIFICADAS AS LINHAS NESSA REGIÃO, POIS NÃO TEM NUMHUMA RUA OU AVENIDA QUE CORTA O TRECHO DE INTERESSE NA TRANSVERSAL E ASSIM POSSIVELMENTE NÃO TEM OUTRA LINHAS NESSES SENTIDOS: -3.734498870509772, -38.55723488359994; -3.733084073193523, -38.55346122624892 '''"
   ]
  },
  {
   "cell_type": "code",
   "execution_count": null,
   "id": "cc3db221",
   "metadata": {},
   "outputs": [],
   "source": [
    "# FILTRANDO VALIDAÇÕES EM TRECHO ESPECIFICO \n",
    "validacoes_trecho = filtro_uteis[(filtro_uteis.latitude>=-3.734498870509772)\n",
    "    & (filtro_uteis.longitude>=-38.55723488359994) & (filtro_uteis.longitude<=-38.55346122624892)\n",
    "                                & (filtro_uteis.latitude<=-3.733084073193523)]"
   ]
  },
  {
   "cell_type": "code",
   "execution_count": null,
   "id": "cd3b3b03",
   "metadata": {},
   "outputs": [],
   "source": [
    "# VALIDAÇOES NOS DIAS UTEIS DO MES NA REGIÃO DE INTERESSE \n",
    "validacoes_trecho"
   ]
  },
  {
   "cell_type": "code",
   "execution_count": 9,
   "id": "40eeba9c",
   "metadata": {},
   "outputs": [
    {
     "data": {
      "text/plain": [
       "' OBS: É INTERESSANTE FILTAR O HORARIO PARA GERAÇÃO DE PERFIS EM INTERVALOS CURTOS, PARA QUE NÃO SE TENHA SOBREPOSIÇÃO DE REGISTROS DE UM MESMO VEICULO NO MESMO HORARIO '"
      ]
     },
     "execution_count": 9,
     "metadata": {},
     "output_type": "execute_result"
    }
   ],
   "source": [
    "''' OBS: É INTERESSANTE FILTAR O HORARIO PARA GERAÇÃO DE PERFIS EM INTERVALOS CURTOS, PARA QUE NÃO SE TENHA SOBREPOSIÇÃO DE REGISTROS DE UM MESMO VEICULO NO MESMO HORARIO '''"
   ]
  },
  {
   "cell_type": "code",
   "execution_count": null,
   "id": "051dbab9",
   "metadata": {
    "scrolled": true
   },
   "outputs": [],
   "source": [
    "# LINHAS NA REGIÃO E NO HORARIO  \n",
    "linhas = validacoes_trecho['linha'].unique()\n",
    "linhas"
   ]
  },
  {
   "cell_type": "markdown",
   "id": "0013dbdd",
   "metadata": {},
   "source": [
    "## 3.2 Identificação de veiculos na região de interesse"
   ]
  },
  {
   "cell_type": "code",
   "execution_count": null,
   "id": "f4659549",
   "metadata": {},
   "outputs": [],
   "source": [
    "# FILTRANDO DADOS DO VECIULO EM TRECHO DE INTERESSE (completo!)\n",
    "viculos_especificos__ = filtro_uteis[(filtro_uteis.latitude>=-3.73667)\n",
    "    & (filtro_uteis.longitude>=-38.56944) & (filtro_uteis.longitude<=-38.54167)\n",
    "                                & (filtro_uteis.latitude<=-3.73083)]"
   ]
  },
  {
   "cell_type": "code",
   "execution_count": 10,
   "id": "8afed747",
   "metadata": {},
   "outputs": [
    {
     "data": {
      "text/plain": [
       "' Foi atribuido um trecho para captação dos registro do GPS antes e depois do trecho real de interesse: Comeco ((-3.73667, -38.56944)) e Fim (-3.73083, -38.54167) '"
      ]
     },
     "execution_count": 10,
     "metadata": {},
     "output_type": "execute_result"
    }
   ],
   "source": [
    "''' Foi atribuido um trecho para captação dos registro do GPS antes e depois do trecho real de interesse: Comeco ((-3.73667, -38.56944)) e Fim (-3.73083, -38.54167) ''' "
   ]
  },
  {
   "cell_type": "code",
   "execution_count": null,
   "id": "0c4c93fa",
   "metadata": {},
   "outputs": [],
   "source": [
    "# Filtrando os registros no horario de pico do dia a ser extraido as velocidades\n",
    "viculos_especificos_TRECHO__ = viculos_especificos__[(viculos_especificos__.momento_curto>=\n",
    "                '17:00:00') & (viculos_especificos__.momento_curto<='18:00:00')]"
   ]
  },
  {
   "cell_type": "code",
   "execution_count": null,
   "id": "7b2124c7",
   "metadata": {},
   "outputs": [],
   "source": [
    "# Colocando coluna de momento em ordem\n",
    "viculos_especificos_TRECHO_= viculos_especificos_TRECHO__.sort_values('momento')"
   ]
  },
  {
   "cell_type": "code",
   "execution_count": null,
   "id": "07ba7e1c",
   "metadata": {
    "scrolled": false
   },
   "outputs": [],
   "source": [
    "viculos_especificos_TRECHO_"
   ]
  },
  {
   "cell_type": "code",
   "execution_count": null,
   "id": "1e2d1dd8",
   "metadata": {},
   "outputs": [],
   "source": [
    "# CASO DESEJE APLICAR PARA PERFIS DE LINHA ESPECIFICA:\n",
    "# viculos_especificos_TRECHO_ = viculos_especificos_TRECHO_[viculos_especificos_TRECHO_.linha== 222] # ex: linha 222!"
   ]
  },
  {
   "cell_type": "code",
   "execution_count": null,
   "id": "6cde29dc",
   "metadata": {
    "scrolled": true
   },
   "outputs": [],
   "source": [
    "# Criando coluna geometrica\n",
    "viculos_especificos_TRECHO_['geometry'] = viculos_especificos_TRECHO_.apply(lambda x: Point((float(x.latitude), float(x.longitude))), axis=1)"
   ]
  },
  {
   "cell_type": "code",
   "execution_count": null,
   "id": "764f743a",
   "metadata": {
    "scrolled": true
   },
   "outputs": [],
   "source": [
    "# Criando geodataframe \n",
    "viculos_especificos_TRECHO_ = gpd.GeoDataFrame(viculos_especificos_TRECHO_, geometry='geometry')"
   ]
  },
  {
   "cell_type": "code",
   "execution_count": null,
   "id": "22184175",
   "metadata": {},
   "outputs": [],
   "source": [
    "viculos_especificos_TRECHO_"
   ]
  },
  {
   "cell_type": "markdown",
   "id": "d8a0b13c",
   "metadata": {},
   "source": [
    "## 3.3 Analise Espacial \n",
    "'' OBS: QUANDO SE CLICA NOS PONTOS NO MAPA É POSSIVEL VER OS REGISTROS E QUAIS VEICULOS ESTÃO RELAMENTE NA DIREÇÃO DO TRECHO DE ESTUDO, ASSIM SERÃO REMOVIDOS AQUELES QUE NÃO OBEDECEREM ESSA CONDIÇÃO '''"
   ]
  },
  {
   "cell_type": "markdown",
   "id": "f097d296",
   "metadata": {},
   "source": [
    "### 3.3.1 Vizualização dos dados no trecho"
   ]
  },
  {
   "cell_type": "code",
   "execution_count": null,
   "id": "8021e29e",
   "metadata": {},
   "outputs": [],
   "source": [
    "# Criando media para visulização do mapa proximo a região dos dados geometricos\n",
    "lon = viculos_especificos_TRECHO_['longitude'].mean()\n",
    "lat = viculos_especificos_TRECHO_['latitude'].mean()"
   ]
  },
  {
   "cell_type": "code",
   "execution_count": null,
   "id": "fe020d70",
   "metadata": {},
   "outputs": [],
   "source": [
    "# Criando um mapa centrado em nos registros em FORTALEZA\n",
    "# mapa_viculo_especifico_TRECHO = folium.Map(location=[lat, lon], zoom_start=5)\n",
    "\n",
    "# Função para gerar o conteúdo do popup\n",
    "# def popup_content(id_veiculo, id_veiculo_clicado):\n",
    "#     cor_popup = 'blue' if id_veiculo != id_veiculo_clicado else 'red'\n",
    "#    return f'<div style=\"color: {cor_popup};\">{id_veiculo}</div>'\n",
    "\n",
    "# Criando o MarkerCluster\n",
    "#marker_cluster = MarkerCluster().add_to(mapa_viculo_especifico_TRECHO)\n",
    "\n",
    "# Adicionando os marcadores ao cluster em vez de diretamente ao mapa\n",
    "#for index, row in viculos_especificos_TRECHO_.iterrows():\n",
    "#    folium.Marker(\n",
    "#        location=[row['latitude'], row['longitude']],\n",
    "#        icon=folium.Icon(icon='glyphicon-pushpin', color='blue'),\n",
    "#        popup=folium.Popup(popup_content(row['id_veiculo'], ''), max_width=300)\n",
    "#    ).add_to(marker_cluster)"
   ]
  },
  {
   "cell_type": "code",
   "execution_count": null,
   "id": "4115602d",
   "metadata": {
    "scrolled": false
   },
   "outputs": [],
   "source": [
    "# mapa_viculo_especifico_TRECHO"
   ]
  },
  {
   "cell_type": "code",
   "execution_count": 11,
   "id": "f4fad8fb",
   "metadata": {},
   "outputs": [
    {
     "data": {
      "text/plain": [
       "' A PARTIR DESSA ANALISE É POSSIVEL VERIFICAR QUE APENAS COM O FILTRO ESPACIAL EXISTEM VEICULOS QUE NÃO ESTÃO NA ROTA DE ESTUDO '"
      ]
     },
     "execution_count": 11,
     "metadata": {},
     "output_type": "execute_result"
    }
   ],
   "source": [
    "''' A PARTIR DESSA ANALISE É POSSIVEL VERIFICAR QUE APENAS COM O FILTRO ESPACIAL EXISTEM VEICULOS QUE NÃO ESTÃO NA ROTA DE ESTUDO '''"
   ]
  },
  {
   "cell_type": "markdown",
   "id": "e772c1d3",
   "metadata": {},
   "source": [
    "### 3.3.2 Tratamento espacial\n",
    "''' Como são muitos pontos fora da rota, iremos criar um poligono e filtrar os registros dentro deste '''"
   ]
  },
  {
   "cell_type": "code",
   "execution_count": null,
   "id": "9fe3c1ac",
   "metadata": {},
   "outputs": [],
   "source": [
    "# Definindo o polígono da rota da Avenida Bezerra de Menezes\n",
    "polygon_coords = [\n",
    "    (-3.73667, -38.56944),\n",
    "    (-3.736849494989972, -38.5694049332511),\n",
    "    (-3.7365163965678407, -38.56766822912734),\n",
    "    (-3.7353274286377487, -38.56200455534079),\n",
    "    (-3.7339173396045293, -38.554907846078386),\n",
    "    (-3.732780710996037, -38.54946365551903),\n",
    "    (-3.7320059683399855, -38.54575810102139),\n",
    "    (-3.731064497340683, -38.54163534630501),\n",
    "    (-3.7315660320364357, -38.54574199080628),\n",
    "    (-3.7324918066930017, -38.55026979714917),\n",
    "    (-3.7335601222379684, -38.55554285351419),\n",
    "    (-3.734628031910939, -38.560965217226546),\n",
    "    (-3.7358612998322682, -38.56677042320314),\n",
    "    (-3.7365111312489647, -38.56946314519871),\n",
    "    (-3.73083, -38.54167),\n",
    "    (-3.73667, -38.56944)  # Fechando o polígono com o ponto inicial\n",
    "]\n",
    "\n",
    "polygon = Polygon(polygon_coords)"
   ]
  },
  {
   "cell_type": "code",
   "execution_count": null,
   "id": "59108a88",
   "metadata": {},
   "outputs": [],
   "source": [
    "polygon # poligono bezerra"
   ]
  },
  {
   "cell_type": "code",
   "execution_count": null,
   "id": "3f57b6e2",
   "metadata": {},
   "outputs": [],
   "source": [
    "# Verificar quais pontos estão dentro do polígono\n",
    "viculos_especificos_TRECHO = viculos_especificos_TRECHO_[viculos_especificos_TRECHO_.geometry.within(polygon)]"
   ]
  },
  {
   "cell_type": "code",
   "execution_count": null,
   "id": "98d63274",
   "metadata": {},
   "outputs": [],
   "source": [
    "# REGISTROS DO GPS DENTRO DO POLIGONO\n",
    "viculos_especificos_TRECHO"
   ]
  },
  {
   "cell_type": "code",
   "execution_count": 12,
   "id": "d25e852f",
   "metadata": {},
   "outputs": [
    {
     "data": {
      "text/plain": [
       "' VISUALIZAÇÃO DE REGISTROS APOS FILTRO: '"
      ]
     },
     "execution_count": 12,
     "metadata": {},
     "output_type": "execute_result"
    }
   ],
   "source": [
    "''' VISUALIZAÇÃO DE REGISTROS APOS FILTRO: '''"
   ]
  },
  {
   "cell_type": "code",
   "execution_count": null,
   "id": "9fc46471",
   "metadata": {
    "scrolled": true
   },
   "outputs": [],
   "source": [
    "lat_2 = viculos_especificos_TRECHO['latitude'].mean()\n",
    "lon_2 = viculos_especificos_TRECHO['longitude'].mean()\n",
    "\n",
    "# Criando um mapa centrado em FORTALEZA\n",
    "import folium\n",
    "from folium.plugins import MarkerCluster\n",
    "\n",
    "mapa = folium.Map(location=[lat_2, lon_2], zoom_start=5)\n",
    "\n",
    "# Adicionando marcadores circulares ao mapa\n",
    "marker_cluster = MarkerCluster().add_to(mapa)\n",
    "\n",
    "def popup_content(id_veiculo, id_veiculo_clicado):\n",
    "    cor_popup = 'blue' if id_veiculo != id_veiculo_clicado else 'red'\n",
    "    return f'<div style=\"color: {cor_popup};\">{id_veiculo}</div>'\n",
    "\n",
    "for index, row in viculos_especificos_TRECHO.iterrows():\n",
    "    folium.CircleMarker(location=[row['latitude'], row['longitude']],\n",
    "                        radius=10,\n",
    "                        color='black',\n",
    "                        fill=True,\n",
    "                        fill_color='red',\n",
    "                        fill_opacity=0.6,\n",
    "                        popup=folium.Popup(popup_content(row['id_veiculo'], ''), max_width=300)).add_to(marker_cluster)\n",
    "\n",
    "mapa"
   ]
  },
  {
   "cell_type": "code",
   "execution_count": 13,
   "id": "6ba06229",
   "metadata": {},
   "outputs": [
    {
     "data": {
      "text/plain": [
       "' ASSIM, TEMOS TODOS OS REGISTROS AO LONGO DO TRECHO DE INTERESSE, MES E NO HORARIO '"
      ]
     },
     "execution_count": 13,
     "metadata": {},
     "output_type": "execute_result"
    }
   ],
   "source": [
    "''' ASSIM, TEMOS TODOS OS REGISTROS AO LONGO DO TRECHO DE INTERESSE, MES E NO HORARIO '''"
   ]
  },
  {
   "cell_type": "markdown",
   "id": "e8c27fb5",
   "metadata": {},
   "source": [
    "## _3.4 Criando lista com um df para cada veiculo das linhas filtradas_"
   ]
  },
  {
   "cell_type": "code",
   "execution_count": 14,
   "id": "d1e277c7",
   "metadata": {},
   "outputs": [
    {
     "data": {
      "text/plain": [
       "' Criando função para pegar os dados de um mesmo veiculo e no mesmo dia e separar em diferentes dfs, alem de quando a diferença no tempo for maior que 2 minutos separar em df diferente, pois possivelmente o veiculo estará no meso trecho, mas no sentido contrário. '"
      ]
     },
     "execution_count": 14,
     "metadata": {},
     "output_type": "execute_result"
    }
   ],
   "source": [
    "''' Criando função para pegar os dados de um mesmo veiculo e no mesmo dia e separar em diferentes dfs, alem de quando a diferença no tempo for maior que 2 minutos separar em df diferente, pois possivelmente o veiculo estará no meso trecho, mas no sentido contrário. '''"
   ]
  },
  {
   "cell_type": "code",
   "execution_count": null,
   "id": "6c008f97",
   "metadata": {},
   "outputs": [],
   "source": [
    "# Função para separar pelo criterio\n",
    "def agrupar_por_ids(viculos_especificos_TRECHO):    \n",
    "    # Agrupando dados por id_veiculo e data (extraindo apenas a data sem a hora)\n",
    "    grupos = viculos_especificos_TRECHO.groupby(['id_veiculo', viculos_especificos_TRECHO['momento'].dt.date])\n",
    "    \n",
    "    # Lista para guardar os GeoDataFrames\n",
    "    geodataframes = []\n",
    "    \n",
    "    # Iterando sobre os grupos \n",
    "    for _, grupo in grupos:\n",
    "        # Ordenando o grupo pela coluna de data\n",
    "        grupo = grupo.sort_values(by='momento')\n",
    "        \n",
    "        # Lista para guardar os GeoDataFrames de um mesmo dia\n",
    "        daily_geodataframes = []\n",
    "        temp_list = [grupo.iloc[0]]  # Lista temporária para armazenar registros\n",
    "        \n",
    "        # Iterando sobre o grupo ordenado\n",
    "        for i in range(1, len(grupo)):\n",
    "            # Verificando a diferença de tempo entre registros consecutivos\n",
    "            diff = grupo.iloc[i]['momento'] - grupo.iloc[i-1]['momento']\n",
    "            if diff > pd.Timedelta(minutes=2):\n",
    "                # Se a diferença for maior que 2 minutos, criar um novo GeoDataFrame\n",
    "                temp_df = pd.DataFrame(temp_list)\n",
    "                geo_df = gpd.GeoDataFrame(temp_df, geometry=gpd.points_from_xy(temp_df.longitude, temp_df.latitude))\n",
    "                daily_geodataframes.append(geo_df)\n",
    "                temp_list = [grupo.iloc[i]]\n",
    "            else:\n",
    "                # Se a diferença for menor ou igual a 2 minutos, adicionar à lista temporária\n",
    "                temp_list.append(grupo.iloc[i])\n",
    "        \n",
    "        # Adicionando o último grupo de registros\n",
    "        if temp_list:\n",
    "            temp_df = pd.DataFrame(temp_list)\n",
    "            geo_df = gpd.GeoDataFrame(temp_df, geometry=gpd.points_from_xy(temp_df.longitude, temp_df.latitude))\n",
    "            daily_geodataframes.append(geo_df)\n",
    "        \n",
    "        # Adicionando os GeoDataFrames diários à lista principal\n",
    "        geodataframes.extend(daily_geodataframes)\n",
    "        \n",
    "    return geodataframes"
   ]
  },
  {
   "cell_type": "code",
   "execution_count": null,
   "id": "5dad5951",
   "metadata": {
    "scrolled": true
   },
   "outputs": [],
   "source": [
    "# Aplicando a função\n",
    "viculos_especificos_TRECHO__n = agrupar_por_ids(viculos_especificos_TRECHO)"
   ]
  },
  {
   "cell_type": "code",
   "execution_count": null,
   "id": "32309458",
   "metadata": {},
   "outputs": [],
   "source": [
    "# Quantidade de df com dados de mesmo veiculo em tempo seguindo e no mesmo dia\n",
    "len(viculos_especificos_TRECHO__n)"
   ]
  },
  {
   "cell_type": "code",
   "execution_count": null,
   "id": "be7f7155",
   "metadata": {
    "scrolled": true
   },
   "outputs": [],
   "source": [
    "# Visualizando df especifico \n",
    "viculos_especificos_TRECHO__n[0]"
   ]
  },
  {
   "cell_type": "markdown",
   "id": "d8b1df69",
   "metadata": {},
   "source": [
    "## 3.5 Extraindo velocidades instantâneas para veiculos especificos"
   ]
  },
  {
   "cell_type": "code",
   "execution_count": null,
   "id": "c916754d",
   "metadata": {},
   "outputs": [],
   "source": [
    "# Colocando coluna de momento de cada df das lista\n",
    "# Função para processar um DataFrame\n",
    "def ordem_df(df):\n",
    "    # Ordenar o DataFrame pela coluna 'momento'\n",
    "    df = df.sort_values('momento')\n",
    "    \n",
    "    # Restaurando o índice do DataFrame após a ordenação\n",
    "    df = df.reset_index(drop=True)    \n",
    "    return df\n",
    "\n",
    "# Aplicando a função para cada DataFrame na lista\n",
    "viculos_especificos_TRECHO__ordem = [ordem_df(df) for df in viculos_especificos_TRECHO__n]"
   ]
  },
  {
   "cell_type": "code",
   "execution_count": null,
   "id": "5e51b53b",
   "metadata": {},
   "outputs": [],
   "source": [
    "# Criando função para criar coluna de gemetrica anterior em cada DataFrame\n",
    "def processar_dataframe_dist(df):\n",
    "    df['geometry_anterior'] = df['geometry'].shift(1)\n",
    "    return df"
   ]
  },
  {
   "cell_type": "code",
   "execution_count": null,
   "id": "a26ce8c2",
   "metadata": {},
   "outputs": [],
   "source": [
    "# Aplicando a função para cada DataFrame na lista\n",
    "viculos_especificos_TRECHO_geo_ant = [processar_dataframe_dist(df) for df in viculos_especificos_TRECHO__ordem]"
   ]
  },
  {
   "cell_type": "code",
   "execution_count": null,
   "id": "a46ee4b5",
   "metadata": {
    "scrolled": true
   },
   "outputs": [],
   "source": [
    "# Acesso ao resultado, por exemplo, para o primeiro DataFrame na lista processada\n",
    "primeiro_dataframe_processado = viculos_especificos_TRECHO_geo_ant[0]\n",
    "primeiro_dataframe_processado"
   ]
  },
  {
   "cell_type": "code",
   "execution_count": null,
   "id": "1e380316",
   "metadata": {},
   "outputs": [],
   "source": [
    "# Criando função para criar coluna de momento anterior em cada DataFrame\n",
    "def processar_dataframe_momento(df):\n",
    "    df['momento_anterior'] = df['momento'].shift(1)\n",
    "    return df\n",
    "\n",
    "# Aplicando a função para cada DataFrame na lista\n",
    "viculos_especificos_TRECHO_geo_mom_ant = [processar_dataframe_momento(df) for df in viculos_especificos_TRECHO_geo_ant]"
   ]
  },
  {
   "cell_type": "code",
   "execution_count": null,
   "id": "70322e00",
   "metadata": {
    "scrolled": true
   },
   "outputs": [],
   "source": [
    "# Acessando a resultado, por exemplo, para o primeiro DataFrame na lista processada\n",
    "primeiro_dataframe_processado = viculos_especificos_TRECHO_geo_mom_ant[1]\n",
    "primeiro_dataframe_processado"
   ]
  },
  {
   "cell_type": "code",
   "execution_count": null,
   "id": "0013cbb9",
   "metadata": {
    "scrolled": true
   },
   "outputs": [],
   "source": [
    "# Função para calcular distância entre pontos\n",
    "def calcular_distancia(row):\n",
    "    if row['geometry'] is None or row['geometry_anterior'] is None:\n",
    "        return None\n",
    "    return geodesic((row.geometry.x, row.geometry.y), (row.geometry_anterior.x, row.geometry_anterior.y)).meters\n",
    "\n",
    "# Função para processar um DataFrame\n",
    "def processar_distancia(df):\n",
    "    df['distancia'] = df.apply(calcular_distancia, axis=1)\n",
    "    return df"
   ]
  },
  {
   "cell_type": "code",
   "execution_count": null,
   "id": "f9f3c6ad",
   "metadata": {
    "scrolled": true
   },
   "outputs": [],
   "source": [
    "# Aplicando a função para cada DataFrame na lista\n",
    "viculos_especificos_TRECHO_dist_ = [processar_distancia(df) for df in viculos_especificos_TRECHO_geo_mom_ant]"
   ]
  },
  {
   "cell_type": "code",
   "execution_count": null,
   "id": "f5bc6943",
   "metadata": {
    "scrolled": true
   },
   "outputs": [],
   "source": [
    "viculos_especificos_TRECHO_dist_[0]"
   ]
  },
  {
   "cell_type": "code",
   "execution_count": null,
   "id": "d6426cc9",
   "metadata": {},
   "outputs": [],
   "source": [
    "# Função para calcular a diferença de tempo\n",
    "def calcular_diferenca_tempo(row):\n",
    "    if pd.isnull(row['momento']) or pd.isnull(row['momento_anterior']):\n",
    "        return None\n",
    "    return (row['momento'] - row['momento_anterior']).total_seconds()\n",
    "\n",
    "# Função para processar um GeoDataFrame\n",
    "def processar_geodataframe_temp(gdf):\n",
    "    # Aplicar a função calcular_diferenca_tempo à coluna 'momento' e criar nova coluna 'deltaT'\n",
    "    gdf['deltaT'] = gdf.apply(calcular_diferenca_tempo, axis=1)\n",
    "    \n",
    "    # Converter a coluna 'deltaT' para o tipo de dados float\n",
    "    gdf['deltaT'] = gdf['deltaT'].astype('float')\n",
    "    \n",
    "    # Adicionar outras operações ou transformações conforme necessário\n",
    "    \n",
    "    return gdf"
   ]
  },
  {
   "cell_type": "code",
   "execution_count": null,
   "id": "09b90e36",
   "metadata": {},
   "outputs": [],
   "source": [
    "# Aplicando função \n",
    "viculos_especificos_TRECHO_dist_temp = [processar_geodataframe_temp(gdf) for gdf in viculos_especificos_TRECHO_dist_]"
   ]
  },
  {
   "cell_type": "code",
   "execution_count": null,
   "id": "661183d5",
   "metadata": {},
   "outputs": [],
   "source": [
    "# Função para calcular a velocidade instantânea\n",
    "def calcular_velocidade_instantanea(row):\n",
    "    if pd.isnull(row['distancia']) or pd.isnull(row['deltaT']) or row['deltaT'] == 0:\n",
    "        return None\n",
    "    return row['distancia'] / row['deltaT']\n",
    "\n",
    "# Função para processar um GeoDataFrame\n",
    "def processar_geodataframe_velocidade(gdf):\n",
    "    # Calcular a velocidade instantânea\n",
    "    gdf['velocidade'] = gdf.apply(calcular_velocidade_instantanea, axis=1)\n",
    "    \n",
    "    return gdf"
   ]
  },
  {
   "cell_type": "code",
   "execution_count": null,
   "id": "fef24dc6",
   "metadata": {},
   "outputs": [],
   "source": [
    "#########################_________Aplicando a função para cada GeoDataFrame na lista processada__________#######################\n",
    "viculos_especificos_TRECHO_velocidade_tudo = [processar_geodataframe_velocidade(gdf) for gdf in \n",
    "                                              viculos_especificos_TRECHO_dist_temp]\n",
    "################################################################################################################################"
   ]
  },
  {
   "cell_type": "code",
   "execution_count": null,
   "id": "8a9ca231",
   "metadata": {
    "scrolled": true
   },
   "outputs": [],
   "source": [
    "viculos_especificos_TRECHO_velocidade_tudo[0]"
   ]
  },
  {
   "cell_type": "code",
   "execution_count": null,
   "id": "79c52675",
   "metadata": {},
   "outputs": [],
   "source": [
    "# Dropando colunas desnecessárias \n",
    "# Lista de colunas a serem removidas\n",
    "colunas_desnecessarias = ['geometry_anterior', 'momento_anterior', 'distancia']\n",
    "\n",
    "# Função para remover colunas desnecessárias\n",
    "def remover_colunas_desnecessarias(gdf):\n",
    "    # Remover as colunas desnecessárias\n",
    "    gdf = gdf.drop(columns=colunas_desnecessarias, errors='ignore')\n",
    "    \n",
    "    # Adicionar outras operações ou transformações conforme necessário\n",
    "    \n",
    "    return gdf"
   ]
  },
  {
   "cell_type": "code",
   "execution_count": null,
   "id": "d5b4768f",
   "metadata": {},
   "outputs": [],
   "source": [
    "# Aplicando a função para cada GeoDataFrame na lista de velocidades\n",
    "viculos_especificos_TRECHO_velocidades = [remover_colunas_desnecessarias(gdf) for gdf in viculos_especificos_TRECHO_velocidade_tudo]"
   ]
  },
  {
   "cell_type": "code",
   "execution_count": null,
   "id": "59689892",
   "metadata": {
    "scrolled": true
   },
   "outputs": [],
   "source": [
    "# Versão final da lista com df para todos os veiculos da lista (filtrando df2, que é o elemento 1 da lista!)\n",
    "viculos_especificos_TRECHO_velocidades[1]"
   ]
  },
  {
   "cell_type": "markdown",
   "id": "58e44f5d",
   "metadata": {},
   "source": [
    "## 3.6 Adicioando dados da primeira parada \n",
    "''' Utilizando como ponto de referencia a parada inicial para perfis de velocidades de veiculos no sentido da primeira estação centro, e como referencia a ultima estação no sentido contrario '''"
   ]
  },
  {
   "cell_type": "code",
   "execution_count": null,
   "id": "f7dc2adc",
   "metadata": {},
   "outputs": [],
   "source": [
    "# Trazendo base com as paradas de interesse\n",
    "paradas_interesse = pd.read_excel('paradas_interesse_tudo_com_distancias.xlsx')"
   ]
  },
  {
   "cell_type": "code",
   "execution_count": null,
   "id": "86abd379",
   "metadata": {
    "scrolled": true
   },
   "outputs": [],
   "source": [
    "paradas_interesse"
   ]
  },
  {
   "cell_type": "code",
   "execution_count": null,
   "id": "b9748022",
   "metadata": {},
   "outputs": [],
   "source": [
    "# Tramanho do trecho\n",
    "display(paradas_interesse['distancia'].sum())"
   ]
  },
  {
   "cell_type": "code",
   "execution_count": null,
   "id": "22e5a58d",
   "metadata": {},
   "outputs": [],
   "source": [
    "# CRIANDO DF COM OS DADOS GEOMETRICOS DA 1ª PARADA E DA ULTIMA PARA DISTANCIA EM RELAÇÃO A UMA OU OUTRA\n",
    "# USA-SE OS DADOS GEOMETRICOS DA ULTIMA PARADA QUANDO QUEREMOS OS VEICULOS NA VOLTA! \n",
    "data_ = ['2018-11-01 00:00:00']\n",
    "data = pd.to_datetime(data_)\n",
    "df_paradadas_  = {'latitude': [-3.736013],\n",
    "                  'longitude': [-38.566300],\n",
    "                  'id_veiculo': [np.nan],\n",
    "                  'momento': [np.nan],\n",
    "                  'geometry': [np.nan],\n",
    "                  'deltaT': [np.nan],\n",
    "                  'velocidade':  [np.nan],\n",
    "                \n",
    "        }\n",
    "\n",
    "df_paradadas__ = pd.DataFrame(df_paradadas_)\n",
    "df_paradadas__['momento'] = data\n",
    "df_paradadas__"
   ]
  },
  {
   "cell_type": "code",
   "execution_count": null,
   "id": "fd7b507d",
   "metadata": {},
   "outputs": [],
   "source": [
    "# Info dos dados \n",
    "df_paradadas__.info()"
   ]
  },
  {
   "cell_type": "code",
   "execution_count": null,
   "id": "0fb28782",
   "metadata": {},
   "outputs": [],
   "source": [
    "# Criando a informação da geometria no df\n",
    "df_paradadas__['geometry'] = df_paradadas__.apply(lambda x: Point((float(x.longitude), float(x.latitude))), axis=1)"
   ]
  },
  {
   "cell_type": "code",
   "execution_count": null,
   "id": "0c445883",
   "metadata": {},
   "outputs": [],
   "source": [
    "df_paradadas__"
   ]
  },
  {
   "cell_type": "code",
   "execution_count": null,
   "id": "e64ae85c",
   "metadata": {},
   "outputs": [],
   "source": [
    " # Convertendo a coluna 'nova_geometria' para a coluna de geometria principal\n",
    "df_paradada_inicio = gpd.GeoDataFrame(df_paradadas__, geometry='geometry')"
   ]
  },
  {
   "cell_type": "code",
   "execution_count": null,
   "id": "2e8e42c1",
   "metadata": {},
   "outputs": [],
   "source": [
    "df_paradada_inicio"
   ]
  },
  {
   "cell_type": "code",
   "execution_count": null,
   "id": "345c1692",
   "metadata": {},
   "outputs": [],
   "source": [
    "''' CRIANDO MESMO DF COM INFROMAÇÕES GEOMETRICAS DA ULTIMA PARADA '''\n",
    "df_paradada_fim = df_paradada_inicio.copy()\n",
    "df_paradada_fim['latitude'] = [-3.731264]\n",
    "df_paradada_fim['longitude'] = [-38.543328]\n",
    "\n",
    " # Atualizando a coluna 'nova_geometria' para a coluna de geometria principal\n",
    "df_paradada_fim['geometry'] = df_paradada_fim.apply(lambda x: Point((float(x.longitude), float(x.latitude))), axis=1)"
   ]
  },
  {
   "cell_type": "code",
   "execution_count": null,
   "id": "32a84594",
   "metadata": {},
   "outputs": [],
   "source": [
    "df_paradada_inicio"
   ]
  },
  {
   "cell_type": "code",
   "execution_count": null,
   "id": "916dd085",
   "metadata": {},
   "outputs": [],
   "source": [
    "df_paradada_fim"
   ]
  },
  {
   "cell_type": "markdown",
   "id": "a54c28e8",
   "metadata": {},
   "source": [
    "## 3.7 Filtrando dados no seguimento para cada df da lista"
   ]
  },
  {
   "cell_type": "code",
   "execution_count": null,
   "id": "e4689a6c",
   "metadata": {},
   "outputs": [],
   "source": [
    "# FILTRANDO DADOS PARA SEGUIMENTO ENTRE A PRIMERA E ULTIMA PARADA DE INTERESSE\n",
    "def filtrar_por_seguimento_(gdf):\n",
    "    # Aplicar o filtro\n",
    "    filtro = (gdf['longitude'] >= -38.566300) & (gdf['longitude'] <= -38.543328)\n",
    "    gdf_filtrado = gdf[filtro]\n",
    "    \n",
    "    return gdf_filtrado\n",
    "\n",
    "# Aplicando a função para cada GeoDataFrame na lista sem colunas desnecessárias\n",
    "resultados = [filtrar_por_seguimento_(gdf) for gdf in viculos_especificos_TRECHO_velocidades]"
   ]
  },
  {
   "cell_type": "code",
   "execution_count": null,
   "id": "dce85d0a",
   "metadata": {
    "scrolled": true
   },
   "outputs": [],
   "source": [
    "# Acessando resultado para o segundo dataframe que é o elemento com indice 01\n",
    "resultados[0]"
   ]
  },
  {
   "cell_type": "markdown",
   "id": "e282db9e",
   "metadata": {},
   "source": [
    "## 3.7.1 Adequando colunas para padronização das distancias dos perfis\n",
    "*  SE DEVE ADICIONAR OS DADOS DA ESTAÇÃO PARA PEGAR OS VEICULOS EM OPERAÇÃO NO SENTIDO A PARTIR DELA;\n",
    "* EXEMPLO: VEICULOS VOLTA SE DEVE ADICOANR DADSOS DA PARADA FIM!"
   ]
  },
  {
   "cell_type": "code",
   "execution_count": null,
   "id": "6b61bafc",
   "metadata": {},
   "outputs": [],
   "source": [
    "#  ADICIONANDO DADOS DA ESTAÇÃO PARA CALCULOS DE DISTANCIAS \n",
    "from pandas import concat  \n",
    "\n",
    "# Concatenando os dataframes, adicionando a nova coluna\n",
    "for i, gpf in enumerate(resultados):\n",
    "    resultados[i]  = gpf.append(df_paradada_fim, ignore_index=True)"
   ]
  },
  {
   "cell_type": "code",
   "execution_count": null,
   "id": "c168269f",
   "metadata": {
    "scrolled": true
   },
   "outputs": [],
   "source": [
    "# COLOCANDO DADOS DA COLUNA MOMENOTO EM ORDEM \n",
    "for i, gpf in enumerate(resultados):\n",
    "    resultados[i] = gpf.sort_values(by='momento')"
   ]
  },
  {
   "cell_type": "code",
   "execution_count": null,
   "id": "c2898252",
   "metadata": {
    "scrolled": true
   },
   "outputs": [],
   "source": [
    "resultados[0]"
   ]
  },
  {
   "cell_type": "markdown",
   "id": "946f8133",
   "metadata": {},
   "source": [
    "## 3.7.2 Realizando medição das distancia em relação a parada de interesse"
   ]
  },
  {
   "cell_type": "code",
   "execution_count": null,
   "id": "eafb2486",
   "metadata": {},
   "outputs": [],
   "source": [
    "# Crindo coluna de geometry anterior com função de calculo de distancia ja criada\n",
    "resultados_ordem_dist = [processar_dataframe_dist(df) for df in resultados]"
   ]
  },
  {
   "cell_type": "code",
   "execution_count": null,
   "id": "985c260c",
   "metadata": {
    "scrolled": true
   },
   "outputs": [],
   "source": [
    "resultados_ordem_dist[0]"
   ]
  },
  {
   "cell_type": "code",
   "execution_count": null,
   "id": "1e600dfc",
   "metadata": {},
   "outputs": [],
   "source": [
    "# Aplicando função de distancia também feita anteriormente\n",
    "resultados_dist_tudo = [processar_distancia(df) for df in resultados_ordem_dist]"
   ]
  },
  {
   "cell_type": "code",
   "execution_count": null,
   "id": "ee91f763",
   "metadata": {
    "scrolled": true
   },
   "outputs": [],
   "source": [
    "resultados_dist_tudo[4]"
   ]
  },
  {
   "cell_type": "code",
   "execution_count": null,
   "id": "e60d7e29",
   "metadata": {},
   "outputs": [],
   "source": [
    "# Criando coluna com distancias acumuladas (Em relação a parada de interesse)\n",
    "def calcular_distancia_acumulada(resultados, coluna_distancia):\n",
    "    resultados_atualizados = []\n",
    "    # Iterando sobre cada GeoDataFrame na lista 'resultados'\n",
    "    for gdf in resultados_dist_tudo:\n",
    "        # Calculando a distância acumulada\n",
    "        gdf['distancia_acumulada'] = gdf[coluna_distancia].cumsum()\n",
    "\n",
    "        # Adicionando o GeoDataFrame atualizado à lista\n",
    "        resultados_atualizados.append(gdf)\n",
    "\n",
    "    return resultados_atualizados"
   ]
  },
  {
   "cell_type": "code",
   "execution_count": null,
   "id": "9d43b63f",
   "metadata": {},
   "outputs": [],
   "source": [
    "# Chamando a função para calcular a distância acumulada\n",
    "resultados = calcular_distancia_acumulada(resultados_dist_tudo, 'distancia')"
   ]
  },
  {
   "cell_type": "code",
   "execution_count": null,
   "id": "0e90bad9",
   "metadata": {
    "scrolled": true
   },
   "outputs": [],
   "source": [
    "# LISTA COM DATAFRAMES COM DADOS DE IDA E VOLTA \n",
    "len(resultados)"
   ]
  },
  {
   "cell_type": "markdown",
   "id": "c69323ec",
   "metadata": {},
   "source": [
    "## _3.7.3 Informações dos df´s gerados com velocidades_"
   ]
  },
  {
   "cell_type": "code",
   "execution_count": null,
   "id": "2a6c453c",
   "metadata": {
    "scrolled": true
   },
   "outputs": [],
   "source": [
    "# INFORMAÇÕES DE CADA DF DA LISTA COM VELOCIDADES\n",
    "# for dfs in resultados:\n",
    "  #   display(dfs.info())"
   ]
  },
  {
   "cell_type": "code",
   "execution_count": null,
   "id": "5bed21bd",
   "metadata": {
    "scrolled": true
   },
   "outputs": [],
   "source": [
    "# EXIBINDO CADA DF DA LISTA RESULTADOS COM VELOCIDADES\n",
    "# for dfs in resultados:\n",
    "  #   display(pd.DataFrame(dfs))"
   ]
  },
  {
   "cell_type": "markdown",
   "id": "8b2a2707",
   "metadata": {},
   "source": [
    "# 4.0 Identificação perfis no mesmo sentido\n",
    "    ''' INICIALMENTE ADICIONAMOS NOS DADOS DAS VELOCIDADES A LOCALIZAÇÃO DAS ESTAÇÕES DE INTERESSE PARA MEDIR AS DISTANCIAS DOS REGISTOS EM RELAÇÃO A ELA, ENTÃO BASTA FILTRAR AQUELES PERFIS QUE OBEDECEM A LOGICA DA DISTANCIA ACUMULADA SER PEQUENA E IR CRESCENDO COM O PASSAR DO TEMPO, ESSE SENDO UM INDICATIVO DE QUE ESSE VEICULO ESTÁ NO SENTIDO DE INTERESSE ''' "
   ]
  },
  {
   "cell_type": "code",
   "execution_count": null,
   "id": "085c7562",
   "metadata": {},
   "outputs": [],
   "source": [
    "# Comprimento do Trecho em analise\n",
    "comprimento_trecho = 2583.53007784341\n",
    "print(comprimento_trecho)"
   ]
  },
  {
   "cell_type": "code",
   "execution_count": null,
   "id": "7a096e98",
   "metadata": {},
   "outputs": [],
   "source": [
    "# FILTRANDO SOMENTE UMA VIAGEM SEGUIDA NO SEU INTEVALO (TRECHO) DE PASSAGEM:\n",
    "lista_filtrada = []\n",
    "\n",
    "for df in resultados:\n",
    "    # Filtrando as linhas onde a coluna 'distancia_acumulada' é menor que tamnho do trecho\n",
    "    df_filtrado = df.query('distancia_acumulada < 2583.53007784341')\n",
    "    lista_filtrada.append(df_filtrado)"
   ]
  },
  {
   "cell_type": "code",
   "execution_count": 15,
   "id": "50b08de6",
   "metadata": {
    "scrolled": true
   },
   "outputs": [
    {
     "data": {
      "text/plain": [
       "' AGORA IREMOS FILTRAR DESSA LISTA AQUELES PERFIS QUE TIVEREM MAIS DE 5 LINHAS, OU SEJA, SOMENTE OS QUE RELAMENTE ESTIVEREM NO SENTIDO TERÃO MAIS REGISTROS E OQUE NÃO TIVEREM VÃO TER POUCAS LINHAS APOS A APLICAÇÃO DO FILTRO ACIMA!  '"
      ]
     },
     "execution_count": 15,
     "metadata": {},
     "output_type": "execute_result"
    }
   ],
   "source": [
    "    ''' AGORA IREMOS FILTRAR DESSA LISTA AQUELES PERFIS QUE TIVEREM MAIS DE 5 LINHAS, OU SEJA, SOMENTE OS QUE RELAMENTE ESTIVEREM NO SENTIDO TERÃO MAIS REGISTROS E OQUE NÃO TIVEREM VÃO TER POUCAS LINHAS APOS A APLICAÇÃO DO FILTRO ACIMA!  '''"
   ]
  },
  {
   "cell_type": "code",
   "execution_count": null,
   "id": "19ef8680",
   "metadata": {},
   "outputs": [],
   "source": [
    "# Filtrando quantidade minima de registros no trecho \n",
    "lista_final = []\n",
    "\n",
    "for df in lista_filtrada:\n",
    "    if len(df) > 8:\n",
    "        lista_final.append(df)"
   ]
  },
  {
   "cell_type": "code",
   "execution_count": null,
   "id": "bc267144",
   "metadata": {},
   "outputs": [],
   "source": [
    "len(lista_final) "
   ]
  },
  {
   "cell_type": "code",
   "execution_count": null,
   "id": "fbb4ae05",
   "metadata": {},
   "outputs": [],
   "source": [
    "# FILTRANDO OS PERFIS QUE A DISTANCIA ENTRE O PRIMEIRO REGISTO NO TRECHO E A PRIMERIA PARDA SEJA MENOR QUE 500 METROS\n",
    "geodataframes_filtrados_dist = []\n",
    "\n",
    "# Iterar sobre cada GeoDataFrame na lista\n",
    "for geodataframe in lista_final:\n",
    "    # Verificar se a primeira linha da coluna \"distancia\" tem um valor menor que 500 metros\n",
    "    if geodataframe[\"distancia\"][0] < 500:\n",
    "        # Se sim, adicionar o GeoDataFrame à lista de GeoDataFrames filtrados\n",
    "        geodataframes_filtrados_dist.append(geodataframe)"
   ]
  },
  {
   "cell_type": "code",
   "execution_count": null,
   "id": "5ea9d798",
   "metadata": {
    "scrolled": true
   },
   "outputs": [],
   "source": [
    "geodataframes_filtrados_dist[0]"
   ]
  },
  {
   "cell_type": "code",
   "execution_count": null,
   "id": "4ec79515",
   "metadata": {},
   "outputs": [],
   "source": [
    "# FILTRANDO PERFIS DE NO MAXIMO 100 KM/HORA (ADIMITINDO QUE SUPERIORES SERÃO DEVIDO ERROS NO GPS!)\n",
    "geodataframes_filtrados_dist_vel = [gdf for gdf in geodataframes_filtrados_dist if (gdf['velocidade'] <= 27.78).all()]"
   ]
  },
  {
   "cell_type": "code",
   "execution_count": null,
   "id": "8db05d27",
   "metadata": {
    "scrolled": true
   },
   "outputs": [],
   "source": [
    "len(geodataframes_filtrados_dist_vel)"
   ]
  },
  {
   "cell_type": "code",
   "execution_count": null,
   "id": "8d1ff569",
   "metadata": {},
   "outputs": [],
   "source": [
    "    ####### ESSSA É A QUANTIDADE DE PERFIS NO SENTIDO DE ANALISE E HORARIO #######"
   ]
  },
  {
   "cell_type": "code",
   "execution_count": 16,
   "id": "6e47dcaf",
   "metadata": {},
   "outputs": [
    {
     "data": {
      "text/plain": [
       "' Ida quando se compara a distancia com a primeira parada '"
      ]
     },
     "execution_count": 16,
     "metadata": {},
     "output_type": "execute_result"
    }
   ],
   "source": [
    "''' Ida quando se compara a distancia com a primeira parada '''"
   ]
  },
  {
   "cell_type": "code",
   "execution_count": 17,
   "id": "03679cda",
   "metadata": {},
   "outputs": [
    {
     "data": {
      "text/plain": [
       "' Volta quando os filtrados são os que possuem distancia em relação a ultima estação (ultima sentido centro) '"
      ]
     },
     "execution_count": 17,
     "metadata": {},
     "output_type": "execute_result"
    }
   ],
   "source": [
    "''' Volta quando os filtrados são os que possuem distancia em relação a ultima estação (ultima sentido centro) '''"
   ]
  },
  {
   "cell_type": "markdown",
   "id": "70d87a8a",
   "metadata": {},
   "source": [
    "# 5.0 Base com perfis discretizados e analises iniciais\n",
    "    ''' OBS: A PARTIR DESSE TOPICO SERÃO FEITAS AS ANALISES!  ''' "
   ]
  },
  {
   "cell_type": "markdown",
   "id": "8d1f7cdb",
   "metadata": {},
   "source": [
    "''' Assumindo que a componente de velocidade a cada trecho discretizado seja proporcional a velocidade no trecho completo '''"
   ]
  },
  {
   "cell_type": "code",
   "execution_count": null,
   "id": "1c1767f6",
   "metadata": {
    "scrolled": true
   },
   "outputs": [],
   "source": [
    "# Discretizando a cada 5 metros\n",
    "# Lista para armazenar os DataFrames resultantes\n",
    "lista_velocidades_discretizadas = []\n",
    "\n",
    "for df in geodataframes_filtrados_dist_vel: \n",
    "    # Inicializando a distância acumulada\n",
    "    distancia_acumulada = 0\n",
    "    \n",
    "    # Obtendo o tamanho total do trecho\n",
    "    tamanho_total_trecho = df['distancia_acumulada'].max()\n",
    "    \n",
    "    # Obtendo a data e horário do primeiro registro\n",
    "    momento_atual = df.iloc[0]['momento']\n",
    "    data_hora_formatada = momento_atual.strftime(\"%Y-%m-%d_%H-%M-%S\")\n",
    "    \n",
    "    # Criando um DataFrame para armazenar as velocidades discretizadas\n",
    "    coluna_nome = f'velocidade_{df.iloc[0][\"linha\"]}_{df.iloc[0][\"id_veiculo\"]}_{data_hora_formatada}'\n",
    "    velocidades_discretizadas = pd.DataFrame(columns=['distancia', coluna_nome])\n",
    "    \n",
    "    linha_atual = df.iloc[0]['linha']  # Obtendo a informação da linha do primeiro DataFrame\n",
    "    id_veiculo_atual = df.iloc[0]['id_veiculo']  # Obtendo a informação do id_veiculo do primeiro DataFrame\n",
    "    \n",
    "    # Iterando sobre os trechos do DataFrame\n",
    "    for index, row in df.iterrows():\n",
    "        distancia_trecho_atual = row['distancia']\n",
    "        velocidade_trecho_atual = row['velocidade']\n",
    "    \n",
    "        # Adicionando as distâncias discretizadas ao DataFrame de velocidades discretizadas\n",
    "        for distancia in range(0, int(distancia_trecho_atual) + 1, 5):\n",
    "            if distancia_acumulada > tamanho_total_trecho:\n",
    "                break\n",
    "            velocidades_discretizadas = velocidades_discretizadas.append({'distancia': distancia_acumulada, \n",
    "                                                                          coluna_nome: velocidade_trecho_atual}, \n",
    "                                                                         ignore_index=True)\n",
    "            distancia_acumulada += 5\n",
    "    \n",
    "    lista_velocidades_discretizadas.append(velocidades_discretizadas)"
   ]
  },
  {
   "cell_type": "code",
   "execution_count": null,
   "id": "e82ea8a7",
   "metadata": {},
   "outputs": [],
   "source": [
    "lista_velocidades_discretizadas[0]"
   ]
  },
  {
   "cell_type": "code",
   "execution_count": null,
   "id": "e6be95b2",
   "metadata": {},
   "outputs": [],
   "source": [
    "# Fator de conversão de m/s para km/h\n",
    "fator_conversao = 3.6\n",
    "\n",
    "for df in lista_velocidades_discretizadas:\n",
    "    # Iterando sobre as colunas do DataFrame\n",
    "    for coluna in df.columns:\n",
    "        # Verificando se o nome da coluna contém a palavra \"velocidade\"\n",
    "        if 'velocidade' in coluna:\n",
    "            # Convertendo a coluna de velocidade de m/s para km/h\n",
    "            df[coluna] *= fator_conversao"
   ]
  },
  {
   "cell_type": "markdown",
   "id": "8510c6e0",
   "metadata": {},
   "source": [
    "## 5.1 Visualização e resumo dos perfis no trecho e horario especifico"
   ]
  },
  {
   "cell_type": "code",
   "execution_count": null,
   "id": "4a3b4cfd",
   "metadata": {
    "scrolled": false
   },
   "outputs": [],
   "source": [
    "# Lista para armazenar os traces de velocidade de cada DataFrame\n",
    "traces = []\n",
    "\n",
    "# Iterando sobre cada DataFrame da lista\n",
    "for idx, df in enumerate(lista_velocidades_discretizadas):\n",
    "    # Extraindo informações da coluna de velocidade\n",
    "    info_velocidade = df.columns[-1].split('_')\n",
    "    linha_atual = info_velocidade[1]  # Obtendo o número da linha\n",
    "    id_veiculo_atual = info_velocidade[2]  # Obtendo o ID do veículo\n",
    "    \n",
    "    # Criando um trace para a velocidade de cada DataFrame\n",
    "    trace = go.Scatter(\n",
    "        x=df['distancia'],\n",
    "        y=df.iloc[:, -1],  # Utilizando a última coluna do DataFrame como velocidade\n",
    "        mode='lines',\n",
    "        name=f'Velocidade - Linha {linha_atual} - ID {id_veiculo_atual}',  # Nomeando o trace com informações dinâmicas\n",
    "        hoverinfo='x+y+name',  # Informações mostradas ao passar o mouse sobre o gráfico\n",
    "    )\n",
    "    traces.append(trace)\n",
    "\n",
    "# Preenchendo o valor nulo na primeira linha da coluna \"distancia_acumulada\" com zero\n",
    "paradas_interesse['distancia_acumulada_paradas'].iloc[0] = 0\n",
    "\n",
    "# Criando um trace para as paradas de interesse\n",
    "trace_paradas = go.Scatter(\n",
    "    x=paradas_interesse['distancia_acumulada_paradas'],  # Coordenadas x\n",
    "    y=[0] * len(paradas_interesse),  # Coordenadas y (todos são 0)\n",
    "    mode='markers',  # Modo de plotagem de marcadores\n",
    "    marker=dict(\n",
    "        symbol='triangle-up',  # Formato do marcador (triângulo para cima)\n",
    "        size=10,  # Tamanho do marcador\n",
    "        color='black',  # Cor do marcador\n",
    "    ),\n",
    "    hovertext=paradas_interesse['stop_name'],  # Texto de dica ao passar o mouse sobre os marcadores\n",
    "    hoverinfo='text',  # Informações mostradas ao passar o mouse\n",
    "    name='Estações BRT'  # Nome do trace\n",
    ")\n",
    "\n",
    "# Adicionando o trace das paradas de interesse à lista de traces\n",
    "traces.append(trace_paradas)\n",
    "\n",
    "# Criando o layout do gráfico\n",
    "layout = go.Layout(\n",
    "    title='Velocidades (veículos das linhas no trecho e horário de interesse)',\n",
    "    xaxis=dict(title='Distância (m)'),\n",
    "    yaxis=dict(title='Velocidade (km/h)'),\n",
    "    hovermode='closest'\n",
    ")\n",
    "\n",
    "# Criando a figura com os traces e o layout\n",
    "fig = go.Figure(data=traces, layout=layout)\n",
    "\n",
    "# Exibindo o gráfico\n",
    "fig.show()"
   ]
  },
  {
   "cell_type": "code",
   "execution_count": 18,
   "id": "b2582a9e",
   "metadata": {},
   "outputs": [
    {
     "data": {
      "text/plain": [
       "' SEGUE DESCRIÇÃO ESTATISTICA DE CADA PERFIL: (descomantar os codigos para visualização!) '"
      ]
     },
     "execution_count": 18,
     "metadata": {},
     "output_type": "execute_result"
    }
   ],
   "source": [
    "''' SEGUE DESCRIÇÃO ESTATISTICA DE CADA PERFIL: (descomantar os codigos para visualização!) '''"
   ]
  },
  {
   "cell_type": "code",
   "execution_count": null,
   "id": "23d70392",
   "metadata": {
    "scrolled": true
   },
   "outputs": [],
   "source": [
    "# for idx, df in enumerate(lista_velocidades_discretizadas):\n",
    "#     # Obtendo o nome da coluna de velocidade\n",
    "#     nome_coluna_velocidade = df.columns[-1]\n",
    "    \n",
    "    # Calculando o resumo estatístico apenas para a coluna de velocidade\n",
    "#     resumo_velocidade = df[nome_coluna_velocidade].describe()\n",
    "    \n",
    "    # Imprimindo o resumo estatístico apenas para a coluna de velocidade\n",
    "#     print(f\"Resumo Estatístico do perfil de velocidade ({nome_coluna_velocidade}):\")\n",
    "#     print(resumo_velocidade)\n",
    "#     print()  # Adiciona uma linha em branco entre os resumos estatísticos"
   ]
  },
  {
   "cell_type": "code",
   "execution_count": 19,
   "id": "0037e7d8",
   "metadata": {},
   "outputs": [
    {
     "data": {
      "text/plain": [
       "' OBSERVAR A MÉDIA DE VELOCIDADES E DISPERSÃO DOS VALORES'"
      ]
     },
     "execution_count": 19,
     "metadata": {},
     "output_type": "execute_result"
    }
   ],
   "source": [
    "''' OBSERVAR A MÉDIA DE VELOCIDADES E DISPERSÃO DOS VALORES'''"
   ]
  },
  {
   "cell_type": "markdown",
   "id": "23db01c4",
   "metadata": {},
   "source": [
    "## 5.2 Exportação\n",
    "''' COM DADOS DE PERFIS VEICULARES DE DIFERENTES LINHAS NO MESMO INTERVALO, BASTA EXPORTALOS E GERAR PARA DEMAIS HORARIOS DE INTERSSE, DIAS E PROCEGUIR COM AS DEMAIS ANALISES! ''' "
   ]
  },
  {
   "cell_type": "code",
   "execution_count": null,
   "id": "f8d92353",
   "metadata": {},
   "outputs": [],
   "source": [
    "# Definindo o nome do arquivo Excel\n",
    "nome_arquivo_excel = \"dados_perfis_velocidades_17_18hs_volta.xlsx\"\n",
    "\n",
    "# Criando um DataFrame vazio para armazenar os dados finais\n",
    "df_final = pd.DataFrame(columns=['distancia'])\n",
    "\n",
    "# Iterando sobre cada DataFrame na lista\n",
    "for idx, df in enumerate(lista_velocidades_discretizadas):\n",
    "    # Adicionando a coluna de distância ao DataFrame final\n",
    "    df_final['distancia'] = df['distancia']\n",
    "    \n",
    "    # Obtendo o nome da coluna de velocidade\n",
    "    nome_coluna_velocidade = df.columns[-1]\n",
    "    \n",
    "    # Adicionando as colunas de velocidade discretizada ao DataFrame final\n",
    "    df_final[nome_coluna_velocidade] = df.iloc[:, -1]\n",
    "\n",
    "# Exportando o DataFrame final para o arquivo Excel\n",
    "df_final.to_excel(nome_arquivo_excel, index=False)"
   ]
  },
  {
   "cell_type": "markdown",
   "id": "f5fcb3d4",
   "metadata": {},
   "source": [
    "# --------------------------------------------------------------------------------------"
   ]
  }
 ],
 "metadata": {
  "kernelspec": {
   "display_name": "Python 3 (ipykernel)",
   "language": "python",
   "name": "python3"
  },
  "language_info": {
   "codemirror_mode": {
    "name": "ipython",
    "version": 3
   },
   "file_extension": ".py",
   "mimetype": "text/x-python",
   "name": "python",
   "nbconvert_exporter": "python",
   "pygments_lexer": "ipython3",
   "version": "3.9.12"
  }
 },
 "nbformat": 4,
 "nbformat_minor": 5
}
