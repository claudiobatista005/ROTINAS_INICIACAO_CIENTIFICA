{
 "cells": [
  {
   "cell_type": "markdown",
   "id": "6e8f42f6",
   "metadata": {},
   "source": [
    "# Algoritmo: Agrupamento perfis de velocidades\n",
    "## Autor: Antônio Claudio Dutra Batista\n",
    "## Orientador: Francisco Moraes de Oliveria Neto\n",
    "## Metodologia: Agupamento de perfis de velocidades com consideração do tempo\n",
    "''' Os dados são de velocidade obtidas pela extração de informações do sistema de localização geografrica de veiculos em operação em um trecho de estudo e para tal situação se deseja identificar os perfis de velocidades veicular semelhantes '''"
   ]
  },
  {
   "cell_type": "markdown",
   "id": "84ee82b1",
   "metadata": {},
   "source": [
    "# 1.0 Preparando dados para manipulação"
   ]
  },
  {
   "cell_type": "code",
   "execution_count": null,
   "id": "87bf7e61",
   "metadata": {},
   "outputs": [],
   "source": [
    "# Importando bibliotecas necessárias\n",
    "import imgkit\n",
    "import pandas as pd\n",
    "from sklearn.cluster import KMeans\n",
    "import matplotlib.pyplot as plt\n",
    "from sklearn.preprocessing import StandardScaler\n",
    "import numpy as np\n",
    "import seaborn as sns\n",
    "import plotly.graph_objs as go\n",
    "import plotly.io as pio"
   ]
  },
  {
   "cell_type": "code",
   "execution_count": null,
   "id": "500b88c8",
   "metadata": {},
   "outputs": [],
   "source": [
    "# Trazendo base com dado de velocidades dos veiculos no trecho em estudo\n",
    "df1 = pd.read_excel('velocidades_discretizadas_test.xlsx')"
   ]
  },
  {
   "cell_type": "code",
   "execution_count": null,
   "id": "6c9b1682",
   "metadata": {},
   "outputs": [],
   "source": [
    "df1"
   ]
  },
  {
   "cell_type": "code",
   "execution_count": null,
   "id": "9b98acad",
   "metadata": {},
   "outputs": [],
   "source": [
    "# Retribuindo variavel para manipulação e dropando coluna distancia \n",
    "df_concatenado = df1.drop(columns='Distância (m)')"
   ]
  },
  {
   "cell_type": "code",
   "execution_count": null,
   "id": "2de4eb46",
   "metadata": {
    "scrolled": true
   },
   "outputs": [],
   "source": [
    "# Transpondo o DataFrame para que as colunas representem instâncias\n",
    "df_transposto = df_concatenado.T"
   ]
  },
  {
   "cell_type": "code",
   "execution_count": null,
   "id": "1195b39b",
   "metadata": {},
   "outputs": [],
   "source": [
    "# Normalização das velocidades (Não foi normalizado)\n",
    "scaler = StandardScaler()\n",
    "df_normalizado = df_transposto # scaler.fit_transform(df_transposto)"
   ]
  },
  {
   "cell_type": "code",
   "execution_count": null,
   "id": "0c84c7c0",
   "metadata": {
    "scrolled": true
   },
   "outputs": [],
   "source": [
    "df_normalizado"
   ]
  },
  {
   "cell_type": "markdown",
   "id": "2c925c1c",
   "metadata": {},
   "source": [
    "## 1.1 Correlação e descrição entre as colunas"
   ]
  },
  {
   "cell_type": "code",
   "execution_count": null,
   "id": "d26dcb64",
   "metadata": {},
   "outputs": [],
   "source": [
    "# DataFrame\n",
    "df = df_concatenado\n",
    "\n",
    "# Calculando a matriz de correlação\n",
    "correlation_matrix = df.corr()\n",
    "\n",
    "# Plotando um mapa de calor\n",
    "plt.figure(figsize=(10, 8))\n",
    "sns.heatmap(correlation_matrix, annot=True, cmap=\"coolwarm\", fmt=\".2f\")\n",
    "plt.show()"
   ]
  },
  {
   "cell_type": "code",
   "execution_count": null,
   "id": "4edfbb55",
   "metadata": {},
   "outputs": [],
   "source": [
    "# Obtendo estatísticas descritivas\n",
    "df.describe()"
   ]
  },
  {
   "cell_type": "markdown",
   "id": "68cec572",
   "metadata": {},
   "source": [
    "## 1.2 Método do cotovelo (Elbow Method)\n",
    "''' Será utilizada essa técnica para encontrar o número ideal de clusters para aplicação do algoritmo de agrupamento! '''"
   ]
  },
  {
   "cell_type": "code",
   "execution_count": null,
   "id": "879f73af",
   "metadata": {},
   "outputs": [],
   "source": [
    "# Lista para armazenar as distorções (soma dos quadrados intra-cluster) para cada número de clusters\n",
    "distortions = []\n",
    "\n",
    "# Número máximo de clusters que você deseja testar\n",
    "max_clusters = 10 \n",
    "\n",
    "# Iterando sobre diferentes números de clusters e calculando as distorções\n",
    "for i in range(1, max_clusters + 1):\n",
    "    kmeans_colunas = KMeans(n_clusters=i, random_state=42)\n",
    "    kmeans_colunas.fit(df_transposto)\n",
    "    distortions.append(kmeans_colunas.inertia_)"
   ]
  },
  {
   "cell_type": "code",
   "execution_count": null,
   "id": "5f2bf7d5",
   "metadata": {},
   "outputs": [],
   "source": [
    "# Plotando o gráfico do método do cotovelo\n",
    "plt.plot(range(1, max_clusters + 1), distortions, marker='o')\n",
    "plt.title('Método do Cotovelo')\n",
    "plt.xlabel('Número de Clusters')\n",
    "plt.ylabel('Distorção (Soma dos Quadrados Intra-Cluster)')\n",
    "plt.show()"
   ]
  },
  {
   "cell_type": "code",
   "execution_count": null,
   "id": "b688cdbb",
   "metadata": {},
   "outputs": [],
   "source": [
    "''' O ponto ideal é onde ocorre uma distorção onde (inertia) começa a diminuir mais lentamente \"Que forma um cotovelo\" no gráfico'''"
   ]
  },
  {
   "cell_type": "markdown",
   "id": "3a0907ba",
   "metadata": {},
   "source": [
    "# 2.0 Aplicação do algoritimo de agrupamento (k-means)"
   ]
  },
  {
   "cell_type": "code",
   "execution_count": null,
   "id": "349c86f4",
   "metadata": {},
   "outputs": [],
   "source": [
    "# Importando da biblioteca funções da biblioteca necessária\n",
    "from sklearn.preprocessing import StandardScaler\n",
    "import threadpoolctl"
   ]
  },
  {
   "cell_type": "code",
   "execution_count": null,
   "id": "1af42c0d",
   "metadata": {},
   "outputs": [],
   "source": [
    "# Numero de clusters (k)\n",
    "k = 4 # Parametro de numeros de clusters que é necessário determinar o mais adequado!"
   ]
  },
  {
   "cell_type": "code",
   "execution_count": null,
   "id": "451638c0",
   "metadata": {
    "scrolled": true
   },
   "outputs": [],
   "source": [
    "''' Olhar no grafico do Método do cotovelo o k mais ajustado! '''"
   ]
  },
  {
   "cell_type": "code",
   "execution_count": null,
   "id": "dac70648",
   "metadata": {},
   "outputs": [],
   "source": [
    "# Aplicando o algoritimo (k-means)\n",
    "kmeans = KMeans(n_clusters=k, random_state=42)\n",
    "labels_colunas = kmeans_colunas.fit_predict(df_transposto)"
   ]
  },
  {
   "cell_type": "code",
   "execution_count": null,
   "id": "e145a43f",
   "metadata": {},
   "outputs": [],
   "source": [
    "# Adicionando rótulos de cluster aos dados originais\n",
    "df_transposto['cluster'] = labels_colunas"
   ]
  },
  {
   "cell_type": "code",
   "execution_count": null,
   "id": "f8aa6aaf",
   "metadata": {},
   "outputs": [],
   "source": [
    "df_resultado = df_transposto.T"
   ]
  },
  {
   "cell_type": "code",
   "execution_count": null,
   "id": "558cb528",
   "metadata": {
    "scrolled": false
   },
   "outputs": [],
   "source": [
    "# Exibindo reultado \n",
    "df_resultado"
   ]
  },
  {
   "cell_type": "code",
   "execution_count": null,
   "id": "42763b66",
   "metadata": {
    "scrolled": true
   },
   "outputs": [],
   "source": [
    "df_resultado.tail(25)"
   ]
  },
  {
   "cell_type": "code",
   "execution_count": null,
   "id": "40a3c10e",
   "metadata": {},
   "outputs": [],
   "source": [
    "# Verificando a quantidade de CLUSTERSabs\n",
    "ultima_linha = df_resultado.iloc[-1]\n",
    "ultima_linha.unique()"
   ]
  },
  {
   "cell_type": "code",
   "execution_count": null,
   "id": "384ea7d8",
   "metadata": {},
   "outputs": [],
   "source": [
    "''' ÚLTIMA LINHA SÃO OS CLUSTERS IDENTIFICADOS! '''"
   ]
  },
  {
   "cell_type": "markdown",
   "id": "0a1a99ac",
   "metadata": {},
   "source": [
    "## 2.1 Visualização dos clusters identificados\n",
    "''' Selecioando cluster especifico '''"
   ]
  },
  {
   "cell_type": "code",
   "execution_count": null,
   "id": "7e5d1737",
   "metadata": {},
   "outputs": [],
   "source": [
    "# FILTRANDO CLUSTERS QUE SE DESEJA ANALISAR\n",
    "colunas_filtradas = []\n",
    "for coluna in df_resultado.columns:\n",
    "    if df_resultado[coluna].iloc[-1] == 4: # filtrar aqui!\n",
    "        colunas_filtradas.append(coluna)\n",
    "\n",
    "# Filtrando o DataFrame mantendo apenas as colunas filtradas\n",
    "df_filtrado = df_resultado[colunas_filtradas]"
   ]
  },
  {
   "cell_type": "code",
   "execution_count": null,
   "id": "81e49079",
   "metadata": {},
   "outputs": [],
   "source": [
    "df_filtrado # Base espefica aggrupada"
   ]
  },
  {
   "cell_type": "code",
   "execution_count": null,
   "id": "49defb56",
   "metadata": {},
   "outputs": [],
   "source": [
    "df_filtrado.describe() # Descrição dos perfis semelhantes filtrados"
   ]
  },
  {
   "cell_type": "code",
   "execution_count": null,
   "id": "05351c74",
   "metadata": {},
   "outputs": [],
   "source": [
    "# Calculando a matriz de correlação PARA DADOS AGRUPADOS\n",
    "correlation_matrix = df_filtrado.corr()\n",
    "\n",
    "# Plotando um mapa de calor\n",
    "plt.figure(figsize=(10, 8))\n",
    "sns.heatmap(correlation_matrix, annot=True, cmap=\"coolwarm\", fmt=\".2f\")\n",
    "plt.show()"
   ]
  },
  {
   "cell_type": "code",
   "execution_count": null,
   "id": "815be6b3",
   "metadata": {
    "scrolled": false
   },
   "outputs": [],
   "source": [
    "# Visualização dos clusters\n",
    "# Removendo a última linha que contém os rótulos de cluster para visualização\n",
    "df_resultado_sem_clusters = df_filtrado.iloc[:-1]\n",
    "\n",
    "# Obtendo os rótulos de cluster da última linha\n",
    "rótulos_cluster = df_filtrado.iloc[-1, :]\n",
    "\n",
    "plt.figure(figsize=(8, 7))\n",
    "# Iterando sobre cada coluna, plotando e identificando pelo número do cluster\n",
    "for coluna in df_resultado_sem_clusters.columns:\n",
    "    plt.scatter(df_resultado_sem_clusters.index, df_resultado_sem_clusters[coluna], label=f'Coluna {coluna} - Cluster {rótulos_cluster[coluna]}')\n",
    "\n",
    "# Ajusta o tamanho da fonte da legenda\n",
    "plt.legend(fontsize='small')\n",
    "\n",
    "# Convertendo os índices para um tipo numérico\n",
    "x = df_resultado_sem_clusters.index.astype(float)\n",
    "y = df_resultado_sem_clusters.mean(axis=1)\n",
    "\n",
    "# Adicionando uma linha de tendência\n",
    "z = np.polyfit(x, y, 3)  # ajuste polinomial de 3º grau\n",
    "p = np.poly1d(z)\n",
    "plt.plot(x, p(x), 'r--', label='Linha de Tendência')\n",
    "\n",
    "plt.title('Clusters por Coluna', fontsize='xx-large')\n",
    "plt.xlabel('Índice')\n",
    "plt.ylabel('Velocidades')\n",
    "plt.show()"
   ]
  },
  {
   "cell_type": "markdown",
   "id": "3b5814d1",
   "metadata": {},
   "source": [
    "## 2.1.2 Visualização perfis veiculares do mesmo clusters"
   ]
  },
  {
   "cell_type": "code",
   "execution_count": null,
   "id": "5cf2fc52",
   "metadata": {},
   "outputs": [],
   "source": [
    "# Importando base com as distancias entre estaçoes (df2 é a base com distania entre paradas!)\n",
    "df2 = pd.read_excel('PARADAS_interesse_tudo_com_distancias (1).xlsx')"
   ]
  },
  {
   "cell_type": "code",
   "execution_count": null,
   "id": "33e3fb9d",
   "metadata": {},
   "outputs": [],
   "source": [
    "# BASE COM DISTANIAS: \n",
    "# df2"
   ]
  },
  {
   "cell_type": "code",
   "execution_count": null,
   "id": "563e1a10",
   "metadata": {},
   "outputs": [],
   "source": [
    "# Defindo o valor da primeira linha de uma coluna distancia acumulado como zero (referencia)\n",
    "df2.loc[0, 'distancia_acumulada_paradas'] = 0"
   ]
  },
  {
   "cell_type": "code",
   "execution_count": null,
   "id": "e0fb8da6",
   "metadata": {},
   "outputs": [],
   "source": [
    "# Descartando a última linha do DataFrame (contem os clusters)\n",
    "df_sem_ultima_linha = df_filtrado.drop(df.index[-1])\n",
    "\n",
    "# Adicionado coluna de distancia \n",
    "df_sem_ultima_linha['Distância (m)'] = df1['Distância (m)']"
   ]
  },
  {
   "cell_type": "code",
   "execution_count": null,
   "id": "67ba25b5",
   "metadata": {},
   "outputs": [],
   "source": [
    "df_sem_ultima_linha"
   ]
  },
  {
   "cell_type": "code",
   "execution_count": null,
   "id": "bbe3d8d1",
   "metadata": {},
   "outputs": [],
   "source": [
    "# Criando traces para as colunas de velocidade\n",
    "traces = [\n",
    "    go.Scatter(\n",
    "        x=df_sem_ultima_linha['Distância (m)'],\n",
    "        y=df_sem_ultima_linha[coluna],\n",
    "        mode='lines',\n",
    "        name=coluna\n",
    "    )\n",
    "    for coluna in df_sem_ultima_linha.columns[:-1]  # Excluindo a última coluna, que é a coluna de distância\n",
    "]\n",
    "\n",
    "# Adicionando marcadores da base de dados df2\n",
    "trace_df2 = go.Scatter(\n",
    "    x=df2['distancia_acumulada_paradas'],\n",
    "    y=np.zeros(len(df2)),  # Todos os marcadores estarão na linha y = 0\n",
    "    mode='markers',\n",
    "    marker=dict(symbol='triangle-up', size=10, color='black'),  # Define os marcadores como triangulares\n",
    "    hovertext=df2['stop_name'],  # Define o texto que aparecerá ao passar o mouse sobre os marcadores\n",
    "    hoverinfo='text',\n",
    "    showlegend=False  # Não mostrar esse trace na legenda\n",
    ")\n",
    "traces.append(trace_df2)\n",
    "\n",
    "# Calculando os percentis 5 e 95 das velocidades\n",
    "velocidades = df_sem_ultima_linha.drop(columns='Distância (m)').values.flatten()\n",
    "percentil_5 = np.percentile(velocidades, 5)\n",
    "percentil_95 = np.percentile(velocidades, 95)\n",
    "\n",
    "# Criando o layout\n",
    "layout = go.Layout(\n",
    "    title='Perfis de Velocidades',\n",
    "    xaxis=dict(title='Distância (m)'),\n",
    "    yaxis=dict(title='Velocidade (km/h)', range=[-5, percentil_95]),  # Definindo o range do eixo y\n",
    "    hovermode='closest'\n",
    ")\n",
    "\n",
    "# Criando a figura\n",
    "fig = go.Figure(data=traces, layout=layout)\n",
    "\n",
    "# Plotando o gráfico\n",
    "fig.show()"
   ]
  },
  {
   "cell_type": "code",
   "execution_count": null,
   "id": "9bc758ba",
   "metadata": {},
   "outputs": [],
   "source": [
    "# Salvar o gráfico como um arquivo HTML\n",
    "pio.write_html(fig, file='perfil_de_velocidade.html')"
   ]
  },
  {
   "cell_type": "code",
   "execution_count": null,
   "id": "e52f6f37",
   "metadata": {},
   "outputs": [],
   "source": [
    "''' OBS: NA OPAÇÃO DE CAMERA NA IMAGEM DO PERFIL PE POSSIVEL BAIXAR O PNG DA IMAGEM! '''"
   ]
  },
  {
   "cell_type": "markdown",
   "id": "f5fcb3d4",
   "metadata": {},
   "source": [
    "# ---------------------------------------------------------------------"
   ]
  }
 ],
 "metadata": {
  "kernelspec": {
   "display_name": "Python 3 (ipykernel)",
   "language": "python",
   "name": "python3"
  },
  "language_info": {
   "codemirror_mode": {
    "name": "ipython",
    "version": 3
   },
   "file_extension": ".py",
   "mimetype": "text/x-python",
   "name": "python",
   "nbconvert_exporter": "python",
   "pygments_lexer": "ipython3",
   "version": "3.9.12"
  }
 },
 "nbformat": 4,
 "nbformat_minor": 5
}
