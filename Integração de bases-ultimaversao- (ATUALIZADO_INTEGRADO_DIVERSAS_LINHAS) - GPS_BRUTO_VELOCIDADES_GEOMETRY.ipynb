{
 "cells": [
  {
   "cell_type": "markdown",
   "id": "0d3152ac",
   "metadata": {},
   "source": [
    "# Algoritimo - Determinação das velocidades GPS\n",
    "### Autor: Antônio Claudio Dutra Batista\n",
    "### Orientador: Francisco Moraes de Oliveira Neto\n",
    "### Metodologia: Velocidades médias entre os registros do GPS\n",
    "''' A informação dos veículos no trecho foram obtidos pela integração da base da bilhegem a base do gps pelo criteiro de tempo mais próximo '''"
   ]
  },
  {
   "cell_type": "markdown",
   "id": "001b066f",
   "metadata": {},
   "source": [
    "# 1.0  Leitura das Bases"
   ]
  },
  {
   "cell_type": "markdown",
   "id": "53c75e45",
   "metadata": {},
   "source": [
    "## 1.1 leitura da base - Bilhetagem (Tratamento Inicial)"
   ]
  },
  {
   "cell_type": "code",
   "execution_count": null,
   "id": "493f58a7",
   "metadata": {},
   "outputs": [],
   "source": [
    "# Importando biblioteca de manipulação dos dados e especificando tamanhos dos dados das colunas \n",
    "import pandas as pd \n",
    "tipos_specification = {'id': 'int32', 'linha': 'int32'}\n",
    "# df's abaixo:\n",
    "# dia_01= pd.read_csv('2018-11-01.csv', usecols=['id', 'linha', 'prefixo_carro', 'tipo_cartao','dia', 'momento'], dtype=tipos_specification, sep= ',')\n",
    "# dia_02 = pd.read_csv('2018-11-02.csv', usecols=['id', 'linha', 'prefixo_carro', 'tipo_cartao','dia', 'momento'], dtype=tipos_specification,  sep= ',')\n",
    "# dia_03 = pd.read_csv('2018-11-03.csv', usecols=['id', 'linha', 'prefixo_carro', 'tipo_cartao','dia', 'momento'], dtype=tipos_specification,  sep= ',')\n",
    "# dia_04 = pd.read_csv('2018-11-04.csv', usecols=['id', 'linha', 'prefixo_carro', 'tipo_cartao','dia', 'momento'], dtype=tipos_specification,  sep= ',')\n",
    "# dia_05 = pd.read_csv('2018-11-05.csv', usecols=['id', 'linha', 'prefixo_carro', 'tipo_cartao','dia', 'momento'], dtype=tipos_specification, sep= ',') \n",
    "# dia_06 = pd.read_csv('2018-11-06.csv', usecols=['id', 'linha', 'prefixo_carro', 'tipo_cartao','dia', 'momento'], dtype=tipos_specification,  sep= ',')\n",
    "# dia_07 = pd.read_csv('2018-11-07.csv', usecols=['id', 'linha', 'prefixo_carro', 'tipo_cartao','dia', 'momento'], dtype=tipos_specification,  sep= ',')\n",
    "# dia_08 = pd.read_csv('2018-11-08.csv', usecols=['id', 'linha', 'prefixo_carro', 'tipo_cartao','dia', 'momento'], dtype=tipos_specification, sep= ',')\n",
    "# dia_09 = pd.read_csv('2018-11-09.csv', usecols=['id', 'linha', 'prefixo_carro', 'tipo_cartao','dia', 'momento'], dtype=tipos_specification,  sep= ',')\n",
    "# dia_10 = pd.read_csv('2018-11-10.csv', usecols=['id', 'linha', 'prefixo_carro', 'tipo_cartao','dia', 'momento'], dtype=tipos_specification,  sep= ',')"
   ]
  },
  {
   "cell_type": "code",
   "execution_count": null,
   "id": "54b24fda",
   "metadata": {},
   "outputs": [],
   "source": [
    "# Continuando...\n",
    "# dia_11 = pd.read_csv('2018-11-11.csv', usecols=['id', 'linha', 'prefixo_carro', 'tipo_cartao','dia', 'momento'], dtype=tipos_specification,  sep= ',')\n",
    "# dia_12 = pd.read_csv('2018-11-12.csv', usecols=['id', 'linha', 'prefixo_carro', 'tipo_cartao','dia', 'momento'], dtype=tipos_specification,  sep= ',')\n",
    "# dia_13 = pd.read_csv('2018-11-13.csv', usecols=['id', 'linha', 'prefixo_carro', 'tipo_cartao','dia', 'momento'], dtype=tipos_specification,  sep= ',')\n",
    "# dia_14 = pd.read_csv('2018-11-14.csv', usecols=['id', 'linha', 'prefixo_carro', 'tipo_cartao','dia', 'momento'], dtype=tipos_specification,  sep= ',')\n",
    "# dia_15 = pd.read_csv('2018-11-15.csv', usecols=['id', 'linha', 'prefixo_carro', 'tipo_cartao','dia', 'momento'], dtype=tipos_specification,  sep= ',')\n",
    "# dia_16 = pd.read_csv('2018-11-16.csv', usecols=['id', 'linha', 'prefixo_carro', 'tipo_cartao','dia', 'momento'], dtype=tipos_specification,  sep= ',')\n",
    "# dia_17 = pd.read_csv('2018-11-17.csv', usecols=['id', 'linha', 'prefixo_carro', 'tipo_cartao','dia', 'momento'], dtype=tipos_specification,  sep= ',')\n",
    "# dia_18 = pd.read_csv('2018-11-18.csv', usecols=['id', 'linha', 'prefixo_carro', 'tipo_cartao','dia', 'momento'], dtype=tipos_specification,  sep= ',')\n",
    "# dia_19 = pd.read_csv('2018-11-19.csv', usecols=['id', 'linha', 'prefixo_carro', 'tipo_cartao','dia', 'momento'], dtype=tipos_specification, sep= ',')\n",
    "# dia_20 = pd.read_csv('2018-11-20.csv', usecols=['id', 'linha', 'prefixo_carro', 'tipo_cartao','dia', 'momento'], dtype=tipos_specification, sep= ',')"
   ]
  },
  {
   "cell_type": "code",
   "execution_count": null,
   "id": "ddae68f7",
   "metadata": {},
   "outputs": [],
   "source": [
    "# Continuando...\n",
    "# dia_21 = pd.read_csv('2018-11-21.csv', usecols=['id', 'linha', 'prefixo_carro', 'tipo_cartao','dia', 'momento'], dtype=tipos_specification,  sep= ',')\n",
    "# dia_22 = pd.read_csv('2018-11-22.csv', usecols=['id', 'linha', 'prefixo_carro', 'tipo_cartao','dia', 'momento'], dtype=tipos_specification,  sep= ',')\n",
    "# dia_23 = pd.read_csv('2018-11-23.csv', usecols=['id', 'linha', 'prefixo_carro', 'tipo_cartao','dia', 'momento'], dtype=tipos_specification,  sep= ',')\n",
    "# dia_24 = pd.read_csv('2018-11-24.csv', usecols=['id', 'linha', 'prefixo_carro', 'tipo_cartao','dia', 'momento'], dtype=tipos_specification,  sep= ',')\n",
    "# dia_25 = pd.read_csv('2018-11-25.csv', usecols=['id', 'linha', 'prefixo_carro', 'tipo_cartao','dia', 'momento'], dtype=tipos_specification,  sep= ',')\n",
    "# dia_26 = pd.read_csv('2018-11-26.csv', usecols=['id', 'linha', 'prefixo_carro', 'tipo_cartao','dia', 'momento'], dtype=tipos_specification,  sep= ',')\n",
    "# dia_27 = pd.read_csv('2018-11-27.csv', usecols=['id', 'linha', 'prefixo_carro', 'tipo_cartao','dia', 'momento'], dtype=tipos_specification,  sep= ',')\n",
    "# dia_28 = pd.read_csv('2018-11-28.csv', usecols=['id', 'linha', 'prefixo_carro', 'tipo_cartao','dia', 'momento'], dtype=tipos_specification,  sep= ',')\n",
    "# dia_29 = pd.read_csv('2018-11-29.csv', usecols=['id', 'linha', 'prefixo_carro', 'tipo_cartao','dia', 'momento'], dtype=tipos_specification,  sep= ',')\n",
    "dia_30 = pd.read_csv('2018-11-30.csv', usecols=['id', 'linha', 'prefixo_carro', 'tipo_cartao','dia', 'momento'], dtype=tipos_specification,  sep= ',')"
   ]
  },
  {
   "cell_type": "code",
   "execution_count": null,
   "id": "f4b4ee7b",
   "metadata": {},
   "outputs": [],
   "source": [
    "# Agrupando (10 dias)\n",
    "# dia_01_10 = pd.concat([dia_01, dia_02, dia_03, dia_04, dia_05, dia_06 ,dia_07, dia_08, dia_09, dia_10])"
   ]
  },
  {
   "cell_type": "code",
   "execution_count": null,
   "id": "626596ba",
   "metadata": {},
   "outputs": [],
   "source": [
    "# Continuando...\n",
    "# dia_11_20 = pd.concat([dia_11, dia_12, dia_13, dia_14, dia_15,dia_16, dia_17, dia_18, dia_19, dia_20])"
   ]
  },
  {
   "cell_type": "code",
   "execution_count": null,
   "id": "2cf982ac",
   "metadata": {},
   "outputs": [],
   "source": [
    "# Continuando...\n",
    "# dia_21_30 = pd.concat([dia_21, dia_22, dia_23, dia_24, dia_25, dia_26, dia_27, dia_28, dia_29, dia_30])"
   ]
  },
  {
   "cell_type": "code",
   "execution_count": null,
   "id": "7a52414b",
   "metadata": {},
   "outputs": [],
   "source": [
    "mes_tudo = dia_30"
   ]
  },
  {
   "cell_type": "code",
   "execution_count": null,
   "id": "43fce2a3",
   "metadata": {},
   "outputs": [],
   "source": [
    "# Caso precise exportar \n",
    "# mes_tudo.to_csv(\"mes_tudo\")"
   ]
  },
  {
   "cell_type": "code",
   "execution_count": null,
   "id": "e831ad21",
   "metadata": {},
   "outputs": [],
   "source": [
    "# informações do df\n",
    "mes_tudo.info()"
   ]
  },
  {
   "cell_type": "code",
   "execution_count": null,
   "id": "a56e0621",
   "metadata": {},
   "outputs": [],
   "source": [
    "# Mostrando dados nulos presentes\n",
    "mes_tudo.isnull().sum()"
   ]
  },
  {
   "cell_type": "code",
   "execution_count": null,
   "id": "8b2a6a20",
   "metadata": {},
   "outputs": [],
   "source": [
    "mes_tudo"
   ]
  },
  {
   "cell_type": "code",
   "execution_count": null,
   "id": "2682773d",
   "metadata": {},
   "outputs": [],
   "source": [
    "# Juntando dados daa colunas de interesse (dia, momento):\n",
    "mes_tudo[\"momento\"] = mes_tudo['dia'].astype(str) + '-' + mes_tudo['momento'].astype(str)"
   ]
  },
  {
   "cell_type": "code",
   "execution_count": null,
   "id": "448748f2",
   "metadata": {},
   "outputs": [],
   "source": [
    "# REMOVENDO COLUNAS DESNECESSÁRIAS!\n",
    "mes1 = mes_tudo.drop(['dia'], axis=1)"
   ]
  },
  {
   "cell_type": "code",
   "execution_count": null,
   "id": "f4280e23",
   "metadata": {
    "scrolled": true
   },
   "outputs": [],
   "source": [
    "mes1[\"momento\"] = pd.to_datetime(mes1[\"momento\"], format= '%Y-%m-%d-%H:%M:%S')"
   ]
  },
  {
   "cell_type": "code",
   "execution_count": null,
   "id": "c858dbf6",
   "metadata": {},
   "outputs": [],
   "source": [
    "# Visualizando dados nulos\n",
    "mes1[mes1['prefixo_carro'].isnull()]"
   ]
  },
  {
   "cell_type": "code",
   "execution_count": null,
   "id": "3b67dbe5",
   "metadata": {},
   "outputs": [],
   "source": [
    "''' Exitem validações de usuario na base que não tiveram a identificação do veiculo registrada - por serem uma pequena parte dos dados serão removidos para proceguimento do algoritimo '''"
   ]
  },
  {
   "cell_type": "code",
   "execution_count": null,
   "id": "68b152d3",
   "metadata": {},
   "outputs": [],
   "source": [
    "# Removendo dados nulos na coluna prefixo_carro\n",
    "mes_ = mes1.dropna(subset = ['prefixo_carro'])"
   ]
  },
  {
   "cell_type": "code",
   "execution_count": null,
   "id": "76290cfc",
   "metadata": {},
   "outputs": [],
   "source": [
    "# Função para identificar se há caracters\n",
    "def tem_caracters(col):\n",
    "    return any(char.isalpha() for char in str(col))"
   ]
  },
  {
   "cell_type": "code",
   "execution_count": null,
   "id": "83426608",
   "metadata": {},
   "outputs": [],
   "source": [
    "# Verificando \n",
    "prefixo_CARACTERS = pd.DataFrame(mes_[\"prefixo_carro\"])\n",
    "prefixo_resultado = prefixo_CARACTERS.applymap(tem_caracters)\n",
    "prefixo_resultado[prefixo_resultado.prefixo_carro == True]"
   ]
  },
  {
   "cell_type": "code",
   "execution_count": null,
   "id": "73ccb864",
   "metadata": {
    "scrolled": true
   },
   "outputs": [],
   "source": [
    "''' Existem alguns dias que a coluna de identificação dos veiculos apresentam caracteres na sua composiçao, por serem tambem um pequena parcela serão removidos para aplicação do metodo, mas inspeções poderiam explicar mais a ocorrencias dessa questão como de outras ja citadas '''"
   ]
  },
  {
   "cell_type": "code",
   "execution_count": null,
   "id": "77287750",
   "metadata": {},
   "outputs": [],
   "source": [
    "# Removenfdo identificação de veiculos com caracteris da coluna de prefixo_carro\n",
    "mes = mes_[pd.to_numeric(mes_['prefixo_carro'], errors='coerce').notnull()]"
   ]
  },
  {
   "cell_type": "code",
   "execution_count": null,
   "id": "c410eb02",
   "metadata": {},
   "outputs": [],
   "source": [
    "# Trasnformando coluna de prefixo carro em inteiro\n",
    "mes['prefixo_carro'] = mes['prefixo_carro'].astype('int32')"
   ]
  },
  {
   "cell_type": "code",
   "execution_count": null,
   "id": "e068fbac",
   "metadata": {},
   "outputs": [],
   "source": [
    "mes.info()"
   ]
  },
  {
   "cell_type": "code",
   "execution_count": null,
   "id": "1a630ae6",
   "metadata": {},
   "outputs": [],
   "source": [
    "# Última versão do df MES\n",
    "mes"
   ]
  },
  {
   "cell_type": "markdown",
   "id": "839393cf",
   "metadata": {},
   "source": [
    "## 1.2 leitura da base - Dicionário"
   ]
  },
  {
   "cell_type": "code",
   "execution_count": null,
   "id": "5818c54c",
   "metadata": {},
   "outputs": [],
   "source": [
    "# df', abaixo:\n",
    "d1 = pd.read_csv('veiculos2018.csv', sep= ';')"
   ]
  },
  {
   "cell_type": "code",
   "execution_count": null,
   "id": "bc24ee0d",
   "metadata": {
    "scrolled": true
   },
   "outputs": [],
   "source": [
    "# Mostrando Df\n",
    "display(d1)"
   ]
  },
  {
   "cell_type": "code",
   "execution_count": null,
   "id": "433246ec",
   "metadata": {
    "scrolled": true
   },
   "outputs": [],
   "source": [
    "d1"
   ]
  },
  {
   "cell_type": "code",
   "execution_count": null,
   "id": "476a682f",
   "metadata": {},
   "outputs": [],
   "source": [
    "''' Serão removidos os dados de caracteres na coluna de identificação dos veiculos, mas isso pode ser o principal motivo do não georreferenciamneto da base completa da bilhetagem '''"
   ]
  },
  {
   "cell_type": "code",
   "execution_count": null,
   "id": "b94313d8",
   "metadata": {},
   "outputs": [],
   "source": [
    "# Removenfdo identificação de veiculos com caracteris da coluna de cod_veiculo\n",
    "d01 = d1[pd.to_numeric(d1['cod_veiculo'], errors='coerce').notnull()]"
   ]
  },
  {
   "cell_type": "code",
   "execution_count": null,
   "id": "c7d282e5",
   "metadata": {},
   "outputs": [],
   "source": [
    "d01.info()"
   ]
  },
  {
   "cell_type": "code",
   "execution_count": null,
   "id": "063ec36d",
   "metadata": {},
   "outputs": [],
   "source": [
    "# Trasnformando coluna de prefixo carro em inteiro\n",
    "d01['cod_veiculo'] = d01['cod_veiculo'].astype('int32')\n",
    "d01['id_veiculo'] = d01['id_veiculo'].astype('int32')"
   ]
  },
  {
   "cell_type": "code",
   "execution_count": null,
   "id": "11429eb1",
   "metadata": {},
   "outputs": [],
   "source": [
    "d01['cod_veiculo'].sort_index()"
   ]
  },
  {
   "cell_type": "code",
   "execution_count": null,
   "id": "8754fad7",
   "metadata": {
    "scrolled": true
   },
   "outputs": [],
   "source": [
    "# Contagem de dados nulos \n",
    "d1.isnull().sum()"
   ]
  },
  {
   "cell_type": "markdown",
   "id": "40a0e798",
   "metadata": {},
   "source": [
    "## 1.3 leitura do base - GPS (Tratamento INICIAL)"
   ]
  },
  {
   "cell_type": "code",
   "execution_count": null,
   "id": "e8bd351c",
   "metadata": {},
   "outputs": [],
   "source": [
    "import pandas as pd\n",
    "\n",
    "# Definindo o número de linhas que você deseja ler\n",
    "numero_de_linhas_para_ler = 45000000  # Substitua pelo número desejado\n",
    "dtype_specification = {'longitude': 'float32', 'latitude': 'float32', 'vehicle_vehicleid': 'int32'}\n",
    "\n",
    "# Usando o pandas para ler o CSV, limitando o número de linhas com a opção nrows\n",
    "mes_ate_45_milhoes = pd.read_csv('Paint112018.csv',usecols=['latitude', 'longitude', 'metrictimestamp', 'vehicle_vehicleid'], dtype=dtype_specification, nrows=numero_de_linhas_para_ler)"
   ]
  },
  {
   "cell_type": "code",
   "execution_count": null,
   "id": "ec503c87",
   "metadata": {
    "scrolled": true
   },
   "outputs": [],
   "source": [
    "# Lendo restante do arquivo\n",
    "mes_resto = pd.read_csv('Paint112018.csv', usecols=['latitude', 'longitude','metrictimestamp', 'vehicle_vehicleid'],dtype=dtype_specification, skiprows=range(1, numero_de_linhas_para_ler + 1))"
   ]
  },
  {
   "cell_type": "code",
   "execution_count": null,
   "id": "21e55def",
   "metadata": {},
   "outputs": [],
   "source": [
    "# Juntando em um mesmo df\n",
    "GPS_I_H =  pd.concat([mes_ate_45_milhoes, mes_resto]) "
   ]
  },
  {
   "cell_type": "code",
   "execution_count": null,
   "id": "c0dbb0de",
   "metadata": {},
   "outputs": [],
   "source": [
    "# Informações da base\n",
    "GPS_I_H.info()"
   ]
  },
  {
   "cell_type": "code",
   "execution_count": null,
   "id": "592f0147",
   "metadata": {},
   "outputs": [],
   "source": [
    "# Formatando coluna com informaçãoes de data\n",
    "GPS_I_H['momento'] = pd.to_datetime(GPS_I_H['metrictimestamp'],format= '%Y%m%d%H%M%S')"
   ]
  },
  {
   "cell_type": "code",
   "execution_count": null,
   "id": "16a1318f",
   "metadata": {},
   "outputs": [],
   "source": [
    "# Removendo coluna desnecessária \n",
    "GPS_I_H.drop(\"metrictimestamp\", axis= 1, inplace= True)"
   ]
  },
  {
   "cell_type": "code",
   "execution_count": null,
   "id": "6eb3cb11",
   "metadata": {},
   "outputs": [],
   "source": [
    "# Renomear coluna de vehicle_vehicleid para id_veiculo:\n",
    "GPS_I_H.columns=['latitude', 'longitude','id_veiculo', 'momento']"
   ]
  },
  {
   "cell_type": "code",
   "execution_count": null,
   "id": "558b35d2",
   "metadata": {
    "scrolled": true
   },
   "outputs": [],
   "source": [
    "''' A coluna momento terá o mesmo nome da coluna de tempo da bilhetagem e apos a mesclagem para obter informaçõs dos veiculos associando as suas linhas de operação somente ira permanecer a coluna de monento da bilhetagem '''"
   ]
  },
  {
   "cell_type": "markdown",
   "id": "77b94302",
   "metadata": {},
   "source": [
    "## 1.3.1 Separando base do GPS Bruto NO DIA QUE SE DESEJA EXTRAIR VELOCIDADES"
   ]
  },
  {
   "cell_type": "code",
   "execution_count": null,
   "id": "0e3ae644",
   "metadata": {},
   "outputs": [],
   "source": [
    "# Filtrando dia especifico\n",
    "dia_especifico_gps_bruto_ = GPS_I_H[(GPS_I_H.momento>'2018-11-29 23:59:59') & (GPS_I_H.momento<='2018-11-30 23:59:59')]"
   ]
  },
  {
   "cell_type": "code",
   "execution_count": null,
   "id": "50b0fa86",
   "metadata": {},
   "outputs": [],
   "source": [
    "# Exportando dados (caso necessário)\n",
    "# dia_01_gps_bruto.to_excel('dia_01_gps_bruto.xlsx')"
   ]
  },
  {
   "cell_type": "code",
   "execution_count": null,
   "id": "0a014b49",
   "metadata": {},
   "outputs": [],
   "source": [
    "# Colocando df em ordem na coluna momento para mesclagem\n",
    "dia_especifico_gps_bruto = dia_especifico_gps_bruto_.sort_values('momento')"
   ]
  },
  {
   "cell_type": "code",
   "execution_count": null,
   "id": "1beea595",
   "metadata": {
    "scrolled": true
   },
   "outputs": [],
   "source": [
    "dia_especifico_gps_bruto"
   ]
  },
  {
   "cell_type": "markdown",
   "id": "40214ab6",
   "metadata": {},
   "source": [
    "# 2.0 Junção da bilhetagem com o dicionário "
   ]
  },
  {
   "cell_type": "code",
   "execution_count": null,
   "id": "9160a394",
   "metadata": {},
   "outputs": [],
   "source": [
    "# Acrescentando dicionário\n",
    "mes_d1= mes.merge(d01, left_on= 'prefixo_carro', right_on='cod_veiculo')"
   ]
  },
  {
   "cell_type": "code",
   "execution_count": null,
   "id": "64d86cfe",
   "metadata": {},
   "outputs": [],
   "source": [
    "# Base da Bilhetagem adicionado o dicionario\n",
    "mes_d1"
   ]
  },
  {
   "cell_type": "code",
   "execution_count": null,
   "id": "be3e33ef",
   "metadata": {},
   "outputs": [],
   "source": [
    "# informações da base \n",
    "mes_d1.info()"
   ]
  },
  {
   "cell_type": "code",
   "execution_count": null,
   "id": "0ce9467f",
   "metadata": {},
   "outputs": [],
   "source": [
    "# Colocando momento em ordem para operação de mesclagem\n",
    "mes_geo = mes_d1.sort_values('momento')"
   ]
  },
  {
   "cell_type": "code",
   "execution_count": null,
   "id": "6a7dfa1b",
   "metadata": {},
   "outputs": [],
   "source": [
    "# Reiniciando a contagem dos index\n",
    "mes_geo.reset_index(inplace=True)"
   ]
  },
  {
   "cell_type": "code",
   "execution_count": null,
   "id": "7367f64a",
   "metadata": {},
   "outputs": [],
   "source": [
    "mes_geo"
   ]
  },
  {
   "cell_type": "code",
   "execution_count": null,
   "id": "5f9d6992",
   "metadata": {},
   "outputs": [],
   "source": [
    "# REMOVENDO COLUNA DESNECESSÁRIA - informação de identificação dos veiculos agora presente em duas colunas!\n",
    "mes_georr = mes_geo.drop([\"prefixo_carro\"], axis=1)"
   ]
  },
  {
   "cell_type": "code",
   "execution_count": null,
   "id": "06d050ab",
   "metadata": {},
   "outputs": [],
   "source": [
    "mes_georr.info()"
   ]
  },
  {
   "cell_type": "code",
   "execution_count": null,
   "id": "39440cdb",
   "metadata": {},
   "outputs": [],
   "source": [
    "''' AGORA TEMOS DATAFRAME DA BILHETAGEM E DO GPS NO FORMATO QUE PODEMOS FAZER A associação pelo momento para o mesmo veiculo '''"
   ]
  },
  {
   "cell_type": "markdown",
   "id": "f11b85d5",
   "metadata": {},
   "source": [
    "# 3.0 Integração da coordenada aproximada do ônibus na bilhetagem"
   ]
  },
  {
   "cell_type": "code",
   "execution_count": null,
   "id": "1da441f5",
   "metadata": {},
   "outputs": [],
   "source": [
    "# Coordenada anterior mais proxima do ônibus é extraída da base de GPS e integrada na base da bilhetagem (SOMENTE COLUMAS MOMENTO E ID)\n",
    "mes_d1_GPS = pd.merge_asof(mes_georr, dia_especifico_gps_bruto, left_on='momento', right_on='momento', by='id_veiculo', direction ='nearest')"
   ]
  },
  {
   "cell_type": "code",
   "execution_count": null,
   "id": "50082f48",
   "metadata": {},
   "outputs": [],
   "source": [
    "mes_d1_GPS.isnull().sum()"
   ]
  },
  {
   "cell_type": "code",
   "execution_count": null,
   "id": "8df4a3ee",
   "metadata": {},
   "outputs": [],
   "source": [
    "''' Alguns dados geometricos possuem valores nulos - esses valores ja vem com esse configuração da base do GPS '''"
   ]
  },
  {
   "cell_type": "code",
   "execution_count": null,
   "id": "2b1aa461",
   "metadata": {},
   "outputs": [],
   "source": [
    "# Base da bilhetagem localizada \n",
    "mes_d1_GPS"
   ]
  },
  {
   "cell_type": "markdown",
   "id": "a24ca827",
   "metadata": {},
   "source": [
    "# 4.0 Plotagem da bilhetagem georreferenciada"
   ]
  },
  {
   "cell_type": "markdown",
   "id": "39ac1188",
   "metadata": {},
   "source": [
    "## 4.1 Intalação das bibliotecas e importação\n",
    "''' OBS: Os codigos abaixo serão deixados no arquivo, contudo o objetivo do procedimento não é visualização dos dados de bilhetagem localizados mas serão utilizados essas bibliotecas para visualização dos dados do GPS no trecho em analise! '''"
   ]
  },
  {
   "cell_type": "code",
   "execution_count": null,
   "id": "3f868dec",
   "metadata": {},
   "outputs": [],
   "source": [
    "# INSTALANDO A BIBLIOTECA GEOPANDAS COM CONDA\n",
    "# !conda install geopandas -y\n",
    "\n",
    "# instalando com pip\n",
    "!pip install-q geopandas"
   ]
  },
  {
   "cell_type": "code",
   "execution_count": null,
   "id": "4bff46e4",
   "metadata": {},
   "outputs": [],
   "source": [
    "# mostrar a versão da biblioteca \n",
    "# !pip list geopandas"
   ]
  },
  {
   "cell_type": "code",
   "execution_count": null,
   "id": "a569b574",
   "metadata": {},
   "outputs": [],
   "source": [
    "# instalando a biblioteca matplotlib com conda\n",
    "# !conda install matplotlib -y\n",
    "\n",
    "# instalando com pip\n",
    "# !pip install -q matplotlib"
   ]
  },
  {
   "cell_type": "code",
   "execution_count": null,
   "id": "1a9abb87",
   "metadata": {},
   "outputs": [],
   "source": [
    "# mostrar a versão da biblioteca \n",
    "# !pip list matplotlib"
   ]
  },
  {
   "cell_type": "code",
   "execution_count": null,
   "id": "d06196c2",
   "metadata": {},
   "outputs": [],
   "source": [
    "# importando as bibliotecas\n",
    "import geopandas as gpd\n",
    "import matplotlib.pyplot as plt"
   ]
  },
  {
   "cell_type": "markdown",
   "id": "efe98a5c",
   "metadata": {},
   "source": [
    "## 4.2 Leitura de dados espaciais "
   ]
  },
  {
   "cell_type": "code",
   "execution_count": null,
   "id": "84d7abdd",
   "metadata": {},
   "outputs": [],
   "source": [
    "# Ler os dados com geopandas\n",
    "ceara_muni = gpd.read_file('CE_Municipios_2022.shp')"
   ]
  },
  {
   "cell_type": "markdown",
   "id": "2d770a23",
   "metadata": {},
   "source": [
    "### 4.2.1 Visualização dos dados "
   ]
  },
  {
   "cell_type": "code",
   "execution_count": null,
   "id": "9a671f9e",
   "metadata": {},
   "outputs": [],
   "source": [
    "# Visualização\n",
    "# ceara_muni.plot(figsize=(16,14), facecolor='white', edgecolor='black') \n",
    "#plt.show()"
   ]
  },
  {
   "cell_type": "markdown",
   "id": "fb87a0a6",
   "metadata": {},
   "source": [
    "### 4.2.2 Filtro somente da capital "
   ]
  },
  {
   "cell_type": "code",
   "execution_count": null,
   "id": "5abfa764",
   "metadata": {},
   "outputs": [],
   "source": [
    "# Salvando somente a capital 'Fortaleza'\n",
    "fortal = ceara_muni[ceara_muni.NM_MUN=='Fortaleza']\n",
    "fortal_p = fortal.iloc[0].geometry"
   ]
  },
  {
   "cell_type": "code",
   "execution_count": null,
   "id": "9bde65e2",
   "metadata": {},
   "outputs": [],
   "source": [
    "# Mostrar capital \n",
    "fortal_p"
   ]
  },
  {
   "cell_type": "code",
   "execution_count": null,
   "id": "227be858",
   "metadata": {},
   "outputs": [],
   "source": [
    "# Salvar o geodataframe com formato geojson\n",
    "filename =  'fortal.json'\n",
    "fortal.to_file(filename, driver='GeoJSON')"
   ]
  },
  {
   "cell_type": "code",
   "execution_count": null,
   "id": "07c1c892",
   "metadata": {},
   "outputs": [],
   "source": [
    "fortall = gpd.read_file(filename, driver='GeoJSON')"
   ]
  },
  {
   "cell_type": "code",
   "execution_count": null,
   "id": "45b71344",
   "metadata": {},
   "outputs": [],
   "source": [
    "fortall"
   ]
  },
  {
   "cell_type": "markdown",
   "id": "86768fd6",
   "metadata": {},
   "source": [
    "### 4.2.3 Modelo de dados espaciais e criação de coluna geometrica "
   ]
  },
  {
   "cell_type": "code",
   "execution_count": null,
   "id": "3f54168b",
   "metadata": {},
   "outputs": [],
   "source": [
    "# Instalando biblioteca shapely com pip\n",
    "!pip install -q shapely\n",
    "# Mostrar versão da biblioteca \n",
    "# !pip list shapely"
   ]
  },
  {
   "cell_type": "code",
   "execution_count": null,
   "id": "dd8a9594",
   "metadata": {},
   "outputs": [],
   "source": [
    "# importando os objetos geométricos da biblioteca shapely\n",
    "from shapely.geometry import Point, LineString, Polygon"
   ]
  },
  {
   "cell_type": "code",
   "execution_count": null,
   "id": "9d53b654",
   "metadata": {},
   "outputs": [],
   "source": [
    "# Criando coluna geometerica no df (mes_d1_GPS)\n",
    "# mes_d1_GPS['geometry'] = None \n",
    "# for index, row in mes_d1_GPS.iterrows():\n",
    "    #mes_d1_GPS.loc[index, 'geometry'] = Point(row.latitude, row.longitude)"
   ]
  },
  {
   "cell_type": "code",
   "execution_count": null,
   "id": "8807fca5",
   "metadata": {},
   "outputs": [],
   "source": [
    "# mes_d1_GPS"
   ]
  },
  {
   "cell_type": "code",
   "execution_count": null,
   "id": "346e1d11",
   "metadata": {},
   "outputs": [],
   "source": [
    "# Criando coluna geometerica no df (mes_d1_GPS)\n",
    "# mes_d1_GPS['geometry'] = mes_d1_GPS.apply(lambda x: Point((float(x.longitude), float(x.latitude))), axis=1)"
   ]
  },
  {
   "cell_type": "code",
   "execution_count": null,
   "id": "2cdb88be",
   "metadata": {},
   "outputs": [],
   "source": [
    "# tipos de dados \n",
    "# type(mes_d1_GPS)"
   ]
  },
  {
   "cell_type": "code",
   "execution_count": null,
   "id": "3b0d618c",
   "metadata": {},
   "outputs": [],
   "source": [
    "# Criando um GeoDataFrame \n",
    "# mes_d1_GPS_geodat_ = gpd.GeoDataFrame(mes_d1_GPS, geometry='geometry')"
   ]
  },
  {
   "cell_type": "code",
   "execution_count": null,
   "id": "e655b160",
   "metadata": {
    "scrolled": true
   },
   "outputs": [],
   "source": [
    "# Reatribuindo mes localizado\n",
    "mes_d1_GPS_geodat_= mes_d1_GPS"
   ]
  },
  {
   "cell_type": "code",
   "execution_count": null,
   "id": "ee751f8e",
   "metadata": {},
   "outputs": [],
   "source": [
    "# Salvar o geodataframe com formato geojson\n",
    "# filename2 =  'mes_d1_GPS_geodat_.json'\n",
    "# mes_d1_GPS_geodat_.to_file(filename2, driver='GeoJSON')"
   ]
  },
  {
   "cell_type": "code",
   "execution_count": null,
   "id": "66ef5791",
   "metadata": {},
   "outputs": [],
   "source": [
    "# mes_d1_GPS_geodat = gpd.read_file(filename2, driver='GeoJSON')"
   ]
  },
  {
   "cell_type": "code",
   "execution_count": null,
   "id": "5ab93530",
   "metadata": {
    "scrolled": false
   },
   "outputs": [],
   "source": [
    "# plotando dados (visualização)\n",
    "# mes_d1_GPS_geodat.plot(figsize=(8,8), facecolor='white', edgecolor='black')"
   ]
  },
  {
   "cell_type": "code",
   "execution_count": null,
   "id": "700fcbe1",
   "metadata": {},
   "outputs": [],
   "source": [
    "# type(mes_d1_GPS_geodat)"
   ]
  },
  {
   "cell_type": "markdown",
   "id": "52849dd7",
   "metadata": {},
   "source": [
    "### 4.2.4 Operação de interseção entre geometrias "
   ]
  },
  {
   "cell_type": "code",
   "execution_count": null,
   "id": "6f35c01c",
   "metadata": {},
   "outputs": [],
   "source": [
    "# Mostrar os dados simultaneamente\n",
    "# fig, ax = plt.subplots(figsize=(15,15))\n",
    "\n",
    "# mes_d1_GPS_geodat.plot(ax=ax)\n",
    "# fortall.plot(ax=ax, facecolor='None', edgecolor='black')"
   ]
  },
  {
   "cell_type": "code",
   "execution_count": null,
   "id": "1abda072",
   "metadata": {},
   "outputs": [],
   "source": [
    "# VERIFICAMOS QUE EXISTEM DADOS GEORREFERENCIADOS FORA DA MALHA DA CIDADE, PODENDO SER NA SUA MAIORIA REGISTRO DOS VEICULOS\n",
    "# QUANDO SE DESLOCARAM PARA OUTRAS ZONAS, OU ATÉ MESMO ERROS DO APARELHO DE GPS, COMO MOSTRA NA FIGURA ACIMA UM REGISTRO \n",
    "# PRATICAMENTE NO MAR."
   ]
  },
  {
   "cell_type": "code",
   "execution_count": null,
   "id": "54c2bd00",
   "metadata": {},
   "outputs": [],
   "source": [
    "# Realizar operação de interseção entre geometrias\n",
    "# mes_geo_fortal = mes_d1_GPS_geodat[mes_d1_GPS_geodat.intersects(fortal_p)]"
   ]
  },
  {
   "cell_type": "code",
   "execution_count": null,
   "id": "663eb362",
   "metadata": {},
   "outputs": [],
   "source": [
    "# mes_geo_fortal.info()"
   ]
  },
  {
   "cell_type": "code",
   "execution_count": null,
   "id": "a7effc8f",
   "metadata": {},
   "outputs": [],
   "source": [
    "# NOTAMOS QUE DOS 891038 DADOS DE VALIDAÇÕES APENAS 825386 foram localizadas dentro da malha da cidade, seguimos com estas!"
   ]
  },
  {
   "cell_type": "code",
   "execution_count": null,
   "id": "2bfab847",
   "metadata": {},
   "outputs": [],
   "source": [
    "# Mostrar os dados simultaneamente após interseção\n",
    "# fig, ax = plt.subplots(figsize=(10,10))\n",
    "\n",
    "# mes_geo_fortal.plot(ax=ax)\n",
    "# fortall.plot(ax=ax, facecolor='None', edgecolor='black')"
   ]
  },
  {
   "cell_type": "code",
   "execution_count": null,
   "id": "6fc46c7e",
   "metadata": {},
   "outputs": [],
   "source": [
    "# Salvando os dados georreferenciados em fortaleza \n",
    "# filename3 = 'mes_geo_fortal.json'\n",
    "\n",
    "# mes_geo_fortal.to_file(filename3, driver='GeoJSON')"
   ]
  },
  {
   "cell_type": "markdown",
   "id": "6194b85f",
   "metadata": {},
   "source": [
    "### 4.2.5 Mostrando dados no mapa de agrupamento (clusters)"
   ]
  },
  {
   "cell_type": "code",
   "execution_count": null,
   "id": "0d0a5597",
   "metadata": {
    "scrolled": true
   },
   "outputs": [],
   "source": [
    "# Instalando biblioteca folium com pip!\n",
    "!pip install -q folium"
   ]
  },
  {
   "cell_type": "code",
   "execution_count": null,
   "id": "0ddf5ba0",
   "metadata": {},
   "outputs": [],
   "source": [
    "# importando biblioteca folium e pluging\n",
    "import folium \n",
    "from folium.plugins import FastMarkerCluster"
   ]
  },
  {
   "cell_type": "code",
   "execution_count": null,
   "id": "e8ed3d1a",
   "metadata": {},
   "outputs": [],
   "source": [
    "# Criar mapa de agrupamentos (clusters)\n",
    "# media_long = mes_geo_fortal['longitude'].mean()\n",
    "# media_lat = mes_geo_fortal['latitude'].mean()\n",
    "\n",
    "# mapa = folium.Map(location=[media_lat, media_long])"
   ]
  },
  {
   "cell_type": "code",
   "execution_count": null,
   "id": "31e70fc1",
   "metadata": {},
   "outputs": [],
   "source": [
    "# Transformando dados em uma feat geojson\n",
    "# mc = FastMarkerCluster(mes_geo_fortal[['latitude', 'longitude']])"
   ]
  },
  {
   "cell_type": "code",
   "execution_count": null,
   "id": "819e1e47",
   "metadata": {},
   "outputs": [],
   "source": [
    "# Poligonal da cidade no mapa - utilizado na visualização\n",
    "limites = folium.features.GeoJson(fortall, style_function=lambda feature:{'color': 'black', 'weight': 2, 'fillOpacity':0.0})"
   ]
  },
  {
   "cell_type": "code",
   "execution_count": null,
   "id": "dfed19eb",
   "metadata": {},
   "outputs": [],
   "source": [
    "# Adicionando dados no mapa\n",
    "# mapa.add_child(mc)\n",
    "# mapa.add_child(limites)       "
   ]
  },
  {
   "cell_type": "code",
   "execution_count": null,
   "id": "5e172a7c",
   "metadata": {},
   "outputs": [],
   "source": [
    "# Salvar o nosso mapa em um arquivo html\n",
    "# mapa.save('validações_georreferenciadas.html')"
   ]
  },
  {
   "cell_type": "markdown",
   "id": "94a834fb",
   "metadata": {},
   "source": [
    "### 4.2.6 Mostrando dados no mapa de calor (Heatmap)"
   ]
  },
  {
   "cell_type": "code",
   "execution_count": null,
   "id": "bb213b8b",
   "metadata": {},
   "outputs": [],
   "source": [
    "# Importando a plugin HeatMap\n",
    "# from folium.plugins import HeatMap"
   ]
  },
  {
   "cell_type": "code",
   "execution_count": null,
   "id": "c2033d24",
   "metadata": {},
   "outputs": [],
   "source": [
    "# Criando mapa II\n",
    "# mapa_2 = folium.Map(location=[media_lat, media_long]) \n",
    "\n",
    "# Criando heat_map\n",
    "# heat_map = HeatMap(mes_geo_fortal[['latitude', 'longitude']])     "
   ]
  },
  {
   "cell_type": "code",
   "execution_count": null,
   "id": "791b81af",
   "metadata": {},
   "outputs": [],
   "source": [
    "# Adicionando no map\n",
    "# mapa_2.add_child(heat_map)\n",
    "# mapa_2.add_child(limites)"
   ]
  },
  {
   "cell_type": "code",
   "execution_count": null,
   "id": "02d1a01c",
   "metadata": {},
   "outputs": [],
   "source": [
    "# Salvar o nosso mapa em um arquivo html\n",
    "# mapa_2.save('validações_georreferenciadas_Heatmap_calor.html')"
   ]
  },
  {
   "cell_type": "markdown",
   "id": "49a34923",
   "metadata": {},
   "source": [
    "# 5.0 Testes"
   ]
  },
  {
   "cell_type": "markdown",
   "id": "ea839d71",
   "metadata": {},
   "source": [
    "## 5.1.0 Motivo do não georreferenciamento da base completa da bilhetagem"
   ]
  },
  {
   "cell_type": "code",
   "execution_count": null,
   "id": "38036f6b",
   "metadata": {
    "scrolled": true
   },
   "outputs": [],
   "source": [
    "# Inspeção na base da bilhetagem e do dicionario para um veiculo especifico\n",
    "veiculo_12994 = mes[mes.prefixo_carro==12994]"
   ]
  },
  {
   "cell_type": "code",
   "execution_count": null,
   "id": "1dd7dbf1",
   "metadata": {},
   "outputs": [],
   "source": [
    "# NOTAMOS QUE ESSE VEICULO ESPECIFICO POSSUI REGISTROS NA BILHETAGEM"
   ]
  },
  {
   "cell_type": "code",
   "execution_count": null,
   "id": "be428117",
   "metadata": {},
   "outputs": [],
   "source": [
    "### Verificando dados que estão presentes na base da bilhetagem e não na base do dicionario\n",
    "lista = d01.cod_veiculo.unique()\n",
    "mes.isin({'prefixo_carro':lista}).prefixo_carro.value_counts(1)"
   ]
  },
  {
   "cell_type": "code",
   "execution_count": null,
   "id": "dde8ec7b",
   "metadata": {},
   "outputs": [],
   "source": [
    "# OU SEJA, DOS 100% DE DADOS NA BILHETAGEM APENAS 86,78% POSSUI UM CODIGO CORRESPONDENTE NA BASE DO DICIONARIO!"
   ]
  },
  {
   "cell_type": "code",
   "execution_count": null,
   "id": "98b4e235",
   "metadata": {},
   "outputs": [],
   "source": [
    "# VERIFICAÇÃO DO VEICULO 12994 NA BASE DO DICIONARIO \n",
    "d01[d01.cod_veiculo == 12993]"
   ]
  },
  {
   "cell_type": "code",
   "execution_count": null,
   "id": "733b7b94",
   "metadata": {},
   "outputs": [],
   "source": [
    "''' CONCLUSÃO, APÓS INSPEÇÃO NOTAMOS QUE NÃO FOI POSSIVEL GEORREFERENCIAR A BASE DA BILHETAGEM COMPLETA POIS PARA ALGUNS VEICULOS NÃO TEM UM CODIGO DE VEICULO CORRESPONDENTE NA BASE DO DICIONARIO E CONSEQUENTIMENTE NÃO VAI SER LOCALIZADO NA BASE DO GPS, ASSIM UMA PERCENTAGEM DOS DADOS DA BILHETAGEM TIVERAM COORDENADA APROXIMADA DE VALIDAÇÃO GEORREFERENCIADA e o metodo aplicado não considerou os dados com caracters do dicionario, uma abordagem tratando esses dados sem removelos pode aumentar a quantidade de validações localizadas! ''' "
   ]
  },
  {
   "cell_type": "markdown",
   "id": "6cf62f62",
   "metadata": {},
   "source": [
    "# 6.0 Extraindo velocidades instantâneas da base do GPS (veiculos das linhas)\n",
    "''' Esse algoritimo é aplicado por dia, isto é, se carrega e filtra o dia para extrair as velocidades nos topicos: 1.1; 1.3.1 e 6.1.1 (filtrar horario de pico no dia) '''"
   ]
  },
  {
   "cell_type": "code",
   "execution_count": null,
   "id": "a73e34ca",
   "metadata": {},
   "outputs": [],
   "source": [
    "# importando geopandas\n",
    "import geopandas as gpd"
   ]
  },
  {
   "cell_type": "code",
   "execution_count": null,
   "id": "32a8cb13",
   "metadata": {
    "scrolled": true
   },
   "outputs": [],
   "source": [
    "# Criando coluna geometrica PARA MANIPULAÇÃO DA BASE\n",
    "# GPS_geo['geometry'] = GPS_geo.apply(lambda x: Point((float(x.longitude), float(x.latitude))), axis=1)"
   ]
  },
  {
   "cell_type": "code",
   "execution_count": null,
   "id": "ca210f57",
   "metadata": {},
   "outputs": [],
   "source": [
    "''' A criação de coluna geometrica será apos filtragem dos veciulos do GPS no trecho para nõa necessitar de um grande espaço para alocar essa informação de toda a base '''"
   ]
  },
  {
   "cell_type": "markdown",
   "id": "0013dbdd",
   "metadata": {},
   "source": [
    "## 6.1 Identificação de veiculos da Linhas de interesse"
   ]
  },
  {
   "cell_type": "code",
   "execution_count": null,
   "id": "66dc2e0f",
   "metadata": {
    "scrolled": true
   },
   "outputs": [],
   "source": [
    "# Filtrando veiculo da linha de interesse do df da bilhetagem georreferenciada (linha ja era conhecida e filtragem é para inspeção)\n",
    "linha = mes_d1_GPS_geodat_[mes_d1_GPS_geodat_.id_veiculo==33183]\n",
    "linha"
   ]
  },
  {
   "cell_type": "code",
   "execution_count": null,
   "id": "e9b81441",
   "metadata": {},
   "outputs": [],
   "source": [
    "# Linhas que o veiculo esteve no dia especifco\n",
    "grupo = linha['linha'].unique()\n",
    "grupo"
   ]
  },
  {
   "cell_type": "code",
   "execution_count": null,
   "id": "25a1885a",
   "metadata": {},
   "outputs": [],
   "source": [
    "# Verificando veiculos das linhas desejadas - Linhas ja eram conhecidas\n",
    "veiculos_linha_86 = mes_d1_GPS_geodat_[(mes_d1_GPS_geodat_['linha'] == 26) | (mes_d1_GPS_geodat_['linha'] == 28)  | (mes_d1_GPS_geodat_['linha'] == 71)  | (mes_d1_GPS_geodat_['linha'] == 76)  | (mes_d1_GPS_geodat_['linha'] == 79)  | (mes_d1_GPS_geodat_['linha'] == 86)  | (mes_d1_GPS_geodat_['linha'] == 88)  | (mes_d1_GPS_geodat_['linha'] == 200)  | (mes_d1_GPS_geodat_['linha'] == 222)  | (mes_d1_GPS_geodat_['linha'] == 757)  | (mes_d1_GPS_geodat_['linha'] == 855)]"
   ]
  },
  {
   "cell_type": "code",
   "execution_count": null,
   "id": "39e03cd2",
   "metadata": {
    "scrolled": true
   },
   "outputs": [],
   "source": [
    "# Mostrando df com os veiculos do filtro\n",
    "veiculos_linha_86 "
   ]
  },
  {
   "cell_type": "code",
   "execution_count": null,
   "id": "603c7c7d",
   "metadata": {
    "scrolled": true
   },
   "outputs": [],
   "source": [
    "# Verificando os diferentes veiculos da linha de interesse\n",
    "veiculos_linha_especifica = veiculos_linha_86['id_veiculo'].unique()\n",
    "veiculos_linha_especifica"
   ]
  },
  {
   "cell_type": "markdown",
   "id": "ee271a9a",
   "metadata": {},
   "source": [
    "## 6.1.1 Filtragem de veiculos da Linhas de interesse"
   ]
  },
  {
   "cell_type": "code",
   "execution_count": null,
   "id": "ddfc2963",
   "metadata": {},
   "outputs": [],
   "source": [
    "###############################################  Filtrando veiculos espeficos  ###########################################################\n",
    "lista_veiculos = veiculos_linha_especifica\n",
    "\n",
    "viculos_especificos__ = dia_especifico_gps_bruto[dia_especifico_gps_bruto[\"id_veiculo\"].isin(lista_veiculos)]\n",
    "viculos_especificos__\n",
    "##########################################################################################################################################"
   ]
  },
  {
   "cell_type": "code",
   "execution_count": null,
   "id": "f4659549",
   "metadata": {},
   "outputs": [],
   "source": [
    "# FILTRANDO DADOS DO VECIULO EM TRECHO ESPECIFICO\n",
    "viculos_especificos__ = viculos_especificos__[(viculos_especificos__.latitude>=-3.73667)\n",
    "    & (viculos_especificos__.longitude>=-38.56944) & (viculos_especificos__.longitude<=-38.54167) \n",
    "                                & (viculos_especificos__.latitude<=-3.73083)]"
   ]
  },
  {
   "cell_type": "code",
   "execution_count": null,
   "id": "8afed747",
   "metadata": {},
   "outputs": [],
   "source": [
    "''' Foi atribuido um trecho para captação dos registro do GPS antes e depois do trecho real de interesse: Comeco ((-3.73667, -38.56944)) e Fim (-3.73083, -38.54167) ''' "
   ]
  },
  {
   "cell_type": "code",
   "execution_count": null,
   "id": "0c4c93fa",
   "metadata": {},
   "outputs": [],
   "source": [
    "# Filtrando os registros no horario de pico do dia a ser extraido as velocidades \n",
    "viculos_especificos_TRECHO__ = viculos_especificos__[(viculos_especificos__.momento>= \n",
    "                '2018-11-30 06:00:00') & (viculos_especificos__.momento<='2018-11-30 10:00:00')]"
   ]
  },
  {
   "cell_type": "code",
   "execution_count": null,
   "id": "7b2124c7",
   "metadata": {},
   "outputs": [],
   "source": [
    "# Colocando coluna de momento em ordem\n",
    "viculos_especificos_TRECHO_= viculos_especificos_TRECHO__.sort_values('momento')"
   ]
  },
  {
   "cell_type": "code",
   "execution_count": null,
   "id": "6cde29dc",
   "metadata": {
    "scrolled": true
   },
   "outputs": [],
   "source": [
    "# Criando coluna geometrica\n",
    "viculos_especificos_TRECHO_['geometry'] = viculos_especificos_TRECHO_.apply(lambda x: Point((float(x.longitude), float(x.latitude))), axis=1)"
   ]
  },
  {
   "cell_type": "code",
   "execution_count": null,
   "id": "764f743a",
   "metadata": {},
   "outputs": [],
   "source": [
    "viculos_especificos_TRECHO_"
   ]
  },
  {
   "cell_type": "markdown",
   "id": "d8a0b13c",
   "metadata": {},
   "source": [
    "## 6.1.2 Vizualização dos dados no trecho"
   ]
  },
  {
   "cell_type": "code",
   "execution_count": null,
   "id": "8021e29e",
   "metadata": {},
   "outputs": [],
   "source": [
    "## 5.2.1 Importando malha da cidade# Visualizando dados filtrados \n",
    "# importando biblioteca folium e plugins\n",
    "import folium \n",
    "from folium.plugins import FastMarkerCluster\n",
    "\n",
    "# Criando media para visulização do mapa proximo a região dos dados geometricos\n",
    "log = viculos_especificos_TRECHO_['longitude'].mean()\n",
    "lag = viculos_especificos_TRECHO_['latitude'].mean()"
   ]
  },
  {
   "cell_type": "code",
   "execution_count": null,
   "id": "79c9bc95",
   "metadata": {},
   "outputs": [],
   "source": [
    "# Criando mapa \n",
    "mapa_viculo_especifico_TRECHO = folium.Map(location=[lag , log], zoom_start=10)"
   ]
  },
  {
   "cell_type": "code",
   "execution_count": null,
   "id": "fe020d70",
   "metadata": {},
   "outputs": [],
   "source": [
    "# Criando função para marcadores\n",
    "def create_marker(row):\n",
    "    localização = row['geometry']\n",
    "    popup_text = f\"{localização}\"\n",
    "    geometry = row['geometry']\n",
    "    lat = geometry.y \n",
    "    long = geometry.x\n",
    "    \n",
    "# Adiconando rotulos em cada ponto\n",
    "    marker = folium.Marker(location=[lat, long])\n",
    "    popup= folium.Popup(popup_text)\n",
    "    popup.add_to(marker)\n",
    "    marker.add_to(mapa_viculo_especifico_TRECHO)"
   ]
  },
  {
   "cell_type": "code",
   "execution_count": null,
   "id": "9a8a4854",
   "metadata": {},
   "outputs": [],
   "source": [
    "# Aplicar função nos dados \n",
    "viculos_especificos_TRECHO_.apply(create_marker, axis=1)"
   ]
  },
  {
   "cell_type": "code",
   "execution_count": null,
   "id": "4115602d",
   "metadata": {
    "scrolled": false
   },
   "outputs": [],
   "source": [
    "# mapa_viculo_especifico_TRECHO.add_child(limites) "
   ]
  },
  {
   "cell_type": "markdown",
   "id": "e8c27fb5",
   "metadata": {},
   "source": [
    "## 6.2 Criando lista com um df para cada veiculo das linhas filtradas"
   ]
  },
  {
   "cell_type": "code",
   "execution_count": null,
   "id": "6c008f97",
   "metadata": {},
   "outputs": [],
   "source": [
    "# Criando função para pegar os dados de um mesmo veiculo e separar em diferentes dfs\n",
    "\n",
    "import geopandas as gpd\n",
    "\n",
    "def agrupar_por_ids(viculos_especificos_TRECHO_, id_veiculo):\n",
    "    # Agupando dados por id\n",
    "    grupos = viculos_especificos_TRECHO_.groupby('id_veiculo')\n",
    "    \n",
    "    # Lista para guardar os GeoDataFrames\n",
    "    geodataframes = []\n",
    "    \n",
    "    # Iterando sobre os grupos \n",
    "    for _, grupo in grupos:\n",
    "        # Criando GeoDataFrame a partir do DataFrame do grupo\n",
    "        geo_df = gpd.GeoDataFrame(grupo, geometry=gpd.points_from_xy(grupo.longitude, grupo.latitude))\n",
    "        geodataframes.append(geo_df)\n",
    "        \n",
    "    geo_data_ordem = geodataframes\n",
    "    \n",
    "    return geo_data_ordem"
   ]
  },
  {
   "cell_type": "code",
   "execution_count": null,
   "id": "5dad5951",
   "metadata": {
    "scrolled": true
   },
   "outputs": [],
   "source": [
    "# Aplicando a função\n",
    "viculos_especificos_TRECHO__n = agrupar_por_ids(viculos_especificos_TRECHO_, 'id_veiculo')"
   ]
  },
  {
   "cell_type": "code",
   "execution_count": null,
   "id": "be7f7155",
   "metadata": {},
   "outputs": [],
   "source": [
    "# Visualizando df especifico \n",
    "viculos_especificos_TRECHO__n[0]"
   ]
  },
  {
   "cell_type": "markdown",
   "id": "d8b1df69",
   "metadata": {},
   "source": [
    "## 6.2 Extraindo velocidades instantâneas para veiculo especifico"
   ]
  },
  {
   "cell_type": "code",
   "execution_count": null,
   "id": "c916754d",
   "metadata": {},
   "outputs": [],
   "source": [
    "# Colocando coluna de momento de cada df das lista\n",
    "# Função para processar um DataFrame\n",
    "def ordem_df(df):\n",
    "    # Ordenar o DataFrame pela coluna 'momento'\n",
    "    df = df.sort_values('momento')\n",
    "    \n",
    "    # Restaurando o índice do DataFrame após a ordenação\n",
    "    df = df.reset_index(drop=True)    \n",
    "    return df\n",
    "\n",
    "# Aplicando a função para cada DataFrame na lista\n",
    "viculos_especificos_TRECHO__ordem = [ordem_df(df) for df in viculos_especificos_TRECHO__n]"
   ]
  },
  {
   "cell_type": "code",
   "execution_count": null,
   "id": "5e51b53b",
   "metadata": {},
   "outputs": [],
   "source": [
    "# Criando função para criar coluna de gemetrica anterior em cada DataFrame\n",
    "def processar_dataframe_dist(df):\n",
    "    df['geometry_anterior'] = df['geometry'].shift(1)\n",
    "    return df"
   ]
  },
  {
   "cell_type": "code",
   "execution_count": null,
   "id": "a26ce8c2",
   "metadata": {},
   "outputs": [],
   "source": [
    "# Aplicando a função para cada DataFrame na lista\n",
    "viculos_especificos_TRECHO_geo_ant = [processar_dataframe_dist(df) for df in viculos_especificos_TRECHO__ordem]"
   ]
  },
  {
   "cell_type": "code",
   "execution_count": null,
   "id": "a46ee4b5",
   "metadata": {
    "scrolled": true
   },
   "outputs": [],
   "source": [
    "# Acesso ao resultado, por exemplo, para o primeiro DataFrame na lista processada\n",
    "primeiro_dataframe_processado = viculos_especificos_TRECHO_geo_ant[0]\n",
    "primeiro_dataframe_processado"
   ]
  },
  {
   "cell_type": "code",
   "execution_count": null,
   "id": "1e380316",
   "metadata": {},
   "outputs": [],
   "source": [
    "# Criando função para criar coluna de momento anterior em cada DataFrame\n",
    "def processar_dataframe_momento(df):\n",
    "    df['momento_anterior'] = df['momento'].shift(1)\n",
    "    return df\n",
    "\n",
    "# Aplicando a função para cada DataFrame na lista\n",
    "viculos_especificos_TRECHO_geo_mom_ant = [processar_dataframe_momento(df) for df in viculos_especificos_TRECHO_geo_ant]"
   ]
  },
  {
   "cell_type": "code",
   "execution_count": null,
   "id": "70322e00",
   "metadata": {
    "scrolled": true
   },
   "outputs": [],
   "source": [
    "# Acessando a resultado, por exemplo, para o primeiro DataFrame na lista processada\n",
    "primeiro_dataframe_processado = viculos_especificos_TRECHO_geo_mom_ant[1]\n",
    "primeiro_dataframe_processado"
   ]
  },
  {
   "cell_type": "code",
   "execution_count": null,
   "id": "0013cbb9",
   "metadata": {
    "scrolled": true
   },
   "outputs": [],
   "source": [
    "# instalando bibloteca para trazer metodo de calcular distancia \n",
    "!pip install geopy\n",
    "from geopy.distance import geodesic  \n",
    "\n",
    "# Função para calcular distância entre pontos\n",
    "def calcular_distancia(row):\n",
    "    if row['geometry'] is None or row['geometry_anterior'] is None:\n",
    "        return None\n",
    "    return geodesic((row.geometry.x, row.geometry.y), (row.geometry_anterior.x, row.geometry_anterior.y)).meters\n",
    "\n",
    "# Função para processar um DataFrame\n",
    "def processar_distancia(df):\n",
    "    df['distancia'] = df.apply(calcular_distancia, axis=1)\n",
    "    return df"
   ]
  },
  {
   "cell_type": "code",
   "execution_count": null,
   "id": "f9f3c6ad",
   "metadata": {
    "scrolled": true
   },
   "outputs": [],
   "source": [
    "# Aplicando a função para cada DataFrame na lista\n",
    "viculos_especificos_TRECHO_dist_ = [processar_distancia(df) for df in viculos_especificos_TRECHO_geo_mom_ant]"
   ]
  },
  {
   "cell_type": "code",
   "execution_count": null,
   "id": "f5bc6943",
   "metadata": {
    "scrolled": true
   },
   "outputs": [],
   "source": [
    "viculos_especificos_TRECHO_dist_[0]"
   ]
  },
  {
   "cell_type": "code",
   "execution_count": null,
   "id": "d6426cc9",
   "metadata": {},
   "outputs": [],
   "source": [
    "# Função para calcular a diferença de tempo\n",
    "def calcular_diferenca_tempo(row):\n",
    "    if pd.isnull(row['momento']) or pd.isnull(row['momento_anterior']):\n",
    "        return None\n",
    "    return (row['momento'] - row['momento_anterior']).total_seconds()\n",
    "\n",
    "# Função para processar um GeoDataFrame\n",
    "def processar_geodataframe_temp(gdf):\n",
    "    # Aplicar a função calcular_diferenca_tempo à coluna 'momento' e criar nova coluna 'deltaT'\n",
    "    gdf['deltaT'] = gdf.apply(calcular_diferenca_tempo, axis=1)\n",
    "    \n",
    "    # Converter a coluna 'deltaT' para o tipo de dados float\n",
    "    gdf['deltaT'] = gdf['deltaT'].astype('float')\n",
    "    \n",
    "    # Adicionar outras operações ou transformações conforme necessário\n",
    "    \n",
    "    return gdf"
   ]
  },
  {
   "cell_type": "code",
   "execution_count": null,
   "id": "09b90e36",
   "metadata": {},
   "outputs": [],
   "source": [
    "# Aplicando função \n",
    "viculos_especificos_TRECHO_dist_temp = [processar_geodataframe_temp(gdf) for gdf in viculos_especificos_TRECHO_dist_]"
   ]
  },
  {
   "cell_type": "code",
   "execution_count": null,
   "id": "661183d5",
   "metadata": {},
   "outputs": [],
   "source": [
    "# Função para calcular a velocidade instantânea\n",
    "def calcular_velocidade_instantanea(row):\n",
    "    if pd.isnull(row['distancia']) or pd.isnull(row['deltaT']) or row['deltaT'] == 0:\n",
    "        return None\n",
    "    return row['distancia'] / row['deltaT']\n",
    "\n",
    "# Função para processar um GeoDataFrame\n",
    "def processar_geodataframe_velocidade(gdf):\n",
    "    # Calcular a velocidade instantânea\n",
    "    gdf['velocidade'] = gdf.apply(calcular_velocidade_instantanea, axis=1)\n",
    "    \n",
    "    return gdf"
   ]
  },
  {
   "cell_type": "code",
   "execution_count": null,
   "id": "fef24dc6",
   "metadata": {},
   "outputs": [],
   "source": [
    "#########################_________Aplicando a função para cada GeoDataFrame na lista processada__________#######################\n",
    "viculos_especificos_TRECHO_velocidade_tudo = [processar_geodataframe_velocidade(gdf) for gdf in \n",
    "                                              viculos_especificos_TRECHO_dist_temp]\n",
    "################################################################################################################################"
   ]
  },
  {
   "cell_type": "code",
   "execution_count": null,
   "id": "8a9ca231",
   "metadata": {
    "scrolled": true
   },
   "outputs": [],
   "source": [
    "viculos_especificos_TRECHO_velocidade_tudo[0]"
   ]
  },
  {
   "cell_type": "code",
   "execution_count": null,
   "id": "79c52675",
   "metadata": {},
   "outputs": [],
   "source": [
    "# Dropando colunas desnecessárias \n",
    "# Lista de colunas a serem removidas\n",
    "colunas_desnecessarias = ['geometry_anterior', 'momento_anterior', 'distancia']\n",
    "\n",
    "# Função para remover colunas desnecessárias\n",
    "def remover_colunas_desnecessarias(gdf):\n",
    "    # Remover as colunas desnecessárias\n",
    "    gdf = gdf.drop(columns=colunas_desnecessarias, errors='ignore')\n",
    "    \n",
    "    # Adicionar outras operações ou transformações conforme necessário\n",
    "    \n",
    "    return gdf"
   ]
  },
  {
   "cell_type": "code",
   "execution_count": null,
   "id": "d5b4768f",
   "metadata": {},
   "outputs": [],
   "source": [
    "# Aplicando a função para cada GeoDataFrame na lista de velocidades\n",
    "viculos_especificos_TRECHO_velocidades = [remover_colunas_desnecessarias(gdf) for gdf in viculos_especificos_TRECHO_velocidade_tudo]"
   ]
  },
  {
   "cell_type": "code",
   "execution_count": null,
   "id": "59689892",
   "metadata": {
    "scrolled": true
   },
   "outputs": [],
   "source": [
    "# Versão final da lista com df para todos os veiculos da lista (filtrando df2, que é o elemento 1 da lista!)\n",
    "viculos_especificos_TRECHO_velocidades[0]"
   ]
  },
  {
   "cell_type": "markdown",
   "id": "58e44f5d",
   "metadata": {},
   "source": [
    "## 6.2.1 Adicioando dados da primeira parada (utilizando como ponto de referencia)"
   ]
  },
  {
   "cell_type": "code",
   "execution_count": null,
   "id": "f7dc2adc",
   "metadata": {},
   "outputs": [],
   "source": [
    "# Trazendo base com as paradas de interesse\n",
    "paradas_interesse = pd.read_excel('paradas_interesse_tudo_com_distancias.xlsx')"
   ]
  },
  {
   "cell_type": "code",
   "execution_count": null,
   "id": "86abd379",
   "metadata": {
    "scrolled": true
   },
   "outputs": [],
   "source": [
    "paradas_interesse"
   ]
  },
  {
   "cell_type": "code",
   "execution_count": null,
   "id": "b9748022",
   "metadata": {},
   "outputs": [],
   "source": [
    "# Tramanho do trecho\n",
    "display(paradas_interesse['distancia'].sum())"
   ]
  },
  {
   "cell_type": "code",
   "execution_count": null,
   "id": "22e5a58d",
   "metadata": {},
   "outputs": [],
   "source": [
    "# CRIANDO DF COM OS DADOS GEOMETRICOS DA 1ª PARADA \n",
    "import numpy as np \n",
    "\n",
    "data_ = ['2018-11-01 00:00:00']\n",
    "data = pd.to_datetime(data_)\n",
    "df_paradadas_  = {'latitude': [-3.736013],\n",
    "                  'longitude': [-38.5663],\n",
    "                  'id_veiculo': [np.nan],\n",
    "                  'momento': [np.nan],\n",
    "                  'geometry': [np.nan],\n",
    "                  'deltaT': [np.nan],\n",
    "                  'velocidade':  [np.nan],\n",
    "                \n",
    "        }\n",
    "\n",
    "df_paradadas__ = pd.DataFrame(df_paradadas_)\n",
    "df_paradadas__['momento'] = data\n",
    "df_paradadas__"
   ]
  },
  {
   "cell_type": "code",
   "execution_count": null,
   "id": "fd7b507d",
   "metadata": {},
   "outputs": [],
   "source": [
    "# Info dos dados \n",
    "df_paradadas__.info()"
   ]
  },
  {
   "cell_type": "code",
   "execution_count": null,
   "id": "0fb28782",
   "metadata": {},
   "outputs": [],
   "source": [
    "# Criando a informação da geometria no df\n",
    "df_paradadas__['geometry'] = df_paradadas__.apply(lambda x: Point((float(x.longitude), float(x.latitude))), axis=1)"
   ]
  },
  {
   "cell_type": "code",
   "execution_count": null,
   "id": "e64ae85c",
   "metadata": {},
   "outputs": [],
   "source": [
    " # Convertendo a coluna 'nova_geometria' para a coluna de geometria principal\n",
    "df_paradadas = gpd.GeoDataFrame(df_paradadas__, geometry='geometry')\n",
    "df_paradadas"
   ]
  },
  {
   "cell_type": "markdown",
   "id": "a54c28e8",
   "metadata": {},
   "source": [
    "## 6.3 FILTRANDO DADOS NO SEGUIMENTO PARA CADA DF DA LISTA"
   ]
  },
  {
   "cell_type": "code",
   "execution_count": null,
   "id": "e4689a6c",
   "metadata": {},
   "outputs": [],
   "source": [
    "# FILTRANDO DADOS PARA SEGUIMENTO ENTRE A PRIMERA E ULTIMA PARADA DE INTERESSE\n",
    "def filtrar_por_seguimento_(gdf):\n",
    "    # Aplicar o filtro\n",
    "    filtro = (gdf['longitude'] >= -38.566300) & (gdf['longitude'] <= -38.543328)\n",
    "    gdf_filtrado = gdf[filtro]\n",
    "    \n",
    "    return gdf_filtrado\n",
    "\n",
    "# Aplicando a função para cada GeoDataFrame na lista sem colunas desnecessárias\n",
    "resultados = [filtrar_por_seguimento_(gdf) for gdf in viculos_especificos_TRECHO_velocidades]"
   ]
  },
  {
   "cell_type": "code",
   "execution_count": null,
   "id": "dce85d0a",
   "metadata": {
    "scrolled": true
   },
   "outputs": [],
   "source": [
    "# Acessando resultado para o segundo dataframe que é o elemento com indice 01\n",
    "resultados[0]"
   ]
  },
  {
   "cell_type": "markdown",
   "id": "e282db9e",
   "metadata": {},
   "source": [
    "## 6.3.1 Adequando colunas para padronização das distancias dos perfis"
   ]
  },
  {
   "cell_type": "code",
   "execution_count": null,
   "id": "6b61bafc",
   "metadata": {},
   "outputs": [],
   "source": [
    "#  ADICIONANDO DADOS DA PRIMETRIA ESTAÇÃO PARA CALCULOS DE DISTANCIAS \n",
    "from pandas import concat  \n",
    "\n",
    "# Concatenando os dataframes, adicionando a nova coluna\n",
    "for i, gpf in enumerate(resultados):\n",
    "    resultados[i]  = gpf.append(df_paradadas, ignore_index=True)"
   ]
  },
  {
   "cell_type": "code",
   "execution_count": null,
   "id": "c168269f",
   "metadata": {
    "scrolled": true
   },
   "outputs": [],
   "source": [
    "# COLOCANDO DADOS DA COLUNA MOMENOTO EM ORDEM \n",
    "for i, gpf in enumerate(resultados):\n",
    "    resultados[i] = gpf.sort_values(by='momento')"
   ]
  },
  {
   "cell_type": "code",
   "execution_count": null,
   "id": "c2898252",
   "metadata": {
    "scrolled": true
   },
   "outputs": [],
   "source": [
    "resultados[1]"
   ]
  },
  {
   "cell_type": "markdown",
   "id": "946f8133",
   "metadata": {},
   "source": [
    "## 6.3.2 Realizando medição das distancia em relação a parada de interesse"
   ]
  },
  {
   "cell_type": "code",
   "execution_count": null,
   "id": "eafb2486",
   "metadata": {},
   "outputs": [],
   "source": [
    "# Crindo coluna de geometry anterior com função de calculo de distancia ja criada\n",
    "resultados_ordem_dist = [processar_dataframe_dist(df) for df in resultados]"
   ]
  },
  {
   "cell_type": "code",
   "execution_count": null,
   "id": "985c260c",
   "metadata": {
    "scrolled": true
   },
   "outputs": [],
   "source": [
    "resultados_ordem_dist[2]"
   ]
  },
  {
   "cell_type": "code",
   "execution_count": null,
   "id": "1e600dfc",
   "metadata": {},
   "outputs": [],
   "source": [
    "# Aplicando função de distancia também feita anteriormente\n",
    "resultados_dist_tudo = [processar_distancia(df) for df in resultados_ordem_dist]"
   ]
  },
  {
   "cell_type": "code",
   "execution_count": null,
   "id": "ee91f763",
   "metadata": {
    "scrolled": true
   },
   "outputs": [],
   "source": [
    "resultados_dist_tudo[1]"
   ]
  },
  {
   "cell_type": "code",
   "execution_count": null,
   "id": "e60d7e29",
   "metadata": {},
   "outputs": [],
   "source": [
    "# Criando coluna com distancias acumuladas (Em relação a parada de interesse)\n",
    "def calcular_distancia_acumulada(resultados, coluna_distancia):\n",
    "    resultados_atualizados = []\n",
    "    # Itera sobre cada GeoDataFrame na lista 'resultados'\n",
    "    for gdf in resultados_dist_tudo:\n",
    "        # Calcula a distância acumulada\n",
    "        gdf['distancia_acumulada'] = gdf[coluna_distancia].cumsum()\n",
    "\n",
    "        # Adiciona o GeoDataFrame atualizado à lista\n",
    "        resultados_atualizados.append(gdf)\n",
    "\n",
    "    return resultados_atualizados"
   ]
  },
  {
   "cell_type": "code",
   "execution_count": null,
   "id": "9d43b63f",
   "metadata": {},
   "outputs": [],
   "source": [
    "# Chamando a função para calcular a distância acumulada\n",
    "resultados = calcular_distancia_acumulada(resultados_dist_tudo, 'distancia')"
   ]
  },
  {
   "cell_type": "code",
   "execution_count": null,
   "id": "0e90bad9",
   "metadata": {
    "scrolled": true
   },
   "outputs": [],
   "source": [
    "# LISTA COM DATAFRAMES FINAIS \n",
    "len(resultados)"
   ]
  },
  {
   "cell_type": "code",
   "execution_count": null,
   "id": "b9fd8871",
   "metadata": {},
   "outputs": [],
   "source": [
    "############################################# Exportando dados (caso necessário) ############################################### \n",
    "from openpyxl import load_workbook\n",
    "# Nome do arquivo Excel\n",
    "excel_file = 'planilhas_diversas_linhas_dia30_GEOMETRY.xlsx'\n",
    "\n",
    "# Criando um objeto ExcelWriter para o arquivo Excel\n",
    "with pd.ExcelWriter(excel_file, engine='openpyxl') as writer:\n",
    "    \n",
    "    # Nome da aba onde os DataFrames serão inseridos\n",
    "    sheet_name = 'planilha_geral'\n",
    "\n",
    "    # Iterando sobre os GeoDataFrames\n",
    "    for i, gdf in enumerate(resultados, start=1):\n",
    "        \n",
    "        # Calculando a altura do DataFrame atual\n",
    "        height = len(gdf) + 1  # Adicionando 1 para incluir a linha de títulos\n",
    "\n",
    "        # Calculando a linha inicial para o DataFrame atual\n",
    "        start_row = (i - 1) * (height + 1)\n",
    "\n",
    "        # Escrevendo o DataFrame na aba 'planilha_geral'\n",
    "        gdf.to_excel(writer, sheet_name=sheet_name, startrow=start_row, index=False)\n",
    "\n",
    "    # Salvando o arquivo Excel usando o método save\n",
    "    writer.save()\n",
    "################################################################################################################################"
   ]
  },
  {
   "cell_type": "markdown",
   "id": "c69323ec",
   "metadata": {},
   "source": [
    "## 6.3.3 INFORMAÇÕES DOS DF´S GERADOS COM VELOCIDADES"
   ]
  },
  {
   "cell_type": "code",
   "execution_count": null,
   "id": "2a6c453c",
   "metadata": {
    "scrolled": true
   },
   "outputs": [],
   "source": [
    "# INFORMAÇÕES DE CADA DF DA LISTA COM VELOCIDADES\n",
    "for dfs in resultados:\n",
    "    display(dfs.info())"
   ]
  },
  {
   "cell_type": "code",
   "execution_count": null,
   "id": "5bed21bd",
   "metadata": {
    "scrolled": true
   },
   "outputs": [],
   "source": [
    "# EXIBINDO CADA DF DA LISTA RESULTADOS COM VELOCIDADES\n",
    "for dfs in resultados:\n",
    "    display(pd.DataFrame(dfs))"
   ]
  },
  {
   "cell_type": "markdown",
   "id": "f5fcb3d4",
   "metadata": {},
   "source": [
    "# -----------------------------------------------------------------------------------------------"
   ]
  }
 ],
 "metadata": {
  "kernelspec": {
   "display_name": "Python 3 (ipykernel)",
   "language": "python",
   "name": "python3"
  },
  "language_info": {
   "codemirror_mode": {
    "name": "ipython",
    "version": 3
   },
   "file_extension": ".py",
   "mimetype": "text/x-python",
   "name": "python",
   "nbconvert_exporter": "python",
   "pygments_lexer": "ipython3",
   "version": "3.9.12"
  }
 },
 "nbformat": 4,
 "nbformat_minor": 5
}
