{
 "cells": [
  {
   "cell_type": "markdown",
   "id": "4c29b47f",
   "metadata": {},
   "source": [
    "# Algoritmo - Validação da localização da Bilhetagem\n",
    "### _Autor: Antônio Claudio Dutra Batista_\n",
    "### _Orientador: Francisco Moraes de Oliveria Neto_\n",
    "### _Metodologia: Validação da mesclagem por informações coincidentes e critério de tempo_\n",
    "''' Validação da localização da Bilhetagem feita pela mesclagem no metododo em questão - Somente localização dos veiculos fora de terminais e possiveis Brt´s! '''"
   ]
  },
  {
   "cell_type": "markdown",
   "id": "0d3152ac",
   "metadata": {},
   "source": [
    "# 1.0  Leitura das Bases"
   ]
  },
  {
   "cell_type": "markdown",
   "id": "53c75e45",
   "metadata": {},
   "source": [
    "## 1.1 leitura da base - Bilhetagem (Tratamento Inicial)"
   ]
  },
  {
   "cell_type": "code",
   "execution_count": null,
   "id": "2ce30445",
   "metadata": {},
   "outputs": [],
   "source": [
    "# Arquivos são do mês de novembro de 2018.\n",
    "import pandas as pd\n",
    "\n",
    "# Definindo tipos de variáveis com tamanhos menores\n",
    "tipos_specification = {'id': 'int32', 'linha': 'int32'}\n",
    "\n",
    "# Lista para armazenar os dataframes de cada grupo de 10 dias\n",
    "grupos_dias = []\n",
    "\n",
    "# Loop para ler os arquivos CSV e concatená-los em grupos de 10 dias\n",
    "for i in range(1, 31, 10):  # Início, fim (não inclusivo), passo\n",
    "    dias = [pd.read_csv(f'2018-11-{str(j).zfill(2)}.csv', usecols=['id', 'linha', 'nome_linha', 'prefixo_carro', 'nome_cartao', 'sentido_viagem', 'dia', 'momento'], dtype=tipos_specification, sep=',') for j in range(i, i + 10)]\n",
    "    grupo = pd.concat(dias)\n",
    "    grupos_dias.append(grupo)"
   ]
  },
  {
   "cell_type": "code",
   "execution_count": null,
   "id": "3117b37d",
   "metadata": {},
   "outputs": [],
   "source": [
    "# Concatenando os grupos de 10 dias\n",
    "mes_tudo = pd.concat(grupos_dias)"
   ]
  },
  {
   "cell_type": "code",
   "execution_count": null,
   "id": "e831ad21",
   "metadata": {},
   "outputs": [],
   "source": [
    "# BUSCAR DADOS NULOS\n",
    "mes_tudo.info()"
   ]
  },
  {
   "cell_type": "code",
   "execution_count": null,
   "id": "ab0b81d4",
   "metadata": {},
   "outputs": [],
   "source": [
    "# Momentos em ordem do df mes_c_R!\n",
    "mes_tudo.sort_values('momento', inplace = True) # Mostrando DF em ORDEM!"
   ]
  },
  {
   "cell_type": "code",
   "execution_count": null,
   "id": "a460db48",
   "metadata": {},
   "outputs": [],
   "source": [
    "# Memoria liberou 0.2 gb\n",
    "mes_tudo.info()"
   ]
  },
  {
   "cell_type": "code",
   "execution_count": null,
   "id": "b24638db",
   "metadata": {},
   "outputs": [],
   "source": [
    "# Dados nulos \n",
    "mes_tudo.isnull().sum()"
   ]
  },
  {
   "cell_type": "code",
   "execution_count": null,
   "id": "2b7c1aab",
   "metadata": {},
   "outputs": [],
   "source": [
    "# Visualisando dados de identifcação dos veciulos nulos\n",
    "veiclulos_nao_identificados = mes_tudo[mes_tudo['prefixo_carro'].isnull()]\n",
    "df_nao_identificados =  pd.DataFrame(veiclulos_nao_identificados['nome_linha'].unique())"
   ]
  },
  {
   "cell_type": "code",
   "execution_count": null,
   "id": "693bdb04",
   "metadata": {},
   "outputs": [],
   "source": [
    "# Df com nome das linhas que apresentaram identifcação dos veiculso nulos \n",
    "df_nao_identificados"
   ]
  },
  {
   "cell_type": "code",
   "execution_count": null,
   "id": "80a12f06",
   "metadata": {},
   "outputs": [],
   "source": [
    "# Verificando linhas utilizadas \n",
    "nomes_linhas = mes_tudo['nome_linha']\n",
    "nomes_linhas.unique()"
   ]
  },
  {
   "cell_type": "code",
   "execution_count": null,
   "id": "dd14f4b8",
   "metadata": {},
   "outputs": [],
   "source": [
    "# Filtrando linhas em terminais\n",
    "mes_tudo[mes_tudo.nome_linha=='TERMINAL PARANGABA']"
   ]
  },
  {
   "cell_type": "code",
   "execution_count": 1,
   "id": "7e948113",
   "metadata": {},
   "outputs": [
    {
     "data": {
      "text/plain": [
       "' Ou seja, existem validações em terminais que possuem uma associação numerica de identificação dos veiculos, porem esses dados não tem veciulos correspondente no GPS e não serão localizados! '"
      ]
     },
     "execution_count": 1,
     "metadata": {},
     "output_type": "execute_result"
    }
   ],
   "source": [
    "''' Ou seja, existem validações em terminais que possuem uma associação numerica de identificação dos veiculos, porem esses dados não tem veciulos correspondente no GPS e não serão localizados! '''"
   ]
  },
  {
   "cell_type": "code",
   "execution_count": null,
   "id": "2682773d",
   "metadata": {},
   "outputs": [],
   "source": [
    "# Juntando colunas de interesse (dia, momento) em uma só:\n",
    "mes_tudo[\"momento_bilhetagem\"] = mes_tudo['dia'].astype(str) + ' ' + mes_tudo['momento'].astype(str)"
   ]
  },
  {
   "cell_type": "code",
   "execution_count": null,
   "id": "448748f2",
   "metadata": {},
   "outputs": [],
   "source": [
    "# REMOVENDO COLUNAS DESNECESSÁRIAS!\n",
    "mes1 = mes_tudo.drop(['dia'], axis=1)"
   ]
  },
  {
   "cell_type": "code",
   "execution_count": null,
   "id": "f891279e",
   "metadata": {},
   "outputs": [],
   "source": [
    "# Excluindo explicitamente variavel com bilhetagem desnecessária\n",
    "# del mes_tudo"
   ]
  },
  {
   "cell_type": "code",
   "execution_count": null,
   "id": "8ad42a07",
   "metadata": {},
   "outputs": [],
   "source": [
    "mes1.info()"
   ]
  },
  {
   "cell_type": "code",
   "execution_count": null,
   "id": "f4280e23",
   "metadata": {
    "scrolled": true
   },
   "outputs": [],
   "source": [
    "mes1[\"momento_bilhetagem\"] = pd.to_datetime(mes1[\"momento_bilhetagem\"])"
   ]
  },
  {
   "cell_type": "code",
   "execution_count": null,
   "id": "68b152d3",
   "metadata": {},
   "outputs": [],
   "source": [
    "# Removendo dados nulos na coluna prefixo_carro\n",
    "mes_ = mes1.dropna(subset = ['prefixo_carro'])"
   ]
  },
  {
   "cell_type": "code",
   "execution_count": null,
   "id": "c7eb8467",
   "metadata": {},
   "outputs": [],
   "source": [
    "mes_.info()"
   ]
  },
  {
   "cell_type": "code",
   "execution_count": null,
   "id": "fa302d32",
   "metadata": {},
   "outputs": [],
   "source": [
    "# Excluindo explicitamente variavel com bilhetagem desnecessária\n",
    "del mes1"
   ]
  },
  {
   "cell_type": "code",
   "execution_count": null,
   "id": "47dc1fe4",
   "metadata": {},
   "outputs": [],
   "source": [
    "# Funçao para verificar se tem caracters\n",
    "def caracter(col):\n",
    "    return any(char.isalpha() for char in str(col))"
   ]
  },
  {
   "cell_type": "code",
   "execution_count": null,
   "id": "ab0a8fd4",
   "metadata": {},
   "outputs": [],
   "source": [
    "# Verificando dados com caracters\n",
    "prefixo_caracter = pd.DataFrame(mes_['prefixo_carro'])\n",
    "prefixo_resultado = prefixo_caracter.applymap(caracter) "
   ]
  },
  {
   "cell_type": "code",
   "execution_count": null,
   "id": "8dfedce6",
   "metadata": {},
   "outputs": [],
   "source": [
    "dados_com_caraceters = prefixo_resultado[prefixo_resultado.prefixo_carro ==True]"
   ]
  },
  {
   "cell_type": "code",
   "execution_count": null,
   "id": "de2a80e3",
   "metadata": {
    "scrolled": true
   },
   "outputs": [],
   "source": [
    "dados_com_caraceters.sum()"
   ]
  },
  {
   "cell_type": "code",
   "execution_count": null,
   "id": "77287750",
   "metadata": {},
   "outputs": [],
   "source": [
    "# Removendo identificação de veiculos com caracteris da coluna de prefixo_carro\n",
    "mes = mes_[pd.to_numeric(mes_['prefixo_carro'], errors='coerce').notnull()]"
   ]
  },
  {
   "cell_type": "code",
   "execution_count": null,
   "id": "c410eb02",
   "metadata": {},
   "outputs": [],
   "source": [
    "# Trasnformando coluna de prefixo carro em inteiro\n",
    "mes['prefixo_carro'] = mes['prefixo_carro'].astype('int32')"
   ]
  },
  {
   "cell_type": "code",
   "execution_count": null,
   "id": "e068fbac",
   "metadata": {
    "scrolled": true
   },
   "outputs": [],
   "source": [
    "mes.info()"
   ]
  },
  {
   "cell_type": "code",
   "execution_count": null,
   "id": "f9479ac2",
   "metadata": {},
   "outputs": [],
   "source": [
    "# Última ver}são do df MES\n",
    "mes"
   ]
  },
  {
   "cell_type": "markdown",
   "id": "839393cf",
   "metadata": {},
   "source": [
    "## 1.2 leitura da base - Dicionário"
   ]
  },
  {
   "cell_type": "code",
   "execution_count": null,
   "id": "5818c54c",
   "metadata": {},
   "outputs": [],
   "source": [
    "# df', abaixo:\n",
    "import pandas as pd \n",
    "d1 = pd.read_csv('veiculos2018.csv', sep= ';')"
   ]
  },
  {
   "cell_type": "code",
   "execution_count": null,
   "id": "bc24ee0d",
   "metadata": {},
   "outputs": [],
   "source": [
    "# Mostrando Df\n",
    "display(d1)"
   ]
  },
  {
   "cell_type": "code",
   "execution_count": null,
   "id": "433246ec",
   "metadata": {},
   "outputs": [],
   "source": [
    "d1.info()"
   ]
  },
  {
   "cell_type": "code",
   "execution_count": null,
   "id": "62ade3ee",
   "metadata": {},
   "outputs": [],
   "source": [
    "d1[d1.cod_veiculo==35631.0]"
   ]
  },
  {
   "cell_type": "code",
   "execution_count": null,
   "id": "b559b56d",
   "metadata": {},
   "outputs": [],
   "source": [
    "# transformando coluna para tipo string\n",
    "d1['cod_veiculo'] = d1['cod_veiculo'].astype(str)"
   ]
  },
  {
   "cell_type": "code",
   "execution_count": null,
   "id": "46fca3a1",
   "metadata": {},
   "outputs": [],
   "source": [
    "# Removendo casracters não numericos da calouna\n",
    "d1['cod_veiculo']= d1['cod_veiculo'].replace({'\\D': ''}, regex=True)"
   ]
  },
  {
   "cell_type": "code",
   "execution_count": null,
   "id": "a6698ec3",
   "metadata": {},
   "outputs": [],
   "source": [
    "# Convertendo dados para valores numericos\n",
    "d1['cod_veiculo'] = pd.to_numeric(d1['cod_veiculo'], errors='coerce')"
   ]
  },
  {
   "cell_type": "code",
   "execution_count": null,
   "id": "25858a57",
   "metadata": {},
   "outputs": [],
   "source": [
    "d1"
   ]
  },
  {
   "cell_type": "code",
   "execution_count": null,
   "id": "b94313d8",
   "metadata": {},
   "outputs": [],
   "source": [
    "# Removenfdo identificação de veiculos com caracteres da coluna de cod_veiculo\n",
    "# d01 = d1[pd.to_numeric(d1['cod_veiculo'], errors='coerce').notnull()]"
   ]
  },
  {
   "cell_type": "code",
   "execution_count": null,
   "id": "c7d282e5",
   "metadata": {},
   "outputs": [],
   "source": [
    "d1.info()"
   ]
  },
  {
   "cell_type": "code",
   "execution_count": 2,
   "id": "07df8a0a",
   "metadata": {},
   "outputs": [
    {
     "data": {
      "text/plain": [
       "' Como algumas informações da coluna cod_veiculo possuiam caracteres em todas a celula, esses valores foram removidos por interio, então as linhas dessas colunas ficaram com dados nulos! '"
      ]
     },
     "execution_count": 2,
     "metadata": {},
     "output_type": "execute_result"
    }
   ],
   "source": [
    "''' Como algumas informações da coluna cod_veiculo possuiam caracteres em todas a celula, esses valores foram removidos por interio, então as linhas dessas colunas ficaram com dados nulos! '''"
   ]
  },
  {
   "cell_type": "code",
   "execution_count": null,
   "id": "5dbbb7d1",
   "metadata": {},
   "outputs": [],
   "source": [
    "# Verificando dados nulos \n",
    "nulos_cod = d1[d1['cod_veiculo'].isnull()]\n",
    "len(nulos_cod)"
   ]
  },
  {
   "cell_type": "code",
   "execution_count": null,
   "id": "976128d9",
   "metadata": {},
   "outputs": [],
   "source": [
    "# Removendo dados nulos do dicionario\n",
    "d01 = d1.dropna()"
   ]
  },
  {
   "cell_type": "code",
   "execution_count": null,
   "id": "063ec36d",
   "metadata": {},
   "outputs": [],
   "source": [
    "# Trasnformando coluna de prefixo carro em inteiro\n",
    "d01['cod_veiculo'] = d01['cod_veiculo'].astype('int32')\n",
    "d01['id_veiculo'] = d01['id_veiculo'].astype('int32')"
   ]
  },
  {
   "cell_type": "code",
   "execution_count": null,
   "id": "162541bc",
   "metadata": {},
   "outputs": [],
   "source": [
    "d01[d01.cod_veiculo ==36981]"
   ]
  },
  {
   "cell_type": "code",
   "execution_count": null,
   "id": "11429eb1",
   "metadata": {},
   "outputs": [],
   "source": [
    "d01['cod_veiculo'].sort_index()"
   ]
  },
  {
   "cell_type": "code",
   "execution_count": null,
   "id": "8754fad7",
   "metadata": {
    "scrolled": true
   },
   "outputs": [],
   "source": [
    "d01.isnull().sum()"
   ]
  },
  {
   "cell_type": "markdown",
   "id": "40a0e798",
   "metadata": {},
   "source": [
    "## 1.3 leitura do base - GPS (Tratamento INICIAL)"
   ]
  },
  {
   "cell_type": "code",
   "execution_count": null,
   "id": "e8bd351c",
   "metadata": {},
   "outputs": [],
   "source": [
    "import pandas as pd\n",
    "\n",
    "# Definindo o número de linhas que você deseja ler\n",
    "numero_de_linhas_para_ler = 45000000  # Substitua pelo número desejado\n",
    "dtype_specification = {'longitude': 'float32', 'latitude': 'float32', 'vehicle_vehicleid': 'int32'}\n",
    "\n",
    "# Usando o pandas para ler o CSV, limitando o número de linhas com a opção nrows\n",
    "mes_ate_45_milhoes = pd.read_csv('Paint112018.csv',usecols=['latitude', 'longitude', 'metrictimestamp', 'vehicle_vehicleid'], dtype=dtype_specification, nrows=numero_de_linhas_para_ler)"
   ]
  },
  {
   "cell_type": "code",
   "execution_count": null,
   "id": "ec503c87",
   "metadata": {
    "scrolled": true
   },
   "outputs": [],
   "source": [
    "# Lendo restante do arquivo\n",
    "mes_resto = pd.read_csv('Paint112018.csv', usecols=['latitude', 'longitude','metrictimestamp', 'vehicle_vehicleid'],dtype=dtype_specification, skiprows=range(1, numero_de_linhas_para_ler + 1))"
   ]
  },
  {
   "cell_type": "code",
   "execution_count": null,
   "id": "21e55def",
   "metadata": {},
   "outputs": [],
   "source": [
    "# Juntando em um mesmo df\n",
    "GPS_I_H =  pd.concat([mes_ate_45_milhoes, mes_resto]) "
   ]
  },
  {
   "cell_type": "code",
   "execution_count": null,
   "id": "a65685ea",
   "metadata": {},
   "outputs": [],
   "source": [
    "# Excluindo explicitamente variavel com dados do GPS separados\n",
    "del mes_ate_45_milhoes\n",
    "del mes_resto"
   ]
  },
  {
   "cell_type": "code",
   "execution_count": null,
   "id": "7fcd8558",
   "metadata": {},
   "outputs": [],
   "source": [
    "display(GPS_I_H.iloc[275])"
   ]
  },
  {
   "cell_type": "code",
   "execution_count": null,
   "id": "c0dbb0de",
   "metadata": {},
   "outputs": [],
   "source": [
    "GPS_I_H.info()"
   ]
  },
  {
   "cell_type": "code",
   "execution_count": null,
   "id": "592f0147",
   "metadata": {},
   "outputs": [],
   "source": [
    "# FORMATANDO metrictimestamp do (GPS)\n",
    "GPS_I_H['momento'] = pd.to_datetime(GPS_I_H['metrictimestamp'],format= '%Y%m%d%H%M%S')"
   ]
  },
  {
   "cell_type": "code",
   "execution_count": null,
   "id": "16a1318f",
   "metadata": {},
   "outputs": [],
   "source": [
    "GPS_I_H.drop(\"metrictimestamp\", axis= 1, inplace= True)"
   ]
  },
  {
   "cell_type": "code",
   "execution_count": null,
   "id": "6eb3cb11",
   "metadata": {},
   "outputs": [],
   "source": [
    "# Renomear coluna de momento de vehicle_vehicleid para id_veiculo:\n",
    "GPS_I_H.columns=['latitude', 'longitude','id_veiculo', 'momento']"
   ]
  },
  {
   "cell_type": "code",
   "execution_count": null,
   "id": "2420faca",
   "metadata": {},
   "outputs": [],
   "source": [
    "# Colocando valores em ordem\n",
    "GPS_I_H.sort_values('momento', inplace= True)"
   ]
  },
  {
   "cell_type": "code",
   "execution_count": null,
   "id": "fbcea1d5",
   "metadata": {},
   "outputs": [],
   "source": [
    "GPS_I_H.info()"
   ]
  },
  {
   "cell_type": "code",
   "execution_count": null,
   "id": "bd51f058",
   "metadata": {},
   "outputs": [],
   "source": [
    "GPS_I_H.reset_index(inplace=True)"
   ]
  },
  {
   "cell_type": "code",
   "execution_count": null,
   "id": "6bb0a379",
   "metadata": {},
   "outputs": [],
   "source": [
    "GPS_I_H.drop(columns='index', inplace=True)"
   ]
  },
  {
   "cell_type": "code",
   "execution_count": null,
   "id": "437cd511",
   "metadata": {},
   "outputs": [],
   "source": [
    "GPS_I_H"
   ]
  },
  {
   "cell_type": "markdown",
   "id": "40214ab6",
   "metadata": {},
   "source": [
    "# 2.0 Junção da bilhetagem com o dicionário "
   ]
  },
  {
   "cell_type": "code",
   "execution_count": null,
   "id": "9160a394",
   "metadata": {},
   "outputs": [],
   "source": [
    "# Acrescentando dicionário\n",
    "mes_d1_T = mes.merge(d01, left_on= 'prefixo_carro', right_on='cod_veiculo')"
   ]
  },
  {
   "cell_type": "code",
   "execution_count": null,
   "id": "eca24aa2",
   "metadata": {},
   "outputs": [],
   "source": [
    "mes_d1 = mes_d1_T"
   ]
  },
  {
   "cell_type": "code",
   "execution_count": null,
   "id": "4438eaa7",
   "metadata": {},
   "outputs": [],
   "source": [
    "del mes_d1_T"
   ]
  },
  {
   "cell_type": "code",
   "execution_count": null,
   "id": "64d86cfe",
   "metadata": {},
   "outputs": [],
   "source": [
    "# Base da Bilhetagem adicionado o dicionario\n",
    "mes_d1"
   ]
  },
  {
   "cell_type": "code",
   "execution_count": null,
   "id": "be3e33ef",
   "metadata": {},
   "outputs": [],
   "source": [
    "mes_d1.info()"
   ]
  },
  {
   "cell_type": "code",
   "execution_count": null,
   "id": "0ce9467f",
   "metadata": {},
   "outputs": [],
   "source": [
    "# Criando df somente colunas necessátrias para a integração no tópico 03!\n",
    "mes_geo = mes_d1.sort_values('momento_bilhetagem')"
   ]
  },
  {
   "cell_type": "code",
   "execution_count": null,
   "id": "742bdca3",
   "metadata": {},
   "outputs": [],
   "source": [
    "del mes_d1"
   ]
  },
  {
   "cell_type": "code",
   "execution_count": null,
   "id": "6a7dfa1b",
   "metadata": {},
   "outputs": [],
   "source": [
    "# Reiniciando a contagem dos index\n",
    "mes_geo.reset_index(inplace=True)"
   ]
  },
  {
   "cell_type": "code",
   "execution_count": null,
   "id": "5f9d6992",
   "metadata": {},
   "outputs": [],
   "source": [
    "# REMOVENDO COLUNA DESNECESSÁRIA!\n",
    "mes_georr = mes_geo.drop(['index', \"prefixo_carro\"], axis=1)"
   ]
  },
  {
   "cell_type": "code",
   "execution_count": null,
   "id": "06d050ab",
   "metadata": {},
   "outputs": [],
   "source": [
    "mes_georr.info()"
   ]
  },
  {
   "cell_type": "code",
   "execution_count": null,
   "id": "fe1e632e",
   "metadata": {},
   "outputs": [],
   "source": [
    "mes_georr"
   ]
  },
  {
   "cell_type": "code",
   "execution_count": null,
   "id": "7dabac5a",
   "metadata": {},
   "outputs": [],
   "source": [
    "del mes_geo"
   ]
  },
  {
   "cell_type": "code",
   "execution_count": null,
   "id": "82b76ddb",
   "metadata": {},
   "outputs": [],
   "source": [
    "# Verificando dados nulos \n",
    "mes_georr.isnull().sum()"
   ]
  },
  {
   "cell_type": "markdown",
   "id": "f11b85d5",
   "metadata": {},
   "source": [
    "# 3.0 Integração da coordenada aproximada do ônibus na bilhetagem"
   ]
  },
  {
   "cell_type": "code",
   "execution_count": null,
   "id": "1da441f5",
   "metadata": {
    "scrolled": true
   },
   "outputs": [],
   "source": [
    "# Coordenada mais proxima do ônibus é extraída da base de GPS e integrada na base da bilhetagem (SOMENTE COLUMAS MOMENTO E ID)\n",
    "mes_d1_GPS = pd.merge_asof(mes_georr, GPS_I_H, left_on='momento_bilhetagem', right_on='momento', by='id_veiculo', direction ='nearest')"
   ]
  },
  {
   "cell_type": "code",
   "execution_count": null,
   "id": "50082f48",
   "metadata": {},
   "outputs": [],
   "source": [
    "mes_d1_GPS.isnull().sum()"
   ]
  },
  {
   "cell_type": "code",
   "execution_count": null,
   "id": "2b1aa461",
   "metadata": {},
   "outputs": [],
   "source": [
    "# Base da bilhetagem localizada \n",
    "mes_d1_GPS"
   ]
  },
  {
   "cell_type": "markdown",
   "id": "a24ca827",
   "metadata": {},
   "source": [
    "# 4.0 Plotagem da bilhetagem georreferenciada"
   ]
  },
  {
   "cell_type": "markdown",
   "id": "39ac1188",
   "metadata": {},
   "source": [
    "\n",
    "## 4.1 Intalação das bibliotecas e importação\n",
    "''' OBS: Os codigos abaixo serão deixados no arquivo, contudo o objetivo do procedimento não é visualização dos dados de bilhetagem localizados mas serão deixados em caso que se deseja utilizar essas bibliotecas para esse fim! '''"
   ]
  },
  {
   "cell_type": "code",
   "execution_count": null,
   "id": "3f868dec",
   "metadata": {},
   "outputs": [],
   "source": [
    "# INSTALANDO A BIBLIOTECA GEOPANDAS COM CONDA\n",
    "# !conda install geopandas -y\n",
    "\n",
    "# instalando com pip\n",
    "!pip install-q geopandas"
   ]
  },
  {
   "cell_type": "code",
   "execution_count": null,
   "id": "4bff46e4",
   "metadata": {},
   "outputs": [],
   "source": [
    "# mostrar a versão da biblioteca \n",
    "# !pip list geopandas"
   ]
  },
  {
   "cell_type": "code",
   "execution_count": null,
   "id": "a569b574",
   "metadata": {},
   "outputs": [],
   "source": [
    "# instalando a biblioteca matplotlib com conda\n",
    "# !conda install matplotlib -y\n",
    "\n",
    "# instalando com pip\n",
    "!pip install -q matplotlib"
   ]
  },
  {
   "cell_type": "code",
   "execution_count": null,
   "id": "1a9abb87",
   "metadata": {},
   "outputs": [],
   "source": [
    "# mostrar a versão da biblioteca \n",
    "# !pip list matplotlib"
   ]
  },
  {
   "cell_type": "code",
   "execution_count": null,
   "id": "d06196c2",
   "metadata": {},
   "outputs": [],
   "source": [
    "# importando as bibliotecas\n",
    "import geopandas as gpd\n",
    "import matplotlib.pyplot as plt"
   ]
  },
  {
   "cell_type": "markdown",
   "id": "efe98a5c",
   "metadata": {},
   "source": [
    "## 4.2 Leitura de dados espaciais "
   ]
  },
  {
   "cell_type": "code",
   "execution_count": null,
   "id": "84d7abdd",
   "metadata": {},
   "outputs": [],
   "source": [
    "# Ler os dados com geopandas\n",
    "ceara_muni = gpd.read_file('CE_Municipios_2022.shp')"
   ]
  },
  {
   "cell_type": "markdown",
   "id": "2d770a23",
   "metadata": {},
   "source": [
    "### 4.2.1 Visualização dos dados "
   ]
  },
  {
   "cell_type": "code",
   "execution_count": null,
   "id": "9a671f9e",
   "metadata": {},
   "outputs": [],
   "source": [
    "# Visualização\n",
    "# ceara_muni.plot(figsize=(16,14), facecolor='white', edgecolor='black') \n",
    "#plt.show()"
   ]
  },
  {
   "cell_type": "markdown",
   "id": "fb87a0a6",
   "metadata": {},
   "source": [
    "### 4.2.2 Filtro somente da capital "
   ]
  },
  {
   "cell_type": "code",
   "execution_count": null,
   "id": "5abfa764",
   "metadata": {},
   "outputs": [],
   "source": [
    "# Salvando somente a capital 'Fortaleza'\n",
    "fortal = ceara_muni[ceara_muni.NM_MUN=='Fortaleza']\n",
    "fortal_p = fortal.iloc[0].geometry"
   ]
  },
  {
   "cell_type": "code",
   "execution_count": null,
   "id": "9bde65e2",
   "metadata": {},
   "outputs": [],
   "source": [
    "# Mostrar capital \n",
    "fortal_p"
   ]
  },
  {
   "cell_type": "code",
   "execution_count": null,
   "id": "227be858",
   "metadata": {},
   "outputs": [],
   "source": [
    "# Salvar o geodataframe com formato geojson\n",
    "filename =  'fortal.json'\n",
    "fortal.to_file(filename, driver='GeoJSON')"
   ]
  },
  {
   "cell_type": "code",
   "execution_count": null,
   "id": "07c1c892",
   "metadata": {},
   "outputs": [],
   "source": [
    "fortall = gpd.read_file(filename, driver='GeoJSON')"
   ]
  },
  {
   "cell_type": "code",
   "execution_count": null,
   "id": "45b71344",
   "metadata": {},
   "outputs": [],
   "source": [
    "fortall"
   ]
  },
  {
   "cell_type": "markdown",
   "id": "86768fd6",
   "metadata": {},
   "source": [
    "### 4.2.3 Modelo de dados espaciais e criação de coluna geometrica "
   ]
  },
  {
   "cell_type": "code",
   "execution_count": null,
   "id": "3f54168b",
   "metadata": {},
   "outputs": [],
   "source": [
    "# Instalando biblioteca shapely com pip\n",
    "!pip install -q shapely\n",
    "# Mostrar versão da biblioteca \n",
    "# !pip list shapely"
   ]
  },
  {
   "cell_type": "code",
   "execution_count": null,
   "id": "dd8a9594",
   "metadata": {},
   "outputs": [],
   "source": [
    "# importando os objetos geométricos da biblioteca shapely\n",
    "from shapely.geometry import Point, LineString, Polygon"
   ]
  },
  {
   "cell_type": "code",
   "execution_count": null,
   "id": "9d53b654",
   "metadata": {},
   "outputs": [],
   "source": [
    "# Criando coluna geometerica no df (mes_d1_GPS)\n",
    "# mes_d1_GPS['geometry'] = None \n",
    "# for index, row in mes_d1_GPS.iterrows():\n",
    "    #mes_d1_GPS.loc[index, 'geometry'] = Point(row.latitude, row.longitude)"
   ]
  },
  {
   "cell_type": "code",
   "execution_count": null,
   "id": "8807fca5",
   "metadata": {},
   "outputs": [],
   "source": [
    "# mes_d1_GPS"
   ]
  },
  {
   "cell_type": "code",
   "execution_count": null,
   "id": "346e1d11",
   "metadata": {},
   "outputs": [],
   "source": [
    "# Criando coluna geometerica no df (mes_d1_GPS)\n",
    "# mes_d1_GPS['geometry'] = mes_d1_GPS.apply(lambda x: Point((float(x.longitude), float(x.latitude))), axis=1)"
   ]
  },
  {
   "cell_type": "code",
   "execution_count": null,
   "id": "2cdb88be",
   "metadata": {},
   "outputs": [],
   "source": [
    "# tipos de dados \n",
    "# type(mes_d1_GPS)"
   ]
  },
  {
   "cell_type": "code",
   "execution_count": null,
   "id": "3b0d618c",
   "metadata": {},
   "outputs": [],
   "source": [
    "# Criando um GeoDataFrame \n",
    "# mes_d1_GPS_geodat_ = gpd.GeoDataFrame(mes_d1_GPS, geometry='geometry')"
   ]
  },
  {
   "cell_type": "code",
   "execution_count": null,
   "id": "e655b160",
   "metadata": {
    "scrolled": true
   },
   "outputs": [],
   "source": [
    "# mostar dados\n",
    "# mes_d1_GPS_geodat_= mes_d1_GPS"
   ]
  },
  {
   "cell_type": "code",
   "execution_count": null,
   "id": "ee751f8e",
   "metadata": {},
   "outputs": [],
   "source": [
    "# Salvar o geodataframe com formato geojson\n",
    "# filename2 =  'mes_d1_GPS_geodat_.json'\n",
    "# mes_d1_GPS_geodat_.to_file(filename2, driver='GeoJSON')"
   ]
  },
  {
   "cell_type": "code",
   "execution_count": null,
   "id": "66ef5791",
   "metadata": {},
   "outputs": [],
   "source": [
    "# mes_d1_GPS_geodat = gpd.read_file(filename2, driver='GeoJSON')"
   ]
  },
  {
   "cell_type": "code",
   "execution_count": null,
   "id": "5ab93530",
   "metadata": {
    "scrolled": false
   },
   "outputs": [],
   "source": [
    "# plotando dados (visualização)\n",
    "# mes_d1_GPS_geodat.plot(figsize=(8,8), facecolor='white', edgecolor='black')"
   ]
  },
  {
   "cell_type": "code",
   "execution_count": null,
   "id": "700fcbe1",
   "metadata": {},
   "outputs": [],
   "source": [
    "# type(mes_d1_GPS_geodat)"
   ]
  },
  {
   "cell_type": "markdown",
   "id": "52849dd7",
   "metadata": {},
   "source": [
    "### 4.2.4 Operação de interseção entre geometrias "
   ]
  },
  {
   "cell_type": "code",
   "execution_count": null,
   "id": "6f35c01c",
   "metadata": {},
   "outputs": [],
   "source": [
    "# Mostrar os dados simultaneamente\n",
    "# fig, ax = plt.subplots(figsize=(15,15))\n",
    "\n",
    "# mes_d1_GPS_geodat.plot(ax=ax)\n",
    "# fortall.plot(ax=ax, facecolor='None', edgecolor='black')"
   ]
  },
  {
   "cell_type": "code",
   "execution_count": null,
   "id": "1abda072",
   "metadata": {},
   "outputs": [],
   "source": [
    "# VERIFICAMOS QUE EXISTEM DADOS GEORREFERENCIADOS FORA DA MALHA DA CIDADE, PODENDO SER NA SUA MAIORIA REGISTRO DOS VEICULOS\n",
    "# QUANDO SE DESLOCARAM PARA OUTRAS ZONAS, OU ATÉ MESMO ERROS DO APARELHO DE GPS, COMO MOSTRA NA FIGURA ACIMA UM REGISTRO \n",
    "# PRATICAMENTE NO MAR."
   ]
  },
  {
   "cell_type": "code",
   "execution_count": null,
   "id": "54c2bd00",
   "metadata": {},
   "outputs": [],
   "source": [
    "# Realizar operação de interseção entre geometrias\n",
    "# mes_geo_fortal = mes_d1_GPS_geodat[mes_d1_GPS_geodat.intersects(fortal_p)]"
   ]
  },
  {
   "cell_type": "code",
   "execution_count": null,
   "id": "663eb362",
   "metadata": {},
   "outputs": [],
   "source": [
    "# mes_geo_fortal.info()"
   ]
  },
  {
   "cell_type": "code",
   "execution_count": null,
   "id": "a7effc8f",
   "metadata": {},
   "outputs": [],
   "source": [
    "# NOTAMOS QUE DOS 891038 DADOS DE VALIDAÇÕES APENAS 825386 foram localizadas dentro da malha da cidade, seguimos com estas!"
   ]
  },
  {
   "cell_type": "code",
   "execution_count": null,
   "id": "2bfab847",
   "metadata": {},
   "outputs": [],
   "source": [
    "# Mostrar os dados simultaneamente após interseção\n",
    "# fig, ax = plt.subplots(figsize=(10,10))\n",
    "\n",
    "# mes_geo_fortal.plot(ax=ax)\n",
    "# fortall.plot(ax=ax, facecolor='None', edgecolor='black')"
   ]
  },
  {
   "cell_type": "code",
   "execution_count": null,
   "id": "6fc46c7e",
   "metadata": {},
   "outputs": [],
   "source": [
    "# Salvando os dados georreferenciados em fortaleza \n",
    "# filename3 = 'mes_geo_fortal.json'\n",
    "\n",
    "# mes_geo_fortal.to_file(filename3, driver='GeoJSON')"
   ]
  },
  {
   "cell_type": "markdown",
   "id": "6194b85f",
   "metadata": {},
   "source": [
    "### 4.2.5 Mostrando dados no mapa de agrupamento (clusters)"
   ]
  },
  {
   "cell_type": "code",
   "execution_count": null,
   "id": "0d0a5597",
   "metadata": {
    "scrolled": true
   },
   "outputs": [],
   "source": [
    "# Instalando biblioteca folium com pip!\n",
    "!pip install -q folium"
   ]
  },
  {
   "cell_type": "code",
   "execution_count": null,
   "id": "0ddf5ba0",
   "metadata": {},
   "outputs": [],
   "source": [
    "# importando biblioteca folium e pluging\n",
    "import folium \n",
    "from folium.plugins import FastMarkerCluster"
   ]
  },
  {
   "cell_type": "code",
   "execution_count": null,
   "id": "e8ed3d1a",
   "metadata": {},
   "outputs": [],
   "source": [
    "# Criar mapa de agrupamentos (clusters)\n",
    "# media_long = mes_geo_fortal['longitude'].mean()\n",
    "# media_lat = mes_geo_fortal['latitude'].mean()\n",
    "\n",
    "# mapa = folium.Map(location=[media_lat, media_long])"
   ]
  },
  {
   "cell_type": "code",
   "execution_count": null,
   "id": "31e70fc1",
   "metadata": {},
   "outputs": [],
   "source": [
    "# Transformando dados em uma feat geojson\n",
    "# mc = FastMarkerCluster(mes_geo_fortal[['latitude', 'longitude']])"
   ]
  },
  {
   "cell_type": "code",
   "execution_count": null,
   "id": "819e1e47",
   "metadata": {},
   "outputs": [],
   "source": [
    "# Poligonal da cidade no mapa\n",
    "limites = folium.features.GeoJson(fortall, style_function=lambda feature:{'color': 'black', 'weight': 2, 'fillOpacity':0.0})"
   ]
  },
  {
   "cell_type": "code",
   "execution_count": null,
   "id": "dfed19eb",
   "metadata": {},
   "outputs": [],
   "source": [
    "# Adicionando dados no mapa\n",
    "# mapa.add_child(mc)\n",
    "# mapa.add_child(limites)       "
   ]
  },
  {
   "cell_type": "code",
   "execution_count": null,
   "id": "5e172a7c",
   "metadata": {},
   "outputs": [],
   "source": [
    "# Salvar o nosso mapa em um arquivo html\n",
    "# mapa.save('validações_georreferenciadas.html')"
   ]
  },
  {
   "cell_type": "markdown",
   "id": "94a834fb",
   "metadata": {},
   "source": [
    "### 4.2.6 Mostrando dados no mapa de calor (Heatmap)"
   ]
  },
  {
   "cell_type": "code",
   "execution_count": null,
   "id": "bb213b8b",
   "metadata": {},
   "outputs": [],
   "source": [
    "# Importando a plugin HeatMap\n",
    "from folium.plugins import HeatMap"
   ]
  },
  {
   "cell_type": "code",
   "execution_count": null,
   "id": "c2033d24",
   "metadata": {},
   "outputs": [],
   "source": [
    "# Criando mapa II\n",
    "\n",
    "# mapa_2 = folium.Map(location=[media_lat, media_long]) \n",
    "\n",
    "# Criando heat_map\n",
    "# heat_map = HeatMap(mes_geo_fortal[['latitude', 'longitude']])     "
   ]
  },
  {
   "cell_type": "code",
   "execution_count": null,
   "id": "791b81af",
   "metadata": {},
   "outputs": [],
   "source": [
    "# Adicionando no map\n",
    "# mapa_2.add_child(heat_map)\n",
    "# mapa_2.add_child(limites)"
   ]
  },
  {
   "cell_type": "code",
   "execution_count": null,
   "id": "02d1a01c",
   "metadata": {},
   "outputs": [],
   "source": [
    "# Salvar o nosso mapa em um arquivo html\n",
    "# mapa_2.save('validações_georreferenciadas_Heatmap_calor.html')"
   ]
  },
  {
   "cell_type": "markdown",
   "id": "c4a91e2e",
   "metadata": {},
   "source": [
    "### 4.2.7 Mostrando dados em terminal especifico localizados "
   ]
  },
  {
   "cell_type": "code",
   "execution_count": null,
   "id": "353862ea",
   "metadata": {},
   "outputs": [],
   "source": [
    "# Filtrando linhas em terminais\n",
    "filtro_terminal_especifico = mes_d1_GPS[mes_d1_GPS.nome_linha=='TERM.ANT.BEZERRA']"
   ]
  },
  {
   "cell_type": "code",
   "execution_count": null,
   "id": "81a3e32b",
   "metadata": {},
   "outputs": [],
   "source": []
  },
  {
   "cell_type": "code",
   "execution_count": null,
   "id": "1afb91e1",
   "metadata": {},
   "outputs": [],
   "source": []
  },
  {
   "cell_type": "code",
   "execution_count": null,
   "id": "61557c28",
   "metadata": {},
   "outputs": [],
   "source": []
  },
  {
   "cell_type": "markdown",
   "id": "49a34923",
   "metadata": {},
   "source": [
    "# 5.0 Testes"
   ]
  },
  {
   "cell_type": "markdown",
   "id": "ea839d71",
   "metadata": {},
   "source": [
    "# 5.1.0 Motivo do não georreferenciamento da base completa da bilhetagem"
   ]
  },
  {
   "cell_type": "code",
   "execution_count": null,
   "id": "38036f6b",
   "metadata": {
    "scrolled": true
   },
   "outputs": [],
   "source": [
    "# Inspeção na base da bilhetagem e do dicionario para um veiculo especifico\n",
    "veiculo_12994 = mes[mes.prefixo_carro==12994]"
   ]
  },
  {
   "cell_type": "code",
   "execution_count": null,
   "id": "1dd7dbf1",
   "metadata": {},
   "outputs": [],
   "source": [
    "# NOTAMOS QUE ESSE VEICULO ESPECIFICO POSSUI REGISTROS NA BILHETAGEM"
   ]
  },
  {
   "cell_type": "code",
   "execution_count": null,
   "id": "be428117",
   "metadata": {},
   "outputs": [],
   "source": [
    "### Verificando dados que estão presentes na base da bilhetagem e não na base do dicionario\n",
    "lista = d01.cod_veiculo.unique()\n",
    "mes.isin({'prefixo_carro':lista}).prefixo_carro.value_counts(1)"
   ]
  },
  {
   "cell_type": "code",
   "execution_count": null,
   "id": "dde8ec7b",
   "metadata": {},
   "outputs": [],
   "source": [
    "# OU SEJA, DOS 100% DE DADOS NA BILHETAGEM APENAS 86,78% POSSUI UM CODIGO CORRESPONDENTE NA BASE DO DICIONARIO!"
   ]
  },
  {
   "cell_type": "code",
   "execution_count": null,
   "id": "98b4e235",
   "metadata": {},
   "outputs": [],
   "source": [
    "# VERIFICAÇÃO DO VEICULO 12994 NA BASE DO DICIONARIO \n",
    "d01[d01.cod_veiculo == 12993]"
   ]
  },
  {
   "cell_type": "code",
   "execution_count": 3,
   "id": "733b7b94",
   "metadata": {},
   "outputs": [
    {
     "data": {
      "text/plain": [
       "' CONCLUSÃO, APÓS INSPEÇÃO NOTAMOS QUE NÃO FOI POSSIVEL GEORREFERENCIAR A BASE DA BILHETAGEM COMPLETA POIS PARA ALGUNS VEICULOS NÃO TEM UM CODIGO DE VEICULO CORRESPONDENTE NA BASE DO DICIONARIO E CONSEQUENTIMENTE NÃO VAI SER LOCALIZADO NA BASE DO GPS, ASSIM UMA PERCENTAGEM DOS DADOS DA BILHETAGEM NÃO TIVERAM COORDENADA APROXIMADA DE VALIDAÇÃO GEORREFERENCIADA e o metodo aplicado considerou a remoção de dados com caracters do dicionario deixanod apenas dados numericos! '"
      ]
     },
     "execution_count": 3,
     "metadata": {},
     "output_type": "execute_result"
    }
   ],
   "source": [
    "''' CONCLUSÃO, APÓS INSPEÇÃO NOTAMOS QUE NÃO FOI POSSIVEL GEORREFERENCIAR A BASE DA BILHETAGEM COMPLETA POIS PARA ALGUNS VEICULOS NÃO TEM UM CODIGO DE VEICULO CORRESPONDENTE NA BASE DO DICIONARIO E CONSEQUENTIMENTE NÃO VAI SER LOCALIZADO NA BASE DO GPS, ASSIM UMA PERCENTAGEM DOS DADOS DA BILHETAGEM NÃO TIVERAM COORDENADA APROXIMADA DE VALIDAÇÃO GEORREFERENCIADA e o metodo aplicado considerou a remoção de dados com caracters do dicionario deixanod apenas dados numericos! '''"
   ]
  },
  {
   "cell_type": "markdown",
   "id": "f5fcb3d4",
   "metadata": {},
   "source": [
    "# ------------------------------------------------------------------------"
   ]
  },
  {
   "cell_type": "markdown",
   "id": "34bd06f8",
   "metadata": {},
   "source": [
    "# 6.0 Validação do georreferenciamento da base completa da bilhetagem"
   ]
  },
  {
   "cell_type": "markdown",
   "id": "61d92584",
   "metadata": {},
   "source": [
    "## 6.1.0 Integração base com dados do GTFS\n",
    "''' Na base do GTFS tem dados relacionados ao trajeto que os veiculos devem fazer as suas correpondentes linhas em operação, e dados relacionados ao horario previsto de passagem dos vieculos em cada parada, assim, busca-se intergrar essas informações em uma unica tabela tambem com informações de identicação das linhas'''"
   ]
  },
  {
   "cell_type": "markdown",
   "id": "656d162e",
   "metadata": {},
   "source": [
    "### 6.1.1 Mesclagem de dados de localização das paradas e horarios previstos de passagem"
   ]
  },
  {
   "cell_type": "code",
   "execution_count": null,
   "id": "bd072125",
   "metadata": {
    "scrolled": true
   },
   "outputs": [],
   "source": [
    "# Importando base com locais previstos de parada\n",
    "import pandas as pd   \n",
    "stops_paradas = pd.read_csv('stops.txt', sep= ',')\n",
    "\n",
    "# Importando base com tempos previstos de parada\n",
    "stop_times = pd.read_csv('stop_times.txt', sep= ',') "
   ]
  },
  {
   "cell_type": "code",
   "execution_count": null,
   "id": "bb8d50c1",
   "metadata": {},
   "outputs": [],
   "source": [
    "# Removendo colunas desnecessárias do df com paradas \n",
    "stops_paradas.drop(columns= ['stop_code', 'stop_desc', 'zone_id', 'stop_url', 'location_type', 'parent_station', 'stop_timezone', 'wheelchair_boarding'], inplace=True)"
   ]
  },
  {
   "cell_type": "code",
   "execution_count": null,
   "id": "8575badd",
   "metadata": {
    "scrolled": false
   },
   "outputs": [],
   "source": [
    "stops_paradas"
   ]
  },
  {
   "cell_type": "code",
   "execution_count": null,
   "id": "a2559a49",
   "metadata": {},
   "outputs": [],
   "source": [
    "# infromações de cada coluna \n",
    "stops_paradas.info()"
   ]
  },
  {
   "cell_type": "code",
   "execution_count": null,
   "id": "1608bf39",
   "metadata": {},
   "outputs": [],
   "source": [
    "stop_times"
   ]
  },
  {
   "cell_type": "code",
   "execution_count": null,
   "id": "170f8a3e",
   "metadata": {
    "scrolled": true
   },
   "outputs": [],
   "source": [
    "# Removendo colunas desnecessárias do df com paradas \n",
    "stop_times.drop(columns= ['stop_headsign', 'pickup_type', 'drop_off_type', 'shape_dist_traveled'], inplace=True)"
   ]
  },
  {
   "cell_type": "code",
   "execution_count": null,
   "id": "821629f7",
   "metadata": {},
   "outputs": [],
   "source": [
    "stop_times"
   ]
  },
  {
   "cell_type": "code",
   "execution_count": null,
   "id": "12cd37b5",
   "metadata": {},
   "outputs": [],
   "source": [
    "# Filtrando id de stop para verificação \n",
    "stop_times[stop_times.stop_id==1013]"
   ]
  },
  {
   "cell_type": "code",
   "execution_count": null,
   "id": "a0514727",
   "metadata": {},
   "outputs": [],
   "source": [
    "# Filtrando id de stop para verificação no df de stop_paradas \n",
    "stops_paradas[stops_paradas.stop_id==1013]"
   ]
  },
  {
   "cell_type": "code",
   "execution_count": 4,
   "id": "6df8630d",
   "metadata": {},
   "outputs": [
    {
     "data": {
      "text/plain": [
       "' Foram filtrados outros id e verificado que o df de stop_paradas possuem um unicio id de stop (identifcação da parada), assim o processo de mesclagem deve ser feito acrescetando essas informações no df de tempo programado '"
      ]
     },
     "execution_count": 4,
     "metadata": {},
     "output_type": "execute_result"
    }
   ],
   "source": [
    "''' Foram filtrados outros id e verificado que o df de stop_paradas possuem um unicio id de stop (identifcação da parada), assim o processo de mesclagem deve ser feito acrescetando essas informações no df de tempo programado '''"
   ]
  },
  {
   "cell_type": "code",
   "execution_count": null,
   "id": "2aa0da28",
   "metadata": {},
   "outputs": [],
   "source": [
    "# Acrescetando dados das paradas pela mesmo stop_id no df de tempos previstos\n",
    "merge_pardas_time = pd.merge(stop_times, stops_paradas, left_on='stop_id', right_on='stop_id')"
   ]
  },
  {
   "cell_type": "code",
   "execution_count": null,
   "id": "89b31cfc",
   "metadata": {},
   "outputs": [],
   "source": [
    "# Comprovando que meslcagem feita corretamente \n",
    "merge_pardas_time[merge_pardas_time.stop_id==1013]"
   ]
  },
  {
   "cell_type": "code",
   "execution_count": null,
   "id": "4a9154fa",
   "metadata": {
    "scrolled": false
   },
   "outputs": [],
   "source": [
    "# Base com tempos e localização de paradas mesclados\n",
    "merge_pardas_time"
   ]
  },
  {
   "cell_type": "code",
   "execution_count": null,
   "id": "da7c606c",
   "metadata": {},
   "outputs": [],
   "source": [
    "merge_pardas_time.info()"
   ]
  },
  {
   "cell_type": "code",
   "execution_count": null,
   "id": "60b9a54c",
   "metadata": {},
   "outputs": [],
   "source": [
    "# Verificando dados de tempo maiores que 24 (inspessão)\n",
    "horario_test = merge_pardas_time[merge_pardas_time.arrival_time>='24:00:00' ]"
   ]
  },
  {
   "cell_type": "markdown",
   "id": "35ebfea9",
   "metadata": {},
   "source": [
    "### 6.1.2 Mesclagem de dados com informações de cada linhas e das viagens programadas "
   ]
  },
  {
   "cell_type": "code",
   "execution_count": null,
   "id": "fde4610f",
   "metadata": {},
   "outputs": [],
   "source": [
    "# Importando dados com informações de cada linha \n",
    "routes = pd.read_csv('routes.txt', sep=\",\")\n",
    "\n",
    "# Importando dados com viagens programadas de cada linha \n",
    "trips = pd.read_csv('trips.txt', sep=\",\")"
   ]
  },
  {
   "cell_type": "code",
   "execution_count": null,
   "id": "0c7861ab",
   "metadata": {},
   "outputs": [],
   "source": [
    "trips"
   ]
  },
  {
   "cell_type": "code",
   "execution_count": null,
   "id": "b54ba836",
   "metadata": {},
   "outputs": [],
   "source": [
    "# Informaçõs da base \n",
    "trips.info()"
   ]
  },
  {
   "cell_type": "code",
   "execution_count": null,
   "id": "dc3e6024",
   "metadata": {},
   "outputs": [],
   "source": [
    "# Removendo informações desnecessárias\n",
    "trips_tratado = trips.drop(columns=['service_id', 'trip_headsign', 'trip_short_name', 'direction_id', 'block_id', 'wheelchair_accessible'])"
   ]
  },
  {
   "cell_type": "code",
   "execution_count": null,
   "id": "4e723cdc",
   "metadata": {},
   "outputs": [],
   "source": [
    "trips_tratado"
   ]
  },
  {
   "cell_type": "code",
   "execution_count": null,
   "id": "e52b9831",
   "metadata": {},
   "outputs": [],
   "source": [
    "# Removendo informações desnecessárias\n",
    "routes_tratado = routes.drop(columns=['route_desc', 'route_type', 'route_url', 'route_color', 'route_text_color'])"
   ]
  },
  {
   "cell_type": "code",
   "execution_count": null,
   "id": "e41c3dae",
   "metadata": {},
   "outputs": [],
   "source": [
    "# Informaçõs da base \n",
    "routes_tratado.info()"
   ]
  },
  {
   "cell_type": "code",
   "execution_count": null,
   "id": "18eba50f",
   "metadata": {},
   "outputs": [],
   "source": [
    "routes_tratado"
   ]
  },
  {
   "cell_type": "code",
   "execution_count": null,
   "id": "6225e0a0",
   "metadata": {},
   "outputs": [],
   "source": [
    "# REALIZANDO OPERAÇÃO DE MESCLAGEM DE BASE COM INFORMAÇÕES DE LINHAS E AS SUAS RESPECTIVAS VIAGENS PROGRAMADAS\n",
    "merge_trips_routes = pd.merge(trips_tratado, routes_tratado, left_on='route_id', right_on='route_id')"
   ]
  },
  {
   "cell_type": "code",
   "execution_count": null,
   "id": "05e96592",
   "metadata": {},
   "outputs": [],
   "source": [
    "# BASE MESCLADA\n",
    "merge_trips_routes"
   ]
  },
  {
   "cell_type": "markdown",
   "id": "2e3948e9",
   "metadata": {},
   "source": [
    "### 6.1.3 Mesclagem de dados de localização das paradas e horarios com informações das linhas  com viagens\n",
    "''' Com a base contendo  localização das paradas e horario previsto de passagem  e outra base com infromações de cada linhas e das viagens previstas, é possivel integrar essas informações em uma unica base para aplicação do prcedimento proposto '''"
   ]
  },
  {
   "cell_type": "code",
   "execution_count": null,
   "id": "fb56c9a0",
   "metadata": {},
   "outputs": [],
   "source": [
    "# Releitura da base com stops e times \n",
    "merge_pardas_time"
   ]
  },
  {
   "cell_type": "code",
   "execution_count": null,
   "id": "e53f6f47",
   "metadata": {},
   "outputs": [],
   "source": [
    "# Releitura da base com routes e trips \n",
    "merge_trips_routes"
   ]
  },
  {
   "cell_type": "code",
   "execution_count": null,
   "id": "3f0f1565",
   "metadata": {
    "scrolled": true
   },
   "outputs": [],
   "source": [
    "# REALIZANDO OPERAÇÃO DE MESCLAGEM DAS BASES\n",
    "merge_all = pd.merge(merge_pardas_time, merge_trips_routes, left_on='trip_id', right_on='trip_id')"
   ]
  },
  {
   "cell_type": "code",
   "execution_count": null,
   "id": "2f7951c5",
   "metadata": {},
   "outputs": [],
   "source": [
    "# BASES INTEGRADAS\n",
    "merge_all"
   ]
  },
  {
   "cell_type": "code",
   "execution_count": null,
   "id": "348f98bf",
   "metadata": {},
   "outputs": [],
   "source": [
    "# Renomeando coluna route_id para linha \n",
    "merge_all.rename(columns={'route_id': 'linha'}, inplace=True)"
   ]
  },
  {
   "cell_type": "code",
   "execution_count": 5,
   "id": "ea69e711",
   "metadata": {},
   "outputs": [
    {
     "data": {
      "text/plain": [
       "' Por inspeção vimos que possuem horarios de chegada superiores a 24 hs, segue na variavel horario_test'"
      ]
     },
     "execution_count": 5,
     "metadata": {},
     "output_type": "execute_result"
    }
   ],
   "source": [
    "''' Por inspeção vimos que possuem horarios de chegada superiores a 24 hs, segue na variavel horario_test'''"
   ]
  },
  {
   "cell_type": "code",
   "execution_count": null,
   "id": "3a39de95",
   "metadata": {},
   "outputs": [],
   "source": [
    "horario_test"
   ]
  },
  {
   "cell_type": "code",
   "execution_count": 6,
   "id": "8cde6dae",
   "metadata": {},
   "outputs": [
    {
     "data": {
      "text/plain": [
       "' Foi adotado a substituição de 24 por 00 e 25 01!'"
      ]
     },
     "execution_count": 6,
     "metadata": {},
     "output_type": "execute_result"
    }
   ],
   "source": [
    "''' Foi adotado a substituição de 24 por 00 e 25 01!'''"
   ]
  },
  {
   "cell_type": "code",
   "execution_count": null,
   "id": "b9129991",
   "metadata": {},
   "outputs": [],
   "source": [
    "# transformanmdo dados de horas para string\n",
    "merge_all['arrival_time'] = merge_all['arrival_time'].astype(str)"
   ]
  },
  {
   "cell_type": "code",
   "execution_count": null,
   "id": "3d03ad74",
   "metadata": {},
   "outputs": [],
   "source": [
    "# Função para substituição\n",
    "def substituir_hora_24(hora):\n",
    "    return hora.replace(\"24\", \"00\")\n",
    "def substituir_hora_25(hora):\n",
    "    return hora.replace(\"25\", \"01\")"
   ]
  },
  {
   "cell_type": "code",
   "execution_count": null,
   "id": "98df3584",
   "metadata": {},
   "outputs": [],
   "source": [
    "# Aplicand0 função para 24\n",
    "merge_all['arrival_time'] = merge_all['arrival_time'].apply(substituir_hora_24)\n",
    "\n",
    "# Aplicand0 função para 25\n",
    "merge_all['arrival_time'] = merge_all['arrival_time'].apply(substituir_hora_25)"
   ]
  },
  {
   "cell_type": "code",
   "execution_count": null,
   "id": "2f7a9b8c",
   "metadata": {},
   "outputs": [],
   "source": [
    "# Transformando coluna de chegada programada do veiculo em tipo data\n",
    "merge_all['momento'] = pd.to_datetime(merge_all['arrival_time'], format='%H:%M:%S')"
   ]
  },
  {
   "cell_type": "code",
   "execution_count": null,
   "id": "75fd0647",
   "metadata": {},
   "outputs": [],
   "source": [
    "# Transformando tamanho da coluna dee linha\n",
    "merge_all['linha'] = merge_all['linha'].astype('int32')"
   ]
  },
  {
   "cell_type": "code",
   "execution_count": null,
   "id": "36200497",
   "metadata": {},
   "outputs": [],
   "source": [
    "# Informações \n",
    "merge_all.info()"
   ]
  },
  {
   "cell_type": "code",
   "execution_count": null,
   "id": "c95822b4",
   "metadata": {},
   "outputs": [],
   "source": [
    "# Verificando dados nulos \n",
    "merge_all.isnull().sum()"
   ]
  },
  {
   "cell_type": "code",
   "execution_count": null,
   "id": "165f94f6",
   "metadata": {},
   "outputs": [],
   "source": [
    "# Remvendo valores de time nulos par aplciação da função\n",
    "merge_all.dropna(inplace=True)"
   ]
  },
  {
   "cell_type": "code",
   "execution_count": null,
   "id": "d997cb30",
   "metadata": {},
   "outputs": [],
   "source": [
    "# Colocando base em ordem pela hora, minuto e segundo de validação\n",
    "merge_all.sort_values('arrival_time', inplace=True)"
   ]
  },
  {
   "cell_type": "code",
   "execution_count": null,
   "id": "6bd6a0c6",
   "metadata": {},
   "outputs": [],
   "source": [
    "#Versão tratada com 1900-01-01 Sendo um valor de ano mes e dia generico!\n",
    "merge_all"
   ]
  },
  {
   "cell_type": "markdown",
   "id": "6e831d45",
   "metadata": {},
   "source": [
    "## 6.2 Associando tempo georreferenciado de validação com tempo programado do GTFS\n",
    "''' Com dados de localização e horario de passagem dos veiculos programdados ja adicionados em um unico dataframe, pela mesclagem de dados da bilhetagem georregerenciada e esses dados da programação, em uma mesma linha usando o criterio de pegar o tempo mais proximo é possivel verificar se o georeferenciamento por meio do GPS coincide com a mesma região do local de passagem da programação  '''"
   ]
  },
  {
   "cell_type": "code",
   "execution_count": null,
   "id": "e5dd8203",
   "metadata": {},
   "outputs": [],
   "source": [
    "# Reatribuido bilhetagem georreferenciada pelo GPS em outra variavel \n",
    "mes_validação = mes_d1_GPS "
   ]
  },
  {
   "cell_type": "code",
   "execution_count": null,
   "id": "a34b9332",
   "metadata": {},
   "outputs": [],
   "source": [
    "# Deletando exlicitamente base com informações da bilhetagem anterior\n",
    "del mes_d1_GPS"
   ]
  },
  {
   "cell_type": "code",
   "execution_count": null,
   "id": "3cef8e17",
   "metadata": {
    "scrolled": false
   },
   "outputs": [],
   "source": [
    "# Verificando base novamente \n",
    "mes_validação"
   ]
  },
  {
   "cell_type": "code",
   "execution_count": 7,
   "id": "5653f32e",
   "metadata": {},
   "outputs": [
    {
     "data": {
      "text/plain": [
       "' A base do mes da bilhetagem possue coluna linha coincidente com a coluna rout_id da base integrada do GTFS'"
      ]
     },
     "execution_count": 7,
     "metadata": {},
     "output_type": "execute_result"
    }
   ],
   "source": [
    "''' A base do mes da bilhetagem possue coluna linha coincidente com a coluna rout_id da base integrada do GTFS'''"
   ]
  },
  {
   "cell_type": "code",
   "execution_count": null,
   "id": "bca99c32",
   "metadata": {},
   "outputs": [],
   "source": [
    "# Info da base\n",
    "mes_validação.info()"
   ]
  },
  {
   "cell_type": "code",
   "execution_count": null,
   "id": "89c456de",
   "metadata": {},
   "outputs": [],
   "source": [
    "# Transformando coluna de momento de hora, minuto e segundo de validação em tipo data\n",
    "mes_validação['momento_x'] = pd.to_datetime(mes_validação['momento_x'], format='%H:%M:%S')"
   ]
  },
  {
   "cell_type": "code",
   "execution_count": null,
   "id": "cc927d60",
   "metadata": {},
   "outputs": [],
   "source": [
    "# Colocando base em ordem pela hora, minuto e segundo de validação\n",
    "mes_validação.sort_values('momento_x', inplace=True)"
   ]
  },
  {
   "cell_type": "code",
   "execution_count": null,
   "id": "635c5618",
   "metadata": {},
   "outputs": [],
   "source": [
    "# Versão tambem com 1900-01-01 generico FEITO PARA APLICAÇÃO DA FUNÇÃO merge_asof()\n",
    "mes_validação"
   ]
  },
  {
   "cell_type": "code",
   "execution_count": null,
   "id": "62884b49",
   "metadata": {},
   "outputs": [],
   "source": [
    "# REALIZANDO OPERAÇÃO DE MESCLAGEM PARA VERIFICAÇÃO PELO CRITERIO DE TEMPO \n",
    "mes_geo_validação = pd.merge_asof(mes_validação, merge_all, left_on='momento_x', right_on='arrival_time', by='linha', direction ='nearest')"
   ]
  },
  {
   "cell_type": "code",
   "execution_count": null,
   "id": "0332f4e2",
   "metadata": {},
   "outputs": [],
   "source": [
    "mes_geo_validação"
   ]
  },
  {
   "cell_type": "markdown",
   "id": "5fe9a63c",
   "metadata": {},
   "source": [
    "## 6.3 Visualização da bilhetagem localizada e da região de passagem programada"
   ]
  },
  {
   "cell_type": "code",
   "execution_count": null,
   "id": "03eebe6c",
   "metadata": {},
   "outputs": [],
   "source": [
    "# Criando coluna do tipo point do local estimado de validação\n",
    "mes_geo_validação['geometry_validação'] = mes_geo_validação.apply(lambda x: Point((float(x.longitude), float(x.latitude))), axis=1)"
   ]
  },
  {
   "cell_type": "code",
   "execution_count": null,
   "id": "5ef2c252",
   "metadata": {},
   "outputs": [],
   "source": [
    "# Criando geometria do local programado de passsagem \n",
    "mes_geo_validação['geometry_parada'] =  mes_geo_validação.apply(lambda x: Point((float(x.stop_lon), float(x.stop_lat))), axis=1)"
   ]
  },
  {
   "cell_type": "code",
   "execution_count": null,
   "id": "66ac10bf",
   "metadata": {},
   "outputs": [],
   "source": [
    "# Criando um GeoDataFrame \n",
    "mes_geometry = gpd.GeoDataFrame(mes_geo_validação, geometry='geometry_validação')"
   ]
  },
  {
   "cell_type": "code",
   "execution_count": null,
   "id": "c0061091",
   "metadata": {},
   "outputs": [],
   "source": [
    "# Criando um GeoDataFrame com versão final \n",
    "mes_geometry_validação = gpd.GeoDataFrame(mes_geometry, geometry='geometry_parada')"
   ]
  },
  {
   "cell_type": "code",
   "execution_count": null,
   "id": "8582822f",
   "metadata": {},
   "outputs": [],
   "source": [
    "# Deletando explicitamente a variavel com dadosde bilhetagem não necessários\n",
    "del mes_geo_validação\n",
    "del mes_geometry"
   ]
  },
  {
   "cell_type": "code",
   "execution_count": null,
   "id": "6b981a80",
   "metadata": {},
   "outputs": [],
   "source": [
    "mes_geometry_validação.info()"
   ]
  },
  {
   "cell_type": "code",
   "execution_count": null,
   "id": "d5e01f2c",
   "metadata": {},
   "outputs": [],
   "source": [
    "# removendo colunas desnecessárias\n",
    "mes_geometry_validação.drop(columns=['momento_x', 'route_long_name', 'agency_id', 'shape_id', 'stop_sequence'], inplace=True)"
   ]
  },
  {
   "cell_type": "code",
   "execution_count": null,
   "id": "a25b8ad8",
   "metadata": {},
   "outputs": [],
   "source": [
    "# Ultima versão do df \n",
    "mes_geometry_validação"
   ]
  },
  {
   "cell_type": "code",
   "execution_count": null,
   "id": "b4719f2f",
   "metadata": {},
   "outputs": [],
   "source": [
    "# Filtrando usuarios de uma linha especifica \n",
    "usuarios = mes_geometry_validação[mes_geometry_validação.linha==75]"
   ]
  },
  {
   "cell_type": "markdown",
   "id": "fbd8171e",
   "metadata": {},
   "source": [
    "### _Pegando usuario aleatorio da linha em questão_ \n"
   ]
  },
  {
   "cell_type": "code",
   "execution_count": null,
   "id": "b203f778",
   "metadata": {},
   "outputs": [],
   "source": [
    "# Usuario aleatorio \n",
    "usuario_aleatorio = usuarios['id'].sample().iloc[0]\n",
    "\n",
    "validações_usuario_aleatorio =  mes_geometry_validação[mes_geometry_validação['id'] == usuario_aleatorio]"
   ]
  },
  {
   "cell_type": "code",
   "execution_count": null,
   "id": "acebf2e8",
   "metadata": {},
   "outputs": [],
   "source": [
    "validações_usuario_aleatorio"
   ]
  },
  {
   "cell_type": "code",
   "execution_count": null,
   "id": "9b45b744",
   "metadata": {},
   "outputs": [],
   "source": [
    "# Criando média das coordenadas \n",
    "lonGIT = validações_usuario_aleatorio['longitude'].mean()\n",
    "latITUD = validações_usuario_aleatorio['latitude'].mean()"
   ]
  },
  {
   "cell_type": "code",
   "execution_count": null,
   "id": "59d6a65f",
   "metadata": {},
   "outputs": [],
   "source": [
    "# Criando mapa \n",
    "mapa = folium.Map(location=[latITUD , lonGIT], zoom_start=10)"
   ]
  },
  {
   "cell_type": "code",
   "execution_count": null,
   "id": "d725dcb4",
   "metadata": {},
   "outputs": [],
   "source": [
    "# Adicionando marcadores circulares ao mapa\n",
    "marker_cluster = MarkerCluster().add_to(mapa)\n",
    "\n",
    "def popup_content(id_veiculo, id_veiculo_clicado):\n",
    "    cor_popup = 'blue' if id_veiculo != id_veiculo_clicado else 'red'\n",
    "    return f'<div style=\"color: {cor_popup};\">{id_veiculo}</div>'\n",
    "\n",
    "for index, row in validações_usuario_aleatorio.iterrows():\n",
    "    folium.CircleMarker(location=[row['latitude'], row['longitude']],\n",
    "                        radius=10,\n",
    "                        color='blue',\n",
    "                        fill=True,\n",
    "                        fill_color='blue',\n",
    "                        fill_opacity=0.6,\n",
    "                        popup=folium.Popup(popup_content(row['id_veiculo'], ''), max_width=300)).add_to(marker_cluster)"
   ]
  },
  {
   "cell_type": "code",
   "execution_count": null,
   "id": "ac9bdf4a",
   "metadata": {},
   "outputs": [],
   "source": [
    "# Adicionando marcadores circulares ao mapa\n",
    "marker_cluster = MarkerCluster().add_to(mapa)\n",
    "\n",
    "def popup_content2(id_veiculo, id_veiculo_clicado):\n",
    "    cor_popup = 'blue' if id_veiculo != id_veiculo_clicado else 'red'\n",
    "    return f'<div style=\"color: {cor_popup};\">{id_veiculo}</div>'\n",
    "\n",
    "for index, row in validações_usuario_aleatorio.iterrows():\n",
    "    folium.CircleMarker(location=[row['lat'], row['lon']],\n",
    "                        radius=10,\n",
    "                        color='red',\n",
    "                        fill=True,\n",
    "                        fill_color='red',\n",
    "                        fill_opacity=0.6,\n",
    "                        popup=folium.Popup(popup_content2(row['id_veiculo'], ''), max_width=300)).add_to(marker_cluster)"
   ]
  },
  {
   "cell_type": "code",
   "execution_count": null,
   "id": "5fd7f55f",
   "metadata": {},
   "outputs": [],
   "source": [
    "mapa"
   ]
  },
  {
   "cell_type": "markdown",
   "id": "763e14f6",
   "metadata": {},
   "source": [
    "# ------------------------------------------------------------------------"
   ]
  }
 ],
 "metadata": {
  "kernelspec": {
   "display_name": "Python 3 (ipykernel)",
   "language": "python",
   "name": "python3"
  },
  "language_info": {
   "codemirror_mode": {
    "name": "ipython",
    "version": 3
   },
   "file_extension": ".py",
   "mimetype": "text/x-python",
   "name": "python",
   "nbconvert_exporter": "python",
   "pygments_lexer": "ipython3",
   "version": "3.9.12"
  }
 },
 "nbformat": 4,
 "nbformat_minor": 5
}
