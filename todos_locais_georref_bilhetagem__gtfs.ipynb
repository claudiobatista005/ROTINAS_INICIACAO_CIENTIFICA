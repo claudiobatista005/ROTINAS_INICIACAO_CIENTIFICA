{
 "cells": [
  {
   "cell_type": "markdown",
   "id": "4c29b47f",
   "metadata": {},
   "source": [
    "# Algoritmo - Localização Bilhetagem (terminais e outros)\n",
    "### _Autor: Antônio Claudio Dutra Batista_\n",
    "### _Orientador: Francisco Moraes de Oliveria Neto_\n",
    "### _Metodologia: Mesclagem por informações coincidentes e critério de tempo (validadação e programação)_"
   ]
  },
  {
   "cell_type": "markdown",
   "id": "0d3152ac",
   "metadata": {},
   "source": [
    "# 1.0  Leitura das Bases"
   ]
  },
  {
   "cell_type": "markdown",
   "id": "53c75e45",
   "metadata": {},
   "source": [
    "## 1.1 leitura da base - Bilhetagem (Tratamento Inicial)"
   ]
  },
  {
   "cell_type": "code",
   "execution_count": null,
   "id": "2ce30445",
   "metadata": {},
   "outputs": [],
   "source": [
    "import pandas as pd\n",
    "\n",
    "# Lista para armazenar os dataframes\n",
    "grupos_dias = []\n",
    "\n",
    "# Loop para ler os arquivos CSV e concatená-los \n",
    "for i in range(1, 31):  # Início, fim (não inclusivo)\n",
    "    try:\n",
    "        # Lendo do arquivo CSV\n",
    "        df = pd.read_csv(f'2018-11-{str(i).zfill(2)}.csv',usecols=['id', 'linha', 'nome_linha', 'prefixo_carro',\n",
    "                            'nome_cartao', 'sentido_viagem', 'dia', 'momento'], sep=',')\n",
    "                \n",
    "        # Armazenando o dataframe na lista\n",
    "        grupos_dias.append(df)\n",
    "    except FileNotFoundError:\n",
    "        print(f\"Arquivo para o dia {i} não encontrado. Pulando...\")"
   ]
  },
  {
   "cell_type": "code",
   "execution_count": null,
   "id": "3117b37d",
   "metadata": {},
   "outputs": [],
   "source": [
    "# Concatenando os grupos de 10 dias\n",
    "mes_tudo = pd.concat(grupos_dias)"
   ]
  },
  {
   "cell_type": "code",
   "execution_count": null,
   "id": "c4f352bd",
   "metadata": {},
   "outputs": [],
   "source": [
    "mes_tudo"
   ]
  },
  {
   "cell_type": "code",
   "execution_count": null,
   "id": "43fce2a3",
   "metadata": {},
   "outputs": [],
   "source": [
    "# Caso necessite exportar arquivo da bilhetagem completa\n",
    "# mes_tudo.to_csv(\"mes_tudo\")"
   ]
  },
  {
   "cell_type": "code",
   "execution_count": 1,
   "id": "3f36966b",
   "metadata": {},
   "outputs": [
    {
     "data": {
      "text/plain": [
       "' FORMATAÇÃO INICIAL '"
      ]
     },
     "execution_count": 1,
     "metadata": {},
     "output_type": "execute_result"
    }
   ],
   "source": [
    "''' FORMATAÇÃO INICIAL '''"
   ]
  },
  {
   "cell_type": "code",
   "execution_count": null,
   "id": "aa5fc47b",
   "metadata": {},
   "outputs": [],
   "source": [
    "# Momentos em ordem do df mes_c_R!\n",
    "# mes_tudo.sort_values('momento', inplace = True) # Mostrando DF em ORDEM!"
   ]
  },
  {
   "cell_type": "code",
   "execution_count": null,
   "id": "0ff223ef",
   "metadata": {},
   "outputs": [],
   "source": [
    "# Juntando colunas de interesse (dia, momento) em uma só:\n",
    "mes_tudo[\"momento\"] = mes_tudo['dia'].astype(str) + ' ' + mes_tudo['momento'].astype(str)"
   ]
  },
  {
   "cell_type": "code",
   "execution_count": null,
   "id": "bce40ec1",
   "metadata": {},
   "outputs": [],
   "source": [
    "mes_tudo.drop(columns='dia', inplace= True)"
   ]
  },
  {
   "cell_type": "code",
   "execution_count": null,
   "id": "2682773d",
   "metadata": {},
   "outputs": [],
   "source": [
    "# Transformando coluna momento para formato data\n",
    "mes_tudo[\"momento\"] = pd.to_datetime(mes_tudo['momento'])"
   ]
  },
  {
   "cell_type": "markdown",
   "id": "f99eb8a4",
   "metadata": {},
   "source": [
    "### 1.1.1 Inspeção inicial"
   ]
  },
  {
   "cell_type": "code",
   "execution_count": null,
   "id": "69992b1d",
   "metadata": {
    "scrolled": true
   },
   "outputs": [],
   "source": [
    "# Informações da base\n",
    "mes_tudo.info()"
   ]
  },
  {
   "cell_type": "code",
   "execution_count": null,
   "id": "f475c12b",
   "metadata": {},
   "outputs": [],
   "source": [
    "# Dados nulos \n",
    "# mes_tudo.isnull().sum()"
   ]
  },
  {
   "cell_type": "code",
   "execution_count": null,
   "id": "d305ac1b",
   "metadata": {
    "scrolled": true
   },
   "outputs": [],
   "source": [
    "# Verificando linhas utilizadas \n",
    "nomes_linhas = mes_tudo['nome_linha']\n",
    "nomes_linhas.unique()"
   ]
  },
  {
   "cell_type": "code",
   "execution_count": null,
   "id": "47fe9f81",
   "metadata": {},
   "outputs": [],
   "source": [
    "# Visualisando dados de identifcação dos veciulos nulos\n",
    "veiclulos_nao_identificados = mes_tudo[mes_tudo['prefixo_carro'].isnull()]\n",
    "df_nao_identificados =  veiclulos_nao_identificados['nome_linha'].value_counts()"
   ]
  },
  {
   "cell_type": "code",
   "execution_count": null,
   "id": "c4fa2f5b",
   "metadata": {},
   "outputs": [],
   "source": [
    "df_nao_identificados"
   ]
  },
  {
   "cell_type": "code",
   "execution_count": 2,
   "id": "62775448",
   "metadata": {},
   "outputs": [
    {
     "data": {
      "text/plain": [
       "' Ou seja, duas linhas tiveram dados nulos de identificação dos veiculos'"
      ]
     },
     "execution_count": 2,
     "metadata": {},
     "output_type": "execute_result"
    }
   ],
   "source": [
    "''' Ou seja, duas linhas tiveram dados nulos de identificação dos veiculos'''"
   ]
  },
  {
   "cell_type": "code",
   "execution_count": null,
   "id": "9a59f876",
   "metadata": {},
   "outputs": [],
   "source": [
    "# Visualisando dados de identifcação dos nomes das linhas nulos\n",
    "nome_linha_nao_identificados = mes_tudo[mes_tudo['nome_linha'].isnull()]"
   ]
  },
  {
   "cell_type": "code",
   "execution_count": null,
   "id": "c78a50bc",
   "metadata": {},
   "outputs": [],
   "source": [
    "nome_linha_nao_identificados"
   ]
  },
  {
   "cell_type": "code",
   "execution_count": 3,
   "id": "a234c99d",
   "metadata": {},
   "outputs": [
    {
     "data": {
      "text/plain": [
       "' Obs: Nomes da linhas nulos não é um problema, pois se tem o id de identificação delas na coluna linha! '"
      ]
     },
     "execution_count": 3,
     "metadata": {},
     "output_type": "execute_result"
    }
   ],
   "source": [
    "''' Obs: Nomes da linhas nulos não é um problema, pois se tem o id de identificação delas na coluna linha! '''"
   ]
  },
  {
   "cell_type": "markdown",
   "id": "839393cf",
   "metadata": {},
   "source": [
    "## 1.3 leitura da base dicionário e identificação de validações em terminais"
   ]
  },
  {
   "cell_type": "markdown",
   "id": "3aeaa92b",
   "metadata": {},
   "source": [
    "### 1.3.1 leitura e tratamento da base dicionário"
   ]
  },
  {
   "cell_type": "code",
   "execution_count": null,
   "id": "5818c54c",
   "metadata": {},
   "outputs": [],
   "source": [
    "# df', abaixo:\n",
    "d1 = pd.read_csv('veiculos2018.csv', sep= ';')"
   ]
  },
  {
   "cell_type": "code",
   "execution_count": null,
   "id": "bc24ee0d",
   "metadata": {},
   "outputs": [],
   "source": [
    "# Mostrando Df\n",
    "display(d1)"
   ]
  },
  {
   "cell_type": "code",
   "execution_count": null,
   "id": "a49952c6",
   "metadata": {},
   "outputs": [],
   "source": [
    "# Verificando tipo de dados\n",
    "d1.info()"
   ]
  },
  {
   "cell_type": "code",
   "execution_count": null,
   "id": "245b9968",
   "metadata": {},
   "outputs": [],
   "source": [
    "d1[d1.id_veiculo==2537]"
   ]
  },
  {
   "cell_type": "code",
   "execution_count": null,
   "id": "a6ecef57",
   "metadata": {},
   "outputs": [],
   "source": [
    "d1[d1.id_veiculo==2019.0]"
   ]
  },
  {
   "cell_type": "code",
   "execution_count": null,
   "id": "eddd9ed1",
   "metadata": {},
   "outputs": [],
   "source": [
    "# Verificando se existe esse veiculo na bilhetagem\n",
    "mes_tudo[mes_tudo.prefixo_carro==30030]"
   ]
  },
  {
   "cell_type": "code",
   "execution_count": null,
   "id": "f98de7eb",
   "metadata": {},
   "outputs": [],
   "source": [
    "# Renomear colunas\n",
    "d1.columns=['id_veiculo', 'cod_veiculo']"
   ]
  },
  {
   "cell_type": "code",
   "execution_count": null,
   "id": "8f06f5ec",
   "metadata": {},
   "outputs": [],
   "source": [
    "# Removendo identificação de veiculos com caracteres da coluna de cod_veiculo\n",
    "d01_ = d1[pd.to_numeric(d1['cod_veiculo'], errors='coerce').notnull()]"
   ]
  },
  {
   "cell_type": "code",
   "execution_count": null,
   "id": "8ab33aa7",
   "metadata": {},
   "outputs": [],
   "source": [
    "d01_"
   ]
  },
  {
   "cell_type": "code",
   "execution_count": null,
   "id": "1f9d6923",
   "metadata": {},
   "outputs": [],
   "source": [
    "# visualizando DUPLICADOS \n",
    "d01_[d01_['cod_veiculo'].duplicated(keep=False)]"
   ]
  },
  {
   "cell_type": "code",
   "execution_count": null,
   "id": "fd5aed62",
   "metadata": {},
   "outputs": [],
   "source": [
    "d01_.drop_duplicates(subset=['cod_veiculo'], inplace=True)"
   ]
  },
  {
   "cell_type": "code",
   "execution_count": null,
   "id": "564b8ede",
   "metadata": {},
   "outputs": [],
   "source": [
    "d01_['cod_veiculo'] = d01_['cod_veiculo'].astype('int32')\n",
    "d01_['id_veiculo'] = d01_['id_veiculo'].astype('int32')"
   ]
  },
  {
   "cell_type": "code",
   "execution_count": null,
   "id": "02fb1454",
   "metadata": {},
   "outputs": [],
   "source": [
    "d01_"
   ]
  },
  {
   "cell_type": "code",
   "execution_count": null,
   "id": "375ea53a",
   "metadata": {},
   "outputs": [],
   "source": [
    "# Deixando dados do dicionario que possuem dados associados no GPS!\n",
    "d01 = d01_[d01_['cod_veiculo'].isin(mes_tudo['prefixo_carro'])]"
   ]
  },
  {
   "cell_type": "code",
   "execution_count": null,
   "id": "6a67afc0",
   "metadata": {},
   "outputs": [],
   "source": [
    "# d01.reset_index(inplace=True)\n",
    "# d01.drop(columns='index', inplace=True)"
   ]
  },
  {
   "cell_type": "code",
   "execution_count": null,
   "id": "6670aaef",
   "metadata": {},
   "outputs": [],
   "source": [
    "d01"
   ]
  },
  {
   "cell_type": "markdown",
   "id": "66a80765",
   "metadata": {},
   "source": [
    "### 1.3.2 Identificação de validações em terminais"
   ]
  },
  {
   "cell_type": "code",
   "execution_count": null,
   "id": "83c97f3c",
   "metadata": {},
   "outputs": [],
   "source": [
    "# Verificando dados que estão na bilhetagem (prefixo_carro), mas não estão no dicionário e consequentemente não estão no GPS\n",
    "dados_apenas_em_mes_ = mes_tudo[~mes_tudo['prefixo_carro'].isin(d01['cod_veiculo'])]"
   ]
  },
  {
   "cell_type": "code",
   "execution_count": null,
   "id": "8a96fdbd",
   "metadata": {
    "scrolled": false
   },
   "outputs": [],
   "source": [
    "dados_apenas_em_mes_"
   ]
  },
  {
   "cell_type": "code",
   "execution_count": null,
   "id": "6662344e",
   "metadata": {},
   "outputs": [],
   "source": [
    "dados_apenas_em_mes_.isnull().sum()"
   ]
  },
  {
   "cell_type": "code",
   "execution_count": null,
   "id": "73b85e34",
   "metadata": {},
   "outputs": [],
   "source": [
    "# Preenchendo os valores NaN na coluna 'nome_linha' com uma string vazia\n",
    "dados_apenas_em_mes_['nome_linha'] = dados_apenas_em_mes_['nome_linha'].fillna('')"
   ]
  },
  {
   "cell_type": "code",
   "execution_count": 4,
   "id": "433e294a",
   "metadata": {},
   "outputs": [
    {
     "data": {
      "text/plain": [
       "' OU SEJA, ESSES DADOS NÃO POSSUEM ASSOCIAÇÃO PELO GPS!'"
      ]
     },
     "execution_count": 4,
     "metadata": {},
     "output_type": "execute_result"
    }
   ],
   "source": [
    "''' OU SEJA, ESSES DADOS NÃO POSSUEM ASSOCIAÇÃO PELO GPS!'''"
   ]
  },
  {
   "cell_type": "code",
   "execution_count": null,
   "id": "21d2217f",
   "metadata": {},
   "outputs": [],
   "source": [
    "# Verificando dados que estão na bilhetagem (prefixo_carro), mas não estão no dicionário e consequentemente não estão no GPS\n",
    "df_terminais_filtro_01 = dados_apenas_em_mes_[dados_apenas_em_mes_['nome_linha'].str.contains('TERMINAL')]\n",
    "\n",
    "#  Por inspeção foi identificado outra nomelcatura para o terminal (ANT.BEZERRA)\n",
    "df_terminais_filtro_02  = dados_apenas_em_mes_[dados_apenas_em_mes_['nome_linha'].str.contains('TERM.ANT.BEZERRA')]"
   ]
  },
  {
   "cell_type": "code",
   "execution_count": null,
   "id": "53c0ce1e",
   "metadata": {},
   "outputs": [],
   "source": [
    "# Verificando quantidade de validações em terminais filtro_01\n",
    "df_terminais_filtro_01['nome_linha'].value_counts()"
   ]
  },
  {
   "cell_type": "code",
   "execution_count": null,
   "id": "a160d4e0",
   "metadata": {},
   "outputs": [],
   "source": [
    "# Verificando quantidade de validações em terminais filtro_02\n",
    "df_terminais_filtro_02['nome_linha'].value_counts()"
   ]
  },
  {
   "cell_type": "code",
   "execution_count": null,
   "id": "4c3fc685",
   "metadata": {},
   "outputs": [],
   "source": [
    "# JUNTANDO DADOS DE TERMINAIS EM UMA UNICA BASE \n",
    "df_terminais = pd.concat([df_terminais_filtro_01,df_terminais_filtro_02])"
   ]
  },
  {
   "cell_type": "code",
   "execution_count": null,
   "id": "6b0f39a7",
   "metadata": {},
   "outputs": [],
   "source": [
    "del df_terminais_filtro_01\n",
    "del df_terminais_filtro_02"
   ]
  },
  {
   "cell_type": "code",
   "execution_count": null,
   "id": "52861c50",
   "metadata": {},
   "outputs": [],
   "source": [
    "df_terminais.reset_index(inplace=True)\n",
    "df_terminais.drop(columns='index', inplace=True)"
   ]
  },
  {
   "cell_type": "code",
   "execution_count": null,
   "id": "8e8e6db3",
   "metadata": {},
   "outputs": [],
   "source": [
    "# Base com TERMINAIS\n",
    "df_terminais"
   ]
  },
  {
   "cell_type": "code",
   "execution_count": null,
   "id": "276b54c8",
   "metadata": {},
   "outputs": [],
   "source": [
    "df_terminais['nome_linha'].unique()"
   ]
  },
  {
   "cell_type": "code",
   "execution_count": 5,
   "id": "8a620131",
   "metadata": {},
   "outputs": [
    {
     "data": {
      "text/plain": [
       "' É possivel verificar que o terminal siqueira tinha dados nulos, mas ele é filtrado e fica na varaivel df_terminais, logo a localização dele sera incluso ja nessa varivel! '"
      ]
     },
     "execution_count": 5,
     "metadata": {},
     "output_type": "execute_result"
    }
   ],
   "source": [
    "''' É possivel verificar que o terminal siqueira tinha dados nulos, mas ele é filtrado e fica na varaivel df_terminais, logo a localização dele sera incluso ja nessa varivel! '''"
   ]
  },
  {
   "cell_type": "code",
   "execution_count": 6,
   "id": "bca75a34",
   "metadata": {},
   "outputs": [
    {
     "data": {
      "text/plain": [
       "' Sendo assim é possivel verificar as validações por meio do mesmo id_veiculo e usando o criteiro de tempo, ja os dados dos terminais será usado o metodo de localização desses dados na variavel df_terminais! '"
      ]
     },
     "execution_count": 6,
     "metadata": {},
     "output_type": "execute_result"
    }
   ],
   "source": [
    "''' Sendo assim é possivel verificar as validações por meio do mesmo id_veiculo e usando o criteiro de tempo, ja os dados dos terminais será usado o metodo de localização desses dados na variavel df_terminais! '''"
   ]
  },
  {
   "cell_type": "code",
   "execution_count": 7,
   "id": "2d5be634",
   "metadata": {
    "scrolled": true
   },
   "outputs": [
    {
     "data": {
      "text/plain": [
       "' PARA PARADAS EM BRT´S NÃO SE TEM O NOME DAS ESTACOES AO LONGO DAS LINHAS!'"
      ]
     },
     "execution_count": 7,
     "metadata": {},
     "output_type": "execute_result"
    }
   ],
   "source": [
    "''' PARA PARADAS EM BRT´S NÃO SE TEM O NOME DAS ESTACOES AO LONGO DAS LINHAS!'''"
   ]
  },
  {
   "cell_type": "markdown",
   "id": "40214ab6",
   "metadata": {},
   "source": [
    "# 2.0 Junção da bilhetagem com o dicionário\n",
    "''' Será adicionado o id_veiculo do dicionario, somente para se ter uma noção qual a identificação do veiculo '''"
   ]
  },
  {
   "cell_type": "code",
   "execution_count": null,
   "id": "954423cc",
   "metadata": {},
   "outputs": [],
   "source": [
    "# Garantindo uso de validações que possuem relação no GPS\n",
    "mes_gps = mes_tudo[~mes_tudo['prefixo_carro'].isin(dados_apenas_em_mes_['prefixo_carro'])]"
   ]
  },
  {
   "cell_type": "code",
   "execution_count": null,
   "id": "9160a394",
   "metadata": {},
   "outputs": [],
   "source": [
    "# Acrescentando dicionário\n",
    "mes_d1 = mes_gps.merge(d01, left_on= 'prefixo_carro', right_on='cod_veiculo')"
   ]
  },
  {
   "cell_type": "code",
   "execution_count": null,
   "id": "ba0de5ff",
   "metadata": {},
   "outputs": [],
   "source": [
    "# mes_d1.isnull().sum()"
   ]
  },
  {
   "cell_type": "code",
   "execution_count": null,
   "id": "64d86cfe",
   "metadata": {},
   "outputs": [],
   "source": [
    "# Base da Bilhetagem adicionado o dicionario\n",
    "mes_d1"
   ]
  },
  {
   "cell_type": "code",
   "execution_count": null,
   "id": "be3e33ef",
   "metadata": {},
   "outputs": [],
   "source": [
    "mes_d1.info()"
   ]
  },
  {
   "cell_type": "code",
   "execution_count": null,
   "id": "0ce9467f",
   "metadata": {},
   "outputs": [],
   "source": [
    "# Criando df somente colunas necessátrias para a integração no tópico 03!\n",
    "mes_geo = mes_d1.sort_values('momento')"
   ]
  },
  {
   "cell_type": "code",
   "execution_count": null,
   "id": "742bdca3",
   "metadata": {},
   "outputs": [],
   "source": [
    "del mes_d1"
   ]
  },
  {
   "cell_type": "code",
   "execution_count": null,
   "id": "6a7dfa1b",
   "metadata": {},
   "outputs": [],
   "source": [
    "# Reiniciando a contagem dos index\n",
    "mes_geo.reset_index(inplace=True)"
   ]
  },
  {
   "cell_type": "code",
   "execution_count": null,
   "id": "5f9d6992",
   "metadata": {},
   "outputs": [],
   "source": [
    "# REMOVENDO COLUNA DESNECESSÁRIA!\n",
    "mes_georr = mes_geo.drop(['index', 'cod_veiculo'], axis=1)"
   ]
  },
  {
   "cell_type": "code",
   "execution_count": null,
   "id": "92104af9",
   "metadata": {},
   "outputs": [],
   "source": [
    "mes_georr['id_veiculo'] = mes_georr['id_veiculo'].astype('int32')"
   ]
  },
  {
   "cell_type": "code",
   "execution_count": null,
   "id": "06d050ab",
   "metadata": {},
   "outputs": [],
   "source": [
    "mes_georr.info()"
   ]
  },
  {
   "cell_type": "code",
   "execution_count": null,
   "id": "7dabac5a",
   "metadata": {},
   "outputs": [],
   "source": [
    "del mes_geo"
   ]
  },
  {
   "cell_type": "markdown",
   "id": "f11b85d5",
   "metadata": {},
   "source": [
    "# 3.0 Integração da coordenada aproxima na bilhetagem"
   ]
  },
  {
   "cell_type": "markdown",
   "id": "b38df24b",
   "metadata": {},
   "source": [
    "## 3.1 Coordenada aproximada dos terminais na bilhetagem"
   ]
  },
  {
   "cell_type": "markdown",
   "id": "5b40930f",
   "metadata": {},
   "source": [
    "### 3.1.1 Importando dados no formato GTFS"
   ]
  },
  {
   "cell_type": "code",
   "execution_count": null,
   "id": "d45bb3cb",
   "metadata": {},
   "outputs": [],
   "source": [
    "# Reatribuindo variavel com dados de validações em terminais\n",
    "df_terminais_validacoes = df_terminais"
   ]
  },
  {
   "cell_type": "code",
   "execution_count": null,
   "id": "13a853d2",
   "metadata": {},
   "outputs": [],
   "source": [
    "del df_terminais"
   ]
  },
  {
   "cell_type": "code",
   "execution_count": null,
   "id": "b3ea809d",
   "metadata": {},
   "outputs": [],
   "source": [
    "df_terminais_validacoes.reset_index(inplace=True)"
   ]
  },
  {
   "cell_type": "code",
   "execution_count": null,
   "id": "a38f2c7d",
   "metadata": {},
   "outputs": [],
   "source": [
    "df_terminais_validacoes.drop(['index'], inplace=True, axis=1)"
   ]
  },
  {
   "cell_type": "code",
   "execution_count": null,
   "id": "bbd438eb",
   "metadata": {},
   "outputs": [],
   "source": [
    "# BASE COM VALIDAÇÕES FEITAS NOS TERMINAIS \n",
    "df_terminais_validacoes"
   ]
  },
  {
   "cell_type": "code",
   "execution_count": null,
   "id": "e93b105e",
   "metadata": {},
   "outputs": [],
   "source": [
    "df_terminais_validacoes['nome_linha'].unique()"
   ]
  },
  {
   "cell_type": "code",
   "execution_count": null,
   "id": "769f6df2",
   "metadata": {
    "scrolled": true
   },
   "outputs": [],
   "source": [
    "# Importando base com locais previstos de parada\n",
    "stops_paradas = pd.read_csv('stops.txt', sep= ',')"
   ]
  },
  {
   "cell_type": "code",
   "execution_count": null,
   "id": "9ea34925",
   "metadata": {},
   "outputs": [],
   "source": [
    "# Removendo colunas desnecessárias do df com paradas \n",
    "stops_paradas.drop(columns= ['stop_code', 'stop_desc', 'zone_id', 'stop_url', 'location_type', 'parent_station', 'stop_timezone', 'wheelchair_boarding'], inplace=True)"
   ]
  },
  {
   "cell_type": "code",
   "execution_count": null,
   "id": "6d5b0185",
   "metadata": {},
   "outputs": [],
   "source": [
    "stops_paradas"
   ]
  },
  {
   "cell_type": "code",
   "execution_count": 8,
   "id": "3260181e",
   "metadata": {},
   "outputs": [
    {
     "data": {
      "text/plain": [
       "' POR INSPEÇÃO FOI VERIFICADO QUE A LOCALIZAÇÃO PARA VALIDAÇÃO EM TERMINAIS SÃO NOMEADOS COMO PREÇAS_Nomedoterminal'"
      ]
     },
     "execution_count": 8,
     "metadata": {},
     "output_type": "execute_result"
    }
   ],
   "source": [
    "''' POR INSPEÇÃO FOI VERIFICADO QUE A LOCALIZAÇÃO PARA VALIDAÇÃO EM TERMINAIS SÃO NOMEADOS COMO PREÇAS_Nomedoterminal'''"
   ]
  },
  {
   "cell_type": "code",
   "execution_count": null,
   "id": "d44e0eae",
   "metadata": {},
   "outputs": [],
   "source": [
    "# FILTRANDO LOCAIS DAS PRAÇAS NOS TERMINAIS QUE POSSUEM A LOCCALIZAÇÃO\n",
    "terminais_geometry_ = stops_paradas[stops_paradas['stop_name'].str.contains('TERM')]"
   ]
  },
  {
   "cell_type": "code",
   "execution_count": null,
   "id": "95c3f1be",
   "metadata": {},
   "outputs": [],
   "source": [
    "# Reiniciando a contagem do indice \n",
    "terminais_geometry_.reset_index(inplace=True)"
   ]
  },
  {
   "cell_type": "code",
   "execution_count": null,
   "id": "ce11e346",
   "metadata": {},
   "outputs": [],
   "source": [
    "terminais_geometry = terminais_geometry_.drop_duplicates(subset=['stop_name'])"
   ]
  },
  {
   "cell_type": "code",
   "execution_count": null,
   "id": "5bd6c015",
   "metadata": {},
   "outputs": [],
   "source": [
    "# Dropando coluna desnecessaria\n",
    "terminais_geometry.drop(columns=['stop_id'], inplace=True)\n",
    "terminais_geometry.drop(2, inplace= True)"
   ]
  },
  {
   "cell_type": "code",
   "execution_count": null,
   "id": "2f18e165",
   "metadata": {},
   "outputs": [],
   "source": [
    "terminais_geometry.rename(columns={'stop_lat': 'latitude', 'stop_lon': 'longitude'}, inplace=True)"
   ]
  },
  {
   "cell_type": "code",
   "execution_count": null,
   "id": "60a8f2f0",
   "metadata": {},
   "outputs": [],
   "source": [
    "# Adequando nomes dos terminais para mesclagem\n",
    "nome_procurado_1 = 'PRAÇA TERMINAL PARANGABA, SN' \n",
    "nome_procurado_2 = 'PRAÇA TERMINAL PAPICU, SN' \n",
    "nome_procurado_3 = 'PRAÇA TERMINAL MESSEJANA, SN' \n",
    "nome_procurado_4 = 'PRAÇA TERMINAL SIQUEIRA, SN' \n",
    "nome_procurado_5 = 'PRAÇA TERMINAL CONJUNTO CEARÁ, SN' \n",
    "nome_procurado_6 = 'PRAÇA TERMINAL LAGOA, SN' \n",
    "nome_procurado_7 = 'PRAÇA TERMINAL ANTONIO BEZERRA, SN'\n",
    "\n",
    "# Localizando a linha com base no nome e, em seguida, atualizando os valores desejados\n",
    "terminais_geometry.loc[terminais_geometry['stop_name'] == nome_procurado_1, 'stop_name'] = 'TERMINAL PARANGABA' \n",
    "terminais_geometry.loc[terminais_geometry['stop_name'] == nome_procurado_2, 'stop_name'] = 'TERMINAL PAPICU' \n",
    "terminais_geometry.loc[terminais_geometry['stop_name'] == nome_procurado_3, 'stop_name'] = 'TERMINAL MESSEJANA' \n",
    "terminais_geometry.loc[terminais_geometry['stop_name'] == nome_procurado_4, 'stop_name'] = 'TERMINAL SIQUEIRA'  \n",
    "terminais_geometry.loc[terminais_geometry['stop_name'] == nome_procurado_5, 'stop_name'] = 'TERMINAL CEARA'  \n",
    "terminais_geometry.loc[terminais_geometry['stop_name'] == nome_procurado_6, 'stop_name'] = 'TERMINAL LAGOA' \n",
    "terminais_geometry.loc[terminais_geometry['stop_name'] == nome_procurado_7, 'stop_name'] = 'TERM.ANT.BEZERRA' "
   ]
  },
  {
   "cell_type": "code",
   "execution_count": null,
   "id": "01159fc0",
   "metadata": {},
   "outputs": [],
   "source": [
    "terminais_geometry.drop(columns=['index'], inplace=True)"
   ]
  },
  {
   "cell_type": "code",
   "execution_count": null,
   "id": "71759fa3",
   "metadata": {},
   "outputs": [],
   "source": [
    "# BASE COM LOCALIZAÇÃO DOS TERMINAIS \n",
    "terminais_geometry"
   ]
  },
  {
   "cell_type": "markdown",
   "id": "1362c45c",
   "metadata": {},
   "source": [
    "### 3.1.2 Adicioando localização nas validações dos terminais \n",
    "''' Com a localização dos terminais ja determindas, é possivel adiconar essa informações nas validações da bilhetagem nesses locais '''"
   ]
  },
  {
   "cell_type": "code",
   "execution_count": null,
   "id": "69eb93ec",
   "metadata": {},
   "outputs": [],
   "source": [
    "# MESCLANDO PELO NOME DA LINHA DA BILHETEGEM E O NOME DA PARADA CORRESPONDENTE AS SUAS RESPECTIVAS LINHAS \n",
    "mes_terminais_geometry = df_terminais_validacoes.merge(terminais_geometry, left_on= 'nome_linha', right_on='stop_name')"
   ]
  },
  {
   "cell_type": "code",
   "execution_count": null,
   "id": "7067b211",
   "metadata": {},
   "outputs": [],
   "source": [
    "# Reiniciando a contagem do indice e dropando index\n",
    "mes_terminais_geometry.reset_index(inplace=True)\n",
    "mes_terminais_geometry.drop(columns=['index', 'stop_name'], inplace=True)"
   ]
  },
  {
   "cell_type": "code",
   "execution_count": null,
   "id": "d9453b7a",
   "metadata": {},
   "outputs": [],
   "source": [
    "# CRIANDO COLUNA ID_LINHA E COD_VEICULO PARA COLOCAR DADOS DE VALIDAÇÕES LOCALIZADOS EM UMA UNICA BASE!\n",
    "mes_terminais_geometry['id_veiculo'] = 'validacao_terminal'\n",
    "mes_terminais_geometry['cod_veiculo'] = 'validacao_terminal'"
   ]
  },
  {
   "cell_type": "code",
   "execution_count": null,
   "id": "1f2ac8b9",
   "metadata": {},
   "outputs": [],
   "source": [
    "# Reordenando colunas \n",
    "dados_terminais_geo = mes_terminais_geometry[['id', 'linha', 'nome_linha', 'prefixo_carro', 'nome_cartao', 'momento', 'id_veiculo', 'cod_veiculo', 'latitude', 'longitude']]"
   ]
  },
  {
   "cell_type": "code",
   "execution_count": null,
   "id": "45c047f5",
   "metadata": {},
   "outputs": [],
   "source": [
    "del mes_terminais_geometry"
   ]
  },
  {
   "cell_type": "code",
   "execution_count": null,
   "id": "2eada1c3",
   "metadata": {},
   "outputs": [],
   "source": [
    "# Base com dados da bilhetagem localizada em terminais\n",
    "dados_terminais_geo"
   ]
  },
  {
   "cell_type": "markdown",
   "id": "d73d25a0",
   "metadata": {},
   "source": [
    "## 3.2 Coordenada das demais (algumas de BRT´s e outras validações na bilhetagem)\n",
    "''' O pressuposto inicial é que as validações que não possuem um id de identifcação dos veiculos correspondentes no GPS (pelo dicionario) são aquelas que os usuarios validaram no terminais, algumas podem ser de estações de BRT e de casos em que simplismente para os USUARIOS EM QUE A IDENTIFCAÇÃO DO VEICULOS NÃO POSSUI UM CORRESPONDENTE NO GPS, DEVIDO A FALTA DE UMA ASSOCIAÇÃO NO DICIONARIO, como ja foi abordado a localização das validações em terminais, basta realizar uma abordagem com as demais! ''' "
   ]
  },
  {
   "cell_type": "code",
   "execution_count": null,
   "id": "9fd4ead1",
   "metadata": {},
   "outputs": [],
   "source": [
    "''' Será mantida a logica mas os dados da bilhetagem que não são de terminiais serão associados com o local mais proximo da programação '''"
   ]
  },
  {
   "cell_type": "markdown",
   "id": "5d1ec9cc",
   "metadata": {},
   "source": [
    "### 3.2.1 Identificando outras validações (possivel estação BRT´s e nos demais casos)\n",
    "''' Identifcação das validações em possiveis estaçoes de BRT e nos demais casos que não possuiam um veiculo correspondente no GPS'''"
   ]
  },
  {
   "cell_type": "markdown",
   "id": "ddd30ea2",
   "metadata": {},
   "source": [
    "### 3.2.1.2 Identificando validações não associadas e não terminiais \n",
    "''' Identificando os dados que não possuem associação com dicionario e não são em terminiais! '''"
   ]
  },
  {
   "cell_type": "code",
   "execution_count": null,
   "id": "6833dd1f",
   "metadata": {
    "scrolled": true
   },
   "outputs": [],
   "source": [
    "# Reatribuindo variavel com dados que estão na bilhetagem, mas não estão no dicionário e consequentemente não estão no GPS\n",
    "dados_apenas_em_mes = dados_apenas_em_mes_"
   ]
  },
  {
   "cell_type": "code",
   "execution_count": null,
   "id": "1fbc8413",
   "metadata": {},
   "outputs": [],
   "source": [
    "del dados_apenas_em_mes_"
   ]
  },
  {
   "cell_type": "code",
   "execution_count": 10,
   "id": "b251761a",
   "metadata": {},
   "outputs": [
    {
     "data": {
      "text/plain": [
       "' Foi utilizado a base \"mes\" pois ela tinha a coluna como numerica para comparação '"
      ]
     },
     "execution_count": 10,
     "metadata": {},
     "output_type": "execute_result"
    }
   ],
   "source": [
    "''' Foi utilizado a base \"mes\" pois ela tinha a coluna como numerica para comparação '''"
   ]
  },
  {
   "cell_type": "code",
   "execution_count": null,
   "id": "679d25ab",
   "metadata": {
    "scrolled": false
   },
   "outputs": [],
   "source": [
    "# Base com dados de validaçoes em terminais e em BRT\n",
    "dados_apenas_em_mes"
   ]
  },
  {
   "cell_type": "code",
   "execution_count": null,
   "id": "f80b2751",
   "metadata": {},
   "outputs": [],
   "source": [
    "# Dropando dados de terminais pois eles ja foram filtrados em uma base propria (OBS: O NOME SERÁ DADOS_BRT, MAS NÃO NECESSPARIAMENTE SÃO TODOS DE BRT´S!), MA\n",
    "dados_brt_e_outros_ = dados_apenas_em_mes[~dados_apenas_em_mes['nome_linha'].str.contains('TERMINAL', case=False)]\n",
    "dados_brt_e_outros = dados_brt_e_outros_[~dados_brt_e_outros_['nome_linha'].str.contains('TERM.ANT', case=False)]"
   ]
  },
  {
   "cell_type": "code",
   "execution_count": null,
   "id": "0bd11439",
   "metadata": {},
   "outputs": [],
   "source": [
    "dados_brt_e_outros.reset_index(inplace=True)\n",
    "dados_brt_e_outros.drop(columns=['index'], inplace=True)"
   ]
  },
  {
   "cell_type": "code",
   "execution_count": null,
   "id": "ab70d191",
   "metadata": {},
   "outputs": [],
   "source": [
    "dados_brt_e_outros['id_veiculo'] = \"sem_associacao\""
   ]
  },
  {
   "cell_type": "code",
   "execution_count": null,
   "id": "1a6b14f2",
   "metadata": {
    "scrolled": false
   },
   "outputs": [],
   "source": [
    "# BASE COM DADOS DE VALIDAÇÕES SOMENTE PRESENTES NA BILHETAGEM E FORA DOS TERMINAIS (veiculos sem identifcação no dicionario)\n",
    "dados_brt_e_outros"
   ]
  },
  {
   "cell_type": "code",
   "execution_count": null,
   "id": "ca6757c5",
   "metadata": {},
   "outputs": [],
   "source": [
    "# Dados das linhas existentes \n",
    "dados_brt_e_outros['linha'].unique()"
   ]
  },
  {
   "cell_type": "code",
   "execution_count": 9,
   "id": "040176ec",
   "metadata": {
    "scrolled": true
   },
   "outputs": [
    {
     "data": {
      "text/plain": [
       "'OU SEJA, EXISTEM VALIDAÇÕES DE DIVERSAS LINHAS QUE NÃO TEM UM VEICULO CORRESPONDENTE NO GPS E NÃO SÃO VALIDAÇÕES EM TERMINAIS'"
      ]
     },
     "execution_count": 9,
     "metadata": {},
     "output_type": "execute_result"
    }
   ],
   "source": [
    "'''OU SEJA, EXISTEM VALIDAÇÕES DE DIVERSAS LINHAS QUE NÃO TEM UM VEICULO CORRESPONDENTE NO GPS E NÃO SÃO VALIDAÇÕES EM TERMINAIS'''"
   ]
  },
  {
   "cell_type": "markdown",
   "id": "c3eef362",
   "metadata": {},
   "source": [
    "### 3.2.2 Mesclando dados não associados e demais\n",
    "''' O objetivo da associação ocom dicionario era somente separar os dados que não possuem associação, identifica-los e encontrar as validações em terminiis  '''"
   ]
  },
  {
   "cell_type": "code",
   "execution_count": null,
   "id": "667ccb2f",
   "metadata": {},
   "outputs": [],
   "source": [
    "dados_concatenados = pd.concat([mes_georr, dados_brt_e_outros])"
   ]
  },
  {
   "cell_type": "code",
   "execution_count": null,
   "id": "bc615a21",
   "metadata": {},
   "outputs": [],
   "source": [
    "dados_concatenados"
   ]
  },
  {
   "cell_type": "code",
   "execution_count": null,
   "id": "09a1abbc",
   "metadata": {},
   "outputs": [],
   "source": [
    "dados_concatenados.isnull().sum()"
   ]
  },
  {
   "cell_type": "markdown",
   "id": "917e4b6e",
   "metadata": {},
   "source": [
    "### 3.2.3 Associação com o horario programado para localizar as validações em BRT´s e as demais\n",
    "''' Dados de GTFS, possuem dados de localização das paradas e da viagens programdas, assim é possivem associar para uma mesma linha, e pelo horario mais proximo da validação com o programado de passagem para identificação do possivel local de validação '''"
   ]
  },
  {
   "cell_type": "code",
   "execution_count": null,
   "id": "a2d1c25f",
   "metadata": {},
   "outputs": [],
   "source": [
    "# Printando novamente dados com locias das paradas\n",
    "stops_paradas"
   ]
  },
  {
   "cell_type": "code",
   "execution_count": null,
   "id": "bfaac04a",
   "metadata": {},
   "outputs": [],
   "source": [
    "# Importando base com horarios previstos de parada  \n",
    "stop_times = pd.read_csv('stop_times.txt', sep= ',')\n",
    "\n",
    "# Importando dados com viagens programadas de cada linha \n",
    "trips = pd.read_csv('trips.txt', sep=\",\")"
   ]
  },
  {
   "cell_type": "code",
   "execution_count": null,
   "id": "74570097",
   "metadata": {},
   "outputs": [],
   "source": [
    "# Removendo colunas desnecessárias do df com paradas \n",
    "stop_times.drop(columns= ['stop_headsign', 'pickup_type', 'drop_off_type', 'shape_dist_traveled'], inplace=True)"
   ]
  },
  {
   "cell_type": "code",
   "execution_count": null,
   "id": "6504a79c",
   "metadata": {},
   "outputs": [],
   "source": [
    "stop_times"
   ]
  },
  {
   "cell_type": "code",
   "execution_count": null,
   "id": "25ba79bb",
   "metadata": {},
   "outputs": [],
   "source": [
    "# Acrescetando dados das paradas pela mesmo stop_id no df de tempos previstos de passagem\n",
    "merge_pardas_time = pd.merge(stop_times, stops_paradas, left_on='stop_id', right_on='stop_id')"
   ]
  },
  {
   "cell_type": "code",
   "execution_count": null,
   "id": "c9824fe9",
   "metadata": {},
   "outputs": [],
   "source": [
    "merge_pardas_time"
   ]
  },
  {
   "cell_type": "code",
   "execution_count": null,
   "id": "57f54f1d",
   "metadata": {},
   "outputs": [],
   "source": [
    "# Removendo informações desnecessárias do df de dados das viagens\n",
    "trips_tratado = trips.drop(columns=['service_id', 'trip_headsign', 'trip_short_name', 'direction_id', 'block_id', 'wheelchair_accessible'])"
   ]
  },
  {
   "cell_type": "code",
   "execution_count": null,
   "id": "7b40bb85",
   "metadata": {},
   "outputs": [],
   "source": [
    "trips_tratado"
   ]
  },
  {
   "cell_type": "code",
   "execution_count": null,
   "id": "fb71eeb6",
   "metadata": {},
   "outputs": [],
   "source": [
    "# MESCLANDO BASE COM INFORMAÇÕES DAS PARADAS E TEMPOS DE PASSAGENS COM OS DADSO DAS VIAGENS PROGRAMADAS E AS RESPECTIVAS LINHAS\n",
    "merge_pardas_time_trips = pd.merge(merge_pardas_time, trips_tratado, left_on='trip_id', right_on='trip_id')"
   ]
  },
  {
   "cell_type": "code",
   "execution_count": null,
   "id": "56f188dc",
   "metadata": {},
   "outputs": [],
   "source": [
    "merge_pardas_time_trips"
   ]
  },
  {
   "cell_type": "code",
   "execution_count": 11,
   "id": "44a3da66",
   "metadata": {},
   "outputs": [
    {
     "data": {
      "text/plain": [
       "' Por inspeção vimos que possuem horarios de chegada superiores a 24 hs, segue na variavel horario_test'"
      ]
     },
     "execution_count": 11,
     "metadata": {},
     "output_type": "execute_result"
    }
   ],
   "source": [
    "''' Por inspeção vimos que possuem horarios de chegada superiores a 24 hs, segue na variavel horario_test'''"
   ]
  },
  {
   "cell_type": "code",
   "execution_count": null,
   "id": "0a84266f",
   "metadata": {},
   "outputs": [],
   "source": [
    "# Verificando dados de tempo maiores que 24 (inspessão)\n",
    "horario_test = merge_pardas_time_trips[merge_pardas_time_trips.arrival_time>='24:00:00' ]"
   ]
  },
  {
   "cell_type": "code",
   "execution_count": null,
   "id": "e945a24a",
   "metadata": {},
   "outputs": [],
   "source": [
    "horario_test"
   ]
  },
  {
   "cell_type": "code",
   "execution_count": null,
   "id": "a850a8da",
   "metadata": {},
   "outputs": [],
   "source": [
    "''' Esses dados são referentes as horarios de 24=00 hs e 25=01hs, foi adotado a substituição de 24 por 00 e 25 por 01 '''"
   ]
  },
  {
   "cell_type": "code",
   "execution_count": null,
   "id": "55a8d47b",
   "metadata": {},
   "outputs": [],
   "source": [
    "# transformanmdo dados de horas para string\n",
    "merge_pardas_time_trips['arrival_time'] = merge_pardas_time_trips['arrival_time'].astype(str)"
   ]
  },
  {
   "cell_type": "code",
   "execution_count": null,
   "id": "b0f15eec",
   "metadata": {},
   "outputs": [],
   "source": [
    "# Função para substituição\n",
    "def substituir_hora_24(hora):\n",
    "    return hora.replace(\"24\", \"00\")\n",
    "def substituir_hora_25(hora):\n",
    "    return hora.replace(\"25\", \"01\")"
   ]
  },
  {
   "cell_type": "code",
   "execution_count": null,
   "id": "6a9dfcb8",
   "metadata": {},
   "outputs": [],
   "source": [
    "# Aplicando função para 24\n",
    "merge_pardas_time_trips['arrival_time'] = merge_pardas_time_trips['arrival_time'].apply(substituir_hora_24)\n",
    "\n",
    "# Aplicando função para 25\n",
    "merge_pardas_time_trips['arrival_time'] = merge_pardas_time_trips['arrival_time'].apply(substituir_hora_25)"
   ]
  },
  {
   "cell_type": "code",
   "execution_count": null,
   "id": "70c12f6b",
   "metadata": {},
   "outputs": [],
   "source": [
    "# Transformando coluna de chegada programada do veiculo em tipo data\n",
    "merge_pardas_time_trips['momento_chegada'] = pd.to_datetime(merge_pardas_time_trips['arrival_time'], format='%H:%M:%S')"
   ]
  },
  {
   "cell_type": "code",
   "execution_count": 12,
   "id": "f29f97dc",
   "metadata": {},
   "outputs": [
    {
     "data": {
      "text/plain": [
       "' 1900-01-01 é uma data generica! '"
      ]
     },
     "execution_count": 12,
     "metadata": {},
     "output_type": "execute_result"
    }
   ],
   "source": [
    "''' 1900-01-01 é uma data generica! '''"
   ]
  },
  {
   "cell_type": "code",
   "execution_count": null,
   "id": "cb841c14",
   "metadata": {},
   "outputs": [],
   "source": [
    "# Criando coluna de linha (coluna route_id tem essas informações das linhas!)\n",
    "merge_pardas_time_trips['linha'] = merge_pardas_time_trips['route_id'].astype('int32')"
   ]
  },
  {
   "cell_type": "code",
   "execution_count": null,
   "id": "2d92b77b",
   "metadata": {},
   "outputs": [],
   "source": [
    "# Removedno colunas desnecessarias\n",
    "merge_pardas_time_trips.drop(columns=['trip_id', 'arrival_time', 'departure_time', 'stop_id', 'stop_sequence', 'route_id', 'shape_id'], inplace=True)"
   ]
  },
  {
   "cell_type": "code",
   "execution_count": null,
   "id": "1e334c11",
   "metadata": {},
   "outputs": [],
   "source": [
    "# Base com linhas e os tempos programados de passagem\n",
    "merge_pardas_time_trips"
   ]
  },
  {
   "cell_type": "code",
   "execution_count": null,
   "id": "15ef0420",
   "metadata": {},
   "outputs": [],
   "source": [
    "merge_pardas_time_trips.isnull().sum()"
   ]
  },
  {
   "cell_type": "code",
   "execution_count": 13,
   "id": "3e17dc16",
   "metadata": {},
   "outputs": [
    {
     "data": {
      "text/plain": [
       "' ou seja, existem momentos nulos programados, iremos dropar esses valores!'"
      ]
     },
     "execution_count": 13,
     "metadata": {},
     "output_type": "execute_result"
    }
   ],
   "source": [
    "''' ou seja, existem momentos nulos programados, iremos dropar esses valores!'''"
   ]
  },
  {
   "cell_type": "code",
   "execution_count": null,
   "id": "a0263a4f",
   "metadata": {},
   "outputs": [],
   "source": [
    "merge_pardas_time_trips.dropna(subset=['momento_chegada'], inplace=True)"
   ]
  },
  {
   "cell_type": "code",
   "execution_count": null,
   "id": "ed338c67",
   "metadata": {},
   "outputs": [],
   "source": [
    "# colocando df em ordem pelo momento programado de chegada\n",
    "merge_pardas_time_trips.sort_values('momento_chegada', inplace=True)"
   ]
  },
  {
   "cell_type": "code",
   "execution_count": 14,
   "id": "9c94fe27",
   "metadata": {
    "scrolled": true
   },
   "outputs": [
    {
     "data": {
      "text/plain": [
       "' COM BASE CONTENDO HORARIO PROGRAMADO DE CHEGADA PARA CADA LINHA, É POSSIVEL ASSOCIAR O HORARIO PROGRAMADA MAIS PROXIMO DO HORARIO DE VALIDAÇÃO '"
      ]
     },
     "execution_count": 14,
     "metadata": {},
     "output_type": "execute_result"
    }
   ],
   "source": [
    "''' COM BASE CONTENDO HORARIO PROGRAMADO DE CHEGADA PARA CADA LINHA, É POSSIVEL ASSOCIAR O HORARIO PROGRAMADA MAIS PROXIMO DO HORARIO DE VALIDAÇÃO '''"
   ]
  },
  {
   "cell_type": "code",
   "execution_count": null,
   "id": "2ea54f1e",
   "metadata": {},
   "outputs": [],
   "source": [
    "# Base dos dados de brt e demais validação sem um veiculo identificado no GPS\n",
    "dados_concatenados"
   ]
  },
  {
   "cell_type": "code",
   "execution_count": null,
   "id": "8aea6a41",
   "metadata": {},
   "outputs": [],
   "source": [
    "# Criando coluna com dados de horario, minuto e segundos de validação \n",
    "dados_concatenados['momento_validacao_curto'] = dados_concatenados['momento'].dt.strftime('%H:%M:%S')"
   ]
  },
  {
   "cell_type": "code",
   "execution_count": null,
   "id": "36f0d43a",
   "metadata": {},
   "outputs": [],
   "source": [
    "# Transformando coluna de hoario de validação em tipo data\n",
    "dados_concatenados['momento_validacao_curto'] = pd.to_datetime(dados_concatenados['momento_validacao_curto'], format='%H:%M:%S')"
   ]
  },
  {
   "cell_type": "code",
   "execution_count": null,
   "id": "3909c514",
   "metadata": {
    "scrolled": false
   },
   "outputs": [],
   "source": [
    "dados_concatenados # NOVAMENTE 1900-01-01 é uma data generica!"
   ]
  },
  {
   "cell_type": "code",
   "execution_count": null,
   "id": "4fbeeae2",
   "metadata": {},
   "outputs": [],
   "source": [
    "dados_concatenados.info()"
   ]
  },
  {
   "cell_type": "code",
   "execution_count": null,
   "id": "33cac0b4",
   "metadata": {},
   "outputs": [],
   "source": [
    "dados_concatenados['linha'] = dados_concatenados['linha'].astype('int32')"
   ]
  },
  {
   "cell_type": "code",
   "execution_count": null,
   "id": "00d7bbfd",
   "metadata": {},
   "outputs": [],
   "source": [
    "# colocando df em ordem pelo momento de validação \n",
    "dados_concatenados.sort_values('momento_validacao_curto', inplace=True)"
   ]
  },
  {
   "cell_type": "code",
   "execution_count": null,
   "id": "06553144",
   "metadata": {},
   "outputs": [],
   "source": [
    "dados_concatenados.isnull().sum()"
   ]
  },
  {
   "cell_type": "code",
   "execution_count": null,
   "id": "d48306a3",
   "metadata": {
    "scrolled": true
   },
   "outputs": [],
   "source": [
    "# REALIZANDO OPERAÇÃO DE MESCLAGEM PARA LOCALIZAR PELO TEMPO MAIS PROXIMO DE PASSAGEM COM O DE VALIDAÇÃO \n",
    "dados_brt_geo_e_outros_ = pd.merge_asof(dados_concatenados, merge_pardas_time_trips, left_on='momento_validacao_curto', right_on='momento_chegada', by='linha', direction ='nearest')"
   ]
  },
  {
   "cell_type": "code",
   "execution_count": null,
   "id": "6e68b435",
   "metadata": {
    "scrolled": true
   },
   "outputs": [],
   "source": [
    "# Dropando colunas denecessárias\n",
    "dados_brt_geo_e_outros_.drop(columns=['momento_validacao_curto', 'momento_chegada'], inplace=True)"
   ]
  },
  {
   "cell_type": "code",
   "execution_count": null,
   "id": "f0714a91",
   "metadata": {
    "scrolled": true
   },
   "outputs": [],
   "source": [
    "# Criando colun id_veiculo e cod_veiculo para mesclagem das bases\n",
    "# dados_brt_geo_e_outros_['id_veiculo'] = 'validacao_brt_outros'\n",
    "# dados_brt_geo_e_outros_['cod_veiculo'] = 'validacao_brt_outros'"
   ]
  },
  {
   "cell_type": "code",
   "execution_count": null,
   "id": "3e9983f5",
   "metadata": {},
   "outputs": [],
   "source": [
    "dados_brt_geo_e_outros_.rename(columns={'stop_lat': 'latitude', 'stop_lon': 'longitude'}, inplace=True)"
   ]
  },
  {
   "cell_type": "code",
   "execution_count": null,
   "id": "7b5f3132",
   "metadata": {},
   "outputs": [],
   "source": [
    "# Reordenando colunas \n",
    "# dados_brt_geo_e_outros = dados_brt_geo_e_outros_[['id', 'linha', 'nome_linha', 'prefixo_carro', 'nome_cartao', 'sentido_viagem','momento', 'id_veiculo', 'cod_veiculo', 'latitude', 'longitude']]"
   ]
  },
  {
   "cell_type": "code",
   "execution_count": null,
   "id": "2cba72cf",
   "metadata": {},
   "outputs": [],
   "source": [
    "# del dados_brt_geo_e_outros_ "
   ]
  },
  {
   "cell_type": "code",
   "execution_count": null,
   "id": "7543ed65",
   "metadata": {
    "scrolled": false
   },
   "outputs": [],
   "source": [
    "# BASE LOCALIZADA COM VALIDAÇÕES EM ESTAÇÕES DE BRT E EM CASOS QUE NÃO SE TEM UM VEICULO CORRESPONDENTE NO GPS\n",
    "dados_brt_geo_e_outros_"
   ]
  },
  {
   "cell_type": "code",
   "execution_count": null,
   "id": "7cc1dc12",
   "metadata": {},
   "outputs": [],
   "source": [
    "dados_brt_geo_e_outros_['linha'].unique()"
   ]
  },
  {
   "cell_type": "code",
   "execution_count": null,
   "id": "66940759",
   "metadata": {},
   "outputs": [],
   "source": [
    "dados_brt_geo_e_outros_.info()"
   ]
  },
  {
   "cell_type": "markdown",
   "id": "6055d5b1",
   "metadata": {},
   "source": [
    "### 3.2.3.1 Inspeção localização linhas especificas"
   ]
  },
  {
   "cell_type": "code",
   "execution_count": null,
   "id": "eaf23f91",
   "metadata": {},
   "outputs": [],
   "source": [
    "linha_geo_horario = dados_brt_geo_e_outros_[(dados_brt_geo_e_outros_.momento>'2018-11-01 06:00:00') &\n",
    "                        (dados_brt_geo_e_outros_.momento<='2018-11-01 07:00:00')]\n",
    "''' FILTRANDO HORARIO DE INTERESSE! '''"
   ]
  },
  {
   "cell_type": "code",
   "execution_count": null,
   "id": "b58094d3",
   "metadata": {},
   "outputs": [],
   "source": [
    "linha_geo_horario"
   ]
  },
  {
   "cell_type": "code",
   "execution_count": null,
   "id": "435ff8d4",
   "metadata": {},
   "outputs": [],
   "source": [
    "linha_geo = linha_geo_horario[linha_geo_horario.linha==75]"
   ]
  },
  {
   "cell_type": "code",
   "execution_count": null,
   "id": "d2c3d0d9",
   "metadata": {},
   "outputs": [],
   "source": [
    "linha_geo"
   ]
  },
  {
   "cell_type": "code",
   "execution_count": null,
   "id": "c5f1c433",
   "metadata": {},
   "outputs": [],
   "source": [
    "linha_geo['prefixo_carro'].unique()"
   ]
  },
  {
   "cell_type": "code",
   "execution_count": null,
   "id": "db7d00df",
   "metadata": {},
   "outputs": [],
   "source": [
    "linha_geo['prefixo_carro'].value_counts()"
   ]
  },
  {
   "cell_type": "code",
   "execution_count": null,
   "id": "0db9390c",
   "metadata": {
    "scrolled": false
   },
   "outputs": [],
   "source": [
    "lat_2 = linha_geo['latitude'].mean()\n",
    "lon_2 = linha_geo['longitude'].mean()\n",
    "\n",
    "# Criando um mapa centrado em FORTALEZA\n",
    "import folium\n",
    "from folium.plugins import MarkerCluster\n",
    "\n",
    "mapa = folium.Map(location=[lat_2, lon_2], zoom_start=5)\n",
    "\n",
    "# Adicionando marcadores circulares ao mapa\n",
    "marker_cluster = MarkerCluster().add_to(mapa)\n",
    "\n",
    "def popup_content(id_veiculo, id_veiculo_clicado):\n",
    "    cor_popup = 'blue' if id_veiculo != id_veiculo_clicado else 'red'\n",
    "    return f'<div style=\"color: {cor_popup};\">{id_veiculo}</div>'\n",
    "\n",
    "for index, row in linha_geo.iterrows():\n",
    "    folium.CircleMarker(location=[row['latitude'], row['longitude']],\n",
    "                        radius=10,\n",
    "                        color='black',\n",
    "                        fill=True,\n",
    "                        fill_color='red',\n",
    "                        fill_opacity=0.6,\n",
    "                        popup=folium.Popup(popup_content(row['prefixo_carro'], ''), max_width=300)).add_to(marker_cluster)\n",
    "\n",
    "mapa"
   ]
  },
  {
   "cell_type": "code",
   "execution_count": 17,
   "id": "20624a7b",
   "metadata": {},
   "outputs": [],
   "source": [
    "# mapa.save('validacoes_linha_75_6-7hs_dia_01_11_2018_geo_gtfs.html')"
   ]
  },
  {
   "cell_type": "markdown",
   "id": "e0675ae0",
   "metadata": {},
   "source": [
    "## 3.3 JUNÇÃO DAS VALIDAÇÕES LOCALIZADAS EM UMA UNICA BASE\n",
    "''' COM DADOS DE VALIDAÇÕES LOCALIZADOS EM TERMINAIS, EM LINHAS DE BRT´s E EM VALIDAÇÕES EM LINHAS DE ONIBUS CONVENCIONAIS É POSSIVEL JUNTAR ESSAS EM UMA UNICA BASE''' "
   ]
  },
  {
   "cell_type": "code",
   "execution_count": null,
   "id": "b656d293",
   "metadata": {
    "scrolled": true
   },
   "outputs": [],
   "source": [
    "# Concatenando base em um unico df\n",
    "bilhetagem_localizada = pd.concat([dados_terminais_geo, dados_brt_geo_e_outros_])"
   ]
  },
  {
   "cell_type": "code",
   "execution_count": null,
   "id": "93454717",
   "metadata": {
    "scrolled": false
   },
   "outputs": [],
   "source": [
    "# Base localizada\n",
    "bilhetagem_localizada"
   ]
  },
  {
   "cell_type": "code",
   "execution_count": null,
   "id": "4d69c256",
   "metadata": {},
   "outputs": [],
   "source": [
    "import sys\n",
    "sys.exit()"
   ]
  },
  {
   "cell_type": "markdown",
   "id": "720d0c23",
   "metadata": {},
   "source": [
    "###### _INTERROPENDO EXECUÇÃO DO SCRIPT!_ "
   ]
  },
  {
   "cell_type": "code",
   "execution_count": 16,
   "id": "01423f87",
   "metadata": {},
   "outputs": [
    {
     "data": {
      "text/plain": [
       "' AUTOMATIZANDO EXPORTAÇÃO!'"
      ]
     },
     "execution_count": 16,
     "metadata": {},
     "output_type": "execute_result"
    }
   ],
   "source": [
    "''' AUTOMATIZANDO EXPORTAÇÃO!'''"
   ]
  },
  {
   "cell_type": "code",
   "execution_count": null,
   "id": "2ca38a43",
   "metadata": {},
   "outputs": [],
   "source": [
    "# Defindo ano e mes\n",
    "\n",
    "ano = 2018\n",
    "\n",
    "mes = 11"
   ]
  },
  {
   "cell_type": "code",
   "execution_count": null,
   "id": "e2027b81",
   "metadata": {},
   "outputs": [],
   "source": [
    "filtro_mes = (bilhetagem_localizada['momento'].dt.year==ano) &  (bilhetagem_localizada['momento'].dt.month==mes)\n",
    "\n",
    "dados_mes = bilhetagem_localizada.loc[filtro_mes]"
   ]
  },
  {
   "cell_type": "code",
   "execution_count": null,
   "id": "003fc67d",
   "metadata": {},
   "outputs": [],
   "source": [
    "for dia in range(1, 31):\n",
    "\n",
    "    filtro_dia = dados_mes['momento'].dt.day==dia\n",
    "\n",
    "    dados_dia = dados_mes.loc[filtro_dia]\n",
    "\n",
    "    \n",
    "\n",
    "    # Verificando se ha dadps ára exportar\n",
    "\n",
    "    if not dados_dia.empty:\n",
    "\n",
    "        nome_arquivo =  f\"{ano}-{mes:02d}-{dia:02d}_geo\"\n",
    "\n",
    "        # Exportando\n",
    "\n",
    "        dados_dia.to_csv(nome_arquivo, index=False)"
   ]
  },
  {
   "cell_type": "code",
   "execution_count": null,
   "id": "c42e3076",
   "metadata": {},
   "outputs": [],
   "source": [
    "import sys\n",
    "sys.exit()"
   ]
  },
  {
   "cell_type": "markdown",
   "id": "506ec1fb",
   "metadata": {},
   "source": [
    "## 3.4 Filtrando veiculos em trecho com estações de BRT"
   ]
  },
  {
   "cell_type": "markdown",
   "id": "23bbb28a",
   "metadata": {},
   "source": [
    "### 3.4.1. Veiculos sem associação do GPS  e que passa na estação\n",
    "''' Dados de validações fora dos terminais e que não possuem uma assoicação no GPS '''"
   ]
  },
  {
   "cell_type": "code",
   "execution_count": null,
   "id": "d8607b9b",
   "metadata": {},
   "outputs": [],
   "source": [
    "# Na base dos veiculos em fora de terminais e que não possuem um veciulo associado no GPS \n",
    "validacoes_base_dados_brt_geo = dados_brt_geo_e_outros[(dados_brt_geo_e_outros.latitude>=-3.736011)\n",
    "    & (dados_brt_geo_e_outros.longitude>=-38.566622) & (dados_brt_geo_e_outros.longitude<=-38.545669) \n",
    "                                & (dados_brt_geo_e_outros.latitude<=-3.731734)]"
   ]
  },
  {
   "cell_type": "code",
   "execution_count": null,
   "id": "16990eda",
   "metadata": {
    "scrolled": true
   },
   "outputs": [],
   "source": [
    "validacoes_base_dados_brt_geo"
   ]
  },
  {
   "cell_type": "code",
   "execution_count": null,
   "id": "767bbb20",
   "metadata": {},
   "outputs": [],
   "source": [
    "validacoes_base_dados_brt_geo['nome_linha'].unique() # Nenhuma linha com nome estação!"
   ]
  },
  {
   "cell_type": "code",
   "execution_count": null,
   "id": "e7056cb0",
   "metadata": {},
   "outputs": [],
   "source": [
    "validacoes_base_dados_brt_geo['linha'].unique() "
   ]
  },
  {
   "cell_type": "code",
   "execution_count": null,
   "id": "6c248718",
   "metadata": {},
   "outputs": [],
   "source": [
    "# Filtrando linhas especifica\n",
    "linha_especifica_2 = validacoes_base_dados_brt_geo[validacoes_base_dados_brt_geo.linha== 71]"
   ]
  },
  {
   "cell_type": "code",
   "execution_count": null,
   "id": "199a4527",
   "metadata": {
    "scrolled": true
   },
   "outputs": [],
   "source": [
    "linha_especifica_2"
   ]
  },
  {
   "cell_type": "code",
   "execution_count": null,
   "id": "044bd5ae",
   "metadata": {},
   "outputs": [],
   "source": [
    "linha_especifica_2['prefixo_carro'] = linha_especifica_2['prefixo_carro'].astype('int64')"
   ]
  },
  {
   "cell_type": "code",
   "execution_count": null,
   "id": "ed2e10d9",
   "metadata": {},
   "outputs": [],
   "source": [
    "# Veiculos da linha\n",
    "VEICULOS_GTFS = linha_especifica_2['prefixo_carro'].unique()"
   ]
  },
  {
   "cell_type": "code",
   "execution_count": null,
   "id": "0219a4a7",
   "metadata": {},
   "outputs": [],
   "source": [
    "VEICULOS_GTFS"
   ]
  },
  {
   "cell_type": "markdown",
   "id": "d7fb9906",
   "metadata": {},
   "source": [
    "### _Pegando o mesmo veiculo (aletorio do mapa com associação com o gps)_"
   ]
  },
  {
   "cell_type": "code",
   "execution_count": null,
   "id": "7c760815",
   "metadata": {},
   "outputs": [],
   "source": [
    "aleatorio_2 = linha_especifica_2['prefixo_carro'].sample(n=1)"
   ]
  },
  {
   "cell_type": "code",
   "execution_count": null,
   "id": "6962de62",
   "metadata": {},
   "outputs": [],
   "source": [
    "aleatorio_2"
   ]
  },
  {
   "cell_type": "code",
   "execution_count": null,
   "id": "73313583",
   "metadata": {},
   "outputs": [],
   "source": [
    "# Definido validações de veiculo especifico \n",
    "val_veiculo_2 = linha_especifica_2[linha_especifica_2['prefixo_carro'].isin(aleatorio_2)]"
   ]
  },
  {
   "cell_type": "code",
   "execution_count": null,
   "id": "436b118c",
   "metadata": {
    "scrolled": true
   },
   "outputs": [],
   "source": [
    "val_veiculo_2"
   ]
  },
  {
   "cell_type": "code",
   "execution_count": null,
   "id": "fb5e6ccd",
   "metadata": {},
   "outputs": [],
   "source": [
    "''' OU SEJA, DADA UMA MESMA LINHA, UM VEICULO POSSUE REGISTROS NO GPS E QUE POSSIBILITA A LOCALIZAÇÃO, MAS EXISTE OUTROS VEICULOS SEM ASSOCIAÇÃO QUE SOMENTE É POSSIVEL LOCALIZAR VIA GTFS! '''"
   ]
  },
  {
   "cell_type": "code",
   "execution_count": null,
   "id": "5bd30df6",
   "metadata": {},
   "outputs": [],
   "source": [
    "# Filtrado momento especifico \n",
    "val_veiculo_dia_2 = val_veiculo_2[(val_veiculo_2.momento>='2018-09-06 05:08:16') & (val_veiculo_2.momento<='2018-09-06 05:20:36')\n",
    "                                 & (val_veiculo_2.sentido_viagem<='Ida')]"
   ]
  },
  {
   "cell_type": "code",
   "execution_count": null,
   "id": "76d411c3",
   "metadata": {
    "scrolled": true
   },
   "outputs": [],
   "source": [
    "val_veiculo_dia_2"
   ]
  },
  {
   "cell_type": "code",
   "execution_count": null,
   "id": "07571939",
   "metadata": {},
   "outputs": [],
   "source": [
    "lat_2 = val_veiculo_dia_2['latitude'].mean()\n",
    "lon_2 = val_veiculo_dia_2['longitude'].mean()"
   ]
  },
  {
   "cell_type": "code",
   "execution_count": null,
   "id": "6e2551ca",
   "metadata": {},
   "outputs": [],
   "source": [
    "# Criando um mapa centrado em FORTALEZA\n",
    "import folium\n",
    "from folium.plugins import MarkerCluster\n",
    "\n",
    "mapa = folium.Map(location=[lat_2, lon_2], zoom_start=5)\n",
    "\n",
    "# Adicionando marcadores circulares ao mapa\n",
    "marker_cluster = MarkerCluster().add_to(mapa)\n",
    "\n",
    "def popup_content(id_veiculo, id_veiculo_clicado):\n",
    "    cor_popup = 'blue' if id_veiculo != id_veiculo_clicado else 'red'\n",
    "    return f'<div style=\"color: {cor_popup};\">{id_veiculo}</div>'\n",
    "\n",
    "for index, row in val_veiculo_dia_2.iterrows():\n",
    "    folium.CircleMarker(location=[row['latitude'], row['longitude']],\n",
    "                        radius=10,\n",
    "                        color='black',\n",
    "                        fill=True,\n",
    "                        fill_color='red',\n",
    "                        fill_opacity=0.6,\n",
    "                        popup=folium.Popup(popup_content(row['id_veiculo'], ''), max_width=300)).add_to(marker_cluster)"
   ]
  },
  {
   "cell_type": "code",
   "execution_count": null,
   "id": "fb8d5f9e",
   "metadata": {},
   "outputs": [],
   "source": [
    "mapa"
   ]
  },
  {
   "cell_type": "code",
   "execution_count": null,
   "id": "0f6e2912",
   "metadata": {
    "scrolled": true
   },
   "outputs": [],
   "source": [
    "''' OU SEJA, NESSE TRECHO EXISTEM 10 ESTAÇÕES DE BRT E NASA DUAS BASES SOMENTE TEM UMA NA PRIMERIA QUE TEM NOME ESTAÇÃO! E NA BASE QUE NÃO POSSUEM VEICULOS ASSOCIADOS, FORAM DE VALIDAÇÕES EM SOMENTE ALGUAMS LINHAS, E AS DEMAIS VALIDAÇÕES NOS CASOS QUE POSSUEM UM VEICULO CORRESPONDENTE NO GPS, EXISTEM TAMBEM LINHAS QUE PASSAM NESSAS ESTAÇÕES E ELAS POSSUEM NOMES PROPRIOS E NÃO O NOME DA ESTAÇÃO!'''"
   ]
  },
  {
   "cell_type": "markdown",
   "id": "a24ca827",
   "metadata": {
    "heading_collapsed": true
   },
   "source": [
    "# 4.0 Plotagem da bilhetagem georreferenciada"
   ]
  },
  {
   "cell_type": "code",
   "execution_count": null,
   "id": "3f868dec",
   "metadata": {
    "hidden": true
   },
   "outputs": [],
   "source": [
    "# INSTALANDO A BIBLIOTECA GEOPANDAS COM CONDA\n",
    "# !conda install geopandas -y\n",
    "\n",
    "# instalando com pip\n",
    "!pip install-q geopandas"
   ]
  },
  {
   "cell_type": "code",
   "execution_count": null,
   "id": "4bff46e4",
   "metadata": {
    "hidden": true
   },
   "outputs": [],
   "source": [
    "# mostrar a versão da biblioteca \n",
    "# !pip list geopandas"
   ]
  },
  {
   "cell_type": "code",
   "execution_count": null,
   "id": "a569b574",
   "metadata": {
    "hidden": true
   },
   "outputs": [],
   "source": [
    "# instalando a biblioteca matplotlib com conda\n",
    "# !conda install matplotlib -y\n",
    "\n",
    "# instalando com pip\n",
    "!pip install -q matplotlib"
   ]
  },
  {
   "cell_type": "code",
   "execution_count": null,
   "id": "1a9abb87",
   "metadata": {
    "hidden": true
   },
   "outputs": [],
   "source": [
    "# mostrar a versão da biblioteca \n",
    "# !pip list matplotlib"
   ]
  },
  {
   "cell_type": "code",
   "execution_count": null,
   "id": "d06196c2",
   "metadata": {
    "hidden": true
   },
   "outputs": [],
   "source": [
    "# importando as bibliotecas\n",
    "import geopandas as gpd\n",
    "import matplotlib.pyplot as plt"
   ]
  },
  {
   "cell_type": "markdown",
   "id": "efe98a5c",
   "metadata": {
    "hidden": true
   },
   "source": [
    "## 4.2 Leitura de dados espaciais "
   ]
  },
  {
   "cell_type": "code",
   "execution_count": null,
   "id": "84d7abdd",
   "metadata": {
    "hidden": true
   },
   "outputs": [],
   "source": [
    "# Ler os dados com geopandas\n",
    "ceara_muni = gpd.read_file('CE_Municipios_2022.shp')"
   ]
  },
  {
   "cell_type": "markdown",
   "id": "2d770a23",
   "metadata": {
    "hidden": true
   },
   "source": [
    "### 4.2.1 Visualização dos dados "
   ]
  },
  {
   "cell_type": "code",
   "execution_count": null,
   "id": "9a671f9e",
   "metadata": {
    "hidden": true
   },
   "outputs": [],
   "source": [
    "# Visualização\n",
    "# ceara_muni.plot(figsize=(16,14), facecolor='white', edgecolor='black') \n",
    "#plt.show()"
   ]
  },
  {
   "cell_type": "markdown",
   "id": "fb87a0a6",
   "metadata": {
    "hidden": true
   },
   "source": [
    "### 4.2.2 Filtro somente da capital "
   ]
  },
  {
   "cell_type": "code",
   "execution_count": null,
   "id": "5abfa764",
   "metadata": {
    "hidden": true
   },
   "outputs": [],
   "source": [
    "# Salvando somente a capital 'Fortaleza'\n",
    "fortal = ceara_muni[ceara_muni.NM_MUN=='Fortaleza']\n",
    "fortal_p = fortal.iloc[0].geometry"
   ]
  },
  {
   "cell_type": "code",
   "execution_count": null,
   "id": "9bde65e2",
   "metadata": {
    "hidden": true
   },
   "outputs": [],
   "source": [
    "# Mostrar capital \n",
    "fortal_p"
   ]
  },
  {
   "cell_type": "code",
   "execution_count": null,
   "id": "227be858",
   "metadata": {
    "hidden": true
   },
   "outputs": [],
   "source": [
    "# Salvar o geodataframe com formato geojson\n",
    "filename =  'fortal.json'\n",
    "fortal.to_file(filename, driver='GeoJSON')"
   ]
  },
  {
   "cell_type": "code",
   "execution_count": null,
   "id": "07c1c892",
   "metadata": {
    "hidden": true
   },
   "outputs": [],
   "source": [
    "fortall = gpd.read_file(filename, driver='GeoJSON')"
   ]
  },
  {
   "cell_type": "code",
   "execution_count": null,
   "id": "45b71344",
   "metadata": {
    "hidden": true
   },
   "outputs": [],
   "source": [
    "fortall"
   ]
  },
  {
   "cell_type": "markdown",
   "id": "86768fd6",
   "metadata": {
    "hidden": true
   },
   "source": [
    "### 4.2.3 Modelo de dados espaciais e criação de coluna geometrica "
   ]
  },
  {
   "cell_type": "code",
   "execution_count": null,
   "id": "3f54168b",
   "metadata": {
    "hidden": true
   },
   "outputs": [],
   "source": [
    "# Instalando biblioteca shapely com pip\n",
    "!pip install -q shapely\n",
    "# Mostrar versão da biblioteca \n",
    "# !pip list shapely"
   ]
  },
  {
   "cell_type": "code",
   "execution_count": null,
   "id": "dd8a9594",
   "metadata": {
    "hidden": true
   },
   "outputs": [],
   "source": [
    "# importando os objetos geométricos da biblioteca shapely\n",
    "from shapely.geometry import Point, LineString, Polygon"
   ]
  },
  {
   "cell_type": "code",
   "execution_count": null,
   "id": "9d53b654",
   "metadata": {
    "hidden": true
   },
   "outputs": [],
   "source": [
    "# Criando coluna geometerica no df (mes_d1_GPS)\n",
    "# mes_d1_GPS['geometry'] = None \n",
    "# for index, row in mes_d1_GPS.iterrows():\n",
    "    #mes_d1_GPS.loc[index, 'geometry'] = Point(row.latitude, row.longitude)"
   ]
  },
  {
   "cell_type": "code",
   "execution_count": null,
   "id": "8807fca5",
   "metadata": {
    "hidden": true
   },
   "outputs": [],
   "source": [
    "# mes_d1_GPS"
   ]
  },
  {
   "cell_type": "code",
   "execution_count": null,
   "id": "346e1d11",
   "metadata": {
    "hidden": true
   },
   "outputs": [],
   "source": [
    "# Criando coluna geometerica no df (mes_d1_GPS)\n",
    "# mes_d1_GPS['geometry'] = mes_d1_GPS.apply(lambda x: Point((float(x.longitude), float(x.latitude))), axis=1)"
   ]
  },
  {
   "cell_type": "code",
   "execution_count": null,
   "id": "2cdb88be",
   "metadata": {
    "hidden": true
   },
   "outputs": [],
   "source": [
    "# tipos de dados \n",
    "# type(mes_d1_GPS)"
   ]
  },
  {
   "cell_type": "code",
   "execution_count": null,
   "id": "3b0d618c",
   "metadata": {
    "hidden": true
   },
   "outputs": [],
   "source": [
    "# Criando um GeoDataFrame \n",
    "# mes_d1_GPS_geodat_ = gpd.GeoDataFrame(mes_d1_GPS, geometry='geometry')"
   ]
  },
  {
   "cell_type": "code",
   "execution_count": null,
   "id": "e655b160",
   "metadata": {
    "hidden": true,
    "scrolled": true
   },
   "outputs": [],
   "source": [
    "# mostar dados\n",
    "# mes_d1_GPS_geodat_= mes_d1_GPS"
   ]
  },
  {
   "cell_type": "code",
   "execution_count": null,
   "id": "ee751f8e",
   "metadata": {
    "hidden": true
   },
   "outputs": [],
   "source": [
    "# Salvar o geodataframe com formato geojson\n",
    "# filename2 =  'mes_d1_GPS_geodat_.json'\n",
    "# mes_d1_GPS_geodat_.to_file(filename2, driver='GeoJSON')"
   ]
  },
  {
   "cell_type": "code",
   "execution_count": null,
   "id": "66ef5791",
   "metadata": {
    "hidden": true
   },
   "outputs": [],
   "source": [
    "# mes_d1_GPS_geodat = gpd.read_file(filename2, driver='GeoJSON')"
   ]
  },
  {
   "cell_type": "code",
   "execution_count": null,
   "id": "5ab93530",
   "metadata": {
    "hidden": true,
    "scrolled": false
   },
   "outputs": [],
   "source": [
    "# plotando dados (visualização)\n",
    "# mes_d1_GPS_geodat.plot(figsize=(8,8), facecolor='white', edgecolor='black')"
   ]
  },
  {
   "cell_type": "code",
   "execution_count": null,
   "id": "700fcbe1",
   "metadata": {
    "hidden": true
   },
   "outputs": [],
   "source": [
    "# type(mes_d1_GPS_geodat)"
   ]
  },
  {
   "cell_type": "markdown",
   "id": "52849dd7",
   "metadata": {
    "hidden": true
   },
   "source": [
    "### 4.2.4 Operação de interseção entre geometrias "
   ]
  },
  {
   "cell_type": "code",
   "execution_count": null,
   "id": "6f35c01c",
   "metadata": {
    "hidden": true
   },
   "outputs": [],
   "source": [
    "# Mostrar os dados simultaneamente\n",
    "# fig, ax = plt.subplots(figsize=(15,15))\n",
    "\n",
    "# mes_d1_GPS_geodat.plot(ax=ax)\n",
    "# fortall.plot(ax=ax, facecolor='None', edgecolor='black')"
   ]
  },
  {
   "cell_type": "code",
   "execution_count": null,
   "id": "1abda072",
   "metadata": {
    "hidden": true
   },
   "outputs": [],
   "source": [
    "# VERIFICAMOS QUE EXISTEM DADOS GEORREFERENCIADOS FORA DA MALHA DA CIDADE, PODENDO SER NA SUA MAIORIA REGISTRO DOS VEICULOS\n",
    "# QUANDO SE DESLOCARAM PARA OUTRAS ZONAS, OU ATÉ MESMO ERROS DO APARELHO DE GPS, COMO MOSTRA NA FIGURA ACIMA UM REGISTRO \n",
    "# PRATICAMENTE NO MAR."
   ]
  },
  {
   "cell_type": "code",
   "execution_count": null,
   "id": "54c2bd00",
   "metadata": {
    "hidden": true
   },
   "outputs": [],
   "source": [
    "# Realizar operação de interseção entre geometrias\n",
    "# mes_geo_fortal = mes_d1_GPS_geodat[mes_d1_GPS_geodat.intersects(fortal_p)]"
   ]
  },
  {
   "cell_type": "code",
   "execution_count": null,
   "id": "663eb362",
   "metadata": {
    "hidden": true
   },
   "outputs": [],
   "source": [
    "# mes_geo_fortal.info()"
   ]
  },
  {
   "cell_type": "code",
   "execution_count": null,
   "id": "a7effc8f",
   "metadata": {
    "hidden": true
   },
   "outputs": [],
   "source": [
    "# NOTAMOS QUE DOS 891038 DADOS DE VALIDAÇÕES APENAS 825386 foram localizadas dentro da malha da cidade, seguimos com estas!"
   ]
  },
  {
   "cell_type": "code",
   "execution_count": null,
   "id": "2bfab847",
   "metadata": {
    "hidden": true
   },
   "outputs": [],
   "source": [
    "# Mostrar os dados simultaneamente após interseção\n",
    "# fig, ax = plt.subplots(figsize=(10,10))\n",
    "\n",
    "# mes_geo_fortal.plot(ax=ax)\n",
    "# fortall.plot(ax=ax, facecolor='None', edgecolor='black')"
   ]
  },
  {
   "cell_type": "code",
   "execution_count": null,
   "id": "6fc46c7e",
   "metadata": {
    "hidden": true
   },
   "outputs": [],
   "source": [
    "# Salvando os dados georreferenciados em fortaleza \n",
    "# filename3 = 'mes_geo_fortal.json'\n",
    "\n",
    "# mes_geo_fortal.to_file(filename3, driver='GeoJSON')"
   ]
  },
  {
   "cell_type": "markdown",
   "id": "6194b85f",
   "metadata": {
    "hidden": true
   },
   "source": [
    "### 4.2.5 Mostrando dados no mapa de agrupamento (clusters)"
   ]
  },
  {
   "cell_type": "code",
   "execution_count": null,
   "id": "0d0a5597",
   "metadata": {
    "hidden": true,
    "scrolled": true
   },
   "outputs": [],
   "source": [
    "# Instalando biblioteca folium com pip!\n",
    "!pip install -q folium"
   ]
  },
  {
   "cell_type": "code",
   "execution_count": null,
   "id": "0ddf5ba0",
   "metadata": {
    "hidden": true
   },
   "outputs": [],
   "source": [
    "# importando biblioteca folium e pluging\n",
    "import folium \n",
    "from folium.plugins import FastMarkerCluster"
   ]
  },
  {
   "cell_type": "code",
   "execution_count": null,
   "id": "e8ed3d1a",
   "metadata": {
    "hidden": true
   },
   "outputs": [],
   "source": [
    "# Criar mapa de agrupamentos (clusters)\n",
    "# media_long = mes_geo_fortal['longitude'].mean()\n",
    "# media_lat = mes_geo_fortal['latitude'].mean()\n",
    "\n",
    "# mapa = folium.Map(location=[media_lat, media_long])"
   ]
  },
  {
   "cell_type": "code",
   "execution_count": null,
   "id": "31e70fc1",
   "metadata": {
    "hidden": true
   },
   "outputs": [],
   "source": [
    "# Transformando dados em uma feat geojson\n",
    "# mc = FastMarkerCluster(mes_geo_fortal[['latitude', 'longitude']])"
   ]
  },
  {
   "cell_type": "code",
   "execution_count": null,
   "id": "819e1e47",
   "metadata": {
    "hidden": true
   },
   "outputs": [],
   "source": [
    "# Poligonal da cidade no mapa\n",
    "limites = folium.features.GeoJson(fortall, style_function=lambda feature:{'color': 'black', 'weight': 2, 'fillOpacity':0.0})"
   ]
  },
  {
   "cell_type": "code",
   "execution_count": null,
   "id": "dfed19eb",
   "metadata": {
    "hidden": true
   },
   "outputs": [],
   "source": [
    "# Adicionando dados no mapa\n",
    "# mapa.add_child(mc)\n",
    "# mapa.add_child(limites)       "
   ]
  },
  {
   "cell_type": "code",
   "execution_count": null,
   "id": "5e172a7c",
   "metadata": {
    "hidden": true
   },
   "outputs": [],
   "source": [
    "# Salvar o nosso mapa em um arquivo html\n",
    "# mapa.save('validações_georreferenciadas.html')"
   ]
  },
  {
   "cell_type": "markdown",
   "id": "94a834fb",
   "metadata": {
    "hidden": true
   },
   "source": [
    "### 4.2.6 Mostrando dados no mapa de calor (Heatmap)"
   ]
  },
  {
   "cell_type": "code",
   "execution_count": null,
   "id": "bb213b8b",
   "metadata": {
    "hidden": true
   },
   "outputs": [],
   "source": [
    "# Importando a plugin HeatMap\n",
    "from folium.plugins import HeatMap"
   ]
  },
  {
   "cell_type": "code",
   "execution_count": null,
   "id": "c2033d24",
   "metadata": {
    "hidden": true
   },
   "outputs": [],
   "source": [
    "# Criando mapa II\n",
    "\n",
    "# mapa_2 = folium.Map(location=[media_lat, media_long]) \n",
    "\n",
    "# Criando heat_map\n",
    "# heat_map = HeatMap(mes_geo_fortal[['latitude', 'longitude']])     "
   ]
  },
  {
   "cell_type": "code",
   "execution_count": null,
   "id": "791b81af",
   "metadata": {
    "hidden": true
   },
   "outputs": [],
   "source": [
    "# Adicionando no map\n",
    "# mapa_2.add_child(heat_map)\n",
    "# mapa_2.add_child(limites)"
   ]
  },
  {
   "cell_type": "code",
   "execution_count": null,
   "id": "02d1a01c",
   "metadata": {
    "hidden": true
   },
   "outputs": [],
   "source": [
    "# Salvar o nosso mapa em um arquivo html\n",
    "# mapa_2.save('validações_georreferenciadas_Heatmap_calor.html')"
   ]
  },
  {
   "cell_type": "markdown",
   "id": "f5fcb3d4",
   "metadata": {},
   "source": [
    "# ------------------------------------------------------------------------"
   ]
  }
 ],
 "metadata": {
  "kernelspec": {
   "display_name": "Python 3 (ipykernel)",
   "language": "python",
   "name": "python3"
  },
  "language_info": {
   "codemirror_mode": {
    "name": "ipython",
    "version": 3
   },
   "file_extension": ".py",
   "mimetype": "text/x-python",
   "name": "python",
   "nbconvert_exporter": "python",
   "pygments_lexer": "ipython3",
   "version": "3.9.12"
  }
 },
 "nbformat": 4,
 "nbformat_minor": 5
}
