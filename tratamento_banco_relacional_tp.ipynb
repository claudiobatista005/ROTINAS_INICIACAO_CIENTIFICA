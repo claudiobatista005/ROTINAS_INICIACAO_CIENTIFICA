{
 "cells": [
  {
   "cell_type": "markdown",
   "id": "4c29b47f",
   "metadata": {},
   "source": [
    "# Algoritmo - Tratamento BD (Billhetagem, GPS e GTFS)\n",
    "### _Autor: Antônio Claudio Dutra Batista_\n",
    "### _Orientador: Francisco Moraes de Oliveria Neto_\n",
    "### _Metodologia: Adequação de formatos e conscistência_"
   ]
  },
  {
   "cell_type": "markdown",
   "id": "0d3152ac",
   "metadata": {},
   "source": [
    "# 1.0  Leitura das Bases e tratamento"
   ]
  },
  {
   "cell_type": "markdown",
   "id": "53c75e45",
   "metadata": {},
   "source": [
    "# 1.1 Bilhetagem (Tratamento Inicial)"
   ]
  },
  {
   "cell_type": "code",
   "execution_count": null,
   "id": "569415da",
   "metadata": {
    "scrolled": true
   },
   "outputs": [],
   "source": [
    "import pandas as pd \n",
    "# Arquivos são do mês de novembro de 2018.\n",
    "# Definindo tipos de variaveis com tamanhos menores\n",
    "tipos_specification = {'id': 'int32', 'linha': 'int32'}\n",
    "\n",
    "# df's abaixo (leitura somente das colunas necessárias):\n",
    "dia_01 = pd.read_csv('2018-11-01.csv', dtype=tipos_specification, sep= ',')\n",
    "dia_02 = pd.read_csv('2018-11-02.csv', dtype=tipos_specification, sep= ',')\n",
    "dia_03 = pd.read_csv('2018-11-03.csv', dtype=tipos_specification, sep= ',')\n",
    "dia_04 = pd.read_csv('2018-11-04.csv', dtype=tipos_specification, sep= ',')\n",
    "dia_05 = pd.read_csv('2018-11-05.csv', dtype=tipos_specification, sep= ',') \n",
    "dia_06 = pd.read_csv('2018-11-06.csv', dtype=tipos_specification, sep= ',')\n",
    "dia_07 = pd.read_csv('2018-11-07.csv', dtype=tipos_specification, sep= ',')\n",
    "dia_08 = pd.read_csv('2018-11-08.csv', dtype=tipos_specification, sep= ',')\n",
    "dia_09 = pd.read_csv('2018-11-09.csv', dtype=tipos_specification, sep= ',')\n",
    "dia_10 = pd.read_csv('2018-11-10.csv', dtype=tipos_specification, sep= ',')"
   ]
  },
  {
   "cell_type": "code",
   "execution_count": null,
   "id": "9741d2ac",
   "metadata": {},
   "outputs": [],
   "source": [
    "# Continuando...\n",
    "dia_11 = pd.read_csv('2018-11-11.csv', dtype=tipos_specification, sep= ',')\n",
    "dia_12 = pd.read_csv('2018-11-12.csv', dtype=tipos_specification, sep= ',')\n",
    "dia_13 = pd.read_csv('2018-11-13.csv', dtype=tipos_specification, sep= ',')\n",
    "dia_14 = pd.read_csv('2018-11-14.csv', dtype=tipos_specification, sep= ',')\n",
    "dia_15 = pd.read_csv('2018-11-15.csv', dtype=tipos_specification, sep= ',')\n",
    "dia_16 = pd.read_csv('2018-11-16.csv', dtype=tipos_specification, sep= ',')\n",
    "dia_17 = pd.read_csv('2018-11-17.csv', dtype=tipos_specification, sep= ',')\n",
    "dia_18 = pd.read_csv('2018-11-18.csv', dtype=tipos_specification, sep= ',')\n",
    "dia_19 = pd.read_csv('2018-11-19.csv', dtype=tipos_specification, sep= ',')\n",
    "dia_20 = pd.read_csv('2018-11-20.csv', dtype=tipos_specification, sep= ',')"
   ]
  },
  {
   "cell_type": "code",
   "execution_count": null,
   "id": "7c9d8468",
   "metadata": {
    "scrolled": true
   },
   "outputs": [],
   "source": [
    "# Continuando...\n",
    "dia_21 = pd.read_csv('2018-11-21.csv', dtype=tipos_specification,  sep= ',')\n",
    "dia_22 = pd.read_csv('2018-11-22.csv', dtype=tipos_specification,  sep= ',')\n",
    "dia_23 = pd.read_csv('2018-11-23.csv', dtype=tipos_specification,  sep= ',')\n",
    "dia_24 = pd.read_csv('2018-11-24.csv', dtype=tipos_specification,  sep= ',')\n",
    "dia_25 = pd.read_csv('2018-11-25.csv', dtype=tipos_specification,  sep= ',')\n",
    "dia_26 = pd.read_csv('2018-11-26.csv', dtype=tipos_specification,  sep= ',')\n",
    "dia_27 = pd.read_csv('2018-11-27.csv', dtype=tipos_specification,  sep= ',')\n",
    "dia_28 = pd.read_csv('2018-11-28.csv', dtype=tipos_specification,  sep= ',')\n",
    "dia_29 = pd.read_csv('2018-11-29.csv', dtype=tipos_specification,  sep= ',')\n",
    "dia_30 = pd.read_csv('2018-11-30.csv', dtype=tipos_specification,  sep= ',')"
   ]
  },
  {
   "cell_type": "code",
   "execution_count": null,
   "id": "1a00173e",
   "metadata": {},
   "outputs": [],
   "source": [
    "# Agrupando (10 dias)\n",
    "dia_01_10 = pd.concat([dia_01, dia_02, dia_03, dia_04, dia_05, dia_06 ,dia_07, dia_08, dia_09, dia_10])"
   ]
  },
  {
   "cell_type": "code",
   "execution_count": null,
   "id": "e7e8d867",
   "metadata": {},
   "outputs": [],
   "source": [
    "# Continuando...\n",
    "dia_11_20 = pd.concat([dia_11, dia_12, dia_13, dia_14, dia_15,dia_16, dia_17, dia_18, dia_19, dia_20])"
   ]
  },
  {
   "cell_type": "code",
   "execution_count": null,
   "id": "545d009a",
   "metadata": {},
   "outputs": [],
   "source": [
    "# Continuando...\n",
    "dia_21_30 = pd.concat([dia_21, dia_22, dia_23, dia_24, dia_25, dia_26, dia_27, dia_28, dia_29, dia_30])"
   ]
  },
  {
   "cell_type": "code",
   "execution_count": null,
   "id": "d314073e",
   "metadata": {},
   "outputs": [],
   "source": [
    "mes_tudo = pd.concat([dia_01_10, dia_11_20,dia_21_30])"
   ]
  },
  {
   "cell_type": "code",
   "execution_count": null,
   "id": "28817437",
   "metadata": {},
   "outputs": [],
   "source": [
    "# DELETANDO EXPLICITAMENTE VARAIVEIS COM DIAS 01-10\n",
    "del dia_01\n",
    "del dia_02\n",
    "del dia_03\n",
    "del dia_04\n",
    "del dia_05\n",
    "del dia_06\n",
    "del dia_07\n",
    "del dia_08\n",
    "del dia_09\n",
    "del dia_10\n",
    "\n",
    "# DELETANDO EXPLICITAMENTE VARAIVEIS COM DIAS 11-20\n",
    "del dia_11\n",
    "del dia_12\n",
    "del dia_13\n",
    "del dia_14\n",
    "del dia_15\n",
    "del dia_16\n",
    "del dia_17\n",
    "del dia_18\n",
    "del dia_19\n",
    "del dia_20\n",
    "\n",
    "# DELETANDO EXPLICITAMENTE VARAIVEIS COM DIAS 21-30\n",
    "del dia_21\n",
    "del dia_22\n",
    "del dia_23\n",
    "del dia_24\n",
    "del dia_25\n",
    "del dia_26\n",
    "del dia_27\n",
    "del dia_28\n",
    "del dia_29\n",
    "del dia_30\n",
    "\n",
    "# DELETANDO EXPLICITAMENTE VARAIVEIS COM DIAS 1agrupados\n",
    "del dia_01_10\n",
    "del dia_11_20\n",
    "del dia_21_30"
   ]
  },
  {
   "cell_type": "code",
   "execution_count": null,
   "id": "dc2bb13e",
   "metadata": {
    "scrolled": false
   },
   "outputs": [],
   "source": [
    "# Base com dados do mes em um unico arquivo\n",
    "mes_tudo"
   ]
  },
  {
   "cell_type": "code",
   "execution_count": null,
   "id": "df3ddcc2",
   "metadata": {},
   "outputs": [],
   "source": [
    "mes_tudo.isnull().sum()"
   ]
  },
  {
   "cell_type": "code",
   "execution_count": null,
   "id": "acd28c49",
   "metadata": {},
   "outputs": [],
   "source": [
    "# Info da base \n",
    "mes_tudo.info()"
   ]
  },
  {
   "cell_type": "code",
   "execution_count": null,
   "id": "727c3969",
   "metadata": {},
   "outputs": [],
   "source": [
    "# Juntando colunas de interesse (dia, momento) em uma só:\n",
    "mes_tudo[\"momento\"] = mes_tudo['dia'].astype(str) + '-' + mes_tudo['momento'].astype(str)"
   ]
  },
  {
   "cell_type": "code",
   "execution_count": null,
   "id": "fa78ce1a",
   "metadata": {},
   "outputs": [],
   "source": [
    "# Dados da coluna tipo_cartao\n",
    "mes_tudo[\"tipo_cartao\"].unique()"
   ]
  },
  {
   "cell_type": "code",
   "execution_count": null,
   "id": "44ba8f6a",
   "metadata": {},
   "outputs": [],
   "source": [
    "# Dados da coluna nome_cartao\n",
    "mes_tudo[\"nome_cartao\"].unique()"
   ]
  },
  {
   "cell_type": "code",
   "execution_count": null,
   "id": "6f7dfc5a",
   "metadata": {},
   "outputs": [],
   "source": [
    "# REMOVENDO COLUNAS DESNECESSÁRIAS!\n",
    "mes_tudo.drop(['tipo_cartao', 'hora', 'dia'], inplace= True, axis=1)"
   ]
  },
  {
   "cell_type": "code",
   "execution_count": null,
   "id": "dcff2ac6",
   "metadata": {},
   "outputs": [],
   "source": [
    "# Função para identificar se há caracters\n",
    "def tem_caracters(col):\n",
    "    return any(char.isalpha() for char in str(col))"
   ]
  },
  {
   "cell_type": "code",
   "execution_count": null,
   "id": "22985140",
   "metadata": {},
   "outputs": [],
   "source": [
    "# Verificando no DataFrame mes_tudo\n",
    "prefixo_CARACTERS = mes_tudo[\"prefixo_carro\"].apply(tem_caracters)"
   ]
  },
  {
   "cell_type": "code",
   "execution_count": null,
   "id": "44aec8bb",
   "metadata": {},
   "outputs": [],
   "source": [
    "# Filtrar os valores com base na condição\n",
    "test_caracter = mes_tudo[prefixo_CARACTERS == True]"
   ]
  },
  {
   "cell_type": "code",
   "execution_count": null,
   "id": "f0524916",
   "metadata": {},
   "outputs": [],
   "source": [
    "test_caracter"
   ]
  },
  {
   "cell_type": "code",
   "execution_count": null,
   "id": "12360f5b",
   "metadata": {},
   "outputs": [],
   "source": [
    "test_caracter.info()"
   ]
  },
  {
   "cell_type": "code",
   "execution_count": 1,
   "id": "de9b6ac9",
   "metadata": {},
   "outputs": [
    {
     "data": {
      "text/plain": [
       "' OU SEJA, EXISTEM CERCA DE 27956 VALIDAÇÕES QUE POSSUEM ALGUM CARACTER!   '"
      ]
     },
     "execution_count": 1,
     "metadata": {},
     "output_type": "execute_result"
    }
   ],
   "source": [
    "''' OU SEJA, EXISTEM CERCA DE 27956 VALIDAÇÕES QUE POSSUEM ALGUM CARACTER!   '''"
   ]
  },
  {
   "cell_type": "code",
   "execution_count": null,
   "id": "342a7c8c",
   "metadata": {},
   "outputs": [],
   "source": [
    "# Removendo identificação de veiculos com caracteris da coluna de prefixo_carro\n",
    "mes = mes_tudo[pd.to_numeric(mes_tudo['prefixo_carro'], errors='coerce').notnull()]"
   ]
  },
  {
   "cell_type": "code",
   "execution_count": null,
   "id": "e1099720",
   "metadata": {},
   "outputs": [],
   "source": [
    "mes"
   ]
  },
  {
   "cell_type": "code",
   "execution_count": null,
   "id": "30f1179d",
   "metadata": {},
   "outputs": [],
   "source": [
    "mes.isnull().sum()"
   ]
  },
  {
   "cell_type": "code",
   "execution_count": null,
   "id": "adb73487",
   "metadata": {},
   "outputs": [],
   "source": [
    "# Convertendo formato para tipo data\n",
    "mes[\"momento\"] = pd.to_datetime(mes[\"momento\"], format= '%Y-%m-%d-%H:%M:%S')"
   ]
  },
  {
   "cell_type": "code",
   "execution_count": 2,
   "id": "8a76074d",
   "metadata": {},
   "outputs": [
    {
     "data": {
      "text/plain": [
       "' OU SEJA, OS DADOS QUE ERAM IDENTIFICADOS COMO CARACTETERES ERAM SOMENTE DADOS NULOS NA COLUNA! '"
      ]
     },
     "execution_count": 2,
     "metadata": {},
     "output_type": "execute_result"
    }
   ],
   "source": [
    "''' OU SEJA, OS DADOS QUE ERAM IDENTIFICADOS COMO CARACTETERES ERAM SOMENTE DADOS NULOS NA COLUNA! '''"
   ]
  },
  {
   "cell_type": "code",
   "execution_count": null,
   "id": "fc4e0b0b",
   "metadata": {},
   "outputs": [],
   "source": [
    "# Filtrando que NÃO ESTÃO NA BASE COM DADOS DE IDENTIFICAÇÃO DOS VEICULOS NUMERICOS!\n",
    "dados_CARACTERS = mes_tudo[~mes_tudo['prefixo_carro'].isin(mes['prefixo_carro'])]"
   ]
  },
  {
   "cell_type": "code",
   "execution_count": null,
   "id": "a9631559",
   "metadata": {},
   "outputs": [],
   "source": [
    "dados_CARACTERS"
   ]
  },
  {
   "cell_type": "code",
   "execution_count": null,
   "id": "a8e3765e",
   "metadata": {},
   "outputs": [],
   "source": [
    "dados_CARACTERS['prefixo_carro'].unique()"
   ]
  },
  {
   "cell_type": "code",
   "execution_count": null,
   "id": "f09e3e99",
   "metadata": {},
   "outputs": [],
   "source": [
    "# Trasnformando coluna de prefixo carro da base mes para inteiro!\n",
    "mes['prefixo_carro'] = mes['prefixo_carro'].astype('int32')"
   ]
  },
  {
   "cell_type": "code",
   "execution_count": 3,
   "id": "ca80002e",
   "metadata": {},
   "outputs": [
    {
     "data": {
      "text/plain": [
       "' AGORA A BASE \"mes\" TEM OS DADOS DAS VALIDAÇÕES COM IDENTIFICAÇÃO DE VEICULO DO TIPO NUMERICA FORMATADO E A BASE \"dados_CARACTERS\\' TEM AQUELAS VALIDAÇÕES COM DADOS DE IDENTIFICAÇÃO DO VEICULO NULO, AGORA IREMOS JUNTAR ELA EM UMA UNICA BASE, POIS ESSES DADOS SÃO DA DEMANDA DO SISTEMA E NÃO DEVEM SER DROPADOS!  '"
      ]
     },
     "execution_count": 3,
     "metadata": {},
     "output_type": "execute_result"
    }
   ],
   "source": [
    "''' AGORA A BASE \"mes\" TEM OS DADOS DAS VALIDAÇÕES COM IDENTIFICAÇÃO DE VEICULO DO TIPO NUMERICA FORMATADO E A BASE \"dados_CARACTERS' TEM AQUELAS VALIDAÇÕES COM DADOS DE IDENTIFICAÇÃO DO VEICULO NULO, AGORA IREMOS JUNTAR ELA EM UMA UNICA BASE, POIS ESSES DADOS SÃO DA DEMANDA DO SISTEMA E NÃO DEVEM SER DROPADOS!  '''"
   ]
  },
  {
   "cell_type": "code",
   "execution_count": null,
   "id": "f9bb41ee",
   "metadata": {
    "scrolled": true
   },
   "outputs": [],
   "source": [
    "# mes_all = pd.concat([mes, dados_CARACTERS])"
   ]
  },
  {
   "cell_type": "code",
   "execution_count": null,
   "id": "e8e9d581",
   "metadata": {},
   "outputs": [],
   "source": [
    "# mes_all"
   ]
  },
  {
   "cell_type": "code",
   "execution_count": null,
   "id": "726a89ee",
   "metadata": {},
   "outputs": [],
   "source": [
    "# Base tratrada do mes\n",
    "# mes_all"
   ]
  },
  {
   "cell_type": "code",
   "execution_count": null,
   "id": "401a4580",
   "metadata": {},
   "outputs": [],
   "source": [
    "# Info da base \n",
    "# mes_all.info()"
   ]
  },
  {
   "cell_type": "code",
   "execution_count": null,
   "id": "80b8f68e",
   "metadata": {},
   "outputs": [],
   "source": [
    "# mes_all.to_csv('bilhetagem_tratada_112018')"
   ]
  },
  {
   "cell_type": "markdown",
   "id": "fdfcff1e",
   "metadata": {},
   "source": [
    "# 1.2 Dicionário"
   ]
  },
  {
   "cell_type": "markdown",
   "id": "6e68af20",
   "metadata": {},
   "source": [
    "## 1.2.1 Tratamento inicial"
   ]
  },
  {
   "cell_type": "code",
   "execution_count": null,
   "id": "bb3644bb",
   "metadata": {},
   "outputs": [],
   "source": [
    "# df', abaixo:\n",
    "d1 = pd.read_csv('veiculos2018.csv', sep= ';')"
   ]
  },
  {
   "cell_type": "code",
   "execution_count": null,
   "id": "f55c6e12",
   "metadata": {},
   "outputs": [],
   "source": [
    "# Base bruta\n",
    "d1"
   ]
  },
  {
   "cell_type": "code",
   "execution_count": null,
   "id": "78cd30dc",
   "metadata": {},
   "outputs": [],
   "source": [
    "d1.info()"
   ]
  },
  {
   "cell_type": "code",
   "execution_count": null,
   "id": "67329c90",
   "metadata": {},
   "outputs": [],
   "source": [
    "# Dados nulos\n",
    "d1.isnull().sum()"
   ]
  },
  {
   "cell_type": "code",
   "execution_count": null,
   "id": "10cba2eb",
   "metadata": {
    "scrolled": false
   },
   "outputs": [],
   "source": [
    "d1[d1['cod_veiculo'].str.contains('2018')]"
   ]
  },
  {
   "cell_type": "code",
   "execution_count": 4,
   "id": "74e95333",
   "metadata": {},
   "outputs": [
    {
     "data": {
      "text/plain": [
       "' SERÃO REMOVIDOS OS CARACTERS DE CADA LINHADOS DADOS DA COLUNA COD_VEICULO PARA COMPARAÇÃO NO TOPICO 1.1.2 ! '"
      ]
     },
     "execution_count": 4,
     "metadata": {},
     "output_type": "execute_result"
    }
   ],
   "source": [
    "''' SERÃO REMOVIDOS OS CARACTERS DE CADA LINHADOS DADOS DA COLUNA COD_VEICULO PARA COMPARAÇÃO NO TOPICO 1.1.2 ! '''"
   ]
  },
  {
   "cell_type": "code",
   "execution_count": null,
   "id": "3437f23a",
   "metadata": {},
   "outputs": [],
   "source": [
    "# Convertendo dados para tipo caracters\n",
    "d1['cod_veiculo'] = d1['cod_veiculo'].astype('str')"
   ]
  },
  {
   "cell_type": "code",
   "execution_count": null,
   "id": "6d3c20c3",
   "metadata": {},
   "outputs": [],
   "source": [
    "# Removendo caracteres da coluna de cod_veiculo\n",
    "d1['cod_veiculo'] = d1['cod_veiculo'].replace({'\\D': ''}, regex=True)"
   ]
  },
  {
   "cell_type": "code",
   "execution_count": null,
   "id": "6e32129f",
   "metadata": {},
   "outputs": [],
   "source": [
    "# Dados nulos apos remoção dos caracters\n",
    "d1.isnull().sum()"
   ]
  },
  {
   "cell_type": "code",
   "execution_count": null,
   "id": "9743033d",
   "metadata": {},
   "outputs": [],
   "source": [
    "# Dropando linhas que estão com cod_veiculo vazias, ou seja, todas informação contida era catacters\n",
    "d1 = d1[d1['cod_veiculo']!=\"\"]"
   ]
  },
  {
   "cell_type": "code",
   "execution_count": null,
   "id": "9d2dac2b",
   "metadata": {},
   "outputs": [],
   "source": [
    "d1['cod_veiculo'] = d1['cod_veiculo'].astype('int32')  \n",
    "d1['id_veiculo'] = d1['id_veiculo'].astype('int32') "
   ]
  },
  {
   "cell_type": "code",
   "execution_count": null,
   "id": "1c41e52b",
   "metadata": {},
   "outputs": [],
   "source": [
    "d1"
   ]
  },
  {
   "cell_type": "markdown",
   "id": "63e67fe4",
   "metadata": {},
   "source": [
    "## 1.2.2 Verificação de dados do dicionario presentes no GPS e Bilhetagem"
   ]
  },
  {
   "cell_type": "markdown",
   "id": "40a0e798",
   "metadata": {},
   "source": [
    "### 1.2.2.1 GPS (Tratamento inicial)"
   ]
  },
  {
   "cell_type": "code",
   "execution_count": null,
   "id": "4f0b8442",
   "metadata": {},
   "outputs": [],
   "source": [
    "# leitura do base - GPS\n",
    "\n",
    "import pandas as pd\n",
    "\n",
    "# Definindo o número de linhas que você deseja ler\n",
    "numero_de_linhas_para_ler = 45000000  # Substitua pelo número desejado\n",
    "dtype_specification = {'longitude': 'float32', 'latitude': 'float32', 'vehicle_vehicleid': 'int32'}\n",
    "\n",
    "# Usando o pandas para ler o CSV, limitando o número de linhas com a opção nrows\n",
    "mes_ate_45_milhoes = pd.read_csv('Paint112018.csv',usecols=['latitude', 'longitude', 'metrictimestamp', 'vehicle_vehicleid'], dtype=dtype_specification, nrows=numero_de_linhas_para_ler)"
   ]
  },
  {
   "cell_type": "code",
   "execution_count": null,
   "id": "0fcc8e22",
   "metadata": {},
   "outputs": [],
   "source": [
    "# Lendo restante do arquivo\n",
    "mes_resto = pd.read_csv('Paint112018.csv', usecols=['latitude', 'longitude','metrictimestamp', 'vehicle_vehicleid'],dtype=dtype_specification, skiprows=range(1, numero_de_linhas_para_ler + 1))"
   ]
  },
  {
   "cell_type": "code",
   "execution_count": null,
   "id": "d80dc033",
   "metadata": {},
   "outputs": [],
   "source": [
    "# Juntando em um mesmo df\n",
    "GPS_I_H =  pd.concat([mes_ate_45_milhoes, mes_resto]) "
   ]
  },
  {
   "cell_type": "code",
   "execution_count": null,
   "id": "e3f4912f",
   "metadata": {},
   "outputs": [],
   "source": [
    "# Excluindo explicitamente variavel com dados do GPS separados\n",
    "del mes_ate_45_milhoes\n",
    "del mes_resto"
   ]
  },
  {
   "cell_type": "code",
   "execution_count": null,
   "id": "5aa808bf",
   "metadata": {},
   "outputs": [],
   "source": [
    "display(GPS_I_H.iloc[275])"
   ]
  },
  {
   "cell_type": "code",
   "execution_count": null,
   "id": "606a56d3",
   "metadata": {},
   "outputs": [],
   "source": [
    "GPS_I_H.info()"
   ]
  },
  {
   "cell_type": "code",
   "execution_count": null,
   "id": "6490efbe",
   "metadata": {},
   "outputs": [],
   "source": [
    "# FORMATANDO metrictimestamp do (GPS)\n",
    "GPS_I_H['momento'] = pd.to_datetime(GPS_I_H['metrictimestamp'],format= '%Y%m%d%H%M%S')"
   ]
  },
  {
   "cell_type": "code",
   "execution_count": null,
   "id": "fafcf8f5",
   "metadata": {},
   "outputs": [],
   "source": [
    "GPS_I_H.drop(columns=[\"metrictimestamp\"], axis= 1, inplace= True)"
   ]
  },
  {
   "cell_type": "code",
   "execution_count": null,
   "id": "7780e89a",
   "metadata": {},
   "outputs": [],
   "source": [
    "# Renomear coluna de momento de vehicle_vehicleid para id_veiculo:\n",
    "GPS_I_H.columns=['latitude', 'longitude','id_veiculo', 'momento']"
   ]
  },
  {
   "cell_type": "code",
   "execution_count": null,
   "id": "0a256100",
   "metadata": {},
   "outputs": [],
   "source": [
    "# Colocando valores em ordem\n",
    "GPS_I_H.sort_values('momento', inplace= True)"
   ]
  },
  {
   "cell_type": "code",
   "execution_count": null,
   "id": "d87bd75c",
   "metadata": {},
   "outputs": [],
   "source": [
    "GPS_I_H.reset_index(inplace=True)\n",
    "GPS_I_H.drop(columns='index', inplace=True)"
   ]
  },
  {
   "cell_type": "code",
   "execution_count": null,
   "id": "97240235",
   "metadata": {},
   "outputs": [],
   "source": [
    "GPS_I_H.info()"
   ]
  },
  {
   "cell_type": "code",
   "execution_count": null,
   "id": "04e4b869",
   "metadata": {},
   "outputs": [],
   "source": [
    "GPS_I_H[GPS_I_H.id_veiculo==39100]"
   ]
  },
  {
   "cell_type": "code",
   "execution_count": null,
   "id": "b6d81a34",
   "metadata": {},
   "outputs": [],
   "source": [
    "GPS_I_H[GPS_I_H.id_veiculo==32988]"
   ]
  },
  {
   "cell_type": "code",
   "execution_count": 5,
   "id": "89e1c685",
   "metadata": {},
   "outputs": [
    {
     "data": {
      "text/plain": [
       "' APOS TRATAMENTO INICIAL DA BASE É POSSIVEL COMPARAÇÃO COM OS DADOS DO DICIONARIO'"
      ]
     },
     "execution_count": 5,
     "metadata": {},
     "output_type": "execute_result"
    }
   ],
   "source": [
    "''' APOS TRATAMENTO INICIAL DA BASE É POSSIVEL COMPARAÇÃO COM OS DADOS DO DICIONARIO'''"
   ]
  },
  {
   "cell_type": "markdown",
   "id": "0cab1130",
   "metadata": {},
   "source": [
    "### 1.2.2.2 Verificação dados do dicionario presentes no GPS\n",
    "''' Identificando somente os dados do dicinario que estão presentes no GPS! '''"
   ]
  },
  {
   "cell_type": "code",
   "execution_count": null,
   "id": "31533120",
   "metadata": {},
   "outputs": [],
   "source": [
    "# Filtrando que estão no dicionario e estão no GPS\n",
    "dados_em_d1_GPS = d1[d1['id_veiculo'].isin(GPS_I_H['id_veiculo'])]"
   ]
  },
  {
   "cell_type": "code",
   "execution_count": null,
   "id": "38351d73",
   "metadata": {},
   "outputs": [],
   "source": [
    "dados_em_d1_GPS.reset_index(inplace=True)\n",
    "dados_em_d1_GPS.drop(columns=['index'], inplace=True)"
   ]
  },
  {
   "cell_type": "code",
   "execution_count": null,
   "id": "149b9a47",
   "metadata": {},
   "outputs": [],
   "source": [
    "# Base dos dados do dicionario que possuem correspondentes no GPS\n",
    "dados_em_d1_GPS"
   ]
  },
  {
   "cell_type": "code",
   "execution_count": null,
   "id": "665aa625",
   "metadata": {
    "scrolled": true
   },
   "outputs": [],
   "source": [
    "# visualizando DUPLICADOS \n",
    "dados_em_d1_GPS[dados_em_d1_GPS['cod_veiculo'].duplicated(keep=False)]"
   ]
  },
  {
   "cell_type": "code",
   "execution_count": 6,
   "id": "d6b1c0bb",
   "metadata": {},
   "outputs": [
    {
     "data": {
      "text/plain": [
       "' Para um banco de dados e uma possivel mesclagem não é necessário dados que não serão relacionados, portanto não serão mesclados! ou seja, é necessário outra abordagem! '"
      ]
     },
     "execution_count": 6,
     "metadata": {},
     "output_type": "execute_result"
    }
   ],
   "source": [
    "''' Para um banco de dados e uma possivel mesclagem não é necessário dados que não serão relacionados, portanto não serão mesclados! ou seja, é necessário outra abordagem! '''"
   ]
  },
  {
   "cell_type": "markdown",
   "id": "52b2658d",
   "metadata": {},
   "source": [
    "### 1.2.2.3 Verificação dados do dicionario presentes na Bilhetagem\n",
    "''' Identificando somente os dados do dicinario que estão presentes no Bilhetagem! isso apos identificação dos dados que tambem posssuem correspondentes no GPS! '''"
   ]
  },
  {
   "cell_type": "code",
   "execution_count": null,
   "id": "3063f2ad",
   "metadata": {},
   "outputs": [],
   "source": [
    "# Filtrando que estão no dicionario e estão na bilhetagem\n",
    "dados_em_d1_GPS_bilhetagem = dados_em_d1_GPS[dados_em_d1_GPS['cod_veiculo'].isin(mes['prefixo_carro'])]"
   ]
  },
  {
   "cell_type": "code",
   "execution_count": null,
   "id": "ca5ddfba",
   "metadata": {},
   "outputs": [],
   "source": [
    "dados_em_d1_GPS_bilhetagem"
   ]
  },
  {
   "cell_type": "code",
   "execution_count": null,
   "id": "165f9bbd",
   "metadata": {},
   "outputs": [],
   "source": [
    "# visualizando DUPLICADOS \n",
    "duplicados_veiculos_d1 = dados_em_d1_GPS_bilhetagem[dados_em_d1_GPS_bilhetagem['cod_veiculo'].duplicated(keep=False)]"
   ]
  },
  {
   "cell_type": "code",
   "execution_count": null,
   "id": "d08658db",
   "metadata": {},
   "outputs": [],
   "source": [
    "duplicados_veiculos_d1"
   ]
  },
  {
   "cell_type": "code",
   "execution_count": 7,
   "id": "f06d2e98",
   "metadata": {},
   "outputs": [
    {
     "data": {
      "text/plain": [
       "' APOS, ESSE TRATAMENTO, A BASE \"dados_em_d1_GPS_bilhetagem\" POSSUI DADOS QUE ESTÃO NA BILHETAGEM E QUE ESTÃO NA BASE DO DICIONARIO E POSSUEM UM CORRESPONDENTE NA BASE DO GPS! '"
      ]
     },
     "execution_count": 7,
     "metadata": {},
     "output_type": "execute_result"
    }
   ],
   "source": [
    "''' APOS, ESSE TRATAMENTO, A BASE \"dados_em_d1_GPS_bilhetagem\" POSSUI DADOS QUE ESTÃO NA BILHETAGEM E QUE ESTÃO NA BASE DO DICIONARIO E POSSUEM UM CORRESPONDENTE NA BASE DO GPS! '''"
   ]
  },
  {
   "cell_type": "code",
   "execution_count": 8,
   "id": "63315dc6",
   "metadata": {
    "scrolled": true
   },
   "outputs": [
    {
     "data": {
      "text/plain": [
       "\" CONTUDO, APRESENTA AINDA ID'S DE VEICULOS COM DADOS DUPLICADOS DE IDENTIFICAÇÃO NA BILHETAGEM E QUE POSSUE REGISTROS NO GPS (COM IDENTIFICAÇÃO PROPRIA), EM UMA POSSIVEL MESCLAGEM, ISSO NÃO LEVA A OCORRENCIA DE ERRO DA LOCALIZAÇÃO DO USUARIO, POIS MESMO TENDO UMA IDENTIFAÇÃO IGUAL DA BILHETAGEM, ELA POSSUE IDENTIFICAÇÃO DIFERENTE NO GPS E ESSA JUNÇÃO LEVA EM CONSIDERAÇÃO O CRITERIO DE TEMPO! MAS NA PRIMERIA MESCLAGEM TERÃO DUAS ASSOCIAÇÕES DE UM USUARIO COM ESSES DOIS VEICULO NO DICIONARIO, QUE LEVA A OCORRENCIA DE DADOS DUPLICADOS DO USUARIO E DE LOCALIZAÇÃO EM DOIS VEICULOS DIFERENTES! \""
      ]
     },
     "execution_count": 8,
     "metadata": {},
     "output_type": "execute_result"
    }
   ],
   "source": [
    "''' CONTUDO, APRESENTA AINDA ID'S DE VEICULOS COM DADOS DUPLICADOS DE IDENTIFICAÇÃO NA BILHETAGEM E QUE POSSUE REGISTROS NO GPS (COM IDENTIFICAÇÃO PROPRIA), EM UMA POSSIVEL MESCLAGEM, ISSO NÃO LEVA A OCORRENCIA DE ERRO DA LOCALIZAÇÃO DO USUARIO, POIS MESMO TENDO UMA IDENTIFAÇÃO IGUAL DA BILHETAGEM, ELA POSSUE IDENTIFICAÇÃO DIFERENTE NO GPS E ESSA JUNÇÃO LEVA EM CONSIDERAÇÃO O CRITERIO DE TEMPO! MAS NA PRIMERIA MESCLAGEM TERÃO DUAS ASSOCIAÇÕES DE UM USUARIO COM ESSES DOIS VEICULO NO DICIONARIO, QUE LEVA A OCORRENCIA DE DADOS DUPLICADOS DO USUARIO E DE LOCALIZAÇÃO EM DOIS VEICULOS DIFERENTES! '''"
   ]
  },
  {
   "cell_type": "code",
   "execution_count": 9,
   "id": "2a66e16c",
   "metadata": {
    "scrolled": true
   },
   "outputs": [
    {
     "data": {
      "text/plain": [
       "' MAS PARA UM RELACIONAMENTO EM UM BANCO DE DADOS RELACIONAL DE MUITOS PARA MUITOS É NECESSÁRIO QUE A TERCEIRA TABELA QUE RELACIONA AS DEMAIS SEJA COM DADOS UNICOS! '"
      ]
     },
     "execution_count": 9,
     "metadata": {},
     "output_type": "execute_result"
    }
   ],
   "source": [
    "''' MAS PARA UM RELACIONAMENTO EM UM BANCO DE DADOS RELACIONAL DE MUITOS PARA MUITOS É NECESSÁRIO QUE A TERCEIRA TABELA QUE RELACIONA AS DEMAIS SEJA COM DADOS UNICOS! '''"
   ]
  },
  {
   "cell_type": "markdown",
   "id": "27871cd0",
   "metadata": {},
   "source": [
    "### 1.2.2.4 Verificação espacial do lat,lon das validações duplicadas\n",
    "''' Será feito o georreferenciamento da base mantendo os dados duplicados do dicionario e verificado as validações duplicadas espacialmente! '''"
   ]
  },
  {
   "cell_type": "markdown",
   "id": "26d266e4",
   "metadata": {},
   "source": [
    "#### 1.2.2.4.1 Realizando mesclagem das bases para localização das validações\n",
    "''' Localização da base da bilhetagem para validações dos dados que possuem no dicionario um correspondente no GPS! '''"
   ]
  },
  {
   "cell_type": "code",
   "execution_count": null,
   "id": "a1f1ffbf",
   "metadata": {},
   "outputs": [],
   "source": [
    "# 1ª MESCLAGEM: Acrescentando dicionário\n",
    "mes_d1 = mes.merge(dados_em_d1_GPS_bilhetagem, left_on= 'prefixo_carro', right_on='cod_veiculo')"
   ]
  },
  {
   "cell_type": "code",
   "execution_count": null,
   "id": "039017d1",
   "metadata": {},
   "outputs": [],
   "source": [
    "mes_d1.drop(columns='cod_veiculo', inplace=True)"
   ]
  },
  {
   "cell_type": "code",
   "execution_count": null,
   "id": "a1c23065",
   "metadata": {
    "scrolled": true
   },
   "outputs": [],
   "source": [
    "mes_d1.isnull().sum()"
   ]
  },
  {
   "cell_type": "code",
   "execution_count": null,
   "id": "ffa6c9f3",
   "metadata": {},
   "outputs": [],
   "source": [
    "mes_d1.sort_values('momento', inplace=True)"
   ]
  },
  {
   "cell_type": "code",
   "execution_count": null,
   "id": "2a55c0cb",
   "metadata": {},
   "outputs": [],
   "source": [
    "mes_d1.info()"
   ]
  },
  {
   "cell_type": "code",
   "execution_count": null,
   "id": "0679fb28",
   "metadata": {},
   "outputs": [],
   "source": [
    "# 2ª MESCLAGEM: Acrescentando dados do GPS à bilhetagem com dicionário\n",
    "mes_geo = pd.merge_asof(mes_d1, GPS_I_H, left_on='momento', right_on='momento', by='id_veiculo', direction ='nearest')"
   ]
  },
  {
   "cell_type": "code",
   "execution_count": null,
   "id": "edd073be",
   "metadata": {},
   "outputs": [],
   "source": [
    "mes_geo"
   ]
  },
  {
   "cell_type": "code",
   "execution_count": null,
   "id": "52757d38",
   "metadata": {},
   "outputs": [],
   "source": [
    "del mes_d1"
   ]
  },
  {
   "cell_type": "markdown",
   "id": "96db4bf1",
   "metadata": {},
   "source": [
    "#### 1.2.2.4.2 Verificação espacial do lat,lon"
   ]
  },
  {
   "cell_type": "code",
   "execution_count": null,
   "id": "2f7ea0de",
   "metadata": {
    "scrolled": true
   },
   "outputs": [],
   "source": [
    "# Visualizando identifcação de veciulos duplicados que levaram a georreferenciamento duplicado\n",
    "duplicados_veiculos_d1"
   ]
  },
  {
   "cell_type": "markdown",
   "id": "f5fcb3d4",
   "metadata": {},
   "source": [
    "#### _FILTRAGEM DE VEICULO DA BILHETAGEM_"
   ]
  },
  {
   "cell_type": "code",
   "execution_count": null,
   "id": "ffd0839a",
   "metadata": {
    "scrolled": true
   },
   "outputs": [],
   "source": [
    "# Seleciando um veiculo duplicado aleatorio \n",
    "linha_aleatoria = duplicados_veiculos_d1.sample(n=1)\n",
    "cod_duplicado = duplicados_veiculos_d1[duplicados_veiculos_d1['cod_veiculo'].isin(linha_aleatoria['cod_veiculo'])]"
   ]
  },
  {
   "cell_type": "code",
   "execution_count": null,
   "id": "f9d42e5c",
   "metadata": {},
   "outputs": [],
   "source": [
    "cod_duplicado"
   ]
  },
  {
   "cell_type": "code",
   "execution_count": null,
   "id": "c9c0d765",
   "metadata": {},
   "outputs": [],
   "source": [
    "id_linha = cod_duplicado['id_veiculo'].values"
   ]
  },
  {
   "cell_type": "code",
   "execution_count": null,
   "id": "ad8b7a6e",
   "metadata": {},
   "outputs": [],
   "source": [
    "id_linha"
   ]
  },
  {
   "cell_type": "code",
   "execution_count": null,
   "id": "b604f452",
   "metadata": {},
   "outputs": [],
   "source": [
    "# Filtragem de dados de veiculo especifico que possue validações duplicadas\n",
    "veiculo_duplicado = mes_geo[mes_geo['id_veiculo'].isin(id_linha)]"
   ]
  },
  {
   "cell_type": "code",
   "execution_count": null,
   "id": "28073a76",
   "metadata": {},
   "outputs": [],
   "source": [
    "veiculo_duplicado"
   ]
  },
  {
   "cell_type": "code",
   "execution_count": null,
   "id": "193eb484",
   "metadata": {},
   "outputs": [],
   "source": [
    "# Verificando duplicatas (momento e mesma usuario e mesmo veiculo!)\n",
    "duplicados_usuarios = veiculo_duplicado.duplicated(subset=['id','prefixo_carro','momento'], keep=False)\n",
    "\n",
    "# Exibindo as linhas duplicadas\n",
    "validacoes_duplicadas = veiculo_duplicado[duplicados_usuarios]"
   ]
  },
  {
   "cell_type": "code",
   "execution_count": null,
   "id": "2af3e2b0",
   "metadata": {
    "scrolled": true
   },
   "outputs": [],
   "source": [
    "# TODAS AS VALIDAÇÕES DUPLICADAS \n",
    "validacoes_duplicadas"
   ]
  },
  {
   "cell_type": "code",
   "execution_count": null,
   "id": "ccb88fa4",
   "metadata": {},
   "outputs": [],
   "source": [
    "# Filtando duas validações aleatórias no mesmo momento\n",
    "validacoes_momento = validacoes_duplicadas[duplicados_usuarios].sample(n=1)\n",
    "validacoes_momento_duplicado = validacoes_duplicadas[validacoes_duplicadas['momento'].isin(validacoes_momento['momento'])]"
   ]
  },
  {
   "cell_type": "code",
   "execution_count": null,
   "id": "26588ce0",
   "metadata": {},
   "outputs": [],
   "source": [
    "validacoes_momento_duplicado"
   ]
  },
  {
   "cell_type": "code",
   "execution_count": null,
   "id": "8198e799",
   "metadata": {},
   "outputs": [],
   "source": [
    "lat = validacoes_momento_duplicado['latitude'].mean()\n",
    "lon = validacoes_momento_duplicado['longitude'].mean()"
   ]
  },
  {
   "cell_type": "code",
   "execution_count": null,
   "id": "b018afb3",
   "metadata": {},
   "outputs": [],
   "source": [
    "# !pip install -q folium"
   ]
  },
  {
   "cell_type": "code",
   "execution_count": null,
   "id": "f3e7235e",
   "metadata": {},
   "outputs": [],
   "source": [
    "# Criando um mapa centrado em FORTALEZA\n",
    "import folium\n",
    "from folium.plugins import MarkerCluster\n",
    "\n",
    "mapa = folium.Map(location=[lat, lon], zoom_start=5)\n",
    "\n",
    "# Adicionando marcadores circulares ao mapa\n",
    "marker_cluster = MarkerCluster().add_to(mapa)\n",
    "\n",
    "def popup_content(id_veiculo, id_veiculo_clicado):\n",
    "    cor_popup = 'blue' if id_veiculo != id_veiculo_clicado else 'red'\n",
    "    return f'<div style=\"color: {cor_popup};\">{id_veiculo}</div>'\n",
    "\n",
    "for index, row in validacoes_momento_duplicado.iterrows():\n",
    "    folium.CircleMarker(location=[row['latitude'], row['longitude']],\n",
    "                        radius=10,\n",
    "                        color='blue',\n",
    "                        fill=True,\n",
    "                        fill_color='blue',\n",
    "                        fill_opacity=0.6,\n",
    "                        popup=folium.Popup(popup_content(row['id_veiculo'], ''), max_width=300)).add_to(marker_cluster)"
   ]
  },
  {
   "cell_type": "code",
   "execution_count": null,
   "id": "967c72ef",
   "metadata": {
    "scrolled": true
   },
   "outputs": [],
   "source": [
    "mapa"
   ]
  },
  {
   "cell_type": "code",
   "execution_count": 10,
   "id": "daf89438",
   "metadata": {},
   "outputs": [
    {
     "data": {
      "text/plain": [
       "' OU SEJA, REALMENTE UM MESMO USUARIO EM UM MESMO VEICULO, EM UM MESMO MOMENTO DE VALIDAÇÃO, SE FOR FEITA A LOCALIZAÇÃO DA BILHETAGEM DEIXANDO OS DADOS DE IDENTIFICAÇÃO DOS COM DOIS VEICULOS DIFERENTES NO GPS LEVA A DUAS LOCALIZAÇÕES PARA UMA MESMA VALIDAÇÃO. CONTUDO, NOTA-SE QUE ESSES LUGARES SÃO PROXIMOS, ISTO É, SE NÃO CONSIDERAR OS REGISTROS DUPLICADOS DO DICIONARIO NO GPS E FIZER A LOCALIAÇÃO ELA ESTÁ CORRETA BASEADO NO METODO, POIS SE DESEJA A LOCALIZAÇÃO APROXIMADA DE VALIDAÇÃO!!  '"
      ]
     },
     "execution_count": 10,
     "metadata": {},
     "output_type": "execute_result"
    }
   ],
   "source": [
    "''' OU SEJA, REALMENTE UM MESMO USUARIO EM UM MESMO VEICULO, EM UM MESMO MOMENTO DE VALIDAÇÃO, SE FOR FEITA A LOCALIZAÇÃO DA BILHETAGEM DEIXANDO OS DADOS DE IDENTIFICAÇÃO DOS COM DOIS VEICULOS DIFERENTES NO GPS LEVA A DUAS LOCALIZAÇÕES PARA UMA MESMA VALIDAÇÃO. CONTUDO, NOTA-SE QUE ESSES LUGARES SÃO PROXIMOS, ISTO É, SE NÃO CONSIDERAR OS REGISTROS DUPLICADOS DO DICIONARIO NO GPS E FIZER A LOCALIAÇÃO ELA ESTÁ CORRETA BASEADO NO METODO, POIS SE DESEJA A LOCALIZAÇÃO APROXIMADA DE VALIDAÇÃO!!  '''"
   ]
  },
  {
   "cell_type": "markdown",
   "id": "622f830b",
   "metadata": {},
   "source": [
    "# 1.3 GPS\n",
    "''' Base ja teve adequação do formato dos dados, agora será vista a consistência dos registros! '''"
   ]
  },
  {
   "cell_type": "markdown",
   "id": "aafa5d89",
   "metadata": {},
   "source": [
    "## 1.3.1 Inspeção inicial"
   ]
  },
  {
   "cell_type": "code",
   "execution_count": null,
   "id": "a9ba3b65",
   "metadata": {},
   "outputs": [],
   "source": []
  },
  {
   "cell_type": "code",
   "execution_count": null,
   "id": "eb20e2fe",
   "metadata": {},
   "outputs": [],
   "source": []
  },
  {
   "cell_type": "markdown",
   "id": "718499d1",
   "metadata": {},
   "source": [
    "# ------------------------------------------------------------------------"
   ]
  }
 ],
 "metadata": {
  "kernelspec": {
   "display_name": "Python 3 (ipykernel)",
   "language": "python",
   "name": "python3"
  },
  "language_info": {
   "codemirror_mode": {
    "name": "ipython",
    "version": 3
   },
   "file_extension": ".py",
   "mimetype": "text/x-python",
   "name": "python",
   "nbconvert_exporter": "python",
   "pygments_lexer": "ipython3",
   "version": "3.9.12"
  }
 },
 "nbformat": 4,
 "nbformat_minor": 5
}
