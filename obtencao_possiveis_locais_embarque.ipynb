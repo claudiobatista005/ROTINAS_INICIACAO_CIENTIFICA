{
 "cells": [
  {
   "cell_type": "markdown",
   "id": "4c29b47f",
   "metadata": {},
   "source": [
    "# Algoritmo - Obtendo possíveis locais de embarque\n",
    "### _Autor: Antônio Claudio Dutra Batista_\n",
    "### _Orientador: Francisco Moraes de Oliveria Neto_\n",
    "### _Metodologia: Critério de validação após o embarque e verificação da demanda em trecho especifico_"
   ]
  },
  {
   "cell_type": "markdown",
   "id": "1cdb4f1b",
   "metadata": {},
   "source": [
    "# 1.0 Importação de dados da bilhetagem\n",
    "    ''' Importação e filtragem do trecho de interesse para obtenção dos possiveis locias de embarque '''"
   ]
  },
  {
   "cell_type": "code",
   "execution_count": null,
   "id": "940f8f34",
   "metadata": {},
   "outputs": [],
   "source": [
    "# Importando dataframe com validações georreferenciadas (dia de interesse)\n",
    "import pandas as pd\n",
    "bilhetagem = pd.read_csv(\"2018-11-01_geo.csv\", usecols= ['id', 'linha', 'nome_linha', 'prefixo_carro', 'nome_cartao', 'sentido_viagem', 'momento', 'id_veiculo', 'latitude', 'longitude', 'cod_veiculo'], sep=',')"
   ]
  },
  {
   "cell_type": "code",
   "execution_count": null,
   "id": "0d7ee043",
   "metadata": {
    "scrolled": true
   },
   "outputs": [],
   "source": [
    "bilhetagem"
   ]
  },
  {
   "cell_type": "code",
   "execution_count": null,
   "id": "744f7726",
   "metadata": {},
   "outputs": [],
   "source": [
    "# Filtrando validações no trecho de interesse\n",
    "''' (A PARTIR DA ESTAÇÃO DO NORTHSHOPING E 120 METROS APOS A ULTIMA ESTAÇÃO) '''\n",
    "validacoes_trecho = bilhetagem[(bilhetagem.latitude>=-3.736013)\n",
    "    & (bilhetagem.longitude>=-38.566300) & (bilhetagem.longitude<=-38.542240) \n",
    "                                & (bilhetagem.latitude<=-3.731021)]"
   ]
  },
  {
   "cell_type": "code",
   "execution_count": null,
   "id": "204e69ff",
   "metadata": {},
   "outputs": [],
   "source": [
    "linha = validacoes_trecho[validacoes_trecho.linha==26]"
   ]
  },
  {
   "cell_type": "code",
   "execution_count": null,
   "id": "9d10f7ce",
   "metadata": {},
   "outputs": [],
   "source": [
    "linha"
   ]
  },
  {
   "cell_type": "code",
   "execution_count": null,
   "id": "efb33306",
   "metadata": {},
   "outputs": [],
   "source": [
    "# Filtrando de horario especifico (caso necessário)\n",
    "# validacoes_trecho = bilhetagem[(bilhetagem.momento>='2018-11-01 18:00:00') & (bilhetagem.momento<='2018-11-01 19:00:00')]"
   ]
  },
  {
   "cell_type": "code",
   "execution_count": null,
   "id": "f693f865",
   "metadata": {},
   "outputs": [],
   "source": [
    "# Criando coluna gemetrica \n",
    "from shapely import Point\n",
    "validacoes_trecho['geometry'] = validacoes_trecho.apply(lambda x: Point((float(x.longitude), float(x.latitude))), axis=1)"
   ]
  },
  {
   "cell_type": "code",
   "execution_count": null,
   "id": "93f6b05c",
   "metadata": {},
   "outputs": [],
   "source": [
    "# Criando um geodataframe com os dados de localização das paradas no trecho\n",
    "import geopandas as gpd \n",
    "validacoes_trecho = gpd.GeoDataFrame(validacoes_trecho, geometry='geometry')"
   ]
  },
  {
   "cell_type": "code",
   "execution_count": null,
   "id": "805b5799",
   "metadata": {
    "scrolled": false
   },
   "outputs": [],
   "source": [
    "validacoes_trecho"
   ]
  },
  {
   "cell_type": "markdown",
   "id": "4ad22a57",
   "metadata": {},
   "source": [
    "# 2.0 Importação dos dados do GTFS \n",
    "    ''' Importação da base com paradas e suas respectivas localizações para filtragem das paradas no trecho de interesse '''"
   ]
  },
  {
   "cell_type": "code",
   "execution_count": null,
   "id": "33ba806e",
   "metadata": {},
   "outputs": [],
   "source": [
    "# Importando base com locais previstos de parada\n",
    "stops_paradas = pd.read_csv('stops.txt', sep= ',')"
   ]
  },
  {
   "cell_type": "code",
   "execution_count": null,
   "id": "cf18712c",
   "metadata": {},
   "outputs": [],
   "source": [
    "# Removendo colunas desnecessárias do df com paradas \n",
    "stops_paradas.drop(columns= ['stop_code', 'stop_desc', 'zone_id', 'stop_url', 'location_type', 'parent_station', 'stop_timezone', 'wheelchair_boarding'], inplace=True)"
   ]
  },
  {
   "cell_type": "code",
   "execution_count": null,
   "id": "5ec6e6d3",
   "metadata": {},
   "outputs": [],
   "source": [
    "# Filtrando paradas no trecho de interesse\n",
    "paradas_trecho = stops_paradas[(stops_paradas.stop_lat>=-3.736070)\n",
    "    & (stops_paradas.stop_lon>=-38.566688) & (stops_paradas.stop_lon<=-38.543328) \n",
    "                                & (stops_paradas.stop_lat<=-3.731264)]"
   ]
  },
  {
   "cell_type": "code",
   "execution_count": null,
   "id": "bd0af062",
   "metadata": {},
   "outputs": [],
   "source": [
    "# Criando coluna gemetrica \n",
    "paradas_trecho['geometry'] = paradas_trecho.apply(lambda x: Point((float(x.stop_lon), float(x.stop_lat))), axis=1)"
   ]
  },
  {
   "cell_type": "code",
   "execution_count": null,
   "id": "67c8662e",
   "metadata": {},
   "outputs": [],
   "source": [
    "# Criando um geodataframe com os dados de localização das paradas no trecho\n",
    "paradas_trecho = gpd.GeoDataFrame(paradas_trecho, geometry='geometry')"
   ]
  },
  {
   "cell_type": "code",
   "execution_count": null,
   "id": "e0cd3fbd",
   "metadata": {},
   "outputs": [],
   "source": [
    "paradas_trecho"
   ]
  },
  {
   "cell_type": "code",
   "execution_count": 1,
   "id": "c1d1bd9a",
   "metadata": {},
   "outputs": [
    {
     "data": {
      "text/plain": [
       "' Visualizando paradas no trecho '"
      ]
     },
     "execution_count": 1,
     "metadata": {},
     "output_type": "execute_result"
    }
   ],
   "source": [
    "''' Visualizando paradas no trecho '''"
   ]
  },
  {
   "cell_type": "code",
   "execution_count": null,
   "id": "28e7aa17",
   "metadata": {
    "scrolled": true
   },
   "outputs": [],
   "source": [
    "# importando biblioteca folium e plugins\n",
    "import folium \n",
    "from folium.plugins import FastMarkerCluster\n",
    "from folium.plugins import MarkerCluster\n",
    "\n",
    "# Criando media para visulização do mapa proximo a região dos dados geometricos\n",
    "lon = paradas_trecho['stop_lon'].mean()\n",
    "lat = paradas_trecho['stop_lat'].mean()"
   ]
  },
  {
   "cell_type": "code",
   "execution_count": null,
   "id": "1ef2f602",
   "metadata": {},
   "outputs": [],
   "source": [
    "# Definindo a função para criar o conteúdo do popup\n",
    "def popup_content(stop_name):\n",
    "    return f\"<b>Nome da Parada:</b> {stop_name}\"\n",
    "\n",
    "# Criando um mapa centrado em FORTALEZA\n",
    "mapa = folium.Map(location=[lat, lon], zoom_start=5)\n",
    "\n",
    "# Adicionando marcadores circulares ao mapa\n",
    "marker_cluster = MarkerCluster().add_to(mapa)\n",
    "\n",
    "for index, row in paradas_trecho.iterrows():\n",
    "    folium.CircleMarker(location=[row['stop_lat'], row['stop_lon']],\n",
    "                        radius=10,\n",
    "                        color='black',\n",
    "                        fill=True,\n",
    "                        fill_color='red',\n",
    "                        fill_opacity=0.6,\n",
    "                        popup=folium.Popup(popup_content(row['stop_name']), max_width=300)).add_to(marker_cluster)"
   ]
  },
  {
   "cell_type": "code",
   "execution_count": null,
   "id": "7c276a31",
   "metadata": {
    "scrolled": false
   },
   "outputs": [],
   "source": [
    "mapa"
   ]
  },
  {
   "cell_type": "code",
   "execution_count": 2,
   "id": "bffdcdfd",
   "metadata": {},
   "outputs": [
    {
     "data": {
      "text/plain": [
       "' Como no trecho de interesse somente tem informações da localizaçao das estações, então vamos deixar somente estas, pois são as que serão utilizadas no metodo para estimação do possivel lical de validação! '"
      ]
     },
     "execution_count": 2,
     "metadata": {},
     "output_type": "execute_result"
    }
   ],
   "source": [
    "''' Como no trecho de interesse somente tem informações da localizaçao das estações, então vamos deixar somente estas, pois são as que serão utilizadas no metodo para estimação do possivel lical de validação! '''"
   ]
  },
  {
   "cell_type": "code",
   "execution_count": null,
   "id": "cfe424ee",
   "metadata": {},
   "outputs": [],
   "source": [
    "paradas_estacoes = paradas_trecho[paradas_trecho['stop_name'].str.contains('ESTAÇÃO ')]"
   ]
  },
  {
   "cell_type": "code",
   "execution_count": null,
   "id": "12de7f3e",
   "metadata": {},
   "outputs": [],
   "source": [
    "paradas_estacoes"
   ]
  },
  {
   "cell_type": "markdown",
   "id": "be299adb",
   "metadata": {},
   "source": [
    "# 3.0 Estimando possiveis locais de validação\n",
    "    ''' Criterio que para cada validação pegando a estação anterior mais proxima adimitindo que esse seja o possivel local de validação '''"
   ]
  },
  {
   "cell_type": "code",
   "execution_count": null,
   "id": "97899ddc",
   "metadata": {},
   "outputs": [],
   "source": [
    "from shapely.geometry import Point\n",
    "\n",
    "# Função para encontrar a estação mais próxima para uma determinada validação de ônibus\n",
    "def encontrar_estacao_anterior(validacoes_trecho, paradas_estacoes):\n",
    "    ponto_validacao = validacoes_trecho['geometry']\n",
    "    \n",
    "    # Variáveis para armazenar a estação mais próxima e sua distância\n",
    "    estacao_mais_proxima = None\n",
    "    menor_distancia = float('inf') # Inicializando com um valor grande\n",
    "    \n",
    "    # Iterando sobre cada linha no DataFrame de estações\n",
    "    for estacao_index, estacao in paradas_estacoes.iterrows():\n",
    "        ponto_estacao = estacao['geometry']\n",
    "        distancia = ponto_validacao.distance(ponto_estacao)\n",
    "        \n",
    "        # Verificando se as estações são mais próxima do que as anteriores\n",
    "        if distancia < menor_distancia:\n",
    "            menor_distancia = distancia\n",
    "            estacao_mais_proxima = ponto_estacao\n",
    "    \n",
    "    return estacao_mais_proxima"
   ]
  },
  {
   "cell_type": "code",
   "execution_count": null,
   "id": "0dae50a0",
   "metadata": {},
   "outputs": [],
   "source": [
    "# Aplique a função a cada linha do DataFrame de validações de ônibus\n",
    "validacoes_trecho['estacao_anterior'] = validacoes_trecho.apply(lambda x: encontrar_estacao_anterior(x, paradas_estacoes), axis=1)"
   ]
  },
  {
   "cell_type": "code",
   "execution_count": null,
   "id": "2ff9447b",
   "metadata": {},
   "outputs": [],
   "source": [
    "validacoes_trecho"
   ]
  },
  {
   "cell_type": "markdown",
   "id": "bf92252c",
   "metadata": {},
   "source": [
    "## 4.0 Contagem de validações por estação "
   ]
  },
  {
   "cell_type": "code",
   "execution_count": null,
   "id": "1f252371",
   "metadata": {},
   "outputs": [],
   "source": [
    "# Contagem da quantidade de validações por estações \n",
    "quantidade_validacao = gpd.GeoDataFrame(validacoes_trecho['estacao_anterior'].value_counts())"
   ]
  },
  {
   "cell_type": "code",
   "execution_count": null,
   "id": "c7ecffe8",
   "metadata": {},
   "outputs": [],
   "source": [
    "# Contagem da quantidade de validações por estações\n",
    "contagem_validacoes = gpd.GeoDataFrame(validacoes_trecho['estacao_anterior'].value_counts())\n",
    "contagem_validacoes.columns = ['quantidade_validacoes']\n",
    "\n",
    "# Para colocar as informações da estação anterior e a contagem em colunas separadas\n",
    "contagem_validacoes['estacao_anterior'] = contagem_validacoes.index\n",
    "\n",
    "# Resetando o índice\n",
    "contagem_validacoes.reset_index(drop=True, inplace=True)"
   ]
  },
  {
   "cell_type": "code",
   "execution_count": null,
   "id": "dc6a74f3",
   "metadata": {},
   "outputs": [],
   "source": [
    "contagem_validacoes"
   ]
  },
  {
   "cell_type": "code",
   "execution_count": null,
   "id": "40b9f74b",
   "metadata": {},
   "outputs": [],
   "source": [
    "# Realizabdo dentifcação das estações pela lat, long\n",
    "validacoes_estacao = pd.merge(contagem_validacoes, paradas_estacoes, left_on='estacao_anterior',\n",
    "                              right_on=\"geometry\")"
   ]
  },
  {
   "cell_type": "code",
   "execution_count": null,
   "id": "87206315",
   "metadata": {},
   "outputs": [],
   "source": [
    "# Df com contagem de validações nas estações do trecho de interesse \n",
    "validacoes_estacao"
   ]
  },
  {
   "cell_type": "markdown",
   "id": "2bce0f45",
   "metadata": {},
   "source": [
    "# ------------------------------------------------------"
   ]
  }
 ],
 "metadata": {
  "kernelspec": {
   "display_name": "Python 3 (ipykernel)",
   "language": "python",
   "name": "python3"
  },
  "language_info": {
   "codemirror_mode": {
    "name": "ipython",
    "version": 3
   },
   "file_extension": ".py",
   "mimetype": "text/x-python",
   "name": "python",
   "nbconvert_exporter": "python",
   "pygments_lexer": "ipython3",
   "version": "3.9.12"
  }
 },
 "nbformat": 4,
 "nbformat_minor": 5
}
