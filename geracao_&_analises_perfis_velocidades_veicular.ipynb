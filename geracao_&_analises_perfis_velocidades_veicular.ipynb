{
 "cells": [
  {
   "cell_type": "markdown",
   "id": "4e8e0f7b",
   "metadata": {},
   "source": [
    "# --------------------------------------------------------------------------------------"
   ]
  },
  {
   "cell_type": "markdown",
   "id": "0d3152ac",
   "metadata": {},
   "source": [
    "# Algoritmo - Determinação das velocidades GPS\n",
    "### _Autor: Antônio Claudio Dutra Batista_\n",
    "### _Orientador: Francisco Moraes de Oliveira Neto_\n",
    "### _Metodologia: Velocidades médias entre os registros do GPS_\n",
    "''' As informações dos veículos no trecho foram obtidos pela integração da base da bilhegem a base do gps pelo criteiro de tempo mais próximo (Não foi localizado as validações em _TERMINAIS e em BRT´s_ , pois é de interesse saber as informações dos veculos das linhas filtradas e com seus veiculos em operação!) '''"
   ]
  },
  {
   "cell_type": "markdown",
   "id": "001b066f",
   "metadata": {},
   "source": [
    "# 1.0  Leitura das Bases"
   ]
  },
  {
   "cell_type": "code",
   "execution_count": null,
   "id": "b2cbbee3",
   "metadata": {},
   "outputs": [],
   "source": [
    "# Importando bibliotecas e funções necessárias \n",
    "import folium \n",
    "import numpy as np \n",
    "import pandas as pd\n",
    "import geopandas as gpd\n",
    "from shapely import Point\n",
    "import plotly.graph_objs as go\n",
    "from folium.plugins import FastMarkerCluster\n",
    "from folium.plugins import MarkerCluster"
   ]
  },
  {
   "cell_type": "markdown",
   "id": "40a0e798",
   "metadata": {},
   "source": [
    "## 1.1.0 leitura do base - GPS (Tratamento INICIAL)"
   ]
  },
  {
   "cell_type": "code",
   "execution_count": null,
   "id": "e8bd351c",
   "metadata": {},
   "outputs": [],
   "source": [
    "# Definindo o número de linhas que você deseja ler\n",
    "numero_de_linhas_para_ler = 45000000  # Substitua pelo número desejado\n",
    "dtype_specification = {'longitude': 'float32', 'latitude': 'float32', 'vehicle_vehicleid': 'int32'}\n",
    "\n",
    "# Usando o pandas para ler o CSV, limitando o número de linhas com a opção nrows\n",
    "mes_ate_45_milhoes = pd.read_csv('Paint112018.csv',usecols=['latitude', 'longitude', 'metrictimestamp', 'vehicle_vehicleid'], dtype=dtype_specification, nrows=numero_de_linhas_para_ler)"
   ]
  },
  {
   "cell_type": "code",
   "execution_count": null,
   "id": "ec503c87",
   "metadata": {
    "scrolled": true
   },
   "outputs": [],
   "source": [
    "# Lendo restante do arquivo\n",
    "mes_resto = pd.read_csv('Paint112018.csv', usecols=['latitude', 'longitude','metrictimestamp', 'vehicle_vehicleid'],dtype=dtype_specification, skiprows=range(1, numero_de_linhas_para_ler + 1))"
   ]
  },
  {
   "cell_type": "code",
   "execution_count": null,
   "id": "21e55def",
   "metadata": {},
   "outputs": [],
   "source": [
    "# Juntando em um mesmo df\n",
    "GPS_I_H =  pd.concat([mes_ate_45_milhoes, mes_resto]) "
   ]
  },
  {
   "cell_type": "code",
   "execution_count": null,
   "id": "c0dbb0de",
   "metadata": {},
   "outputs": [],
   "source": [
    "# Informações da base\n",
    "GPS_I_H.info()"
   ]
  },
  {
   "cell_type": "code",
   "execution_count": null,
   "id": "592f0147",
   "metadata": {},
   "outputs": [],
   "source": [
    "# Formatando coluna com informaçãoes de data\n",
    "GPS_I_H['momento'] = pd.to_datetime(GPS_I_H['metrictimestamp'],format= '%Y%m%d%H%M%S')"
   ]
  },
  {
   "cell_type": "code",
   "execution_count": null,
   "id": "16a1318f",
   "metadata": {},
   "outputs": [],
   "source": [
    "# Removendo coluna desnecessária \n",
    "GPS_I_H.drop(\"metrictimestamp\", axis= 1, inplace= True)"
   ]
  },
  {
   "cell_type": "code",
   "execution_count": null,
   "id": "6eb3cb11",
   "metadata": {},
   "outputs": [],
   "source": [
    "# Renomear coluna de vehicle_vehicleid para id_veiculo:\n",
    "GPS_I_H.columns=['latitude', 'longitude','id_veiculo', 'momento']"
   ]
  },
  {
   "cell_type": "code",
   "execution_count": null,
   "id": "5faf0671",
   "metadata": {},
   "outputs": [],
   "source": [
    "GPS_I_H.sort_values(\"momento\", inplace = True)"
   ]
  },
  {
   "cell_type": "code",
   "execution_count": null,
   "id": "3e56f7c5",
   "metadata": {},
   "outputs": [],
   "source": [
    "GPS_I_H"
   ]
  },
  {
   "cell_type": "code",
   "execution_count": 1,
   "id": "558b35d2",
   "metadata": {
    "scrolled": true
   },
   "outputs": [
    {
     "data": {
      "text/plain": [
       "' A coluna momento terá o mesmo nome da coluna de tempo da bilhetagem e apos a mesclagem para obter informaçõs dos veiculos associando as suas linhas de operação somente ira permanecer a coluna de monento da bilhetagem '"
      ]
     },
     "execution_count": 1,
     "metadata": {},
     "output_type": "execute_result"
    }
   ],
   "source": [
    "''' A coluna momento terá o mesmo nome da coluna de tempo da bilhetagem e apos a mesclagem para obter informaçõs dos veiculos associando as suas linhas de operação somente ira permanecer a coluna de monento da bilhetagem '''"
   ]
  },
  {
   "cell_type": "markdown",
   "id": "53c75e45",
   "metadata": {},
   "source": [
    "## 1.1.1 leitura da base - Bilhetagem (Tratamento Inicial)"
   ]
  },
  {
   "cell_type": "code",
   "execution_count": null,
   "id": "493f58a7",
   "metadata": {},
   "outputs": [],
   "source": [
    "# Arquivos são do mês de novembro de 2018.\n",
    "# Definindo tipos de variáveis com tamanhos menores\n",
    "tipos_specification = {'id': 'int32', 'linha': 'int32'}\n",
    "\n",
    "# Lista para armazenar os dataframes de cada grupo de 10 dias\n",
    "grupos_dias = []\n",
    "\n",
    "# Loop para ler os arquivos CSV e concatená-los em grupos de 10 dias\n",
    "for i in range(1, 31, 10):  # Início, fim (não inclusivo), passo\n",
    "    dias = [pd.read_csv(f'2018-11-{str(j).zfill(2)}.csv', usecols=['id', 'linha', 'nome_linha', 'prefixo_carro',\n",
    "    'nome_cartao', 'sentido_viagem', 'dia', 'momento'], dtype=tipos_specification, sep=',') for j in range(i, i + 10)]\n",
    "    grupo = pd.concat(dias)\n",
    "    grupos_dias.append(grupo)"
   ]
  },
  {
   "cell_type": "code",
   "execution_count": null,
   "id": "54b24fda",
   "metadata": {},
   "outputs": [],
   "source": [
    "# Concatenando os grupos de 10 dias\n",
    "mes_tudo = pd.concat(grupos_dias)"
   ]
  },
  {
   "cell_type": "code",
   "execution_count": null,
   "id": "ddae68f7",
   "metadata": {},
   "outputs": [],
   "source": [
    "mes_tudo"
   ]
  },
  {
   "cell_type": "markdown",
   "id": "04e7b0f7",
   "metadata": {},
   "source": [
    "## 1.1.3 Tratamento da base para  associação com o gps"
   ]
  },
  {
   "cell_type": "code",
   "execution_count": null,
   "id": "e831ad21",
   "metadata": {},
   "outputs": [],
   "source": [
    "# informações do df\n",
    "mes_tudo.info()"
   ]
  },
  {
   "cell_type": "code",
   "execution_count": null,
   "id": "a56e0621",
   "metadata": {},
   "outputs": [],
   "source": [
    "# Mostrando dados nulos presentes\n",
    "mes_tudo.isnull().sum()"
   ]
  },
  {
   "cell_type": "code",
   "execution_count": null,
   "id": "2682773d",
   "metadata": {},
   "outputs": [],
   "source": [
    "# Juntando dados daa colunas de interesse (dia, momento):\n",
    "mes_tudo[\"momento\"] = mes_tudo['dia'].astype(str) + ' ' + mes_tudo['momento'].astype(str)"
   ]
  },
  {
   "cell_type": "code",
   "execution_count": null,
   "id": "448748f2",
   "metadata": {},
   "outputs": [],
   "source": [
    "# REMOVENDO COLUNAS DESNECESSÁRIAS!\n",
    "mes1 = mes_tudo.drop(['dia'], axis=1)"
   ]
  },
  {
   "cell_type": "code",
   "execution_count": null,
   "id": "f4280e23",
   "metadata": {
    "scrolled": true
   },
   "outputs": [],
   "source": [
    "mes1[\"momento\"] = pd.to_datetime(mes1[\"momento\"])"
   ]
  },
  {
   "cell_type": "code",
   "execution_count": null,
   "id": "c858dbf6",
   "metadata": {},
   "outputs": [],
   "source": [
    "# Visualizando dados nulos\n",
    "mes1[mes1['prefixo_carro'].isnull()]"
   ]
  },
  {
   "cell_type": "code",
   "execution_count": 2,
   "id": "3b67dbe5",
   "metadata": {},
   "outputs": [
    {
     "data": {
      "text/plain": [
       "' Exitem validações de usuario na base que não tiveram a identificação do veiculo registrada - por serem uma pequena parte dos dados serão removidos para proceguimento do algoritimo '"
      ]
     },
     "execution_count": 2,
     "metadata": {},
     "output_type": "execute_result"
    }
   ],
   "source": [
    "''' Exitem validações de usuario na base que não tiveram a identificação do veiculo registrada - por serem uma pequena parte dos dados serão removidos para proceguimento do algoritimo '''"
   ]
  },
  {
   "cell_type": "code",
   "execution_count": null,
   "id": "68b152d3",
   "metadata": {},
   "outputs": [],
   "source": [
    "# Removendo dados nulos na coluna prefixo_carro\n",
    "mes_ = mes1.dropna(subset = ['prefixo_carro'])"
   ]
  },
  {
   "cell_type": "code",
   "execution_count": null,
   "id": "76290cfc",
   "metadata": {},
   "outputs": [],
   "source": [
    "# Função para identificar se há caracters\n",
    "def tem_caracters(col):\n",
    "    return any(char.isalpha() for char in str(col))"
   ]
  },
  {
   "cell_type": "code",
   "execution_count": null,
   "id": "83426608",
   "metadata": {},
   "outputs": [],
   "source": [
    "# Verificando \n",
    "prefixo_CARACTERS = pd.DataFrame(mes_[\"prefixo_carro\"])\n",
    "prefixo_resultado = prefixo_CARACTERS.applymap(tem_caracters)\n",
    "prefixo_resultado[prefixo_resultado.prefixo_carro == True]"
   ]
  },
  {
   "cell_type": "code",
   "execution_count": 3,
   "id": "73ccb864",
   "metadata": {
    "scrolled": true
   },
   "outputs": [
    {
     "data": {
      "text/plain": [
       "' Existem alguns dias que a coluna de identificação dos veiculos apresentam caracteres na sua composiçao, por serem tambem um pequena parcela serão removidos para aplicação do metodo, mas inspeções poderiam explicar mais a ocorrencias dessa questão como de outras ja citadas '"
      ]
     },
     "execution_count": 3,
     "metadata": {},
     "output_type": "execute_result"
    }
   ],
   "source": [
    "''' Existem alguns dias que a coluna de identificação dos veiculos apresentam caracteres na sua composiçao, por serem tambem um pequena parcela serão removidos para aplicação do metodo, mas inspeções poderiam explicar mais a ocorrencias dessa questão como de outras ja citadas '''"
   ]
  },
  {
   "cell_type": "code",
   "execution_count": null,
   "id": "77287750",
   "metadata": {},
   "outputs": [],
   "source": [
    "# Removenfdo identificação de veiculos com caracteris da coluna de prefixo_carro\n",
    "mes = mes_[pd.to_numeric(mes_['prefixo_carro'], errors='coerce').notnull()]"
   ]
  },
  {
   "cell_type": "code",
   "execution_count": null,
   "id": "c410eb02",
   "metadata": {},
   "outputs": [],
   "source": [
    "# Trasnformando coluna de prefixo carro em inteiro\n",
    "mes['prefixo_carro'] = mes['prefixo_carro'].astype('int32')"
   ]
  },
  {
   "cell_type": "code",
   "execution_count": null,
   "id": "e068fbac",
   "metadata": {},
   "outputs": [],
   "source": [
    "mes.info()"
   ]
  },
  {
   "cell_type": "code",
   "execution_count": null,
   "id": "1a630ae6",
   "metadata": {},
   "outputs": [],
   "source": [
    "# Última versão do df MES adequado para localização\n",
    "mes"
   ]
  },
  {
   "cell_type": "markdown",
   "id": "839393cf",
   "metadata": {},
   "source": [
    "## 1.3 leitura da base - Dicionário"
   ]
  },
  {
   "cell_type": "code",
   "execution_count": null,
   "id": "5818c54c",
   "metadata": {},
   "outputs": [],
   "source": [
    "# df', abaixo:\n",
    "d1 = pd.read_csv('veiculos2018.csv', sep= ';')"
   ]
  },
  {
   "cell_type": "code",
   "execution_count": null,
   "id": "bc24ee0d",
   "metadata": {
    "scrolled": true
   },
   "outputs": [],
   "source": [
    "# Mostrando Df\n",
    "display(d1)"
   ]
  },
  {
   "cell_type": "code",
   "execution_count": null,
   "id": "433246ec",
   "metadata": {
    "scrolled": true
   },
   "outputs": [],
   "source": [
    "d1"
   ]
  },
  {
   "cell_type": "code",
   "execution_count": 4,
   "id": "476a682f",
   "metadata": {},
   "outputs": [
    {
     "data": {
      "text/plain": [
       "' Serão removidos os dados de caracteres na coluna de identificação dos veiculos, mas isso pode ser o principal motivo do não georreferenciamneto da base completa da bilhetagem '"
      ]
     },
     "execution_count": 4,
     "metadata": {},
     "output_type": "execute_result"
    }
   ],
   "source": [
    "''' Serão removidos os dados de caracteres na coluna de identificação dos veiculos, mas isso pode ser o principal motivo do não georreferenciamneto da base completa da bilhetagem '''"
   ]
  },
  {
   "cell_type": "code",
   "execution_count": null,
   "id": "b94313d8",
   "metadata": {},
   "outputs": [],
   "source": [
    "# Removenfdo identificação de veiculos com caracteris da coluna de cod_veiculo\n",
    "d01 = d1[pd.to_numeric(d1['cod_veiculo'], errors='coerce').notnull()]"
   ]
  },
  {
   "cell_type": "code",
   "execution_count": null,
   "id": "c7d282e5",
   "metadata": {},
   "outputs": [],
   "source": [
    "d01.info()"
   ]
  },
  {
   "cell_type": "code",
   "execution_count": null,
   "id": "063ec36d",
   "metadata": {},
   "outputs": [],
   "source": [
    "# Trasnformando coluna de prefixo carro em inteiro\n",
    "d01['cod_veiculo'] = d01['cod_veiculo'].astype('int32')\n",
    "d01['id_veiculo'] = d01['id_veiculo'].astype('int32')"
   ]
  },
  {
   "cell_type": "code",
   "execution_count": null,
   "id": "11429eb1",
   "metadata": {},
   "outputs": [],
   "source": [
    "d01['cod_veiculo'].sort_index()"
   ]
  },
  {
   "cell_type": "code",
   "execution_count": null,
   "id": "8754fad7",
   "metadata": {
    "scrolled": true
   },
   "outputs": [],
   "source": [
    "# Contagem de dados nulos \n",
    "d01.isnull().sum()"
   ]
  },
  {
   "cell_type": "code",
   "execution_count": null,
   "id": "395f441c",
   "metadata": {
    "scrolled": true
   },
   "outputs": [],
   "source": [
    "d01"
   ]
  },
  {
   "cell_type": "markdown",
   "id": "40214ab6",
   "metadata": {},
   "source": [
    "# 2.0 Junção da bilhetagem com o dicionário "
   ]
  },
  {
   "cell_type": "code",
   "execution_count": null,
   "id": "9160a394",
   "metadata": {},
   "outputs": [],
   "source": [
    "# Acrescentando dicionário\n",
    "mes_d1= mes.merge(d01, left_on= 'prefixo_carro', right_on='cod_veiculo')"
   ]
  },
  {
   "cell_type": "code",
   "execution_count": null,
   "id": "64d86cfe",
   "metadata": {},
   "outputs": [],
   "source": [
    "# Base da Bilhetagem adicionado o dicionario\n",
    "mes_d1"
   ]
  },
  {
   "cell_type": "code",
   "execution_count": null,
   "id": "be3e33ef",
   "metadata": {},
   "outputs": [],
   "source": [
    "# informações da base \n",
    "mes_d1.info()"
   ]
  },
  {
   "cell_type": "code",
   "execution_count": null,
   "id": "0ce9467f",
   "metadata": {},
   "outputs": [],
   "source": [
    "# Colocando momento em ordem para operação de mesclagem\n",
    "mes_geo = mes_d1.sort_values('momento')"
   ]
  },
  {
   "cell_type": "code",
   "execution_count": null,
   "id": "6a7dfa1b",
   "metadata": {},
   "outputs": [],
   "source": [
    "# Reiniciando a contagem dos index\n",
    "mes_geo.reset_index(inplace=True)\n",
    "# Reiniciando a contagem dos index\n",
    "mes_geo.drop(columns='index', inplace=True)"
   ]
  },
  {
   "cell_type": "code",
   "execution_count": null,
   "id": "7367f64a",
   "metadata": {},
   "outputs": [],
   "source": [
    "mes_geo"
   ]
  },
  {
   "cell_type": "code",
   "execution_count": null,
   "id": "5f9d6992",
   "metadata": {},
   "outputs": [],
   "source": [
    "# REMOVENDO COLUNA DESNECESSÁRIA - informação de identificação dos veiculos agora presente em duas colunas!\n",
    "mes_georr = mes_geo.drop([\"prefixo_carro\"], axis=1)"
   ]
  },
  {
   "cell_type": "code",
   "execution_count": null,
   "id": "06d050ab",
   "metadata": {},
   "outputs": [],
   "source": [
    "mes_georr.info()"
   ]
  },
  {
   "cell_type": "code",
   "execution_count": 5,
   "id": "39440cdb",
   "metadata": {},
   "outputs": [
    {
     "data": {
      "text/plain": [
       "' AGORA TEMOS DATAFRAME DA BILHETAGEM E DO GPS NO FORMATO QUE PODEMOS FAZER A associação pelo momento para o mesmo veiculo '"
      ]
     },
     "execution_count": 5,
     "metadata": {},
     "output_type": "execute_result"
    }
   ],
   "source": [
    "''' AGORA TEMOS DATAFRAME DA BILHETAGEM E DO GPS NO FORMATO QUE PODEMOS FAZER A associação pelo momento para o mesmo veiculo '''"
   ]
  },
  {
   "cell_type": "markdown",
   "id": "f11b85d5",
   "metadata": {},
   "source": [
    "# 3.0 Integração da coordenada aproximada do ônibus na bilhetagem"
   ]
  },
  {
   "cell_type": "code",
   "execution_count": null,
   "id": "1da441f5",
   "metadata": {},
   "outputs": [],
   "source": [
    "# Coordenada anterior mais proxima do ônibus é extraída da base de GPS e integrada na base da bilhetagem (SOMENTE COLUMAS MOMENTO E ID)\n",
    "mes_d1_GPS = pd.merge_asof(mes_georr, GPS_I_H, left_on='momento', right_on='momento', by='id_veiculo', direction ='nearest')"
   ]
  },
  {
   "cell_type": "code",
   "execution_count": null,
   "id": "50082f48",
   "metadata": {},
   "outputs": [],
   "source": [
    "mes_d1_GPS.isnull().sum()"
   ]
  },
  {
   "cell_type": "code",
   "execution_count": 6,
   "id": "8df4a3ee",
   "metadata": {},
   "outputs": [
    {
     "data": {
      "text/plain": [
       "' Alguns dados geometricos possuem valores nulos - esses valores ja vem com esse configuração da base do GPS '"
      ]
     },
     "execution_count": 6,
     "metadata": {},
     "output_type": "execute_result"
    }
   ],
   "source": [
    "''' Alguns dados geometricos possuem valores nulos - esses valores ja vem com esse configuração da base do GPS '''"
   ]
  },
  {
   "cell_type": "code",
   "execution_count": null,
   "id": "2b1aa461",
   "metadata": {},
   "outputs": [],
   "source": [
    "# Base da bilhetagem localizada \n",
    "mes_d1_GPS"
   ]
  },
  {
   "cell_type": "markdown",
   "id": "a24ca827",
   "metadata": {},
   "source": [
    "# 4.0 Separando dia para geração e analises dos perfis veiculares"
   ]
  },
  {
   "cell_type": "markdown",
   "id": "4202a656",
   "metadata": {},
   "source": [
    "##  4.1 Separando dia da bilhetagem localizada para identificação dos veiculos das linhas "
   ]
  },
  {
   "cell_type": "code",
   "execution_count": null,
   "id": "43ca0edc",
   "metadata": {},
   "outputs": [],
   "source": [
    "# FILTRANDO VALIDAÇÕES NO DIA ESPECIFICO\n",
    "validações_trecho_dia = mes_d1_GPS[(mes_d1_GPS.momento<='2018-11-01 23:59:59')]\n",
    "   # & (mes_d1_GPS.momento<=-38.56944)]"
   ]
  },
  {
   "cell_type": "code",
   "execution_count": null,
   "id": "b0331120",
   "metadata": {
    "scrolled": true
   },
   "outputs": [],
   "source": [
    "validações_trecho_dia"
   ]
  },
  {
   "cell_type": "markdown",
   "id": "14cf3ddd",
   "metadata": {},
   "source": [
    "##  4.2 Separando dia do GPS (registros do dia desejado)"
   ]
  },
  {
   "cell_type": "code",
   "execution_count": null,
   "id": "319e26bc",
   "metadata": {},
   "outputs": [],
   "source": [
    "# FILTRANDO REGISTROS NO DIA ESPECIFICO\n",
    "dia_especifico_gps = GPS_I_H[(GPS_I_H.momento<='2018-11-01 23:59:59')]\n",
    "   # & (mes_d1_GPS.momento<=-38.56944)]"
   ]
  },
  {
   "cell_type": "code",
   "execution_count": null,
   "id": "1a106ea9",
   "metadata": {},
   "outputs": [],
   "source": [
    "dia_especifico_gps"
   ]
  },
  {
   "cell_type": "markdown",
   "id": "6cf62f62",
   "metadata": {},
   "source": [
    "# 5.0 Extraindo velocidades veiculares a partir do GPS\n",
    "''' Esse algoritimo é aplicado por dia que se deseja fazer a analise '''"
   ]
  },
  {
   "cell_type": "markdown",
   "id": "dfccb228",
   "metadata": {},
   "source": [
    "## 5.1 Identificando linhas operando no trecho e  horario de interesse\n",
    "''' OBS: É NECESSÁRIO DEFINIR O HORARIO PARA GERAÇÃO E ANALISES DOS PERFIS '''"
   ]
  },
  {
   "cell_type": "code",
   "execution_count": 7,
   "id": "07eef3f4",
   "metadata": {},
   "outputs": [
    {
     "data": {
      "text/plain": [
       "' SERÁ IDENTIFICADAS AS LINHAS NESSA REGIÃO, POIS NÃO TEM NUMHUMA RUA OU AVENIDA QUE CORTA O TRECHO DE INTERESSE NA TRANSVERSAL E ASSIM POSSIVELMENTE NÃO TEM OUTRA LINHAS NESSES SENTIDOS: -3.734498870509772, -38.55723488359994; -3.733084073193523, -38.55346122624892 '"
      ]
     },
     "execution_count": 7,
     "metadata": {},
     "output_type": "execute_result"
    }
   ],
   "source": [
    "''' SERÁ IDENTIFICADAS AS LINHAS NESSA REGIÃO, POIS NÃO TEM NUMHUMA RUA OU AVENIDA QUE CORTA O TRECHO DE INTERESSE NA TRANSVERSAL E ASSIM POSSIVELMENTE NÃO TEM OUTRA LINHAS NESSES SENTIDOS: -3.734498870509772, -38.55723488359994; -3.733084073193523, -38.55346122624892 '''"
   ]
  },
  {
   "cell_type": "code",
   "execution_count": null,
   "id": "cc3db221",
   "metadata": {},
   "outputs": [],
   "source": [
    "# FILTRANDO VALIDAÇÕES EM TRECHO ESPECIFICO \n",
    "validações_trecho = validações_trecho_dia[(validações_trecho_dia.latitude>=-3.734498870509772)\n",
    "    & (validações_trecho_dia.longitude>=-38.55723488359994) & (validações_trecho_dia.longitude<=-38.55346122624892)\n",
    "                                & (validações_trecho_dia.latitude<=-3.733084073193523)]"
   ]
  },
  {
   "cell_type": "code",
   "execution_count": 8,
   "id": "40eeba9c",
   "metadata": {},
   "outputs": [
    {
     "data": {
      "text/plain": [
       "' OBS: É INTERESSANTE FILTAR O HORARIO PARA GERAÇÃO DE PERFIS EM INTERVALOS CURTOS, PARA QUE NÃO SE TENHA SOBREPOSIÇÃO DE REGISTROS DE UM MESMO VEICULO NO MESMO HORARIO '"
      ]
     },
     "execution_count": 8,
     "metadata": {},
     "output_type": "execute_result"
    }
   ],
   "source": [
    "''' OBS: É INTERESSANTE FILTAR O HORARIO PARA GERAÇÃO DE PERFIS EM INTERVALOS CURTOS, PARA QUE NÃO SE TENHA SOBREPOSIÇÃO DE REGISTROS DE UM MESMO VEICULO NO MESMO HORARIO '''"
   ]
  },
  {
   "cell_type": "code",
   "execution_count": null,
   "id": "72a823a5",
   "metadata": {},
   "outputs": [],
   "source": [
    "# Filtragem no intervalo de interesse\n",
    "validações_linhas_hora = validações_trecho[(validações_trecho.momento>= '2018-11-01 17:00:00') & \n",
    "                                (validações_trecho.momento<='2018-11-01 18:00:00')]"
   ]
  },
  {
   "cell_type": "code",
   "execution_count": null,
   "id": "051dbab9",
   "metadata": {
    "scrolled": true
   },
   "outputs": [],
   "source": [
    "# LINHAS NA REGIÃO E NO HORARIO  \n",
    "linhas = validações_linhas_hora['linha'].unique()\n",
    "linhas"
   ]
  },
  {
   "cell_type": "code",
   "execution_count": 9,
   "id": "df18d48a",
   "metadata": {},
   "outputs": [
    {
     "data": {
      "text/plain": [
       "' OU SEJA, A LINHA COM MAIS VALIDAÇÕES NO HORARIO DE INTERESSE É AQUELA QUE PODE SER CONSIDERADA, POIS SE TEM VALIDAÇÕES NESSA LINHA, SIGUINIFICA QUE ELA POSSUE VEICULOS EM OPERAÇÃO PARA ESSA DEMANDA! '"
      ]
     },
     "execution_count": 9,
     "metadata": {},
     "output_type": "execute_result"
    }
   ],
   "source": [
    "''' OU SEJA, A LINHA COM MAIS VALIDAÇÕES NO HORARIO DE INTERESSE É AQUELA QUE PODE SER CONSIDERADA, POIS SE TEM VALIDAÇÕES NESSA LINHA, SIGUINIFICA QUE ELA POSSUE VEICULOS EM OPERAÇÃO PARA ESSA DEMANDA! '''"
   ]
  },
  {
   "cell_type": "markdown",
   "id": "0013dbdd",
   "metadata": {},
   "source": [
    "## 5.2 Identificação de veiculos da linhas de interesse"
   ]
  },
  {
   "cell_type": "code",
   "execution_count": null,
   "id": "603c7c7d",
   "metadata": {
    "scrolled": true
   },
   "outputs": [],
   "source": [
    "# Verificando os diferentes veiculos da linha de interesse\n",
    "veiculos_linha_especifica = validações_linhas_hora['id_veiculo'].unique()\n",
    "veiculos_linha_especifica"
   ]
  },
  {
   "cell_type": "markdown",
   "id": "ee271a9a",
   "metadata": {},
   "source": [
    "## 5.3  _Filtragem de veiculos da linhas de interesse_\n",
    "  ''' Filtrando registros na base do GPS agora com os veiculos ja identificados '''"
   ]
  },
  {
   "cell_type": "code",
   "execution_count": null,
   "id": "ddfc2963",
   "metadata": {},
   "outputs": [],
   "source": [
    "###############################################  Filtrando veiculos espeficos  ###########################################################\n",
    "lista_veiculos = veiculos_linha_especifica\n",
    "\n",
    "viculos_especificos__ = dia_especifico_gps[dia_especifico_gps[\"id_veiculo\"].isin(lista_veiculos)]\n",
    "viculos_especificos__\n",
    "##########################################################################################################################################"
   ]
  },
  {
   "cell_type": "code",
   "execution_count": null,
   "id": "f4659549",
   "metadata": {},
   "outputs": [],
   "source": [
    "# FILTRANDO DADOS DO VECIULO EM TRECHO DE INTERESSE\n",
    "viculos_especificos__ = viculos_especificos__[(viculos_especificos__.latitude>=-3.73667)\n",
    "    & (viculos_especificos__.longitude>=-38.56944) & (viculos_especificos__.longitude<=-38.54167)\n",
    "                                & (viculos_especificos__.latitude<=-3.73083)]"
   ]
  },
  {
   "cell_type": "code",
   "execution_count": 10,
   "id": "8afed747",
   "metadata": {},
   "outputs": [
    {
     "data": {
      "text/plain": [
       "' Foi atribuido um trecho para captação dos registro do GPS antes e depois do trecho real de interesse: Comeco ((-3.73667, -38.56944)) e Fim (-3.73083, -38.54167) '"
      ]
     },
     "execution_count": 10,
     "metadata": {},
     "output_type": "execute_result"
    }
   ],
   "source": [
    "''' Foi atribuido um trecho para captação dos registro do GPS antes e depois do trecho real de interesse: Comeco ((-3.73667, -38.56944)) e Fim (-3.73083, -38.54167) ''' "
   ]
  },
  {
   "cell_type": "code",
   "execution_count": null,
   "id": "0c4c93fa",
   "metadata": {},
   "outputs": [],
   "source": [
    "# Filtrando os registros no horario de pico do dia a ser extraido as velocidades\n",
    "viculos_especificos_TRECHO__ = viculos_especificos__[(viculos_especificos__.momento>=\n",
    "                '2018-11-01 18:00:00') & (viculos_especificos__.momento<='2018-11-01 19:00:00')]"
   ]
  },
  {
   "cell_type": "code",
   "execution_count": null,
   "id": "7b2124c7",
   "metadata": {},
   "outputs": [],
   "source": [
    "# Colocando coluna de momento em ordem\n",
    "viculos_especificos_TRECHO_= viculos_especificos_TRECHO__.sort_values('momento')"
   ]
  },
  {
   "cell_type": "code",
   "execution_count": null,
   "id": "07ba7e1c",
   "metadata": {
    "scrolled": true
   },
   "outputs": [],
   "source": [
    "viculos_especificos_TRECHO_"
   ]
  },
  {
   "cell_type": "code",
   "execution_count": null,
   "id": "6cde29dc",
   "metadata": {
    "scrolled": true
   },
   "outputs": [],
   "source": [
    "# Criando coluna geometrica\n",
    "viculos_especificos_TRECHO_['geometry'] = viculos_especificos_TRECHO_.apply(lambda x: Point((float(x.longitude), float(x.latitude))), axis=1)"
   ]
  },
  {
   "cell_type": "code",
   "execution_count": null,
   "id": "764f743a",
   "metadata": {
    "scrolled": true
   },
   "outputs": [],
   "source": [
    "viculos_especificos_TRECHO_"
   ]
  },
  {
   "cell_type": "markdown",
   "id": "d8a0b13c",
   "metadata": {},
   "source": [
    "## 5.4 Vizualização dos dados no trecho\n",
    "'' OBS: QUANDO SE CLICA NOS PONTOS NO MAPA É POSSIVEL VER OS REGISTROS E QUAIS VEICULOS ESTÃO RELAMENTE NA DIREÇÃO DO TRECHO DE ESTUDO, ASSIM SERÃO REMIVIDOS AQUELES QUE NÃO OBEDECEREM ESSA CONDIÇÃO '''"
   ]
  },
  {
   "cell_type": "code",
   "execution_count": null,
   "id": "8021e29e",
   "metadata": {},
   "outputs": [],
   "source": [
    "# Criando media para visulização do mapa proximo a região dos dados geometricos\n",
    "lon = viculos_especificos_TRECHO_['longitude'].mean()\n",
    "lat = viculos_especificos_TRECHO_['latitude'].mean()"
   ]
  },
  {
   "cell_type": "code",
   "execution_count": null,
   "id": "fe020d70",
   "metadata": {},
   "outputs": [],
   "source": [
    "# Criando um mapa centrado em FORTALEZA\n",
    "mapa_viculo_especifico_TRECHO = folium.Map(location=[lat, lon], zoom_start=5)\n",
    "\n",
    "def popup_content(id_veiculo, id_veiculo_clicado):\n",
    "    cor_popup = 'blue' if id_veiculo != id_veiculo_clicado else 'red'\n",
    "    return f'<div style=\"color: {cor_popup};\">{id_veiculo}</div>'\n",
    "\n",
    "for index, row in viculos_especificos_TRECHO_.iterrows():\n",
    "    folium.Marker(location=[row['latitude'], row['longitude']],\n",
    "                  icon=folium.Icon(icon='glyphicon-pushpin', color='blue'),\n",
    "                  popup=folium.Popup(popup_content(row['id_veiculo'], ''), max_width=300)).add_to(mapa_viculo_especifico_TRECHO)"
   ]
  },
  {
   "cell_type": "code",
   "execution_count": null,
   "id": "4115602d",
   "metadata": {
    "scrolled": false
   },
   "outputs": [],
   "source": [
    "mapa_viculo_especifico_TRECHO"
   ]
  },
  {
   "cell_type": "code",
   "execution_count": 11,
   "id": "f4fad8fb",
   "metadata": {},
   "outputs": [
    {
     "data": {
      "text/plain": [
       "' A PARTIR DESSA ANALISE É POSSIVEL VERIFICAR QUAIS VEICULOS NÃO ESTÃO NA ROTA DE ESTUDO '"
      ]
     },
     "execution_count": 11,
     "metadata": {},
     "output_type": "execute_result"
    }
   ],
   "source": [
    "''' A PARTIR DESSA ANALISE É POSSIVEL VERIFICAR QUAIS VEICULOS NÃO ESTÃO NA ROTA DE ESTUDO '''"
   ]
  },
  {
   "cell_type": "code",
   "execution_count": null,
   "id": "f576d4d0",
   "metadata": {},
   "outputs": [],
   "source": [
    "# Removendo dados do veiculo (os) não necessários\n",
    "viculos_especificos_TRECHO_ = viculos_especificos_TRECHO_[viculos_especificos_TRECHO_['id_veiculo'] != 33095]  \n",
    "# ESPECIFICAR CASO TENHA ALGUM VEICULO FORA DA ROTA"
   ]
  },
  {
   "cell_type": "markdown",
   "id": "e8c27fb5",
   "metadata": {},
   "source": [
    "## _5.5 Criando lista com um df para cada veiculo das linhas filtradas_"
   ]
  },
  {
   "cell_type": "code",
   "execution_count": null,
   "id": "6c008f97",
   "metadata": {},
   "outputs": [],
   "source": [
    "# Criando função para pegar os dados de um mesmo veiculo e separar em diferentes dfs\n",
    "def agrupar_por_ids(viculos_especificos_TRECHO_, id_veiculo):\n",
    "    # Agupando dados por id\n",
    "    grupos = viculos_especificos_TRECHO_.groupby('id_veiculo')\n",
    "    \n",
    "    # Lista para guardar os GeoDataFrames\n",
    "    geodataframes = []\n",
    "    \n",
    "    # Iterando sobre os grupos \n",
    "    for _, grupo in grupos:\n",
    "        # Criando GeoDataFrame a partir do DataFrame do grupo\n",
    "        geo_df = gpd.GeoDataFrame(grupo, geometry=gpd.points_from_xy(grupo.longitude, grupo.latitude))\n",
    "        geodataframes.append(geo_df)\n",
    "        \n",
    "    geo_data_ordem = geodataframes\n",
    "    \n",
    "    return geo_data_ordem"
   ]
  },
  {
   "cell_type": "code",
   "execution_count": null,
   "id": "5dad5951",
   "metadata": {
    "scrolled": true
   },
   "outputs": [],
   "source": [
    "# Aplicando a função\n",
    "viculos_especificos_TRECHO__n = agrupar_por_ids(viculos_especificos_TRECHO_, 'id_veiculo')"
   ]
  },
  {
   "cell_type": "code",
   "execution_count": null,
   "id": "be7f7155",
   "metadata": {
    "scrolled": true
   },
   "outputs": [],
   "source": [
    "# Visualizando df especifico \n",
    "viculos_especificos_TRECHO__n[0]"
   ]
  },
  {
   "cell_type": "markdown",
   "id": "d8b1df69",
   "metadata": {},
   "source": [
    "## 5.6 Extraindo velocidades instantâneas para veiculos especificos"
   ]
  },
  {
   "cell_type": "code",
   "execution_count": null,
   "id": "c916754d",
   "metadata": {},
   "outputs": [],
   "source": [
    "# Colocando coluna de momento de cada df das lista\n",
    "# Função para processar um DataFrame\n",
    "def ordem_df(df):\n",
    "    # Ordenar o DataFrame pela coluna 'momento'\n",
    "    df = df.sort_values('momento')\n",
    "    \n",
    "    # Restaurando o índice do DataFrame após a ordenação\n",
    "    df = df.reset_index(drop=True)    \n",
    "    return df\n",
    "\n",
    "# Aplicando a função para cada DataFrame na lista\n",
    "viculos_especificos_TRECHO__ordem = [ordem_df(df) for df in viculos_especificos_TRECHO__n]"
   ]
  },
  {
   "cell_type": "code",
   "execution_count": null,
   "id": "5e51b53b",
   "metadata": {},
   "outputs": [],
   "source": [
    "# Criando função para criar coluna de gemetrica anterior em cada DataFrame\n",
    "def processar_dataframe_dist(df):\n",
    "    df['geometry_anterior'] = df['geometry'].shift(1)\n",
    "    return df"
   ]
  },
  {
   "cell_type": "code",
   "execution_count": null,
   "id": "a26ce8c2",
   "metadata": {},
   "outputs": [],
   "source": [
    "# Aplicando a função para cada DataFrame na lista\n",
    "viculos_especificos_TRECHO_geo_ant = [processar_dataframe_dist(df) for df in viculos_especificos_TRECHO__ordem]"
   ]
  },
  {
   "cell_type": "code",
   "execution_count": null,
   "id": "a46ee4b5",
   "metadata": {
    "scrolled": true
   },
   "outputs": [],
   "source": [
    "# Acesso ao resultado, por exemplo, para o primeiro DataFrame na lista processada\n",
    "primeiro_dataframe_processado = viculos_especificos_TRECHO_geo_ant[0]\n",
    "primeiro_dataframe_processado"
   ]
  },
  {
   "cell_type": "code",
   "execution_count": null,
   "id": "1e380316",
   "metadata": {},
   "outputs": [],
   "source": [
    "# Criando função para criar coluna de momento anterior em cada DataFrame\n",
    "def processar_dataframe_momento(df):\n",
    "    df['momento_anterior'] = df['momento'].shift(1)\n",
    "    return df\n",
    "\n",
    "# Aplicando a função para cada DataFrame na lista\n",
    "viculos_especificos_TRECHO_geo_mom_ant = [processar_dataframe_momento(df) for df in viculos_especificos_TRECHO_geo_ant]"
   ]
  },
  {
   "cell_type": "code",
   "execution_count": null,
   "id": "70322e00",
   "metadata": {
    "scrolled": true
   },
   "outputs": [],
   "source": [
    "# Acessando a resultado, por exemplo, para o primeiro DataFrame na lista processada\n",
    "primeiro_dataframe_processado = viculos_especificos_TRECHO_geo_mom_ant[1]\n",
    "primeiro_dataframe_processado"
   ]
  },
  {
   "cell_type": "code",
   "execution_count": null,
   "id": "0013cbb9",
   "metadata": {
    "scrolled": true
   },
   "outputs": [],
   "source": [
    "# instalando bibloteca para trazer metodo de calcular distancia \n",
    "!pip install geopy\n",
    "from geopy.distance import geodesic  \n",
    "\n",
    "# Função para calcular distância entre pontos\n",
    "def calcular_distancia(row):\n",
    "    if row['geometry'] is None or row['geometry_anterior'] is None:\n",
    "        return None\n",
    "    return geodesic((row.geometry.x, row.geometry.y), (row.geometry_anterior.x, row.geometry_anterior.y)).meters\n",
    "\n",
    "# Função para processar um DataFrame\n",
    "def processar_distancia(df):\n",
    "    df['distancia'] = df.apply(calcular_distancia, axis=1)\n",
    "    return df"
   ]
  },
  {
   "cell_type": "code",
   "execution_count": null,
   "id": "f9f3c6ad",
   "metadata": {
    "scrolled": true
   },
   "outputs": [],
   "source": [
    "# Aplicando a função para cada DataFrame na lista\n",
    "viculos_especificos_TRECHO_dist_ = [processar_distancia(df) for df in viculos_especificos_TRECHO_geo_mom_ant]"
   ]
  },
  {
   "cell_type": "code",
   "execution_count": null,
   "id": "f5bc6943",
   "metadata": {
    "scrolled": true
   },
   "outputs": [],
   "source": [
    "viculos_especificos_TRECHO_dist_[0]"
   ]
  },
  {
   "cell_type": "code",
   "execution_count": null,
   "id": "d6426cc9",
   "metadata": {},
   "outputs": [],
   "source": [
    "# Função para calcular a diferença de tempo\n",
    "def calcular_diferenca_tempo(row):\n",
    "    if pd.isnull(row['momento']) or pd.isnull(row['momento_anterior']):\n",
    "        return None\n",
    "    return (row['momento'] - row['momento_anterior']).total_seconds()\n",
    "\n",
    "# Função para processar um GeoDataFrame\n",
    "def processar_geodataframe_temp(gdf):\n",
    "    # Aplicar a função calcular_diferenca_tempo à coluna 'momento' e criar nova coluna 'deltaT'\n",
    "    gdf['deltaT'] = gdf.apply(calcular_diferenca_tempo, axis=1)\n",
    "    \n",
    "    # Converter a coluna 'deltaT' para o tipo de dados float\n",
    "    gdf['deltaT'] = gdf['deltaT'].astype('float')\n",
    "    \n",
    "    # Adicionar outras operações ou transformações conforme necessário\n",
    "    \n",
    "    return gdf"
   ]
  },
  {
   "cell_type": "code",
   "execution_count": null,
   "id": "09b90e36",
   "metadata": {},
   "outputs": [],
   "source": [
    "# Aplicando função \n",
    "viculos_especificos_TRECHO_dist_temp = [processar_geodataframe_temp(gdf) for gdf in viculos_especificos_TRECHO_dist_]"
   ]
  },
  {
   "cell_type": "code",
   "execution_count": null,
   "id": "661183d5",
   "metadata": {},
   "outputs": [],
   "source": [
    "# Função para calcular a velocidade instantânea\n",
    "def calcular_velocidade_instantanea(row):\n",
    "    if pd.isnull(row['distancia']) or pd.isnull(row['deltaT']) or row['deltaT'] == 0:\n",
    "        return None\n",
    "    return row['distancia'] / row['deltaT']\n",
    "\n",
    "# Função para processar um GeoDataFrame\n",
    "def processar_geodataframe_velocidade(gdf):\n",
    "    # Calcular a velocidade instantânea\n",
    "    gdf['velocidade'] = gdf.apply(calcular_velocidade_instantanea, axis=1)\n",
    "    \n",
    "    return gdf"
   ]
  },
  {
   "cell_type": "code",
   "execution_count": null,
   "id": "fef24dc6",
   "metadata": {},
   "outputs": [],
   "source": [
    "#########################_________Aplicando a função para cada GeoDataFrame na lista processada__________#######################\n",
    "viculos_especificos_TRECHO_velocidade_tudo = [processar_geodataframe_velocidade(gdf) for gdf in \n",
    "                                              viculos_especificos_TRECHO_dist_temp]\n",
    "################################################################################################################################"
   ]
  },
  {
   "cell_type": "code",
   "execution_count": null,
   "id": "8a9ca231",
   "metadata": {
    "scrolled": true
   },
   "outputs": [],
   "source": [
    "viculos_especificos_TRECHO_velocidade_tudo[0]"
   ]
  },
  {
   "cell_type": "code",
   "execution_count": null,
   "id": "79c52675",
   "metadata": {},
   "outputs": [],
   "source": [
    "# Dropando colunas desnecessárias \n",
    "# Lista de colunas a serem removidas\n",
    "colunas_desnecessarias = ['geometry_anterior', 'momento_anterior', 'distancia']\n",
    "\n",
    "# Função para remover colunas desnecessárias\n",
    "def remover_colunas_desnecessarias(gdf):\n",
    "    # Remover as colunas desnecessárias\n",
    "    gdf = gdf.drop(columns=colunas_desnecessarias, errors='ignore')\n",
    "    \n",
    "    # Adicionar outras operações ou transformações conforme necessário\n",
    "    \n",
    "    return gdf"
   ]
  },
  {
   "cell_type": "code",
   "execution_count": null,
   "id": "d5b4768f",
   "metadata": {},
   "outputs": [],
   "source": [
    "# Aplicando a função para cada GeoDataFrame na lista de velocidades\n",
    "viculos_especificos_TRECHO_velocidades = [remover_colunas_desnecessarias(gdf) for gdf in viculos_especificos_TRECHO_velocidade_tudo]"
   ]
  },
  {
   "cell_type": "code",
   "execution_count": null,
   "id": "59689892",
   "metadata": {
    "scrolled": true
   },
   "outputs": [],
   "source": [
    "# Versão final da lista com df para todos os veiculos da lista (filtrando df2, que é o elemento 1 da lista!)\n",
    "viculos_especificos_TRECHO_velocidades[0]"
   ]
  },
  {
   "cell_type": "markdown",
   "id": "58e44f5d",
   "metadata": {},
   "source": [
    "## 5.6.1 Adicioando dados da primeira parada \n",
    "''' Utilizando como ponto de referencia a parada inicial para perfis de velocidades de veiculos no sentido da primeira estação centro, e como referencia a ultima estação no sentido contrario '''"
   ]
  },
  {
   "cell_type": "code",
   "execution_count": null,
   "id": "f7dc2adc",
   "metadata": {},
   "outputs": [],
   "source": [
    "# Trazendo base com as paradas de interesse\n",
    "paradas_interesse = pd.read_excel('paradas_interesse_tudo_com_distancias.xlsx')"
   ]
  },
  {
   "cell_type": "code",
   "execution_count": null,
   "id": "86abd379",
   "metadata": {
    "scrolled": true
   },
   "outputs": [],
   "source": [
    "paradas_interesse"
   ]
  },
  {
   "cell_type": "code",
   "execution_count": null,
   "id": "b9748022",
   "metadata": {},
   "outputs": [],
   "source": [
    "# Tramanho do trecho\n",
    "display(paradas_interesse['distancia'].sum())"
   ]
  },
  {
   "cell_type": "code",
   "execution_count": null,
   "id": "22e5a58d",
   "metadata": {},
   "outputs": [],
   "source": [
    "# CRIANDO DF COM OS DADOS GEOMETRICOS DA 1ª PARADA E DA ULTIMA PARA DISTANCIA EM RELAÇÃO A UMA OU OUTRA\n",
    "# USA-SE OS DADOS GEOMETRICOS DA ULTIMA PARADA QUANDO QUEREMOS OS VEICULOS NA VOLTA! \n",
    "data_ = ['2018-11-01 00:00:00']\n",
    "data = pd.to_datetime(data_)\n",
    "df_paradadas_  = {'latitude': [-3.736013],\n",
    "                  'longitude': [-38.566300],\n",
    "                  'id_veiculo': [np.nan],\n",
    "                  'momento': [np.nan],\n",
    "                  'geometry': [np.nan],\n",
    "                  'deltaT': [np.nan],\n",
    "                  'velocidade':  [np.nan],\n",
    "                \n",
    "        }\n",
    "\n",
    "df_paradadas__ = pd.DataFrame(df_paradadas_)\n",
    "df_paradadas__['momento'] = data\n",
    "df_paradadas__"
   ]
  },
  {
   "cell_type": "code",
   "execution_count": null,
   "id": "fd7b507d",
   "metadata": {},
   "outputs": [],
   "source": [
    "# Info dos dados \n",
    "df_paradadas__.info()"
   ]
  },
  {
   "cell_type": "code",
   "execution_count": null,
   "id": "57fa49ae",
   "metadata": {},
   "outputs": [],
   "source": [
    "''' CRIANDO MESMO DF COM INFROMAÇÕES GEOMETRICAS DA ULTIMA PARADA '''\n",
    "df_paradadas_fim__ = df_paradadas__\n",
    "df_paradadas_fim__['latitude'] = -3.731264\n",
    "df_paradadas_fim__['longitude'] = -38.543328"
   ]
  },
  {
   "cell_type": "code",
   "execution_count": null,
   "id": "0fb28782",
   "metadata": {},
   "outputs": [],
   "source": [
    "# Criando a informação da geometria no df\n",
    "df_paradadas__['geometry'] = df_paradadas__.apply(lambda x: Point((float(x.longitude), float(x.latitude))), axis=1)"
   ]
  },
  {
   "cell_type": "code",
   "execution_count": null,
   "id": "e64ae85c",
   "metadata": {},
   "outputs": [],
   "source": [
    " # Convertendo a coluna 'nova_geometria' para a coluna de geometria principal\n",
    "df_paradada_inicio = gpd.GeoDataFrame(df_paradadas__, geometry='geometry')\n",
    "df_paradada_fim = gpd.GeoDataFrame(df_paradadas_fim__, geometry='geometry')"
   ]
  },
  {
   "cell_type": "markdown",
   "id": "a54c28e8",
   "metadata": {},
   "source": [
    "## 5.7 Filtrando dados no seguimento para cada df da lista"
   ]
  },
  {
   "cell_type": "code",
   "execution_count": null,
   "id": "e4689a6c",
   "metadata": {},
   "outputs": [],
   "source": [
    "# FILTRANDO DADOS PARA SEGUIMENTO ENTRE A PRIMERA E ULTIMA PARADA DE INTERESSE\n",
    "def filtrar_por_seguimento_(gdf):\n",
    "    # Aplicar o filtro\n",
    "    filtro = (gdf['longitude'] >= -38.566300) & (gdf['longitude'] <= -38.543328)\n",
    "    gdf_filtrado = gdf[filtro]\n",
    "    \n",
    "    return gdf_filtrado\n",
    "\n",
    "# Aplicando a função para cada GeoDataFrame na lista sem colunas desnecessárias\n",
    "resultados = [filtrar_por_seguimento_(gdf) for gdf in viculos_especificos_TRECHO_velocidades]"
   ]
  },
  {
   "cell_type": "code",
   "execution_count": null,
   "id": "dce85d0a",
   "metadata": {
    "scrolled": true
   },
   "outputs": [],
   "source": [
    "# Acessando resultado para o segundo dataframe que é o elemento com indice 01\n",
    "resultados[0]"
   ]
  },
  {
   "cell_type": "markdown",
   "id": "e282db9e",
   "metadata": {},
   "source": [
    "## 5.7.1 Adequando colunas para padronização das distancias dos perfis\n",
    "*  SE DEVE ADICIONAR OS DADOS DA ESTAÇÃO PARA PEGAR OS VEICULOS EM OPERAÇÃO NO SENTIDO A PARTIR DELA;\n",
    "* EXEMPLO: VEICULOS VOLTA SE DEVE ADICOANR DADSOS DA PARADA FIM!"
   ]
  },
  {
   "cell_type": "code",
   "execution_count": null,
   "id": "6b61bafc",
   "metadata": {},
   "outputs": [],
   "source": [
    "#  ADICIONANDO DADOS DA ESTAÇÃO PARA CALCULOS DE DISTANCIAS \n",
    "from pandas import concat  \n",
    "\n",
    "# Concatenando os dataframes, adicionando a nova coluna\n",
    "for i, gpf in enumerate(resultados):\n",
    "    resultados[i]  = gpf.append(df_paradada_inicio, ignore_index=True)"
   ]
  },
  {
   "cell_type": "code",
   "execution_count": null,
   "id": "c168269f",
   "metadata": {
    "scrolled": true
   },
   "outputs": [],
   "source": [
    "# COLOCANDO DADOS DA COLUNA MOMENOTO EM ORDEM \n",
    "for i, gpf in enumerate(resultados):\n",
    "    resultados[i] = gpf.sort_values(by='momento')"
   ]
  },
  {
   "cell_type": "code",
   "execution_count": null,
   "id": "c2898252",
   "metadata": {
    "scrolled": true
   },
   "outputs": [],
   "source": [
    "resultados[1]"
   ]
  },
  {
   "cell_type": "markdown",
   "id": "946f8133",
   "metadata": {},
   "source": [
    "## 5.7.2 Realizando medição das distancia em relação a parada de interesse"
   ]
  },
  {
   "cell_type": "code",
   "execution_count": null,
   "id": "eafb2486",
   "metadata": {},
   "outputs": [],
   "source": [
    "# Crindo coluna de geometry anterior com função de calculo de distancia ja criada\n",
    "resultados_ordem_dist = [processar_dataframe_dist(df) for df in resultados]"
   ]
  },
  {
   "cell_type": "code",
   "execution_count": null,
   "id": "985c260c",
   "metadata": {
    "scrolled": true
   },
   "outputs": [],
   "source": [
    "resultados_ordem_dist[0]"
   ]
  },
  {
   "cell_type": "code",
   "execution_count": null,
   "id": "1e600dfc",
   "metadata": {},
   "outputs": [],
   "source": [
    "# Aplicando função de distancia também feita anteriormente\n",
    "resultados_dist_tudo = [processar_distancia(df) for df in resultados_ordem_dist]"
   ]
  },
  {
   "cell_type": "code",
   "execution_count": null,
   "id": "ee91f763",
   "metadata": {
    "scrolled": true
   },
   "outputs": [],
   "source": [
    "resultados_dist_tudo[4]"
   ]
  },
  {
   "cell_type": "code",
   "execution_count": null,
   "id": "e60d7e29",
   "metadata": {},
   "outputs": [],
   "source": [
    "# Criando coluna com distancias acumuladas (Em relação a parada de interesse)\n",
    "def calcular_distancia_acumulada(resultados, coluna_distancia):\n",
    "    resultados_atualizados = []\n",
    "    # Iterando sobre cada GeoDataFrame na lista 'resultados'\n",
    "    for gdf in resultados_dist_tudo:\n",
    "        # Calculando a distância acumulada\n",
    "        gdf['distancia_acumulada'] = gdf[coluna_distancia].cumsum()\n",
    "\n",
    "        # Adicionando o GeoDataFrame atualizado à lista\n",
    "        resultados_atualizados.append(gdf)\n",
    "\n",
    "    return resultados_atualizados"
   ]
  },
  {
   "cell_type": "code",
   "execution_count": null,
   "id": "9d43b63f",
   "metadata": {},
   "outputs": [],
   "source": [
    "# Chamando a função para calcular a distância acumulada\n",
    "resultados = calcular_distancia_acumulada(resultados_dist_tudo, 'distancia')"
   ]
  },
  {
   "cell_type": "code",
   "execution_count": null,
   "id": "0e90bad9",
   "metadata": {
    "scrolled": true
   },
   "outputs": [],
   "source": [
    "# LISTA COM DATAFRAMES COM DADOS DE IDA E VOLTA \n",
    "len(resultados)"
   ]
  },
  {
   "cell_type": "markdown",
   "id": "c69323ec",
   "metadata": {},
   "source": [
    "## _5.7.3 Informações dos df´s gerados com velocidades_"
   ]
  },
  {
   "cell_type": "code",
   "execution_count": null,
   "id": "2a6c453c",
   "metadata": {
    "scrolled": true
   },
   "outputs": [],
   "source": [
    "# INFORMAÇÕES DE CADA DF DA LISTA COM VELOCIDADES\n",
    "for dfs in resultados:\n",
    "    display(dfs.info())"
   ]
  },
  {
   "cell_type": "code",
   "execution_count": null,
   "id": "5bed21bd",
   "metadata": {
    "scrolled": true
   },
   "outputs": [],
   "source": [
    "# EXIBINDO CADA DF DA LISTA RESULTADOS COM VELOCIDADES\n",
    "for dfs in resultados:\n",
    "    display(pd.DataFrame(dfs))"
   ]
  },
  {
   "cell_type": "markdown",
   "id": "8b2a2707",
   "metadata": {},
   "source": [
    "# 6.0 Identificação perfis no mesmo sentido\n",
    "    ''' INICIALMENTE ADICIONAMOS NOS DADOS DAS VELOCIDADES A LOCALIZAÇÃO DAS ESTAÇÕES DE INTERESSE PARA MEDIR AS DISTANCIAS DOS REGISTOS EM RELAÇÃO A ELA, ENTÃO BASTA FILTRAR AQUELES PERFIS QUE OBEDECEM A LOGICA DA DISTANCIA ACUMULADA SER PEQUENA E IR CRESCENDO COM O PASSAR DO TEMPO, ESSE SENDO UM INDICATIVO DE QUE ESSE VEICULO ESTÁ NO SENTIDO DE INTERESSE ''' "
   ]
  },
  {
   "cell_type": "code",
   "execution_count": null,
   "id": "085c7562",
   "metadata": {},
   "outputs": [],
   "source": [
    "# Comprimento do Trecho em analise\n",
    "comprimento_trecho = 2583.53007784341\n",
    "print(comprimento_trecho)"
   ]
  },
  {
   "cell_type": "code",
   "execution_count": null,
   "id": "7a096e98",
   "metadata": {},
   "outputs": [],
   "source": [
    "# FILTRANDO SOMENTE UMA VIAGEM SEGUIDA NO SEU INTEVALO (TRECHO) DE PASSAGEM:\n",
    "lista_filtrada = []\n",
    "\n",
    "for df in resultados:\n",
    "    # Filtrando as linhas onde a coluna 'distancia_acumulada' é menor que tamnho do trecho\n",
    "    df_filtrado = df.query('distancia_acumulada < 2583.53007784341')\n",
    "    lista_filtrada.append(df_filtrado)"
   ]
  },
  {
   "cell_type": "code",
   "execution_count": null,
   "id": "50b08de6",
   "metadata": {
    "scrolled": true
   },
   "outputs": [],
   "source": [
    "    ''' AGORA IREMOS FILTRAR DESSA LISTA AQUELES PERFIS QUE TIVEREM MAIS DE 5 LINHAS, OU SEJA, SOMENTE OS QUE RELAMENTE ESTIVEREM NO SENTIDO TERÃO MAIS REGISTROS E OQUE NÃO TIVEREM VÃO TER POUCAS LINHAS APOS A APLICAÇÃO DO FILTRO ACIMA!  '''"
   ]
  },
  {
   "cell_type": "code",
   "execution_count": null,
   "id": "19ef8680",
   "metadata": {},
   "outputs": [],
   "source": [
    "lista_final = []\n",
    "\n",
    "for df in lista_filtrada:\n",
    "    if len(df) > 8:\n",
    "        lista_final.append(df)"
   ]
  },
  {
   "cell_type": "code",
   "execution_count": null,
   "id": "bc267144",
   "metadata": {},
   "outputs": [],
   "source": [
    "len(lista_final) "
   ]
  },
  {
   "cell_type": "code",
   "execution_count": null,
   "id": "997c5a1f",
   "metadata": {
    "scrolled": true
   },
   "outputs": [],
   "source": [
    "lista_final[0]"
   ]
  },
  {
   "cell_type": "code",
   "execution_count": 12,
   "id": "6e47dcaf",
   "metadata": {},
   "outputs": [
    {
     "data": {
      "text/plain": [
       "' Ida quando se compara a distancia com a primeira parada '"
      ]
     },
     "execution_count": 12,
     "metadata": {},
     "output_type": "execute_result"
    }
   ],
   "source": [
    "''' Ida quando se compara a distancia com a primeira parada '''"
   ]
  },
  {
   "cell_type": "code",
   "execution_count": 13,
   "id": "03679cda",
   "metadata": {},
   "outputs": [
    {
     "data": {
      "text/plain": [
       "' Volta quando os filtrados são os que possuem distancia em relação a ultima estação (ultima sentido centro) '"
      ]
     },
     "execution_count": 13,
     "metadata": {},
     "output_type": "execute_result"
    }
   ],
   "source": [
    "''' Volta quando os filtrados são os que possuem distancia em relação a ultima estação (ultima sentido centro) '''"
   ]
  },
  {
   "cell_type": "markdown",
   "id": "70d87a8a",
   "metadata": {},
   "source": [
    "# 7.0 Base com perfis discretizados e analises iniciais\n",
    "    ''' OBS: A PARTIR DESSE TOPICO SERÃO FEITAS AS ANALISES!  ''' "
   ]
  },
  {
   "cell_type": "markdown",
   "id": "92ab90da",
   "metadata": {},
   "source": [
    "## 7.1 Adicionando linha dos veiculos nos dados de perfis"
   ]
  },
  {
   "cell_type": "code",
   "execution_count": null,
   "id": "5291455d",
   "metadata": {},
   "outputs": [],
   "source": [
    "# Lista para armazenar os DataFrames mesclados\n",
    "lista_mesclada = []\n",
    "\n",
    "for df in lista_final:\n",
    "    # Realizando o merge com base na coluna 'id_veiculo'\n",
    "    df_mesclado = pd.merge(df, validações_linhas_hora[['linha', 'nome_linha', 'id_veiculo']],  on='id_veiculo')\n",
    "    lista_mesclada.append(df_mesclado)"
   ]
  },
  {
   "cell_type": "code",
   "execution_count": null,
   "id": "bb5517e5",
   "metadata": {
    "scrolled": true
   },
   "outputs": [],
   "source": [
    "lista_mesclada[2]"
   ]
  },
  {
   "cell_type": "code",
   "execution_count": 14,
   "id": "2fcf3be6",
   "metadata": {},
   "outputs": [
    {
     "data": {
      "text/plain": [
       "' AGORA A BASE TEM A LINHA QUE O CADA VEICULO FAZ PARTE! '"
      ]
     },
     "execution_count": 14,
     "metadata": {},
     "output_type": "execute_result"
    }
   ],
   "source": [
    "''' AGORA A BASE TEM A LINHA QUE O CADA VEICULO FAZ PARTE! '''"
   ]
  },
  {
   "cell_type": "markdown",
   "id": "8d1f7cdb",
   "metadata": {},
   "source": [
    "## 7.2 Discretizando cada perfil \n",
    "''' Assumindo que a componente de velocidade a cada trecho discretizado seja proporcional a velocidade no trecho completo '''"
   ]
  },
  {
   "cell_type": "code",
   "execution_count": null,
   "id": "1c1767f6",
   "metadata": {
    "scrolled": true
   },
   "outputs": [],
   "source": [
    "# Discretizando a cada 5 metros\n",
    "# Lista para armazenar os DataFrames resultantes\n",
    "lista_velocidades_discretizadas = []\n",
    "\n",
    "for df in lista_mesclada: \n",
    "    # Inicializando a distância acumulada\n",
    "    distancia_acumulada = 0\n",
    "    \n",
    "    # Obtendo o tamanho total do trecho\n",
    "    tamanho_total_trecho = df['distancia_acumulada'].max()\n",
    "    \n",
    "    # Criando um DataFrame para armazenar as velocidades discretizadas\n",
    "    velocidades_discretizadas = pd.DataFrame(columns=['distancia', f'velocidade_{df.iloc[0][\"linha\"]}_{df.iloc[0][\"id_veiculo\"]}'])\n",
    "    \n",
    "    linha_atual = df.iloc[0]['linha']  # Obtendo a informação da linha do primeiro DataFrame\n",
    "    id_veiculo_atual = df.iloc[0]['id_veiculo']  # Obtendo a informação do id_veiculo do primeiro DataFrame\n",
    "    \n",
    "    # Iterando sobre os trechos do DataFrame\n",
    "    for index, row in df.iterrows():\n",
    "        distancia_trecho_atual = row['distancia']\n",
    "        velocidade_trecho_atual = row['velocidade']\n",
    "    \n",
    "        # Adicionando as distâncias discretizadas ao DataFrame de velocidades discretizadas\n",
    "        for distancia in range(0, int(distancia_trecho_atual) + 1, 5):\n",
    "            if distancia_acumulada > tamanho_total_trecho:\n",
    "                break\n",
    "            velocidades_discretizadas = velocidades_discretizadas.append({'distancia': distancia_acumulada, \n",
    "                                                                          f'velocidade_{linha_atual}_{id_veiculo_atual}': velocidade_trecho_atual}, \n",
    "                                                                         ignore_index=True)\n",
    "            distancia_acumulada += 5\n",
    "    \n",
    "    lista_velocidades_discretizadas.append(velocidades_discretizadas)"
   ]
  },
  {
   "cell_type": "code",
   "execution_count": null,
   "id": "e82ea8a7",
   "metadata": {},
   "outputs": [],
   "source": [
    "lista_velocidades_discretizadas[4]"
   ]
  },
  {
   "cell_type": "code",
   "execution_count": null,
   "id": "3083d9de",
   "metadata": {},
   "outputs": [],
   "source": [
    "# Fator de conversão de m/s para km/h\n",
    "fator_conversao = 3.6\n",
    "\n",
    "for df in lista_velocidades_discretizadas:\n",
    "    # Iterando sobre as colunas do DataFrame\n",
    "    for coluna in df.columns:\n",
    "        # Verificando se o nome da coluna contém a palavra \"velocidade\"\n",
    "        if 'velocidade' in coluna:\n",
    "            # Convertendo a coluna de velocidade de m/s para km/h\n",
    "            df[coluna] *= fator_conversao"
   ]
  },
  {
   "cell_type": "markdown",
   "id": "c3176c29",
   "metadata": {},
   "source": [
    "## 7.3 Visualização e resumo dos perfis no trecho e horario especifico"
   ]
  },
  {
   "cell_type": "code",
   "execution_count": null,
   "id": "52c63903",
   "metadata": {
    "scrolled": false
   },
   "outputs": [],
   "source": [
    "# Lista para armazenar os traces de velocidade de cada DataFrame\n",
    "traces = []\n",
    "\n",
    "# Iterando sobre cada DataFrame da lista\n",
    "for idx, df in enumerate(lista_velocidades_discretizadas):\n",
    "    # Extraindo informações da coluna de velocidade\n",
    "    info_velocidade = df.columns[-1].split('_')\n",
    "    linha_atual = info_velocidade[1]  # Obtendo o número da linha\n",
    "    id_veiculo_atual = info_velocidade[2]  # Obtendo o ID do veículo\n",
    "    \n",
    "    # Criando um trace para a velocidade de cada DataFrame\n",
    "    trace = go.Scatter(\n",
    "        x=df['distancia'],\n",
    "        y=df.iloc[:, -1],  # Utilizando a última coluna do DataFrame como velocidade\n",
    "        mode='lines',\n",
    "        name=f'Velocidade - Linha {linha_atual} - ID {id_veiculo_atual}',  # Nomeando o trace com informações dinâmicas\n",
    "        hoverinfo='x+y+name',  # Informações mostradas ao passar o mouse sobre o gráfico\n",
    "    )\n",
    "    traces.append(trace)\n",
    "\n",
    "# Preenchendo o valor nulo na primeira linha da coluna \"distancia_acumulada\" com zero\n",
    "paradas_interesse['distancia_acumulada_paradas'].iloc[0] = 0\n",
    "\n",
    "# Criando um trace para as paradas de interesse\n",
    "trace_paradas = go.Scatter(\n",
    "    x=paradas_interesse['distancia_acumulada_paradas'],  # Coordenadas x\n",
    "    y=[0] * len(paradas_interesse),  # Coordenadas y (todos são 0)\n",
    "    mode='markers',  # Modo de plotagem de marcadores\n",
    "    marker=dict(\n",
    "        symbol='triangle-up',  # Formato do marcador (triângulo para cima)\n",
    "        size=10,  # Tamanho do marcador\n",
    "        color='black',  # Cor do marcador\n",
    "    ),\n",
    "    hovertext=paradas_interesse['stop_name'],  # Texto de dica ao passar o mouse sobre os marcadores\n",
    "    hoverinfo='text',  # Informações mostradas ao passar o mouse\n",
    "    name='Estações BRT'  # Nome do trace\n",
    ")\n",
    "\n",
    "# Adicionando o trace das paradas de interesse à lista de traces\n",
    "traces.append(trace_paradas)\n",
    "\n",
    "# Criando o layout do gráfico\n",
    "layout = go.Layout(\n",
    "    title='Velocidades (veículos das linhas no trecho e horário de interesse)',\n",
    "    xaxis=dict(title='Distância (m)'),\n",
    "    yaxis=dict(title='Velocidade (km/h)'),\n",
    "    hovermode='closest'\n",
    ")\n",
    "\n",
    "# Criando a figura com os traces e o layout\n",
    "fig = go.Figure(data=traces, layout=layout)\n",
    "\n",
    "# Exibindo o gráfico\n",
    "fig.show()"
   ]
  },
  {
   "cell_type": "code",
   "execution_count": 16,
   "id": "32cfd2ac",
   "metadata": {},
   "outputs": [
    {
     "data": {
      "text/plain": [
       "' SEGUE DESCRIÇÃO ESTATISTICA DE CADA PERFIL: '"
      ]
     },
     "execution_count": 16,
     "metadata": {},
     "output_type": "execute_result"
    }
   ],
   "source": [
    "''' SEGUE DESCRIÇÃO ESTATISTICA DE CADA PERFIL: '''"
   ]
  },
  {
   "cell_type": "code",
   "execution_count": null,
   "id": "52ec07ad",
   "metadata": {
    "scrolled": true
   },
   "outputs": [],
   "source": [
    "for idx, df in enumerate(lista_velocidades_discretizadas):\n",
    "    # Obtendo o nome da coluna de velocidade\n",
    "    nome_coluna_velocidade = df.columns[-1]\n",
    "    \n",
    "    # Calculando o resumo estatístico apenas para a coluna de velocidade\n",
    "    resumo_velocidade = df[nome_coluna_velocidade].describe()\n",
    "    \n",
    "    # Imprimindo o resumo estatístico apenas para a coluna de velocidade\n",
    "    print(f\"Resumo Estatístico do perfil de velocidade ({nome_coluna_velocidade}):\")\n",
    "    print(resumo_velocidade)\n",
    "    print()  # Adiciona uma linha em branco entre os resumos estatísticos"
   ]
  },
  {
   "cell_type": "code",
   "execution_count": 15,
   "id": "6abee3b1",
   "metadata": {},
   "outputs": [
    {
     "data": {
      "text/plain": [
       "' OBSERVAR A MÉDIA DE VELOCIDADES E DISPERSÃO DOS VALORES'"
      ]
     },
     "execution_count": 15,
     "metadata": {},
     "output_type": "execute_result"
    }
   ],
   "source": [
    "''' OBSERVAR A MÉDIA DE VELOCIDADES E DISPERSÃO DOS VALORES'''"
   ]
  },
  {
   "cell_type": "markdown",
   "id": "966942d2",
   "metadata": {},
   "source": [
    "## 7.4 Exportação\n",
    "''' COM DADOS DE PERFIS VEICULARES DE DIFERENTES LINHAS NO MESMO INTERVALO, BASTA EXPORTALOS E GERAR PARA DEMAIS HORARIOS DE INTERSSE, DIAS E PROCEGUIR COM AS DEMAIS ANALISES! ''' "
   ]
  },
  {
   "cell_type": "code",
   "execution_count": null,
   "id": "71be7202",
   "metadata": {},
   "outputs": [],
   "source": [
    "# Definindo o nome do arquivo Excel\n",
    "nome_arquivo_excel = \"dados__perfis_velocidades_dia01_17_18hs.xlsx\"\n",
    "\n",
    "# Criando um DataFrame vazio para armazenar os dados finais\n",
    "df_final = pd.DataFrame(columns=['distancia'])\n",
    "\n",
    "# Iterando sobre cada DataFrame na lista\n",
    "for idx, df in enumerate(lista_velocidades_discretizadas):\n",
    "    # Adicionando a coluna de distância ao DataFrame final\n",
    "    df_final['distancia'] = df['distancia']\n",
    "    \n",
    "    # Obtendo o nome da coluna de velocidade\n",
    "    nome_coluna_velocidade = df.columns[-1]\n",
    "    \n",
    "    # Adicionando as colunas de velocidade discretizada ao DataFrame final\n",
    "    df_final[nome_coluna_velocidade] = df.iloc[:, -1]\n",
    "\n",
    "# Exportando o DataFrame final para o arquivo Excel\n",
    "df_final.to_excel(nome_arquivo_excel, index=False)"
   ]
  },
  {
   "cell_type": "markdown",
   "id": "f5fcb3d4",
   "metadata": {},
   "source": [
    "# --------------------------------------------------------------------------------------"
   ]
  }
 ],
 "metadata": {
  "kernelspec": {
   "display_name": "Python 3 (ipykernel)",
   "language": "python",
   "name": "python3"
  },
  "language_info": {
   "codemirror_mode": {
    "name": "ipython",
    "version": 3
   },
   "file_extension": ".py",
   "mimetype": "text/x-python",
   "name": "python",
   "nbconvert_exporter": "python",
   "pygments_lexer": "ipython3",
   "version": "3.7.6"
  }
 },
 "nbformat": 4,
 "nbformat_minor": 5
}
