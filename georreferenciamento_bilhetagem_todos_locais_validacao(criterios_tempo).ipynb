{
 "cells": [
  {
   "cell_type": "markdown",
   "id": "4c29b47f",
   "metadata": {},
   "source": [
    "# Algoritmo - Localização Bilhetagem (incluindo Terminais e BRT)\n",
    "### Autor: Antônio Claudio Dutra Batista\n",
    "### Orientador: Francisco Moraes de Oliveria Neto\n",
    "### Metodologia: Mesclagem por informações coincidentes e critério de tempo"
   ]
  },
  {
   "cell_type": "markdown",
   "id": "0d3152ac",
   "metadata": {},
   "source": [
    "# 1.0  Leitura das Bases"
   ]
  },
  {
   "cell_type": "markdown",
   "id": "53c75e45",
   "metadata": {},
   "source": [
    "## 1.1 leitura da base - Bilhetagem (Tratamento Inicial)"
   ]
  },
  {
   "cell_type": "code",
   "execution_count": null,
   "id": "493f58a7",
   "metadata": {},
   "outputs": [],
   "source": [
    "import pandas as pd \n",
    "# Arquivos são do mês de novembro de 2018.\n",
    "# Definindo tipos de variaveis com tamanhos menores\n",
    "tipos_specification = {'id': 'int32', 'linha': 'int32'}\n",
    "\n",
    "# df's abaixo (leitura somente das colunas necessárias):\n",
    "dia_01 = pd.read_csv('2018-11-01.csv', usecols=['id', 'linha', 'nome_linha', 'prefixo_carro', 'tipo_cartao','dia', 'momento'], dtype=tipos_specification, sep= ',')\n",
    "dia_02 = pd.read_csv('2018-11-02.csv', usecols=['id', 'linha', 'nome_linha', 'prefixo_carro', 'tipo_cartao','dia', 'momento'], dtype=tipos_specification,  sep= ',')\n",
    "dia_03 = pd.read_csv('2018-11-03.csv', usecols=['id', 'linha', 'nome_linha', 'prefixo_carro', 'tipo_cartao','dia', 'momento'], dtype=tipos_specification,  sep= ',')\n",
    "dia_04 = pd.read_csv('2018-11-04.csv', usecols=['id', 'linha', 'nome_linha', 'prefixo_carro', 'tipo_cartao','dia', 'momento'], dtype=tipos_specification,  sep= ',')\n",
    "dia_05 = pd.read_csv('2018-11-05.csv', usecols=['id', 'linha', 'nome_linha', 'prefixo_carro', 'tipo_cartao','dia', 'momento'], dtype=tipos_specification, sep= ',') \n",
    "dia_06 = pd.read_csv('2018-11-06.csv', usecols=['id', 'linha', 'nome_linha', 'prefixo_carro', 'tipo_cartao','dia', 'momento'], dtype=tipos_specification,  sep= ',')\n",
    "dia_07 = pd.read_csv('2018-11-07.csv', usecols=['id', 'linha', 'nome_linha', 'prefixo_carro', 'tipo_cartao','dia', 'momento'], dtype=tipos_specification,  sep= ',')\n",
    "dia_08 = pd.read_csv('2018-11-08.csv', usecols=['id', 'linha', 'nome_linha', 'prefixo_carro', 'tipo_cartao','dia', 'momento'], dtype=tipos_specification, sep= ',')\n",
    "dia_09 = pd.read_csv('2018-11-09.csv', usecols=['id', 'linha', 'nome_linha', 'prefixo_carro', 'tipo_cartao','dia', 'momento'], dtype=tipos_specification,  sep= ',')\n",
    "dia_10 = pd.read_csv('2018-11-10.csv', usecols=['id', 'linha', 'nome_linha', 'prefixo_carro', 'tipo_cartao','dia', 'momento'], dtype=tipos_specification,  sep= ',')"
   ]
  },
  {
   "cell_type": "code",
   "execution_count": null,
   "id": "54b24fda",
   "metadata": {},
   "outputs": [],
   "source": [
    "# Continuando...\n",
    "dia_11 = pd.read_csv('2018-11-11.csv', usecols=['id', 'linha', 'nome_linha', 'prefixo_carro', 'tipo_cartao','dia', 'momento'], dtype=tipos_specification,  sep= ',')\n",
    "dia_12 = pd.read_csv('2018-11-12.csv', usecols=['id', 'linha', 'nome_linha', 'prefixo_carro', 'tipo_cartao','dia', 'momento'], dtype=tipos_specification,  sep= ',')\n",
    "dia_13 = pd.read_csv('2018-11-13.csv', usecols=['id', 'linha', 'nome_linha', 'prefixo_carro', 'tipo_cartao','dia', 'momento'], dtype=tipos_specification,  sep= ',')\n",
    "dia_14 = pd.read_csv('2018-11-14.csv', usecols=['id', 'linha', 'nome_linha', 'prefixo_carro', 'tipo_cartao','dia', 'momento'], dtype=tipos_specification,  sep= ',')\n",
    "dia_15 = pd.read_csv('2018-11-15.csv', usecols=['id', 'linha', 'nome_linha', 'prefixo_carro', 'tipo_cartao','dia', 'momento'], dtype=tipos_specification,  sep= ',')\n",
    "dia_16 = pd.read_csv('2018-11-16.csv', usecols=['id', 'linha', 'nome_linha', 'prefixo_carro', 'tipo_cartao','dia', 'momento'], dtype=tipos_specification,  sep= ',')\n",
    "dia_17 = pd.read_csv('2018-11-17.csv', usecols=['id', 'linha', 'nome_linha', 'prefixo_carro', 'tipo_cartao','dia', 'momento'], dtype=tipos_specification,  sep= ',')\n",
    "dia_18 = pd.read_csv('2018-11-18.csv', usecols=['id', 'linha', 'nome_linha', 'prefixo_carro', 'tipo_cartao','dia', 'momento'], dtype=tipos_specification,  sep= ',')\n",
    "dia_19 = pd.read_csv('2018-11-19.csv', usecols=['id', 'linha', 'nome_linha', 'prefixo_carro', 'tipo_cartao','dia', 'momento'], dtype=tipos_specification, sep= ',')\n",
    "dia_20 = pd.read_csv('2018-11-20.csv', usecols=['id', 'linha', 'nome_linha', 'prefixo_carro', 'tipo_cartao','dia', 'momento'], dtype=tipos_specification, sep= ',')"
   ]
  },
  {
   "cell_type": "code",
   "execution_count": null,
   "id": "ddae68f7",
   "metadata": {},
   "outputs": [],
   "source": [
    "# Continuando...\n",
    "dia_21 = pd.read_csv('2018-11-21.csv', usecols=['id', 'linha', 'nome_linha', 'prefixo_carro', 'tipo_cartao','dia', 'momento'], dtype=tipos_specification,  sep= ',')\n",
    "dia_22 = pd.read_csv('2018-11-22.csv', usecols=['id', 'linha', 'nome_linha', 'prefixo_carro', 'tipo_cartao','dia', 'momento'], dtype=tipos_specification,  sep= ',')\n",
    "dia_23 = pd.read_csv('2018-11-23.csv', usecols=['id', 'linha', 'nome_linha', 'prefixo_carro', 'tipo_cartao','dia', 'momento'], dtype=tipos_specification,  sep= ',')\n",
    "dia_24 = pd.read_csv('2018-11-24.csv', usecols=['id', 'linha', 'nome_linha', 'prefixo_carro', 'tipo_cartao','dia', 'momento'], dtype=tipos_specification,  sep= ',')\n",
    "dia_25 = pd.read_csv('2018-11-25.csv', usecols=['id', 'linha', 'nome_linha', 'prefixo_carro', 'tipo_cartao','dia', 'momento'], dtype=tipos_specification,  sep= ',')\n",
    "dia_26 = pd.read_csv('2018-11-26.csv', usecols=['id', 'linha', 'nome_linha', 'prefixo_carro', 'tipo_cartao','dia', 'momento'], dtype=tipos_specification,  sep= ',')\n",
    "dia_27 = pd.read_csv('2018-11-27.csv', usecols=['id', 'linha', 'nome_linha', 'prefixo_carro', 'tipo_cartao','dia', 'momento'], dtype=tipos_specification,  sep= ',')\n",
    "dia_28 = pd.read_csv('2018-11-28.csv', usecols=['id', 'linha', 'nome_linha', 'prefixo_carro', 'tipo_cartao','dia', 'momento'], dtype=tipos_specification,  sep= ',')\n",
    "dia_29 = pd.read_csv('2018-11-29.csv', usecols=['id', 'linha', 'nome_linha', 'prefixo_carro', 'tipo_cartao','dia', 'momento'], dtype=tipos_specification,  sep= ',')\n",
    "dia_30 = pd.read_csv('2018-11-30.csv', usecols=['id', 'linha', 'nome_linha', 'prefixo_carro', 'tipo_cartao','dia', 'momento'], dtype=tipos_specification,  sep= ',')"
   ]
  },
  {
   "cell_type": "code",
   "execution_count": null,
   "id": "f4b4ee7b",
   "metadata": {},
   "outputs": [],
   "source": [
    "# Agrupando (10 dias)\n",
    "dia_01_10 = pd.concat([dia_01, dia_02, dia_03, dia_04, dia_05, dia_06 ,dia_07, dia_08, dia_09, dia_10])"
   ]
  },
  {
   "cell_type": "code",
   "execution_count": null,
   "id": "626596ba",
   "metadata": {},
   "outputs": [],
   "source": [
    "# Continuando...\n",
    "dia_11_20 = pd.concat([dia_11, dia_12, dia_13, dia_14, dia_15,dia_16, dia_17, dia_18, dia_19, dia_20])"
   ]
  },
  {
   "cell_type": "code",
   "execution_count": null,
   "id": "2cf982ac",
   "metadata": {},
   "outputs": [],
   "source": [
    "# Continuando...\n",
    "dia_21_30 = pd.concat([dia_21, dia_22, dia_23, dia_24, dia_25, dia_26, dia_27, dia_28, dia_29, dia_30])"
   ]
  },
  {
   "cell_type": "code",
   "execution_count": null,
   "id": "7a52414b",
   "metadata": {},
   "outputs": [],
   "source": [
    "mes_tudo = pd.concat([dia_01_10, dia_11_20,dia_21_30])"
   ]
  },
  {
   "cell_type": "code",
   "execution_count": null,
   "id": "e8d56b0a",
   "metadata": {},
   "outputs": [],
   "source": [
    "# DELETANDO EXPLICITAMENTE VARAIVEIS COM DIAS 01-10\n",
    "del dia_01\n",
    "del dia_02\n",
    "del dia_03\n",
    "del dia_04\n",
    "del dia_05\n",
    "del dia_06\n",
    "del dia_07\n",
    "del dia_08\n",
    "del dia_09\n",
    "del dia_10"
   ]
  },
  {
   "cell_type": "code",
   "execution_count": null,
   "id": "14963230",
   "metadata": {},
   "outputs": [],
   "source": [
    "# DELETANDO EXPLICITAMENTE VARAIVEIS COM DIAS 11-20\n",
    "del dia_11\n",
    "del dia_12\n",
    "del dia_13\n",
    "del dia_14\n",
    "del dia_15\n",
    "del dia_16\n",
    "del dia_17\n",
    "del dia_18\n",
    "del dia_19\n",
    "del dia_20"
   ]
  },
  {
   "cell_type": "code",
   "execution_count": null,
   "id": "218da72c",
   "metadata": {},
   "outputs": [],
   "source": [
    "# DELETANDO EXPLICITAMENTE VARAIVEIS COM DIAS 21-30\n",
    "del dia_21\n",
    "del dia_22\n",
    "del dia_23\n",
    "del dia_24\n",
    "del dia_25\n",
    "del dia_26\n",
    "del dia_27\n",
    "del dia_28\n",
    "del dia_29\n",
    "del dia_30"
   ]
  },
  {
   "cell_type": "code",
   "execution_count": null,
   "id": "e139833b",
   "metadata": {},
   "outputs": [],
   "source": [
    "# DELETANDO EXPLICITAMENTE VARAIVEIS COM DIAS 1agrupados\n",
    "del dia_01_10\n",
    "del dia_11_20\n",
    "del dia_21_30"
   ]
  },
  {
   "cell_type": "code",
   "execution_count": null,
   "id": "43fce2a3",
   "metadata": {},
   "outputs": [],
   "source": [
    "# Caso necessite exportar arquivo da bilhetagem completa\n",
    "# mes_tudo.to_csv(\"mes_tudo\")"
   ]
  },
  {
   "cell_type": "code",
   "execution_count": null,
   "id": "3f36966b",
   "metadata": {},
   "outputs": [],
   "source": [
    "''' FORMATAÇÃO INICIAL '''"
   ]
  },
  {
   "cell_type": "code",
   "execution_count": null,
   "id": "aa5fc47b",
   "metadata": {},
   "outputs": [],
   "source": [
    "# Momentos em ordem do df mes_c_R!\n",
    "# mes_tudo.sort_values('momento', inplace = True) # Mostrando DF em ORDEM!"
   ]
  },
  {
   "cell_type": "code",
   "execution_count": null,
   "id": "2682773d",
   "metadata": {},
   "outputs": [],
   "source": [
    "# Juntando colunas de interesse (dia, momento) em uma só:\n",
    "mes_tudo[\"momento\"] = mes_tudo['dia'].astype(str) + '-' + mes_tudo['momento'].astype(str)"
   ]
  },
  {
   "cell_type": "code",
   "execution_count": null,
   "id": "8eb4bda7",
   "metadata": {},
   "outputs": [],
   "source": [
    "# REMOVENDO COLUNAS DESNECESSÁRIAS!\n",
    "mes_tudo.drop(['dia'], inplace= True, axis=1)"
   ]
  },
  {
   "cell_type": "markdown",
   "id": "f99eb8a4",
   "metadata": {},
   "source": [
    "### 1.1.1 Inspeção inicial"
   ]
  },
  {
   "cell_type": "code",
   "execution_count": null,
   "id": "69992b1d",
   "metadata": {},
   "outputs": [],
   "source": [
    "# Informações da base\n",
    "mes_tudo.info()"
   ]
  },
  {
   "cell_type": "code",
   "execution_count": null,
   "id": "f475c12b",
   "metadata": {},
   "outputs": [],
   "source": [
    "# Dados nulos \n",
    "mes_tudo.isnull().sum()"
   ]
  },
  {
   "cell_type": "code",
   "execution_count": null,
   "id": "d305ac1b",
   "metadata": {},
   "outputs": [],
   "source": [
    "# Verificando linhas utilizadas \n",
    "nomes_linhas = mes_tudo['nome_linha']\n",
    "nomes_linhas.unique()"
   ]
  },
  {
   "cell_type": "code",
   "execution_count": null,
   "id": "47fe9f81",
   "metadata": {},
   "outputs": [],
   "source": [
    "# Visualisando dados de identifcação dos veciulos nulos\n",
    "veiclulos_nao_identificados = mes_tudo[mes_tudo['prefixo_carro'].isnull()]\n",
    "df_nao_identificados =  veiclulos_nao_identificados['nome_linha'].value_counts()"
   ]
  },
  {
   "cell_type": "code",
   "execution_count": null,
   "id": "c4fa2f5b",
   "metadata": {},
   "outputs": [],
   "source": [
    "df_nao_identificados"
   ]
  },
  {
   "cell_type": "code",
   "execution_count": null,
   "id": "62775448",
   "metadata": {},
   "outputs": [],
   "source": [
    "''' Ou seja, duas linhas tiveram dados nulos de identificação dos veiculos'''"
   ]
  },
  {
   "cell_type": "code",
   "execution_count": null,
   "id": "9a59f876",
   "metadata": {},
   "outputs": [],
   "source": [
    "# Visualisando dados de identifcação dos nomes das linhas nulos\n",
    "nome_linha_nao_identificados = mes_tudo[mes_tudo['nome_linha'].isnull()]"
   ]
  },
  {
   "cell_type": "code",
   "execution_count": null,
   "id": "c78a50bc",
   "metadata": {},
   "outputs": [],
   "source": [
    "nome_linha_nao_identificados"
   ]
  },
  {
   "cell_type": "code",
   "execution_count": null,
   "id": "a234c99d",
   "metadata": {},
   "outputs": [],
   "source": [
    "''' Obs: Nomes da linhas nulos não é um problema, pois se tem o id de identificação delas na coluna linha! '''"
   ]
  },
  {
   "cell_type": "markdown",
   "id": "247c82ab",
   "metadata": {},
   "source": [
    "### 1.1.2 Tratamento da base para localização de validações fora de terminais"
   ]
  },
  {
   "cell_type": "code",
   "execution_count": null,
   "id": "a460db48",
   "metadata": {},
   "outputs": [],
   "source": [
    "# Memoria liberou 0.2 gb\n",
    "mes_tudo.info()"
   ]
  },
  {
   "cell_type": "code",
   "execution_count": null,
   "id": "ed3e8171",
   "metadata": {},
   "outputs": [],
   "source": [
    "mes1 = mes_tudo"
   ]
  },
  {
   "cell_type": "code",
   "execution_count": null,
   "id": "f891279e",
   "metadata": {},
   "outputs": [],
   "source": [
    "# Excluindo explicitamente variavel com bilhetagem desnecessária\n",
    "del mes_tudo "
   ]
  },
  {
   "cell_type": "code",
   "execution_count": null,
   "id": "8ad42a07",
   "metadata": {},
   "outputs": [],
   "source": [
    "mes1.info()"
   ]
  },
  {
   "cell_type": "code",
   "execution_count": null,
   "id": "f4280e23",
   "metadata": {
    "scrolled": true
   },
   "outputs": [],
   "source": [
    "mes1[\"momento\"] = pd.to_datetime(mes1[\"momento\"], format= '%Y-%m-%d-%H:%M:%S')"
   ]
  },
  {
   "cell_type": "code",
   "execution_count": null,
   "id": "68b152d3",
   "metadata": {},
   "outputs": [],
   "source": [
    "# Removendo dados nulos na coluna prefixo_carro\n",
    "mes_ = mes1.dropna(subset = ['prefixo_carro'])"
   ]
  },
  {
   "cell_type": "code",
   "execution_count": null,
   "id": "fa302d32",
   "metadata": {},
   "outputs": [],
   "source": [
    "# Excluindo explicitamente variavel com bilhetagem desnecessária\n",
    "del mes1"
   ]
  },
  {
   "cell_type": "code",
   "execution_count": null,
   "id": "77287750",
   "metadata": {},
   "outputs": [],
   "source": [
    "# Removendo identificação de veiculos com caracteris da coluna de prefixo_carro\n",
    "mes = mes_[pd.to_numeric(mes_['prefixo_carro'], errors='coerce').notnull()]"
   ]
  },
  {
   "cell_type": "code",
   "execution_count": null,
   "id": "c410eb02",
   "metadata": {},
   "outputs": [],
   "source": [
    "# Trasnformando coluna de prefixo carro em inteiro\n",
    "mes['prefixo_carro'] = mes['prefixo_carro'].astype('int32')"
   ]
  },
  {
   "cell_type": "code",
   "execution_count": null,
   "id": "e068fbac",
   "metadata": {},
   "outputs": [],
   "source": [
    "mes.info()"
   ]
  },
  {
   "cell_type": "code",
   "execution_count": null,
   "id": "1a630ae6",
   "metadata": {},
   "outputs": [],
   "source": [
    "# Última versão do df MES\n",
    "mes"
   ]
  },
  {
   "cell_type": "code",
   "execution_count": null,
   "id": "0f99a50d",
   "metadata": {},
   "outputs": [],
   "source": [
    "24891059-3289838"
   ]
  },
  {
   "cell_type": "markdown",
   "id": "839393cf",
   "metadata": {},
   "source": [
    "## 1.2 leitura da base dicionário e identificação de validações em terminais"
   ]
  },
  {
   "cell_type": "markdown",
   "id": "3aeaa92b",
   "metadata": {},
   "source": [
    "### 1.2.1 leitura e tratamento da base dicionário"
   ]
  },
  {
   "cell_type": "code",
   "execution_count": null,
   "id": "5818c54c",
   "metadata": {},
   "outputs": [],
   "source": [
    "# df', abaixo:\n",
    "d1 = pd.read_csv('veiculos2018.csv', sep= ';')"
   ]
  },
  {
   "cell_type": "code",
   "execution_count": null,
   "id": "bc24ee0d",
   "metadata": {},
   "outputs": [],
   "source": [
    "# Mostrando Df\n",
    "display(d1)"
   ]
  },
  {
   "cell_type": "code",
   "execution_count": null,
   "id": "433246ec",
   "metadata": {},
   "outputs": [],
   "source": [
    "d1.info()"
   ]
  },
  {
   "cell_type": "code",
   "execution_count": null,
   "id": "b559b56d",
   "metadata": {},
   "outputs": [],
   "source": [
    "# transformando coluna para tipo string\n",
    "d1['cod_veiculo'] = d1['cod_veiculo'].astype(str)"
   ]
  },
  {
   "cell_type": "code",
   "execution_count": null,
   "id": "62b08ec8",
   "metadata": {},
   "outputs": [],
   "source": [
    "d1[d1['cod_veiculo'].str.contains('26103')]"
   ]
  },
  {
   "cell_type": "code",
   "execution_count": null,
   "id": "46fca3a1",
   "metadata": {},
   "outputs": [],
   "source": [
    "# Removendo casracters não numericos da calouna\n",
    "d1['cod_veiculo']= d1['cod_veiculo'].replace({'\\D': ''}, regex=True)"
   ]
  },
  {
   "cell_type": "code",
   "execution_count": null,
   "id": "a6698ec3",
   "metadata": {},
   "outputs": [],
   "source": [
    "# Convertendo dados para valores numericos\n",
    "d1['cod_veiculo'] = pd.to_numeric(d1['cod_veiculo'], errors='coerce')"
   ]
  },
  {
   "cell_type": "code",
   "execution_count": null,
   "id": "595675dc",
   "metadata": {},
   "outputs": [],
   "source": [
    "# Verificando se os valores são unicos\n",
    "d1['cod_veiculo'].duplicated().any()"
   ]
  },
  {
   "cell_type": "code",
   "execution_count": null,
   "id": "e09dc8ff",
   "metadata": {},
   "outputs": [],
   "source": [
    "# visualizando\n",
    "d1[d1['cod_veiculo'].duplicated(keep=False)]"
   ]
  },
  {
   "cell_type": "code",
   "execution_count": null,
   "id": "bf367d69",
   "metadata": {},
   "outputs": [],
   "source": [
    "# Visualizando cod especifico \n",
    "d1[d1.cod_veiculo==26103.0]"
   ]
  },
  {
   "cell_type": "code",
   "execution_count": null,
   "id": "adee3b69",
   "metadata": {},
   "outputs": [],
   "source": [
    "''' Ou seja, existe para um mesmo prefico carro mais de um id associado'''"
   ]
  },
  {
   "cell_type": "code",
   "execution_count": null,
   "id": "9b56ddd0",
   "metadata": {},
   "outputs": [],
   "source": [
    "# Verificando se os valores são unicos\n",
    "d1['id_veiculo'].duplicated().any()"
   ]
  },
  {
   "cell_type": "code",
   "execution_count": null,
   "id": "a353f447",
   "metadata": {},
   "outputs": [],
   "source": [
    "# visualizando\n",
    "d1[d1['id_veiculo'].duplicated(keep=False)]"
   ]
  },
  {
   "cell_type": "code",
   "execution_count": null,
   "id": "360de7c1",
   "metadata": {},
   "outputs": [],
   "source": [
    "''' Mas não existem mais de um veiculo associado do GPS, isto é, na base da bilhetagem existem nomeclaturas diferentes para um mesmo veiculo!'''"
   ]
  },
  {
   "cell_type": "code",
   "execution_count": null,
   "id": "673e2f08",
   "metadata": {},
   "outputs": [],
   "source": [
    "''' Isso causa um problema na mesclagem da bilhetagem com o diconario pois para um mesmo prefixo_carro associa com dois cod_veiculo! Mas como essa validação duplicada terá uma unica identifcação para o veiculo do GPS e pode ser removido esses dados duplicados! '''"
   ]
  },
  {
   "cell_type": "code",
   "execution_count": null,
   "id": "25858a57",
   "metadata": {},
   "outputs": [],
   "source": [
    "d1"
   ]
  },
  {
   "cell_type": "code",
   "execution_count": null,
   "id": "b94313d8",
   "metadata": {},
   "outputs": [],
   "source": [
    "# Removenfdo identificação de veiculos com caracteres da coluna de cod_veiculo\n",
    "# d01 = d1[pd.to_numeric(d1['cod_veiculo'], errors='coerce').notnull()]"
   ]
  },
  {
   "cell_type": "code",
   "execution_count": null,
   "id": "c7d282e5",
   "metadata": {},
   "outputs": [],
   "source": [
    "d1.info()"
   ]
  },
  {
   "cell_type": "code",
   "execution_count": null,
   "id": "07df8a0a",
   "metadata": {},
   "outputs": [],
   "source": [
    "''' Como algumas informações da coluna cod_veiculo possuiam caracteres em todas a celula, esses valores foram removidos por interio, então as linhas dessas colunas ficaram com dados nulos! '''"
   ]
  },
  {
   "cell_type": "code",
   "execution_count": null,
   "id": "5dbbb7d1",
   "metadata": {},
   "outputs": [],
   "source": [
    "# Verificando dados nulos \n",
    "nulos_cod = d1[d1['cod_veiculo'].isnull()]\n",
    "len(nulos_cod)"
   ]
  },
  {
   "cell_type": "code",
   "execution_count": null,
   "id": "976128d9",
   "metadata": {},
   "outputs": [],
   "source": [
    "# Removendo dados nulos do dicionario\n",
    "d01 = d1.dropna()"
   ]
  },
  {
   "cell_type": "code",
   "execution_count": null,
   "id": "063ec36d",
   "metadata": {},
   "outputs": [],
   "source": [
    "# Trasnformando coluna de prefixo carro em inteiro\n",
    "d01['cod_veiculo'] = d01['cod_veiculo'].astype('int32')\n",
    "d01['id_veiculo'] = d01['id_veiculo'].astype('int32')"
   ]
  },
  {
   "cell_type": "code",
   "execution_count": null,
   "id": "1b31e1f0",
   "metadata": {},
   "outputs": [],
   "source": [
    "# Removendo dados duplicados do dicionario\n",
    "d01.drop_duplicates(inplace=True)"
   ]
  },
  {
   "cell_type": "code",
   "execution_count": null,
   "id": "162541bc",
   "metadata": {},
   "outputs": [],
   "source": [
    "d01[d01.cod_veiculo ==36981]"
   ]
  },
  {
   "cell_type": "code",
   "execution_count": null,
   "id": "11429eb1",
   "metadata": {},
   "outputs": [],
   "source": [
    "d01['cod_veiculo'].sort_index()"
   ]
  },
  {
   "cell_type": "code",
   "execution_count": null,
   "id": "8754fad7",
   "metadata": {
    "scrolled": true
   },
   "outputs": [],
   "source": [
    "d01.isnull().sum()"
   ]
  },
  {
   "cell_type": "markdown",
   "id": "66a80765",
   "metadata": {},
   "source": [
    "### 1.2.2 Identificação de validações em terminais"
   ]
  },
  {
   "cell_type": "code",
   "execution_count": null,
   "id": "83c97f3c",
   "metadata": {},
   "outputs": [],
   "source": [
    "# Verificando dados que estão na bilhetagem (prefixo_carro), mas não estão no dicionário e consequentemente não estão no GPS\n",
    "dados_apenas_em_mes_ = mes[~mes['prefixo_carro'].isin(d01['cod_veiculo'])]"
   ]
  },
  {
   "cell_type": "code",
   "execution_count": null,
   "id": "37425e2c",
   "metadata": {},
   "outputs": [],
   "source": [
    "dados_apenas_em_mes_.info()"
   ]
  },
  {
   "cell_type": "code",
   "execution_count": null,
   "id": "21d2217f",
   "metadata": {},
   "outputs": [],
   "source": [
    "# Verificando dados que estão na bilhetagem (prefixo_carro), mas não estão no dicionário e consequentemente não estão no GPS\n",
    "dados_apenas_em_mes_ = mes[~mes['prefixo_carro'].isin(d01['cod_veiculo'])]# Filtrando linhas em terminais\n",
    "df_terminais_filtro_01 = dados_apenas_em_mes_[dados_apenas_em_mes_['nome_linha'].str.contains('TERMINAL')]\n",
    "\n",
    "#  Por inspeção foi identificado outra nomelcatura para o terminal (ANT.BEZERRA)\n",
    "df_terminais_filtro_02  = dados_apenas_em_mes_[dados_apenas_em_mes_['nome_linha'].str.contains('TERM.ANT.BEZERRA')]"
   ]
  },
  {
   "cell_type": "code",
   "execution_count": null,
   "id": "53c0ce1e",
   "metadata": {},
   "outputs": [],
   "source": [
    "# Verificando quantidade de validações em terminais filtro_01\n",
    "df_terminais_filtro_01['nome_linha'].value_counts()"
   ]
  },
  {
   "cell_type": "code",
   "execution_count": null,
   "id": "a160d4e0",
   "metadata": {},
   "outputs": [],
   "source": [
    "# Verificando quantidade de validações em terminais filtro_02\n",
    "df_terminais_filtro_02['nome_linha'].value_counts()"
   ]
  },
  {
   "cell_type": "code",
   "execution_count": null,
   "id": "4c3fc685",
   "metadata": {},
   "outputs": [],
   "source": [
    "# JUNTANDO DADOS DE TERMINAIS EM UMA UNICA BASE \n",
    "df_terminais = pd.concat([df_terminais_filtro_01,df_terminais_filtro_02])"
   ]
  },
  {
   "cell_type": "code",
   "execution_count": null,
   "id": "6b0f39a7",
   "metadata": {},
   "outputs": [],
   "source": [
    "del df_terminais_filtro_01\n",
    "del df_terminais_filtro_02"
   ]
  },
  {
   "cell_type": "code",
   "execution_count": null,
   "id": "8e8e6db3",
   "metadata": {},
   "outputs": [],
   "source": [
    "# Base com TERMINAIS\n",
    "df_terminais"
   ]
  },
  {
   "cell_type": "code",
   "execution_count": null,
   "id": "276b54c8",
   "metadata": {},
   "outputs": [],
   "source": [
    "df_terminais['nome_linha'].unique()"
   ]
  },
  {
   "cell_type": "code",
   "execution_count": null,
   "id": "8a620131",
   "metadata": {},
   "outputs": [],
   "source": [
    "''' É possivel verificar que o terminal siqueira tinha dados nulos, mas ele é filtrado e fica na varaivel df_terminais, logo a localização dele sera incluso ja nessa varivel! '''"
   ]
  },
  {
   "cell_type": "code",
   "execution_count": null,
   "id": "bca75a34",
   "metadata": {},
   "outputs": [],
   "source": [
    "''' Sendo assim é possivel verificar as validações por meio do mesmo id_veiculo e usando o criteiro de tempo, ja os dados dos terminais será usado o metodo de localização desses dados na variavel df_terminais! '''"
   ]
  },
  {
   "cell_type": "code",
   "execution_count": null,
   "id": "2d5be634",
   "metadata": {},
   "outputs": [],
   "source": [
    "''' PARA PARADAS EM BRT´S NÃO SE TEM O NOME DAS ESTACOES AO LONGO DAS LINAS, LOGO NÃO SERÁ POSSIVEL LOCALIZAR ESSAS VALIDAÇÕES!'''"
   ]
  },
  {
   "cell_type": "markdown",
   "id": "40a0e798",
   "metadata": {},
   "source": [
    "## 1.3 leitura do base - GPS (Tratamento INICIAL)"
   ]
  },
  {
   "cell_type": "code",
   "execution_count": null,
   "id": "e8bd351c",
   "metadata": {},
   "outputs": [],
   "source": [
    "import pandas as pd\n",
    "\n",
    "# Definindo o número de linhas que você deseja ler\n",
    "numero_de_linhas_para_ler = 45000000  # Substitua pelo número desejado\n",
    "dtype_specification = {'longitude': 'float32', 'latitude': 'float32', 'vehicle_vehicleid': 'int32'}\n",
    "\n",
    "# Usando o pandas para ler o CSV, limitando o número de linhas com a opção nrows\n",
    "mes_ate_45_milhoes = pd.read_csv('Paint112018.csv',usecols=['latitude', 'longitude', 'metrictimestamp', 'vehicle_vehicleid'], dtype=dtype_specification, nrows=numero_de_linhas_para_ler)"
   ]
  },
  {
   "cell_type": "code",
   "execution_count": null,
   "id": "ec503c87",
   "metadata": {
    "scrolled": true
   },
   "outputs": [],
   "source": [
    "# Lendo restante do arquivo\n",
    "mes_resto = pd.read_csv('Paint112018.csv', usecols=['latitude', 'longitude','metrictimestamp', 'vehicle_vehicleid'],dtype=dtype_specification, skiprows=range(1, numero_de_linhas_para_ler + 1))"
   ]
  },
  {
   "cell_type": "code",
   "execution_count": null,
   "id": "21e55def",
   "metadata": {},
   "outputs": [],
   "source": [
    "# Juntando em um mesmo df\n",
    "GPS_I_H =  pd.concat([mes_ate_45_milhoes, mes_resto]) "
   ]
  },
  {
   "cell_type": "code",
   "execution_count": null,
   "id": "a65685ea",
   "metadata": {},
   "outputs": [],
   "source": [
    "# Excluindo explicitamente variavel com dados do GPS separados\n",
    "del mes_ate_45_milhoes\n",
    "del mes_resto"
   ]
  },
  {
   "cell_type": "code",
   "execution_count": null,
   "id": "7fcd8558",
   "metadata": {},
   "outputs": [],
   "source": [
    "display(GPS_I_H.iloc[275])"
   ]
  },
  {
   "cell_type": "code",
   "execution_count": null,
   "id": "c0dbb0de",
   "metadata": {},
   "outputs": [],
   "source": [
    "GPS_I_H.info()"
   ]
  },
  {
   "cell_type": "code",
   "execution_count": null,
   "id": "592f0147",
   "metadata": {},
   "outputs": [],
   "source": [
    "# FORMATANDO metrictimestamp do (GPS)\n",
    "GPS_I_H['momento'] = pd.to_datetime(GPS_I_H['metrictimestamp'],format= '%Y%m%d%H%M%S')"
   ]
  },
  {
   "cell_type": "code",
   "execution_count": null,
   "id": "16a1318f",
   "metadata": {},
   "outputs": [],
   "source": [
    "GPS_I_H.drop(\"metrictimestamp\", axis= 1, inplace= True)"
   ]
  },
  {
   "cell_type": "code",
   "execution_count": null,
   "id": "6eb3cb11",
   "metadata": {},
   "outputs": [],
   "source": [
    "# Renomear coluna de momento de vehicle_vehicleid para id_veiculo:\n",
    "GPS_I_H.columns=['latitude', 'longitude','id_veiculo', 'momento']"
   ]
  },
  {
   "cell_type": "code",
   "execution_count": null,
   "id": "2420faca",
   "metadata": {},
   "outputs": [],
   "source": [
    "# Colocando valores em ordem\n",
    "GPS_I_H.sort_values('momento', inplace= True)"
   ]
  },
  {
   "cell_type": "markdown",
   "id": "40214ab6",
   "metadata": {},
   "source": [
    "# 2.0 Junção da bilhetagem com o dicionário "
   ]
  },
  {
   "cell_type": "code",
   "execution_count": null,
   "id": "44f42f69",
   "metadata": {},
   "outputs": [],
   "source": [
    "# Filtrando que estão na bilhetagem e estão no dicionário e consequentemente estão no GPS\n",
    "dados_em_mes_GPS_ = mes[mes['prefixo_carro'].isin(d01['cod_veiculo'])]"
   ]
  },
  {
   "cell_type": "code",
   "execution_count": null,
   "id": "e0a77d5b",
   "metadata": {},
   "outputs": [],
   "source": [
    "dados_em_mes_GPS_.reset_index(inplace=True)"
   ]
  },
  {
   "cell_type": "code",
   "execution_count": null,
   "id": "ad4e9665",
   "metadata": {},
   "outputs": [],
   "source": [
    "dados_em_mes_GPS_.drop(columns=['index'], inplace=True)"
   ]
  },
  {
   "cell_type": "code",
   "execution_count": null,
   "id": "a955a581",
   "metadata": {},
   "outputs": [],
   "source": [
    "dados_em_mes_GPS_.isnull().sum()"
   ]
  },
  {
   "cell_type": "code",
   "execution_count": null,
   "id": "6f66948c",
   "metadata": {},
   "outputs": [],
   "source": [
    "dados_em_mes_GPS_"
   ]
  },
  {
   "cell_type": "code",
   "execution_count": null,
   "id": "9160a394",
   "metadata": {},
   "outputs": [],
   "source": [
    "# Acrescentando dicionário\n",
    "mes_d1 = dados_em_mes_GPS_.merge(d01, left_on= 'prefixo_carro', right_on='cod_veiculo', how= 'left')"
   ]
  },
  {
   "cell_type": "code",
   "execution_count": null,
   "id": "ba0de5ff",
   "metadata": {},
   "outputs": [],
   "source": [
    "mes_d1.isnull().sum()"
   ]
  },
  {
   "cell_type": "code",
   "execution_count": null,
   "id": "64d86cfe",
   "metadata": {},
   "outputs": [],
   "source": [
    "# Base da Bilhetagem adicionado o dicionario\n",
    "mes_d1"
   ]
  },
  {
   "cell_type": "code",
   "execution_count": null,
   "id": "be3e33ef",
   "metadata": {},
   "outputs": [],
   "source": [
    "mes_d1.info()"
   ]
  },
  {
   "cell_type": "code",
   "execution_count": null,
   "id": "0ce9467f",
   "metadata": {},
   "outputs": [],
   "source": [
    "# Criando df somente colunas necessátrias para a integração no tópico 03!\n",
    "mes_geo = mes_d1.sort_values('momento')"
   ]
  },
  {
   "cell_type": "code",
   "execution_count": null,
   "id": "742bdca3",
   "metadata": {},
   "outputs": [],
   "source": [
    "del mes_d1"
   ]
  },
  {
   "cell_type": "code",
   "execution_count": null,
   "id": "6a7dfa1b",
   "metadata": {},
   "outputs": [],
   "source": [
    "# Reiniciando a contagem dos index\n",
    "mes_geo.reset_index(inplace=True)"
   ]
  },
  {
   "cell_type": "code",
   "execution_count": null,
   "id": "5f9d6992",
   "metadata": {},
   "outputs": [],
   "source": [
    "# REMOVENDO COLUNA DESNECESSÁRIA!\n",
    "mes_georr = mes_geo.drop(['index'], axis=1)"
   ]
  },
  {
   "cell_type": "code",
   "execution_count": null,
   "id": "92104af9",
   "metadata": {},
   "outputs": [],
   "source": [
    "mes_georr['id_veiculo'] = mes_georr['id_veiculo'].astype('int32')"
   ]
  },
  {
   "cell_type": "code",
   "execution_count": null,
   "id": "06d050ab",
   "metadata": {},
   "outputs": [],
   "source": [
    "mes_georr.info()"
   ]
  },
  {
   "cell_type": "code",
   "execution_count": null,
   "id": "7dabac5a",
   "metadata": {},
   "outputs": [],
   "source": [
    "del mes_geo"
   ]
  },
  {
   "cell_type": "markdown",
   "id": "f11b85d5",
   "metadata": {},
   "source": [
    "# 3.0 Integração da coordenada aproxima na bilhetagem"
   ]
  },
  {
   "cell_type": "markdown",
   "id": "bda33035",
   "metadata": {},
   "source": [
    "## 3.1 Coordenada aproximada do ônibus na bilhetagem (localização de validações fora de terminais e BRT)"
   ]
  },
  {
   "cell_type": "code",
   "execution_count": null,
   "id": "1da441f5",
   "metadata": {},
   "outputs": [],
   "source": [
    "# Coordenada mais proxima do ônibus é extraída da base de GPS e integrada na base da bilhetagem (SOMENTE COLUMAS MOMENTO E ID)\n",
    "mes_d1_GPS_ = pd.merge_asof(mes_georr, GPS_I_H, left_on='momento', right_on='momento', by='id_veiculo', direction ='nearest')"
   ]
  },
  {
   "cell_type": "code",
   "execution_count": null,
   "id": "50082f48",
   "metadata": {},
   "outputs": [],
   "source": [
    "mes_d1_GPS_.isnull().sum()"
   ]
  },
  {
   "cell_type": "code",
   "execution_count": null,
   "id": "717fa685",
   "metadata": {},
   "outputs": [],
   "source": [
    "mes_d1_GPS_.info()"
   ]
  },
  {
   "cell_type": "code",
   "execution_count": null,
   "id": "856603eb",
   "metadata": {},
   "outputs": [],
   "source": [
    "# Removedo dados duplicados de validações devido merge com duas associações de prefixo_carro com cod_veiculo do dicionario\n",
    "mes_d1_GPS = mes_d1_GPS_.drop_duplicates(['id', 'momento', 'linha', 'nome_linha', 'prefixo_carro', 'tipo_cartao', 'cod_veiculo'])"
   ]
  },
  {
   "cell_type": "code",
   "execution_count": null,
   "id": "7695623d",
   "metadata": {},
   "outputs": [],
   "source": [
    "''' FORAM REMOVIDAS AS VALIDAÇÕES DE UM MESMO USUARIO, PARA O MESMO MOMENTO E MESMO VEICULO UTILIZADO (identificação_dicionario), POIS POSSIVELMENTE É O DAODS DUPLICADO NO MERGE DA BILHETAGEM COM O DICIONARIO! '''"
   ]
  },
  {
   "cell_type": "code",
   "execution_count": null,
   "id": "3cb4f077",
   "metadata": {},
   "outputs": [],
   "source": [
    "mes_d1_GPS.reset_index(inplace=True)\n",
    "mes_d1_GPS.drop(['index'], inplace=True, axis=1)"
   ]
  },
  {
   "cell_type": "code",
   "execution_count": null,
   "id": "2b1aa461",
   "metadata": {},
   "outputs": [],
   "source": [
    "# Base da bilhetagem localizada \n",
    "mes_d1_GPS "
   ]
  },
  {
   "cell_type": "code",
   "execution_count": null,
   "id": "00a8bdf3",
   "metadata": {},
   "outputs": [],
   "source": [
    "del GPS_I_H"
   ]
  },
  {
   "cell_type": "markdown",
   "id": "b38df24b",
   "metadata": {},
   "source": [
    "## 3.2 Coordenada aproximada dos terminais na bilhetagem"
   ]
  },
  {
   "cell_type": "markdown",
   "id": "5b40930f",
   "metadata": {},
   "source": [
    "### 3.2.1 Importando dados no formato GTFS"
   ]
  },
  {
   "cell_type": "code",
   "execution_count": null,
   "id": "d45bb3cb",
   "metadata": {},
   "outputs": [],
   "source": [
    "# Reatribuindo variavel com dados de validações em terminais\n",
    "df_terminais_validacoes = df_terminais"
   ]
  },
  {
   "cell_type": "code",
   "execution_count": null,
   "id": "13a853d2",
   "metadata": {},
   "outputs": [],
   "source": [
    "del df_terminais"
   ]
  },
  {
   "cell_type": "code",
   "execution_count": null,
   "id": "b3ea809d",
   "metadata": {},
   "outputs": [],
   "source": [
    "df_terminais_validacoes.reset_index(inplace=True)"
   ]
  },
  {
   "cell_type": "code",
   "execution_count": null,
   "id": "a38f2c7d",
   "metadata": {},
   "outputs": [],
   "source": [
    "df_terminais_validacoes.drop(['index'], inplace=True, axis=1)"
   ]
  },
  {
   "cell_type": "code",
   "execution_count": null,
   "id": "bbd438eb",
   "metadata": {},
   "outputs": [],
   "source": [
    "# BASE COM VALIDAÇÕES FEITAS NOS TERMINAIS \n",
    "df_terminais_validacoes"
   ]
  },
  {
   "cell_type": "code",
   "execution_count": null,
   "id": "e93b105e",
   "metadata": {},
   "outputs": [],
   "source": [
    "df_terminais_validacoes['nome_linha'].unique()"
   ]
  },
  {
   "cell_type": "code",
   "execution_count": null,
   "id": "769f6df2",
   "metadata": {},
   "outputs": [],
   "source": [
    "# Importando base com locais previstos de parada\n",
    "import pandas as pd   \n",
    "stops_paradas = pd.read_csv('stops.txt', sep= ',')"
   ]
  },
  {
   "cell_type": "code",
   "execution_count": null,
   "id": "9ea34925",
   "metadata": {},
   "outputs": [],
   "source": [
    "# Removendo colunas desnecessárias do df com paradas \n",
    "stops_paradas.drop(columns= ['stop_code', 'stop_desc', 'zone_id', 'stop_url', 'location_type', 'parent_station', 'stop_timezone', 'wheelchair_boarding'], inplace=True)"
   ]
  },
  {
   "cell_type": "code",
   "execution_count": null,
   "id": "6d5b0185",
   "metadata": {},
   "outputs": [],
   "source": [
    "stops_paradas"
   ]
  },
  {
   "cell_type": "code",
   "execution_count": null,
   "id": "3260181e",
   "metadata": {},
   "outputs": [],
   "source": [
    "''' POR INSPEÇÃO FOI VERIFICADO QUE A LOCALIZAÇÃO PARA VALIDAÇÃO EM TERMINAIS SÃO NOMEADOS COMO PREÇAS_Nomedoterminal'''"
   ]
  },
  {
   "cell_type": "code",
   "execution_count": null,
   "id": "d44e0eae",
   "metadata": {},
   "outputs": [],
   "source": [
    "# FILTRANDO LOCAIS DAS PRAÇAS NOS TERMINAIS QUE POSSUEM A LOCCALIZAÇÃO\n",
    "terminais_geometry_ = stops_paradas[stops_paradas['stop_name'].str.contains('TERM')]"
   ]
  },
  {
   "cell_type": "code",
   "execution_count": null,
   "id": "95c3f1be",
   "metadata": {},
   "outputs": [],
   "source": [
    "# Reiniciando a contagem do indice \n",
    "terminais_geometry_.reset_index(inplace=True)"
   ]
  },
  {
   "cell_type": "code",
   "execution_count": null,
   "id": "ce11e346",
   "metadata": {},
   "outputs": [],
   "source": [
    "terminais_geometry = terminais_geometry_.drop_duplicates(subset=['stop_name'])"
   ]
  },
  {
   "cell_type": "code",
   "execution_count": null,
   "id": "5bd6c015",
   "metadata": {},
   "outputs": [],
   "source": [
    "# Dropando coluna desnecessaria\n",
    "terminais_geometry.drop(columns=['stop_id'], inplace=True)\n",
    "terminais_geometry.drop(2, inplace= True)"
   ]
  },
  {
   "cell_type": "code",
   "execution_count": null,
   "id": "2f18e165",
   "metadata": {},
   "outputs": [],
   "source": [
    "terminais_geometry.rename(columns={'stop_lat': 'latitude', 'stop_lon': 'longitude'}, inplace=True)"
   ]
  },
  {
   "cell_type": "code",
   "execution_count": null,
   "id": "60a8f2f0",
   "metadata": {},
   "outputs": [],
   "source": [
    "# Adequando nomes dos terminais para mesclagem\n",
    "nome_procurado_1 = 'PRAÇA TERMINAL PARANGABA, SN' \n",
    "nome_procurado_2 = 'PRAÇA TERMINAL PAPICU, SN' \n",
    "nome_procurado_3 = 'PRAÇA TERMINAL MESSEJANA, SN' \n",
    "nome_procurado_4 = 'PRAÇA TERMINAL SIQUEIRA, SN' \n",
    "nome_procurado_5 = 'PRAÇA TERMINAL CONJUNTO CEARÁ, SN' \n",
    "nome_procurado_6 = 'PRAÇA TERMINAL LAGOA, SN' \n",
    "nome_procurado_7 = 'PRAÇA TERMINAL ANTONIO BEZERRA, SN'\n",
    "\n",
    "# Localizando a linha com base no nome e, em seguida, atualizando os valores desejados\n",
    "terminais_geometry.loc[terminais_geometry['stop_name'] == nome_procurado_1, 'stop_name'] = 'TERMINAL PARANGABA' \n",
    "terminais_geometry.loc[terminais_geometry['stop_name'] == nome_procurado_2, 'stop_name'] = 'TERMINAL PAPICU' \n",
    "terminais_geometry.loc[terminais_geometry['stop_name'] == nome_procurado_3, 'stop_name'] = 'TERMINAL MESSEJANA' \n",
    "terminais_geometry.loc[terminais_geometry['stop_name'] == nome_procurado_4, 'stop_name'] = 'TERMINAL SIQUEIRA'  \n",
    "terminais_geometry.loc[terminais_geometry['stop_name'] == nome_procurado_5, 'stop_name'] = 'TERMINAL CEARA'  \n",
    "terminais_geometry.loc[terminais_geometry['stop_name'] == nome_procurado_6, 'stop_name'] = 'TERMINAL LAGOA' \n",
    "terminais_geometry.loc[terminais_geometry['stop_name'] == nome_procurado_7, 'stop_name'] = 'TERM.ANT.BEZERRA' "
   ]
  },
  {
   "cell_type": "code",
   "execution_count": null,
   "id": "01159fc0",
   "metadata": {},
   "outputs": [],
   "source": [
    "terminais_geometry.drop(columns=['index'], inplace=True)"
   ]
  },
  {
   "cell_type": "code",
   "execution_count": null,
   "id": "71759fa3",
   "metadata": {},
   "outputs": [],
   "source": [
    "# BASE COM LOCALIZAÇÃO DOS TERMINAIS \n",
    "terminais_geometry"
   ]
  },
  {
   "cell_type": "markdown",
   "id": "1362c45c",
   "metadata": {},
   "source": [
    "### 3.2.2 Adicioando localização nas validações dos terminais \n",
    "''' Com a localização dos terminais ja determindas, é possivel adiconar essa informações nas validações da bilhetagem nesses locais '''"
   ]
  },
  {
   "cell_type": "code",
   "execution_count": null,
   "id": "69eb93ec",
   "metadata": {},
   "outputs": [],
   "source": [
    "# MESCLANDO PELO NOME DA LINHA DA BILHETEGEM E O NOME DA PARADA CORRESPONDENTE AS SUAS RESPECTIVAS LINHAS \n",
    "mes_terminais_geometry = df_terminais_validacoes.merge(terminais_geometry, left_on= 'nome_linha', right_on='stop_name')"
   ]
  },
  {
   "cell_type": "code",
   "execution_count": null,
   "id": "7067b211",
   "metadata": {},
   "outputs": [],
   "source": [
    "# Reiniciando a contagem do indice e dropando index\n",
    "mes_terminais_geometry.reset_index(inplace=True)\n",
    "mes_terminais_geometry.drop(columns=['index', 'stop_name'], inplace=True)"
   ]
  },
  {
   "cell_type": "code",
   "execution_count": null,
   "id": "d9453b7a",
   "metadata": {},
   "outputs": [],
   "source": [
    "# CRIANDO COLUNA ID_LINHA E COD_VEICULO PARA COLOCAR DADOS DE VALIDAÇÕES LOCALIZADOS EM UMA UNICA BASE!\n",
    "mes_terminais_geometry['id_veiculo'] = 'validacao_terminal'\n",
    "mes_terminais_geometry['cod_veiculo'] = 'validacao_terminal'"
   ]
  },
  {
   "cell_type": "code",
   "execution_count": null,
   "id": "1f2ac8b9",
   "metadata": {},
   "outputs": [],
   "source": [
    "# Reordenando colunas \n",
    "dados_terminais_geo = mes_terminais_geometry[['id', 'linha', 'nome_linha', 'prefixo_carro', 'tipo_cartao', 'momento', 'id_veiculo', 'cod_veiculo', 'latitude', 'longitude']]"
   ]
  },
  {
   "cell_type": "code",
   "execution_count": null,
   "id": "45c047f5",
   "metadata": {},
   "outputs": [],
   "source": [
    "del mes_terminais_geometry"
   ]
  },
  {
   "cell_type": "code",
   "execution_count": null,
   "id": "2eada1c3",
   "metadata": {},
   "outputs": [],
   "source": [
    "# Base com dados da bilhetagem localizada em terminais\n",
    "dados_terminais_geo"
   ]
  },
  {
   "cell_type": "markdown",
   "id": "d73d25a0",
   "metadata": {},
   "source": [
    "## 3.3 Coordenada das estações dos BRT´s e demais validações na bilhetagem\n",
    "''' O pressuposto inicial é que as validações que não possuem um id de identifcação dos veiculos correspondentes no GPS (pelo dicionario) são aquelas que os usuarios validaram no terminais, nas estações de BRT e OS USUARIOS QUE A IDENTIFCAÇÃO DO VEICULOS NÃO POSSUI UM CORRESPONDENTE NO GPS, DEVIDO A FALTA DE UMA ASSOCIAÇÃO NO DICIONARIO, como ja foi abordado a localização das validações em terminais, basta realizar uma abordagem com as demais! ''' "
   ]
  },
  {
   "cell_type": "markdown",
   "id": "5d1ec9cc",
   "metadata": {},
   "source": [
    "### 3.3.1 Identificando validações em estações dos BRT´s e nos demais caso na bilhetagem\n",
    "''' Identifcação das validações em estaçoes de BRT e nos demais casos que não possuiam um veiculo correspondente no GPS'''"
   ]
  },
  {
   "cell_type": "code",
   "execution_count": null,
   "id": "6833dd1f",
   "metadata": {},
   "outputs": [],
   "source": [
    "# Reatribuindo variavel com dados que estão na bilhetagem, mas não estão no dicionário e consequentemente não estão no GPS\n",
    "dados_apenas_em_mes = dados_apenas_em_mes_"
   ]
  },
  {
   "cell_type": "code",
   "execution_count": null,
   "id": "1fbc8413",
   "metadata": {},
   "outputs": [],
   "source": [
    "del dados_apenas_em_mes_"
   ]
  },
  {
   "cell_type": "code",
   "execution_count": null,
   "id": "b251761a",
   "metadata": {},
   "outputs": [],
   "source": [
    "''' Foi utilizado a base \"mes\" pois ela tinha a coluna como numerica para comparação '''"
   ]
  },
  {
   "cell_type": "code",
   "execution_count": null,
   "id": "679d25ab",
   "metadata": {},
   "outputs": [],
   "source": [
    "# Base com dados de validaçoes em terminais e em BRT\n",
    "dados_apenas_em_mes"
   ]
  },
  {
   "cell_type": "code",
   "execution_count": null,
   "id": "f80b2751",
   "metadata": {},
   "outputs": [],
   "source": [
    "# Dropando dados de terminais pois eles ja foram filtrados em uma base propria\n",
    "dados_brt_ = dados_apenas_em_mes[~dados_apenas_em_mes['nome_linha'].str.contains('TERMINAL', case=False)]\n",
    "dados_brt = dados_brt_[~dados_brt_['nome_linha'].str.contains('TERM.ANT', case=False)]"
   ]
  },
  {
   "cell_type": "code",
   "execution_count": null,
   "id": "0bd11439",
   "metadata": {},
   "outputs": [],
   "source": [
    "dados_brt.reset_index(inplace=True)\n",
    "dados_brt.drop(columns=['index'], inplace=True)"
   ]
  },
  {
   "cell_type": "code",
   "execution_count": null,
   "id": "1a6b14f2",
   "metadata": {
    "scrolled": false
   },
   "outputs": [],
   "source": [
    "# BASE COM DADOS SOMENTE DE VALIDAÇÕES EM BRT´s e de validações em veiculos sem identifcação no dicionario\n",
    "dados_brt"
   ]
  },
  {
   "cell_type": "code",
   "execution_count": null,
   "id": "ca6757c5",
   "metadata": {},
   "outputs": [],
   "source": [
    "# Dados das linhas existentes \n",
    "dados_brt['linha'].unique()"
   ]
  },
  {
   "cell_type": "code",
   "execution_count": null,
   "id": "040176ec",
   "metadata": {},
   "outputs": [],
   "source": [
    "'''OU SEJA, EXISTEM VALIDAÇÕES DE DIVERSAS LINHAS QUE NÃO TEM UM VEICULO CORRESPONDENTE NO GPS E NÃO SÃO VALIDAÇÕES EM TERMINAIS'''"
   ]
  },
  {
   "cell_type": "markdown",
   "id": "917e4b6e",
   "metadata": {},
   "source": [
    "### 3.3.2 Associação com o horario programado para localizar as validações em BRT´s e as demais\n",
    "''' Dados de GTFS, possuem dados de localização das paradas e da viagens programdas, assim é possivem associar para uma mesma linha, e pelo horario mais proximo da validação com o programado de passagem para identificação do possivel local de validação '''"
   ]
  },
  {
   "cell_type": "code",
   "execution_count": null,
   "id": "a2d1c25f",
   "metadata": {},
   "outputs": [],
   "source": [
    "# Printando novamente dados com locias das paradas\n",
    "stops_paradas"
   ]
  },
  {
   "cell_type": "code",
   "execution_count": null,
   "id": "bfaac04a",
   "metadata": {},
   "outputs": [],
   "source": [
    "# Importando base com horarios previstos de parada  \n",
    "stop_times = pd.read_csv('stop_times.txt', sep= ',')\n",
    "\n",
    "# Importando dados com viagens programadas de cada linha \n",
    "trips = pd.read_csv('trips.txt', sep=\",\")"
   ]
  },
  {
   "cell_type": "code",
   "execution_count": null,
   "id": "74570097",
   "metadata": {},
   "outputs": [],
   "source": [
    "# Removendo colunas desnecessárias do df com paradas \n",
    "stop_times.drop(columns= ['stop_headsign', 'pickup_type', 'drop_off_type', 'shape_dist_traveled'], inplace=True)"
   ]
  },
  {
   "cell_type": "code",
   "execution_count": null,
   "id": "6504a79c",
   "metadata": {},
   "outputs": [],
   "source": [
    "stop_times"
   ]
  },
  {
   "cell_type": "code",
   "execution_count": null,
   "id": "25ba79bb",
   "metadata": {},
   "outputs": [],
   "source": [
    "# Acrescetando dados das paradas pela mesmo stop_id no df de tempos previstos de passagem\n",
    "merge_pardas_time = pd.merge(stop_times, stops_paradas, left_on='stop_id', right_on='stop_id')"
   ]
  },
  {
   "cell_type": "code",
   "execution_count": null,
   "id": "c9824fe9",
   "metadata": {},
   "outputs": [],
   "source": [
    "merge_pardas_time"
   ]
  },
  {
   "cell_type": "code",
   "execution_count": null,
   "id": "57f54f1d",
   "metadata": {},
   "outputs": [],
   "source": [
    "# Removendo informações desnecessárias do df de dados das viagens\n",
    "trips_tratado = trips.drop(columns=['service_id', 'trip_headsign', 'trip_short_name', 'direction_id', 'block_id', 'wheelchair_accessible'])"
   ]
  },
  {
   "cell_type": "code",
   "execution_count": null,
   "id": "7b40bb85",
   "metadata": {},
   "outputs": [],
   "source": [
    "trips_tratado"
   ]
  },
  {
   "cell_type": "code",
   "execution_count": null,
   "id": "fb71eeb6",
   "metadata": {},
   "outputs": [],
   "source": [
    "# MESCLANDO BASE COM INFORMAÇÕES DAS PARADAS E TEMPOS DE PASSAGENS COM OS DADSO DAS VIAGENS PROGRAMADAS E AS RESPECTIVAS LINHAS\n",
    "merge_pardas_time_trips = pd.merge(merge_pardas_time, trips_tratado, left_on='trip_id', right_on='trip_id')"
   ]
  },
  {
   "cell_type": "code",
   "execution_count": null,
   "id": "56f188dc",
   "metadata": {},
   "outputs": [],
   "source": [
    "merge_pardas_time_trips"
   ]
  },
  {
   "cell_type": "code",
   "execution_count": null,
   "id": "44a3da66",
   "metadata": {},
   "outputs": [],
   "source": [
    "''' Por inspeção vimos que possuem horarios de chegada superiores a 24 hs, segue na variavel horario_test'''"
   ]
  },
  {
   "cell_type": "code",
   "execution_count": null,
   "id": "0a84266f",
   "metadata": {},
   "outputs": [],
   "source": [
    "# Verificando dados de tempo maiores que 24 (inspessão)\n",
    "horario_test = merge_pardas_time_trips[merge_pardas_time_trips.arrival_time>='24:00:00' ]"
   ]
  },
  {
   "cell_type": "code",
   "execution_count": null,
   "id": "e945a24a",
   "metadata": {},
   "outputs": [],
   "source": [
    "horario_test"
   ]
  },
  {
   "cell_type": "code",
   "execution_count": null,
   "id": "a850a8da",
   "metadata": {},
   "outputs": [],
   "source": [
    "''' Esses dados são referentes as horarios de 24=00 hs e 25=01hs, foi adotado a substituição de 24 por 00 e 25 por 01 '''"
   ]
  },
  {
   "cell_type": "code",
   "execution_count": null,
   "id": "55a8d47b",
   "metadata": {},
   "outputs": [],
   "source": [
    "# transformanmdo dados de horas para string\n",
    "merge_pardas_time_trips['arrival_time'] = merge_pardas_time_trips['arrival_time'].astype(str)"
   ]
  },
  {
   "cell_type": "code",
   "execution_count": null,
   "id": "b0f15eec",
   "metadata": {},
   "outputs": [],
   "source": [
    "# Função para substituição\n",
    "def substituir_hora_24(hora):\n",
    "    return hora.replace(\"24\", \"00\")\n",
    "def substituir_hora_25(hora):\n",
    "    return hora.replace(\"25\", \"01\")"
   ]
  },
  {
   "cell_type": "code",
   "execution_count": null,
   "id": "6a9dfcb8",
   "metadata": {},
   "outputs": [],
   "source": [
    "# Aplicando função para 24\n",
    "merge_pardas_time_trips['arrival_time'] = merge_pardas_time_trips['arrival_time'].apply(substituir_hora_24)\n",
    "\n",
    "# Aplicando função para 25\n",
    "merge_pardas_time_trips['arrival_time'] = merge_pardas_time_trips['arrival_time'].apply(substituir_hora_25)"
   ]
  },
  {
   "cell_type": "code",
   "execution_count": null,
   "id": "70c12f6b",
   "metadata": {},
   "outputs": [],
   "source": [
    "# Transformando coluna de chegada programada do veiculo em tipo data\n",
    "merge_pardas_time_trips['momento_chegada'] = pd.to_datetime(merge_pardas_time_trips['arrival_time'], format='%H:%M:%S')"
   ]
  },
  {
   "cell_type": "code",
   "execution_count": null,
   "id": "f29f97dc",
   "metadata": {},
   "outputs": [],
   "source": [
    "''' 1900-01-01 é uma data generica! '''"
   ]
  },
  {
   "cell_type": "code",
   "execution_count": null,
   "id": "cb841c14",
   "metadata": {},
   "outputs": [],
   "source": [
    "# Criando coluna de linha (coluna route_id tem essas informações das linhas!)\n",
    "merge_pardas_time_trips['linha'] = merge_pardas_time_trips['route_id'].astype('int32')"
   ]
  },
  {
   "cell_type": "code",
   "execution_count": null,
   "id": "2d92b77b",
   "metadata": {},
   "outputs": [],
   "source": [
    "# Removedno colunas desnecessarias\n",
    "merge_pardas_time_trips.drop(columns=['trip_id', 'arrival_time', 'departure_time', 'stop_id', 'stop_sequence', 'stop_name', 'route_id', 'shape_id'], inplace=True)"
   ]
  },
  {
   "cell_type": "code",
   "execution_count": null,
   "id": "1e334c11",
   "metadata": {},
   "outputs": [],
   "source": [
    "# Base com linhas e os tempos programados de passagem\n",
    "merge_pardas_time_trips"
   ]
  },
  {
   "cell_type": "code",
   "execution_count": null,
   "id": "15ef0420",
   "metadata": {},
   "outputs": [],
   "source": [
    "merge_pardas_time_trips.isnull().sum()"
   ]
  },
  {
   "cell_type": "code",
   "execution_count": null,
   "id": "3e17dc16",
   "metadata": {},
   "outputs": [],
   "source": [
    "''' ou seja, existem momentos nulos programados, iremos dropar esses valores!'''"
   ]
  },
  {
   "cell_type": "code",
   "execution_count": null,
   "id": "a0263a4f",
   "metadata": {},
   "outputs": [],
   "source": [
    "merge_pardas_time_trips.dropna(subset=['momento_chegada'], inplace=True)"
   ]
  },
  {
   "cell_type": "code",
   "execution_count": null,
   "id": "ed338c67",
   "metadata": {},
   "outputs": [],
   "source": [
    "# colocando df em ordem pelo momento programado de chegada\n",
    "merge_pardas_time_trips.sort_values('momento_chegada', inplace=True)"
   ]
  },
  {
   "cell_type": "code",
   "execution_count": null,
   "id": "9c94fe27",
   "metadata": {
    "scrolled": true
   },
   "outputs": [],
   "source": [
    "''' COM BASE CONTENDO HORARIO PROGRAMADO DE CHEGADA PARA CADA LINHA, É POSSIVEL ASSOCIAR O HORARIO PROGRAMADA MAIS PROXIMO DO HORARIO DE VALIDAÇÃO '''"
   ]
  },
  {
   "cell_type": "code",
   "execution_count": null,
   "id": "2ea54f1e",
   "metadata": {},
   "outputs": [],
   "source": [
    "# Base dos dados de brt e demais validação sem um veiculo identificado no GPS\n",
    "dados_brt"
   ]
  },
  {
   "cell_type": "code",
   "execution_count": null,
   "id": "8aea6a41",
   "metadata": {},
   "outputs": [],
   "source": [
    "# Criando coluna com dados de hoario, minuto e segundos de validação \n",
    "dados_brt['momento_validacao_curto'] = dados_brt['momento'].dt.strftime('%H:%M:%S')"
   ]
  },
  {
   "cell_type": "code",
   "execution_count": null,
   "id": "36f0d43a",
   "metadata": {},
   "outputs": [],
   "source": [
    "# Transformando coluna de hoario de validação em tipo data\n",
    "dados_brt['momento_validacao_curto'] = pd.to_datetime(dados_brt['momento_validacao_curto'], format='%H:%M:%S')"
   ]
  },
  {
   "cell_type": "code",
   "execution_count": null,
   "id": "3909c514",
   "metadata": {},
   "outputs": [],
   "source": [
    "dados_brt # NOVAMENTE 1900-01-01 é uma data generica!"
   ]
  },
  {
   "cell_type": "code",
   "execution_count": null,
   "id": "00d7bbfd",
   "metadata": {},
   "outputs": [],
   "source": [
    "# colocando df em ordem pelo momento de validação \n",
    "dados_brt.sort_values('momento_validacao_curto', inplace=True)"
   ]
  },
  {
   "cell_type": "code",
   "execution_count": null,
   "id": "06553144",
   "metadata": {},
   "outputs": [],
   "source": [
    "dados_brt.isnull().sum()"
   ]
  },
  {
   "cell_type": "code",
   "execution_count": null,
   "id": "d48306a3",
   "metadata": {},
   "outputs": [],
   "source": [
    "# REALIZANDO OPERAÇÃO DE MESCLAGEM PARA LOCALIZAR PELO TEMPO MAIS PROXIMO DE PASSAGEM COM O DE VALIDAÇÃO \n",
    "dados_brt_geo_ = pd.merge_asof(dados_brt, merge_pardas_time_trips, left_on='momento_validacao_curto', right_on='momento_chegada', by='linha', direction ='nearest')"
   ]
  },
  {
   "cell_type": "code",
   "execution_count": null,
   "id": "6e68b435",
   "metadata": {},
   "outputs": [],
   "source": [
    "# Dropando colunas denecessárias\n",
    "dados_brt_geo_.drop(columns=['momento_validacao_curto', 'momento_chegada'], inplace=True)"
   ]
  },
  {
   "cell_type": "code",
   "execution_count": null,
   "id": "f0714a91",
   "metadata": {},
   "outputs": [],
   "source": [
    "# Criando colun id_veiculo e cod_veiculo para mesclagem das bases\n",
    "dados_brt_geo_['id_veiculo'] = 'validacao_brt_outros'\n",
    "dados_brt_geo_['cod_veiculo'] = 'validacao_brt_outros'"
   ]
  },
  {
   "cell_type": "code",
   "execution_count": null,
   "id": "3e9983f5",
   "metadata": {},
   "outputs": [],
   "source": [
    "dados_brt_geo_.rename(columns={'stop_lat': 'latitude', 'stop_lon': 'longitude'}, inplace=True)"
   ]
  },
  {
   "cell_type": "code",
   "execution_count": null,
   "id": "7b5f3132",
   "metadata": {},
   "outputs": [],
   "source": [
    "# Reordenando colunas \n",
    "dados_brt_geo = dados_brt_geo_[['id', 'linha', 'nome_linha', 'prefixo_carro', 'tipo_cartao', 'momento', 'id_veiculo', 'cod_veiculo', 'latitude', 'longitude']]"
   ]
  },
  {
   "cell_type": "code",
   "execution_count": null,
   "id": "2cba72cf",
   "metadata": {},
   "outputs": [],
   "source": [
    "del dados_brt_geo_ "
   ]
  },
  {
   "cell_type": "code",
   "execution_count": null,
   "id": "7543ed65",
   "metadata": {},
   "outputs": [],
   "source": [
    "# BASE LOCALIZADA COM VALIDAÇÕES EM ESTAÇÕES DE BRT E EM CASOS QUE NÃO SE TEM UM VEICULO CORRESPONDENTE NO GPS\n",
    "dados_brt_geo"
   ]
  },
  {
   "cell_type": "markdown",
   "id": "e0675ae0",
   "metadata": {},
   "source": [
    "## 3.4 JUNÇÃO DAS VALIDAÇÕES LOCALIZADAS EM UMA UNICA BASE\n",
    "''' COM DADOS DE VALIDAÇÕES LOCALIZADOS EM TERMINAIS, EM LINHAS DE BRT´s E EM VALIDAÇÕES EM LINHAS DE ONIBUS CONVENCIONAIS É POSSIVEL JUNTAR ESSAS EM UMA UNICA BASE''' "
   ]
  },
  {
   "cell_type": "code",
   "execution_count": null,
   "id": "b656d293",
   "metadata": {},
   "outputs": [],
   "source": [
    "# Concatenando base em um unico df\n",
    "bilhetagem_localizada = pd.concat([mes_d1_GPS, dados_terminais_geo, dados_brt_geo])"
   ]
  },
  {
   "cell_type": "code",
   "execution_count": null,
   "id": "01ba4cbd",
   "metadata": {
    "scrolled": false
   },
   "outputs": [],
   "source": [
    "# Base localizada\n",
    "bilhetagem_localizada"
   ]
  },
  {
   "cell_type": "code",
   "execution_count": null,
   "id": "df99190e",
   "metadata": {},
   "outputs": [],
   "source": [
    "# Exportando base localizada para csv\n",
    "bilhetagem_localizada.to_csv('bilhetagem_localizada_11_2018')"
   ]
  },
  {
   "cell_type": "markdown",
   "id": "a24ca827",
   "metadata": {},
   "source": [
    "# 4.0 Plotagem da bilhetagem georreferenciada"
   ]
  },
  {
   "cell_type": "markdown",
   "id": "39ac1188",
   "metadata": {},
   "source": [
    "\n",
    "## 4.1 Intalação das bibliotecas e importação\n",
    "''' OBS: Os codigos abaixo serão deixados no arquivo, contudo o objetivo do procedimento não é visualização dos dados de bilhetagem localizados mas serão deixados em caso que se deseja utilizar essas bibliotecas para esse fim! '''"
   ]
  },
  {
   "cell_type": "code",
   "execution_count": null,
   "id": "3f868dec",
   "metadata": {},
   "outputs": [],
   "source": [
    "# INSTALANDO A BIBLIOTECA GEOPANDAS COM CONDA\n",
    "# !conda install geopandas -y\n",
    "\n",
    "# instalando com pip\n",
    "!pip install-q geopandas"
   ]
  },
  {
   "cell_type": "code",
   "execution_count": null,
   "id": "4bff46e4",
   "metadata": {},
   "outputs": [],
   "source": [
    "# mostrar a versão da biblioteca \n",
    "# !pip list geopandas"
   ]
  },
  {
   "cell_type": "code",
   "execution_count": null,
   "id": "a569b574",
   "metadata": {},
   "outputs": [],
   "source": [
    "# instalando a biblioteca matplotlib com conda\n",
    "# !conda install matplotlib -y\n",
    "\n",
    "# instalando com pip\n",
    "!pip install -q matplotlib"
   ]
  },
  {
   "cell_type": "code",
   "execution_count": null,
   "id": "1a9abb87",
   "metadata": {},
   "outputs": [],
   "source": [
    "# mostrar a versão da biblioteca \n",
    "# !pip list matplotlib"
   ]
  },
  {
   "cell_type": "code",
   "execution_count": null,
   "id": "d06196c2",
   "metadata": {},
   "outputs": [],
   "source": [
    "# importando as bibliotecas\n",
    "import geopandas as gpd\n",
    "import matplotlib.pyplot as plt"
   ]
  },
  {
   "cell_type": "markdown",
   "id": "efe98a5c",
   "metadata": {},
   "source": [
    "## 4.2 Leitura de dados espaciais "
   ]
  },
  {
   "cell_type": "code",
   "execution_count": null,
   "id": "84d7abdd",
   "metadata": {},
   "outputs": [],
   "source": [
    "# Ler os dados com geopandas\n",
    "ceara_muni = gpd.read_file('CE_Municipios_2022.shp')"
   ]
  },
  {
   "cell_type": "markdown",
   "id": "2d770a23",
   "metadata": {},
   "source": [
    "### 4.2.1 Visualização dos dados "
   ]
  },
  {
   "cell_type": "code",
   "execution_count": null,
   "id": "9a671f9e",
   "metadata": {},
   "outputs": [],
   "source": [
    "# Visualização\n",
    "# ceara_muni.plot(figsize=(16,14), facecolor='white', edgecolor='black') \n",
    "#plt.show()"
   ]
  },
  {
   "cell_type": "markdown",
   "id": "fb87a0a6",
   "metadata": {},
   "source": [
    "### 4.2.2 Filtro somente da capital "
   ]
  },
  {
   "cell_type": "code",
   "execution_count": null,
   "id": "5abfa764",
   "metadata": {},
   "outputs": [],
   "source": [
    "# Salvando somente a capital 'Fortaleza'\n",
    "fortal = ceara_muni[ceara_muni.NM_MUN=='Fortaleza']\n",
    "fortal_p = fortal.iloc[0].geometry"
   ]
  },
  {
   "cell_type": "code",
   "execution_count": null,
   "id": "9bde65e2",
   "metadata": {},
   "outputs": [],
   "source": [
    "# Mostrar capital \n",
    "fortal_p"
   ]
  },
  {
   "cell_type": "code",
   "execution_count": null,
   "id": "227be858",
   "metadata": {},
   "outputs": [],
   "source": [
    "# Salvar o geodataframe com formato geojson\n",
    "filename =  'fortal.json'\n",
    "fortal.to_file(filename, driver='GeoJSON')"
   ]
  },
  {
   "cell_type": "code",
   "execution_count": null,
   "id": "07c1c892",
   "metadata": {},
   "outputs": [],
   "source": [
    "fortall = gpd.read_file(filename, driver='GeoJSON')"
   ]
  },
  {
   "cell_type": "code",
   "execution_count": null,
   "id": "45b71344",
   "metadata": {},
   "outputs": [],
   "source": [
    "fortall"
   ]
  },
  {
   "cell_type": "markdown",
   "id": "86768fd6",
   "metadata": {},
   "source": [
    "### 4.2.3 Modelo de dados espaciais e criação de coluna geometrica "
   ]
  },
  {
   "cell_type": "code",
   "execution_count": null,
   "id": "3f54168b",
   "metadata": {},
   "outputs": [],
   "source": [
    "# Instalando biblioteca shapely com pip\n",
    "!pip install -q shapely\n",
    "# Mostrar versão da biblioteca \n",
    "# !pip list shapely"
   ]
  },
  {
   "cell_type": "code",
   "execution_count": null,
   "id": "dd8a9594",
   "metadata": {},
   "outputs": [],
   "source": [
    "# importando os objetos geométricos da biblioteca shapely\n",
    "from shapely.geometry import Point, LineString, Polygon"
   ]
  },
  {
   "cell_type": "code",
   "execution_count": null,
   "id": "9d53b654",
   "metadata": {},
   "outputs": [],
   "source": [
    "# Criando coluna geometerica no df (mes_d1_GPS)\n",
    "# mes_d1_GPS['geometry'] = None \n",
    "# for index, row in mes_d1_GPS.iterrows():\n",
    "    #mes_d1_GPS.loc[index, 'geometry'] = Point(row.latitude, row.longitude)"
   ]
  },
  {
   "cell_type": "code",
   "execution_count": null,
   "id": "8807fca5",
   "metadata": {},
   "outputs": [],
   "source": [
    "# mes_d1_GPS"
   ]
  },
  {
   "cell_type": "code",
   "execution_count": null,
   "id": "346e1d11",
   "metadata": {},
   "outputs": [],
   "source": [
    "# Criando coluna geometerica no df (mes_d1_GPS)\n",
    "# mes_d1_GPS['geometry'] = mes_d1_GPS.apply(lambda x: Point((float(x.longitude), float(x.latitude))), axis=1)"
   ]
  },
  {
   "cell_type": "code",
   "execution_count": null,
   "id": "2cdb88be",
   "metadata": {},
   "outputs": [],
   "source": [
    "# tipos de dados \n",
    "# type(mes_d1_GPS)"
   ]
  },
  {
   "cell_type": "code",
   "execution_count": null,
   "id": "3b0d618c",
   "metadata": {},
   "outputs": [],
   "source": [
    "# Criando um GeoDataFrame \n",
    "# mes_d1_GPS_geodat_ = gpd.GeoDataFrame(mes_d1_GPS, geometry='geometry')"
   ]
  },
  {
   "cell_type": "code",
   "execution_count": null,
   "id": "e655b160",
   "metadata": {
    "scrolled": true
   },
   "outputs": [],
   "source": [
    "# mostar dados\n",
    "# mes_d1_GPS_geodat_= mes_d1_GPS"
   ]
  },
  {
   "cell_type": "code",
   "execution_count": null,
   "id": "ee751f8e",
   "metadata": {},
   "outputs": [],
   "source": [
    "# Salvar o geodataframe com formato geojson\n",
    "# filename2 =  'mes_d1_GPS_geodat_.json'\n",
    "# mes_d1_GPS_geodat_.to_file(filename2, driver='GeoJSON')"
   ]
  },
  {
   "cell_type": "code",
   "execution_count": null,
   "id": "66ef5791",
   "metadata": {},
   "outputs": [],
   "source": [
    "# mes_d1_GPS_geodat = gpd.read_file(filename2, driver='GeoJSON')"
   ]
  },
  {
   "cell_type": "code",
   "execution_count": null,
   "id": "5ab93530",
   "metadata": {
    "scrolled": false
   },
   "outputs": [],
   "source": [
    "# plotando dados (visualização)\n",
    "# mes_d1_GPS_geodat.plot(figsize=(8,8), facecolor='white', edgecolor='black')"
   ]
  },
  {
   "cell_type": "code",
   "execution_count": null,
   "id": "700fcbe1",
   "metadata": {},
   "outputs": [],
   "source": [
    "# type(mes_d1_GPS_geodat)"
   ]
  },
  {
   "cell_type": "markdown",
   "id": "52849dd7",
   "metadata": {},
   "source": [
    "### 4.2.4 Operação de interseção entre geometrias "
   ]
  },
  {
   "cell_type": "code",
   "execution_count": null,
   "id": "6f35c01c",
   "metadata": {},
   "outputs": [],
   "source": [
    "# Mostrar os dados simultaneamente\n",
    "# fig, ax = plt.subplots(figsize=(15,15))\n",
    "\n",
    "# mes_d1_GPS_geodat.plot(ax=ax)\n",
    "# fortall.plot(ax=ax, facecolor='None', edgecolor='black')"
   ]
  },
  {
   "cell_type": "code",
   "execution_count": null,
   "id": "1abda072",
   "metadata": {},
   "outputs": [],
   "source": [
    "# VERIFICAMOS QUE EXISTEM DADOS GEORREFERENCIADOS FORA DA MALHA DA CIDADE, PODENDO SER NA SUA MAIORIA REGISTRO DOS VEICULOS\n",
    "# QUANDO SE DESLOCARAM PARA OUTRAS ZONAS, OU ATÉ MESMO ERROS DO APARELHO DE GPS, COMO MOSTRA NA FIGURA ACIMA UM REGISTRO \n",
    "# PRATICAMENTE NO MAR."
   ]
  },
  {
   "cell_type": "code",
   "execution_count": null,
   "id": "54c2bd00",
   "metadata": {},
   "outputs": [],
   "source": [
    "# Realizar operação de interseção entre geometrias\n",
    "# mes_geo_fortal = mes_d1_GPS_geodat[mes_d1_GPS_geodat.intersects(fortal_p)]"
   ]
  },
  {
   "cell_type": "code",
   "execution_count": null,
   "id": "663eb362",
   "metadata": {},
   "outputs": [],
   "source": [
    "# mes_geo_fortal.info()"
   ]
  },
  {
   "cell_type": "code",
   "execution_count": null,
   "id": "a7effc8f",
   "metadata": {},
   "outputs": [],
   "source": [
    "# NOTAMOS QUE DOS 891038 DADOS DE VALIDAÇÕES APENAS 825386 foram localizadas dentro da malha da cidade, seguimos com estas!"
   ]
  },
  {
   "cell_type": "code",
   "execution_count": null,
   "id": "2bfab847",
   "metadata": {},
   "outputs": [],
   "source": [
    "# Mostrar os dados simultaneamente após interseção\n",
    "# fig, ax = plt.subplots(figsize=(10,10))\n",
    "\n",
    "# mes_geo_fortal.plot(ax=ax)\n",
    "# fortall.plot(ax=ax, facecolor='None', edgecolor='black')"
   ]
  },
  {
   "cell_type": "code",
   "execution_count": null,
   "id": "6fc46c7e",
   "metadata": {},
   "outputs": [],
   "source": [
    "# Salvando os dados georreferenciados em fortaleza \n",
    "# filename3 = 'mes_geo_fortal.json'\n",
    "\n",
    "# mes_geo_fortal.to_file(filename3, driver='GeoJSON')"
   ]
  },
  {
   "cell_type": "markdown",
   "id": "6194b85f",
   "metadata": {},
   "source": [
    "### 4.2.5 Mostrando dados no mapa de agrupamento (clusters)"
   ]
  },
  {
   "cell_type": "code",
   "execution_count": null,
   "id": "0d0a5597",
   "metadata": {
    "scrolled": true
   },
   "outputs": [],
   "source": [
    "# Instalando biblioteca folium com pip!\n",
    "!pip install -q folium"
   ]
  },
  {
   "cell_type": "code",
   "execution_count": null,
   "id": "0ddf5ba0",
   "metadata": {},
   "outputs": [],
   "source": [
    "# importando biblioteca folium e pluging\n",
    "import folium \n",
    "from folium.plugins import FastMarkerCluster"
   ]
  },
  {
   "cell_type": "code",
   "execution_count": null,
   "id": "e8ed3d1a",
   "metadata": {},
   "outputs": [],
   "source": [
    "# Criar mapa de agrupamentos (clusters)\n",
    "# media_long = mes_geo_fortal['longitude'].mean()\n",
    "# media_lat = mes_geo_fortal['latitude'].mean()\n",
    "\n",
    "# mapa = folium.Map(location=[media_lat, media_long])"
   ]
  },
  {
   "cell_type": "code",
   "execution_count": null,
   "id": "31e70fc1",
   "metadata": {},
   "outputs": [],
   "source": [
    "# Transformando dados em uma feat geojson\n",
    "# mc = FastMarkerCluster(mes_geo_fortal[['latitude', 'longitude']])"
   ]
  },
  {
   "cell_type": "code",
   "execution_count": null,
   "id": "819e1e47",
   "metadata": {},
   "outputs": [],
   "source": [
    "# Poligonal da cidade no mapa\n",
    "limites = folium.features.GeoJson(fortall, style_function=lambda feature:{'color': 'black', 'weight': 2, 'fillOpacity':0.0})"
   ]
  },
  {
   "cell_type": "code",
   "execution_count": null,
   "id": "dfed19eb",
   "metadata": {},
   "outputs": [],
   "source": [
    "# Adicionando dados no mapa\n",
    "# mapa.add_child(mc)\n",
    "# mapa.add_child(limites)       "
   ]
  },
  {
   "cell_type": "code",
   "execution_count": null,
   "id": "5e172a7c",
   "metadata": {},
   "outputs": [],
   "source": [
    "# Salvar o nosso mapa em um arquivo html\n",
    "# mapa.save('validações_georreferenciadas.html')"
   ]
  },
  {
   "cell_type": "markdown",
   "id": "94a834fb",
   "metadata": {},
   "source": [
    "### 4.2.6 Mostrando dados no mapa de calor (Heatmap)"
   ]
  },
  {
   "cell_type": "code",
   "execution_count": null,
   "id": "bb213b8b",
   "metadata": {},
   "outputs": [],
   "source": [
    "# Importando a plugin HeatMap\n",
    "from folium.plugins import HeatMap"
   ]
  },
  {
   "cell_type": "code",
   "execution_count": null,
   "id": "c2033d24",
   "metadata": {},
   "outputs": [],
   "source": [
    "# Criando mapa II\n",
    "\n",
    "# mapa_2 = folium.Map(location=[media_lat, media_long]) \n",
    "\n",
    "# Criando heat_map\n",
    "# heat_map = HeatMap(mes_geo_fortal[['latitude', 'longitude']])     "
   ]
  },
  {
   "cell_type": "code",
   "execution_count": null,
   "id": "791b81af",
   "metadata": {},
   "outputs": [],
   "source": [
    "# Adicionando no map\n",
    "# mapa_2.add_child(heat_map)\n",
    "# mapa_2.add_child(limites)"
   ]
  },
  {
   "cell_type": "code",
   "execution_count": null,
   "id": "02d1a01c",
   "metadata": {},
   "outputs": [],
   "source": [
    "# Salvar o nosso mapa em um arquivo html\n",
    "# mapa_2.save('validações_georreferenciadas_Heatmap_calor.html')"
   ]
  },
  {
   "cell_type": "markdown",
   "id": "f5fcb3d4",
   "metadata": {},
   "source": [
    "# ------------------------------------------------------------------------"
   ]
  }
 ],
 "metadata": {
  "kernelspec": {
   "display_name": "Python 3 (ipykernel)",
   "language": "python",
   "name": "python3"
  },
  "language_info": {
   "codemirror_mode": {
    "name": "ipython",
    "version": 3
   },
   "file_extension": ".py",
   "mimetype": "text/x-python",
   "name": "python",
   "nbconvert_exporter": "python",
   "pygments_lexer": "ipython3",
   "version": "3.10.9"
  }
 },
 "nbformat": 4,
 "nbformat_minor": 5
}
