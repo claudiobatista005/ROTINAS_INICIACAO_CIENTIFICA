{
 "cells": [
  {
   "cell_type": "markdown",
   "id": "6e8f42f6",
   "metadata": {},
   "source": [
    "# Algoritmo: Agrupamento perfis de velocidades\n",
    "## Autor: Antônio Claudio Dutra Batista\n",
    "## Orientador: Francisco Moraes de Oliveria Neto\n",
    "## Metodologia: Agupamento de perfis de velocidades com consideração do tempo\n",
    "''' Os dados são de velocidade obtidas pela extração de informações do sistema de localização geografrica de veiculos em operação em um trecho de estudo e para tal situação se deseja identificar os perfis semelhantes considerando suas velocidades ao longo do tempo que tiveram aquele registro no GPS '''"
   ]
  },
  {
   "cell_type": "markdown",
   "id": "84ee82b1",
   "metadata": {},
   "source": [
    "# 1.0 Preparando dados para manipulação"
   ]
  },
  {
   "cell_type": "code",
   "execution_count": 136,
   "id": "87bf7e61",
   "metadata": {},
   "outputs": [],
   "source": [
    "# Importando bibliotecas necessárias\n",
    "import pandas as pd\n",
    "from sklearn.cluster import KMeans\n",
    "import matplotlib.pyplot as plt\n",
    "from sklearn.preprocessing import StandardScaler\n",
    "import numpy as np\n",
    "import seaborn as sns\n",
    " \n",
    "# Trazendo bases com dados de velocidades dos veiculos no trecho em estudo\n",
    "df1 = pd.read_excel('perfil01.xlsx')\n",
    "df2 = pd.read_excel('perfil02.xlsx')\n",
    "df3 = pd.read_excel('perfil03.xlsx')\n",
    "df4 = pd.read_excel('perfil04.xlsx')\n",
    "# df5 = pd.read_excel()\n",
    "# df6 = pd.read_excel()\n",
    "# df7 = pd.read_excel()\n",
    "# df8 = pd.read_excel()\n",
    "# df10 = pd.read_excel()"
   ]
  },
  {
   "cell_type": "code",
   "execution_count": 137,
   "id": "9b98acad",
   "metadata": {},
   "outputs": [],
   "source": [
    "# Concatenando os dataframes\n",
    "df_concatenado = pd.concat([df1['velocidade'], df2['velocidade'], df3['velocidade'], df4['velocidade']], axis=1)\n",
    "df_concatenado.columns = ['velocidade_df1', 'velocidade_df2', 'velocidade_df3', 'velocidade_df4']"
   ]
  },
  {
   "cell_type": "code",
   "execution_count": 138,
   "id": "05f7bd2f",
   "metadata": {},
   "outputs": [],
   "source": [
    "# Removendo os nulos \n",
    "df_concatenado.dropna(inplace=True)"
   ]
  },
  {
   "cell_type": "code",
   "execution_count": 139,
   "id": "2de4eb46",
   "metadata": {
    "scrolled": true
   },
   "outputs": [],
   "source": [
    "# Transpondo o DataFrame para que as colunas representem instâncias\n",
    "df_transposto = df_concatenado.T"
   ]
  },
  {
   "cell_type": "code",
   "execution_count": 140,
   "id": "1195b39b",
   "metadata": {},
   "outputs": [],
   "source": [
    "# Normalização das velocidades\n",
    "scaler = StandardScaler()\n",
    "df_normalizado = scaler.fit_transform(df_transposto)"
   ]
  },
  {
   "cell_type": "code",
   "execution_count": 141,
   "id": "0c84c7c0",
   "metadata": {
    "scrolled": true
   },
   "outputs": [
    {
     "data": {
      "text/plain": [
       "array([[-1.29141569, -0.77992119, -0.57735027, -0.53214917, -0.010779  ,\n",
       "        -0.07084277, -1.12789224, -1.63386154,  0.89066616,  1.73151371,\n",
       "        -1.51715566, -1.37718519, -0.66490041,  0.56283405, -0.78158655],\n",
       "       [-0.11840101, -0.84443495, -0.57735027, -0.08639342,  0.41978168,\n",
       "        -1.01388071, -0.86297062,  0.81776419,  0.97754473, -0.61723406,\n",
       "        -0.18068952,  1.40402603,  1.72949948, -0.61207219,  1.4963366 ],\n",
       "       [ 1.51867587,  1.63661307,  1.73205081,  1.63555482,  1.16298277,\n",
       "        -0.54821487,  1.0216357 ,  0.00261635, -1.43710352, -0.55110586,\n",
       "         0.51407123,  0.24320346, -0.52713301,  1.31057654,  0.31145433],\n",
       "       [-0.10885917, -0.01225693, -0.57735027, -1.01701223, -1.57198545,\n",
       "         1.63293835,  0.96922716,  0.81348101, -0.43110737, -0.56317379,\n",
       "         1.18377395, -0.27004429, -0.53746606, -1.26133841, -1.02620438]])"
      ]
     },
     "execution_count": 141,
     "metadata": {},
     "output_type": "execute_result"
    }
   ],
   "source": [
    "df_normalizado"
   ]
  },
  {
   "cell_type": "markdown",
   "id": "2c925c1c",
   "metadata": {},
   "source": [
    "## 1.1 Método do cotovelo (Elbow Method)\n",
    "''' Será utilizada essa técnica para encontrar o número ideal de clusters para aplicação do algoritmo de agrupamento! '''"
   ]
  },
  {
   "cell_type": "code",
   "execution_count": 102,
   "id": "3084f678",
   "metadata": {},
   "outputs": [],
   "source": [
    "# Importando bibliotecas necessarias para aplicação do metodo e visualização\n",
    "import numpy as np\n",
    "from sklearn.cluster import KMeans\n",
    "import matplotlib.pyplot as plt"
   ]
  },
  {
   "cell_type": "code",
   "execution_count": 103,
   "id": "879f73af",
   "metadata": {},
   "outputs": [],
   "source": [
    "# Lista para armazenar as distorções (soma dos quadrados intra-cluster) para cada número de clusters\n",
    "distortions = []\n",
    "\n",
    "# Número máximo de clusters que você deseja testar\n",
    "max_clusters = 4\n",
    "\n",
    "# Iterando sobre diferentes números de clusters e calculando as distorções\n",
    "for i in range(1, max_clusters + 1):\n",
    "    kmeans_colunas = KMeans(n_clusters=i, random_state=42)\n",
    "    kmeans_colunas.fit(df_transposto)\n",
    "    distortions.append(kmeans_colunas.inertia_)"
   ]
  },
  {
   "cell_type": "code",
   "execution_count": 104,
   "id": "5f2bf7d5",
   "metadata": {},
   "outputs": [
    {
     "data": {
      "image/png": "[encoded data removed]",
      "text/plain": [
       "<Figure size 432x288 with 1 Axes>"
      ]
     },
     "metadata": {
      "needs_background": "light"
     },
     "output_type": "display_data"
    }
   ],
   "source": [
    "# Plotando o gráfico do método do cotovelo\n",
    "plt.plot(range(1, max_clusters + 1), distortions, marker='o')\n",
    "plt.title('Método do Cotovelo')\n",
    "plt.xlabel('Número de Clusters')\n",
    "plt.ylabel('Distorção (Soma dos Quadrados Intra-Cluster)')\n",
    "plt.show()"
   ]
  },
  {
   "cell_type": "code",
   "execution_count": 105,
   "id": "b688cdbb",
   "metadata": {},
   "outputs": [
    {
     "data": {
      "text/plain": [
       "' O ponto ideal é onde ocorre uma distorção onde (inertia) começa a diminuir mais lentamente \"Que forma um cotovelo\" no gráfico'"
      ]
     },
     "execution_count": 105,
     "metadata": {},
     "output_type": "execute_result"
    }
   ],
   "source": [
    "''' O ponto ideal é onde ocorre uma distorção onde (inertia) começa a diminuir mais lentamente \"Que forma um cotovelo\" no gráfico'''"
   ]
  },
  {
   "cell_type": "markdown",
   "id": "3a0907ba",
   "metadata": {},
   "source": [
    "# 2.0 Aplicação do algoritimo de agrupamento (k-means)"
   ]
  },
  {
   "cell_type": "code",
   "execution_count": 106,
   "id": "349c86f4",
   "metadata": {},
   "outputs": [],
   "source": [
    "# Importando da biblioteca funções da biblioteca necessária\n",
    "from sklearn.preprocessing import StandardScaler\n",
    "import threadpoolctl"
   ]
  },
  {
   "cell_type": "code",
   "execution_count": 107,
   "id": "1af42c0d",
   "metadata": {},
   "outputs": [],
   "source": [
    "# Numero de clusters (k)\n",
    "k = 2 # Parametro de numeros de clusters que é necessário determinar o mais adequado!"
   ]
  },
  {
   "cell_type": "code",
   "execution_count": 108,
   "id": "451638c0",
   "metadata": {
    "scrolled": true
   },
   "outputs": [
    {
     "data": {
      "text/plain": [
       "' Olhar no grafico do Método do cotovelo o k mais ajustado! '"
      ]
     },
     "execution_count": 108,
     "metadata": {},
     "output_type": "execute_result"
    }
   ],
   "source": [
    "''' Olhar no grafico do Método do cotovelo o k mais ajustado! '''"
   ]
  },
  {
   "cell_type": "code",
   "execution_count": 109,
   "id": "dac70648",
   "metadata": {},
   "outputs": [],
   "source": [
    "# Aplicando o algoritimo (k-means)\n",
    "kmeans = KMeans(n_clusters=k, random_state=42)\n",
    "labels_colunas = kmeans_colunas.fit_predict(df_transposto)"
   ]
  },
  {
   "cell_type": "code",
   "execution_count": 114,
   "id": "e145a43f",
   "metadata": {},
   "outputs": [],
   "source": [
    "# Adicionando rótulos de cluster aos dados originais\n",
    "df_transposto['cluster'] = labels_colunas"
   ]
  },
  {
   "cell_type": "code",
   "execution_count": 116,
   "id": "f8aa6aaf",
   "metadata": {},
   "outputs": [],
   "source": [
    "df_resultado = df_transposto.T"
   ]
  },
  {
   "cell_type": "code",
   "execution_count": 117,
   "id": "558cb528",
   "metadata": {
    "scrolled": false
   },
   "outputs": [
    {
     "data": {
      "text/html": [
       "<div>\n",
       "<style scoped>\n",
       "    .dataframe tbody tr th:only-of-type {\n",
       "        vertical-align: middle;\n",
       "    }\n",
       "\n",
       "    .dataframe tbody tr th {\n",
       "        vertical-align: top;\n",
       "    }\n",
       "\n",
       "    .dataframe thead th {\n",
       "        text-align: right;\n",
       "    }\n",
       "</style>\n",
       "<table border=\"1\" class=\"dataframe\">\n",
       "  <thead>\n",
       "    <tr style=\"text-align: right;\">\n",
       "      <th></th>\n",
       "      <th>velocidade_df1</th>\n",
       "      <th>velocidade_df2</th>\n",
       "      <th>velocidade_df3</th>\n",
       "      <th>velocidade_df4</th>\n",
       "    </tr>\n",
       "  </thead>\n",
       "  <tbody>\n",
       "    <tr>\n",
       "      <th>1</th>\n",
       "      <td>4.845798</td>\n",
       "      <td>5.887912</td>\n",
       "      <td>7.342302</td>\n",
       "      <td>5.896389</td>\n",
       "    </tr>\n",
       "    <tr>\n",
       "      <th>2</th>\n",
       "      <td>0.641539</td>\n",
       "      <td>0.583193</td>\n",
       "      <td>2.827034</td>\n",
       "      <td>1.335808</td>\n",
       "    </tr>\n",
       "    <tr>\n",
       "      <th>3</th>\n",
       "      <td>0.000000</td>\n",
       "      <td>0.000000</td>\n",
       "      <td>14.444613</td>\n",
       "      <td>0.000000</td>\n",
       "    </tr>\n",
       "    <tr>\n",
       "      <th>4</th>\n",
       "      <td>2.898226</td>\n",
       "      <td>5.562692</td>\n",
       "      <td>15.855485</td>\n",
       "      <td>0.000000</td>\n",
       "    </tr>\n",
       "    <tr>\n",
       "      <th>5</th>\n",
       "      <td>9.841014</td>\n",
       "      <td>11.995305</td>\n",
       "      <td>15.713880</td>\n",
       "      <td>2.029584</td>\n",
       "    </tr>\n",
       "    <tr>\n",
       "      <th>6</th>\n",
       "      <td>6.829941</td>\n",
       "      <td>3.373768</td>\n",
       "      <td>5.080403</td>\n",
       "      <td>13.074188</td>\n",
       "    </tr>\n",
       "    <tr>\n",
       "      <th>7</th>\n",
       "      <td>0.998620</td>\n",
       "      <td>2.046520</td>\n",
       "      <td>9.501105</td>\n",
       "      <td>9.293802</td>\n",
       "    </tr>\n",
       "    <tr>\n",
       "      <th>8</th>\n",
       "      <td>0.005542</td>\n",
       "      <td>11.720714</td>\n",
       "      <td>7.825504</td>\n",
       "      <td>11.700247</td>\n",
       "    </tr>\n",
       "    <tr>\n",
       "      <th>9</th>\n",
       "      <td>3.332143</td>\n",
       "      <td>3.455970</td>\n",
       "      <td>0.014385</td>\n",
       "      <td>1.448226</td>\n",
       "    </tr>\n",
       "    <tr>\n",
       "      <th>10</th>\n",
       "      <td>10.881867</td>\n",
       "      <td>0.412006</td>\n",
       "      <td>0.706782</td>\n",
       "      <td>0.652987</td>\n",
       "    </tr>\n",
       "    <tr>\n",
       "      <th>11</th>\n",
       "      <td>3.258221</td>\n",
       "      <td>7.157564</td>\n",
       "      <td>9.184633</td>\n",
       "      <td>11.138593</td>\n",
       "    </tr>\n",
       "    <tr>\n",
       "      <th>12</th>\n",
       "      <td>0.011777</td>\n",
       "      <td>18.859568</td>\n",
       "      <td>10.992873</td>\n",
       "      <td>7.514681</td>\n",
       "    </tr>\n",
       "    <tr>\n",
       "      <th>13</th>\n",
       "      <td>0.713072</td>\n",
       "      <td>10.930814</td>\n",
       "      <td>1.300974</td>\n",
       "      <td>1.256879</td>\n",
       "    </tr>\n",
       "    <tr>\n",
       "      <th>14</th>\n",
       "      <td>6.414584</td>\n",
       "      <td>2.863469</td>\n",
       "      <td>8.674611</td>\n",
       "      <td>0.901084</td>\n",
       "    </tr>\n",
       "    <tr>\n",
       "      <th>15</th>\n",
       "      <td>1.162422</td>\n",
       "      <td>11.855649</td>\n",
       "      <td>6.293471</td>\n",
       "      <td>0.014115</td>\n",
       "    </tr>\n",
       "    <tr>\n",
       "      <th>cluster</th>\n",
       "      <td>2.000000</td>\n",
       "      <td>0.000000</td>\n",
       "      <td>3.000000</td>\n",
       "      <td>1.000000</td>\n",
       "    </tr>\n",
       "  </tbody>\n",
       "</table>\n",
       "</div>"
      ],
      "text/plain": [
       "         velocidade_df1  velocidade_df2  velocidade_df3  velocidade_df4\n",
       "1              4.845798        5.887912        7.342302        5.896389\n",
       "2              0.641539        0.583193        2.827034        1.335808\n",
       "3              0.000000        0.000000       14.444613        0.000000\n",
       "4              2.898226        5.562692       15.855485        0.000000\n",
       "5              9.841014       11.995305       15.713880        2.029584\n",
       "6              6.829941        3.373768        5.080403       13.074188\n",
       "7              0.998620        2.046520        9.501105        9.293802\n",
       "8              0.005542       11.720714        7.825504       11.700247\n",
       "9              3.332143        3.455970        0.014385        1.448226\n",
       "10            10.881867        0.412006        0.706782        0.652987\n",
       "11             3.258221        7.157564        9.184633       11.138593\n",
       "12             0.011777       18.859568       10.992873        7.514681\n",
       "13             0.713072       10.930814        1.300974        1.256879\n",
       "14             6.414584        2.863469        8.674611        0.901084\n",
       "15             1.162422       11.855649        6.293471        0.014115\n",
       "cluster        2.000000        0.000000        3.000000        1.000000"
      ]
     },
     "execution_count": 117,
     "metadata": {},
     "output_type": "execute_result"
    }
   ],
   "source": [
    "# Exibindo reultado \n",
    "df_resultado"
   ]
  },
  {
   "cell_type": "code",
   "execution_count": 120,
   "id": "384ea7d8",
   "metadata": {},
   "outputs": [
    {
     "data": {
      "text/plain": [
       "' ÚLTIMA LINHA SÃO OS CLUSTERS IDENTIFICADOS! '"
      ]
     },
     "execution_count": 120,
     "metadata": {},
     "output_type": "execute_result"
    }
   ],
   "source": [
    "''' ÚLTIMA LINHA SÃO OS CLUSTERS IDENTIFICADOS! '''"
   ]
  },
  {
   "cell_type": "markdown",
   "id": "0a1a99ac",
   "metadata": {},
   "source": [
    "## 2.1 Visualização dos clusters identificados"
   ]
  },
  {
   "cell_type": "code",
   "execution_count": 131,
   "id": "815be6b3",
   "metadata": {},
   "outputs": [
    {
     "data": {
      "image/png": "[encoded data removed]",
      "text/plain": [
       "<Figure size 432x288 with 1 Axes>"
      ]
     },
     "metadata": {
      "needs_background": "light"
     },
     "output_type": "display_data"
    }
   ],
   "source": [
    "# Visualização dos clusters\n",
    "# Removendo a última linha que contém os rótulos de cluster para visualização\n",
    "df_resultado_sem_clusters = df_resultado.iloc[:-1]\n",
    "\n",
    "# Obtendo os rótulos de cluster da última linha\n",
    "rótulos_cluster = df_resultado.iloc[-1, :]\n",
    "\n",
    "# Iterando sobre cada coluna, plotando e identificando pelo número do cluster\n",
    "for coluna in df_resultado_sem_clusters.columns:\n",
    "    plt.scatter(df_resultado_sem_clusters.index, df_resultado_sem_clusters[coluna], label=f'Coluna {coluna} - Cluster {rótulos_cluster[coluna]}')\n",
    "\n",
    "plt.title('Clusters por Coluna')\n",
    "plt.xlabel('Índice')\n",
    "plt.ylabel('Velocidades')\n",
    "plt.legend()\n",
    "plt.show()"
   ]
  },
  {
   "cell_type": "markdown",
   "id": "f5fcb3d4",
   "metadata": {},
   "source": [
    "# ---------------------------------------------------------------------"
   ]
  }
 ],
 "metadata": {
  "kernelspec": {
   "display_name": "Python 3 (ipykernel)",
   "language": "python",
   "name": "python3"
  },
  "language_info": {
   "codemirror_mode": {
    "name": "ipython",
    "version": 3
   },
   "file_extension": ".py",
   "mimetype": "text/x-python",
   "name": "python",
   "nbconvert_exporter": "python",
   "pygments_lexer": "ipython3",
   "version": "3.9.12"
  }
 },
 "nbformat": 4,
 "nbformat_minor": 5
}
