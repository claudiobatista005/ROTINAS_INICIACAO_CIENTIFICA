{
 "cells": [
  {
   "cell_type": "markdown",
   "id": "4c29b47f",
   "metadata": {},
   "source": [
    "# Algoritmo - Inspeção Bilhetagem (2023)\n",
    "### _Autor: Antônio Claudio Dutra Batista_\n",
    "### _Orientador: Francisco Moraes de Oliveria Neto_\n",
    "### _Metodologia: Carregamento e inSpeção de informações da bilhetagem (xml)_"
   ]
  },
  {
   "cell_type": "markdown",
   "id": "0d3152ac",
   "metadata": {},
   "source": [
    "# 1.0  Leitura da Base"
   ]
  },
  {
   "cell_type": "markdown",
   "id": "53c75e45",
   "metadata": {},
   "source": [
    "## 1.1 Bilhetagem (Tratamento Inicial)"
   ]
  },
  {
   "cell_type": "code",
   "execution_count": null,
   "id": "3a2bcb8a",
   "metadata": {},
   "outputs": [],
   "source": [
    "# Carregando bibliotecas e plugins necessários \n",
    "import pandas as pd\n",
    "import xml.etree.ElementTree as ET"
   ]
  },
  {
   "cell_type": "code",
   "execution_count": null,
   "id": "04c779b7",
   "metadata": {},
   "outputs": [],
   "source": [
    "# Parse do XML\n",
    "tree = ET.parse('V20231107.xml')\n",
    "root = tree.getroot()"
   ]
  },
  {
   "cell_type": "code",
   "execution_count": null,
   "id": "ee99c0d3",
   "metadata": {},
   "outputs": [],
   "source": [
    "# Lista para armazenar os dados\n",
    "data = []\n",
    "\n",
    "# Conjunto para rastrear as passagens já adicionadas\n",
    "passageiros_adicionados = set()\n",
    "\n",
    "# Iterando sobre os elementos do XML\n",
    "for movimento_diario in root.findall('.//MovimentoDiario'):\n",
    "    for empresa in movimento_diario.findall('.//Empresa'):\n",
    "        veiculo = empresa.find('.//Veiculo')\n",
    "        veiculo_data = {\n",
    "            'veiculo_Numero': veiculo.get('Numero') if veiculo is not None else None,\n",
    "            'veiculo_validador': veiculo.get('validador') if veiculo is not None else None\n",
    "        }\n",
    "        \n",
    "        for linha in empresa.findall('.//Linha'):\n",
    "            linha_data = {\n",
    "                'linha_Numero': linha.get('Numero'),\n",
    "                'linha_jornada': linha.get('jornada'),\n",
    "                'linha_num_operador': linha.get('num_operador'),\n",
    "                'linha_tabela': linha.get('tabela'),\n",
    "                'linha_hora_abertura': linha.get('hora_abertura'),\n",
    "                'linha_hora_fechamento': linha.get('hora_fechamento'),\n",
    "                'veiculo_Numero': veiculo_data['veiculo_Numero'],\n",
    "                'veiculo_validador': veiculo_data['veiculo_validador']\n",
    "            }\n",
    "\n",
    "            for viagem in linha.findall('.//Viagem'):\n",
    "                for passageiro in viagem.findall('.//Passageiro'):\n",
    "                    passageiro_data = (\n",
    "                        passageiro.get('data_hora'),\n",
    "                        passageiro.get('integracao_bum'),\n",
    "                        passageiro.get('valor_subsidio'),\n",
    "                        passageiro.get('evento'),\n",
    "                        passageiro.get('sigben'),\n",
    "                        passageiro.get('integracao'),\n",
    "                        passageiro.get('valor_pago'),\n",
    "                        passageiro.get('tipo'),\n",
    "                        passageiro.get('Matricula'),\n",
    "                        passageiro.get('valor_repasse_metro'),\n",
    "                        passageiro.get('latitude'),\n",
    "                        passageiro.get('longitude'),\n",
    "                        linha.get('Numero'),\n",
    "                        linha.get('jornada'),\n",
    "                        linha.get('num_operador'),\n",
    "                        linha.get('tabela'),\n",
    "                        linha.get('hora_abertura'),\n",
    "                        linha.get('hora_fechamento'),\n",
    "                        veiculo_data['veiculo_Numero'],\n",
    "                        veiculo_data['veiculo_validador']\n",
    "                    )\n",
    "                    if passageiro_data not in passageiros_adicionados:\n",
    "                        passageiros_adicionados.add(passageiro_data)\n",
    "                        data.append({\n",
    "                            'passageiro_data_hora': passageiro.get('data_hora'),\n",
    "                            'passageiro_integracao_bum': passageiro.get('integracao_bum'),\n",
    "                            'passageiro_valor_subsidio': passageiro.get('valor_subsidio'),\n",
    "                            'passageiro_evento': passageiro.get('evento'),\n",
    "                            'passageiro_sigben': passageiro.get('sigben'),\n",
    "                            'passageiro_integracao': passageiro.get('integracao'),\n",
    "                            'passageiro_valor_pago': passageiro.get('valor_pago'),\n",
    "                            'passageiro_tipo': passageiro.get('tipo'),\n",
    "                            'passageiro_Matricula': passageiro.get('Matricula'),\n",
    "                            'passageiro_valor_repasse_metro': passageiro.get('valor_repasse_metro'),\n",
    "                            'passageiro_latitude': passageiro.get('latitude'),\n",
    "                            'passageiro_longitude': passageiro.get('longitude'),\n",
    "                            'linha_Numero': linha.get('Numero'),\n",
    "                            'linha_jornada': linha.get('jornada'),\n",
    "                            'linha_num_operador': linha.get('num_operador'),\n",
    "                            'linha_tabela': linha.get('tabela'),\n",
    "                            'linha_hora_abertura': linha.get('hora_abertura'),\n",
    "                            'linha_hora_fechamento': linha.get('hora_fechamento'),\n",
    "                            'veiculo_Numero': veiculo_data['veiculo_Numero'],\n",
    "                            'veiculo_validador': veiculo_data['veiculo_validador']\n",
    "                        })"
   ]
  },
  {
   "cell_type": "code",
   "execution_count": null,
   "id": "3ef11c78",
   "metadata": {},
   "outputs": [],
   "source": [
    "# Criando df\n",
    "bilhetagem = pd.DataFrame(data)"
   ]
  },
  {
   "cell_type": "code",
   "execution_count": null,
   "id": "5130ed56",
   "metadata": {},
   "outputs": [],
   "source": [
    "bilhetagem"
   ]
  },
  {
   "cell_type": "code",
   "execution_count": null,
   "id": "cbdf2b31",
   "metadata": {},
   "outputs": [],
   "source": [
    "# Convertendo inicialmente data para manipulação \n",
    "bilhetagem['passageiro_data_hora'] = pd.to_datetime(bilhetagem['passageiro_data_hora'])"
   ]
  },
  {
   "cell_type": "code",
   "execution_count": null,
   "id": "e5b2d5ce",
   "metadata": {},
   "outputs": [],
   "source": [
    "# Verificando dados nulos \n",
    "bilhetagem.isnull().sum()"
   ]
  },
  {
   "cell_type": "code",
   "execution_count": null,
   "id": "904dc609",
   "metadata": {
    "scrolled": true
   },
   "outputs": [],
   "source": [
    "''' OU SEJA, NÃO HÁ INFORMAÇÕES NULAS DE NENHUMA VALIDAÇÃO E NEM DE DADOS DOS VEICULOS E DAS LIHHAS UTILIZADAS PELOS USUARIOS! '''"
   ]
  },
  {
   "cell_type": "markdown",
   "id": "771636a2",
   "metadata": {},
   "source": [
    "## 1.2 Inspeção inicial"
   ]
  },
  {
   "cell_type": "code",
   "execution_count": null,
   "id": "207b9091",
   "metadata": {
    "scrolled": false
   },
   "outputs": [],
   "source": [
    "# Informações da base\n",
    "bilhetagem.info()"
   ]
  },
  {
   "cell_type": "code",
   "execution_count": null,
   "id": "17013c9c",
   "metadata": {},
   "outputs": [],
   "source": [
    "''' POR INSPEÇÃO FOI CONSTATADO QUE EXISTEM DADOS DE LAT E LONG VAZIOS!'''"
   ]
  },
  {
   "cell_type": "code",
   "execution_count": null,
   "id": "7cd03ff5",
   "metadata": {},
   "outputs": [],
   "source": [
    "# Filtrando as linhas do DATAFRAME onde a coluna passageiro_latitude tem valores vazios\n",
    "lat_long_vazios = bilhetagem[bilhetagem['passageiro_latitude'] == '']\n",
    "lat_long_vazios"
   ]
  },
  {
   "cell_type": "code",
   "execution_count": null,
   "id": "030ff1d3",
   "metadata": {
    "scrolled": true
   },
   "outputs": [],
   "source": [
    "# VERIFICANDO AS LINHAS DE ONIBUS DOS DADOS SEM INFORMAÇÕES GEOMETRICAS \n",
    "lat_long_vazios['linha_Numero'].unique()"
   ]
  },
  {
   "cell_type": "code",
   "execution_count": null,
   "id": "733fbc0a",
   "metadata": {},
   "outputs": [],
   "source": [
    "''' SE DEVE TER UMA OU MAIS ABORDAGENS DE GEORREFERENCIAMENTO DESSAS VALIDAÇÕES SEM LAT E LONG! '''"
   ]
  },
  {
   "cell_type": "markdown",
   "id": "13def9d6",
   "metadata": {},
   "source": [
    "## 1.3 Verificação de validações em trecho de interesse\n",
    "    ''' como uma parcela das validações tem valores de latitude e longitude vazios, a princípio vamos analisar somente aqueles que têm essas informações presentes na base! '''"
   ]
  },
  {
   "cell_type": "code",
   "execution_count": null,
   "id": "a07f7873",
   "metadata": {},
   "outputs": [],
   "source": [
    "# Filtrando somente os dados que tem informações gemetricas \n",
    "bilhetagem_geo = bilhetagem[~bilhetagem['passageiro_latitude'].isin(lat_long_vazios['passageiro_latitude'])]"
   ]
  },
  {
   "cell_type": "code",
   "execution_count": null,
   "id": "1197afc7",
   "metadata": {},
   "outputs": [],
   "source": [
    "bilhetagem_geo"
   ]
  },
  {
   "cell_type": "code",
   "execution_count": null,
   "id": "88a41693",
   "metadata": {},
   "outputs": [],
   "source": [
    "# Convertendo dados de lat e long para float \n",
    "bilhetagem_geo['passageiro_latitude'] = bilhetagem_geo['passageiro_latitude'].astype('float')\n",
    "bilhetagem_geo['passageiro_longitude'] = bilhetagem_geo['passageiro_longitude'].astype('float')"
   ]
  },
  {
   "cell_type": "code",
   "execution_count": null,
   "id": "ab926125",
   "metadata": {},
   "outputs": [],
   "source": [
    "# FILTRANDO DADOS DO VECIULO EM TRECHO ESPECIFICO\n",
    "bilhetagem_trecho = bilhetagem_geo[(bilhetagem_geo.passageiro_latitude>=-3.73667)\n",
    "    & (bilhetagem_geo.passageiro_longitude>=-38.56944) & (bilhetagem_geo.passageiro_longitude<=-38.54167)\n",
    "                                & (bilhetagem_geo.passageiro_latitude<=-3.73083)]"
   ]
  },
  {
   "cell_type": "code",
   "execution_count": null,
   "id": "d9a1027f",
   "metadata": {
    "scrolled": false
   },
   "outputs": [],
   "source": [
    "bilhetagem_trecho"
   ]
  },
  {
   "cell_type": "code",
   "execution_count": null,
   "id": "82799264",
   "metadata": {},
   "outputs": [],
   "source": [
    "# LINHAS NESSA REGIÃO\n",
    "bilhetagem_trecho['linha_Numero'].unique()"
   ]
  },
  {
   "cell_type": "code",
   "execution_count": null,
   "id": "5b3a3d3a",
   "metadata": {},
   "outputs": [],
   "source": [
    "# filtrando dados de linhas especifica \n",
    "linha = bilhetagem_trecho[bilhetagem_trecho.linha_Numero=='28']"
   ]
  },
  {
   "cell_type": "code",
   "execution_count": null,
   "id": "089e260a",
   "metadata": {},
   "outputs": [],
   "source": [
    "# Veiculos da linha filtrada que tiveram validações nessa região\n",
    "linha['veiculo_Numero'].unique()"
   ]
  },
  {
   "cell_type": "code",
   "execution_count": null,
   "id": "6d2a6c7f",
   "metadata": {},
   "outputs": [],
   "source": [
    "linha # Validações da linha filtrada!"
   ]
  },
  {
   "cell_type": "code",
   "execution_count": null,
   "id": "75b8f6e6",
   "metadata": {},
   "outputs": [],
   "source": [
    "# FILTRANDO HORARIO E VEICULO ESPECIFICO\n",
    "linha_horario = linha[(linha.veiculo_Numero=='35025') & (linha.passageiro_data_hora>='2023-11-06 06:40:00')\n",
    "                      & (linha.passageiro_data_hora<='2023-11-06 07:00:00')]"
   ]
  },
  {
   "cell_type": "code",
   "execution_count": null,
   "id": "ddbbeba9",
   "metadata": {
    "scrolled": false
   },
   "outputs": [],
   "source": [
    "linha_horario"
   ]
  },
  {
   "cell_type": "code",
   "execution_count": null,
   "id": "a3e85500",
   "metadata": {},
   "outputs": [],
   "source": [
    "lat = linha_horario['passageiro_latitude'].mean()\n",
    "lon = linha_horario['passageiro_longitude'].mean()"
   ]
  },
  {
   "cell_type": "code",
   "execution_count": null,
   "id": "c3e9ded5",
   "metadata": {},
   "outputs": [],
   "source": [
    "# Criando um mapa centrado em FORTALEZA\n",
    "import folium\n",
    "from folium.plugins import MarkerCluster\n",
    "\n",
    "mapa = folium.Map(location=[lat, lon], zoom_start=5)\n",
    "\n",
    "# Adicionando marcadores circulares ao mapa\n",
    "marker_cluster = MarkerCluster().add_to(mapa)\n",
    "\n",
    "def popup_content(id_veiculo, id_veiculo_clicado):\n",
    "    cor_popup = 'blue' if id_veiculo != id_veiculo_clicado else 'red'\n",
    "    return f'<div style=\"color: {cor_popup};\">{id_veiculo}</div>'\n",
    "\n",
    "for index, row in linha_horario.iterrows():\n",
    "    folium.CircleMarker(location=[row['passageiro_latitude'], row['passageiro_longitude']],\n",
    "                        radius=10,\n",
    "                        color='blue',\n",
    "                        fill=True,\n",
    "                        fill_color='green',\n",
    "                        fill_opacity=0.6,\n",
    "                        popup=folium.Popup(popup_content(row['passageiro_data_hora'], ''), max_width=3)).add_to(marker_cluster)"
   ]
  },
  {
   "cell_type": "code",
   "execution_count": null,
   "id": "35b487ec",
   "metadata": {
    "scrolled": false
   },
   "outputs": [],
   "source": [
    "mapa"
   ]
  },
  {
   "cell_type": "markdown",
   "id": "f5fcb3d4",
   "metadata": {},
   "source": [
    "# ------------------------------------------------------------------------"
   ]
  }
 ],
 "metadata": {
  "kernelspec": {
   "display_name": "Python 3 (ipykernel)",
   "language": "python",
   "name": "python3"
  },
  "language_info": {
   "codemirror_mode": {
    "name": "ipython",
    "version": 3
   },
   "file_extension": ".py",
   "mimetype": "text/x-python",
   "name": "python",
   "nbconvert_exporter": "python",
   "pygments_lexer": "ipython3",
   "version": "3.9.12"
  }
 },
 "nbformat": 4,
 "nbformat_minor": 5
}
